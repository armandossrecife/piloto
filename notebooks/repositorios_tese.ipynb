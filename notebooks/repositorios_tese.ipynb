{
  "nbformat": 4,
  "nbformat_minor": 0,
  "metadata": {
    "colab": {
      "provenance": [],
      "authorship_tag": "ABX9TyPVA44t72rCLZKoZ/QT8lXL",
      "include_colab_link": true
    },
    "kernelspec": {
      "name": "python3",
      "display_name": "Python 3"
    },
    "language_info": {
      "name": "python"
    }
  },
  "cells": [
    {
      "cell_type": "markdown",
      "metadata": {
        "id": "view-in-github",
        "colab_type": "text"
      },
      "source": [
        "<a href=\"https://colab.research.google.com/github/armandossrecife/piloto/blob/main/repositorios_tese.ipynb\" target=\"_parent\"><img src=\"https://colab.research.google.com/assets/colab-badge.svg\" alt=\"Open In Colab\"/></a>"
      ]
    },
    {
      "cell_type": "markdown",
      "source": [
        "Dependências"
      ],
      "metadata": {
        "id": "02QEyUVai6yr"
      }
    },
    {
      "cell_type": "code",
      "source": [
        "!sudo apt update"
      ],
      "metadata": {
        "id": "yEfcFSKLi9cO",
        "outputId": "efb27aab-9002-4025-d080-58cc9ae530fa",
        "colab": {
          "base_uri": "https://localhost:8080/"
        }
      },
      "execution_count": null,
      "outputs": [
        {
          "output_type": "stream",
          "name": "stdout",
          "text": [
            "\u001b[33m\r0% [Working]\u001b[0m\r            \rGet:1 https://developer.download.nvidia.com/compute/cuda/repos/ubuntu2204/x86_64  InRelease [1,581 B]\n",
            "\u001b[33m\r0% [Waiting for headers] [Waiting for headers] [Waiting for headers] [Connected\u001b[0m\r                                                                               \rGet:2 https://cloud.r-project.org/bin/linux/ubuntu jammy-cran40/ InRelease [3,626 B]\n",
            "\u001b[33m\r0% [Waiting for headers] [Waiting for headers] [2 InRelease 3,626 B/3,626 B 100\u001b[0m\u001b[33m\r0% [Waiting for headers] [Waiting for headers] [2 InRelease 3,626 B/3,626 B 100\u001b[0m\u001b[33m\r0% [Waiting for headers] [Waiting for headers] [Connected to ppa.launchpadconte\u001b[0m\r                                                                               \rGet:3 http://security.ubuntu.com/ubuntu jammy-security InRelease [110 kB]\n",
            "Hit:4 http://archive.ubuntu.com/ubuntu jammy InRelease\n",
            "Get:5 http://archive.ubuntu.com/ubuntu jammy-updates InRelease [119 kB]\n",
            "Get:6 https://developer.download.nvidia.com/compute/cuda/repos/ubuntu2204/x86_64  Packages [458 kB]\n",
            "Hit:7 https://ppa.launchpadcontent.net/c2d4u.team/c2d4u4.0+/ubuntu jammy InRelease\n",
            "Get:8 http://archive.ubuntu.com/ubuntu jammy-backports InRelease [109 kB]\n",
            "Hit:9 https://ppa.launchpadcontent.net/deadsnakes/ppa/ubuntu jammy InRelease\n",
            "Get:10 http://security.ubuntu.com/ubuntu jammy-security/main amd64 Packages [860 kB]\n",
            "Get:11 http://archive.ubuntu.com/ubuntu jammy-updates/universe amd64 Packages [1,241 kB]\n",
            "Hit:12 https://ppa.launchpadcontent.net/graphics-drivers/ppa/ubuntu jammy InRelease\n",
            "Get:13 http://security.ubuntu.com/ubuntu jammy-security/universe amd64 Packages [980 kB]\n",
            "Get:14 http://archive.ubuntu.com/ubuntu jammy-updates/main amd64 Packages [1,136 kB]\n",
            "Hit:15 https://ppa.launchpadcontent.net/ubuntugis/ppa/ubuntu jammy InRelease\n",
            "Fetched 5,017 kB in 2s (2,369 kB/s)\n",
            "Reading package lists... Done\n",
            "Building dependency tree... Done\n",
            "Reading state information... Done\n",
            "20 packages can be upgraded. Run 'apt list --upgradable' to see them.\n"
          ]
        }
      ]
    },
    {
      "cell_type": "code",
      "source": [
        "!sudo apt -y install cloc"
      ],
      "metadata": {
        "id": "YZATb3Nzi_4W",
        "outputId": "d23b2da8-1d7a-431b-97bf-4f4730966c10",
        "colab": {
          "base_uri": "https://localhost:8080/"
        }
      },
      "execution_count": null,
      "outputs": [
        {
          "output_type": "stream",
          "name": "stdout",
          "text": [
            "Reading package lists... Done\n",
            "Building dependency tree... Done\n",
            "Reading state information... Done\n",
            "The following additional packages will be installed:\n",
            "  libalgorithm-diff-perl libalgorithm-diff-xs-perl libb-hooks-endofscope-perl\n",
            "  libb-hooks-op-check-perl libclass-method-modifiers-perl\n",
            "  libclass-xsaccessor-perl libdevel-callchecker-perl\n",
            "  libdynaloader-functions-perl libimport-into-perl\n",
            "  libmodule-implementation-perl libmodule-runtime-perl libmoo-perl\n",
            "  libnamespace-clean-perl libpackage-stash-perl libpackage-stash-xs-perl\n",
            "  libparallel-forkmanager-perl libparams-classify-perl libregexp-common-perl\n",
            "  librole-tiny-perl libsub-exporter-progressive-perl libsub-identify-perl\n",
            "  libsub-name-perl libsub-quote-perl libtry-tiny-perl libvariable-magic-perl\n",
            "Suggested packages:\n",
            "  libscalar-number-perl\n",
            "The following NEW packages will be installed:\n",
            "  cloc libalgorithm-diff-perl libalgorithm-diff-xs-perl\n",
            "  libb-hooks-endofscope-perl libb-hooks-op-check-perl\n",
            "  libclass-method-modifiers-perl libclass-xsaccessor-perl\n",
            "  libdevel-callchecker-perl libdynaloader-functions-perl libimport-into-perl\n",
            "  libmodule-implementation-perl libmodule-runtime-perl libmoo-perl\n",
            "  libnamespace-clean-perl libpackage-stash-perl libpackage-stash-xs-perl\n",
            "  libparallel-forkmanager-perl libparams-classify-perl libregexp-common-perl\n",
            "  librole-tiny-perl libsub-exporter-progressive-perl libsub-identify-perl\n",
            "  libsub-name-perl libsub-quote-perl libtry-tiny-perl libvariable-magic-perl\n",
            "0 upgraded, 26 newly installed, 0 to remove and 20 not upgraded.\n",
            "Need to get 744 kB of archives.\n",
            "After this operation, 2,609 kB of additional disk space will be used.\n",
            "Get:1 http://archive.ubuntu.com/ubuntu jammy/main amd64 libalgorithm-diff-perl all 1.201-1 [41.8 kB]\n",
            "Get:2 http://archive.ubuntu.com/ubuntu jammy/main amd64 libclass-method-modifiers-perl all 2.13-1 [16.2 kB]\n",
            "Get:3 http://archive.ubuntu.com/ubuntu jammy/main amd64 libclass-xsaccessor-perl amd64 1.19-3build9 [34.1 kB]\n",
            "Get:4 http://archive.ubuntu.com/ubuntu jammy/main amd64 libb-hooks-op-check-perl amd64 0.22-1build5 [10.3 kB]\n",
            "Get:5 http://archive.ubuntu.com/ubuntu jammy/main amd64 libdynaloader-functions-perl all 0.003-1.1 [12.1 kB]\n",
            "Get:6 http://archive.ubuntu.com/ubuntu jammy/main amd64 libdevel-callchecker-perl amd64 0.008-1ubuntu4 [14.9 kB]\n",
            "Get:7 http://archive.ubuntu.com/ubuntu jammy/main amd64 libparams-classify-perl amd64 0.015-1build5 [22.0 kB]\n",
            "Get:8 http://archive.ubuntu.com/ubuntu jammy/main amd64 libmodule-runtime-perl all 0.016-1 [16.2 kB]\n",
            "Get:9 http://archive.ubuntu.com/ubuntu jammy/main amd64 libimport-into-perl all 1.002005-1 [11.0 kB]\n",
            "Get:10 http://archive.ubuntu.com/ubuntu jammy/main amd64 librole-tiny-perl all 2.002004-1 [16.3 kB]\n",
            "Get:11 http://archive.ubuntu.com/ubuntu jammy/main amd64 libsub-quote-perl all 2.006006-1 [19.5 kB]\n",
            "Get:12 http://archive.ubuntu.com/ubuntu jammy/main amd64 libmoo-perl all 2.005004-3 [48.0 kB]\n",
            "Get:13 http://archive.ubuntu.com/ubuntu jammy/universe amd64 libparallel-forkmanager-perl all 2.02-1 [27.7 kB]\n",
            "Get:14 http://archive.ubuntu.com/ubuntu jammy/universe amd64 libregexp-common-perl all 2017060201-1 [168 kB]\n",
            "Get:15 http://archive.ubuntu.com/ubuntu jammy/universe amd64 cloc all 1.90-1 [106 kB]\n",
            "Get:16 http://archive.ubuntu.com/ubuntu jammy/main amd64 libalgorithm-diff-xs-perl amd64 0.04-6build3 [11.9 kB]\n",
            "Get:17 http://archive.ubuntu.com/ubuntu jammy/main amd64 libtry-tiny-perl all 0.31-1 [21.8 kB]\n",
            "Get:18 http://archive.ubuntu.com/ubuntu jammy/main amd64 libmodule-implementation-perl all 0.09-1.1 [11.6 kB]\n",
            "Get:19 http://archive.ubuntu.com/ubuntu jammy/main amd64 libsub-exporter-progressive-perl all 0.001013-1 [6,784 B]\n",
            "Get:20 http://archive.ubuntu.com/ubuntu jammy/main amd64 libvariable-magic-perl amd64 0.62-1build5 [35.9 kB]\n",
            "Get:21 http://archive.ubuntu.com/ubuntu jammy/main amd64 libb-hooks-endofscope-perl all 0.25-1 [17.8 kB]\n",
            "Get:22 http://archive.ubuntu.com/ubuntu jammy/main amd64 libpackage-stash-perl all 0.39-1 [19.1 kB]\n",
            "Get:23 http://archive.ubuntu.com/ubuntu jammy/main amd64 libsub-identify-perl amd64 0.14-1build5 [10.4 kB]\n",
            "Get:24 http://archive.ubuntu.com/ubuntu jammy/main amd64 libsub-name-perl amd64 0.26-1build3 [11.4 kB]\n",
            "Get:25 http://archive.ubuntu.com/ubuntu jammy/main amd64 libnamespace-clean-perl all 0.27-1 [13.6 kB]\n",
            "Get:26 http://archive.ubuntu.com/ubuntu jammy/main amd64 libpackage-stash-xs-perl amd64 0.29-1build5 [19.4 kB]\n",
            "Fetched 744 kB in 2s (401 kB/s)\n",
            "debconf: unable to initialize frontend: Dialog\n",
            "debconf: (No usable dialog-like program is installed, so the dialog based frontend cannot be used. at /usr/share/perl5/Debconf/FrontEnd/Dialog.pm line 78, <> line 26.)\n",
            "debconf: falling back to frontend: Readline\n",
            "debconf: unable to initialize frontend: Readline\n",
            "debconf: (This frontend requires a controlling tty.)\n",
            "debconf: falling back to frontend: Teletype\n",
            "dpkg-preconfigure: unable to re-open stdin: \n",
            "Selecting previously unselected package libalgorithm-diff-perl.\n",
            "(Reading database ... 120831 files and directories currently installed.)\n",
            "Preparing to unpack .../00-libalgorithm-diff-perl_1.201-1_all.deb ...\n",
            "Unpacking libalgorithm-diff-perl (1.201-1) ...\n",
            "Selecting previously unselected package libclass-method-modifiers-perl.\n",
            "Preparing to unpack .../01-libclass-method-modifiers-perl_2.13-1_all.deb ...\n",
            "Unpacking libclass-method-modifiers-perl (2.13-1) ...\n",
            "Selecting previously unselected package libclass-xsaccessor-perl.\n",
            "Preparing to unpack .../02-libclass-xsaccessor-perl_1.19-3build9_amd64.deb ...\n",
            "Unpacking libclass-xsaccessor-perl (1.19-3build9) ...\n",
            "Selecting previously unselected package libb-hooks-op-check-perl.\n",
            "Preparing to unpack .../03-libb-hooks-op-check-perl_0.22-1build5_amd64.deb ...\n",
            "Unpacking libb-hooks-op-check-perl (0.22-1build5) ...\n",
            "Selecting previously unselected package libdynaloader-functions-perl.\n",
            "Preparing to unpack .../04-libdynaloader-functions-perl_0.003-1.1_all.deb ...\n",
            "Unpacking libdynaloader-functions-perl (0.003-1.1) ...\n",
            "Selecting previously unselected package libdevel-callchecker-perl.\n",
            "Preparing to unpack .../05-libdevel-callchecker-perl_0.008-1ubuntu4_amd64.deb ...\n",
            "Unpacking libdevel-callchecker-perl (0.008-1ubuntu4) ...\n",
            "Selecting previously unselected package libparams-classify-perl.\n",
            "Preparing to unpack .../06-libparams-classify-perl_0.015-1build5_amd64.deb ...\n",
            "Unpacking libparams-classify-perl (0.015-1build5) ...\n",
            "Selecting previously unselected package libmodule-runtime-perl.\n",
            "Preparing to unpack .../07-libmodule-runtime-perl_0.016-1_all.deb ...\n",
            "Unpacking libmodule-runtime-perl (0.016-1) ...\n",
            "Selecting previously unselected package libimport-into-perl.\n",
            "Preparing to unpack .../08-libimport-into-perl_1.002005-1_all.deb ...\n",
            "Unpacking libimport-into-perl (1.002005-1) ...\n",
            "Selecting previously unselected package librole-tiny-perl.\n",
            "Preparing to unpack .../09-librole-tiny-perl_2.002004-1_all.deb ...\n",
            "Unpacking librole-tiny-perl (2.002004-1) ...\n",
            "Selecting previously unselected package libsub-quote-perl.\n",
            "Preparing to unpack .../10-libsub-quote-perl_2.006006-1_all.deb ...\n",
            "Unpacking libsub-quote-perl (2.006006-1) ...\n",
            "Selecting previously unselected package libmoo-perl.\n",
            "Preparing to unpack .../11-libmoo-perl_2.005004-3_all.deb ...\n",
            "Unpacking libmoo-perl (2.005004-3) ...\n",
            "Selecting previously unselected package libparallel-forkmanager-perl.\n",
            "Preparing to unpack .../12-libparallel-forkmanager-perl_2.02-1_all.deb ...\n",
            "Unpacking libparallel-forkmanager-perl (2.02-1) ...\n",
            "Selecting previously unselected package libregexp-common-perl.\n",
            "Preparing to unpack .../13-libregexp-common-perl_2017060201-1_all.deb ...\n",
            "Unpacking libregexp-common-perl (2017060201-1) ...\n",
            "Selecting previously unselected package cloc.\n",
            "Preparing to unpack .../14-cloc_1.90-1_all.deb ...\n",
            "Unpacking cloc (1.90-1) ...\n",
            "Selecting previously unselected package libalgorithm-diff-xs-perl.\n",
            "Preparing to unpack .../15-libalgorithm-diff-xs-perl_0.04-6build3_amd64.deb ...\n",
            "Unpacking libalgorithm-diff-xs-perl (0.04-6build3) ...\n",
            "Selecting previously unselected package libtry-tiny-perl.\n",
            "Preparing to unpack .../16-libtry-tiny-perl_0.31-1_all.deb ...\n",
            "Unpacking libtry-tiny-perl (0.31-1) ...\n",
            "Selecting previously unselected package libmodule-implementation-perl.\n",
            "Preparing to unpack .../17-libmodule-implementation-perl_0.09-1.1_all.deb ...\n",
            "Unpacking libmodule-implementation-perl (0.09-1.1) ...\n",
            "Selecting previously unselected package libsub-exporter-progressive-perl.\n",
            "Preparing to unpack .../18-libsub-exporter-progressive-perl_0.001013-1_all.deb ...\n",
            "Unpacking libsub-exporter-progressive-perl (0.001013-1) ...\n",
            "Selecting previously unselected package libvariable-magic-perl.\n",
            "Preparing to unpack .../19-libvariable-magic-perl_0.62-1build5_amd64.deb ...\n",
            "Unpacking libvariable-magic-perl (0.62-1build5) ...\n",
            "Selecting previously unselected package libb-hooks-endofscope-perl.\n",
            "Preparing to unpack .../20-libb-hooks-endofscope-perl_0.25-1_all.deb ...\n",
            "Unpacking libb-hooks-endofscope-perl (0.25-1) ...\n",
            "Selecting previously unselected package libpackage-stash-perl.\n",
            "Preparing to unpack .../21-libpackage-stash-perl_0.39-1_all.deb ...\n",
            "Unpacking libpackage-stash-perl (0.39-1) ...\n",
            "Selecting previously unselected package libsub-identify-perl.\n",
            "Preparing to unpack .../22-libsub-identify-perl_0.14-1build5_amd64.deb ...\n",
            "Unpacking libsub-identify-perl (0.14-1build5) ...\n",
            "Selecting previously unselected package libsub-name-perl.\n",
            "Preparing to unpack .../23-libsub-name-perl_0.26-1build3_amd64.deb ...\n",
            "Unpacking libsub-name-perl (0.26-1build3) ...\n",
            "Selecting previously unselected package libnamespace-clean-perl.\n",
            "Preparing to unpack .../24-libnamespace-clean-perl_0.27-1_all.deb ...\n",
            "Unpacking libnamespace-clean-perl (0.27-1) ...\n",
            "Selecting previously unselected package libpackage-stash-xs-perl.\n",
            "Preparing to unpack .../25-libpackage-stash-xs-perl_0.29-1build5_amd64.deb ...\n",
            "Unpacking libpackage-stash-xs-perl (0.29-1build5) ...\n",
            "Setting up libdynaloader-functions-perl (0.003-1.1) ...\n",
            "Setting up libclass-method-modifiers-perl (2.13-1) ...\n",
            "Setting up libalgorithm-diff-perl (1.201-1) ...\n",
            "Setting up libsub-identify-perl (0.14-1build5) ...\n",
            "Setting up libtry-tiny-perl (0.31-1) ...\n",
            "Setting up libregexp-common-perl (2017060201-1) ...\n",
            "Setting up libpackage-stash-xs-perl (0.29-1build5) ...\n",
            "Setting up libvariable-magic-perl (0.62-1build5) ...\n",
            "Setting up libb-hooks-op-check-perl (0.22-1build5) ...\n",
            "Setting up libsub-exporter-progressive-perl (0.001013-1) ...\n",
            "Setting up libsub-name-perl (0.26-1build3) ...\n",
            "Setting up librole-tiny-perl (2.002004-1) ...\n",
            "Setting up libsub-quote-perl (2.006006-1) ...\n",
            "Setting up libclass-xsaccessor-perl (1.19-3build9) ...\n",
            "Setting up libalgorithm-diff-xs-perl (0.04-6build3) ...\n",
            "Setting up libdevel-callchecker-perl (0.008-1ubuntu4) ...\n",
            "Setting up libparams-classify-perl (0.015-1build5) ...\n",
            "Setting up libmodule-runtime-perl (0.016-1) ...\n",
            "Setting up libmodule-implementation-perl (0.09-1.1) ...\n",
            "Setting up libpackage-stash-perl (0.39-1) ...\n",
            "Setting up libimport-into-perl (1.002005-1) ...\n",
            "Setting up libmoo-perl (2.005004-3) ...\n",
            "Setting up libparallel-forkmanager-perl (2.02-1) ...\n",
            "Setting up libb-hooks-endofscope-perl (0.25-1) ...\n",
            "Setting up cloc (1.90-1) ...\n",
            "Setting up libnamespace-clean-perl (0.27-1) ...\n",
            "Processing triggers for man-db (2.10.2-1) ...\n"
          ]
        }
      ]
    },
    {
      "cell_type": "markdown",
      "source": [
        "# Clona o piloto e faz ajustes dos locais dos scripts"
      ],
      "metadata": {
        "id": "cDOZ_PIcp-H9"
      }
    },
    {
      "cell_type": "code",
      "source": [
        "!git clone https://github.com/armandossrecife/piloto.git"
      ],
      "metadata": {
        "colab": {
          "base_uri": "https://localhost:8080/"
        },
        "id": "c0lh610GqAXD",
        "outputId": "8dc22a58-34e2-40e3-ad24-49a8446ba3d1"
      },
      "execution_count": null,
      "outputs": [
        {
          "output_type": "stream",
          "name": "stdout",
          "text": [
            "Cloning into 'piloto'...\n",
            "remote: Enumerating objects: 467, done.\u001b[K\n",
            "remote: Counting objects: 100% (157/157), done.\u001b[K\n",
            "remote: Compressing objects: 100% (128/128), done.\u001b[K\n",
            "remote: Total 467 (delta 58), reused 84 (delta 17), pack-reused 310\u001b[K\n",
            "Receiving objects: 100% (467/467), 43.55 MiB | 30.88 MiB/s, done.\n",
            "Resolving deltas: 100% (203/203), done.\n"
          ]
        }
      ]
    },
    {
      "cell_type": "code",
      "source": [
        "!pwd"
      ],
      "metadata": {
        "colab": {
          "base_uri": "https://localhost:8080/"
        },
        "id": "SQCW3S-MrMYE",
        "outputId": "5b6a566c-f0a5-454a-ef76-e44520083ea8"
      },
      "execution_count": null,
      "outputs": [
        {
          "output_type": "stream",
          "name": "stdout",
          "text": [
            "/content\n"
          ]
        }
      ]
    },
    {
      "cell_type": "code",
      "source": [
        "!mv piloto/* /content\n",
        "!ls /content"
      ],
      "metadata": {
        "colab": {
          "base_uri": "https://localhost:8080/"
        },
        "id": "OU6sag2LrFLk",
        "outputId": "69299162-95d8-49ba-a65f-cce0be555a9a"
      },
      "execution_count": null,
      "outputs": [
        {
          "output_type": "stream",
          "name": "stdout",
          "text": [
            "analisa_metricas.py\t\t  extracao.py\trequirements.txt\n",
            "analise_dependencias_arquivos.py  gera_dsm.py\tresultados\n",
            "carrega_dataframes.py\t\t  graficos\tsample_data\n",
            "criticos\t\t\t  logs\t\tscatter_plots.py\n",
            "dao.py\t\t\t\t  notebooks\ttese\n",
            "descreve_repositorio.py\t\t  piloto\tteste_dje.py\n",
            "designite\t\t\t  principal.py\tteste_dsm.py\n",
            "docs\t\t\t\t  quartis\tteste.py\n",
            "dsm\t\t\t\t  README.md\tutilidades.py\n"
          ]
        }
      ]
    },
    {
      "cell_type": "code",
      "source": [
        "!rm -rf piloto"
      ],
      "metadata": {
        "id": "dwLoik10rZb5"
      },
      "execution_count": null,
      "outputs": []
    },
    {
      "cell_type": "code",
      "source": [
        "!pip3 install gitpython"
      ],
      "metadata": {
        "colab": {
          "base_uri": "https://localhost:8080/"
        },
        "id": "XxH-MkI2qpM4",
        "outputId": "1a0cd5fe-74c7-4222-f262-5f23b57ca1df"
      },
      "execution_count": null,
      "outputs": [
        {
          "output_type": "stream",
          "name": "stdout",
          "text": [
            "Collecting gitpython\n",
            "  Downloading GitPython-3.1.32-py3-none-any.whl (188 kB)\n",
            "\u001b[2K     \u001b[90m━━━━━━━━━━━━━━━━━━━━━━━━━━━━━━━━━━━━━━━\u001b[0m \u001b[32m188.5/188.5 kB\u001b[0m \u001b[31m3.5 MB/s\u001b[0m eta \u001b[36m0:00:00\u001b[0m\n",
            "\u001b[?25hCollecting gitdb<5,>=4.0.1 (from gitpython)\n",
            "  Downloading gitdb-4.0.10-py3-none-any.whl (62 kB)\n",
            "\u001b[2K     \u001b[90m━━━━━━━━━━━━━━━━━━━━━━━━━━━━━━━━━━━━━━━━\u001b[0m \u001b[32m62.7/62.7 kB\u001b[0m \u001b[31m7.3 MB/s\u001b[0m eta \u001b[36m0:00:00\u001b[0m\n",
            "\u001b[?25hCollecting smmap<6,>=3.0.1 (from gitdb<5,>=4.0.1->gitpython)\n",
            "  Downloading smmap-5.0.0-py3-none-any.whl (24 kB)\n",
            "Installing collected packages: smmap, gitdb, gitpython\n",
            "Successfully installed gitdb-4.0.10 gitpython-3.1.32 smmap-5.0.0\n"
          ]
        }
      ]
    },
    {
      "cell_type": "code",
      "source": [
        "import os\n",
        "import subprocess\n",
        "import requests\n",
        "import threading\n",
        "import datetime\n",
        "from git import Repo\n",
        "\n",
        "def get_repository_name(url):\n",
        "  repository_name = os.path.splitext(os.path.basename(url))[0]\n",
        "  return repository_name\n",
        "\n",
        "class RepoCloner:\n",
        "    def __init__(self, qtd_repositorios, lista_urls):\n",
        "        self.qtd_repositorios = qtd_repositorios\n",
        "        self.lista_urls = lista_urls\n",
        "        self.lista_threads = []\n",
        "        self.lista_tempo_inicio = []\n",
        "        self.lista_tempo_conclusao = []\n",
        "\n",
        "    def my_clone(self, git_url, repo_dir):\n",
        "        try:\n",
        "            Repo.clone_from(git_url, repo_dir)\n",
        "            tempo = datetime.datetime.now()\n",
        "            print(f'Clonagem do repo {git_url} concluída com sucesso! -> instante: {tempo}')\n",
        "            elemento = (repo_dir, tempo)\n",
        "            self.lista_tempo_conclusao.append(elemento)\n",
        "        except Exception as ex:\n",
        "            print(f\"Erro ao clonar o repo: {git_url} - {str(ex)}\")\n",
        "\n",
        "    def clona_repositorios(self):\n",
        "        try:\n",
        "          for i in range(self.qtd_repositorios):\n",
        "              nome = get_repository_name(url=self.lista_urls[i])\n",
        "              tdi = threading.Thread(target=self.my_clone, args=(self.lista_urls[i], nome))\n",
        "              tdi.name = 'Thread-'+str(i+1)\n",
        "              inicio_thread = datetime.datetime.now()\n",
        "              print(f\"Thread {i+1} iniciada em {inicio_thread} - clonando {nome}:{self.lista_urls[i]}...\")\n",
        "              self.lista_threads.append(tdi)\n",
        "              elemento = (nome, inicio_thread)\n",
        "              self.lista_tempo_inicio.append(elemento)\n",
        "              tdi.start()\n",
        "\n",
        "          for each in self.lista_threads:\n",
        "              each.join()\n",
        "        except Exception as ex:\n",
        "          print(f'Erro no clona_repositorio: {str(ex)}')\n",
        "\n",
        "    def mostra_tempo_clonagens(self):\n",
        "        for t1 in self.lista_tempo_inicio:\n",
        "            for t2 in self.lista_tempo_conclusao:\n",
        "                if t1[0] == t2[0]:\n",
        "                    print(f\"Tempo de clonagem do {t1[0]} é: {t2[1]-t1[1]} s\")"
      ],
      "metadata": {
        "id": "2n6DszWjqBmi"
      },
      "execution_count": null,
      "outputs": []
    },
    {
      "cell_type": "code",
      "source": [
        "import subprocess\n",
        "\n",
        "def get_tag_for_commit(diretorio, commit_hash):\n",
        "  command = [\"git\", \"describe\", commit_hash]\n",
        "  try:\n",
        "    executa = subprocess.run(command, cwd=diretorio, stdout=subprocess.PIPE, text=True)\n",
        "    tag = executa.stdout.strip()\n",
        "    return tag\n",
        "  except subprocess.CalledProcessError as e:\n",
        "    print(f'Erro: {str(e)}')\n",
        "    return None\n",
        "\n",
        "def execute_bash_command(command):\n",
        "    try:\n",
        "        result = subprocess.run(command, shell=True, stdout=subprocess.PIPE, stderr=subprocess.PIPE, text=True)\n",
        "        if result.returncode == 0:\n",
        "            return result.stdout.strip()\n",
        "        else:\n",
        "            print(\"Error:\", result.stderr.strip())\n",
        "            return None\n",
        "    except Exception as e:\n",
        "        print(\"Error:\", str(e))\n",
        "        return None\n",
        "\n",
        "def list_only_core(output_find):\n",
        "  my_list = []\n",
        "  try:\n",
        "    for each in output_find.split('\\n'):\n",
        "      if 'examples' not in each:\n",
        "        my_list.append(each)\n",
        "  except Exception as ex:\n",
        "    print(f'Erro list_only_core {str(ex)}')\n",
        "  return my_list"
      ],
      "metadata": {
        "id": "qkSK40aZfpUi"
      },
      "execution_count": null,
      "outputs": []
    },
    {
      "cell_type": "markdown",
      "source": [
        "# Análise dos respositórios"
      ],
      "metadata": {
        "id": "uhRRfWTNsTbe"
      }
    },
    {
      "cell_type": "code",
      "source": [
        "dict_repositorios = {\n",
        "\t'cassandra': 'https://github.com/apache/cassandra.git',\n",
        "\t'kafka':'https://github.com/apache/kafka.git',\n",
        "\t'activemq':'https://github.com/apache/activemq.git',\n",
        "\t'guava':'https://github.com/google/guava.git'\n",
        "}"
      ],
      "metadata": {
        "id": "NAYhUa7gsVI9"
      },
      "execution_count": null,
      "outputs": []
    },
    {
      "cell_type": "code",
      "source": [
        "for k, v in dict_repositorios.items():\n",
        "  print(k,v)"
      ],
      "metadata": {
        "colab": {
          "base_uri": "https://localhost:8080/"
        },
        "id": "Izd81KLPsWxj",
        "outputId": "a216ace1-e8dc-4f95-c73a-69d5a11a6d56"
      },
      "execution_count": null,
      "outputs": [
        {
          "output_type": "stream",
          "name": "stdout",
          "text": [
            "cassandra https://github.com/apache/cassandra.git\n",
            "kafka https://github.com/apache/kafka.git\n",
            "activemq https://github.com/apache/activemq.git\n",
            "guava https://github.com/google/guava.git\n"
          ]
        }
      ]
    },
    {
      "cell_type": "code",
      "source": [
        "lista_repositorios = list(dict_repositorios.values())\n",
        "print(lista_repositorios)"
      ],
      "metadata": {
        "colab": {
          "base_uri": "https://localhost:8080/"
        },
        "id": "28xWfgdXsdda",
        "outputId": "758aa43a-c55a-4c14-8861-29bddddb41c5"
      },
      "execution_count": null,
      "outputs": [
        {
          "output_type": "stream",
          "name": "stdout",
          "text": [
            "['https://github.com/apache/cassandra.git', 'https://github.com/apache/kafka.git', 'https://github.com/apache/activemq.git', 'https://github.com/google/guava.git']\n"
          ]
        }
      ]
    },
    {
      "cell_type": "markdown",
      "source": [
        "## Clona os repositórios localmente"
      ],
      "metadata": {
        "id": "euo8CXQ5s4TL"
      }
    },
    {
      "cell_type": "code",
      "source": [
        "qtd_repositorios = len(lista_repositorios)\n",
        "print(f'Clonando os {qtd_repositorios} repositórios. Aguarde...')\n",
        "cloner = RepoCloner(qtd_repositorios=len(lista_repositorios), lista_urls=lista_repositorios)\n",
        "cloner.clona_repositorios()\n",
        "cloner.mostra_tempo_clonagens()\n",
        "print(f'Clonagem de todos os {qtd_repositorios} concluída com sucesso!')"
      ],
      "metadata": {
        "colab": {
          "base_uri": "https://localhost:8080/"
        },
        "id": "Q9pR-GkksjYB",
        "outputId": "94c3ff74-4bd6-4895-f3fc-802721138311"
      },
      "execution_count": null,
      "outputs": [
        {
          "output_type": "stream",
          "name": "stdout",
          "text": [
            "Clonando os 4 repositórios. Aguarde...\n",
            "Thread 1 iniciada em 2023-08-21 14:06:32.104134 - clonando cassandra:https://github.com/apache/cassandra.git...\n",
            "Thread 2 iniciada em 2023-08-21 14:06:32.105054 - clonando kafka:https://github.com/apache/kafka.git...\n",
            "Thread 3 iniciada em 2023-08-21 14:06:32.109533 - clonando activemq:https://github.com/apache/activemq.git...\n",
            "Thread 4 iniciada em 2023-08-21 14:06:32.117841 - clonando guava:https://github.com/google/guava.git...\n",
            "Clonagem do repo https://github.com/apache/activemq.git concluída com sucesso! -> instante: 2023-08-21 14:07:01.293071\n",
            "Clonagem do repo https://github.com/apache/kafka.git concluída com sucesso! -> instante: 2023-08-21 14:07:34.668611\n",
            "Clonagem do repo https://github.com/apache/cassandra.git concluída com sucesso! -> instante: 2023-08-21 14:08:28.682382\n",
            "Clonagem do repo https://github.com/google/guava.git concluída com sucesso! -> instante: 2023-08-21 14:08:56.164032\n",
            "Tempo de clonagem do cassandra é: 0:01:56.578248 s\n",
            "Tempo de clonagem do kafka é: 0:01:02.563557 s\n",
            "Tempo de clonagem do activemq é: 0:00:29.183538 s\n",
            "Tempo de clonagem do guava é: 0:02:24.046191 s\n",
            "Clonagem de todos os 4 concluída com sucesso!\n"
          ]
        }
      ]
    },
    {
      "cell_type": "code",
      "source": [
        "!echo \"Cassandra: \" && ls cassandra && echo \"Kafka:\" && ls kafka && echo \"ActiveMQ:\" && ls activemq && echo \"Guava:\" && ls guava"
      ],
      "metadata": {
        "colab": {
          "base_uri": "https://localhost:8080/"
        },
        "id": "yFQ2Y3Xot8NX",
        "outputId": "b0e57aca-2336-45e3-9ab0-89ce50611164"
      },
      "execution_count": null,
      "outputs": [
        {
          "output_type": "stream",
          "name": "stdout",
          "text": [
            "Cassandra: \n",
            "bin\t\t\t   debian\tpylib\n",
            "build.properties.default   doc\t\tREADME.asc\n",
            "build-shaded-dtest-jar.sh  examples\tredhat\n",
            "build.xml\t\t   ide\t\trelocate-dependencies.pom\n",
            "CASSANDRA-14092.txt\t   lib\t\tsrc\n",
            "CHANGES.txt\t\t   LICENSE.txt\ttest\n",
            "conf\t\t\t   NEWS.txt\tTESTING.md\n",
            "CONTRIBUTING.md\t\t   NOTICE.txt\ttools\n",
            "Kafka:\n",
            "bin\t\t gradle\t\t    log4j-appender\t      settings.gradle\n",
            "build.gradle\t gradle.properties  metadata\t\t      shell\n",
            "checkstyle\t gradlew\t    NOTICE\t\t      storage\n",
            "clients\t\t gradlewAll\t    NOTICE-binary\t      streams\n",
            "config\t\t group-coordinator  PULL_REQUEST_TEMPLATE.md  tests\n",
            "connect\t\t HEADER\t\t    raft\t\t      tools\n",
            "CONTRIBUTING.md  Jenkinsfile\t    README.md\t\t      trogdor\n",
            "core\t\t jmh-benchmarks     release_notes.py\t      vagrant\n",
            "doap_Kafka.rdf\t kafka-merge-pr.py  release.py\t\t      Vagrantfile\n",
            "docs\t\t LICENSE\t    retry_zinc\t\t      wrapper.gradle\n",
            "examples\t LICENSE-binary     reviewers.py\n",
            "generator\t licenses\t    server-common\n",
            "ActiveMQ:\n",
            "activemq-all\t\t activemq-log4j-appender      activemq-web\n",
            "activemq-amqp\t\t activemq-mqtt\t\t      activemq-web-console\n",
            "activemq-blueprint\t activemq-openwire-generator  activemq-web-demo\n",
            "activemq-broker\t\t activemq-openwire-legacy     assembly\n",
            "activemq-cf\t\t activemq-osgi\t\t      committer-tools\n",
            "activemq-client\t\t activemq-pool\t\t      doap.rdf\n",
            "activemq-client-jakarta  activemq-ra\t\t      docs\n",
            "activemq-console\t activemq-rar\t\t      etc\n",
            "activemq-http\t\t activemq-run\t\t      Jenkinsfile\n",
            "activemq-jaas\t\t activemq-runtime-config      KEYS\n",
            "activemq-jdbc-store\t activemq-shiro\t\t      LICENSE\n",
            "activemq-jms-pool\t activemq-spring\t      NOTICE\n",
            "activemq-kahadb-store\t activemq-stomp\t\t      pom.xml\n",
            "activemq-karaf\t\t activemq-tooling\t      README.md\n",
            "activemq-karaf-itest\t activemq-unit-tests\t      SECURITY.md\n",
            "Guava:\n",
            "android\t\t\t guava\t\tintegration-tests\tproguard\n",
            "CONTRIBUTING.md\t\t guava-bom\tjavadoc-stylesheet.css\tREADME.md\n",
            "CONTRIBUTORS\t\t guava-gwt\tLICENSE\t\t\trefactorings\n",
            "cycle_suppress_list.txt  guava-testlib\toverview.html\t\tutil\n",
            "futures\t\t\t guava-tests\tpom.xml\n"
          ]
        }
      ]
    },
    {
      "cell_type": "markdown",
      "source": [
        "## Identifica os últimos 1000 commits"
      ],
      "metadata": {
        "id": "xv5MK5CQugT7"
      }
    },
    {
      "cell_type": "code",
      "source": [
        "lista_ultimos_1000_commits_c = !cd cassandra && git log -n 1000 --format=\"%H,%cI\"\n",
        "print(f'Cassandra: primeiro*: {lista_ultimos_1000_commits_c[-1]}, ultimo: {lista_ultimos_1000_commits_c[0]}')\n",
        "tag_cassandra_1 = get_tag_for_commit('cassandra', lista_ultimos_1000_commits_c[-1].split(',')[0])\n",
        "tag_cassandra_u = get_tag_for_commit('cassandra', lista_ultimos_1000_commits_c[0].split(',')[0])\n",
        "print(f'Cassandra: tag do primeiro*: {tag_cassandra_1}, tag do ultimo: {tag_cassandra_u}')\n",
        "print('')\n",
        "\n",
        "lista_ultimos_1000_commits_k = !cd kafka && git log -n 1000 --format=\"%H,%cI\"\n",
        "print(f'Kafka: primeiro*: {lista_ultimos_1000_commits_k[-1]}, ultimo: {lista_ultimos_1000_commits_k[0]}')\n",
        "tag_kafka_1 = get_tag_for_commit('kafka', lista_ultimos_1000_commits_k[-1].split(',')[0])\n",
        "tag_kafka_u = get_tag_for_commit('kafka',lista_ultimos_1000_commits_k[0].split(',')[0])\n",
        "print(f'Kafka: tag do primeiro*: {tag_kafka_1}, tag do ultimo: {tag_kafka_u}')\n",
        "print('')\n",
        "\n",
        "lista_ultimos_1000_commits_amq = !cd activemq && git log -n 1000 --format=\"%H,%cI\"\n",
        "print(f'ActiveMQ: primeiro*: {lista_ultimos_1000_commits_amq[-1]}, ultimo: {lista_ultimos_1000_commits_amq[0]}')\n",
        "tag_amq_1 = get_tag_for_commit('activemq', lista_ultimos_1000_commits_amq[-1].split(',')[0])\n",
        "tag_amq_u = get_tag_for_commit('activemq', lista_ultimos_1000_commits_amq[0].split(',')[0])\n",
        "print(f'ActiveMQ: tag do primeiro*: {tag_amq_1}, tag do ultimo: {tag_amq_u}')\n",
        "print('')\n",
        "\n",
        "lista_ultimos_1000_commits_g = !cd guava && git log -n 1000 --format=\"%H,%cI\"\n",
        "print(f'Guava: primeiro*: {lista_ultimos_1000_commits_g[-1]}, ultimo: {lista_ultimos_1000_commits_g[0]}')\n",
        "tag_g_1 = get_tag_for_commit('guava',lista_ultimos_1000_commits_g[-1].split(',')[0])\n",
        "tag_g_u = get_tag_for_commit('guava',lista_ultimos_1000_commits_g[0].split(',')[0])\n",
        "print(f'Guava: tag do primeiro*: {tag_g_1}, tag do ultimo: {tag_g_u}')"
      ],
      "metadata": {
        "colab": {
          "base_uri": "https://localhost:8080/"
        },
        "id": "zfKXqp8muCX7",
        "outputId": "167233e1-29cb-48b4-88dd-aeb7978a8cf6"
      },
      "execution_count": null,
      "outputs": [
        {
          "output_type": "stream",
          "name": "stdout",
          "text": [
            "Cassandra: primeiro*: 50dc696198f9d372f815239a997ac66b33be48fb,2022-10-23T23:27:13+02:00, ultimo: 02f751077ff731230f299e42ff623814cc12ef3d,2023-08-21T15:09:38+02:00\n",
            "Cassandra: tag do primeiro*: cassandra-4.1-beta1-55-g50dc696198, tag do ultimo: cassandra-4.0.11-1702-g02f751077f\n",
            "\n",
            "Kafka: primeiro*: d9946a7ffc1c5e8265a62bd6868e6b0af3e977f4,2022-11-30T08:54:39-08:00, ultimo: eefa812453d5d5074506f5fc7642f585ac0c3545,2023-08-20T15:16:27-07:00\n",
            "Kafka: tag do primeiro*: 0.8.0-beta1-10041-gd9946a7ffc, tag do ultimo: 0.8.0-beta1-11040-geefa812453\n",
            "\n",
            "ActiveMQ: primeiro*: ed3c600e09a305c39d78089cc5450d1e4a671f7b,2020-02-20T08:11:34+01:00, ultimo: 8d322df244a6b4d8239f3b24608851eea6cf45ac,2023-08-01T08:29:24-05:00\n",
            "ActiveMQ: tag do primeiro*: activemq-5.15.0-610-ged3c600e0, tag do ultimo: activemq-5.18.0-84-g8d322df24\n",
            "\n",
            "Guava: primeiro*: b224ce81f7c5d4efcf6b1f74ca6cc56cac9aae63,2019-12-18T13:24:46-05:00, ultimo: 41203f03e9b7ddfd776f88660cc467e59bbb180b,2023-08-14T14:56:10-07:00\n",
            "Guava: tag do primeiro*: , tag do ultimo: \n"
          ]
        }
      ]
    },
    {
      "cell_type": "markdown",
      "source": [
        "## Arquitetura básica do ActiveMQ\n",
        "\n",
        "```bash\n",
        "@startuml\n",
        "!define ICONURLAWSPUMLL https://raw.githubusercontent.com/awslabs/aws-icons-for-plantuml/v16.0/dist/Compute/EC2Instance.puml\n",
        "\n",
        "title ActiveMQ Software Architecture (C4 Model)\n",
        "\n",
        "package \"ActiveMQ\" {\n",
        "  [ActiveMQ Broker] as broker\n",
        "  [Message Persistence] as persistence\n",
        "  [Transport Connectors] as connectors\n",
        "  [Security] as security\n",
        "  [Network of Brokers] as network\n",
        "  [Plugins & Extensions] as plugins\n",
        "  [Management & Monitoring] as management\n",
        "}\n",
        "\n",
        "AppClient -down-> broker : Uses\n",
        "\n",
        "broker -down-> persistence : Uses\n",
        "broker -down-> connectors : Uses\n",
        "broker -down-> security : Uses\n",
        "broker -down-> network : Uses\n",
        "broker -down-> plugins : Uses\n",
        "broker -down-> management : Uses\n",
        "\n",
        "package \"Message Protocols\" {\n",
        "  [OpenWire] as openwire\n",
        "  [AMQP] as amqp\n",
        "  [MQTT] as mqtt\n",
        "  [STOMP] as stomp\n",
        "}\n",
        "\n",
        "broker -down-> openwire : Supports\n",
        "broker -down-> amqp : Supports\n",
        "broker -down-> mqtt : Supports\n",
        "broker -down-> stomp : Supports\n",
        "\n",
        "package \"Client Libraries\" {\n",
        "  [Java Client] as javaclient\n",
        "  [Other Clients] as otherclients\n",
        "}\n",
        "\n",
        "javaclient -up-> broker : Connects to\n",
        "otherclients -up-> broker : Connects to\n",
        "\n",
        "@enduml\n",
        "```"
      ],
      "metadata": {
        "id": "dqDCqybscxrq"
      }
    },
    {
      "cell_type": "markdown",
      "source": [
        "![Basic ActiveMQ Software Architecture Diagram](https://raw.githubusercontent.com/armandossrecife/teste/main/ActiveMS_Software_Architecture.png \"ActiveMQ Software Architecture Diagram\")"
      ],
      "metadata": {
        "id": "ZO_l1OOqdS8b"
      }
    },
    {
      "cell_type": "code",
      "source": [
        "command_find_src_activemq = 'cd activemq && find . -type d -wholename \"*/src/main/java\"'\n",
        "output_find_src_activemq = execute_bash_command(command_find_src_activemq)\n",
        "\n",
        "if output_find_src_activemq is not None:\n",
        "    print(\"Directories with 'src/main/java':\")\n",
        "    print(type(output_find_src_activemq))\n",
        "    print(output_find_src_activemq)"
      ],
      "metadata": {
        "colab": {
          "base_uri": "https://localhost:8080/"
        },
        "id": "wCnDQUpMeIPQ",
        "outputId": "57b8b104-fc6a-461c-c909-e5fc06798c30"
      },
      "execution_count": null,
      "outputs": [
        {
          "output_type": "stream",
          "name": "stdout",
          "text": [
            "Directories with 'src/main/java':\n",
            "<class 'str'>\n",
            "./activemq-jms-pool/src/main/java\n",
            "./activemq-stomp/src/main/java\n",
            "./activemq-web-console/src/main/java\n",
            "./activemq-http/src/main/java\n",
            "./activemq-ra/src/main/java\n",
            "./activemq-amqp/src/main/java\n",
            "./activemq-cf/src/main/java\n",
            "./activemq-pool/src/main/java\n",
            "./activemq-karaf/src/main/java\n",
            "./activemq-jaas/src/main/java\n",
            "./activemq-log4j-appender/src/main/java\n",
            "./activemq-kahadb-store/src/main/java\n",
            "./activemq-web/src/main/java\n",
            "./activemq-mqtt/src/main/java\n",
            "./activemq-runtime-config/src/main/java\n",
            "./activemq-openwire-legacy/src/main/java\n",
            "./assembly/src/release/examples/mqtt/java/src/main/java\n",
            "./assembly/src/release/examples/stomp/java/src/main/java\n",
            "./assembly/src/release/examples/openwire/java/src/main/java\n",
            "./assembly/src/release/examples/openwire/advanced-scenarios/jms-example-topic/src/main/java\n",
            "./assembly/src/release/examples/openwire/advanced-scenarios/jms-example-message-browser/src/main/java\n",
            "./assembly/src/release/examples/openwire/advanced-scenarios/jms-example-composite-destinations/src/main/java\n",
            "./assembly/src/release/examples/openwire/advanced-scenarios/jms-example-queue/src/main/java\n",
            "./assembly/src/release/examples/openwire/advanced-scenarios/jms-example-durable-sub/src/main/java\n",
            "./assembly/src/release/examples/openwire/advanced-scenarios/jms-example-queue-selector/src/main/java\n",
            "./assembly/src/release/examples/openwire/advanced-scenarios/jms-example-transaction/src/main/java\n",
            "./assembly/src/release/examples/openwire/advanced-scenarios/jms-example-wildcard-consumer/src/main/java\n",
            "./assembly/src/release/examples/openwire/advanced-scenarios/jms-example-temp-destinations/src/main/java\n",
            "./assembly/src/release/examples/openwire/advanced-scenarios/jms-example-exclusive-consumer/src/main/java\n",
            "./assembly/src/release/examples/amqp/java/src/main/java\n",
            "./activemq-broker/src/main/java\n",
            "./activemq-client/src/main/java\n",
            "./activemq-openwire-generator/src/main/java\n",
            "./activemq-osgi/src/main/java\n",
            "./activemq-shiro/src/main/java\n",
            "./activemq-spring/src/main/java\n",
            "./activemq-tooling/activemq-maven-plugin/src/main/java\n",
            "./activemq-tooling/activemq-perf-maven-plugin/src/main/java\n",
            "./activemq-tooling/activemq-joram-jms-tests/src/main/java\n",
            "./activemq-tooling/activemq-junit/src/main/java\n",
            "./activemq-tooling/activemq-memtest-maven-plugin/src/main/java\n",
            "./activemq-console/src/main/java\n",
            "./activemq-jdbc-store/src/main/java\n"
          ]
        }
      ]
    },
    {
      "cell_type": "code",
      "source": [
        "list_only_core(output_find_src_activemq)"
      ],
      "metadata": {
        "colab": {
          "base_uri": "https://localhost:8080/"
        },
        "id": "89kvS-yKgxL0",
        "outputId": "d593d9da-5f65-48cf-c58a-ca45fc22ed91"
      },
      "execution_count": null,
      "outputs": [
        {
          "output_type": "execute_result",
          "data": {
            "text/plain": [
              "['./activemq-jms-pool/src/main/java',\n",
              " './activemq-stomp/src/main/java',\n",
              " './activemq-web-console/src/main/java',\n",
              " './activemq-http/src/main/java',\n",
              " './activemq-ra/src/main/java',\n",
              " './activemq-amqp/src/main/java',\n",
              " './activemq-cf/src/main/java',\n",
              " './activemq-pool/src/main/java',\n",
              " './activemq-karaf/src/main/java',\n",
              " './activemq-jaas/src/main/java',\n",
              " './activemq-log4j-appender/src/main/java',\n",
              " './activemq-kahadb-store/src/main/java',\n",
              " './activemq-web/src/main/java',\n",
              " './activemq-mqtt/src/main/java',\n",
              " './activemq-runtime-config/src/main/java',\n",
              " './activemq-openwire-legacy/src/main/java',\n",
              " './activemq-broker/src/main/java',\n",
              " './activemq-client/src/main/java',\n",
              " './activemq-openwire-generator/src/main/java',\n",
              " './activemq-osgi/src/main/java',\n",
              " './activemq-shiro/src/main/java',\n",
              " './activemq-spring/src/main/java',\n",
              " './activemq-tooling/activemq-maven-plugin/src/main/java',\n",
              " './activemq-tooling/activemq-perf-maven-plugin/src/main/java',\n",
              " './activemq-tooling/activemq-joram-jms-tests/src/main/java',\n",
              " './activemq-tooling/activemq-junit/src/main/java',\n",
              " './activemq-tooling/activemq-memtest-maven-plugin/src/main/java',\n",
              " './activemq-console/src/main/java',\n",
              " './activemq-jdbc-store/src/main/java']"
            ]
          },
          "metadata": {},
          "execution_count": 32
        }
      ]
    },
    {
      "cell_type": "code",
      "source": [
        "!cloc activemq"
      ],
      "metadata": {
        "id": "ioHGq4zbjMC5",
        "outputId": "6274067f-1006-430e-955d-42acb3830467",
        "colab": {
          "base_uri": "https://localhost:8080/"
        }
      },
      "execution_count": null,
      "outputs": [
        {
          "output_type": "stream",
          "name": "stdout",
          "text": [
            "    5216 text files.\n",
            "    5167 unique files.                              \n",
            "     298 files ignored.\n",
            "\n",
            "github.com/AlDanial/cloc v 1.90  T=12.02 s (409.6 files/s, 61474.1 lines/s)\n",
            "------------------------------------------------------------------------------------\n",
            "Language                          files          blank        comment           code\n",
            "------------------------------------------------------------------------------------\n",
            "Java                               4355         103341         149567         415820\n",
            "JavaScript                           31           2756           2049          17841\n",
            "Maven                                55            662           1195          10511\n",
            "XML                                 264           2696           5243           9815\n",
            "HTML                                 83            635           1186           2329\n",
            "JSP                                  29            333            430           1830\n",
            "Bourne Shell                          7            290            466           1799\n",
            "CSS                                  12            245            234           1709\n",
            "SVG                                   4              3              9           1372\n",
            "Markdown                             32            348              0            614\n",
            "C#                                    7             75            130            347\n",
            "C++                                   4            100             76            316\n",
            "Python                               10             86            160            244\n",
            "DOS Batch                             7            114            181            177\n",
            "Protocol Buffers                      2             53            100            165\n",
            "INI                                   4             25              0            160\n",
            "Groovy                                1             19             29            151\n",
            "MSBuild script                        4              0              0            106\n",
            "Ruby                                  4             27             64             96\n",
            "PHP                                   2             20             32             77\n",
            "Perl                                  2             10             38             73\n",
            "Visual Studio Solution                1              1              1             24\n",
            "YAML                                  1              1             17             21\n",
            "Dockerfile                            1              5             21             12\n",
            "------------------------------------------------------------------------------------\n",
            "SUM:                               4922         111845         161228         465609\n",
            "------------------------------------------------------------------------------------\n"
          ]
        }
      ]
    },
    {
      "cell_type": "markdown",
      "source": [
        "## Arqutetura básica do Guava\n",
        "\n",
        "```bash\n",
        "@startuml\n",
        "\n",
        "!define CONTAINER frame\n",
        "\n",
        "' Containers\n",
        "[Collections] as CollectionsSystem\n",
        "[Concurrency] as ConcurrencySystem\n",
        "[Utilities] as UtilitiesSystem\n",
        "[Caching] as CachingSystem\n",
        "  \n",
        "' Components within Systems\n",
        "CollectionsSystem -> [ImmutableCollections]\n",
        "CollectionsSystem -up-> [ThreadSafeCollections]\n",
        "ConcurrencySystem -down-> [AtomicVariables]\n",
        "ConcurrencySystem -down-> [ThreadingUtilities]\n",
        "UtilitiesSystem -down-> [StringUtilities]  \n",
        "UtilitiesSystem -down-> [IOUtilities]\n",
        "CachingSystem -down-> [CachingFramework]\n",
        "UtilitiesSystem -down-> [EventBus]\n",
        "  \n",
        "' System relationships\n",
        "CollectionsSystem -down-> [ConcurrencySystem] : interacts\n",
        "CollectionsSystem -down-> [UtilitiesSystem] : interacts\n",
        "CollectionsSystem -down-> [CachingSystem] : interacts\n",
        "\n",
        "@enduml\n",
        "```"
      ],
      "metadata": {
        "id": "e60MTLp3jvdV"
      }
    },
    {
      "cell_type": "markdown",
      "source": [
        "![Basic Guava Software Architecture Diagram](https://raw.githubusercontent.com/armandossrecife/teste/main/Guava_SA.png \"Guava Software Architecture Diagram\")"
      ],
      "metadata": {
        "id": "0kW5bLJPq7Wb"
      }
    },
    {
      "cell_type": "code",
      "source": [
        "command_find_src_guava = 'cd guava && find . -type d -wholename \"*/src\"'\n",
        "output_find_src_guava = execute_bash_command(command_find_src_guava)\n",
        "\n",
        "if output_find_src_guava is not None:\n",
        "    print(\"Directories with 'src':\")\n",
        "    print(output_find_src_guava)"
      ],
      "metadata": {
        "id": "tfPcirwEmRHB",
        "outputId": "972e50f6-f979-4479-b3f9-12ba5a12e61a",
        "colab": {
          "base_uri": "https://localhost:8080/"
        }
      },
      "execution_count": null,
      "outputs": [
        {
          "output_type": "stream",
          "name": "stdout",
          "text": [
            "Directories with 'src':\n",
            "./android/guava/src\n",
            "./android/guava-testlib/src\n",
            "./guava/src\n",
            "./guava-gwt/src\n",
            "./guava-testlib/src\n",
            "./futures/listenablefuture1/src\n",
            "./futures/failureaccess/src\n"
          ]
        }
      ]
    },
    {
      "cell_type": "code",
      "source": [
        "list_only_core(output_find_src_guava)"
      ],
      "metadata": {
        "id": "8F7zSJ3sr6fb",
        "outputId": "154b9bca-8f09-4b43-dc70-24a00f6e8cfb",
        "colab": {
          "base_uri": "https://localhost:8080/"
        }
      },
      "execution_count": null,
      "outputs": [
        {
          "output_type": "execute_result",
          "data": {
            "text/plain": [
              "['./android/guava/src',\n",
              " './android/guava-testlib/src',\n",
              " './guava/src',\n",
              " './guava-gwt/src',\n",
              " './guava-testlib/src',\n",
              " './futures/listenablefuture1/src',\n",
              " './futures/failureaccess/src']"
            ]
          },
          "metadata": {},
          "execution_count": 43
        }
      ]
    },
    {
      "cell_type": "code",
      "source": [
        "!cloc guava"
      ],
      "metadata": {
        "id": "MD6mp7Z6r7zW",
        "outputId": "a5d0de3f-56f8-461f-e1c0-4d5a74f119ed",
        "colab": {
          "base_uri": "https://localhost:8080/"
        }
      },
      "execution_count": null,
      "outputs": [
        {
          "output_type": "stream",
          "name": "stdout",
          "text": [
            "    3286 text files.\n",
            "    1984 unique files.                              \n",
            "    1319 files ignored.\n",
            "\n",
            "github.com/AlDanial/cloc v 1.90  T=5.40 s (364.5 files/s, 101999.2 lines/s)\n",
            "-------------------------------------------------------------------------------\n",
            "Language                     files          blank        comment           code\n",
            "-------------------------------------------------------------------------------\n",
            "Java                          1909          59867         128589         356714\n",
            "Maven                           14             51            248           2515\n",
            "CSS                              1              3             39            449\n",
            "JSON                             1              0              0            297\n",
            "Gradle                           2             27             15            208\n",
            "Markdown                         4             71              0            203\n",
            "XML                             16            107            272            193\n",
            "YAML                             4             18             40            150\n",
            "Bourne Shell                     5             49            134            145\n",
            "ProGuard                         8             10             44             91\n",
            "DOS Batch                        1             21              2             69\n",
            "JavaScript                       2              4             13             12\n",
            "HTML                             1              3              0              8\n",
            "-------------------------------------------------------------------------------\n",
            "SUM:                          1968          60231         129396         361054\n",
            "-------------------------------------------------------------------------------\n"
          ]
        }
      ]
    },
    {
      "cell_type": "code",
      "source": [],
      "metadata": {
        "id": "CPF5aXPrsBs7"
      },
      "execution_count": null,
      "outputs": []
    }
  ]
}