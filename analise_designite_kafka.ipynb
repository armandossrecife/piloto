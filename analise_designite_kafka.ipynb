{
  "nbformat": 4,
  "nbformat_minor": 0,
  "metadata": {
    "colab": {
      "provenance": [],
      "mount_file_id": "1-TRRTXvqiyglFtQctO4lZl7oi6afnxoC",
      "authorship_tag": "ABX9TyPGql7x6QOjetqyNsRc78dP",
      "include_colab_link": true
    },
    "kernelspec": {
      "name": "python3",
      "display_name": "Python 3"
    },
    "language_info": {
      "name": "python"
    }
  },
  "cells": [
    {
      "cell_type": "markdown",
      "metadata": {
        "id": "view-in-github",
        "colab_type": "text"
      },
      "source": [
        "<a href=\"https://colab.research.google.com/github/armandossrecife/piloto/blob/main/analise_designite_kafka.ipynb\" target=\"_parent\"><img src=\"https://colab.research.google.com/assets/colab-badge.svg\" alt=\"Open In Colab\"/></a>"
      ]
    },
    {
      "cell_type": "markdown",
      "source": [
        "Todo: é preciso fazer a varredura de todos os diretórios src contendo .java"
      ],
      "metadata": {
        "id": "WAR7uwTqUxhd"
      }
    },
    {
      "cell_type": "markdown",
      "source": [
        "# Checa ambiente"
      ],
      "metadata": {
        "id": "7pepkQyUH73q"
      }
    },
    {
      "cell_type": "code",
      "execution_count": 1,
      "metadata": {
        "colab": {
          "base_uri": "https://localhost:8080/"
        },
        "id": "l8RIvuIRoG4V",
        "outputId": "9e316aa0-df45-415e-8888-98b68e4f354f"
      },
      "outputs": [
        {
          "output_type": "stream",
          "name": "stdout",
          "text": [
            "openjdk 11.0.20 2023-07-18\n",
            "OpenJDK Runtime Environment (build 11.0.20+8-post-Ubuntu-1ubuntu122.04)\n",
            "OpenJDK 64-Bit Server VM (build 11.0.20+8-post-Ubuntu-1ubuntu122.04, mixed mode, sharing)\n"
          ]
        }
      ],
      "source": [
        "!java --version"
      ]
    },
    {
      "cell_type": "code",
      "source": [
        "!python3 --version"
      ],
      "metadata": {
        "colab": {
          "base_uri": "https://localhost:8080/"
        },
        "id": "duV2T0LkHz6p",
        "outputId": "2bb8cb95-0509-4329-d442-4a1601982eb9"
      },
      "execution_count": 2,
      "outputs": [
        {
          "output_type": "stream",
          "name": "stdout",
          "text": [
            "Python 3.10.12\n"
          ]
        }
      ]
    },
    {
      "cell_type": "code",
      "source": [
        "!sudo apt install tree"
      ],
      "metadata": {
        "colab": {
          "base_uri": "https://localhost:8080/"
        },
        "id": "-TUkuAbtH3Ca",
        "outputId": "03d03d89-4162-4bc7-f818-1cfb2ddcc426"
      },
      "execution_count": 3,
      "outputs": [
        {
          "output_type": "stream",
          "name": "stdout",
          "text": [
            "Reading package lists... Done\n",
            "Building dependency tree... Done\n",
            "Reading state information... Done\n",
            "The following NEW packages will be installed:\n",
            "  tree\n",
            "0 upgraded, 1 newly installed, 0 to remove and 16 not upgraded.\n",
            "Need to get 47.9 kB of archives.\n",
            "After this operation, 116 kB of additional disk space will be used.\n",
            "Get:1 http://archive.ubuntu.com/ubuntu jammy/universe amd64 tree amd64 2.0.2-1 [47.9 kB]\n",
            "Fetched 47.9 kB in 0s (332 kB/s)\n",
            "debconf: unable to initialize frontend: Dialog\n",
            "debconf: (No usable dialog-like program is installed, so the dialog based frontend cannot be used. at /usr/share/perl5/Debconf/FrontEnd/Dialog.pm line 78, <> line 1.)\n",
            "debconf: falling back to frontend: Readline\n",
            "debconf: unable to initialize frontend: Readline\n",
            "debconf: (This frontend requires a controlling tty.)\n",
            "debconf: falling back to frontend: Teletype\n",
            "dpkg-preconfigure: unable to re-open stdin: \n",
            "Selecting previously unselected package tree.\n",
            "(Reading database ... 120831 files and directories currently installed.)\n",
            "Preparing to unpack .../tree_2.0.2-1_amd64.deb ...\n",
            "Unpacking tree (2.0.2-1) ...\n",
            "Setting up tree (2.0.2-1) ...\n",
            "Processing triggers for man-db (2.10.2-1) ...\n"
          ]
        }
      ]
    },
    {
      "cell_type": "markdown",
      "source": [
        "# Funcões"
      ],
      "metadata": {
        "id": "RrcPd5jgi_D9"
      }
    },
    {
      "cell_type": "code",
      "source": [
        "import pandas as pd\n",
        "import os\n",
        "import requests\n",
        "\n",
        "def checa_indice_language(relacao_linguagens):\n",
        "  indice=-1\n",
        "  for i, each in enumerate(relacao_linguagens):\n",
        "    if \"Language\" in each:\n",
        "      indice = i\n",
        "      break\n",
        "  return indice\n",
        "\n",
        "def instala_cloc():\n",
        "  try:\n",
        "    comando = !sudo apt-get install cloc\n",
        "    print(comando)\n",
        "  except Exception as e:\n",
        "    print(f'Erro: {str(e)}')\n",
        "\n",
        "def clona_repositorio(url):\n",
        "  try:\n",
        "    comando = f'git clone {url}'\n",
        "    print(f'Clonando o repositório {url}')\n",
        "    print(comando)\n",
        "    os.system(comando)\n",
        "    print('concluido com sucesso!')\n",
        "  except Exception as e:\n",
        "    print(f'Erro: {str(e)}')\n",
        "\n",
        "def get_primeiro_commit(repositorio):\n",
        "  try:\n",
        "    os.environ['REPOSITORIO_ORIGINAL'] = repositorio\n",
        "    # Primeiro commit\n",
        "    comando = !cd $REPOSITORIO_ORIGINAL && git rev-list --all | tail -n 1\n",
        "  except Exception as e:\n",
        "    print(f'Erro: {str(e)}')\n",
        "  return comando\n",
        "\n",
        "def get_commit_tag(tag):\n",
        "  try:\n",
        "    os.environ['TAG'] = tag\n",
        "    comando = !cd kafka && git rev-list -n 1 $TAG\n",
        "  except Exception as e:\n",
        "    print(f'Erro: {str(e)}')\n",
        "  return comando\n",
        "\n",
        "def get_ultimo_commit(repositorio):\n",
        "  try:\n",
        "    os.environ['REPOSITORIO_ORIGINAL'] = repositorio\n",
        "    # Primeiro commit\n",
        "    comando = !cd $REPOSITORIO_ORIGINAL && git rev-list --all | head -n 1\n",
        "  except Exception as e:\n",
        "    print(f'Erro: {str(e)}')\n",
        "  return comando\n",
        "\n",
        "def cria_pasta_n_commit(repositorio, pasta_n_commit):\n",
        "  try:\n",
        "    os.environ['REPOSITORIO_ORIGINAL'] = repositorio\n",
        "    os.environ['REPOSITORIO_INICIAL'] = pasta_n_commit\n",
        "    # Cria uma nova pasta para referenciar apenas os dados do 1o commit\n",
        "    comando = !cp -R $REPOSITORIO_ORIGINAL $REPOSITORIO_INICIAL\n",
        "  except Exception as e:\n",
        "    print(f'Erro: {str(e)}')\n",
        "  return comando\n",
        "\n",
        "def checkout_n_commit(pasta_n_commit, n_commit):\n",
        "  try:\n",
        "    os.environ['REPOSITORIO_INICIAL'] = pasta_n_commit\n",
        "    os.environ['PRIMEIRO_COMMIT'] = n_commit\n",
        "    # git checkout $( git rev-list --all | tail -n 1 )\n",
        "    comando1 = \"cd $REPOSITORIO_INICIAL && git checkout $PRIMEIRO_COMMIT\"\n",
        "    os.system(comando1)\n",
        "    print(f'Checkout do repositorio no commit {n_commit} realizado com sucesso!')\n",
        "  except Exception as e:\n",
        "    print(f'Erro: {str(e)}')\n",
        "\n",
        "def gera_df_info_repositorio(pasta_n_commit):\n",
        "  try:\n",
        "    os.environ['REPOSITORIO_INICIAL'] = pasta_n_commit\n",
        "    # Quantidade de arquivos na pasta nome_repositorio\n",
        "    qtd_arquivos = !find $REPOSITORIO_INICIAL -type f | wc -l\n",
        "    # Quantidade de commits do repositorio nome_repositorio\n",
        "    qtd_commits = !cd $REPOSITORIO_INICIAL && git log --oneline | grep -c .\n",
        "    # Tamanho (MB) da pasta nome_repositorio\n",
        "    tamanho_pasta_mb = !du -hs --block-size=1M $REPOSITORIO_INICIAL | cut -f1\n",
        "    # Quantidade de colaboradores (devs que commitaram pelo menos uma vez no projeto nome_repositorio)\n",
        "    qtd_colaboradores_commits = !cd $REPOSITORIO_INICIAL && git log --pretty=format:\"%ae\" | sort -u | grep -v \"noreply.github.com\" | wc -l\n",
        "    # Data do primeiro commit do projeto nome_repositorio\n",
        "    data_primeiro_commit =!cd $REPOSITORIO_INICIAL && git log --reverse --pretty=format:%ad --date=short | head -1\n",
        "    # Data do ultimo commit do projeto nome_repositorio\n",
        "    data_ultimo_commit = !cd $REPOSITORIO_INICIAL && git log -1 --pretty=format:%ad --date=short\n",
        "\n",
        "    dict_info_repo = {\n",
        "      'nome':pasta_n_commit,\n",
        "      'qtd_arquivos':qtd_arquivos,\n",
        "      'qtd_commits':qtd_commits,\n",
        "      'tamanho_pasta_mb':tamanho_pasta_mb,\n",
        "      'qtd_colaboradores_commits':qtd_colaboradores_commits,\n",
        "      'data_primeiro_commit':data_primeiro_commit,\n",
        "      'data_ultimo_commit':data_ultimo_commit,\n",
        "    }\n",
        "\n",
        "    df_info_repo = pd.DataFrame(dict_info_repo)\n",
        "  except Exception as e:\n",
        "    print(f'Erro: {str(e)}')\n",
        "  return df_info_repo\n",
        "\n",
        "def gera_df_dados(pasta_n_commit):\n",
        "  lista_linguagens, lista_files, lista_blank, lista_comment, lista_code = list(), list(), list(), list(), list()\n",
        "  l_temp = []\n",
        "  vl_temp = []\n",
        "  os.environ['REPOSITORIO_INICIAL'] = pasta_n_commit\n",
        "  try:\n",
        "    # Detalha os tipos de arquivos que aparecem no repositório do nome_repositorio\n",
        "    relacao_linguagens = !cd $REPOSITORIO_INICIAL && cloc .\n",
        "    #relacao_linguagens[checa_indice_language(relacao_linguagens):]\n",
        "    linguagens_encontradas = relacao_linguagens[(checa_indice_language(relacao_linguagens)+2):]\n",
        "    for linha in linguagens_encontradas:\n",
        "      elementos = linha.split(' ')\n",
        "      novos_elementos = []\n",
        "      linguagem_encontrada = []\n",
        "      valores_da_linguagem = []\n",
        "      for item in elementos:\n",
        "        if item != '':\n",
        "          novos_elementos.append(item)\n",
        "      linguagem_encontrada.append(novos_elementos[:-4])\n",
        "      valores_da_linguagem.append(novos_elementos[-4:])\n",
        "      l_temp = l_temp + linguagem_encontrada\n",
        "      vl_temp = vl_temp + valores_da_linguagem\n",
        "\n",
        "    l_temp = l_temp[:-3]\n",
        "    vl_temp = vl_temp[:-3]\n",
        "    for i,each in enumerate(vl_temp):\n",
        "      lista_files.append(each[0])\n",
        "      lista_blank.append(each[1])\n",
        "      lista_comment.append(each[2])\n",
        "      lista_code.append(each[3])\n",
        "  except Exception as e:\n",
        "    print(f'Erro: {str(e)}')\n",
        "  try:\n",
        "    dict_dados_linguagens = {\n",
        "    'linguagens':l_temp,\n",
        "    'files':lista_files,\n",
        "    'blank':lista_blank,\n",
        "    'comment':lista_comment,\n",
        "    'code':lista_code\n",
        "    }\n",
        "    df_dados_linguagens = pd.DataFrame(dict_dados_linguagens)\n",
        "    df_dados_linguagens['files'] = df_dados_linguagens['files'].apply(lambda x: int(x))\n",
        "    df_dados_linguagens['blank'] = df_dados_linguagens['blank'].apply(lambda x: int(x))\n",
        "    df_dados_linguagens['comment'] = df_dados_linguagens['comment'].apply(lambda x: int(x))\n",
        "    df_dados_linguagens['code'] = df_dados_linguagens['code'].apply(lambda x: int(x))\n",
        "  except Exception as e2:\n",
        "    print(f'Erro: {str(e2)}')\n",
        "\n",
        "  return df_dados_linguagens\n",
        "\n",
        "def gera_df_dados_repositorios(df_info_repo, df_info_repo_cf):\n",
        "  df_repo = None\n",
        "  try:\n",
        "    l_cf = df_info_repo_cf.columns.tolist()\n",
        "    c_c1 = df_info_repo.iloc[0].to_list()\n",
        "    c_cf = df_info_repo_cf.iloc[0].to_list()\n",
        "\n",
        "    dict_repo= {\n",
        "        'descricao':l_cf,\n",
        "        'dados_c1':c_c1,\n",
        "        'dados_cf':c_cf\n",
        "    }\n",
        "    df_repo = pd.DataFrame(dict_repo)\n",
        "  except Exception as e:\n",
        "    print(f'Erro: {str(3)}')\n",
        "  return df_repo\n",
        "\n",
        "def gera_df_dados_repositorios2(df_info_repo, df_info_repo_cf):\n",
        "  df_repo = None\n",
        "  try:\n",
        "    l_cf = df_info_repo_cf.columns.tolist()\n",
        "    c_c1 = df_info_repo.iloc[0].to_list()\n",
        "    c_cf = df_info_repo_cf.iloc[0].to_list()\n",
        "\n",
        "    dict_repo= {\n",
        "        'dados_cf':c_cf\n",
        "    }\n",
        "    df_repo = pd.DataFrame(dict_repo)\n",
        "  except Exception as e:\n",
        "    print(f'Erro: {str(3)}')\n",
        "  return df_repo"
      ],
      "metadata": {
        "id": "9JcHh2pUjBwZ"
      },
      "execution_count": 14,
      "outputs": []
    },
    {
      "cell_type": "code",
      "source": [
        "def download_designite():\n",
        "  try:\n",
        "    url = 'https://www.designite-tools.com/static/download/DJC/DesigniteJava.jar'  # replace with the URL of the file you want to download\n",
        "    filename = 'DesigniteJava.jar'  # replace with the desired filename to save the downloaded file\n",
        "    response = requests.get(url)\n",
        "\n",
        "    with open(filename, 'wb') as f:\n",
        "        f.write(response.content)\n",
        "\n",
        "    print(f'{filename} downloaded successfully!')\n",
        "  except Excetpion as e:\n",
        "    print(f'Erro: {str(e)}')\n",
        "\n",
        "#core/src/main/java\n",
        "def run_designite(tag, pasta_testes):\n",
        "  try:\n",
        "    os.environ['TESTES'] = pasta_testes\n",
        "    os.environ['KAFKA'] = tag + 'core/src/main/java'\n",
        "    cria_pasta_testes = !mkdir $TESTES\n",
        "    print(cria_pasta_testes)\n",
        "    executa_designite = !java -jar DesigniteJava.jar -i $KAFKA -o $TESTES\n",
        "    print(executa_designite)\n",
        "  except Exception as e:\n",
        "    print(f'Erro: {str(e)}')\n",
        "\n",
        "def gera_df_design_smells(pasta_testes, lista):\n",
        "  path_file = pasta_testes + '/' + 'designCodeSmells.csv'\n",
        "  df_ds = pd.read_csv(path_file)\n",
        "  elemento = pasta_testes,df_ds\n",
        "  lista.append(elemento)\n",
        "  return df_ds"
      ],
      "metadata": {
        "id": "s1jslI7nIS5s"
      },
      "execution_count": 5,
      "outputs": []
    },
    {
      "cell_type": "code",
      "source": [
        "def is_valid_url(url):\n",
        "    try:\n",
        "        response = requests.head(url)\n",
        "        return response.status_code in range(200, 300)  # Check if status code is in the 2xx range\n",
        "    except requests.exceptions.RequestException:\n",
        "        return False  # Any error or exception indicates an invalid or non-existent URL\n",
        "\n",
        "'''\n",
        "Example usage:\n",
        "url1 = \"https://www.example.com\"\n",
        "url2 = \"https://www.invalid-url.com\"\n",
        "print(is_valid_url(url1))  # Output: True\n",
        "print(is_valid_url(url2))  # Output: False\n",
        "'''"
      ],
      "metadata": {
        "colab": {
          "base_uri": "https://localhost:8080/",
          "height": 36
        },
        "id": "VL5TC2KSLlxj",
        "outputId": "69025cca-f9d0-470f-ad9a-105cb674e40b"
      },
      "execution_count": 6,
      "outputs": [
        {
          "output_type": "execute_result",
          "data": {
            "text/plain": [
              "'\\nExample usage:\\nurl1 = \"https://www.example.com\"\\nurl2 = \"https://www.invalid-url.com\"\\nprint(is_valid_url(url1))  # Output: True\\nprint(is_valid_url(url2))  # Output: False\\n'"
            ],
            "application/vnd.google.colaboratory.intrinsic+json": {
              "type": "string"
            }
          },
          "metadata": {},
          "execution_count": 6
        }
      ]
    },
    {
      "cell_type": "code",
      "source": [
        "import re\n",
        "\n",
        "def get_elements_with_pattern(strings_list, pattern):\n",
        "    matching_elements = [s for s in strings_list if re.search(pattern, s)]\n",
        "    return matching_elements\n",
        "\n",
        "# Example list of strings\n",
        "strings_list = ['gson-parent-1.0', 'gson-parent-2.0', 'gson-child-1.0', 'gson-parent-3.0']\n",
        "pattern_to_match = r'gson-parent'\n",
        "\n",
        "result = get_elements_with_pattern(strings_list, pattern_to_match)\n",
        "print(result)"
      ],
      "metadata": {
        "colab": {
          "base_uri": "https://localhost:8080/"
        },
        "id": "3gD-NpP8PAEL",
        "outputId": "13fa30e2-244b-4f9a-fd11-39e0c9249db8"
      },
      "execution_count": 7,
      "outputs": [
        {
          "output_type": "stream",
          "name": "stdout",
          "text": [
            "['gson-parent-1.0', 'gson-parent-2.0', 'gson-parent-3.0']\n"
          ]
        }
      ]
    },
    {
      "cell_type": "markdown",
      "source": [
        "# Análise Designite"
      ],
      "metadata": {
        "id": "WCdMnQMKjIpE"
      }
    },
    {
      "cell_type": "code",
      "source": [
        "import requests\n",
        "\n",
        "url = 'https://www.designite-tools.com/static/download/DJC/DesigniteJava.jar'  # replace with the URL of the file you want to download\n",
        "filename = 'DesigniteJava.jar'  # replace with the desired filename to save the downloaded file\n",
        "response = requests.get(url)\n",
        "\n",
        "with open(filename, 'wb') as f:\n",
        "    f.write(response.content)\n",
        "\n",
        "print(f'{filename} downloaded successfully!')"
      ],
      "metadata": {
        "colab": {
          "base_uri": "https://localhost:8080/"
        },
        "id": "kxqq7fasoVSI",
        "outputId": "56c4c1ba-ded6-4a5f-de82-fea09758c053"
      },
      "execution_count": 8,
      "outputs": [
        {
          "output_type": "stream",
          "name": "stdout",
          "text": [
            "DesigniteJava.jar downloaded successfully!\n"
          ]
        }
      ]
    },
    {
      "cell_type": "code",
      "source": [
        "!git clone https://github.com/apache/kafka.git"
      ],
      "metadata": {
        "colab": {
          "base_uri": "https://localhost:8080/"
        },
        "id": "8SymGi6Hp-i_",
        "outputId": "3c5c4117-a857-47a7-b1f9-b28b58ebe773"
      },
      "execution_count": 9,
      "outputs": [
        {
          "output_type": "stream",
          "name": "stdout",
          "text": [
            "Cloning into 'kafka'...\n",
            "remote: Enumerating objects: 345347, done.\u001b[K\n",
            "remote: Total 345347 (delta 0), reused 0 (delta 0), pack-reused 345347\u001b[K\n",
            "Receiving objects: 100% (345347/345347), 160.70 MiB | 18.84 MiB/s, done.\n",
            "Resolving deltas: 100% (166539/166539), done.\n"
          ]
        }
      ]
    },
    {
      "cell_type": "code",
      "source": [
        "!tree kafka"
      ],
      "metadata": {
        "id": "SZtTQBdCLvPB"
      },
      "execution_count": null,
      "outputs": []
    },
    {
      "cell_type": "markdown",
      "source": [
        "### Pega a lista de tags"
      ],
      "metadata": {
        "id": "1eI2uSOsObfj"
      }
    },
    {
      "cell_type": "code",
      "source": [
        "lista_tags_kafka = !cd kafka && git tag"
      ],
      "metadata": {
        "id": "LpzQWAlgNiiK"
      },
      "execution_count": 11,
      "outputs": []
    },
    {
      "cell_type": "code",
      "source": [
        "pattern_to_extract = r'3.'\n",
        "get_elements_with_pattern(lista_tags_kafka, pattern_to_extract)"
      ],
      "metadata": {
        "colab": {
          "base_uri": "https://localhost:8080/"
        },
        "id": "5fOFsYKvPcyO",
        "outputId": "bc020c59-ae66-4e54-a896-3edb3a0569f2"
      },
      "execution_count": 12,
      "outputs": [
        {
          "output_type": "execute_result",
          "data": {
            "text/plain": [
              "['0.11.0.3-rc0',\n",
              " '2.3.0',\n",
              " '2.3.0-rc1',\n",
              " '2.3.0-rc2',\n",
              " '2.3.0-rc3',\n",
              " '2.3.1',\n",
              " '2.3.1-rc0',\n",
              " '2.3.1-rc1',\n",
              " '2.3.1-rc2',\n",
              " '2.6.3-rc0',\n",
              " '3.0.0',\n",
              " '3.0.0-rc0',\n",
              " '3.0.0-rc1',\n",
              " '3.0.0-rc2',\n",
              " '3.0.1',\n",
              " '3.0.1-rc0',\n",
              " '3.0.2',\n",
              " '3.0.2-rc0',\n",
              " '3.1.0',\n",
              " '3.1.0-rc0',\n",
              " '3.1.0-rc1',\n",
              " '3.1.1',\n",
              " '3.1.1-rc0',\n",
              " '3.1.1-rc1',\n",
              " '3.1.2',\n",
              " '3.1.2-rc0',\n",
              " '3.2.0',\n",
              " '3.2.0-rc0',\n",
              " '3.2.0-rc1',\n",
              " '3.2.1',\n",
              " '3.2.1-rc2',\n",
              " '3.2.1-rc3',\n",
              " '3.2.2',\n",
              " '3.2.2-rc0',\n",
              " '3.2.3',\n",
              " '3.2.3-rc0',\n",
              " '3.3.0',\n",
              " '3.3.0-rc1',\n",
              " '3.3.0-rc2',\n",
              " '3.3.1',\n",
              " '3.3.1-rc0',\n",
              " '3.3.2',\n",
              " '3.3.2-rc0',\n",
              " '3.3.2-rc1',\n",
              " '3.4.0',\n",
              " '3.4.0-rc0',\n",
              " '3.4.0-rc1',\n",
              " '3.4.0-rc2',\n",
              " '3.4.1',\n",
              " '3.4.1-rc0',\n",
              " '3.4.1-rc1',\n",
              " '3.4.1-rc2',\n",
              " '3.4.1-rc3',\n",
              " '3.5.0',\n",
              " '3.5.0-rc0',\n",
              " '3.5.0-rc1',\n",
              " '3.5.1',\n",
              " '3.5.1-rc0',\n",
              " '3.5.1-rc1']"
            ]
          },
          "metadata": {},
          "execution_count": 12
        }
      ]
    },
    {
      "cell_type": "markdown",
      "source": [
        "# Análise da tag kafka_3_0_1"
      ],
      "metadata": {
        "id": "5N7Xn3-AmyYv"
      }
    },
    {
      "cell_type": "code",
      "source": [
        "# Cria uma nova pasta para referenciar apenas os dados do 1o commit\n",
        "commit_tag_3_0_1 = get_commit_tag(tag='3.0.1')\n",
        "cria_pasta_n_commit(repositorio='kafka', pasta_n_commit='commit_tag_3_0_1')\n",
        "checkout_n_commit('commit_tag_3_0_1', commit_tag_3_0_1[0])"
      ],
      "metadata": {
        "colab": {
          "base_uri": "https://localhost:8080/"
        },
        "id": "Z6kvDZUdjps4",
        "outputId": "b471dceb-f9b7-44b6-f710-992d60ffbb00"
      },
      "execution_count": 15,
      "outputs": [
        {
          "output_type": "stream",
          "name": "stdout",
          "text": [
            "Checkout do repositorio no commit 8e30984f43e64d8b9c2715c431a8906c98d26b86 realizado com sucesso!\n"
          ]
        }
      ]
    },
    {
      "cell_type": "code",
      "source": [
        "ls -liath commit_tag_3_0_1/core/src/main/java"
      ],
      "metadata": {
        "colab": {
          "base_uri": "https://localhost:8080/"
        },
        "id": "hndqvtzZRFY5",
        "outputId": "29e643a8-3074-4724-b94c-d4151c22fab1"
      },
      "execution_count": 17,
      "outputs": [
        {
          "output_type": "stream",
          "name": "stdout",
          "text": [
            "total 12K\n",
            "2237521 drwxr-xr-x 3 root root 4.0K Aug 27 13:57 \u001b[0m\u001b[01;34m.\u001b[0m/\n",
            "2238162 drwxr-xr-x 5 root root 4.0K Aug 27 13:57 \u001b[01;34m..\u001b[0m/\n",
            "2237522 drwxr-xr-x 3 root root 4.0K Aug 27 13:57 \u001b[01;34mkafka\u001b[0m/\n"
          ]
        }
      ]
    },
    {
      "cell_type": "code",
      "source": [
        "!java -jar DesigniteJava.jar -i commit_tag_3_0_1/core/src/main/java -o commit_tag_3_0_1"
      ],
      "metadata": {
        "id": "UIqow7Hep_eb",
        "colab": {
          "base_uri": "https://localhost:8080/"
        },
        "outputId": "d45999c4-5a7b-4caa-968a-bd09dabe1ffd"
      },
      "execution_count": 18,
      "outputs": [
        {
          "output_type": "stream",
          "name": "stdout",
          "text": [
            "Parsing the source code ...\n",
            "Resolving symbols...\n",
            "Extracting metrics...\n",
            "Extracting code smells...\n",
            "Done.\n"
          ]
        }
      ]
    },
    {
      "cell_type": "code",
      "source": [
        "!ls -liat commit_tag_3_0_1/designCodeSmells.csv"
      ],
      "metadata": {
        "colab": {
          "base_uri": "https://localhost:8080/"
        },
        "id": "XTPfjC7jSygU",
        "outputId": "93faad61-1d01-48cd-95f0-808931578cb0"
      },
      "execution_count": 19,
      "outputs": [
        {
          "output_type": "stream",
          "name": "stdout",
          "text": [
            "2235388 -rw-r--r-- 1 root root 109 Aug 27 13:58 commit_tag_3_0_1/designCodeSmells.csv\n"
          ]
        }
      ]
    },
    {
      "cell_type": "code",
      "source": [
        "df_design_smells = pd.read_csv('commit_tag_3_0_1/designCodeSmells.csv')"
      ],
      "metadata": {
        "id": "vhpq_FR1sN9X"
      },
      "execution_count": 20,
      "outputs": []
    },
    {
      "cell_type": "code",
      "source": [
        "df_design_smells"
      ],
      "metadata": {
        "colab": {
          "base_uri": "https://localhost:8080/",
          "height": 81
        },
        "id": "C_ixwf5WUX-C",
        "outputId": "11523864-4324-4ad5-8063-9cab40022907"
      },
      "execution_count": 21,
      "outputs": [
        {
          "output_type": "execute_result",
          "data": {
            "text/plain": [
              "  Project Name   Package Name           Type Name               Code Smell\n",
              "0         java  kafka.metrics  KafkaYammerMetrics  Deficient Encapsulation"
            ],
            "text/html": [
              "\n",
              "  <div id=\"df-afd02613-9845-4bd6-864f-1934804bb6e9\" class=\"colab-df-container\">\n",
              "    <div>\n",
              "<style scoped>\n",
              "    .dataframe tbody tr th:only-of-type {\n",
              "        vertical-align: middle;\n",
              "    }\n",
              "\n",
              "    .dataframe tbody tr th {\n",
              "        vertical-align: top;\n",
              "    }\n",
              "\n",
              "    .dataframe thead th {\n",
              "        text-align: right;\n",
              "    }\n",
              "</style>\n",
              "<table border=\"1\" class=\"dataframe\">\n",
              "  <thead>\n",
              "    <tr style=\"text-align: right;\">\n",
              "      <th></th>\n",
              "      <th>Project Name</th>\n",
              "      <th>Package Name</th>\n",
              "      <th>Type Name</th>\n",
              "      <th>Code Smell</th>\n",
              "    </tr>\n",
              "  </thead>\n",
              "  <tbody>\n",
              "    <tr>\n",
              "      <th>0</th>\n",
              "      <td>java</td>\n",
              "      <td>kafka.metrics</td>\n",
              "      <td>KafkaYammerMetrics</td>\n",
              "      <td>Deficient Encapsulation</td>\n",
              "    </tr>\n",
              "  </tbody>\n",
              "</table>\n",
              "</div>\n",
              "    <div class=\"colab-df-buttons\">\n",
              "\n",
              "  <div class=\"colab-df-container\">\n",
              "    <button class=\"colab-df-convert\" onclick=\"convertToInteractive('df-afd02613-9845-4bd6-864f-1934804bb6e9')\"\n",
              "            title=\"Convert this dataframe to an interactive table.\"\n",
              "            style=\"display:none;\">\n",
              "\n",
              "  <svg xmlns=\"http://www.w3.org/2000/svg\" height=\"24px\" viewBox=\"0 -960 960 960\">\n",
              "    <path d=\"M120-120v-720h720v720H120Zm60-500h600v-160H180v160Zm220 220h160v-160H400v160Zm0 220h160v-160H400v160ZM180-400h160v-160H180v160Zm440 0h160v-160H620v160ZM180-180h160v-160H180v160Zm440 0h160v-160H620v160Z\"/>\n",
              "  </svg>\n",
              "    </button>\n",
              "\n",
              "  <style>\n",
              "    .colab-df-container {\n",
              "      display:flex;\n",
              "      gap: 12px;\n",
              "    }\n",
              "\n",
              "    .colab-df-convert {\n",
              "      background-color: #E8F0FE;\n",
              "      border: none;\n",
              "      border-radius: 50%;\n",
              "      cursor: pointer;\n",
              "      display: none;\n",
              "      fill: #1967D2;\n",
              "      height: 32px;\n",
              "      padding: 0 0 0 0;\n",
              "      width: 32px;\n",
              "    }\n",
              "\n",
              "    .colab-df-convert:hover {\n",
              "      background-color: #E2EBFA;\n",
              "      box-shadow: 0px 1px 2px rgba(60, 64, 67, 0.3), 0px 1px 3px 1px rgba(60, 64, 67, 0.15);\n",
              "      fill: #174EA6;\n",
              "    }\n",
              "\n",
              "    .colab-df-buttons div {\n",
              "      margin-bottom: 4px;\n",
              "    }\n",
              "\n",
              "    [theme=dark] .colab-df-convert {\n",
              "      background-color: #3B4455;\n",
              "      fill: #D2E3FC;\n",
              "    }\n",
              "\n",
              "    [theme=dark] .colab-df-convert:hover {\n",
              "      background-color: #434B5C;\n",
              "      box-shadow: 0px 1px 3px 1px rgba(0, 0, 0, 0.15);\n",
              "      filter: drop-shadow(0px 1px 2px rgba(0, 0, 0, 0.3));\n",
              "      fill: #FFFFFF;\n",
              "    }\n",
              "  </style>\n",
              "\n",
              "    <script>\n",
              "      const buttonEl =\n",
              "        document.querySelector('#df-afd02613-9845-4bd6-864f-1934804bb6e9 button.colab-df-convert');\n",
              "      buttonEl.style.display =\n",
              "        google.colab.kernel.accessAllowed ? 'block' : 'none';\n",
              "\n",
              "      async function convertToInteractive(key) {\n",
              "        const element = document.querySelector('#df-afd02613-9845-4bd6-864f-1934804bb6e9');\n",
              "        const dataTable =\n",
              "          await google.colab.kernel.invokeFunction('convertToInteractive',\n",
              "                                                    [key], {});\n",
              "        if (!dataTable) return;\n",
              "\n",
              "        const docLinkHtml = 'Like what you see? Visit the ' +\n",
              "          '<a target=\"_blank\" href=https://colab.research.google.com/notebooks/data_table.ipynb>data table notebook</a>'\n",
              "          + ' to learn more about interactive tables.';\n",
              "        element.innerHTML = '';\n",
              "        dataTable['output_type'] = 'display_data';\n",
              "        await google.colab.output.renderOutput(dataTable, element);\n",
              "        const docLink = document.createElement('div');\n",
              "        docLink.innerHTML = docLinkHtml;\n",
              "        element.appendChild(docLink);\n",
              "      }\n",
              "    </script>\n",
              "  </div>\n",
              "\n",
              "    </div>\n",
              "  </div>\n"
            ]
          },
          "metadata": {},
          "execution_count": 21
        }
      ]
    },
    {
      "cell_type": "code",
      "source": [
        "df_design_smells['Type Name'].unique()"
      ],
      "metadata": {
        "colab": {
          "base_uri": "https://localhost:8080/"
        },
        "id": "DlhHL3sOUdPn",
        "outputId": "d69ca254-8003-4ab4-a850-3b9864fcc7bd"
      },
      "execution_count": 22,
      "outputs": [
        {
          "output_type": "execute_result",
          "data": {
            "text/plain": [
              "array(['KafkaYammerMetrics'], dtype=object)"
            ]
          },
          "metadata": {},
          "execution_count": 22
        }
      ]
    },
    {
      "cell_type": "code",
      "source": [
        "# Esta lista eh oriunda da analise AMLOC x FOC e das analises dos 3o quartis AMLOC e FOC\n",
        "df_temp_kafka = pd.read_csv('https://raw.githubusercontent.com/armandossrecife/kafka-treemap/main/results/kafka_java_20_critical.csv')\n",
        "df_temp_kafka"
      ],
      "metadata": {
        "id": "w8v00v9sTGXP",
        "colab": {
          "base_uri": "https://localhost:8080/",
          "height": 677
        },
        "outputId": "e82dac82-a167-4bc1-c205-3c2ab58b2e72"
      },
      "execution_count": 23,
      "outputs": [
        {
          "output_type": "execute_result",
          "data": {
            "text/plain": [
              "    Unnamed: 0                           File  Frequency  lines_modified  \\\n",
              "0          452              StreamThread.java        323           14137   \n",
              "1          168             KafkaConsumer.java        287           10142   \n",
              "2          403                   KStream.java        121           18622   \n",
              "3         1372          KafkaAdminClient.java        191           10647   \n",
              "4          451                StreamTask.java        212            7250   \n",
              "5          233                   Fetcher.java        195            7834   \n",
              "6          760              KafkaStreams.java        201            7232   \n",
              "7         1555               TaskManager.java        158            7917   \n",
              "8          419               KStreamImpl.java        134            8558   \n",
              "9           35             KafkaProducer.java        218            4765   \n",
              "10         761             StreamsConfig.java        177            4618   \n",
              "11         558       ConsumerCoordinator.java        160            4836   \n",
              "12          46                    Sender.java        144            5341   \n",
              "13         556       AbstractCoordinator.java        148            4792   \n",
              "14         669                KTableImpl.java        118            5563   \n",
              "15         666                    KTable.java         69            8083   \n",
              "16        1922  StreamsPartitionAssignor.java         96            5668   \n",
              "17         179             NetworkClient.java        131            3869   \n",
              "18        1527   InternalTopologyBuilder.java         93            5109   \n",
              "19         107                  Protocol.java         75            5770   \n",
              "\n",
              "     fcxflc  \n",
              "0   4566251  \n",
              "1   2910754  \n",
              "2   2253262  \n",
              "3   2033577  \n",
              "4   1537000  \n",
              "5   1527630  \n",
              "6   1453632  \n",
              "7   1250886  \n",
              "8   1146772  \n",
              "9   1038770  \n",
              "10   817386  \n",
              "11   773760  \n",
              "12   769104  \n",
              "13   709216  \n",
              "14   656434  \n",
              "15   557727  \n",
              "16   544128  \n",
              "17   506839  \n",
              "18   475137  \n",
              "19   432750  "
            ],
            "text/html": [
              "\n",
              "  <div id=\"df-775da455-8202-4656-84a6-95959cc71fb6\" class=\"colab-df-container\">\n",
              "    <div>\n",
              "<style scoped>\n",
              "    .dataframe tbody tr th:only-of-type {\n",
              "        vertical-align: middle;\n",
              "    }\n",
              "\n",
              "    .dataframe tbody tr th {\n",
              "        vertical-align: top;\n",
              "    }\n",
              "\n",
              "    .dataframe thead th {\n",
              "        text-align: right;\n",
              "    }\n",
              "</style>\n",
              "<table border=\"1\" class=\"dataframe\">\n",
              "  <thead>\n",
              "    <tr style=\"text-align: right;\">\n",
              "      <th></th>\n",
              "      <th>Unnamed: 0</th>\n",
              "      <th>File</th>\n",
              "      <th>Frequency</th>\n",
              "      <th>lines_modified</th>\n",
              "      <th>fcxflc</th>\n",
              "    </tr>\n",
              "  </thead>\n",
              "  <tbody>\n",
              "    <tr>\n",
              "      <th>0</th>\n",
              "      <td>452</td>\n",
              "      <td>StreamThread.java</td>\n",
              "      <td>323</td>\n",
              "      <td>14137</td>\n",
              "      <td>4566251</td>\n",
              "    </tr>\n",
              "    <tr>\n",
              "      <th>1</th>\n",
              "      <td>168</td>\n",
              "      <td>KafkaConsumer.java</td>\n",
              "      <td>287</td>\n",
              "      <td>10142</td>\n",
              "      <td>2910754</td>\n",
              "    </tr>\n",
              "    <tr>\n",
              "      <th>2</th>\n",
              "      <td>403</td>\n",
              "      <td>KStream.java</td>\n",
              "      <td>121</td>\n",
              "      <td>18622</td>\n",
              "      <td>2253262</td>\n",
              "    </tr>\n",
              "    <tr>\n",
              "      <th>3</th>\n",
              "      <td>1372</td>\n",
              "      <td>KafkaAdminClient.java</td>\n",
              "      <td>191</td>\n",
              "      <td>10647</td>\n",
              "      <td>2033577</td>\n",
              "    </tr>\n",
              "    <tr>\n",
              "      <th>4</th>\n",
              "      <td>451</td>\n",
              "      <td>StreamTask.java</td>\n",
              "      <td>212</td>\n",
              "      <td>7250</td>\n",
              "      <td>1537000</td>\n",
              "    </tr>\n",
              "    <tr>\n",
              "      <th>5</th>\n",
              "      <td>233</td>\n",
              "      <td>Fetcher.java</td>\n",
              "      <td>195</td>\n",
              "      <td>7834</td>\n",
              "      <td>1527630</td>\n",
              "    </tr>\n",
              "    <tr>\n",
              "      <th>6</th>\n",
              "      <td>760</td>\n",
              "      <td>KafkaStreams.java</td>\n",
              "      <td>201</td>\n",
              "      <td>7232</td>\n",
              "      <td>1453632</td>\n",
              "    </tr>\n",
              "    <tr>\n",
              "      <th>7</th>\n",
              "      <td>1555</td>\n",
              "      <td>TaskManager.java</td>\n",
              "      <td>158</td>\n",
              "      <td>7917</td>\n",
              "      <td>1250886</td>\n",
              "    </tr>\n",
              "    <tr>\n",
              "      <th>8</th>\n",
              "      <td>419</td>\n",
              "      <td>KStreamImpl.java</td>\n",
              "      <td>134</td>\n",
              "      <td>8558</td>\n",
              "      <td>1146772</td>\n",
              "    </tr>\n",
              "    <tr>\n",
              "      <th>9</th>\n",
              "      <td>35</td>\n",
              "      <td>KafkaProducer.java</td>\n",
              "      <td>218</td>\n",
              "      <td>4765</td>\n",
              "      <td>1038770</td>\n",
              "    </tr>\n",
              "    <tr>\n",
              "      <th>10</th>\n",
              "      <td>761</td>\n",
              "      <td>StreamsConfig.java</td>\n",
              "      <td>177</td>\n",
              "      <td>4618</td>\n",
              "      <td>817386</td>\n",
              "    </tr>\n",
              "    <tr>\n",
              "      <th>11</th>\n",
              "      <td>558</td>\n",
              "      <td>ConsumerCoordinator.java</td>\n",
              "      <td>160</td>\n",
              "      <td>4836</td>\n",
              "      <td>773760</td>\n",
              "    </tr>\n",
              "    <tr>\n",
              "      <th>12</th>\n",
              "      <td>46</td>\n",
              "      <td>Sender.java</td>\n",
              "      <td>144</td>\n",
              "      <td>5341</td>\n",
              "      <td>769104</td>\n",
              "    </tr>\n",
              "    <tr>\n",
              "      <th>13</th>\n",
              "      <td>556</td>\n",
              "      <td>AbstractCoordinator.java</td>\n",
              "      <td>148</td>\n",
              "      <td>4792</td>\n",
              "      <td>709216</td>\n",
              "    </tr>\n",
              "    <tr>\n",
              "      <th>14</th>\n",
              "      <td>669</td>\n",
              "      <td>KTableImpl.java</td>\n",
              "      <td>118</td>\n",
              "      <td>5563</td>\n",
              "      <td>656434</td>\n",
              "    </tr>\n",
              "    <tr>\n",
              "      <th>15</th>\n",
              "      <td>666</td>\n",
              "      <td>KTable.java</td>\n",
              "      <td>69</td>\n",
              "      <td>8083</td>\n",
              "      <td>557727</td>\n",
              "    </tr>\n",
              "    <tr>\n",
              "      <th>16</th>\n",
              "      <td>1922</td>\n",
              "      <td>StreamsPartitionAssignor.java</td>\n",
              "      <td>96</td>\n",
              "      <td>5668</td>\n",
              "      <td>544128</td>\n",
              "    </tr>\n",
              "    <tr>\n",
              "      <th>17</th>\n",
              "      <td>179</td>\n",
              "      <td>NetworkClient.java</td>\n",
              "      <td>131</td>\n",
              "      <td>3869</td>\n",
              "      <td>506839</td>\n",
              "    </tr>\n",
              "    <tr>\n",
              "      <th>18</th>\n",
              "      <td>1527</td>\n",
              "      <td>InternalTopologyBuilder.java</td>\n",
              "      <td>93</td>\n",
              "      <td>5109</td>\n",
              "      <td>475137</td>\n",
              "    </tr>\n",
              "    <tr>\n",
              "      <th>19</th>\n",
              "      <td>107</td>\n",
              "      <td>Protocol.java</td>\n",
              "      <td>75</td>\n",
              "      <td>5770</td>\n",
              "      <td>432750</td>\n",
              "    </tr>\n",
              "  </tbody>\n",
              "</table>\n",
              "</div>\n",
              "    <div class=\"colab-df-buttons\">\n",
              "\n",
              "  <div class=\"colab-df-container\">\n",
              "    <button class=\"colab-df-convert\" onclick=\"convertToInteractive('df-775da455-8202-4656-84a6-95959cc71fb6')\"\n",
              "            title=\"Convert this dataframe to an interactive table.\"\n",
              "            style=\"display:none;\">\n",
              "\n",
              "  <svg xmlns=\"http://www.w3.org/2000/svg\" height=\"24px\" viewBox=\"0 -960 960 960\">\n",
              "    <path d=\"M120-120v-720h720v720H120Zm60-500h600v-160H180v160Zm220 220h160v-160H400v160Zm0 220h160v-160H400v160ZM180-400h160v-160H180v160Zm440 0h160v-160H620v160ZM180-180h160v-160H180v160Zm440 0h160v-160H620v160Z\"/>\n",
              "  </svg>\n",
              "    </button>\n",
              "\n",
              "  <style>\n",
              "    .colab-df-container {\n",
              "      display:flex;\n",
              "      gap: 12px;\n",
              "    }\n",
              "\n",
              "    .colab-df-convert {\n",
              "      background-color: #E8F0FE;\n",
              "      border: none;\n",
              "      border-radius: 50%;\n",
              "      cursor: pointer;\n",
              "      display: none;\n",
              "      fill: #1967D2;\n",
              "      height: 32px;\n",
              "      padding: 0 0 0 0;\n",
              "      width: 32px;\n",
              "    }\n",
              "\n",
              "    .colab-df-convert:hover {\n",
              "      background-color: #E2EBFA;\n",
              "      box-shadow: 0px 1px 2px rgba(60, 64, 67, 0.3), 0px 1px 3px 1px rgba(60, 64, 67, 0.15);\n",
              "      fill: #174EA6;\n",
              "    }\n",
              "\n",
              "    .colab-df-buttons div {\n",
              "      margin-bottom: 4px;\n",
              "    }\n",
              "\n",
              "    [theme=dark] .colab-df-convert {\n",
              "      background-color: #3B4455;\n",
              "      fill: #D2E3FC;\n",
              "    }\n",
              "\n",
              "    [theme=dark] .colab-df-convert:hover {\n",
              "      background-color: #434B5C;\n",
              "      box-shadow: 0px 1px 3px 1px rgba(0, 0, 0, 0.15);\n",
              "      filter: drop-shadow(0px 1px 2px rgba(0, 0, 0, 0.3));\n",
              "      fill: #FFFFFF;\n",
              "    }\n",
              "  </style>\n",
              "\n",
              "    <script>\n",
              "      const buttonEl =\n",
              "        document.querySelector('#df-775da455-8202-4656-84a6-95959cc71fb6 button.colab-df-convert');\n",
              "      buttonEl.style.display =\n",
              "        google.colab.kernel.accessAllowed ? 'block' : 'none';\n",
              "\n",
              "      async function convertToInteractive(key) {\n",
              "        const element = document.querySelector('#df-775da455-8202-4656-84a6-95959cc71fb6');\n",
              "        const dataTable =\n",
              "          await google.colab.kernel.invokeFunction('convertToInteractive',\n",
              "                                                    [key], {});\n",
              "        if (!dataTable) return;\n",
              "\n",
              "        const docLinkHtml = 'Like what you see? Visit the ' +\n",
              "          '<a target=\"_blank\" href=https://colab.research.google.com/notebooks/data_table.ipynb>data table notebook</a>'\n",
              "          + ' to learn more about interactive tables.';\n",
              "        element.innerHTML = '';\n",
              "        dataTable['output_type'] = 'display_data';\n",
              "        await google.colab.output.renderOutput(dataTable, element);\n",
              "        const docLink = document.createElement('div');\n",
              "        docLink.innerHTML = docLinkHtml;\n",
              "        element.appendChild(docLink);\n",
              "      }\n",
              "    </script>\n",
              "  </div>\n",
              "\n",
              "\n",
              "<div id=\"df-92743987-8aa2-4097-8f8a-52cffde2ca55\">\n",
              "  <button class=\"colab-df-quickchart\" onclick=\"quickchart('df-92743987-8aa2-4097-8f8a-52cffde2ca55')\"\n",
              "            title=\"Suggest charts.\"\n",
              "            style=\"display:none;\">\n",
              "\n",
              "<svg xmlns=\"http://www.w3.org/2000/svg\" height=\"24px\"viewBox=\"0 0 24 24\"\n",
              "     width=\"24px\">\n",
              "    <g>\n",
              "        <path d=\"M19 3H5c-1.1 0-2 .9-2 2v14c0 1.1.9 2 2 2h14c1.1 0 2-.9 2-2V5c0-1.1-.9-2-2-2zM9 17H7v-7h2v7zm4 0h-2V7h2v10zm4 0h-2v-4h2v4z\"/>\n",
              "    </g>\n",
              "</svg>\n",
              "  </button>\n",
              "\n",
              "<style>\n",
              "  .colab-df-quickchart {\n",
              "    background-color: #E8F0FE;\n",
              "    border: none;\n",
              "    border-radius: 50%;\n",
              "    cursor: pointer;\n",
              "    display: none;\n",
              "    fill: #1967D2;\n",
              "    height: 32px;\n",
              "    padding: 0 0 0 0;\n",
              "    width: 32px;\n",
              "  }\n",
              "\n",
              "  .colab-df-quickchart:hover {\n",
              "    background-color: #E2EBFA;\n",
              "    box-shadow: 0px 1px 2px rgba(60, 64, 67, 0.3), 0px 1px 3px 1px rgba(60, 64, 67, 0.15);\n",
              "    fill: #174EA6;\n",
              "  }\n",
              "\n",
              "  [theme=dark] .colab-df-quickchart {\n",
              "    background-color: #3B4455;\n",
              "    fill: #D2E3FC;\n",
              "  }\n",
              "\n",
              "  [theme=dark] .colab-df-quickchart:hover {\n",
              "    background-color: #434B5C;\n",
              "    box-shadow: 0px 1px 3px 1px rgba(0, 0, 0, 0.15);\n",
              "    filter: drop-shadow(0px 1px 2px rgba(0, 0, 0, 0.3));\n",
              "    fill: #FFFFFF;\n",
              "  }\n",
              "</style>\n",
              "\n",
              "  <script>\n",
              "    async function quickchart(key) {\n",
              "      const charts = await google.colab.kernel.invokeFunction(\n",
              "          'suggestCharts', [key], {});\n",
              "    }\n",
              "    (() => {\n",
              "      let quickchartButtonEl =\n",
              "        document.querySelector('#df-92743987-8aa2-4097-8f8a-52cffde2ca55 button');\n",
              "      quickchartButtonEl.style.display =\n",
              "        google.colab.kernel.accessAllowed ? 'block' : 'none';\n",
              "    })();\n",
              "  </script>\n",
              "</div>\n",
              "    </div>\n",
              "  </div>\n"
            ]
          },
          "metadata": {},
          "execution_count": 23
        }
      ]
    },
    {
      "cell_type": "code",
      "source": [
        "lista_classes_criticas = df_temp_kafka.File.tolist()\n",
        "lista_classes_criticas"
      ],
      "metadata": {
        "colab": {
          "base_uri": "https://localhost:8080/"
        },
        "id": "uIhIsXHXTZ0X",
        "outputId": "aa3fe03f-9d51-4da1-9dd3-f552b8fa1500"
      },
      "execution_count": 24,
      "outputs": [
        {
          "output_type": "execute_result",
          "data": {
            "text/plain": [
              "['StreamThread.java',\n",
              " 'KafkaConsumer.java',\n",
              " 'KStream.java',\n",
              " 'KafkaAdminClient.java',\n",
              " 'StreamTask.java',\n",
              " 'Fetcher.java',\n",
              " 'KafkaStreams.java',\n",
              " 'TaskManager.java',\n",
              " 'KStreamImpl.java',\n",
              " 'KafkaProducer.java',\n",
              " 'StreamsConfig.java',\n",
              " 'ConsumerCoordinator.java',\n",
              " 'Sender.java',\n",
              " 'AbstractCoordinator.java',\n",
              " 'KTableImpl.java',\n",
              " 'KTable.java',\n",
              " 'StreamsPartitionAssignor.java',\n",
              " 'NetworkClient.java',\n",
              " 'InternalTopologyBuilder.java',\n",
              " 'Protocol.java']"
            ]
          },
          "metadata": {},
          "execution_count": 24
        }
      ]
    },
    {
      "cell_type": "code",
      "source": [
        "pesquisa = df_design_smells['Type Name'].str.contains('|'.join(lista_classes_criticas))"
      ],
      "metadata": {
        "id": "Njn6XuivUkrg"
      },
      "execution_count": 25,
      "outputs": []
    },
    {
      "cell_type": "code",
      "source": [
        "df_critical_classes = df_design_smells[pesquisa]\n",
        "df_critical_classes"
      ],
      "metadata": {
        "colab": {
          "base_uri": "https://localhost:8080/",
          "height": 53
        },
        "id": "BSWCrcJ7Uo-9",
        "outputId": "43c598f0-a14c-4168-c343-1f5fb5d72ba9"
      },
      "execution_count": 26,
      "outputs": [
        {
          "output_type": "execute_result",
          "data": {
            "text/plain": [
              "Empty DataFrame\n",
              "Columns: [Project Name, Package Name, Type Name, Code Smell]\n",
              "Index: []"
            ],
            "text/html": [
              "\n",
              "  <div id=\"df-87a18e21-c245-49fc-b0c7-4fd51993fc40\" class=\"colab-df-container\">\n",
              "    <div>\n",
              "<style scoped>\n",
              "    .dataframe tbody tr th:only-of-type {\n",
              "        vertical-align: middle;\n",
              "    }\n",
              "\n",
              "    .dataframe tbody tr th {\n",
              "        vertical-align: top;\n",
              "    }\n",
              "\n",
              "    .dataframe thead th {\n",
              "        text-align: right;\n",
              "    }\n",
              "</style>\n",
              "<table border=\"1\" class=\"dataframe\">\n",
              "  <thead>\n",
              "    <tr style=\"text-align: right;\">\n",
              "      <th></th>\n",
              "      <th>Project Name</th>\n",
              "      <th>Package Name</th>\n",
              "      <th>Type Name</th>\n",
              "      <th>Code Smell</th>\n",
              "    </tr>\n",
              "  </thead>\n",
              "  <tbody>\n",
              "  </tbody>\n",
              "</table>\n",
              "</div>\n",
              "    <div class=\"colab-df-buttons\">\n",
              "\n",
              "  <div class=\"colab-df-container\">\n",
              "    <button class=\"colab-df-convert\" onclick=\"convertToInteractive('df-87a18e21-c245-49fc-b0c7-4fd51993fc40')\"\n",
              "            title=\"Convert this dataframe to an interactive table.\"\n",
              "            style=\"display:none;\">\n",
              "\n",
              "  <svg xmlns=\"http://www.w3.org/2000/svg\" height=\"24px\" viewBox=\"0 -960 960 960\">\n",
              "    <path d=\"M120-120v-720h720v720H120Zm60-500h600v-160H180v160Zm220 220h160v-160H400v160Zm0 220h160v-160H400v160ZM180-400h160v-160H180v160Zm440 0h160v-160H620v160ZM180-180h160v-160H180v160Zm440 0h160v-160H620v160Z\"/>\n",
              "  </svg>\n",
              "    </button>\n",
              "\n",
              "  <style>\n",
              "    .colab-df-container {\n",
              "      display:flex;\n",
              "      gap: 12px;\n",
              "    }\n",
              "\n",
              "    .colab-df-convert {\n",
              "      background-color: #E8F0FE;\n",
              "      border: none;\n",
              "      border-radius: 50%;\n",
              "      cursor: pointer;\n",
              "      display: none;\n",
              "      fill: #1967D2;\n",
              "      height: 32px;\n",
              "      padding: 0 0 0 0;\n",
              "      width: 32px;\n",
              "    }\n",
              "\n",
              "    .colab-df-convert:hover {\n",
              "      background-color: #E2EBFA;\n",
              "      box-shadow: 0px 1px 2px rgba(60, 64, 67, 0.3), 0px 1px 3px 1px rgba(60, 64, 67, 0.15);\n",
              "      fill: #174EA6;\n",
              "    }\n",
              "\n",
              "    .colab-df-buttons div {\n",
              "      margin-bottom: 4px;\n",
              "    }\n",
              "\n",
              "    [theme=dark] .colab-df-convert {\n",
              "      background-color: #3B4455;\n",
              "      fill: #D2E3FC;\n",
              "    }\n",
              "\n",
              "    [theme=dark] .colab-df-convert:hover {\n",
              "      background-color: #434B5C;\n",
              "      box-shadow: 0px 1px 3px 1px rgba(0, 0, 0, 0.15);\n",
              "      filter: drop-shadow(0px 1px 2px rgba(0, 0, 0, 0.3));\n",
              "      fill: #FFFFFF;\n",
              "    }\n",
              "  </style>\n",
              "\n",
              "    <script>\n",
              "      const buttonEl =\n",
              "        document.querySelector('#df-87a18e21-c245-49fc-b0c7-4fd51993fc40 button.colab-df-convert');\n",
              "      buttonEl.style.display =\n",
              "        google.colab.kernel.accessAllowed ? 'block' : 'none';\n",
              "\n",
              "      async function convertToInteractive(key) {\n",
              "        const element = document.querySelector('#df-87a18e21-c245-49fc-b0c7-4fd51993fc40');\n",
              "        const dataTable =\n",
              "          await google.colab.kernel.invokeFunction('convertToInteractive',\n",
              "                                                    [key], {});\n",
              "        if (!dataTable) return;\n",
              "\n",
              "        const docLinkHtml = 'Like what you see? Visit the ' +\n",
              "          '<a target=\"_blank\" href=https://colab.research.google.com/notebooks/data_table.ipynb>data table notebook</a>'\n",
              "          + ' to learn more about interactive tables.';\n",
              "        element.innerHTML = '';\n",
              "        dataTable['output_type'] = 'display_data';\n",
              "        await google.colab.output.renderOutput(dataTable, element);\n",
              "        const docLink = document.createElement('div');\n",
              "        docLink.innerHTML = docLinkHtml;\n",
              "        element.appendChild(docLink);\n",
              "      }\n",
              "    </script>\n",
              "  </div>\n",
              "\n",
              "    </div>\n",
              "  </div>\n"
            ]
          },
          "metadata": {},
          "execution_count": 26
        }
      ]
    },
    {
      "cell_type": "code",
      "source": [
        "df_critical_classes.columns = ['ProjectName', 'PackageName', 'TypeName', 'CodeSmell']\n",
        "df_critical_classes = df_critical_classes.query(\"CodeSmell=='Cyclic-Dependent Modularization' or CodeSmell=='Hub-like Modularization'\")\n",
        "df_critical_classes"
      ],
      "metadata": {
        "colab": {
          "base_uri": "https://localhost:8080/",
          "height": 53
        },
        "id": "ZbhLXxRaUy5C",
        "outputId": "3626ff56-b228-4388-8a11-7e74a18fc950"
      },
      "execution_count": 27,
      "outputs": [
        {
          "output_type": "execute_result",
          "data": {
            "text/plain": [
              "Empty DataFrame\n",
              "Columns: [ProjectName, PackageName, TypeName, CodeSmell]\n",
              "Index: []"
            ],
            "text/html": [
              "\n",
              "  <div id=\"df-f8e35b74-bb4f-44bc-8b3c-522e9dfbc0c5\" class=\"colab-df-container\">\n",
              "    <div>\n",
              "<style scoped>\n",
              "    .dataframe tbody tr th:only-of-type {\n",
              "        vertical-align: middle;\n",
              "    }\n",
              "\n",
              "    .dataframe tbody tr th {\n",
              "        vertical-align: top;\n",
              "    }\n",
              "\n",
              "    .dataframe thead th {\n",
              "        text-align: right;\n",
              "    }\n",
              "</style>\n",
              "<table border=\"1\" class=\"dataframe\">\n",
              "  <thead>\n",
              "    <tr style=\"text-align: right;\">\n",
              "      <th></th>\n",
              "      <th>ProjectName</th>\n",
              "      <th>PackageName</th>\n",
              "      <th>TypeName</th>\n",
              "      <th>CodeSmell</th>\n",
              "    </tr>\n",
              "  </thead>\n",
              "  <tbody>\n",
              "  </tbody>\n",
              "</table>\n",
              "</div>\n",
              "    <div class=\"colab-df-buttons\">\n",
              "\n",
              "  <div class=\"colab-df-container\">\n",
              "    <button class=\"colab-df-convert\" onclick=\"convertToInteractive('df-f8e35b74-bb4f-44bc-8b3c-522e9dfbc0c5')\"\n",
              "            title=\"Convert this dataframe to an interactive table.\"\n",
              "            style=\"display:none;\">\n",
              "\n",
              "  <svg xmlns=\"http://www.w3.org/2000/svg\" height=\"24px\" viewBox=\"0 -960 960 960\">\n",
              "    <path d=\"M120-120v-720h720v720H120Zm60-500h600v-160H180v160Zm220 220h160v-160H400v160Zm0 220h160v-160H400v160ZM180-400h160v-160H180v160Zm440 0h160v-160H620v160ZM180-180h160v-160H180v160Zm440 0h160v-160H620v160Z\"/>\n",
              "  </svg>\n",
              "    </button>\n",
              "\n",
              "  <style>\n",
              "    .colab-df-container {\n",
              "      display:flex;\n",
              "      gap: 12px;\n",
              "    }\n",
              "\n",
              "    .colab-df-convert {\n",
              "      background-color: #E8F0FE;\n",
              "      border: none;\n",
              "      border-radius: 50%;\n",
              "      cursor: pointer;\n",
              "      display: none;\n",
              "      fill: #1967D2;\n",
              "      height: 32px;\n",
              "      padding: 0 0 0 0;\n",
              "      width: 32px;\n",
              "    }\n",
              "\n",
              "    .colab-df-convert:hover {\n",
              "      background-color: #E2EBFA;\n",
              "      box-shadow: 0px 1px 2px rgba(60, 64, 67, 0.3), 0px 1px 3px 1px rgba(60, 64, 67, 0.15);\n",
              "      fill: #174EA6;\n",
              "    }\n",
              "\n",
              "    .colab-df-buttons div {\n",
              "      margin-bottom: 4px;\n",
              "    }\n",
              "\n",
              "    [theme=dark] .colab-df-convert {\n",
              "      background-color: #3B4455;\n",
              "      fill: #D2E3FC;\n",
              "    }\n",
              "\n",
              "    [theme=dark] .colab-df-convert:hover {\n",
              "      background-color: #434B5C;\n",
              "      box-shadow: 0px 1px 3px 1px rgba(0, 0, 0, 0.15);\n",
              "      filter: drop-shadow(0px 1px 2px rgba(0, 0, 0, 0.3));\n",
              "      fill: #FFFFFF;\n",
              "    }\n",
              "  </style>\n",
              "\n",
              "    <script>\n",
              "      const buttonEl =\n",
              "        document.querySelector('#df-f8e35b74-bb4f-44bc-8b3c-522e9dfbc0c5 button.colab-df-convert');\n",
              "      buttonEl.style.display =\n",
              "        google.colab.kernel.accessAllowed ? 'block' : 'none';\n",
              "\n",
              "      async function convertToInteractive(key) {\n",
              "        const element = document.querySelector('#df-f8e35b74-bb4f-44bc-8b3c-522e9dfbc0c5');\n",
              "        const dataTable =\n",
              "          await google.colab.kernel.invokeFunction('convertToInteractive',\n",
              "                                                    [key], {});\n",
              "        if (!dataTable) return;\n",
              "\n",
              "        const docLinkHtml = 'Like what you see? Visit the ' +\n",
              "          '<a target=\"_blank\" href=https://colab.research.google.com/notebooks/data_table.ipynb>data table notebook</a>'\n",
              "          + ' to learn more about interactive tables.';\n",
              "        element.innerHTML = '';\n",
              "        dataTable['output_type'] = 'display_data';\n",
              "        await google.colab.output.renderOutput(dataTable, element);\n",
              "        const docLink = document.createElement('div');\n",
              "        docLink.innerHTML = docLinkHtml;\n",
              "        element.appendChild(docLink);\n",
              "      }\n",
              "    </script>\n",
              "  </div>\n",
              "\n",
              "    </div>\n",
              "  </div>\n"
            ]
          },
          "metadata": {},
          "execution_count": 27
        }
      ]
    },
    {
      "cell_type": "code",
      "source": [
        "df_analise_designite_critical_classes = df_critical_classes.sort_values(by='TypeName')\n",
        "df_analise_designite_critical_classes.to_csv('commit_tag_3_0_1/analise_designite_classes_criticas.csv', index=False)\n",
        "df_design_smells.to_csv('commit_tag_3_0_1/analise_designite.csv', index=False)"
      ],
      "metadata": {
        "id": "I4Nvqrl2TJcm"
      },
      "execution_count": 29,
      "outputs": []
    },
    {
      "cell_type": "markdown",
      "source": [
        "# Análise da tag 3_5_1"
      ],
      "metadata": {
        "id": "y2me-uZUm06N"
      }
    },
    {
      "cell_type": "code",
      "source": [
        "# Cria uma nova pasta para referenciar apenas os dados do 1o commit\n",
        "commit_tag_3_5_1 = get_commit_tag(tag='3.5.1')\n",
        "cria_pasta_n_commit(repositorio='kafka', pasta_n_commit='commit_tag_3_5_1')\n",
        "checkout_n_commit('commit_tag_3_5_1', commit_tag_3_5_1[0])"
      ],
      "metadata": {
        "colab": {
          "base_uri": "https://localhost:8080/"
        },
        "id": "AKt_5CiHxWfS",
        "outputId": "95262222-1bae-4d62-d405-b5003c426254"
      },
      "execution_count": 30,
      "outputs": [
        {
          "output_type": "stream",
          "name": "stdout",
          "text": [
            "Checkout do repositorio no commit 2c6fb6c54472e90ae17439e62540ef3cb0426fe3 realizado com sucesso!\n"
          ]
        }
      ]
    },
    {
      "cell_type": "code",
      "source": [
        "!java -jar DesigniteJava.jar -i commit_tag_3_5_1/core/src/main/java -o commit_tag_3_5_1"
      ],
      "metadata": {
        "colab": {
          "base_uri": "https://localhost:8080/"
        },
        "id": "ZGE-0LtfvS0n",
        "outputId": "44aa564c-d1e0-4497-f507-bf769ce79f34"
      },
      "execution_count": 31,
      "outputs": [
        {
          "output_type": "stream",
          "name": "stdout",
          "text": [
            "Parsing the source code ...\n",
            "Resolving symbols...\n",
            "Extracting metrics...\n",
            "Extracting code smells...\n",
            "Done.\n"
          ]
        }
      ]
    },
    {
      "cell_type": "code",
      "source": [
        "df_design_smells_final = pd.read_csv('commit_tag_3_5_1/designCodeSmells.csv')"
      ],
      "metadata": {
        "id": "_ujVXDUXWkRL"
      },
      "execution_count": 32,
      "outputs": []
    },
    {
      "cell_type": "code",
      "source": [
        "df_design_smells_final"
      ],
      "metadata": {
        "colab": {
          "base_uri": "https://localhost:8080/",
          "height": 426
        },
        "id": "fFaTXaaBXNsL",
        "outputId": "5133fe2a-1aef-49b5-8afa-4feff36c43e1"
      },
      "execution_count": 37,
      "outputs": [
        {
          "output_type": "execute_result",
          "data": {
            "text/plain": [
              "   Project Name           Package Name                            Type Name  \\\n",
              "0          java  kafka.server.builders                     KafkaApisBuilder   \n",
              "1          java  kafka.server.builders                     KafkaApisBuilder   \n",
              "2          java  kafka.server.builders                ReplicaManagerBuilder   \n",
              "3          java  kafka.server.builders                ReplicaManagerBuilder   \n",
              "4          java  kafka.server.builders                    LogManagerBuilder   \n",
              "5          java           kafka.server  ReplicaAlterLogDirsTierStateMachine   \n",
              "6          java           kafka.server                     TierStateMachine   \n",
              "7          java           kafka.server       ReplicaFetcherTierStateMachine   \n",
              "8          java       kafka.log.remote                     RemoteLogManager   \n",
              "9          java       kafka.log.remote                  CancellableRunnable   \n",
              "10         java       kafka.log.remote                              RLMTask   \n",
              "11         java       kafka.log.remote                              RLMTask   \n",
              "\n",
              "                     Code Smell  \n",
              "0        Unutilized Abstraction  \n",
              "1   Insufficient Modularization  \n",
              "2        Unutilized Abstraction  \n",
              "3   Insufficient Modularization  \n",
              "4        Unutilized Abstraction  \n",
              "5        Unutilized Abstraction  \n",
              "6        Unutilized Abstraction  \n",
              "7        Unutilized Abstraction  \n",
              "8   Insufficient Modularization  \n",
              "9        Unutilized Abstraction  \n",
              "10       Unutilized Abstraction  \n",
              "11             Broken Hierarchy  "
            ],
            "text/html": [
              "\n",
              "  <div id=\"df-ff4b3e8c-3cc5-4a68-bf66-4dc33bb8cb5e\" class=\"colab-df-container\">\n",
              "    <div>\n",
              "<style scoped>\n",
              "    .dataframe tbody tr th:only-of-type {\n",
              "        vertical-align: middle;\n",
              "    }\n",
              "\n",
              "    .dataframe tbody tr th {\n",
              "        vertical-align: top;\n",
              "    }\n",
              "\n",
              "    .dataframe thead th {\n",
              "        text-align: right;\n",
              "    }\n",
              "</style>\n",
              "<table border=\"1\" class=\"dataframe\">\n",
              "  <thead>\n",
              "    <tr style=\"text-align: right;\">\n",
              "      <th></th>\n",
              "      <th>Project Name</th>\n",
              "      <th>Package Name</th>\n",
              "      <th>Type Name</th>\n",
              "      <th>Code Smell</th>\n",
              "    </tr>\n",
              "  </thead>\n",
              "  <tbody>\n",
              "    <tr>\n",
              "      <th>0</th>\n",
              "      <td>java</td>\n",
              "      <td>kafka.server.builders</td>\n",
              "      <td>KafkaApisBuilder</td>\n",
              "      <td>Unutilized Abstraction</td>\n",
              "    </tr>\n",
              "    <tr>\n",
              "      <th>1</th>\n",
              "      <td>java</td>\n",
              "      <td>kafka.server.builders</td>\n",
              "      <td>KafkaApisBuilder</td>\n",
              "      <td>Insufficient Modularization</td>\n",
              "    </tr>\n",
              "    <tr>\n",
              "      <th>2</th>\n",
              "      <td>java</td>\n",
              "      <td>kafka.server.builders</td>\n",
              "      <td>ReplicaManagerBuilder</td>\n",
              "      <td>Unutilized Abstraction</td>\n",
              "    </tr>\n",
              "    <tr>\n",
              "      <th>3</th>\n",
              "      <td>java</td>\n",
              "      <td>kafka.server.builders</td>\n",
              "      <td>ReplicaManagerBuilder</td>\n",
              "      <td>Insufficient Modularization</td>\n",
              "    </tr>\n",
              "    <tr>\n",
              "      <th>4</th>\n",
              "      <td>java</td>\n",
              "      <td>kafka.server.builders</td>\n",
              "      <td>LogManagerBuilder</td>\n",
              "      <td>Unutilized Abstraction</td>\n",
              "    </tr>\n",
              "    <tr>\n",
              "      <th>5</th>\n",
              "      <td>java</td>\n",
              "      <td>kafka.server</td>\n",
              "      <td>ReplicaAlterLogDirsTierStateMachine</td>\n",
              "      <td>Unutilized Abstraction</td>\n",
              "    </tr>\n",
              "    <tr>\n",
              "      <th>6</th>\n",
              "      <td>java</td>\n",
              "      <td>kafka.server</td>\n",
              "      <td>TierStateMachine</td>\n",
              "      <td>Unutilized Abstraction</td>\n",
              "    </tr>\n",
              "    <tr>\n",
              "      <th>7</th>\n",
              "      <td>java</td>\n",
              "      <td>kafka.server</td>\n",
              "      <td>ReplicaFetcherTierStateMachine</td>\n",
              "      <td>Unutilized Abstraction</td>\n",
              "    </tr>\n",
              "    <tr>\n",
              "      <th>8</th>\n",
              "      <td>java</td>\n",
              "      <td>kafka.log.remote</td>\n",
              "      <td>RemoteLogManager</td>\n",
              "      <td>Insufficient Modularization</td>\n",
              "    </tr>\n",
              "    <tr>\n",
              "      <th>9</th>\n",
              "      <td>java</td>\n",
              "      <td>kafka.log.remote</td>\n",
              "      <td>CancellableRunnable</td>\n",
              "      <td>Unutilized Abstraction</td>\n",
              "    </tr>\n",
              "    <tr>\n",
              "      <th>10</th>\n",
              "      <td>java</td>\n",
              "      <td>kafka.log.remote</td>\n",
              "      <td>RLMTask</td>\n",
              "      <td>Unutilized Abstraction</td>\n",
              "    </tr>\n",
              "    <tr>\n",
              "      <th>11</th>\n",
              "      <td>java</td>\n",
              "      <td>kafka.log.remote</td>\n",
              "      <td>RLMTask</td>\n",
              "      <td>Broken Hierarchy</td>\n",
              "    </tr>\n",
              "  </tbody>\n",
              "</table>\n",
              "</div>\n",
              "    <div class=\"colab-df-buttons\">\n",
              "\n",
              "  <div class=\"colab-df-container\">\n",
              "    <button class=\"colab-df-convert\" onclick=\"convertToInteractive('df-ff4b3e8c-3cc5-4a68-bf66-4dc33bb8cb5e')\"\n",
              "            title=\"Convert this dataframe to an interactive table.\"\n",
              "            style=\"display:none;\">\n",
              "\n",
              "  <svg xmlns=\"http://www.w3.org/2000/svg\" height=\"24px\" viewBox=\"0 -960 960 960\">\n",
              "    <path d=\"M120-120v-720h720v720H120Zm60-500h600v-160H180v160Zm220 220h160v-160H400v160Zm0 220h160v-160H400v160ZM180-400h160v-160H180v160Zm440 0h160v-160H620v160ZM180-180h160v-160H180v160Zm440 0h160v-160H620v160Z\"/>\n",
              "  </svg>\n",
              "    </button>\n",
              "\n",
              "  <style>\n",
              "    .colab-df-container {\n",
              "      display:flex;\n",
              "      gap: 12px;\n",
              "    }\n",
              "\n",
              "    .colab-df-convert {\n",
              "      background-color: #E8F0FE;\n",
              "      border: none;\n",
              "      border-radius: 50%;\n",
              "      cursor: pointer;\n",
              "      display: none;\n",
              "      fill: #1967D2;\n",
              "      height: 32px;\n",
              "      padding: 0 0 0 0;\n",
              "      width: 32px;\n",
              "    }\n",
              "\n",
              "    .colab-df-convert:hover {\n",
              "      background-color: #E2EBFA;\n",
              "      box-shadow: 0px 1px 2px rgba(60, 64, 67, 0.3), 0px 1px 3px 1px rgba(60, 64, 67, 0.15);\n",
              "      fill: #174EA6;\n",
              "    }\n",
              "\n",
              "    .colab-df-buttons div {\n",
              "      margin-bottom: 4px;\n",
              "    }\n",
              "\n",
              "    [theme=dark] .colab-df-convert {\n",
              "      background-color: #3B4455;\n",
              "      fill: #D2E3FC;\n",
              "    }\n",
              "\n",
              "    [theme=dark] .colab-df-convert:hover {\n",
              "      background-color: #434B5C;\n",
              "      box-shadow: 0px 1px 3px 1px rgba(0, 0, 0, 0.15);\n",
              "      filter: drop-shadow(0px 1px 2px rgba(0, 0, 0, 0.3));\n",
              "      fill: #FFFFFF;\n",
              "    }\n",
              "  </style>\n",
              "\n",
              "    <script>\n",
              "      const buttonEl =\n",
              "        document.querySelector('#df-ff4b3e8c-3cc5-4a68-bf66-4dc33bb8cb5e button.colab-df-convert');\n",
              "      buttonEl.style.display =\n",
              "        google.colab.kernel.accessAllowed ? 'block' : 'none';\n",
              "\n",
              "      async function convertToInteractive(key) {\n",
              "        const element = document.querySelector('#df-ff4b3e8c-3cc5-4a68-bf66-4dc33bb8cb5e');\n",
              "        const dataTable =\n",
              "          await google.colab.kernel.invokeFunction('convertToInteractive',\n",
              "                                                    [key], {});\n",
              "        if (!dataTable) return;\n",
              "\n",
              "        const docLinkHtml = 'Like what you see? Visit the ' +\n",
              "          '<a target=\"_blank\" href=https://colab.research.google.com/notebooks/data_table.ipynb>data table notebook</a>'\n",
              "          + ' to learn more about interactive tables.';\n",
              "        element.innerHTML = '';\n",
              "        dataTable['output_type'] = 'display_data';\n",
              "        await google.colab.output.renderOutput(dataTable, element);\n",
              "        const docLink = document.createElement('div');\n",
              "        docLink.innerHTML = docLinkHtml;\n",
              "        element.appendChild(docLink);\n",
              "      }\n",
              "    </script>\n",
              "  </div>\n",
              "\n",
              "\n",
              "<div id=\"df-b26d9e59-d979-4c11-87c8-c6bbe5f22434\">\n",
              "  <button class=\"colab-df-quickchart\" onclick=\"quickchart('df-b26d9e59-d979-4c11-87c8-c6bbe5f22434')\"\n",
              "            title=\"Suggest charts.\"\n",
              "            style=\"display:none;\">\n",
              "\n",
              "<svg xmlns=\"http://www.w3.org/2000/svg\" height=\"24px\"viewBox=\"0 0 24 24\"\n",
              "     width=\"24px\">\n",
              "    <g>\n",
              "        <path d=\"M19 3H5c-1.1 0-2 .9-2 2v14c0 1.1.9 2 2 2h14c1.1 0 2-.9 2-2V5c0-1.1-.9-2-2-2zM9 17H7v-7h2v7zm4 0h-2V7h2v10zm4 0h-2v-4h2v4z\"/>\n",
              "    </g>\n",
              "</svg>\n",
              "  </button>\n",
              "\n",
              "<style>\n",
              "  .colab-df-quickchart {\n",
              "    background-color: #E8F0FE;\n",
              "    border: none;\n",
              "    border-radius: 50%;\n",
              "    cursor: pointer;\n",
              "    display: none;\n",
              "    fill: #1967D2;\n",
              "    height: 32px;\n",
              "    padding: 0 0 0 0;\n",
              "    width: 32px;\n",
              "  }\n",
              "\n",
              "  .colab-df-quickchart:hover {\n",
              "    background-color: #E2EBFA;\n",
              "    box-shadow: 0px 1px 2px rgba(60, 64, 67, 0.3), 0px 1px 3px 1px rgba(60, 64, 67, 0.15);\n",
              "    fill: #174EA6;\n",
              "  }\n",
              "\n",
              "  [theme=dark] .colab-df-quickchart {\n",
              "    background-color: #3B4455;\n",
              "    fill: #D2E3FC;\n",
              "  }\n",
              "\n",
              "  [theme=dark] .colab-df-quickchart:hover {\n",
              "    background-color: #434B5C;\n",
              "    box-shadow: 0px 1px 3px 1px rgba(0, 0, 0, 0.15);\n",
              "    filter: drop-shadow(0px 1px 2px rgba(0, 0, 0, 0.3));\n",
              "    fill: #FFFFFF;\n",
              "  }\n",
              "</style>\n",
              "\n",
              "  <script>\n",
              "    async function quickchart(key) {\n",
              "      const charts = await google.colab.kernel.invokeFunction(\n",
              "          'suggestCharts', [key], {});\n",
              "    }\n",
              "    (() => {\n",
              "      let quickchartButtonEl =\n",
              "        document.querySelector('#df-b26d9e59-d979-4c11-87c8-c6bbe5f22434 button');\n",
              "      quickchartButtonEl.style.display =\n",
              "        google.colab.kernel.accessAllowed ? 'block' : 'none';\n",
              "    })();\n",
              "  </script>\n",
              "</div>\n",
              "    </div>\n",
              "  </div>\n"
            ]
          },
          "metadata": {},
          "execution_count": 37
        }
      ]
    },
    {
      "cell_type": "code",
      "source": [
        "pesquisa_final = df_design_smells_final['Type Name'].str.contains('|'.join(lista_classes_criticas))"
      ],
      "metadata": {
        "id": "kKxS5kKsXRuw"
      },
      "execution_count": 34,
      "outputs": []
    },
    {
      "cell_type": "code",
      "source": [
        "df_critical_classes_final = df_design_smells_final[pesquisa_final]\n",
        "df_critical_classes_final.columns = ['ProjectName', 'PackageName', 'TypeName', 'CodeSmell']\n",
        "df_critical_classes_final = df_critical_classes_final.query(\"CodeSmell=='Cyclic-Dependent Modularization' or CodeSmell=='Hub-like Modularization'\")"
      ],
      "metadata": {
        "id": "uxpBtHXGXaCZ"
      },
      "execution_count": 41,
      "outputs": []
    },
    {
      "cell_type": "code",
      "source": [
        "df_critical_classes_final"
      ],
      "metadata": {
        "colab": {
          "base_uri": "https://localhost:8080/",
          "height": 53
        },
        "id": "Zv53Y5rlXmOv",
        "outputId": "5b2d612c-d320-4671-9c54-98cb577287e5"
      },
      "execution_count": 42,
      "outputs": [
        {
          "output_type": "execute_result",
          "data": {
            "text/plain": [
              "Empty DataFrame\n",
              "Columns: [ProjectName, PackageName, TypeName, CodeSmell]\n",
              "Index: []"
            ],
            "text/html": [
              "\n",
              "  <div id=\"df-090ac1c7-84b6-48fa-b396-5e0a56680280\" class=\"colab-df-container\">\n",
              "    <div>\n",
              "<style scoped>\n",
              "    .dataframe tbody tr th:only-of-type {\n",
              "        vertical-align: middle;\n",
              "    }\n",
              "\n",
              "    .dataframe tbody tr th {\n",
              "        vertical-align: top;\n",
              "    }\n",
              "\n",
              "    .dataframe thead th {\n",
              "        text-align: right;\n",
              "    }\n",
              "</style>\n",
              "<table border=\"1\" class=\"dataframe\">\n",
              "  <thead>\n",
              "    <tr style=\"text-align: right;\">\n",
              "      <th></th>\n",
              "      <th>ProjectName</th>\n",
              "      <th>PackageName</th>\n",
              "      <th>TypeName</th>\n",
              "      <th>CodeSmell</th>\n",
              "    </tr>\n",
              "  </thead>\n",
              "  <tbody>\n",
              "  </tbody>\n",
              "</table>\n",
              "</div>\n",
              "    <div class=\"colab-df-buttons\">\n",
              "\n",
              "  <div class=\"colab-df-container\">\n",
              "    <button class=\"colab-df-convert\" onclick=\"convertToInteractive('df-090ac1c7-84b6-48fa-b396-5e0a56680280')\"\n",
              "            title=\"Convert this dataframe to an interactive table.\"\n",
              "            style=\"display:none;\">\n",
              "\n",
              "  <svg xmlns=\"http://www.w3.org/2000/svg\" height=\"24px\" viewBox=\"0 -960 960 960\">\n",
              "    <path d=\"M120-120v-720h720v720H120Zm60-500h600v-160H180v160Zm220 220h160v-160H400v160Zm0 220h160v-160H400v160ZM180-400h160v-160H180v160Zm440 0h160v-160H620v160ZM180-180h160v-160H180v160Zm440 0h160v-160H620v160Z\"/>\n",
              "  </svg>\n",
              "    </button>\n",
              "\n",
              "  <style>\n",
              "    .colab-df-container {\n",
              "      display:flex;\n",
              "      gap: 12px;\n",
              "    }\n",
              "\n",
              "    .colab-df-convert {\n",
              "      background-color: #E8F0FE;\n",
              "      border: none;\n",
              "      border-radius: 50%;\n",
              "      cursor: pointer;\n",
              "      display: none;\n",
              "      fill: #1967D2;\n",
              "      height: 32px;\n",
              "      padding: 0 0 0 0;\n",
              "      width: 32px;\n",
              "    }\n",
              "\n",
              "    .colab-df-convert:hover {\n",
              "      background-color: #E2EBFA;\n",
              "      box-shadow: 0px 1px 2px rgba(60, 64, 67, 0.3), 0px 1px 3px 1px rgba(60, 64, 67, 0.15);\n",
              "      fill: #174EA6;\n",
              "    }\n",
              "\n",
              "    .colab-df-buttons div {\n",
              "      margin-bottom: 4px;\n",
              "    }\n",
              "\n",
              "    [theme=dark] .colab-df-convert {\n",
              "      background-color: #3B4455;\n",
              "      fill: #D2E3FC;\n",
              "    }\n",
              "\n",
              "    [theme=dark] .colab-df-convert:hover {\n",
              "      background-color: #434B5C;\n",
              "      box-shadow: 0px 1px 3px 1px rgba(0, 0, 0, 0.15);\n",
              "      filter: drop-shadow(0px 1px 2px rgba(0, 0, 0, 0.3));\n",
              "      fill: #FFFFFF;\n",
              "    }\n",
              "  </style>\n",
              "\n",
              "    <script>\n",
              "      const buttonEl =\n",
              "        document.querySelector('#df-090ac1c7-84b6-48fa-b396-5e0a56680280 button.colab-df-convert');\n",
              "      buttonEl.style.display =\n",
              "        google.colab.kernel.accessAllowed ? 'block' : 'none';\n",
              "\n",
              "      async function convertToInteractive(key) {\n",
              "        const element = document.querySelector('#df-090ac1c7-84b6-48fa-b396-5e0a56680280');\n",
              "        const dataTable =\n",
              "          await google.colab.kernel.invokeFunction('convertToInteractive',\n",
              "                                                    [key], {});\n",
              "        if (!dataTable) return;\n",
              "\n",
              "        const docLinkHtml = 'Like what you see? Visit the ' +\n",
              "          '<a target=\"_blank\" href=https://colab.research.google.com/notebooks/data_table.ipynb>data table notebook</a>'\n",
              "          + ' to learn more about interactive tables.';\n",
              "        element.innerHTML = '';\n",
              "        dataTable['output_type'] = 'display_data';\n",
              "        await google.colab.output.renderOutput(dataTable, element);\n",
              "        const docLink = document.createElement('div');\n",
              "        docLink.innerHTML = docLinkHtml;\n",
              "        element.appendChild(docLink);\n",
              "      }\n",
              "    </script>\n",
              "  </div>\n",
              "\n",
              "    </div>\n",
              "  </div>\n"
            ]
          },
          "metadata": {},
          "execution_count": 42
        }
      ]
    },
    {
      "cell_type": "code",
      "source": [
        "df_analise_designite_critical_classes_final = df_critical_classes_final.sort_values(by='TypeName')\n",
        "df_analise_designite_critical_classes_final.to_csv('commit_tag_3_5_1/analise_designite_classes_criticas.csv', index=False)\n",
        "df_design_smells_final.to_csv('commit_tag_3_5_1/analise_designite.csv', index=False)"
      ],
      "metadata": {
        "id": "PQgFAJmZiEt5"
      },
      "execution_count": 43,
      "outputs": []
    },
    {
      "cell_type": "code",
      "source": [],
      "metadata": {
        "id": "6oH3jbEvUsAB"
      },
      "execution_count": null,
      "outputs": []
    }
  ]
}