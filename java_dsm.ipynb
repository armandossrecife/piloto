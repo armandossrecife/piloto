{
  "nbformat": 4,
  "nbformat_minor": 0,
  "metadata": {
    "colab": {
      "provenance": [],
      "authorship_tag": "ABX9TyP6Nd6Dq1ONVmtlFcSpXQTF",
      "include_colab_link": true
    },
    "kernelspec": {
      "name": "python3",
      "display_name": "Python 3"
    },
    "language_info": {
      "name": "python"
    }
  },
  "cells": [
    {
      "cell_type": "markdown",
      "metadata": {
        "id": "view-in-github",
        "colab_type": "text"
      },
      "source": [
        "<a href=\"https://colab.research.google.com/github/armandossrecife/piloto/blob/main/java_dsm.ipynb\" target=\"_parent\"><img src=\"https://colab.research.google.com/assets/colab-badge.svg\" alt=\"Open In Colab\"/></a>"
      ]
    },
    {
      "cell_type": "code",
      "source": [
        "!pip install GitPython"
      ],
      "metadata": {
        "colab": {
          "base_uri": "https://localhost:8080/"
        },
        "id": "be1a2h7dP_IC",
        "outputId": "1bcebc23-e9e5-4572-d832-468c845f48f8"
      },
      "execution_count": 2,
      "outputs": [
        {
          "output_type": "stream",
          "name": "stdout",
          "text": [
            "Collecting GitPython\n",
            "  Downloading GitPython-3.1.32-py3-none-any.whl (188 kB)\n",
            "\u001b[?25l     \u001b[90m━━━━━━━━━━━━━━━━━━━━━━━━━━━━━━━━━━━━━━━━\u001b[0m \u001b[32m0.0/188.5 kB\u001b[0m \u001b[31m?\u001b[0m eta \u001b[36m-:--:--\u001b[0m\r\u001b[2K     \u001b[91m━━━━━━━━━━━━━━━━━━━━━━━\u001b[0m\u001b[90m╺\u001b[0m\u001b[90m━━━━━━━━━━━━━━━\u001b[0m \u001b[32m112.6/188.5 kB\u001b[0m \u001b[31m3.1 MB/s\u001b[0m eta \u001b[36m0:00:01\u001b[0m\r\u001b[2K     \u001b[90m━━━━━━━━━━━━━━━━━━━━━━━━━━━━━━━━━━━━━━━\u001b[0m \u001b[32m188.5/188.5 kB\u001b[0m \u001b[31m3.6 MB/s\u001b[0m eta \u001b[36m0:00:00\u001b[0m\n",
            "\u001b[?25hCollecting gitdb<5,>=4.0.1 (from GitPython)\n",
            "  Downloading gitdb-4.0.10-py3-none-any.whl (62 kB)\n",
            "\u001b[?25l     \u001b[90m━━━━━━━━━━━━━━━━━━━━━━━━━━━━━━━━━━━━━━━━\u001b[0m \u001b[32m0.0/62.7 kB\u001b[0m \u001b[31m?\u001b[0m eta \u001b[36m-:--:--\u001b[0m\r\u001b[2K     \u001b[90m━━━━━━━━━━━━━━━━━━━━━━━━━━━━━━━━━━━━━━━━\u001b[0m \u001b[32m62.7/62.7 kB\u001b[0m \u001b[31m8.1 MB/s\u001b[0m eta \u001b[36m0:00:00\u001b[0m\n",
            "\u001b[?25hCollecting smmap<6,>=3.0.1 (from gitdb<5,>=4.0.1->GitPython)\n",
            "  Downloading smmap-5.0.0-py3-none-any.whl (24 kB)\n",
            "Installing collected packages: smmap, gitdb, GitPython\n",
            "Successfully installed GitPython-3.1.32 gitdb-4.0.10 smmap-5.0.0\n"
          ]
        }
      ]
    },
    {
      "cell_type": "code",
      "source": [
        "!pip install plyj"
      ],
      "metadata": {
        "colab": {
          "base_uri": "https://localhost:8080/"
        },
        "id": "GOcDpMfhScAq",
        "outputId": "95d083da-cd13-4228-ec0e-ec889f9a6244"
      },
      "execution_count": 7,
      "outputs": [
        {
          "output_type": "stream",
          "name": "stdout",
          "text": [
            "Collecting plyj\n",
            "  Downloading plyj-0.1.tar.gz (18 kB)\n",
            "  Preparing metadata (setup.py) ... \u001b[?25l\u001b[?25hdone\n",
            "Collecting ply>=3.4 (from plyj)\n",
            "  Downloading ply-3.11-py2.py3-none-any.whl (49 kB)\n",
            "\u001b[2K     \u001b[90m━━━━━━━━━━━━━━━━━━━━━━━━━━━━━━━━━━━━━━━━\u001b[0m \u001b[32m49.6/49.6 kB\u001b[0m \u001b[31m2.3 MB/s\u001b[0m eta \u001b[36m0:00:00\u001b[0m\n",
            "\u001b[?25hBuilding wheels for collected packages: plyj\n",
            "  Building wheel for plyj (setup.py) ... \u001b[?25l\u001b[?25hdone\n",
            "  Created wheel for plyj: filename=plyj-0.1-py3-none-any.whl size=17422 sha256=198d27d407baa5aa1bf4f469b4d265af0b595215d68431e62cf45d4f56638516\n",
            "  Stored in directory: /root/.cache/pip/wheels/54/9a/2b/e5280bbfa303fea2aa489ea4e5c1a09dd6f41230257cd0cafa\n",
            "Successfully built plyj\n",
            "Installing collected packages: ply, plyj\n",
            "Successfully installed ply-3.11 plyj-0.1\n"
          ]
        }
      ]
    },
    {
      "cell_type": "code",
      "execution_count": 66,
      "metadata": {
        "id": "toR0MKfAPbd6"
      },
      "outputs": [],
      "source": [
        "import os\n",
        "from git import Repo\n",
        "from plyj.parser import Parser\n",
        "import numpy as np"
      ]
    },
    {
      "cell_type": "code",
      "source": [
        "#!rm -rf promocity"
      ],
      "metadata": {
        "id": "uDVCVi0GUTxX"
      },
      "execution_count": 65,
      "outputs": []
    },
    {
      "cell_type": "code",
      "source": [
        "# Clone the repository\n",
        "repo_url = \"https://github.com/armandossrecife/promocity.git\"\n",
        "repo_folder = \"promocity\"\n",
        "repo = Repo.clone_from(repo_url, repo_folder)"
      ],
      "metadata": {
        "id": "BpLwh9CvPqiF"
      },
      "execution_count": 67,
      "outputs": []
    },
    {
      "cell_type": "code",
      "source": [
        "# Initialize a dictionary to store dependencies\n",
        "dependency_matrix = {}"
      ],
      "metadata": {
        "id": "1D56y_BGS07E"
      },
      "execution_count": 68,
      "outputs": []
    },
    {
      "cell_type": "code",
      "source": [
        "# Initialize the Java parser\n",
        "parser = Parser()"
      ],
      "metadata": {
        "id": "XFiqrO9FS1Wq"
      },
      "execution_count": 69,
      "outputs": []
    },
    {
      "cell_type": "code",
      "source": [
        "java_files = []\n",
        "for root, dirs, files in os.walk(repo_folder):\n",
        "    for file in files:\n",
        "        if file.endswith(\".java\"):\n",
        "            java_files.append(os.path.join(root, file))"
      ],
      "metadata": {
        "id": "R0ArjyjtT3uR"
      },
      "execution_count": 70,
      "outputs": []
    },
    {
      "cell_type": "code",
      "source": [
        "for each in java_files:\n",
        "  print(each)"
      ],
      "metadata": {
        "colab": {
          "base_uri": "https://localhost:8080/"
        },
        "id": "AYsVB36tT-g8",
        "outputId": "bb74283b-d952-49ab-b983-8fa6db27fac8"
      },
      "execution_count": 71,
      "outputs": [
        {
          "output_type": "stream",
          "name": "stdout",
          "text": [
            "promocity/src/main/java/ufc/cmu/promocity/backend/BackendApplication.java\n",
            "promocity/src/main/java/ufc/cmu/promocity/backend/JerseyConfiguration.java\n",
            "promocity/src/main/java/ufc/cmu/promocity/backend/GenericExceptionMapper.java\n",
            "promocity/src/main/java/ufc/cmu/promocity/backend/model/MyTracking.java\n",
            "promocity/src/main/java/ufc/cmu/promocity/backend/model/Book.java\n",
            "promocity/src/main/java/ufc/cmu/promocity/backend/model/Users.java\n",
            "promocity/src/main/java/ufc/cmu/promocity/backend/model/Track.java\n",
            "promocity/src/main/java/ufc/cmu/promocity/backend/model/Coupon.java\n",
            "promocity/src/main/java/ufc/cmu/promocity/backend/model/AbstractModel.java\n",
            "promocity/src/main/java/ufc/cmu/promocity/backend/model/Promotion.java\n",
            "promocity/src/main/java/ufc/cmu/promocity/backend/model/MyStores.java\n",
            "promocity/src/main/java/ufc/cmu/promocity/backend/model/Category.java\n",
            "promocity/src/main/java/ufc/cmu/promocity/backend/model/Store.java\n",
            "promocity/src/main/java/ufc/cmu/promocity/backend/repository/CouponsRepository.java\n",
            "promocity/src/main/java/ufc/cmu/promocity/backend/repository/MyTrackingRepository.java\n",
            "promocity/src/main/java/ufc/cmu/promocity/backend/repository/StoresRepository.java\n",
            "promocity/src/main/java/ufc/cmu/promocity/backend/repository/MyStoresRepository.java\n",
            "promocity/src/main/java/ufc/cmu/promocity/backend/repository/PromotionsRepository.java\n",
            "promocity/src/main/java/ufc/cmu/promocity/backend/repository/UsersRepository.java\n",
            "promocity/src/main/java/ufc/cmu/promocity/backend/repository/TrackRepository.java\n",
            "promocity/src/main/java/ufc/cmu/promocity/backend/service/CouponsService.java\n",
            "promocity/src/main/java/ufc/cmu/promocity/backend/service/PromotionsService.java\n",
            "promocity/src/main/java/ufc/cmu/promocity/backend/service/AbstractService.java\n",
            "promocity/src/main/java/ufc/cmu/promocity/backend/service/TrackService.java\n",
            "promocity/src/main/java/ufc/cmu/promocity/backend/service/BookService.java\n",
            "promocity/src/main/java/ufc/cmu/promocity/backend/service/StoreService.java\n",
            "promocity/src/main/java/ufc/cmu/promocity/backend/service/UsersService.java\n",
            "promocity/src/main/java/ufc/cmu/promocity/backend/service/MyStoresService.java\n",
            "promocity/src/main/java/ufc/cmu/promocity/backend/service/MyTrackingService.java\n",
            "promocity/src/main/java/ufc/cmu/promocity/backend/service/interfaces/IStoreService.java\n",
            "promocity/src/main/java/ufc/cmu/promocity/backend/service/interfaces/ICouponService.java\n",
            "promocity/src/main/java/ufc/cmu/promocity/backend/service/interfaces/IUserService.java\n",
            "promocity/src/main/java/ufc/cmu/promocity/backend/service/interfaces/IPromotionService.java\n",
            "promocity/src/main/java/ufc/cmu/promocity/backend/service/exceptions/CouponNotFoundException.java\n",
            "promocity/src/main/java/ufc/cmu/promocity/backend/service/exceptions/BookNotFoundException.java\n",
            "promocity/src/main/java/ufc/cmu/promocity/backend/service/exceptions/StoreNotFoundException.java\n",
            "promocity/src/main/java/ufc/cmu/promocity/backend/service/exceptions/PromotionNotFoundException.java\n",
            "promocity/src/main/java/ufc/cmu/promocity/backend/service/exceptions/UserNotFoundException.java\n",
            "promocity/src/main/java/ufc/cmu/promocity/backend/utils/Message.java\n",
            "promocity/src/main/java/ufc/cmu/promocity/backend/utils/ManipuladorDatas.java\n",
            "promocity/src/main/java/ufc/cmu/promocity/backend/utils/GeradorSenha.java\n",
            "promocity/src/main/java/ufc/cmu/promocity/backend/utils/geographic/LocationStore.java\n",
            "promocity/src/main/java/ufc/cmu/promocity/backend/utils/geographic/GeographicArea.java\n",
            "promocity/src/main/java/ufc/cmu/promocity/backend/utils/geographic/GPSPoint.java\n",
            "promocity/src/main/java/ufc/cmu/promocity/backend/security/WebSecurityConfig.java\n",
            "promocity/src/main/java/ufc/cmu/promocity/backend/report/ReportPromotion.java\n",
            "promocity/src/main/java/ufc/cmu/promocity/backend/report/ReportCoupon.java\n",
            "promocity/src/main/java/ufc/cmu/promocity/backend/report/ReportApplication.java\n",
            "promocity/src/main/java/ufc/cmu/promocity/backend/report/ReportUser.java\n",
            "promocity/src/main/java/ufc/cmu/promocity/backend/report/ReportStore.java\n",
            "promocity/src/main/java/ufc/cmu/promocity/backend/controller/UserController.java\n",
            "promocity/src/main/java/ufc/cmu/promocity/backend/controller/BookController.java\n",
            "promocity/src/main/java/ufc/cmu/promocity/backend/controller/StoreController.java\n",
            "promocity/src/main/java/ufc/cmu/promocity/backend/controller/PromotionController.java\n",
            "promocity/src/main/java/ufc/cmu/promocity/backend/controller/PrincipalController.java\n",
            "promocity/src/main/java/ufc/cmu/promocity/backend/controller/CouponController.java\n",
            "promocity/src/main/java/ufc/cmu/promocity/backend/context/UserLocationMonitoring.java\n",
            "promocity/src/main/java/ufc/cmu/promocity/backend/context/PromotionArea.java\n",
            "promocity/src/main/java/ufc/cmu/promocity/backend/context/Messenger.java\n",
            "promocity/src/main/java/ufc/cmu/promocity/backend/context/CouponsSent.java\n",
            "promocity/src/test/java/ufc/cmu/promocity/backend/BackendApplicationTests.java\n"
          ]
        }
      ]
    },
    {
      "cell_type": "code",
      "source": [
        "# Iterate through Java files\n",
        "for java_file in java_files:\n",
        "    with open(os.path.join('/content', java_file), \"r\") as file:\n",
        "        content = file.read()\n",
        "        try:\n",
        "          tree = parser.parse_string(content)\n",
        "          imports = [imp.name.value for imp in tree.import_declarations]\n",
        "\n",
        "          # Iterate through all type declarations (classes and interfaces)\n",
        "          for type_declaration in tree.type_declarations:\n",
        "            if hasattr(type_declaration, 'name') and type_declaration.name:\n",
        "              type_name = type_declaration.name\n",
        "              dependency_matrix[type_name] = imports\n",
        "        except Exception as e:\n",
        "          print(f\"Error parsing {java_file}: {e}\")"
      ],
      "metadata": {
        "id": "wAW8lEOHZQJT"
      },
      "execution_count": 72,
      "outputs": []
    },
    {
      "cell_type": "code",
      "source": [
        "print(dependency_matrix)"
      ],
      "metadata": {
        "colab": {
          "base_uri": "https://localhost:8080/"
        },
        "id": "R4-kJfJebdvN",
        "outputId": "5e799e05-74e9-41c0-fddd-59cf86781ce1"
      },
      "execution_count": 45,
      "outputs": [
        {
          "output_type": "stream",
          "name": "stdout",
          "text": [
            "{'BackendApplication': ['org.springframework.boot.SpringApplication', 'org.springframework.boot.autoconfigure.SpringBootApplication', 'ufc.cmu.promocity.backend.context'], 'JerseyConfiguration': ['javax.annotation.PostConstruct', 'javax.ws.rs.ApplicationPath', 'org.glassfish.jersey.server.ResourceConfig', 'org.springframework.context.annotation.Configuration', 'ufc.cmu.promocity.backend.context.PromotionArea', 'ufc.cmu.promocity.backend.controller.BookController', 'ufc.cmu.promocity.backend.controller.CouponController', 'ufc.cmu.promocity.backend.controller.PrincipalController', 'ufc.cmu.promocity.backend.controller.PromotionController', 'ufc.cmu.promocity.backend.controller.StoreController', 'ufc.cmu.promocity.backend.controller.UserController', 'ufc.cmu.promocity.backend.report.ReportApplication'], 'GenericExceptionMapper': ['javax.ws.rs.core.Response', 'javax.ws.rs.ext.ExceptionMapper', 'javax.ws.rs.ext.Provider'], 'MyTracking': ['java.util.LinkedList', 'java.util.List', 'javax.persistence.Entity', 'javax.persistence.OneToMany', 'javax.persistence.OneToOne', 'org.hibernate.annotations.LazyCollection', 'org.hibernate.annotations.LazyCollectionOption'], 'Book': [], 'Users': ['java.util.LinkedList', 'java.util.List', 'javax.persistence.CascadeType', 'javax.persistence.Column', 'javax.persistence.Entity', 'javax.persistence.FetchType', 'javax.persistence.JoinColumn', 'javax.persistence.JoinTable', 'javax.persistence.ManyToMany', 'org.hibernate.annotations.LazyCollection', 'org.hibernate.annotations.LazyCollectionOption', 'org.hibernate.annotations.Type', 'com.fasterxml.jackson.annotation.JsonBackReference', 'ufc.cmu.promocity.backend.model.AbstractModel'], 'Track': ['java.util.Date', 'javax.persistence.Entity'], 'Coupon': ['java.util.LinkedList', 'java.util.List', 'javax.persistence.CascadeType', 'javax.persistence.Column', 'javax.persistence.Entity', 'javax.persistence.FetchType', 'javax.persistence.JoinColumn', 'javax.persistence.JoinTable', 'javax.persistence.ManyToMany', 'org.hibernate.annotations.LazyCollection', 'org.hibernate.annotations.LazyCollectionOption'], 'AbstractModel': ['javax.persistence', 'java.io.Serializable'], 'Promotion': ['java.util.Date', 'java.util.LinkedList', 'java.util.List', 'javax.persistence.CascadeType', 'javax.persistence.Entity', 'javax.persistence.FetchType', 'javax.persistence.OneToMany'], 'MyStores': ['java.util.LinkedList', 'java.util.List', 'javax.persistence.Entity', 'javax.persistence.OneToMany', 'javax.persistence.OneToOne'], 'Category': [], 'Store': ['java.util.LinkedList', 'java.util.List', 'javax.persistence.CascadeType', 'javax.persistence.Entity', 'javax.persistence.FetchType', 'javax.persistence.OneToMany'], 'CouponsRepository': ['org.springframework.data.jpa.repository.JpaRepository', 'org.springframework.stereotype.Repository', 'ufc.cmu.promocity.backend.model.Coupon'], 'MyTrackingRepository': ['org.springframework.data.jpa.repository.JpaRepository', 'org.springframework.stereotype.Repository', 'ufc.cmu.promocity.backend.model.MyTracking', 'ufc.cmu.promocity.backend.model.Users'], 'StoresRepository': ['org.springframework.data.jpa.repository.JpaRepository', 'org.springframework.stereotype.Repository', 'ufc.cmu.promocity.backend.model.Store'], 'MyStoresRepository': ['org.springframework.data.jpa.repository.JpaRepository', 'org.springframework.stereotype.Repository', 'ufc.cmu.promocity.backend.model.MyStores', 'ufc.cmu.promocity.backend.model.Users'], 'PromotionsRepository': ['org.springframework.data.jpa.repository.JpaRepository', 'org.springframework.stereotype.Repository', 'ufc.cmu.promocity.backend.model.Promotion'], 'UsersRepository': ['org.springframework.data.jpa.repository.JpaRepository', 'org.springframework.stereotype.Repository', 'ufc.cmu.promocity.backend.model.Users'], 'TrackRepository': ['org.springframework.data.jpa.repository.JpaRepository', 'org.springframework.stereotype.Repository', 'ufc.cmu.promocity.backend.model.Track'], 'CouponsService': ['java.util.List', 'org.springframework.beans.factory.annotation.Autowired', 'org.springframework.data.jpa.repository.JpaRepository', 'org.springframework.stereotype.Service', 'ufc.cmu.promocity.backend.model.Coupon', 'ufc.cmu.promocity.backend.model.Promotion', 'ufc.cmu.promocity.backend.repository.CouponsRepository'], 'PromotionsService': ['org.springframework.beans.factory.annotation.Autowired', 'org.springframework.data.jpa.repository.JpaRepository', 'org.springframework.stereotype.Service', 'ufc.cmu.promocity.backend.model.Promotion', 'ufc.cmu.promocity.backend.repository.PromotionsRepository'], 'AbstractService': ['org.springframework.dao.EmptyResultDataAccessException', 'org.springframework.data.domain.Page', 'org.springframework.data.domain.PageRequest', 'org.springframework.data.domain.Sort', 'org.springframework.data.jpa.repository.JpaRepository', 'ufc.cmu.promocity.backend.model.AbstractModel', 'java.io.Serializable', 'java.util.List'], 'TrackService': ['java.util.List', 'org.springframework.beans.factory.annotation.Autowired', 'org.springframework.data.jpa.repository.JpaRepository', 'org.springframework.stereotype.Service', 'ufc.cmu.promocity.backend.model.Coupon', 'ufc.cmu.promocity.backend.model.Promotion', 'ufc.cmu.promocity.backend.model.Track', 'ufc.cmu.promocity.backend.repository.CouponsRepository', 'ufc.cmu.promocity.backend.repository.TrackRepository'], 'BookService': ['java.util.ArrayList', 'java.util.Collection', 'java.util.Collections', 'java.util.Locale.Category', 'java.util.Objects', 'java.util.UUID', 'java.util.concurrent.ConcurrentHashMap', 'java.util.concurrent.ConcurrentMap', 'org.springframework.stereotype.Service', 'ufc.cmu.promocity.backend.model.Book', 'ufc.cmu.promocity.backend.service.exceptions.BookNotFoundException'], 'StoreService': ['org.springframework.beans.factory.annotation.Autowired', 'org.springframework.data.jpa.repository.JpaRepository', 'org.springframework.stereotype.Service', 'ufc.cmu.promocity.backend.context.PromotionArea', 'ufc.cmu.promocity.backend.model.Store', 'ufc.cmu.promocity.backend.repository.StoresRepository'], 'UsersService': ['ufc.cmu.promocity.backend.repository', 'ufc.cmu.promocity.backend.model', 'ufc.cmu.promocity.backend.service.exceptions.UserNotFoundException', 'ufc.cmu.promocity.backend.service.interfaces.IUserService', 'ufc.cmu.promocity.backend.utils.geographic.GPSPoint', 'org.springframework.beans.factory.annotation.Autowired', 'org.springframework.data.jpa.repository.JpaRepository', 'org.springframework.stereotype.Service'], 'MyStoresService': ['org.springframework.beans.factory.annotation.Autowired', 'org.springframework.data.jpa.repository.JpaRepository', 'org.springframework.stereotype.Service', 'ufc.cmu.promocity.backend.model.MyStores', 'ufc.cmu.promocity.backend.model.Users', 'ufc.cmu.promocity.backend.repository.MyStoresRepository'], 'MyTrackingService': ['org.springframework.beans.factory.annotation.Autowired', 'org.springframework.data.jpa.repository.JpaRepository', 'org.springframework.stereotype.Service', 'ufc.cmu.promocity.backend.model.MyStores', 'ufc.cmu.promocity.backend.model.MyTracking', 'ufc.cmu.promocity.backend.model.Users', 'ufc.cmu.promocity.backend.repository.MyStoresRepository', 'ufc.cmu.promocity.backend.repository.MyTrackingRepository'], 'ICouponService': ['java.util.List', 'ufc.cmu.promocity.backend.model.Coupon'], 'IUserService': ['java.util.List', 'ufc.cmu.promocity.backend.model.Users'], 'IPromotionService': ['java.util.List', 'ufc.cmu.promocity.backend.model.Promotion'], 'CouponNotFoundException': [], 'BookNotFoundException': [], 'StoreNotFoundException': [], 'PromotionNotFoundException': [], 'UserNotFoundException': [], 'Message': [], 'ManipuladorDatas': ['java.text.DateFormat', 'java.text.SimpleDateFormat', 'java.util.Calendar', 'java.util.Date'], 'GeradorSenha': ['org.springframework.security.crypto.bcrypt.BCryptPasswordEncoder'], 'LocationStore': ['ufc.cmu.promocity.backend.model.Store'], 'GeographicArea': [], 'GPSPoint': [], 'WebSecurityConfig': ['org.springframework.context.annotation.Configuration', 'org.springframework.security.config.annotation.web.builders.HttpSecurity', 'org.springframework.security.config.annotation.web.configuration.EnableWebSecurity', 'org.springframework.security.config.annotation.web.configuration.WebSecurityConfigurerAdapter'], 'ReportPromotion': ['java.util.Date', 'java.util.LinkedList', 'java.util.List', 'ufc.cmu.promocity.backend.model.Coupon', 'ufc.cmu.promocity.backend.model.Promotion', 'ufc.cmu.promocity.backend.model.Store', 'ufc.cmu.promocity.backend.model.Users'], 'ReportCoupon': ['java.util.Date', 'ufc.cmu.promocity.backend.model.Coupon', 'ufc.cmu.promocity.backend.model.Promotion', 'ufc.cmu.promocity.backend.model.Store'], 'ReportApplication': ['java.util.LinkedList', 'java.util.List'], 'ReportUser': ['java.util.LinkedList', 'java.util.List', 'java.util.concurrent.LinkedBlockingDeque', 'ufc.cmu.promocity.backend.model.Coupon', 'ufc.cmu.promocity.backend.model.Users'], 'ReportStore': ['java.util.LinkedList', 'java.util.List', 'ufc.cmu.promocity.backend.model.Promotion', 'ufc.cmu.promocity.backend.model.Store'], 'UserController': ['ufc.cmu.promocity.backend.context.PromotionArea', 'ufc.cmu.promocity.backend.context.UserLocationMonitoring', 'ufc.cmu.promocity.backend.model.Coupon', 'ufc.cmu.promocity.backend.model.MyTracking', 'ufc.cmu.promocity.backend.model.Promotion', 'ufc.cmu.promocity.backend.model.Store', 'ufc.cmu.promocity.backend.model.Track', 'ufc.cmu.promocity.backend.model.Users', 'ufc.cmu.promocity.backend.report.ReportCoupon', 'ufc.cmu.promocity.backend.report.ReportUser', 'ufc.cmu.promocity.backend.service.CouponsService', 'ufc.cmu.promocity.backend.service.MyStoresService', 'ufc.cmu.promocity.backend.service.MyTrackingService', 'ufc.cmu.promocity.backend.service.PromotionsService', 'ufc.cmu.promocity.backend.service.StoreService', 'ufc.cmu.promocity.backend.service.TrackService', 'ufc.cmu.promocity.backend.service.UsersService', 'ufc.cmu.promocity.backend.utils.GeradorSenha', 'ufc.cmu.promocity.backend.utils.ManipuladorDatas', 'ufc.cmu.promocity.backend.utils.Message', 'java.net.URI', 'java.util.Date', 'java.util.LinkedList', 'java.util.List', 'java.util.Set', 'javax.ws.rs.Consumes', 'javax.ws.rs.DELETE', 'javax.ws.rs.GET', 'javax.ws.rs.POST', 'javax.ws.rs.PUT', 'javax.ws.rs.Path', 'javax.ws.rs.PathParam', 'javax.ws.rs.Produces', 'javax.ws.rs.core.Response', 'org.springframework.beans.factory.annotation.Autowired', 'org.springframework.jdbc.support.CustomSQLExceptionTranslatorRegistrar', 'org.springframework.stereotype.Component'], 'BookController': ['java.net.URI', 'java.util.Collection', 'javax.ws.rs.Consumes', 'javax.ws.rs.DELETE', 'javax.ws.rs.GET', 'javax.ws.rs.POST', 'javax.ws.rs.PUT', 'javax.ws.rs.Path', 'javax.ws.rs.PathParam', 'javax.ws.rs.Produces', 'javax.ws.rs.core.Response', 'org.springframework.stereotype.Component', 'ufc.cmu.promocity.backend.model.Book', 'ufc.cmu.promocity.backend.service.BookService'], 'StoreController': ['java.net.URI', 'java.util.LinkedList', 'java.util.List', 'javax.ws.rs.Consumes', 'javax.ws.rs.DELETE', 'javax.ws.rs.GET', 'javax.ws.rs.POST', 'javax.ws.rs.PUT', 'javax.ws.rs.Path', 'javax.ws.rs.PathParam', 'javax.ws.rs.Produces', 'javax.ws.rs.core.Response', 'org.springframework.beans.factory.annotation.Autowired', 'org.springframework.stereotype.Component', 'ufc.cmu.promocity.backend.context.PromotionArea', 'ufc.cmu.promocity.backend.model.Coupon', 'ufc.cmu.promocity.backend.model.Promotion', 'ufc.cmu.promocity.backend.model.Store', 'ufc.cmu.promocity.backend.model.Users', 'ufc.cmu.promocity.backend.report.ReportCoupon', 'ufc.cmu.promocity.backend.report.ReportPromotion', 'ufc.cmu.promocity.backend.report.ReportStore', 'ufc.cmu.promocity.backend.service.CouponsService', 'ufc.cmu.promocity.backend.service.MyStoresService', 'ufc.cmu.promocity.backend.service.PromotionsService', 'ufc.cmu.promocity.backend.service.StoreService', 'ufc.cmu.promocity.backend.service.UsersService', 'ufc.cmu.promocity.backend.utils.Message'], 'PromotionController': ['ufc.cmu.promocity.backend.context.PromotionArea', 'ufc.cmu.promocity.backend.context.UserLocationMonitoring', 'ufc.cmu.promocity.backend.model.Coupon', 'ufc.cmu.promocity.backend.model.Promotion', 'ufc.cmu.promocity.backend.model.Store', 'ufc.cmu.promocity.backend.report.ReportPromotion', 'ufc.cmu.promocity.backend.model.Promotion', 'ufc.cmu.promocity.backend.service.CouponsService', 'ufc.cmu.promocity.backend.service.PromotionsService', 'ufc.cmu.promocity.backend.service.StoreService', 'ufc.cmu.promocity.backend.utils.geographic.GPSPoint', 'java.net.URI', 'java.util.LinkedList', 'java.util.List', 'javax.ws.rs.Consumes', 'javax.ws.rs.DELETE', 'javax.ws.rs.GET', 'javax.ws.rs.POST', 'javax.ws.rs.PUT', 'javax.ws.rs.Path', 'javax.ws.rs.PathParam', 'javax.ws.rs.Produces', 'javax.ws.rs.core.Response', 'org.springframework.beans.factory.annotation.Autowired', 'org.springframework.stereotype.Component', 'org.springframework.transaction.annotation.Transactional'], 'PrincipalController': ['javax.ws.rs.GET', 'javax.ws.rs.Path', 'javax.ws.rs.Produces', 'ufc.cmu.promocity.backend.report.ReportApplication'], 'CouponController': ['ufc.cmu.promocity.backend.context.PromotionArea', 'ufc.cmu.promocity.backend.model.Coupon', 'ufc.cmu.promocity.backend.model.Promotion', 'ufc.cmu.promocity.backend.model.Store', 'ufc.cmu.promocity.backend.model.Users', 'ufc.cmu.promocity.backend.report.ReportCoupon', 'ufc.cmu.promocity.backend.service.CouponsService', 'ufc.cmu.promocity.backend.service.PromotionsService', 'ufc.cmu.promocity.backend.service.StoreService', 'ufc.cmu.promocity.backend.service.UsersService', 'java.net.URI', 'java.util.LinkedList', 'java.util.List', 'javax.ws.rs.Consumes', 'javax.ws.rs.DELETE', 'javax.ws.rs.GET', 'javax.ws.rs.POST', 'javax.ws.rs.PUT', 'javax.ws.rs.Path', 'javax.ws.rs.PathParam', 'javax.ws.rs.Produces', 'javax.ws.rs.core.Response', 'org.springframework.beans.factory.annotation.Autowired', 'org.springframework.stereotype.Component', 'org.springframework.transaction.annotation.Transactional'], 'UserLocationMonitoring': ['java.util.LinkedList', 'java.util.List', 'ufc.cmu.promocity.backend.model.Coupon', 'ufc.cmu.promocity.backend.model.Promotion', 'ufc.cmu.promocity.backend.model.Store', 'ufc.cmu.promocity.backend.model.Users', 'ufc.cmu.promocity.backend.report.ReportApplication', 'ufc.cmu.promocity.backend.report.ReportCoupon', 'ufc.cmu.promocity.backend.utils.geographic.GPSPoint', 'ufc.cmu.promocity.backend.utils.geographic.GeographicArea'], 'PromotionArea': ['java.util.LinkedList', 'java.util.List', 'ufc.cmu.promocity.backend.model.Store', 'ufc.cmu.promocity.backend.model.Users'], 'Messenger': ['ufc.cmu.promocity.backend.model.Users'], 'CouponsSent': ['java.util.LinkedList', 'java.util.List', 'ufc.cmu.promocity.backend.model.Users'], 'BackendApplicationTests': ['org.junit.Test', 'org.junit.runner.RunWith', 'org.springframework.boot.test.context.SpringBootTest', 'org.springframework.test.context.junit4.SpringRunner'], 'IStoreService': ['java.util.List', 'ufc.cmu.promocity.backend.model.Store']}\n"
          ]
        }
      ]
    },
    {
      "cell_type": "code",
      "source": [
        "# Create a list of all unique class and interface names\n",
        "all_types = set(dependency_matrix.keys())\n",
        "for dependencies in dependency_matrix.values():\n",
        "    all_types.update(dependencies)"
      ],
      "metadata": {
        "id": "fFLNnbPPa8Sl"
      },
      "execution_count": 73,
      "outputs": []
    },
    {
      "cell_type": "code",
      "source": [
        "print(all_types)"
      ],
      "metadata": {
        "colab": {
          "base_uri": "https://localhost:8080/"
        },
        "id": "O8rb4cWmbDIl",
        "outputId": "a48d203e-7366-4341-9712-534188dfe026"
      },
      "execution_count": 44,
      "outputs": [
        {
          "output_type": "stream",
          "name": "stdout",
          "text": [
            "{'ufc.cmu.promocity.backend.repository.PromotionsRepository', 'ufc.cmu.promocity.backend.report.ReportCoupon', 'java.util.List', 'javax.persistence.OneToMany', 'AbstractModel', 'UserController', 'MyStoresRepository', 'org.springframework.jdbc.support.CustomSQLExceptionTranslatorRegistrar', 'org.hibernate.annotations.Type', 'java.util.Calendar', 'org.hibernate.annotations.LazyCollectionOption', 'LocationStore', 'ufc.cmu.promocity.backend.model', 'ufc.cmu.promocity.backend.model.MyStores', 'ufc.cmu.promocity.backend.model.Coupon', 'ufc.cmu.promocity.backend.service.BookService', 'org.springframework.security.config.annotation.web.configuration.EnableWebSecurity', 'GeographicArea', 'ufc.cmu.promocity.backend.model.Track', 'ufc.cmu.promocity.backend.repository.MyStoresRepository', 'BookController', 'PromotionArea', 'org.springframework.boot.SpringApplication', 'UserNotFoundException', 'java.util.Set', 'java.net.URI', 'ufc.cmu.promocity.backend.report.ReportUser', 'Store', 'MyTrackingRepository', 'javax.annotation.PostConstruct', 'Coupon', 'ReportPromotion', 'ufc.cmu.promocity.backend.model.Book', 'ufc.cmu.promocity.backend.service.PromotionsService', 'com.fasterxml.jackson.annotation.JsonBackReference', 'org.springframework.beans.factory.annotation.Autowired', 'Category', 'org.springframework.security.config.annotation.web.configuration.WebSecurityConfigurerAdapter', 'ufc.cmu.promocity.backend.service.exceptions.BookNotFoundException', 'java.text.DateFormat', 'org.junit.Test', 'MyTracking', 'ufc.cmu.promocity.backend.utils.GeradorSenha', 'MyTrackingService', 'javax.persistence.CascadeType', 'GenericExceptionMapper', 'ufc.cmu.promocity.backend.model.Users', 'org.springframework.stereotype.Component', 'javax.ws.rs.ext.ExceptionMapper', 'CouponController', 'ufc.cmu.promocity.backend.model.AbstractModel', 'ufc.cmu.promocity.backend.utils.ManipuladorDatas', 'CouponsService', 'org.springframework.data.domain.Page', 'java.util.Date', 'java.util.concurrent.ConcurrentHashMap', 'java.util.Collections', 'org.springframework.test.context.junit4.SpringRunner', 'ufc.cmu.promocity.backend.utils.geographic.GeographicArea', 'StoreController', 'org.springframework.boot.autoconfigure.SpringBootApplication', 'javax.persistence.OneToOne', 'BackendApplication', 'PromotionsRepository', 'TrackService', 'CouponsRepository', 'java.text.SimpleDateFormat', 'JerseyConfiguration', 'ufc.cmu.promocity.backend.service.CouponsService', 'org.springframework.transaction.annotation.Transactional', 'ufc.cmu.promocity.backend.utils.Message', 'javax.persistence.Column', 'PromotionController', 'org.springframework.dao.EmptyResultDataAccessException', 'TrackRepository', 'UserLocationMonitoring', 'javax.persistence.JoinColumn', 'java.util.Locale.Category', 'PromotionNotFoundException', 'ICouponService', 'BookNotFoundException', 'javax.ws.rs.core.Response', 'CouponsSent', 'BookService', 'Message', 'MyStores', 'ReportUser', 'ufc.cmu.promocity.backend.controller.StoreController', 'java.util.Collection', 'javax.persistence.ManyToMany', 'WebSecurityConfig', 'IUserService', 'javax.persistence.FetchType', 'MyStoresService', 'ufc.cmu.promocity.backend.service.MyTrackingService', 'ufc.cmu.promocity.backend.controller.CouponController', 'java.io.Serializable', 'ufc.cmu.promocity.backend.report.ReportPromotion', 'ufc.cmu.promocity.backend.report.ReportApplication', 'IPromotionService', 'ufc.cmu.promocity.backend.context', 'ufc.cmu.promocity.backend.context.PromotionArea', 'ufc.cmu.promocity.backend.service.MyStoresService', 'org.springframework.stereotype.Service', 'javax.persistence', 'ufc.cmu.promocity.backend.repository.StoresRepository', 'ufc.cmu.promocity.backend.context.UserLocationMonitoring', 'Promotion', 'java.util.LinkedList', 'javax.ws.rs.Produces', 'ufc.cmu.promocity.backend.repository.TrackRepository', 'javax.persistence.JoinTable', 'javax.ws.rs.POST', 'org.springframework.data.jpa.repository.JpaRepository', 'AbstractService', 'javax.ws.rs.PathParam', 'StoresRepository', 'javax.ws.rs.Path', 'ufc.cmu.promocity.backend.utils.geographic.GPSPoint', 'Messenger', 'java.util.concurrent.LinkedBlockingDeque', 'GPSPoint', 'ufc.cmu.promocity.backend.service.interfaces.IUserService', 'Book', 'javax.ws.rs.Consumes', 'java.util.ArrayList', 'org.glassfish.jersey.server.ResourceConfig', 'ufc.cmu.promocity.backend.model.MyTracking', 'org.springframework.security.crypto.bcrypt.BCryptPasswordEncoder', 'IStoreService', 'ufc.cmu.promocity.backend.repository', 'org.springframework.context.annotation.Configuration', 'java.util.Objects', 'PromotionsService', 'org.springframework.security.config.annotation.web.builders.HttpSecurity', 'BackendApplicationTests', 'StoreNotFoundException', 'javax.ws.rs.PUT', 'UsersService', 'org.springframework.stereotype.Repository', 'ufc.cmu.promocity.backend.service.TrackService', 'Users', 'Track', 'org.springframework.data.domain.PageRequest', 'ufc.cmu.promocity.backend.service.StoreService', 'CouponNotFoundException', 'StoreService', 'ufc.cmu.promocity.backend.service.exceptions.UserNotFoundException', 'ufc.cmu.promocity.backend.repository.CouponsRepository', 'java.util.UUID', 'GeradorSenha', 'java.util.concurrent.ConcurrentMap', 'ufc.cmu.promocity.backend.report.ReportStore', 'PrincipalController', 'ufc.cmu.promocity.backend.model.Promotion', 'ufc.cmu.promocity.backend.controller.BookController', 'javax.ws.rs.DELETE', 'ReportCoupon', 'ReportStore', 'ManipuladorDatas', 'javax.ws.rs.ApplicationPath', 'org.hibernate.annotations.LazyCollection', 'javax.ws.rs.ext.Provider', 'ufc.cmu.promocity.backend.service.UsersService', 'javax.persistence.Entity', 'ufc.cmu.promocity.backend.controller.PrincipalController', 'ufc.cmu.promocity.backend.controller.PromotionController', 'UsersRepository', 'ufc.cmu.promocity.backend.controller.UserController', 'ReportApplication', 'org.springframework.boot.test.context.SpringBootTest', 'ufc.cmu.promocity.backend.repository.MyTrackingRepository', 'javax.ws.rs.GET', 'ufc.cmu.promocity.backend.model.Store', 'org.junit.runner.RunWith', 'org.springframework.data.domain.Sort'}\n"
          ]
        }
      ]
    },
    {
      "cell_type": "code",
      "source": [
        "# Create an empty dependency matrix\n",
        "num_types = len(all_types)\n",
        "matrix = np.zeros((num_types, num_types), dtype=int)"
      ],
      "metadata": {
        "id": "pQ-FF6_2btVo"
      },
      "execution_count": 74,
      "outputs": []
    },
    {
      "cell_type": "code",
      "source": [
        "# Fill in the dependency matrix\n",
        "type_index_mapping = {type_name: index for index, type_name in enumerate(all_types)}\n",
        "lista_types = list(type_index_mapping.keys())\n",
        "for type_name, imports in dependency_matrix.items():\n",
        "    type_index = type_index_mapping[type_name]\n",
        "    for dependency in imports:\n",
        "        dependency_index = type_index_mapping.get(dependency, -1)\n",
        "        if dependency_index != -1:\n",
        "            matrix[type_index, dependency_index] = 1"
      ],
      "metadata": {
        "id": "7C07VhKhb3fZ"
      },
      "execution_count": 76,
      "outputs": []
    },
    {
      "cell_type": "code",
      "source": [
        "with open('mydsm.txt', mode='w') as f:\n",
        "  for i in range(0,len(matrix)):\n",
        "    for j in range(0,len(matrix)):\n",
        "      if matrix[i, j] == 1:\n",
        "        conteudo = f'{lista_types[i]}, {lista_types[j]}, {matrix[i,j]}'\n",
        "        conteudo = conteudo + '\\n'\n",
        "        f.write(conteudo)"
      ],
      "metadata": {
        "id": "_6vPNp0ae1Xq"
      },
      "execution_count": 81,
      "outputs": []
    }
  ]
}