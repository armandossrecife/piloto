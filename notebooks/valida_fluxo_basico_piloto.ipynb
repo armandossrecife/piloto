{
  "nbformat": 4,
  "nbformat_minor": 0,
  "metadata": {
    "colab": {
      "provenance": [],
      "collapsed_sections": [
        "5sj6IkBM87j9",
        "FfzaQ1FJ_hKY",
        "XOzlQPMB-boa",
        "V5eyseGe-8U3",
        "g2bba9oP_0Wj"
      ],
      "toc_visible": true,
      "authorship_tag": "ABX9TyPoXfB6mGhGKzPGgR0f9jKn",
      "include_colab_link": true
    },
    "kernelspec": {
      "name": "python3",
      "display_name": "Python 3"
    },
    "language_info": {
      "name": "python"
    }
  },
  "cells": [
    {
      "cell_type": "markdown",
      "metadata": {
        "id": "view-in-github",
        "colab_type": "text"
      },
      "source": [
        "<a href=\"https://colab.research.google.com/github/armandossrecife/piloto/blob/main/notebooks/valida_fluxo_basico_piloto.ipynb\" target=\"_parent\"><img src=\"https://colab.research.google.com/assets/colab-badge.svg\" alt=\"Open In Colab\"/></a>"
      ]
    },
    {
      "cell_type": "markdown",
      "source": [
        "# Informações básicas sobre o repositório"
      ],
      "metadata": {
        "id": "FslvyO1_1HWs"
      }
    },
    {
      "cell_type": "code",
      "execution_count": 1,
      "metadata": {
        "colab": {
          "base_uri": "https://localhost:8080/"
        },
        "id": "sxviy3ty0nPy",
        "outputId": "903a9d69-c775-4b45-b1b4-6d51f2515587"
      },
      "outputs": [
        {
          "output_type": "stream",
          "name": "stdout",
          "text": [
            "/content\n"
          ]
        }
      ],
      "source": [
        "!pwd"
      ]
    },
    {
      "cell_type": "code",
      "source": [
        "!df -h"
      ],
      "metadata": {
        "colab": {
          "base_uri": "https://localhost:8080/"
        },
        "id": "wJs9f5Eg0uGf",
        "outputId": "5452288f-ee4e-4f6f-bf23-d405c5cea82d"
      },
      "execution_count": 2,
      "outputs": [
        {
          "output_type": "stream",
          "name": "stdout",
          "text": [
            "Filesystem      Size  Used Avail Use% Mounted on\n",
            "overlay         108G   25G   84G  23% /\n",
            "tmpfs            64M     0   64M   0% /dev\n",
            "shm             5.8G     0  5.8G   0% /dev/shm\n",
            "/dev/root       2.0G  1.1G  887M  55% /usr/sbin/docker-init\n",
            "tmpfs           6.4G   40K  6.4G   1% /var/colab\n",
            "/dev/sda1        41G   26G   15G  64% /etc/hosts\n",
            "tmpfs           6.4G     0  6.4G   0% /proc/acpi\n",
            "tmpfs           6.4G     0  6.4G   0% /proc/scsi\n",
            "tmpfs           6.4G     0  6.4G   0% /sys/firmware\n"
          ]
        }
      ]
    },
    {
      "cell_type": "code",
      "source": [
        "!free -h"
      ],
      "metadata": {
        "colab": {
          "base_uri": "https://localhost:8080/"
        },
        "id": "P8H5EebJ0vqT",
        "outputId": "871bd8d7-6254-43b3-ac4b-a16e31c39bd5"
      },
      "execution_count": 3,
      "outputs": [
        {
          "output_type": "stream",
          "name": "stdout",
          "text": [
            "              total        used        free      shared  buff/cache   available\n",
            "Mem:           12Gi       501Mi       9.2Gi       1.0Mi       2.9Gi        11Gi\n",
            "Swap:            0B          0B          0B\n"
          ]
        }
      ]
    },
    {
      "cell_type": "code",
      "source": [
        "!git clone https://github.com/google/gson.git"
      ],
      "metadata": {
        "colab": {
          "base_uri": "https://localhost:8080/"
        },
        "id": "R-SoFJWJ0wkG",
        "outputId": "b79fe477-0b4b-4195-8b39-62f115649569"
      },
      "execution_count": 4,
      "outputs": [
        {
          "output_type": "stream",
          "name": "stdout",
          "text": [
            "Cloning into 'gson'...\n",
            "remote: Enumerating objects: 31076, done.\u001b[K\n",
            "remote: Counting objects: 100% (673/673), done.\u001b[K\n",
            "remote: Compressing objects: 100% (326/326), done.\u001b[K\n",
            "remote: Total 31076 (delta 320), reused 536 (delta 227), pack-reused 30403\u001b[K\n",
            "Receiving objects: 100% (31076/31076), 7.52 MiB | 21.99 MiB/s, done.\n",
            "Resolving deltas: 100% (15690/15690), done.\n"
          ]
        }
      ]
    },
    {
      "cell_type": "code",
      "source": [
        "!cd gson && git rev-list --count HEAD"
      ],
      "metadata": {
        "colab": {
          "base_uri": "https://localhost:8080/"
        },
        "id": "h6ZRpSsG0yTk",
        "outputId": "f33a9f56-00b1-4b51-b9e9-dbb7aec0170e"
      },
      "execution_count": 5,
      "outputs": [
        {
          "output_type": "stream",
          "name": "stdout",
          "text": [
            "1844\n"
          ]
        }
      ]
    },
    {
      "cell_type": "code",
      "source": [
        "lista_qtd_commiters_original = !cd gson && git shortlog -sne"
      ],
      "metadata": {
        "id": "sQSsTdhK1C1B"
      },
      "execution_count": 11,
      "outputs": []
    },
    {
      "cell_type": "code",
      "source": [
        "lista_commiters = []\n",
        "for i, each in enumerate(lista_qtd_commiters_original):\n",
        "  elemento = each.split()\n",
        "  elemento = (elemento[0], elemento[-1])\n",
        "  lista_commiters.append(elemento)"
      ],
      "metadata": {
        "id": "iETZv0NV1dZI"
      },
      "execution_count": 15,
      "outputs": []
    },
    {
      "cell_type": "code",
      "source": [
        "# Quantidade total de arquivos .java\n",
        "!cd gson && git ls-files | grep -c '\\.java$'"
      ],
      "metadata": {
        "colab": {
          "base_uri": "https://localhost:8080/"
        },
        "id": "_du2UZ5W21j3",
        "outputId": "5e9bfa23-000c-4bb0-da8d-2a3ce3ca5194"
      },
      "execution_count": 18,
      "outputs": [
        {
          "output_type": "stream",
          "name": "stdout",
          "text": [
            "243\n"
          ]
        }
      ]
    },
    {
      "cell_type": "code",
      "source": [
        "# Quantidade total de arquivos válidos (sem considerar arquivos escondidos)\n",
        "\n",
        "!cd gson && git ls-files | grep -v '\\/\\.' | wc -l"
      ],
      "metadata": {
        "colab": {
          "base_uri": "https://localhost:8080/"
        },
        "id": "TNdjO-tm24JE",
        "outputId": "86911b50-5f28-4cf9-c1f4-b76065243a3a"
      },
      "execution_count": 19,
      "outputs": [
        {
          "output_type": "stream",
          "name": "stdout",
          "text": [
            "291\n"
          ]
        }
      ]
    },
    {
      "cell_type": "code",
      "source": [
        "# Quantidade total de arquivos .java de uma pasta específica\n",
        "\n",
        "!cd gson/gson/src/main/java && find . -name \"*.java\" | grep -c \"\""
      ],
      "metadata": {
        "colab": {
          "base_uri": "https://localhost:8080/"
        },
        "id": "1wTI5OPl3Nnn",
        "outputId": "367f392a-0a67-495e-a23c-f2a273aa4b54"
      },
      "execution_count": 21,
      "outputs": [
        {
          "output_type": "stream",
          "name": "stdout",
          "text": [
            "82\n"
          ]
        }
      ]
    },
    {
      "cell_type": "code",
      "source": [
        "!cd gson/gson/src/main/java && find . -name \"*.java\""
      ],
      "metadata": {
        "colab": {
          "base_uri": "https://localhost:8080/"
        },
        "id": "GuwfWE7Q3-Dw",
        "outputId": "95dee1ec-b62e-4e6e-d4a0-669d446b99ef"
      },
      "execution_count": 22,
      "outputs": [
        {
          "output_type": "stream",
          "name": "stdout",
          "text": [
            "./module-info.java\n",
            "./com/google/gson/ReflectionAccessFilter.java\n",
            "./com/google/gson/FormattingStyle.java\n",
            "./com/google/gson/stream/JsonToken.java\n",
            "./com/google/gson/stream/JsonWriter.java\n",
            "./com/google/gson/stream/JsonScope.java\n",
            "./com/google/gson/stream/package-info.java\n",
            "./com/google/gson/stream/MalformedJsonException.java\n",
            "./com/google/gson/stream/JsonReader.java\n",
            "./com/google/gson/InstanceCreator.java\n",
            "./com/google/gson/TypeAdapterFactory.java\n",
            "./com/google/gson/JsonParser.java\n",
            "./com/google/gson/ToNumberPolicy.java\n",
            "./com/google/gson/JsonDeserializer.java\n",
            "./com/google/gson/FieldNamingPolicy.java\n",
            "./com/google/gson/JsonParseException.java\n",
            "./com/google/gson/JsonStreamParser.java\n",
            "./com/google/gson/LongSerializationPolicy.java\n",
            "./com/google/gson/ToNumberStrategy.java\n",
            "./com/google/gson/TypeAdapter.java\n",
            "./com/google/gson/internal/$Gson$Types.java\n",
            "./com/google/gson/internal/$Gson$Preconditions.java\n",
            "./com/google/gson/internal/ReflectionAccessFilterHelper.java\n",
            "./com/google/gson/internal/Primitives.java\n",
            "./com/google/gson/internal/bind/CollectionTypeAdapterFactory.java\n",
            "./com/google/gson/internal/bind/ArrayTypeAdapter.java\n",
            "./com/google/gson/internal/bind/DateTypeAdapter.java\n",
            "./com/google/gson/internal/bind/NumberTypeAdapter.java\n",
            "./com/google/gson/internal/bind/util/ISO8601Utils.java\n",
            "./com/google/gson/internal/bind/ReflectiveTypeAdapterFactory.java\n",
            "./com/google/gson/internal/bind/TypeAdapterRuntimeTypeWrapper.java\n",
            "./com/google/gson/internal/bind/SerializationDelegatingTypeAdapter.java\n",
            "./com/google/gson/internal/bind/DefaultDateTypeAdapter.java\n",
            "./com/google/gson/internal/bind/JsonTreeWriter.java\n",
            "./com/google/gson/internal/bind/JsonAdapterAnnotationTypeAdapterFactory.java\n",
            "./com/google/gson/internal/bind/ObjectTypeAdapter.java\n",
            "./com/google/gson/internal/bind/TreeTypeAdapter.java\n",
            "./com/google/gson/internal/bind/TypeAdapters.java\n",
            "./com/google/gson/internal/bind/JsonTreeReader.java\n",
            "./com/google/gson/internal/bind/MapTypeAdapterFactory.java\n",
            "./com/google/gson/internal/Streams.java\n",
            "./com/google/gson/internal/Excluder.java\n",
            "./com/google/gson/internal/PreJava9DateFormatProvider.java\n",
            "./com/google/gson/internal/JsonReaderInternalAccess.java\n",
            "./com/google/gson/internal/sql/SqlDateTypeAdapter.java\n",
            "./com/google/gson/internal/sql/SqlTypesSupport.java\n",
            "./com/google/gson/internal/sql/SqlTimestampTypeAdapter.java\n",
            "./com/google/gson/internal/sql/SqlTimeTypeAdapter.java\n",
            "./com/google/gson/internal/ConstructorConstructor.java\n",
            "./com/google/gson/internal/JavaVersion.java\n",
            "./com/google/gson/internal/LinkedTreeMap.java\n",
            "./com/google/gson/internal/package-info.java\n",
            "./com/google/gson/internal/ObjectConstructor.java\n",
            "./com/google/gson/internal/TroubleshootingGuide.java\n",
            "./com/google/gson/internal/LazilyParsedNumber.java\n",
            "./com/google/gson/internal/NonNullElementWrapperList.java\n",
            "./com/google/gson/internal/UnsafeAllocator.java\n",
            "./com/google/gson/internal/reflect/ReflectionHelper.java\n",
            "./com/google/gson/ExclusionStrategy.java\n",
            "./com/google/gson/JsonSerializationContext.java\n",
            "./com/google/gson/JsonArray.java\n",
            "./com/google/gson/annotations/SerializedName.java\n",
            "./com/google/gson/annotations/JsonAdapter.java\n",
            "./com/google/gson/annotations/Since.java\n",
            "./com/google/gson/annotations/package-info.java\n",
            "./com/google/gson/annotations/Until.java\n",
            "./com/google/gson/annotations/Expose.java\n",
            "./com/google/gson/JsonNull.java\n",
            "./com/google/gson/JsonElement.java\n",
            "./com/google/gson/FieldAttributes.java\n",
            "./com/google/gson/JsonIOException.java\n",
            "./com/google/gson/FieldNamingStrategy.java\n",
            "./com/google/gson/package-info.java\n",
            "./com/google/gson/Gson.java\n",
            "./com/google/gson/JsonDeserializationContext.java\n",
            "./com/google/gson/JsonObject.java\n",
            "./com/google/gson/JsonPrimitive.java\n",
            "./com/google/gson/GsonBuilder.java\n",
            "./com/google/gson/JsonSyntaxException.java\n",
            "./com/google/gson/JsonSerializer.java\n",
            "./com/google/gson/reflect/TypeToken.java\n",
            "./com/google/gson/reflect/package-info.java\n"
          ]
        }
      ]
    },
    {
      "cell_type": "markdown",
      "source": [
        "# Importa dependências"
      ],
      "metadata": {
        "id": "8F9GMqLe4tIu"
      }
    },
    {
      "cell_type": "code",
      "source": [
        "!wget https://raw.githubusercontent.com/armandossrecife/piloto/main/utilidades.py\n",
        "!wget https://raw.githubusercontent.com/armandossrecife/piloto/main/extracao.py\n",
        "!wget https://raw.githubusercontent.com/armandossrecife/piloto/main/carrega_dataframes.py"
      ],
      "metadata": {
        "colab": {
          "base_uri": "https://localhost:8080/"
        },
        "id": "iDPxQ4VA4Nge",
        "outputId": "5241ce6c-2574-46d3-d122-d1c7ed7b5811"
      },
      "execution_count": 23,
      "outputs": [
        {
          "output_type": "stream",
          "name": "stdout",
          "text": [
            "--2023-07-15 18:51:29--  https://raw.githubusercontent.com/armandossrecife/piloto/main/utilidades.py\n",
            "Resolving raw.githubusercontent.com (raw.githubusercontent.com)... 185.199.108.133, 185.199.109.133, 185.199.110.133, ...\n",
            "Connecting to raw.githubusercontent.com (raw.githubusercontent.com)|185.199.108.133|:443... connected.\n",
            "HTTP request sent, awaiting response... 200 OK\n",
            "Length: 1960 (1.9K) [text/plain]\n",
            "Saving to: ‘utilidades.py’\n",
            "\n",
            "\rutilidades.py         0%[                    ]       0  --.-KB/s               \rutilidades.py       100%[===================>]   1.91K  --.-KB/s    in 0s      \n",
            "\n",
            "2023-07-15 18:51:29 (20.2 MB/s) - ‘utilidades.py’ saved [1960/1960]\n",
            "\n",
            "--2023-07-15 18:51:29--  https://raw.githubusercontent.com/armandossrecife/piloto/main/extracao.py\n",
            "Resolving raw.githubusercontent.com (raw.githubusercontent.com)... 185.199.108.133, 185.199.109.133, 185.199.110.133, ...\n",
            "Connecting to raw.githubusercontent.com (raw.githubusercontent.com)|185.199.108.133|:443... connected.\n",
            "HTTP request sent, awaiting response... 200 OK\n",
            "Length: 4974 (4.9K) [text/plain]\n",
            "Saving to: ‘extracao.py’\n",
            "\n",
            "extracao.py         100%[===================>]   4.86K  --.-KB/s    in 0s      \n",
            "\n",
            "2023-07-15 18:51:29 (63.7 MB/s) - ‘extracao.py’ saved [4974/4974]\n",
            "\n",
            "--2023-07-15 18:51:29--  https://raw.githubusercontent.com/armandossrecife/piloto/main/carrega_dataframes.py\n",
            "Resolving raw.githubusercontent.com (raw.githubusercontent.com)... 185.199.108.133, 185.199.109.133, 185.199.110.133, ...\n",
            "Connecting to raw.githubusercontent.com (raw.githubusercontent.com)|185.199.108.133|:443... connected.\n",
            "HTTP request sent, awaiting response... 200 OK\n",
            "Length: 1383 (1.4K) [text/plain]\n",
            "Saving to: ‘carrega_dataframes.py’\n",
            "\n",
            "carrega_dataframes. 100%[===================>]   1.35K  --.-KB/s    in 0s      \n",
            "\n",
            "2023-07-15 18:51:29 (21.1 MB/s) - ‘carrega_dataframes.py’ saved [1383/1383]\n",
            "\n"
          ]
        }
      ]
    },
    {
      "cell_type": "code",
      "source": [
        "import utilidades\n",
        "\n",
        "# 1. Carrega dependencias\n",
        "utilidades.carrega_dependencias()"
      ],
      "metadata": {
        "colab": {
          "base_uri": "https://localhost:8080/"
        },
        "id": "xapqce1943zc",
        "outputId": "6dc9ea3c-1ba5-4814-8fa4-7ccafbaff8ec"
      },
      "execution_count": 24,
      "outputs": [
        {
          "output_type": "stream",
          "name": "stdout",
          "text": [
            "Teste de análise de repositorios\n",
            "Faz o dowload das dependências...\n",
            "Download do requirements.txt concluído com sucesso!\n",
            "Download do dao.py concluído com sucesso!\n",
            "Download do utils.py concluído com sucesso!\n",
            "Dependências instaladas com sucesso!\n"
          ]
        }
      ]
    },
    {
      "cell_type": "code",
      "source": [
        "!rm -rf gson"
      ],
      "metadata": {
        "id": "MMOj9zPh5cww"
      },
      "execution_count": 28,
      "outputs": []
    },
    {
      "cell_type": "markdown",
      "source": [
        "# Extrai dados de commits e arquivos modificados"
      ],
      "metadata": {
        "id": "Aj4xj1NF5GX6"
      }
    },
    {
      "cell_type": "code",
      "source": [
        "import extracao\n",
        "\n",
        "# extrai informacoes de commits e arquivos modificados em cada commmit\n",
        "url_repositorio_git = \"https://github.com/google/gson.git\"\n",
        "nome_repositorio_git = \"gson\"\n",
        "extracao.extrai_informacoes_repositorio(my_repositorio=url_repositorio_git, nome_repositorio=nome_repositorio_git)"
      ],
      "metadata": {
        "colab": {
          "base_uri": "https://localhost:8080/"
        },
        "id": "Wm0-7rKJ444q",
        "outputId": "f4779fdd-a1d9-4bdc-b7c2-d30788bebebf"
      },
      "execution_count": 1,
      "outputs": [
        {
          "output_type": "stream",
          "name": "stdout",
          "text": [
            "Clona repositório https://github.com/google/gson.git\n",
            "Repositorio clonado com sucesso!\n",
            "Cria a sessão de banco de dados\n",
            "Cria as tabelas do banco\n",
            "Tabelas criadas com sucesso!\n",
            "Analisa commits e arquivos modificados do repositorio gson. Aguarde...\n",
            "Sessão de banco de dados fechada!\n",
            "Quantidade de commits analisados: 1844\n",
            "Tempo de análise: 0:08:28.298990\n"
          ]
        }
      ]
    },
    {
      "cell_type": "markdown",
      "source": [
        "# Carrega dados dos commits e arquivos em Dataframes"
      ],
      "metadata": {
        "id": "uNXs5fxK7tRj"
      }
    },
    {
      "cell_type": "code",
      "source": [
        "import carrega_dataframes\n",
        "\n",
        "banco = carrega_dataframes.DATA_BASE\n",
        "df_commits_from_db, df_files_from_db, df_files_commits_from_db = carrega_dataframes.load_dataframes(database_name=banco)"
      ],
      "metadata": {
        "id": "G93gP-mx7yd5"
      },
      "execution_count": 2,
      "outputs": []
    },
    {
      "cell_type": "code",
      "source": [
        "df_commits_from_db.info()"
      ],
      "metadata": {
        "colab": {
          "base_uri": "https://localhost:8080/"
        },
        "id": "22qwAuMH793Y",
        "outputId": "9ef8f962-c884-4420-d984-31ca5c858f3c"
      },
      "execution_count": 3,
      "outputs": [
        {
          "output_type": "stream",
          "name": "stdout",
          "text": [
            "<class 'pandas.core.frame.DataFrame'>\n",
            "RangeIndex: 1844 entries, 0 to 1843\n",
            "Data columns (total 24 columns):\n",
            " #   Column                Non-Null Count  Dtype  \n",
            "---  ------                --------------  -----  \n",
            " 0   id                    1844 non-null   int64  \n",
            " 1   name                  1844 non-null   object \n",
            " 2   hash                  1844 non-null   object \n",
            " 3   msg                   1844 non-null   object \n",
            " 4   author                1844 non-null   object \n",
            " 5   committer             1844 non-null   object \n",
            " 6   author_date           1844 non-null   object \n",
            " 7   author_timezone       1844 non-null   int64  \n",
            " 8   committer_date        1844 non-null   object \n",
            " 9   committer_timezone    1844 non-null   int64  \n",
            " 10  branches              1844 non-null   object \n",
            " 11  in_main_branch        1844 non-null   int64  \n",
            " 12  merge                 1844 non-null   int64  \n",
            " 13  modified_files        1844 non-null   object \n",
            " 14  parents               1844 non-null   object \n",
            " 15  project_name          1844 non-null   object \n",
            " 16  project_path          1844 non-null   object \n",
            " 17  deletions             1844 non-null   int64  \n",
            " 18  insertions            1844 non-null   int64  \n",
            " 19  lines                 1844 non-null   int64  \n",
            " 20  files                 1844 non-null   int64  \n",
            " 21  dmm_unit_size         928 non-null    float64\n",
            " 22  dmm_unit_complexity   929 non-null    float64\n",
            " 23  dmm_unit_interfacing  926 non-null    float64\n",
            "dtypes: float64(3), int64(9), object(12)\n",
            "memory usage: 345.9+ KB\n"
          ]
        }
      ]
    },
    {
      "cell_type": "code",
      "source": [
        "df_files_from_db.info()"
      ],
      "metadata": {
        "colab": {
          "base_uri": "https://localhost:8080/"
        },
        "id": "nb839Ufx7-bv",
        "outputId": "55960da0-9c9d-4b09-f655-72d537cf907d"
      },
      "execution_count": 4,
      "outputs": [
        {
          "output_type": "stream",
          "name": "stdout",
          "text": [
            "<class 'pandas.core.frame.DataFrame'>\n",
            "RangeIndex: 8373 entries, 0 to 8372\n",
            "Data columns (total 23 columns):\n",
            " #   Column              Non-Null Count  Dtype  \n",
            "---  ------              --------------  -----  \n",
            " 0   id                  8373 non-null   int64  \n",
            " 1   name                8373 non-null   object \n",
            " 2   hash                8373 non-null   object \n",
            " 3   description         0 non-null      object \n",
            " 4   is_java             8373 non-null   int64  \n",
            " 5   created_date        8373 non-null   object \n",
            " 6   old_path            7253 non-null   object \n",
            " 7   new_path            7543 non-null   object \n",
            " 8   filename            8373 non-null   object \n",
            " 9   change_type         8373 non-null   object \n",
            " 10  diff                8373 non-null   object \n",
            " 11  diff_parsed         8373 non-null   object \n",
            " 12  added_lines         8373 non-null   int64  \n",
            " 13  deleted_lines       8373 non-null   int64  \n",
            " 14  source_code         8373 non-null   object \n",
            " 15  source_code_before  8373 non-null   object \n",
            " 16  methods             8373 non-null   object \n",
            " 17  methods_before      8373 non-null   object \n",
            " 18  changed_methods     8373 non-null   object \n",
            " 19  nloc                4669 non-null   float64\n",
            " 20  complexity          4669 non-null   float64\n",
            " 21  token_count         4669 non-null   float64\n",
            " 22  commit_id           8373 non-null   int64  \n",
            "dtypes: float64(3), int64(5), object(15)\n",
            "memory usage: 1.5+ MB\n"
          ]
        }
      ]
    },
    {
      "cell_type": "code",
      "source": [
        "df_files_commits_from_db.info()"
      ],
      "metadata": {
        "colab": {
          "base_uri": "https://localhost:8080/"
        },
        "id": "bDqRj2X88D3c",
        "outputId": "c42b5c9a-1fba-4018-eaea-49987c53deb2"
      },
      "execution_count": 5,
      "outputs": [
        {
          "output_type": "stream",
          "name": "stdout",
          "text": [
            "<class 'pandas.core.frame.DataFrame'>\n",
            "RangeIndex: 8373 entries, 0 to 8372\n",
            "Data columns (total 43 columns):\n",
            " #   Column                   Non-Null Count  Dtype  \n",
            "---  ------                   --------------  -----  \n",
            " 0   file_id                  8373 non-null   int64  \n",
            " 1   file_hash_commit         8373 non-null   object \n",
            " 2   file_description         0 non-null      object \n",
            " 3   file_is_java             8373 non-null   int64  \n",
            " 4   file_created_date        8373 non-null   object \n",
            " 5   file_old_path            7253 non-null   object \n",
            " 6   file_new_path            7543 non-null   object \n",
            " 7   file_filename            8373 non-null   object \n",
            " 8   file_change_type         8373 non-null   object \n",
            " 9   file_diff                8373 non-null   object \n",
            " 10  file_diff_parsed         8373 non-null   object \n",
            " 11  file_added_lines         8373 non-null   int64  \n",
            " 12  file_deleted_lines       8373 non-null   int64  \n",
            " 13  file_source_code         8373 non-null   object \n",
            " 14  file_source_code_before  8373 non-null   object \n",
            " 15  file_nloc                4669 non-null   float64\n",
            " 16  file_complexity          4669 non-null   float64\n",
            " 17  file_token_count         4669 non-null   float64\n",
            " 18  file_commit_id           8373 non-null   int64  \n",
            " 19  id                       8373 non-null   int64  \n",
            " 20  name                     8373 non-null   object \n",
            " 21  hash                     8373 non-null   object \n",
            " 22  msg                      8373 non-null   object \n",
            " 23  author                   8373 non-null   object \n",
            " 24  committer                8373 non-null   object \n",
            " 25  author_date              8373 non-null   object \n",
            " 26  author_timezone          8373 non-null   int64  \n",
            " 27  committer_date           8373 non-null   object \n",
            " 28  committer_timezone       8373 non-null   int64  \n",
            " 29  branches                 8373 non-null   object \n",
            " 30  in_main_branch           8373 non-null   int64  \n",
            " 31  merge                    8373 non-null   int64  \n",
            " 32  modified_files           8373 non-null   object \n",
            " 33  parents                  8373 non-null   object \n",
            " 34  project_name             8373 non-null   object \n",
            " 35  project_path             8373 non-null   object \n",
            " 36  deletions                8373 non-null   int64  \n",
            " 37  insertions               8373 non-null   int64  \n",
            " 38  lines                    8373 non-null   int64  \n",
            " 39  files                    8373 non-null   int64  \n",
            " 40  dmm_unit_size            4475 non-null   float64\n",
            " 41  dmm_unit_complexity      4477 non-null   float64\n",
            " 42  dmm_unit_interfacing     4469 non-null   float64\n",
            "dtypes: float64(6), int64(14), object(23)\n",
            "memory usage: 2.7+ MB\n"
          ]
        }
      ]
    },
    {
      "cell_type": "markdown",
      "source": [
        "## Ajustes e Consultas nos dataframes"
      ],
      "metadata": {
        "id": "Nrluu-HN8PT5"
      }
    },
    {
      "cell_type": "code",
      "source": [
        "# Faz alguns ajustes nos dataframes\n",
        "df_files_from_db['modified_lines'] = df_files_from_db.added_lines + df_files_from_db.deleted_lines\n",
        "df_files_commits_from_db['modified_lines'] = df_files_commits_from_db.file_added_lines + df_files_commits_from_db.file_deleted_lines"
      ],
      "metadata": {
        "id": "wENTYYzm8IRj"
      },
      "execution_count": 6,
      "outputs": []
    },
    {
      "cell_type": "code",
      "source": [
        "!ls -liaht"
      ],
      "metadata": {
        "colab": {
          "base_uri": "https://localhost:8080/"
        },
        "id": "ekLdkEVk8dBi",
        "outputId": "cbef490c-86d5-4e33-f62f-051ee4522635"
      },
      "execution_count": 7,
      "outputs": [
        {
          "output_type": "stream",
          "name": "stdout",
          "text": [
            "total 253M\n",
            "1704451 drwxr-xr-x  2 root root 4.0K Jul 15 19:03 __pycache__\n",
            "5242886 drwxr-xr-x  1 root root 4.0K Jul 15 19:03 .\n",
            "1704537 -rw-r--r--  1 root root 253M Jul 15 19:03 my_promocity.db\n",
            "1704005 drwxr-xr-x 12 root root 4.0K Jul 15 18:54 gson\n",
            "1703995 drwxr-xr-x  2 root root 4.0K Jul 15 18:53 .ipynb_checkpoints\n",
            "1704455 -rw-r--r--  1 root root  469 Jul 15 18:51 utils.py\n",
            "1704454 -rw-r--r--  1 root root 6.8K Jul 15 18:51 dao.py\n",
            "1704453 -rw-r--r--  1 root root   53 Jul 15 18:51 requirements.txt\n",
            "1704450 -rw-r--r--  1 root root 1.4K Jul 15 18:51 carrega_dataframes.py\n",
            "1704449 -rw-r--r--  1 root root 4.9K Jul 15 18:51 extracao.py\n",
            "1704447 -rw-r--r--  1 root root 2.0K Jul 15 18:51 utilidades.py\n",
            "1703947 drwxr-xr-x  1 root root 4.0K Jul 15 18:31 ..\n",
            "5242887 drwxr-xr-x  1 root root 4.0K Jul 13 13:33 sample_data\n",
            "3014663 drwxr-xr-x  4 root root 4.0K Jul 13 13:32 .config\n"
          ]
        }
      ]
    },
    {
      "cell_type": "markdown",
      "source": [
        "# Faz a análise das métricas e geração dos scatter plots"
      ],
      "metadata": {
        "id": "B790JrSw80f5"
      }
    },
    {
      "cell_type": "code",
      "source": [
        "import seaborn as sns\n",
        "import matplotlib.pyplot as plt\n",
        "import numpy as np"
      ],
      "metadata": {
        "id": "nW9ewOyS8o2n"
      },
      "execution_count": 8,
      "outputs": []
    },
    {
      "cell_type": "markdown",
      "source": [
        "## Análise das Linhas modificadas (preparação das métricas de AMLOC e CC)"
      ],
      "metadata": {
        "id": "5sj6IkBM87j9"
      }
    },
    {
      "cell_type": "markdown",
      "source": [
        "### Funções"
      ],
      "metadata": {
        "id": "FfzaQ1FJ_hKY"
      }
    },
    {
      "cell_type": "code",
      "source": [
        "# AMLOC de todos os arquivos\n",
        "# retorna o df_amloc, df_boxplot_amloc e group_files_modified_lines\n",
        "def get_accumulated_modified_locs(df_files_from_db):\n",
        "  # Lista arquivos ordenados por nome com suas linhas modificadas\n",
        "  df_files_from_db[['name','modified_lines']].sort_values(by=['name'], ascending=True)\n",
        "\n",
        "  # Agrupa o df por nome do arquivo\n",
        "  df_groupby_name_modified_lines = df_files_from_db[['name','modified_lines']].groupby('name')\n",
        "\n",
        "  # Soma o total de linhas modificadas de cada arquivo\n",
        "  group_files_modified_lines = df_groupby_name_modified_lines.sum()\n",
        "\n",
        "  # Cria um novo df de Linhas de Código Modificadas\n",
        "  df_locm = group_files_modified_lines.copy()\n",
        "  df_locm = df_locm.reset_index()\n",
        "\n",
        "  # Acrescenta uma coluna File\n",
        "  df_locm['File'] = 'File'\n",
        "  df_boxplot_em = df_locm[['modified_lines', 'File']]\n",
        "\n",
        "  df_accumulated_modified_locs = df_locm.copy()\n",
        "  return df_accumulated_modified_locs, df_boxplot_em, group_files_modified_lines\n",
        "\n",
        "def gera_boxplot_accumulated_modified_locs(df_accumulated_modified_locs_boxplot):\n",
        "  # Boxplot do EM (Esforço de Manutenção de Locs Modificadas). Todos os arquivos do repositório\n",
        "  plt.figure(figsize=(6,4))\n",
        "  sns.boxplot(x='File', y='modified_lines', data=df_accumulated_modified_locs_boxplot)\n",
        "  plt.savefig('accumulated_modified_locs_boxplot.png')\n",
        "\n",
        "# Remove os arquivos que nao foram modificados\n",
        "# retorna o df_boxplot_amloc\n",
        "def get_accumulated_modified_locs_boxplot_valid(df_boxplot_em):\n",
        "  # Remove os arquivos que não foram modificados ao longo do tempo (O linhas modificadas)\n",
        "  df_boxplot_em = df_boxplot_em.drop(df_boxplot_em[df_boxplot_em.modified_lines == 0].index)\n",
        "  plt.figure(figsize=(6,4))\n",
        "  # Constroi o Boxsplot sem os outliers\n",
        "  sns.boxplot(x='File', y='modified_lines', data=df_boxplot_em,  showfliers=False)\n",
        "  plt.savefig('accumulated_modified_locs_boxplot_valid.png')\n",
        "  return df_boxplot_em\n",
        "\n",
        "# Cria um df_accumulated_modified_java_files contendo apenas arquivos .java\n",
        "# df_accumulated_modified_java_files\n",
        "def get_df_accumulated_modified_java_files(df_accumulated_modified_locs):\n",
        "  # Cria um df sem os arquivos de Teste\n",
        "  df_locm_no_test = df_accumulated_modified_locs[(df_accumulated_modified_locs[\"name\"].str.contains('Test') == False)]\n",
        "  # Cria um df contendo apenas os arquivos .java de implementacao\n",
        "  df_locm_java_impl = df_locm_no_test[df_locm_no_test['name'].str.contains('.java', regex=False)]\n",
        "  return df_locm_java_impl\n",
        "\n",
        "# mostra o boxplot accumulated_modified_java_files\n",
        "# retorna df_boxplot_em_java_impl contendo apenas arquivos .java\n",
        "def show_boxplot_accumulated_modified_java_files(df_locm_java_impl):\n",
        "  df_boxplot_em_java_impl = df_locm_java_impl[['modified_lines', 'File']]\n",
        "  plt.figure(figsize=(6,4))\n",
        "  sns.boxplot(x='File', y='modified_lines', data=df_boxplot_em_java_impl)\n",
        "  plt.savefig('accumulated_modified_locs_boxplot_java_files.png')\n",
        "  return df_boxplot_em_java_impl\n",
        "\n",
        "# Calcula os quartiles de todos os arquivos referente a AMLOC\n",
        "def get_quartiles_offiles_modified_lines(group_files_modified_lines, df_boxplot_em):\n",
        "  list_of_files_modified_lines = group_files_modified_lines.to_dict()\n",
        "  print(f'{ len(list_of_files_modified_lines) }, {list_of_files_modified_lines}')\n",
        "  # Mostra os quatis\n",
        "  em_q1 = np.percentile(df_boxplot_em.modified_lines, [25])\n",
        "  em_q2 = np.percentile(df_boxplot_em.modified_lines, [50])\n",
        "  em_q3 = np.percentile(df_boxplot_em.modified_lines, [75])\n",
        "  em_q4 = np.percentile(df_boxplot_em.modified_lines, [100])\n",
        "  print(f'Quartis do Total de Linhas Modificadas: Q1: {em_q1}, Q2: {em_q2}, Q3: {em_q3}, Q4: {em_q4}')\n",
        "  return em_q1, em_q2, em_q3, em_q4\n",
        "\n",
        "# Seleciona apenas os AMLOC validos (arquivos que foram modificados pelo menos uma vez)\n",
        "# retorna o df_boxplot_em_java_impl\n",
        "def get_accumulated_modified_java_files_valid(df_boxplot_em_java_impl):\n",
        "  # Remove os arquivos que não foram modificados ao longo do tempo (O linhas modificadas)\n",
        "  df_boxplot_em_java_impl = df_boxplot_em_java_impl.drop(df_boxplot_em_java_impl[df_boxplot_em_java_impl.modified_lines == 0].index)\n",
        "\n",
        "  plt.figure(figsize=(6,4))\n",
        "  # Constroi o Boxsplot sem os outliers\n",
        "  sns.boxplot(x='File', y='modified_lines', data=df_boxplot_em_java_impl,  showfliers=False)\n",
        "  plt.savefig('accumulated_modified_locs_boxplot_java_files_valid.png')\n",
        "  return df_boxplot_em_java_impl\n",
        "\n",
        "# Calcula os quartiles dos AMLOC .java validos\n",
        "def get_quartiles_offiles_modified_lines_java_files_valid(df_boxplot_em_java_impl):\n",
        "  # Mostra os quatis\n",
        "  em_q1_java_impl = np.percentile(df_boxplot_em_java_impl.modified_lines, [25])\n",
        "  em_q2_java_impl = np.percentile(df_boxplot_em_java_impl.modified_lines, [50])\n",
        "  em_q3_java_impl = np.percentile(df_boxplot_em_java_impl.modified_lines, [75])\n",
        "  em_q4_java_impl = np.percentile(df_boxplot_em_java_impl.modified_lines, [100])\n",
        "  print(f'Quartis do Total de Linhas Modificadas: Q1: {em_q1_java_impl}, Q2: {em_q2_java_impl}, Q3: {em_q3_java_impl}, Q4: {em_q4_java_impl}')\n",
        "  return em_q1_java_impl, em_q2_java_impl, em_q3_java_impl, em_q4_java_impl\n",
        "\n",
        "# Cria um df de complexidade ciclomatica de todos os arquivos\n",
        "# retorna df_cc_temp\n",
        "def get_complexidade_ciclomatica(df_files_commits_from_db):\n",
        "  # Mostra as Complexidades Ciclomáticas dos arquivos ordenada crescent pelo tempo\n",
        "  df_cc = df_files_commits_from_db[['file_filename', 'file_complexity', 'author_date']].sort_values(by=['file_filename', 'author_date'], ascending=True)\n",
        "  # Remove files that has not cc\n",
        "  # cc all files\n",
        "  df_cc_temp = df_cc.copy()\n",
        "  df_cc_temp = df_cc_temp[df_cc_temp.file_complexity.notnull()]\n",
        "  return df_cc_temp\n",
        "\n",
        "##### Todos os arquivos #####\n",
        "# gera um boxplot da complexidade ciclomatica de todos os arquivos\n",
        "def get_boxplot_complexidade_ciclomatica(df_cc_temp):\n",
        "  df_cc_temp['File'] = 'File'\n",
        "  df_boxplot_cc_temp = df_cc_temp[['file_complexity', 'File']]\n",
        "  plt.figure(figsize=(6,4))\n",
        "  sns.boxplot(x='File', y='file_complexity', data=df_boxplot_cc_temp)\n",
        "  plt.savefig('boxplot_complexidade_ciclomatica.png')\n",
        "  return df_cc_temp, df_boxplot_cc_temp\n",
        "\n",
        "# Calcula os quartiles das complexidades ciclomaticas\n",
        "# retorna os quartiles\n",
        "def get_quartiles_complexidade_ciclomatica(df_boxplot_cc_temp):\n",
        "  # Mostra os quatis\n",
        "  em_q1_cc_temp = np.percentile(df_boxplot_cc_temp.file_complexity, [25])\n",
        "  em_q2_cc_temp = np.percentile(df_boxplot_cc_temp.file_complexity, [50])\n",
        "  em_q3_cc_temp = np.percentile(df_boxplot_cc_temp.file_complexity, [75])\n",
        "  em_q4_cc_temp = np.percentile(df_boxplot_cc_temp.file_complexity, [100])\n",
        "\n",
        "  print(f'Quartis do Total de Linhas Modificadas: Q1: {em_q1_cc_temp}, Q2: {em_q2_cc_temp}, Q3: {em_q3_cc_temp}, Q4: {em_q4_cc_temp}')\n",
        "  return em_q1_cc_temp, em_q2_cc_temp, em_q3_cc_temp, em_q4_cc_temp\n",
        "\n",
        "### Apenas os arquivos .java ###\n",
        "# gera um boxplot de complexidade ciclomatica apenas dos arquivos .java\n",
        "def get_boxplot_complexidade_ciclomatica_only_java(df_cc_temp):\n",
        "  # Cria um df sem os arquivos de Teste\n",
        "  df_cc_temp_no_test = df_cc_temp[(df_cc_temp[\"file_filename\"].str.contains('Test') == False)]\n",
        "  # Cria um df contendo apenas os arquivos .java de implementacao\n",
        "  df_cc_temp_java_impl = df_cc_temp_no_test[df_cc_temp_no_test['file_filename'].str.contains('.java', regex=False)]\n",
        "  df_cc_temp_boxplot_em_java_impl = df_cc_temp_java_impl[['file_complexity', 'File']]\n",
        "\n",
        "  plt.figure(figsize=(6,4))\n",
        "  sns.boxplot(x='File', y='file_complexity', data=df_cc_temp_boxplot_em_java_impl)\n",
        "  plt.savefig('boxplot_complexidade_ciclomatica_only_java.png')\n",
        "  return df_cc_temp_java_impl, df_cc_temp_boxplot_em_java_impl\n",
        "\n",
        "# calcula os quatiles das complexidade ciclomaticas apenas dos arquivos .java\n",
        "# retorna os quartiles\n",
        "def get_quartiles_complexidade_ciclomatica_java_impl(df_cc_temp_boxplot_em_java_impl):\n",
        "  em_q1_cc_temp_java_impl = np.percentile(df_cc_temp_boxplot_em_java_impl.file_complexity, [25])\n",
        "  em_q2_cc_temp_java_impl = np.percentile(df_cc_temp_boxplot_em_java_impl.file_complexity, [50])\n",
        "  em_q3_cc_temp_java_impl = np.percentile(df_cc_temp_boxplot_em_java_impl.file_complexity, [75])\n",
        "  em_q4_cc_temp_java_impl = np.percentile(df_cc_temp_boxplot_em_java_impl.file_complexity, [100])\n",
        "  print(f'Quartis do Total de Linhas Modificadas: Q1: {em_q1_cc_temp_java_impl}, Q2: {em_q2_cc_temp_java_impl}, Q3: {em_q3_cc_temp_java_impl}, Q4: {em_q4_cc_temp_java_impl}')\n",
        "  return em_q1_cc_temp_java_impl, em_q2_cc_temp_java_impl, em_q3_cc_temp_java_impl, em_q4_cc_temp_java_impl"
      ],
      "metadata": {
        "id": "zM-QAOQJ83XB"
      },
      "execution_count": 9,
      "outputs": []
    },
    {
      "cell_type": "markdown",
      "source": [
        "### Testa as métricas de AMLOC e scatter plots"
      ],
      "metadata": {
        "id": "XOzlQPMB-boa"
      }
    },
    {
      "cell_type": "code",
      "source": [
        "df_accumulated_modified_locs, df_accumulated_modified_locs_boxplot, group_files_modified_lines = get_accumulated_modified_locs(df_files_from_db)\n",
        "gera_boxplot_accumulated_modified_locs(df_accumulated_modified_locs_boxplot)"
      ],
      "metadata": {
        "colab": {
          "base_uri": "https://localhost:8080/",
          "height": 388
        },
        "id": "jlgP0qAD9yMu",
        "outputId": "ec97389f-b79f-4af2-9cbe-d2d64f6c57dc"
      },
      "execution_count": 10,
      "outputs": [
        {
          "output_type": "display_data",
          "data": {
            "text/plain": [
              "<Figure size 600x400 with 1 Axes>"
            ],
            "image/png": "[encoded data removed]"
          },
          "metadata": {}
        }
      ]
    },
    {
      "cell_type": "code",
      "source": [
        "df_accumulated_modified_locs_boxplot_validos = get_accumulated_modified_locs_boxplot_valid(df_accumulated_modified_locs_boxplot)"
      ],
      "metadata": {
        "colab": {
          "base_uri": "https://localhost:8080/",
          "height": 393
        },
        "id": "KY2yxoTO96EP",
        "outputId": "ca386acf-9545-4eaf-f1a2-ee141452276a"
      },
      "execution_count": 11,
      "outputs": [
        {
          "output_type": "display_data",
          "data": {
            "text/plain": [
              "<Figure size 600x400 with 1 Axes>"
            ],
            "image/png": "[encoded data removed]"
          },
          "metadata": {}
        }
      ]
    },
    {
      "cell_type": "code",
      "source": [
        "em_q1, em_q2, em_q3, em_q4 = get_quartiles_offiles_modified_lines(group_files_modified_lines,df_accumulated_modified_locs_boxplot_validos)"
      ],
      "metadata": {
        "colab": {
          "base_uri": "https://localhost:8080/"
        },
        "id": "x_y8ZkXw96tW",
        "outputId": "826125e9-500a-442b-e345-f1a97133230d"
      },
      "execution_count": 12,
      "outputs": [
        {
          "output_type": "stream",
          "name": "stdout",
          "text": [
            "1, {'modified_lines': {'$Cache.java': 8, '$Gson$Preconditions.html': 1858, '$Gson$Preconditions.java': 20, '$Gson$Types.html': 2762, '$Gson$Types.java': 376, '$LruCache.java': 8, '$Pair.java': 8, '$Preconditions.java': 4, '$Primitives.java': 14, '$Types.java': 16, '$UnsafeAllocator.java': 12, '.gitattributes': 2, '.gitignore': 29, '.travis.yml': 48, 'Adapt.java': 4, 'AdaptAnnotationOnClassesTest.java': 12, 'AdaptAnnotationOnFieldsTest.java': 12, 'AdaptAnnotationTypeAdapterFactory.java': 12, 'AndroidManifest.xml': 21, 'AnonymousAndLocalClassExclusionStrategy.java': 98, 'ArrayTest.java': 607, 'ArrayTypeAdapter.html': 1008, 'ArrayTypeAdapter.java': 252, 'BagOfPrimitives.java': 161, 'BagOfPrimitivesDeserializationBenchmark.java': 80, 'BaseMapTypeAdapter.java': 100, 'BigDecimalTypeAdapter.html': 936, 'BigDecimalTypeAdapter.java': 120, 'BigIntegerTypeAdapter.html': 936, 'BigIntegerTypeAdapter.java': 120, 'CHANGELOG.md': 734, 'Cache.java': 130, 'CallPath.java': 314, 'CallPathMap.java': 164, 'CallPathProvider.java': 132, 'CallPathProviderTest.java': 36, 'CallPathTest.java': 156, 'CamelCaseSeparatorNamingPolicy.java': 168, 'CamelCaseSeparatorNamingPolicyTest.java': 160, 'Cart.java': 262, 'CircularReferenceException.java': 96, 'CircularReferenceTest.java': 219, 'ClassWithAdapter.java': 44, 'ClassWithDefaultConstructor.java': 12, 'ClassWithExposeAnnotation.java': 13, 'ClassWithJsonAdapterAnnotation.java': 126, 'ClassWithNamedFields.java': 10, 'ClassWithSerializedName.java': 15, 'ClassWithVersionAnnotations.java': 21, 'CodeGen.java': 212, 'CodeGenFunctionalTest.java': 106, 'CollectionTest.java': 920, 'CollectionTypeAdapter.java': 302, 'CollectionTypeAdapterFactory.html': 834, 'CollectionTypeAdapterFactory.java': 164, 'CollectionsDeserializationBenchmark.java': 175, 'CommentsTest.java': 59, 'CompositionFieldNamingPolicy.java': 94, 'ConcurrencyTest.java': 232, 'ConnectionPreconditions.java': 91, 'ConstructorConstructor.html': 996, 'ConstructorConstructor.java': 852, 'ConstructorConstructorTest.java': 120, 'ContentBody.java': 186, 'ContentBodySpec.java': 166, 'CustomDeserializerTest.java': 374, 'CustomSerializerTest.java': 189, 'CustomTypeAdaptersTest.java': 932, 'DateTypeAdapter.html': 1006, 'DateTypeAdapter.java': 209, 'DefaultConstructorAllocator.java': 208, 'DefaultConstructorAllocatorTest.java': 140, 'DefaultConstructorMain.java': 37, 'DefaultDateTypeAdapter.java': 555, 'DefaultDateTypeAdapterTest.java': 590, 'DefaultInetAddressTypeAdapterTest.java': 79, 'DefaultMapJsonSerializerTest.java': 139, 'DefaultTypeAdapters.java': 3658, 'DefaultTypeAdaptersTest.java': 1678, 'DelegateTypeAdapterTest.java': 150, 'DelegatingJsonElementVisitor.java': 298, 'DisjunctionExclusionStrategy.java': 194, 'DisjunctionExclusionStrategyTest.java': 250, 'EnumClass.java': 6, 'EnumClassWithSerializedName.java': 10, 'EnumTest.java': 673, 'EnumWithObfuscatedTest.java': 93, 'Escaper.java': 510, 'EscaperTest.java': 420, 'EscapingTest.java': 152, 'ExampleClient.java': 176, 'ExcludedTypeAdapterFactory.html': 840, 'ExcludedTypeAdapterFactory.java': 166, 'Excluder.java': 355, 'ExclusionStrategy.html': 8398, 'ExclusionStrategy.java': 198, 'ExclusionStrategy2.java': 250, 'ExclusionStrategy2Adapter.java': 39, 'ExclusionStrategy2AdapterTest.java': 94, 'ExclusionStrategyFunctionalTest.java': 439, 'Expose.html': 7420, 'Expose.java': 111, 'ExposeAnnotationBasedExclusionStrategy.java': 60, 'ExposeAnnotationBasedExclusionStrategyTest.java': 72, 'ExposeAnnotationDeserializationExclusionStrategy.java': 102, 'ExposeAnnotationDeserializationExclusionStrategyTest.java': 176, 'ExposeAnnotationExclusionStrategy.java': 19, 'ExposeAnnotationExclusionStrategyTest.java': 253, 'ExposeAnnotationSerializationExclusionStrategy.java': 93, 'ExposeAnnotationSerializationExclusionStrategyTest.java': 130, 'ExposeFieldsTest.java': 352, 'FieldAttributes.html': 10700, 'FieldAttributes.java': 647, 'FieldAttributesTest.java': 175, 'FieldExclusionTest.java': 172, 'FieldNamingPolicy.html': 11672, 'FieldNamingPolicy.java': 416, 'FieldNamingPolicyTest.java': 176, 'FieldNamingStrategy.html': 7496, 'FieldNamingStrategy.java': 54, 'FieldNamingStrategy2.java': 90, 'FieldNamingStrategy2Adapter.java': 108, 'FieldNamingStrategy2AdapterTest.java': 96, 'FieldNamingTest.java': 190, 'FieldTypeAdapterFactory.java': 120, 'FormattingStyle.java': 180, 'FormattingStyleTest.java': 349, 'FunctionWithInternalDependenciesTest.java': 232, 'FunctionalTest.java': 78, 'FunctionalWithInternalDependenciesTest.java': 157, 'GSON 2.0 NOTES.txt': 180, 'GeneratedTypeAdapter.java': 84, 'GeneratedTypeAdapterProcessor.java': 252, 'GenericArrayTypeImpl.java': 150, 'GenericArrayTypeImplTest.java': 58, 'GenericArrayTypeTest.java': 63, 'GenericClasses.java': 66, 'GraphAdapterBuilder.java': 355, 'GraphAdapterBuilderTest.java': 197, 'GraphTypeAdapterFactory.java': 484, 'GraphTypeAdapterFactoryTest.java': 69, 'Gson 2.1 notes.txt': 12, 'Gson.html': 21394, 'Gson.java': 4288, 'GsonBenchmark.java': 93, 'GsonBuildConfig.java': 32, 'GsonBuildConfigTest.java': 37, 'GsonBuilder.html': 22434, 'GsonBuilder.java': 2996, 'GsonBuilderTest.java': 337, 'GsonCompatibleMapTypeAdapter.java': 230, 'GsonDesignDocument.md': 59, 'GsonExclusionStrategy.java': 264, 'GsonFieldTypeAdapterTest.java': 376, 'GsonInternalAccess.java': 78, 'GsonProguardExampleActivity.java': 64, 'GsonTest.java': 624, 'GsonToMiniGsonTypeAdapter.java': 262, 'GsonToMiniGsonTypeAdapterFactory.java': 242, 'GsonTypeAdapterTest.java': 212, 'GsonTypesTest.java': 166, 'GsonVersionDiagnosticsTest.java': 160, 'HasId.java': 68, 'HeaderMap.java': 232, 'HeaderMapSpec.java': 182, 'HttpMethod.java': 94, 'ID.java': 16, 'IDFactory.java': 90, 'ISO8601Utils.java': 463, 'ISO8601UtilsTest.java': 300, 'Id.java': 223, 'IdMap.java': 204, 'IdTest.java': 140, 'IdTypeAdapter.java': 110, 'IdTypeAdapterTest.java': 304, 'InheritanceTest.java': 501, 'InnerClassExclusionStrategy.java': 120, 'InnerClassExclusionStrategyTest.java': 191, 'InstanceCreator.html': 7218, 'InstanceCreator.java': 92, 'InstanceCreatorTest.java': 224, 'Intercept.java': 72, 'InterceptorFactory.java': 71, 'InterceptorTest.java': 302, 'InterfaceTest.java': 97, 'InternationalizationTest.java': 167, 'Java17RecordTest.java': 631, 'Java17ReflectionHelperTest.java': 59, 'Java17ReflectiveTypeAdapterFactoryTest.java': 54, 'JavaFieldNamingPolicy.java': 110, 'JavaFieldNamingPolicyTest.java': 110, 'JavaSerializationTest.java': 108, 'JavaUtilConcurrentAtomicTest.java': 93, 'JavaUtilConcurrentLocksTest.java': 112, 'JavaUtilTest.java': 104, 'JavaVersion.java': 98, 'JavaVersionTest.java': 127, 'JavaWriter.java': 1772, 'JsonAdapter.html': 1492, 'JsonAdapter.java': 174, 'JsonAdapterAnnotationOnClassesTest.java': 187, 'JsonAdapterAnnotationOnFieldsTest.java': 530, 'JsonAdapterAnnotationTest.java': 182, 'JsonAdapterAnnotationTypeAdapterFactory.java': 416, 'JsonAdapterNullSafeTest.java': 434, 'JsonAdapterSerializerDeserializerTest.java': 247, 'JsonArray.html': 18574, 'JsonArray.java': 853, 'JsonArrayAsListTest.java': 417, 'JsonArrayDeserializationVisitor.java': 410, 'JsonArrayTest.java': 1012, 'JsonCompactFormatter.java': 384, 'JsonDeserializationContext.html': 7626, 'JsonDeserializationContext.java': 303, 'JsonDeserializationContextDefault.java': 274, 'JsonDeserializationVisitor.java': 476, 'JsonDeserializer.html': 7294, 'JsonDeserializer.java': 114, 'JsonDeserializerExceptionWrapper.java': 162, 'JsonDeserializerExceptionWrapperTest.java': 180, 'JsonElement.html': 23658, 'JsonElement.java': 689, 'JsonElementReader.html': 1740, 'JsonElementReader.java': 254, 'JsonElementReaderTest.java': 629, 'JsonElementVisitor.java': 122, 'JsonElementWriter.html': 1596, 'JsonElementWriter.java': 220, 'JsonElementWriterTest.java': 186, 'JsonEscapingVisitor.java': 156, 'JsonEscapingVisitorTest.java': 372, 'JsonFieldNameValidator.java': 168, 'JsonFieldNameValidatorTest.java': 234, 'JsonFormatter.java': 80, 'JsonIOException.html': 9130, 'JsonIOException.java': 47, 'JsonNull.html': 9730, 'JsonNull.java': 289, 'JsonNullTest.java': 62, 'JsonObject.html': 14194, 'JsonObject.java': 649, 'JsonObjectAsMapTest.java': 437, 'JsonObjectDeserializationVisitor.java': 498, 'JsonObjectTest.java': 651, 'JsonParseException.html': 10296, 'JsonParseException.java': 72, 'JsonParser.html': 8482, 'JsonParser.java': 4861, 'JsonParser.jj': 1222, 'JsonParserAsync.java': 108, 'JsonParserAsyncTest.java': 36, 'JsonParserConstants.java': 466, 'JsonParserImpl.java': 982, 'JsonParserImplConstants.java': 203, 'JsonParserImplTokenManager.java': 3082, 'JsonParserJavacc.java': 1046, 'JsonParserJavaccConstants.java': 107, 'JsonParserJavaccTokenManager.java': 1250, 'JsonParserParameterizedTest.java': 64, 'JsonParserTest.java': 611, 'JsonParserTokenManager.java': 7466, 'JsonPostDeserializer.java': 35, 'JsonPrimitive.html': 17226, 'JsonPrimitive.java': 964, 'JsonPrimitiveDeserializationVisitor.java': 200, 'JsonPrimitiveTest.java': 613, 'JsonPrintFormatter.java': 726, 'JsonReader.html': 16860, 'JsonReader.java': 4407, 'JsonReader2.java': 1469, 'JsonReaderInternalAccess.java': 32, 'JsonReaderPathTest.java': 924, 'JsonReaderTest.java': 3637, 'JsonReaderV2.java': 2724, 'JsonScope.java': 91, 'JsonSerializationContext.html': 7904, 'JsonSerializationContext.java': 173, 'JsonSerializationContextDefault.java': 188, 'JsonSerializationVisitor.java': 1116, 'JsonSerializer.html': 7256, 'JsonSerializer.java': 108, 'JsonSerializerExceptionWrapper.java': 138, 'JsonSerializerExceptionWrapperTest.java': 172, 'JsonStreamParser.html': 9070, 'JsonStreamParser.java': 201, 'JsonStreamParserTest.java': 192, 'JsonSyntaxException.html': 9428, 'JsonSyntaxException.java': 86, 'JsonToken.html': 10746, 'JsonToken.java': 89, 'JsonTreeNavigator.java': 292, 'JsonTreeReader.java': 276, 'JsonTreeReaderTest.java': 196, 'JsonTreeTest.java': 162, 'JsonTreeWriter.java': 52, 'JsonTreeWriterTest.java': 185, 'JsonWriter.html': 18128, 'JsonWriter.java': 1304, 'JsonWriterTest.java': 1057, 'LICENSE': 447, 'LazilyParsedNumber.html': 1020, 'LazilyParsedNumber.java': 499, 'LazilyParsedNumberTest.java': 74, 'LeniencyTest.java': 66, 'LineItem.java': 165, 'LinkedHashTreeMap.java': 1162, 'LinkedHashTreeMapTest.java': 501, 'LinkedTreeMap.java': 2661, 'LinkedTreeMapTest.java': 900, 'LongSerializationPolicy.html': 10440, 'LongSerializationPolicy.java': 140, 'LongSerializationPolicyTest.java': 148, 'LowerCamelCaseSeparatorNamingPolicy.java': 90, 'LowerCamelCaseSeparatorNamingPolicyTest.java': 118, 'LowerCaseNamingPolicy.java': 108, 'LowerCaseNamingPolicyTest.java': 104, 'LruCache.java': 166, 'LruCacheTest.java': 278, 'Main.java': 142, 'MainServlet.java': 236, 'MalformedJsonException.html': 6706, 'MalformedJsonException.java': 32, 'MapAsArrayTypeAdapter.java': 368, 'MapAsArrayTypeAdapterTest.java': 237, 'MapTest.java': 1315, 'MapTypeAdapter.java': 321, 'MapTypeAdapterFactory.html': 954, 'MapTypeAdapterFactory.java': 551, 'MappedObjectConstructor.java': 476, 'MappedObjectConstructorTest.java': 208, 'MemoryRefStack.java': 206, 'MemoryRefStackTest.java': 214, 'MetaData.java': 318, 'MetaDataMap.java': 112, 'MiniGson.Builder.html': 1230, 'MiniGson.html': 1280, 'MiniGson.java': 530, 'MiniGsonTest.java': 235, 'MixedStreamTest.java': 326, 'MockExclusionStrategy.java': 57, 'MockExclusionStrategy2.java': 98, 'Mode.java': 57, 'ModifierBasedExclusionStrategy.java': 138, 'ModifyFirstLetterNamingPolicy.java': 252, 'ModifyFirstLetterNamingPolicyTest.java': 176, 'MoreAsserts.java': 153, 'MoreSpecificTypeSerializationTest.java': 266, 'NamingPolicyTest.java': 463, 'NonNullElementWrapperList.java': 115, 'NonUploadingCaliperRunner.java': 37, 'NullExclusionStrategy.java': 94, 'NullExclusionStrategyTest.java': 116, 'NullObjectAndFieldTest.java': 415, 'NumberTypeAdapter.java': 84, 'OSGiTest.java': 97, 'ObjectConstructor.html': 814, 'ObjectConstructor.java': 69, 'ObjectNavigator.java': 934, 'ObjectNavigatorFactory.java': 200, 'ObjectTest.java': 1798, 'ObjectTypeAdapter.html': 936, 'ObjectTypeAdapter.java': 357, 'ObjectTypeAdapterParameterizedTest.java': 61, 'ObjectTypeAdapterTest.java': 187, 'ObjectTypePair.java': 416, 'Order.java': 290, 'OrderClient.java': 192, 'OverrideCoreTypeAdaptersTest.java': 114, 'Pair.html': 1096, 'Pair.java': 298, 'ParamMap.java': 220, 'ParamMapSpec.java': 88, 'ParameterizedTypeFixtures.java': 36, 'ParameterizedTypeHandlerMap.html': 1300, 'ParameterizedTypeHandlerMap.java': 718, 'ParameterizedTypeHandlerMapTest.java': 231, 'ParameterizedTypeImpl.java': 204, 'ParameterizedTypeImplTest.java': 57, 'ParameterizedTypeTest.java': 68, 'ParameterizedTypesTest.java': 861, 'ParamterizedTypeFixtures.java': 229, 'ParseBenchmark.java': 580, 'ParseBenchmarkData.zip': 0, 'ParseException.java': 762, 'PerformanceTest.java': 716, 'PostConstructAdapterFactory.java': 82, 'PostConstructAdapterFactoryTest.java': 154, 'PreJava9DateFormatProvider.java': 86, 'PreJava9ReflectionAccessor.java': 74, 'Preconditions.java': 296, 'PrettyPrintingTest.java': 203, 'PrimitiveCharacterTest.java': 82, 'PrimitiveTest.java': 2262, 'PrimitiveTypeAdapter.java': 109, 'PrimitiveTypeAdapterTest.java': 148, 'Primitives.html': 938, 'Primitives.java': 264, 'PrintFormattingTest.java': 131, 'ProcedureDispatcher.java': 188, 'ProtoTypeAdapter.java': 738, 'ProtosWithAnnotationsTest.java': 275, 'ProtosWithComplexAndRepeatedFieldsTest.java': 129, 'ProtosWithPrimitiveTypesTest.java': 47, 'QueryOrdersByItemName.java': 64, 'Queryable.java': 26, 'QueueConsumer.java': 128, 'QueueEntry.java': 84, 'README': 20, 'README.md': 367, 'RawCollectionsExample.java': 70, 'RawSerializationTest.java': 160, 'ReadersWritersTest.java': 312, 'RecursiveFieldNamingPolicy.java': 102, 'RecursiveTypesResolveTest.java': 211, 'ReflectingFieldNavigator.java': 462, 'Reflection.java': 132, 'ReflectionAccessFilter.java': 216, 'ReflectionAccessFilterHelper.java': 118, 'ReflectionAccessFilterTest.java': 639, 'ReflectionAccessTest.java': 216, 'ReflectionAccessor.java': 114, 'ReflectionHelper.java': 448, 'ReflectionHelperTest.java': 103, 'ReflectiveTypeAdapter.java': 732, 'ReflectiveTypeAdapterFactory.Adapter.html': 860, 'ReflectiveTypeAdapterFactory.html': 868, 'ReflectiveTypeAdapterFactory.java': 1273, 'ReflectiveTypeAdapterFactoryTest.java': 86, 'ReleaseProcess.md': 348, 'Repository.java': 120, 'RepositoryInMemory.java': 254, 'RequestBody.java': 192, 'RequestBodyGsonConverter.java': 170, 'RequestBodySpec.java': 108, 'RequestBodySpecProvider.java': 98, 'RequestReceiver.java': 256, 'RequestSender.java': 286, 'RequestSpec.java': 116, 'RequestSpecProvider.java': 98, 'ResourceDepot.java': 54, 'ResourceDepotClient.java': 163, 'ResourceMap.java': 142, 'ResourceQuery.java': 66, 'ResourceQueryClient.java': 198, 'ResponseBody.java': 194, 'ResponseBodyGsonConverter.java': 174, 'ResponseBodySpec.java': 106, 'ResponseBuilder.java': 74, 'ResponseBuilderMap.java': 122, 'ResponseCallback.java': 80, 'ResponseReceiver.java': 262, 'ResponseSender.java': 172, 'ResponseSpec.java': 114, 'RestCall.java': 116, 'RestCallSpec.java': 346, 'RestClient.java': 311, 'RestClientStub.java': 288, 'RestDispatcher.java': 244, 'RestRequest.java': 216, 'RestRequestReceiver.java': 240, 'RestRequestSender.java': 282, 'RestRequestSpec.java': 112, 'RestResource.java': 58, 'RestResponse.java': 232, 'RestResponseBuilder.java': 186, 'RestResponseReceiver.java': 282, 'RestResponseSender.java': 174, 'RestResponseSpec.java': 112, 'RestServerConfig.java': 38, 'ReusedTypeVariablesFullyResolveTest.java': 141, 'RuntimeTypeAdapter.java': 242, 'RuntimeTypeAdapterFactory.java': 421, 'RuntimeTypeAdapterFactoryFunctionalTest.java': 253, 'RuntimeTypeAdapterFactoryTest.java': 124, 'RuntimeTypeAdapterTest.java': 215, 'SampleJsonService.java': 84, 'SecurityTest.java': 132, 'SerializationBenchmark.java': 64, 'SerializationDelegatingTypeAdapter.java': 30, 'SerializedName.html': 6952, 'SerializedName.java': 131, 'SerializedNameAnnotationInterceptingNamingPolicy.java': 146, 'SerializedNameAnnotationInterceptingNamingPolicyTest.java': 150, 'SerializedNameTest.java': 80, 'ServerConfig.java': 42, 'ServicePaths.java': 106, 'ShrinkingIT.java': 225, 'SimpleCharStream.java': 1818, 'Since.html': 6862, 'Since.java': 83, 'SingleThreadExecutor.java': 80, 'SqlDateTypeAdapter.html': 1006, 'SqlDateTypeAdapter.java': 124, 'SqlTimeTypeAdapter.java': 37, 'SqlTimestampTypeAdapter.java': 60, 'SqlTypesGsonTest.java': 195, 'SqlTypesSupport.java': 88, 'SqlTypesSupportTest.java': 55, 'StreamingTypeAdaptersTest.java': 356, 'Streams.html': 904, 'Streams.java': 605, 'StreamsTest.java': 90, 'StringMap.java': 1350, 'StringMapTest.java': 134, 'StringPool.java': 146, 'StringTest.java': 369, 'StringToValueMapTypeAdapter.java': 131, 'StringToValueMapTypeAdapterFactory.html': 834, 'StringToValueMapTypeAdapterFactory.java': 224, 'StringUnmarshaller.java': 148, 'StringUnmarshallerTest.java': 110, 'SyntheticFieldExclusionStrategy.java': 102, 'SystemOnlyTypeAdaptersTest.java': 154, 'TaskExecutor.java': 60, 'TestCharacters.java': 24, 'TestExecutor.java': 34, 'TestTypes.java': 591, 'ThreadPerTaskExecutor.java': 78, 'ThrowableFunctionalTest.java': 134, 'TimeTypeAdapter.html': 1006, 'TimeTypeAdapter.java': 88, 'ToNumberPolicy.java': 117, 'ToNumberPolicyFunctionalTest.java': 232, 'ToNumberPolicyTest.java': 241, 'ToNumberStrategy.java': 76, 'Token.java': 426, 'TokenMgrError.java': 564, 'TreeTypeAdapter.java': 331, 'TreeTypeAdaptersTest.java': 243, 'Troubleshooting.md': 383, 'TroubleshootingGuide.java': 14, 'TypeAdapter.Factory.html': 1624, 'TypeAdapter.html': 10692, 'TypeAdapter.java': 1036, 'TypeAdapterFactory.html': 5350, 'TypeAdapterFactory.java': 183, 'TypeAdapterNotRequired.java': 106, 'TypeAdapterPrecedenceTest.java': 307, 'TypeAdapterRuntimeTypeWrapper.java': 175, 'TypeAdapterRuntimeTypeWrapperTest.java': 225, 'TypeAdapterTest.java': 118, 'TypeAdapters.html': 2630, 'TypeAdapters.java': 2574, 'TypeHierarchyAdapterTest.java': 306, 'TypeInfo.java': 168, 'TypeInfoArray.java': 154, 'TypeInfoArrayTest.java': 248, 'TypeInfoCollection.java': 92, 'TypeInfoFactory.java': 404, 'TypeInfoFactoryTest.java': 588, 'TypeInfoMap.java': 136, 'TypeInfoMapTest.java': 132, 'TypeInfoTest.java': 232, 'TypeMap.java': 270, 'TypeMapTest.java': 159, 'TypeToken.html': 13336, 'TypeToken.java': 1352, 'TypeTokenTest.java': 737, 'TypeUtils.java': 394, 'TypeUtilsTest.java': 114, 'TypeVariableTest.java': 256, 'TypedKey.java': 144, 'TypedKeyTest.java': 46, 'TypedKeys.java': 84, 'TypedKeysQuery.java': 74, 'Types.java': 753, 'UncategorizedTest.java': 183, 'UnsafeAllocator.html': 942, 'UnsafeAllocator.java': 265, 'UnsafeAllocatorInstantiationTest.java': 158, 'UnsafeReflectionAccessor.java': 200, 'UnsafeReflectionAccessorTest.java': 154, 'Until.html': 6838, 'Until.java': 98, 'UpperCamelCaseSeparatorNamingPolicy.java': 92, 'UpperCamelCaseSeparatorNamingPolicyTest.java': 120, 'UpperCaseNamingPolicy.java': 102, 'UpperCaseNamingPolicyTest.java': 106, 'UserGuide.md': 1576, 'UtcDateTypeAdapter.java': 412, 'UtcDateTypeAdapterTest.java': 121, 'Util.java': 152, 'ValueBasedId.java': 239, 'VersionConstants.java': 58, 'VersionExclusionStrategy.java': 212, 'VersionExclusionStrategyTest.java': 342, 'VersionUtils.java': 98, 'VersioningTest.java': 349, 'WebServiceAppException.java': 76, 'WebServiceCall.java': 102, 'WebServiceCallProvider.java': 59, 'WebServiceCallServerBuilder.java': 76, 'WebServiceCallServerProvider.java': 103, 'WebServiceCallSpec.java': 374, 'WebServiceCallSpecProvider.java': 106, 'WebServiceClient.java': 270, 'WebServiceClientAsync.java': 156, 'WebServiceConfig.java': 40, 'WebServiceRequest.java': 168, 'WebServiceResponse.java': 238, 'WebServiceSpec.java': 60, 'WebServiceSystemException.java': 80, 'allclasses-frame.html': 1586, 'allclasses-noframe.html': 1586, 'annotations.proto': 34, 'assembly-descriptor.xml': 84, 'bag.proto': 76, 'bnd.bnd': 25, 'bug_report.md': 51, 'build.gradle': 56, 'build.yml': 42, 'check-android-compatibility.yml': 29, 'check-api-compatibility.yml': 58, 'cifuzz.yml': 25, 'codeql-analysis.yml': 68, 'config.yml': 4, 'constant-values.html': 2582, 'default.properties': 12, 'dependabot.yml': 6, 'deprecated-list.html': 3292, 'feature_request.md': 22, 'gradle-wrapper-validation.yml': 20, 'gradle-wrapper.jar': 0, 'gradle-wrapper.properties': 12, 'gradlew': 344, 'gradlew.bat': 168, 'gson-cleanup-styles.xml': 51, 'gson-formatting-styles.xml': 267, 'gson.pro': 60, 'help-doc.html': 4084, 'icon.png': 0, 'index-1.html': 330, 'index-10.html': 304, 'index-11.html': 368, 'index-12.html': 438, 'index-13.html': 392, 'index-14.html': 414, 'index-15.html': 404, 'index-16.html': 276, 'index-17.html': 304, 'index-2.html': 302, 'index-3.html': 314, 'index-4.html': 332, 'index-5.html': 334, 'index-6.html': 646, 'index-7.html': 324, 'index-8.html': 356, 'index-9.html': 396, 'index-all.html': 19096, 'index.html': 760, 'inherit.gif': 0, 'javadoc-descriptor.xml': 36, 'javax.annotation.processing.Processor': 4, 'jvm.config': 10, 'main.xml': 12, 'module-info.java': 55, 'overview-frame.html': 862, 'overview-summary.html': 3082, 'overview-tree.html': 3838, 'package-frame.html': 4260, 'package-info.java': 142, 'package-list': 40, 'package-summary.html': 16526, 'package-tree.html': 12798, 'package-use.html': 15172, 'pom.xml': 9527, 'proguard.cfg': 200, 'proguard.pro': 29, 'pull_request_template.md': 31, 'r8.pro': 38, 'script.js': 60, 'serialized-form.html': 3680, 'settings.gradle': 2, 'strings.xml': 5, 'stylesheet.css': 2618, 'testcases-proguard.conf': 27}}\n",
            "Quartis do Total de Linhas Modificadas: Q1: [94.], Q2: [188.], Q3: [438.25], Q4: [23658.]\n"
          ]
        }
      ]
    },
    {
      "cell_type": "code",
      "source": [
        "df_locm_java_impl = get_df_accumulated_modified_java_files(df_accumulated_modified_locs)\n",
        "df_boxplot_em_java_impl = show_boxplot_accumulated_modified_java_files(df_locm_java_impl)"
      ],
      "metadata": {
        "colab": {
          "base_uri": "https://localhost:8080/",
          "height": 388
        },
        "id": "cXAdocHP-B-e",
        "outputId": "22b369e9-4e57-425e-ebf1-a56c708d0576"
      },
      "execution_count": 13,
      "outputs": [
        {
          "output_type": "display_data",
          "data": {
            "text/plain": [
              "<Figure size 600x400 with 1 Axes>"
            ],
            "image/png": "[encoded data removed]"
          },
          "metadata": {}
        }
      ]
    },
    {
      "cell_type": "code",
      "source": [
        "df_boxplot_em_java_impl_valid = get_accumulated_modified_java_files_valid(df_boxplot_em_java_impl)"
      ],
      "metadata": {
        "colab": {
          "base_uri": "https://localhost:8080/",
          "height": 388
        },
        "id": "QD-PiUL0-JHU",
        "outputId": "a4c4dcbf-9495-4f8f-807b-30142cdba043"
      },
      "execution_count": 14,
      "outputs": [
        {
          "output_type": "display_data",
          "data": {
            "text/plain": [
              "<Figure size 600x400 with 1 Axes>"
            ],
            "image/png": "[encoded data removed]"
          },
          "metadata": {}
        }
      ]
    },
    {
      "cell_type": "code",
      "source": [
        "em_q1_java_impl, em_q2_java_impl, em_q3_java_impl, em_q4_java_impl = get_quartiles_offiles_modified_lines_java_files_valid(df_boxplot_em_java_impl_valid)"
      ],
      "metadata": {
        "colab": {
          "base_uri": "https://localhost:8080/"
        },
        "id": "A6mY_6xS-Mwu",
        "outputId": "71476d1f-455e-4426-9651-2760d22f7c97"
      },
      "execution_count": 15,
      "outputs": [
        {
          "output_type": "stream",
          "name": "stdout",
          "text": [
            "Quartis do Total de Linhas Modificadas: Q1: [88.5], Q2: [156.], Q3: [282.], Q4: [7466.]\n"
          ]
        }
      ]
    },
    {
      "cell_type": "markdown",
      "source": [
        "### Testa as métricas de complexidade ciclomática"
      ],
      "metadata": {
        "id": "V5eyseGe-8U3"
      }
    },
    {
      "cell_type": "code",
      "source": [
        "df_complexidade_ciclomatica = get_complexidade_ciclomatica(df_files_commits_from_db)"
      ],
      "metadata": {
        "id": "yJG2Vt5V-RqV"
      },
      "execution_count": null,
      "outputs": []
    },
    {
      "cell_type": "code",
      "source": [
        "df_cc_temp,df_boxplot_cc_temp = get_boxplot_complexidade_ciclomatica(df_complexidade_ciclomatica)"
      ],
      "metadata": {
        "colab": {
          "base_uri": "https://localhost:8080/",
          "height": 388
        },
        "id": "mSOxlB92_ASu",
        "outputId": "43f1a44d-2d74-4c81-82f5-e766f88cbe18"
      },
      "execution_count": 17,
      "outputs": [
        {
          "output_type": "display_data",
          "data": {
            "text/plain": [
              "<Figure size 600x400 with 1 Axes>"
            ],
            "image/png": "[encoded data removed]"
          },
          "metadata": {}
        }
      ]
    },
    {
      "cell_type": "code",
      "source": [
        "em_q1_cc_temp,em_q2_cc_temp, em_q3_cc_temp, em_q4_cc_temp = get_quartiles_complexidade_ciclomatica(df_boxplot_cc_temp)"
      ],
      "metadata": {
        "colab": {
          "base_uri": "https://localhost:8080/"
        },
        "id": "ZYX-UqH6_HLg",
        "outputId": "5fa64845-6e83-4329-a3cc-452538ea0830"
      },
      "execution_count": 18,
      "outputs": [
        {
          "output_type": "stream",
          "name": "stdout",
          "text": [
            "Quartis do Total de Linhas Modificadas: Q1: [6.], Q2: [16.], Q3: [43.], Q4: [388.]\n"
          ]
        }
      ]
    },
    {
      "cell_type": "code",
      "source": [
        "df_cc_temp_java_impl, df_cc_temp_boxplot_em_java_impl = get_boxplot_complexidade_ciclomatica_only_java(df_cc_temp)"
      ],
      "metadata": {
        "colab": {
          "base_uri": "https://localhost:8080/",
          "height": 388
        },
        "id": "rRn-k8MD_UR0",
        "outputId": "6b693799-3e0f-4a23-ed92-d1cb23ed4566"
      },
      "execution_count": 20,
      "outputs": [
        {
          "output_type": "display_data",
          "data": {
            "text/plain": [
              "<Figure size 600x400 with 1 Axes>"
            ],
            "image/png": "[encoded data removed]"
          },
          "metadata": {}
        }
      ]
    },
    {
      "cell_type": "code",
      "source": [
        "em_q1_cc_temp_java_impl, em_q2_cc_temp_java_impl, em_q3_cc_temp_java_impl, em_q4_cc_temp_java_impl= get_quartiles_complexidade_ciclomatica_java_impl(df_cc_temp_boxplot_em_java_impl)"
      ],
      "metadata": {
        "colab": {
          "base_uri": "https://localhost:8080/"
        },
        "id": "sCSW9CTW_KF1",
        "outputId": "0770ec1e-7407-4354-88b2-4b5a256bfc17"
      },
      "execution_count": 21,
      "outputs": [
        {
          "output_type": "stream",
          "name": "stdout",
          "text": [
            "Quartis do Total de Linhas Modificadas: Q1: [7.], Q2: [18.], Q3: [48.], Q4: [388.]\n"
          ]
        }
      ]
    },
    {
      "cell_type": "markdown",
      "source": [
        "## Cálculo do FOC e geração da relação AMLOCxFOC"
      ],
      "metadata": {
        "id": "UQDyWsGm_k63"
      }
    },
    {
      "cell_type": "code",
      "source": [
        "import pandas as pd\n",
        "import matplotlib.pyplot as plt"
      ],
      "metadata": {
        "id": "rBFkfjhX_NqK"
      },
      "execution_count": 22,
      "outputs": []
    },
    {
      "cell_type": "markdown",
      "source": [
        "### Funções"
      ],
      "metadata": {
        "id": "g2bba9oP_0Wj"
      }
    },
    {
      "cell_type": "code",
      "source": [
        "def calcula_frequencia_commits(df_files_from_db):\n",
        "  # calcula frequência dos arquivos na faixa de commits analisados\n",
        "  list_of_files_frequency_in_commits = {}\n",
        "\n",
        "  # Dataframe agrupados por arquivos e seus commits\n",
        "  df_groupby_name = df_files_from_db[['name', 'hash']].groupby('name')\n",
        "\n",
        "  print(f'Quantidade de grupos: {df_groupby_name.ngroups}')\n",
        "  print(f'Grupos: {df_groupby_name.groups}')\n",
        "\n",
        "  group_files = df_groupby_name.size()\n",
        "  print(group_files)\n",
        "  print('')\n",
        "  list_of_files_frequency_in_commits = group_files.to_dict()\n",
        "  print(f'{ len(list_of_files_frequency_in_commits) }, {list_of_files_frequency_in_commits}')\n",
        "\n",
        "  # Cria um df contendo o arquivo e sua frequencia de commits\n",
        "  df_fc = pd.DataFrame({'name':group_files.index, 'frequency_commits': group_files.values})\n",
        "\n",
        "  df_boxplot_fc = df_fc\n",
        "  # Acrescenta a coluna File\n",
        "  df_boxplot_fc['File'] = 'File'\n",
        "  return df_fc, df_boxplot_fc\n",
        "\n",
        "def gera_boxplot_frequencia_commits(df_boxplot_fc):\n",
        "  plt.figure(figsize=(6,4))\n",
        "  sns.boxplot(x='File', y='frequency_commits', data=df_boxplot_fc)\n",
        "  plt.figure(figsize=(6,4))\n",
        "  plt.savefig('boxplot_frequencia_commmits.png')\n",
        "  # Constroi o Boxsplot sem os outliers\n",
        "  sns.boxplot(x='File', y='frequency_commits', data=df_boxplot_fc, showfliers=False)\n",
        "  plt.savefig('boxplot_frequencia_commmits_no_outliers.png')\n",
        "\n",
        "def calcula_quartiles_frequencia_commits(df_boxplot_fc):\n",
        "  fc_q1 = np.percentile(df_boxplot_fc.frequency_commits , [25])\n",
        "  fc_q2 = np.percentile(df_boxplot_fc.frequency_commits , [50])\n",
        "  fc_q3 = np.percentile(df_boxplot_fc.frequency_commits , [75])\n",
        "  fc_q4 = np.percentile(df_boxplot_fc.frequency_commits , [100])\n",
        "\n",
        "  print(f'Quartis da Frequencia de Commits Q1: {fc_q1}, Q2: {fc_q2}, Q3: {fc_q3}, Q4: {fc_q4}')\n",
        "  return fc_q1, fc_q2, fc_q3, fc_q4\n",
        "\n",
        "def gera_boxplot_frequencia_commits_only_java(df_fc):\n",
        "  # Cria um df sem os arquivos de Teste\n",
        "  df_fc_no_test = df_fc[(df_fc[\"name\"].str.contains('Test') == False)]\n",
        "\n",
        "  # Cria um df contendo apenas os arquivos .java de implementacao\n",
        "  df_fc_java_impl = df_fc_no_test[df_fc_no_test['name'].str.contains('.java', regex=False)]\n",
        "\n",
        "  df_boxplot_fc_java_impl = df_fc_java_impl[['frequency_commits', 'File']]\n",
        "\n",
        "  plt.figure(figsize=(6,4))\n",
        "  sns.boxplot(x='File', y='frequency_commits', data=df_boxplot_fc_java_impl)\n",
        "  plt.savefig('boxplot_frequencia_commmits_only_java.png')\n",
        "\n",
        "  plt.figure(figsize=(6,4))\n",
        "  # Constroi o Boxsplot sem os outliers\n",
        "  sns.boxplot(x='File', y='frequency_commits', data=df_boxplot_fc_java_impl, showfliers=False)\n",
        "  plt.savefig('boxplot_frequencia_commmits_only_java_no_outliers.png')\n",
        "\n",
        "  # Remove as frequencias muito baixas (total de commits < 3)\n",
        "  df_boxplot_fc_java_impl2 = df_boxplot_fc_java_impl.drop(df_boxplot_fc_java_impl[df_boxplot_fc_java_impl.frequency_commits < 3].index)\n",
        "  plt.figure(figsize=(6,4))\n",
        "  # Constroi o Boxsplot sem os outliers\n",
        "  sns.boxplot(x='File', y='frequency_commits', data=df_boxplot_fc_java_impl2, showfliers=False)\n",
        "  plt.savefig('boxplot_frequencia_commmits_only_java_no_outliers_less_3.png')\n",
        "  return df_fc_java_impl, df_boxplot_fc_java_impl, df_boxplot_fc_java_impl2\n",
        "\n",
        "def calcula_quartiles_frequencia_commmits_java_impl(df_fc_java_impl):\n",
        "  fc_q1_java_impl = np.percentile(df_fc_java_impl.frequency_commits , [25])\n",
        "  fc_q2_java_impl = np.percentile(df_fc_java_impl.frequency_commits , [50])\n",
        "  fc_q3_java_impl = np.percentile(df_fc_java_impl.frequency_commits , [75])\n",
        "  fc_q4_java_impl = np.percentile(df_fc_java_impl.frequency_commits , [100])\n",
        "  print(f'Quartis da Frequencia de Commits Q1: {fc_q1_java_impl}, Q2: {fc_q2_java_impl}, Q3: {fc_q3_java_impl}, Q4: {fc_q4_java_impl}')\n",
        "  return fc_q1_java_impl, fc_q2_java_impl, fc_q3_java_impl, fc_q4_java_impl\n",
        "\n",
        "def calcula_quartiles_frequencia_commmits_no_outliers(df_boxplot_fc_java_impl):\n",
        "  fc_q1_java_impl = np.percentile(df_boxplot_fc_java_impl.frequency_commits , [25])\n",
        "  fc_q2_java_impl = np.percentile(df_boxplot_fc_java_impl.frequency_commits , [50])\n",
        "  fc_q3_java_impl = np.percentile(df_boxplot_fc_java_impl.frequency_commits , [75])\n",
        "  fc_q4_java_impl = np.percentile(df_boxplot_fc_java_impl.frequency_commits , [100])\n",
        "  print(f'Quartis da Frequencia de Commits Q1: {fc_q1_java_impl}, Q2: {fc_q2_java_impl}, Q3: {fc_q3_java_impl}, Q4: {fc_q4_java_impl}')\n",
        "  return fc_q1_java_impl, fc_q2_java_impl, fc_q3_java_impl, fc_q4_java_impl\n",
        "\n",
        "def calcula_quartiles_frequencia_commmits_no_outliers_less_3(df_boxplot_fc_java_impl2):\n",
        "  fc_q1_java_impl = np.percentile(df_boxplot_fc_java_impl2.frequency_commits , [25])\n",
        "  fc_q2_java_impl = np.percentile(df_boxplot_fc_java_impl2.frequency_commits , [50])\n",
        "  fc_q3_java_impl = np.percentile(df_boxplot_fc_java_impl2.frequency_commits , [75])\n",
        "  fc_q4_java_impl = np.percentile(df_boxplot_fc_java_impl2.frequency_commits , [100])\n",
        "  print(f'Quartis da Frequencia de Commits Q1: {fc_q1_java_impl}, Q2: {fc_q2_java_impl}, Q3: {fc_q3_java_impl}, Q4: {fc_q4_java_impl}')\n",
        "  return fc_q1_java_impl, fc_q2_java_impl, fc_q3_java_impl, fc_q4_java_impl\n",
        "\n",
        "def gera_df_foc_amloc(df_accumulated_modified_locs, df_fc):\n",
        "  df_em_fc = df_accumulated_modified_locs[['name','modified_lines']]\n",
        "  df_em_fc['frequency_commits'] = df_fc['frequency_commits']\n",
        "  return df_em_fc\n",
        "\n",
        "def gera_df_fator_foc_amloc(df_em_fc):\n",
        "  df_fator_multiplicacao = df_em_fc.copy()\n",
        "  df_fator_multiplicacao['factor1'] = df_fator_multiplicacao['modified_lines'] * df_fator_multiplicacao['frequency_commits']\n",
        "  return df_fator_multiplicacao\n",
        "\n",
        "def gera_scatter_plot_foc_amloc(df_em_fc, em_q3, fc_q3):\n",
        "  plt.style.use('ggplot')\n",
        "  plt.figure(figsize=(12,8))\n",
        "  sns.scatterplot(data=df_em_fc, x='modified_lines', y='frequency_commits')\n",
        "  abbr={'titulo':'Modificações de LoCs x Frequência de Commits', 'modified_lines':'Modificações de Locs', 'frequency_commits':'Frequência de Commits'}\n",
        "  plt.title(f\"Análise do Repositório Promocity : {abbr['modified_lines']} x {abbr['frequency_commits']}\")\n",
        "  plt.xlabel(abbr['modified_lines'])\n",
        "  plt.ylabel(abbr['frequency_commits'])\n",
        "\n",
        "  for i in range(df_em_fc.shape[0]):\n",
        "    if df_em_fc.modified_lines[i] > em_q3[0] and df_em_fc.frequency_commits[i] > fc_q3[0]:\n",
        "      plt.text(df_em_fc.modified_lines[i], y=df_em_fc.frequency_commits[i], s=df_em_fc.name[i], alpha=0.8, fontsize=8)\n",
        "  plt.savefig('scatter_plot_foc_amloc.png')\n",
        "  plt.show()\n",
        "\n",
        "def gera_scatter_plot_foc_amloc(df_em_fc):\n",
        "  # Cria um df sem os arquivos de Teste\n",
        "  df_em_fc_no_test = df_em_fc[(df_em_fc[\"name\"].str.contains('Test') == False)]\n",
        "  # Cria um df contendo apenas os arquivos .java de implementacao\n",
        "  df_em_fc_java_impl = df_em_fc_no_test[df_em_fc_no_test['name'].str.contains('.java', regex=False)]\n",
        "\n",
        "  df_fator_multiplicacao_em_fc_java_impl = df_em_fc_java_impl.copy()\n",
        "  df_fator_multiplicacao_em_fc_java_impl['factor1'] = df_fator_multiplicacao_em_fc_java_impl['modified_lines'] * df_fator_multiplicacao_em_fc_java_impl['frequency_commits']\n",
        "\n",
        "  s = df_fator_multiplicacao_em_fc_java_impl.copy()\n",
        "\n",
        "  plt.style.use('ggplot')\n",
        "  plt.figure(figsize=(12,8))\n",
        "  sns.scatterplot(data=df_em_fc_java_impl, x='modified_lines', y='frequency_commits')\n",
        "  abbr={'titulo':'Modificações de LoCs x Frequência de Commits', 'modified_lines':'Modificações de Locs', 'frequency_commits':'Frequência de Commits'}\n",
        "  plt.title(f\"Análise do Repositório Promocity : {abbr['modified_lines']} x {abbr['frequency_commits']}\")\n",
        "  plt.xlabel(abbr['modified_lines'])\n",
        "  plt.ylabel(abbr['frequency_commits'])\n",
        "  plt.savefig('scatter_plot_foc_amloc_only_java.png')\n",
        "  plt.show()\n",
        "  return df_em_fc_java_impl, df_fator_multiplicacao_em_fc_java_impl\n",
        "\n",
        "def gera_scatter_plot_foc_amloc_com_quadrantes(df_em_fc_java_impl, em_q3_java_impl, fc_q3_java_impl):\n",
        "  lista_temp_index_modified_lines = []\n",
        "  for items in df_em_fc_java_impl.modified_lines.items():\n",
        "    lista_temp_index_modified_lines.append((items[0], items[1]))\n",
        "\n",
        "  list_initial_critical_files_from_sp = []\n",
        "\n",
        "  plt.style.use('ggplot')\n",
        "  plt.figure(figsize=(12,8))\n",
        "  sns.scatterplot(data=df_em_fc_java_impl, x='modified_lines', y='frequency_commits')\n",
        "  abbr={'titulo':'Modificações de LoCs x Frequência de Commits', 'modified_lines':'Modificações de Locs', 'frequency_commits':'Frequência de Commits'}\n",
        "  plt.title(f\"Análise do Repositório Promocity : {abbr['modified_lines']} x {abbr['frequency_commits']}\")\n",
        "  plt.xlabel(abbr['modified_lines'])\n",
        "  plt.ylabel(abbr['frequency_commits'])\n",
        "\n",
        "  for i in lista_temp_index_modified_lines:\n",
        "    if df_em_fc_java_impl.modified_lines[i[0]] > em_q3_java_impl[0] and df_em_fc_java_impl.frequency_commits[i[0]] > fc_q3_java_impl[0]:\n",
        "        plt.text(df_em_fc_java_impl.modified_lines[i[0]], y=df_em_fc_java_impl.frequency_commits[i[0]], s=df_em_fc_java_impl.name[i[0]], alpha=0.8, fontsize=8)\n",
        "        list_initial_critical_files_from_sp.append( (df_em_fc_java_impl.name[i[0]], df_em_fc_java_impl.modified_lines[i[0]], df_em_fc_java_impl.frequency_commits[i[0]]) )\n",
        "\n",
        "  #Mean values\n",
        "  plt.axvline(x=em_q3_java_impl, color='k',linestyle='--', linewidth=1)\n",
        "  plt.axhline(y=fc_q3_java_impl, color='k', linestyle='--', linewidth=1)\n",
        "\n",
        "  #Quadrant Marker\n",
        "  plt.text(x=500, y=10, s=\"Q1\",alpha=0.8,fontsize=12, color='b')\n",
        "  plt.text(x=500, y=0, s=\"Q4\",alpha=0.8,fontsize=12, color='b')\n",
        "  plt.text(x=0, y=0, s=\"Q3\", alpha=0.8,fontsize=12, color='b')\n",
        "  plt.text(x=0, y=10, s=\"Q2\", alpha=0.8,fontsize=12, color='b')\n",
        "  plt.savefig('scatter_plot_foc_amloc_only_java_com_quadrantes.png')\n",
        "  plt.show()\n",
        "  return list_initial_critical_files_from_sp\n",
        "\n",
        "def gera_scatter_plot_final_foc_amloc_com_quadrantes(list_initial_critical_files_from_sp, df_em_fc_java_impl, em_q3_java_impl, fc_q3_java_impl):\n",
        "  for item in list_initial_critical_files_from_sp:\n",
        "    print(item)\n",
        "  # Pego da secao de analise de Architectural Smells\n",
        "  # selecao de classes criticas que pertencem ao Q1 (quadrante1) -> Modified LOC ALTA e Frequencia de Commits Alta\n",
        "  # my_temp_lista_arquivos_criticos = [('StoreController.java', 439, 11), ('UserController.java', 963, 22), ('UserLocationMonitoring.java', 316, 11), ('Users.java', 350, 11)]\n",
        "  my_temp_lista_arquivos_criticos = list_initial_critical_files_from_sp\n",
        "\n",
        "  my_temp_lista_arquivos_criticos_names = []\n",
        "  for i in range(0,  len(my_temp_lista_arquivos_criticos)):\n",
        "    my_temp_lista_arquivos_criticos_names.append(my_temp_lista_arquivos_criticos[i][0])\n",
        "\n",
        "  lista_temp_index_modified_lines = []\n",
        "  for items in df_em_fc_java_impl.modified_lines.items():\n",
        "    lista_temp_index_modified_lines.append((items[0], items[1]))\n",
        "\n",
        "  list_critical_files = []\n",
        "\n",
        "  plt.style.use('ggplot')\n",
        "  plt.figure(figsize=(12,8))\n",
        "  sns.scatterplot(data=df_em_fc_java_impl, x='modified_lines', y='frequency_commits')\n",
        "\n",
        "  abbr={'titulo':'LOCs Modifications x Files Occurrence in Commits', 'modified_lines':'LOCs Modifications', 'frequency_commits':'Files Occurrence in Commits'}\n",
        "\n",
        "  plt.title(f\"Analysis of Promocity Repository : {abbr['modified_lines']} x {abbr['frequency_commits']}\")\n",
        "  plt.xlabel(abbr['modified_lines'])\n",
        "  plt.ylabel(abbr['frequency_commits'])\n",
        "\n",
        "  for i in lista_temp_index_modified_lines:\n",
        "    if df_em_fc_java_impl.modified_lines[i[0]] > em_q3_java_impl and df_em_fc_java_impl.frequency_commits[i[0]] > fc_q3_java_impl:\n",
        "      if df_em_fc_java_impl.name[i[0]] in my_temp_lista_arquivos_criticos_names:\n",
        "        plt.text(df_em_fc_java_impl.modified_lines[i[0]], y=df_em_fc_java_impl.frequency_commits[i[0]], s=df_em_fc_java_impl.name[i[0]], alpha=0.8, fontsize=8)\n",
        "        list_critical_files.append( (df_em_fc_java_impl.name[i[0]], df_em_fc_java_impl.modified_lines[i[0]], df_em_fc_java_impl.frequency_commits[i[0]]) )\n",
        "\n",
        "  #Mean values\n",
        "  plt.axvline(x=em_q3_java_impl, color='k',linestyle='--', linewidth=1)\n",
        "  plt.axhline(y=fc_q3_java_impl, color='k', linestyle='--', linewidth=1)\n",
        "\n",
        "  #Quadrant Marker\n",
        "  plt.text(x=500, y=10, s=\"Q1\",alpha=0.8,fontsize=12, color='b')\n",
        "  plt.text(x=500, y=0, s=\"Q4\",alpha=0.8,fontsize=12, color='b')\n",
        "  plt.text(x=0, y=0, s=\"Q3\", alpha=0.8,fontsize=12, color='b')\n",
        "  plt.text(x=0, y=10, s=\"Q2\", alpha=0.8,fontsize=12, color='b')\n",
        "\n",
        "  plt.savefig('scatter_plot_mloc_foc_final_java_com_quadrantes.png')\n",
        "  plt.show()\n",
        "  return list_critical_files"
      ],
      "metadata": {
        "id": "DM6aAJMD_xP7"
      },
      "execution_count": 38,
      "outputs": []
    },
    {
      "cell_type": "code",
      "source": [
        "def gera_scatter_plot_final_foc_amloc_com_quadrantes(list_initial_critical_files_from_sp, df_em_fc_java_impl, em_q3_java_impl, fc_q3_java_impl):\n",
        "  for item in list_initial_critical_files_from_sp:\n",
        "    print(item)\n",
        "  # Pego da secao de analise de Architectural Smells\n",
        "  # selecao de classes criticas que pertencem ao Q1 (quadrante1) -> Modified LOC ALTA e Frequencia de Commits Alta\n",
        "  my_temp_lista_arquivos_criticos = list_initial_critical_files_from_sp\n",
        "\n",
        "  my_temp_lista_arquivos_criticos_names = []\n",
        "  for i in range(0,  len(my_temp_lista_arquivos_criticos)):\n",
        "    my_temp_lista_arquivos_criticos_names.append(my_temp_lista_arquivos_criticos[i][0])\n",
        "\n",
        "  lista_temp_index_modified_lines = []\n",
        "  for items in df_em_fc_java_impl.modified_lines.items():\n",
        "    lista_temp_index_modified_lines.append((items[0], items[1]))\n",
        "\n",
        "  list_critical_files = []\n",
        "\n",
        "  plt.style.use('ggplot')\n",
        "  plt.figure(figsize=(12,8))\n",
        "  sns.scatterplot(data=df_em_fc_java_impl, x='modified_lines', y='frequency_commits')\n",
        "\n",
        "  abbr={'titulo':'LOCs Modifications x Files Occurrence in Commits', 'modified_lines':'LOCs Modifications', 'frequency_commits':'Files Occurrence in Commits'}\n",
        "\n",
        "  plt.title(f\"Analysis of Promocity Repository : {abbr['modified_lines']} x {abbr['frequency_commits']}\")\n",
        "  plt.xlabel(abbr['modified_lines'])\n",
        "  plt.ylabel(abbr['frequency_commits'])\n",
        "\n",
        "  for i in lista_temp_index_modified_lines:\n",
        "    if df_em_fc_java_impl.modified_lines[i[0]] > em_q3_java_impl[0] and df_em_fc_java_impl.frequency_commits[i[0]] > fc_q3_java_impl[0]:\n",
        "      if df_em_fc_java_impl.name[i[0]] in my_temp_lista_arquivos_criticos_names:\n",
        "        plt.text(df_em_fc_java_impl.modified_lines[i[0]], y=df_em_fc_java_impl.frequency_commits[i[0]], s=df_em_fc_java_impl.name[i[0]], alpha=0.8, fontsize=8)\n",
        "        list_critical_files.append( (df_em_fc_java_impl.name[i[0]], df_em_fc_java_impl.modified_lines[i[0]], df_em_fc_java_impl.frequency_commits[i[0]]) )\n",
        "\n",
        "  #Mean values\n",
        "  plt.axvline(x=em_q3_java_impl, color='k',linestyle='--', linewidth=1)\n",
        "  plt.axhline(y=fc_q3_java_impl, color='k', linestyle='--', linewidth=1)\n",
        "\n",
        "  #Quadrant Marker\n",
        "  plt.text(x=500, y=10, s=\"Q1\",alpha=0.8,fontsize=12, color='b')\n",
        "  plt.text(x=500, y=0, s=\"Q4\",alpha=0.8,fontsize=12, color='b')\n",
        "  plt.text(x=0, y=0, s=\"Q3\", alpha=0.8,fontsize=12, color='b')\n",
        "  plt.text(x=0, y=10, s=\"Q2\", alpha=0.8,fontsize=12, color='b')\n",
        "\n",
        "  plt.savefig('scatter_plot_mloc_foc_final_java_com_quadrantes.png')\n",
        "  plt.show()\n",
        "  return list_critical_files"
      ],
      "metadata": {
        "id": "T7OfbIBAEtu-"
      },
      "execution_count": 45,
      "outputs": []
    },
    {
      "cell_type": "markdown",
      "source": [
        "### Testa as métricas de Frequência de Commits"
      ],
      "metadata": {
        "id": "U_a21Y2uBX8o"
      }
    },
    {
      "cell_type": "code",
      "source": [
        "df_fc, df_boxplot_fc = calcula_frequencia_commits(df_files_from_db)"
      ],
      "metadata": {
        "colab": {
          "base_uri": "https://localhost:8080/"
        },
        "id": "PFzw_sfoBVq7",
        "outputId": "64a39024-3e60-4949-fbe3-641c14dddfdd"
      },
      "execution_count": 26,
      "outputs": [
        {
          "output_type": "stream",
          "name": "stdout",
          "text": [
            "Quantidade de grupos: 676\n",
            "Grupos: {'$Cache.java': [3043], '$Gson$Preconditions.html': [3253, 3255, 3361, 3363, 4074, 4076, 4174, 4228, 4334, 4388], '$Gson$Preconditions.java': [3144, 4574, 6249, 7524], '$Gson$Types.html': [3254, 3256, 3362, 3364, 4075, 4077, 4175, 4229, 4335, 4389], '$Gson$Types.java': [3145, 3699, 3775, 3965, 4575, 5903, 5904, 5907, 5949, 6250, 6403, 6578, 6605, 6629, 6651, 6752, 6754, 6973, 7018, 7226, 7292, 7408, 7481, 7525, 7782, 8362], '$LruCache.java': [3044], '$Pair.java': [3045], '$Preconditions.java': [3046], '$Primitives.java': [3047], '$Types.java': [3048], '$UnsafeAllocator.java': [3049], '.gitattributes': [6746, 7492], '.gitignore': [6229, 6244, 6275, 6298, 6302, 6303, 6703, 6843], '.travis.yml': [6228, 6659, 6756, 6849, 7072], 'Adapt.java': [5936], 'AdaptAnnotationOnClassesTest.java': [5939], 'AdaptAnnotationOnFieldsTest.java': [5940], 'AdaptAnnotationTypeAdapterFactory.java': [5937], 'AndroidManifest.xml': [3552, 6684], 'AnonymousAndLocalClassExclusionStrategy.java': [701, 1407, 1958, 2769, 2812, 4620], 'ArrayTest.java': [200, 503, 854, 1048, 1194, 1208, 1251, 1343, 1941, 2230, 2804, 3410, 3420, 3423, 3428, 3676, 3787, 3937, 6819, 7378, 7469, 7552, 7823, 7948], 'ArrayTypeAdapter.html': [4184, 4204, 4344, 4364], 'ArrayTypeAdapter.java': [3525, 3567, 3579, 3615, 3628, 3635, 3809, 3884, 3953, 3966, 4532, 4576, 4698, 4725, 4792, 5623, 5636, 5675, 6313, 6579, 7362, 7468, 7527, 7543, 8102], 'BagOfPrimitives.java': [2806, 6809, 7789, 8182], 'BagOfPrimitivesDeserializationBenchmark.java': [2838, 7178], 'BaseMapTypeAdapter.java': [3104, 3113, 3439, 3497, 3656, 3715], 'BigDecimalTypeAdapter.html': [4185, 4205, 4345, 4365], 'BigDecimalTypeAdapter.java': [3642, 3684, 3744, 3945, 4533, 4726, 5144], 'BigIntegerTypeAdapter.html': [4186, 4206, 4346, 4366], 'BigIntegerTypeAdapter.java': [3643, 3685, 3745, 3946, 4534, 4727, 5145], 'CHANGELOG.md': [6260, 6261, 6284, 6285, 6379, 6382, 6388, 6425, 6437, 6468, 6469, 6538, 6553, 6558, 6569, 6592, 6616, 6617, 6640, 6697, 6720, 6744, 6840, 6845, 7013, 7044, 7115, 7279, 7463, 7747, 7753, 8335], 'Cache.java': [1670, 2751, 2961, 3061, 3915, 4630], 'CallPath.java': [221, 1602, 2046, 2239, 2299, 2327, 2365], 'CallPathMap.java': [222, 1603, 1688, 1702, 2366], 'CallPathProvider.java': [248, 261, 1629, 2232, 2241, 2419, 2465], 'CallPathProviderTest.java': [2233], 'CallPathTest.java': [2240, 2304, 2328, 2395], 'CamelCaseSeparatorNamingPolicy.java': [80, 1640, 1782, 2935, 3017, 3121, 4585], 'CamelCaseSeparatorNamingPolicyTest.java': [165, 1786, 2928, 4600], 'Cart.java': [1813, 1821, 2275, 2317, 2401, 2480, 3563], 'CircularReferenceException.java': [1346, 1641, 3888], 'CircularReferenceTest.java': [1349, 3714, 3852, 6107, 7299, 7379, 7824, 7949], 'ClassWithAdapter.java': [8307], 'ClassWithDefaultConstructor.java': [8308], 'ClassWithExposeAnnotation.java': [8309], 'ClassWithJsonAdapterAnnotation.java': [8310], 'ClassWithNamedFields.java': [8311], 'ClassWithSerializedName.java': [8312], 'ClassWithVersionAnnotations.java': [8313], 'CodeGen.java': [5509, 5574, 5582, 7325], 'CodeGenFunctionalTest.java': [5515, 5579, 5587, 5603, 7330], 'CollectionTest.java': [201, 398, 445, 593, 656, 955, 1049, 1228, 1252, 1275, 1307, 1321, 1345, 1929, 2850, 2900, 2933, 2979, 3004, 3700, 3788, 3812, 3978, 3985, 6359, 6652, 6820, 6974, 7300, 7380, 7553, 7825, 7950, 8151], 'CollectionTypeAdapter.java': [3513, 3519, 3526, 3568, 3580, 3616, 3625, 3629, 3636, 3660, 3697, 3746], 'CollectionTypeAdapterFactory.html': [4187, 4207, 4347, 4367], 'CollectionTypeAdapterFactory.java': [3747, 3954, 3967, 4535, 4699, 4728, 4793, 5128, 5134, 5624, 5637, 5676, 6314, 7363], 'CollectionsDeserializationBenchmark.java': [2839, 7179, 7405, 7600, 8183], 'CommentsTest.java': [1960, 7805, 7914, 8142], 'CompositionFieldNamingPolicy.java': [81, 1642, 4586], 'ConcurrencyTest.java': [401, 406, 421, 1229, 1253, 1276, 1308, 1322, 6688, 7301, 7826, 7951, 8233], 'ConnectionPreconditions.java': [2205, 2450], 'ConstructorConstructor.html': [4176, 4230, 4336, 4390], 'ConstructorConstructor.java': [3739, 3781, 3808, 3987, 4558, 4671, 5133, 5157, 5520, 5606, 5640, 5659, 5662, 5667, 5791, 6267, 6344, 6497, 6631, 6676, 7160, 7213, 7262, 7264, 7339, 7359, 7631, 7687, 8099, 8295], 'ConstructorConstructorTest.java': [7265, 7346, 8007, 8061], 'ContentBody.java': [223, 283, 1604, 1770, 2146, 2367], 'ContentBodySpec.java': [224, 284, 1605, 1749, 2131, 2147, 2368], 'CustomDeserializerTest.java': [602, 1230, 1254, 1277, 1399, 1458, 1486, 3704, 6327, 6772, 7827, 7952, 8152], 'CustomSerializerTest.java': [1440, 1474, 1476, 7302, 7828, 7953], 'CustomTypeAdaptersTest.java': [202, 276, 326, 396, 400, 424, 433, 480, 484, 485, 487, 504, 658, 1278, 1309, 1323, 1395, 1441, 1664, 2017, 2980, 3705, 4805, 5386, 5505, 6328, 7381, 7554, 7829, 7954, 8153], 'DateTypeAdapter.html': [4188, 4208, 4348, 4368], 'DateTypeAdapter.java': [3834, 3840, 3947, 4536, 4700, 4729, 4794, 6315, 6365, 6670, 6724, 7125, 7364, 8120], 'DefaultConstructorAllocator.java': [3010, 3018, 3062, 3080, 3117, 3771], 'DefaultConstructorAllocatorTest.java': [3014, 3081, 3118, 3759], 'DefaultConstructorMain.java': [8314], 'DefaultDateTypeAdapter.java': [4631, 6308, 6364, 6501, 6588, 6607, 6637, 6668, 6722, 6970, 6982, 6993, 7126, 7365, 7528, 7778, 8121], 'DefaultDateTypeAdapterTest.java': [166, 2842, 3087, 4636, 4763, 6367, 6412, 6609, 6638, 6672, 6727, 6815, 6835, 6972, 6989, 7155, 7610, 7797, 7880, 8015, 8177], 'DefaultInetAddressTypeAdapterTest.java': [2750, 6234, 7806, 7915], 'DefaultMapJsonSerializerTest.java': [167, 408, 1935, 2849, 2873, 2899, 3760, 7374, 7807, 7916], 'DefaultTypeAdapters.java': [82, 277, 322, 407, 434, 439, 448, 488, 584, 592, 623, 642, 649, 661, 664, 673, 689, 697, 700, 710, 739, 743, 748, 754, 836, 838, 855, 949, 954, 956, 1078, 1330, 1344, 1351, 1592, 1594, 1638, 1796, 1801, 1928, 1931, 2101, 2282, 2322, 2700, 2722, 2734, 2749, 2764, 2810, 2841, 2866, 2888, 2890, 2895, 2936, 3011, 3019, 3056, 3122, 3405, 3416, 3440, 3453, 3486, 3498, 3646, 3650, 3653, 3669, 3677, 3678, 3682, 3716, 3782, 3784, 3789, 3793, 3800, 3803, 3813, 3816, 3819, 3823, 3826, 3829, 3889, 4632], 'DefaultTypeAdaptersTest.java': [203, 299, 325, 402, 409, 481, 650, 695, 728, 738, 741, 742, 950, 1231, 1255, 1279, 1593, 1595, 1637, 1639, 1836, 1938, 2798, 2811, 2934, 2981, 3058, 3408, 3512, 3780, 3943, 3951, 4782, 5173, 5612, 5645, 5657, 6305, 6673, 6728, 6773, 6991, 7052, 7053, 7133, 7153, 7167, 7303, 7382, 7555, 7830, 7955, 8076, 8154, 8234, 8250, 8261, 8341, 8359], 'DelegateTypeAdapterTest.java': [5185, 5387, 5399, 6329, 7383, 7831, 7956, 8155], 'DelegatingJsonElementVisitor.java': [83, 609, 2911, 2937, 3020, 3123, 3295, 3717], 'DisjunctionExclusionStrategy.java': [84, 856, 1408, 2770, 2813, 2881, 2912, 2938, 3021, 3124, 4639], 'DisjunctionExclusionStrategyTest.java': [168, 862, 1421, 1675, 2787, 2829, 2929, 3154, 3925, 4615, 4645], 'EnumClass.java': [8315], 'EnumClassWithSerializedName.java': [8316], 'EnumTest.java': [835, 1050, 1959, 2018, 2284, 2507, 2768, 3085, 3798, 3799, 4766, 5660, 5668, 6330, 6682, 7168, 7263, 7315, 7384, 7832, 7957, 8156], 'EnumWithObfuscatedTest.java': [7022, 7028, 7032, 7833, 7958], 'Escaper.java': [85, 309, 680, 682, 694, 719, 1172, 1400, 1405, 1995, 2123, 3185, 3535], 'EscaperTest.java': [169, 683, 725, 1173, 1403, 1406, 3541], 'EscapingTest.java': [204, 1174, 1967, 1979, 2496, 7385, 7834, 7959, 8157], 'ExampleClient.java': [1820, 2176, 2220, 2398, 2452, 2477, 2490], 'ExcludedTypeAdapterFactory.html': [4189, 4209, 4349, 4369], 'ExcludedTypeAdapterFactory.java': [3748, 4537, 4577, 4655], 'Excluder.java': [4654, 4697, 4724, 4791, 4823, 5126, 5184, 6362, 6665, 7070, 7293, 7360, 7649, 7783], 'ExclusionStrategy.html': [1573, 1576, 1854, 1886, 2512, 2544, 2605, 2639, 3197, 3231, 3305, 3339, 4018, 4052, 4118, 4152, 4278, 4312, 4438, 4472, 4831, 4867, 4929, 4965, 5025, 5061, 5193, 5229, 5290, 5326, 5406, 5442, 5695, 5731, 5805, 5841, 5990, 6028, 6113, 6151, 6869, 6907], 'ExclusionStrategy.java': [86, 1409, 1444, 1449, 1460, 1471, 2771, 2814, 3110, 3178, 3194, 5954, 6764, 6854, 7583, 8113], 'ExclusionStrategy2.java': [2772, 2815], 'ExclusionStrategy2Adapter.java': [2773], 'ExclusionStrategy2AdapterTest.java': [2788, 2830], 'ExclusionStrategyFunctionalTest.java': [1489, 2799, 2837, 2851, 2876, 3102, 3180, 3768, 5119, 6331, 7835, 7960], ...}\n",
            "name\n",
            "$Cache.java                  1\n",
            "$Gson$Preconditions.html    10\n",
            "$Gson$Preconditions.java     4\n",
            "$Gson$Types.html            10\n",
            "$Gson$Types.java            26\n",
            "                            ..\n",
            "serialized-form.html        28\n",
            "settings.gradle              2\n",
            "strings.xml                  1\n",
            "stylesheet.css              20\n",
            "testcases-proguard.conf      4\n",
            "Length: 676, dtype: int64\n",
            "\n",
            "676, {'$Cache.java': 1, '$Gson$Preconditions.html': 10, '$Gson$Preconditions.java': 4, '$Gson$Types.html': 10, '$Gson$Types.java': 26, '$LruCache.java': 1, '$Pair.java': 1, '$Preconditions.java': 1, '$Primitives.java': 1, '$Types.java': 1, '$UnsafeAllocator.java': 1, '.gitattributes': 2, '.gitignore': 8, '.travis.yml': 5, 'Adapt.java': 1, 'AdaptAnnotationOnClassesTest.java': 1, 'AdaptAnnotationOnFieldsTest.java': 1, 'AdaptAnnotationTypeAdapterFactory.java': 1, 'AndroidManifest.xml': 2, 'AnonymousAndLocalClassExclusionStrategy.java': 6, 'ArrayTest.java': 24, 'ArrayTypeAdapter.html': 4, 'ArrayTypeAdapter.java': 25, 'BagOfPrimitives.java': 4, 'BagOfPrimitivesDeserializationBenchmark.java': 2, 'BaseMapTypeAdapter.java': 6, 'BigDecimalTypeAdapter.html': 4, 'BigDecimalTypeAdapter.java': 7, 'BigIntegerTypeAdapter.html': 4, 'BigIntegerTypeAdapter.java': 7, 'CHANGELOG.md': 32, 'Cache.java': 6, 'CallPath.java': 7, 'CallPathMap.java': 5, 'CallPathProvider.java': 7, 'CallPathProviderTest.java': 1, 'CallPathTest.java': 4, 'CamelCaseSeparatorNamingPolicy.java': 7, 'CamelCaseSeparatorNamingPolicyTest.java': 4, 'Cart.java': 7, 'CircularReferenceException.java': 3, 'CircularReferenceTest.java': 8, 'ClassWithAdapter.java': 1, 'ClassWithDefaultConstructor.java': 1, 'ClassWithExposeAnnotation.java': 1, 'ClassWithJsonAdapterAnnotation.java': 1, 'ClassWithNamedFields.java': 1, 'ClassWithSerializedName.java': 1, 'ClassWithVersionAnnotations.java': 1, 'CodeGen.java': 4, 'CodeGenFunctionalTest.java': 5, 'CollectionTest.java': 34, 'CollectionTypeAdapter.java': 12, 'CollectionTypeAdapterFactory.html': 4, 'CollectionTypeAdapterFactory.java': 14, 'CollectionsDeserializationBenchmark.java': 5, 'CommentsTest.java': 4, 'CompositionFieldNamingPolicy.java': 3, 'ConcurrencyTest.java': 13, 'ConnectionPreconditions.java': 2, 'ConstructorConstructor.html': 4, 'ConstructorConstructor.java': 30, 'ConstructorConstructorTest.java': 4, 'ContentBody.java': 6, 'ContentBodySpec.java': 7, 'CustomDeserializerTest.java': 13, 'CustomSerializerTest.java': 6, 'CustomTypeAdaptersTest.java': 31, 'DateTypeAdapter.html': 4, 'DateTypeAdapter.java': 14, 'DefaultConstructorAllocator.java': 6, 'DefaultConstructorAllocatorTest.java': 4, 'DefaultConstructorMain.java': 1, 'DefaultDateTypeAdapter.java': 17, 'DefaultDateTypeAdapterTest.java': 21, 'DefaultInetAddressTypeAdapterTest.java': 4, 'DefaultMapJsonSerializerTest.java': 10, 'DefaultTypeAdapters.java': 88, 'DefaultTypeAdaptersTest.java': 59, 'DelegateTypeAdapterTest.java': 8, 'DelegatingJsonElementVisitor.java': 8, 'DisjunctionExclusionStrategy.java': 11, 'DisjunctionExclusionStrategyTest.java': 11, 'EnumClass.java': 1, 'EnumClassWithSerializedName.java': 1, 'EnumTest.java': 22, 'EnumWithObfuscatedTest.java': 5, 'Escaper.java': 13, 'EscaperTest.java': 7, 'EscapingTest.java': 9, 'ExampleClient.java': 7, 'ExcludedTypeAdapterFactory.html': 4, 'ExcludedTypeAdapterFactory.java': 4, 'Excluder.java': 14, 'ExclusionStrategy.html': 42, 'ExclusionStrategy.java': 16, 'ExclusionStrategy2.java': 2, 'ExclusionStrategy2Adapter.java': 1, 'ExclusionStrategy2AdapterTest.java': 2, 'ExclusionStrategyFunctionalTest.java': 12, 'Expose.html': 56, 'Expose.java': 7, 'ExposeAnnotationBasedExclusionStrategy.java': 2, 'ExposeAnnotationBasedExclusionStrategyTest.java': 7, 'ExposeAnnotationDeserializationExclusionStrategy.java': 5, 'ExposeAnnotationDeserializationExclusionStrategyTest.java': 4, 'ExposeAnnotationExclusionStrategy.java': 1, 'ExposeAnnotationExclusionStrategyTest.java': 10, 'ExposeAnnotationSerializationExclusionStrategy.java': 5, 'ExposeAnnotationSerializationExclusionStrategyTest.java': 4, 'ExposeFieldsTest.java': 13, 'FieldAttributes.html': 42, 'FieldAttributes.java': 37, 'FieldAttributesTest.java': 12, 'FieldExclusionTest.java': 6, 'FieldNamingPolicy.html': 56, 'FieldNamingPolicy.java': 19, 'FieldNamingPolicyTest.java': 5, 'FieldNamingStrategy.html': 46, 'FieldNamingStrategy.java': 8, 'FieldNamingStrategy2.java': 7, 'FieldNamingStrategy2Adapter.java': 12, 'FieldNamingStrategy2AdapterTest.java': 6, 'FieldNamingTest.java': 6, 'FieldTypeAdapterFactory.java': 2, 'FormattingStyle.java': 3, 'FormattingStyleTest.java': 3, 'FunctionWithInternalDependenciesTest.java': 20, 'FunctionalTest.java': 2, 'FunctionalWithInternalDependenciesTest.java': 3, 'GSON 2.0 NOTES.txt': 13, 'GeneratedTypeAdapter.java': 4, 'GeneratedTypeAdapterProcessor.java': 5, 'GenericArrayTypeImpl.java': 3, 'GenericArrayTypeImplTest.java': 1, 'GenericArrayTypeTest.java': 6, 'GenericClasses.java': 1, 'GraphAdapterBuilder.java': 11, 'GraphAdapterBuilderTest.java': 7, 'GraphTypeAdapterFactory.java': 5, 'GraphTypeAdapterFactoryTest.java': 2, 'Gson 2.1 notes.txt': 2, 'Gson.html': 56, 'Gson.java': 225, 'GsonBenchmark.java': 1, 'GsonBuildConfig.java': 2, 'GsonBuildConfigTest.java': 2, 'GsonBuilder.html': 56, 'GsonBuilder.java': 127, 'GsonBuilderTest.java': 11, 'GsonCompatibleMapTypeAdapter.java': 4, 'GsonDesignDocument.md': 2, 'GsonExclusionStrategy.java': 2, 'GsonFieldTypeAdapterTest.java': 2, 'GsonInternalAccess.java': 2, 'GsonProguardExampleActivity.java': 3, 'GsonTest.java': 14, 'GsonToMiniGsonTypeAdapter.java': 6, 'GsonToMiniGsonTypeAdapterFactory.java': 7, 'GsonTypeAdapterTest.java': 8, 'GsonTypesTest.java': 7, 'GsonVersionDiagnosticsTest.java': 8, 'HasId.java': 5, 'HeaderMap.java': 9, 'HeaderMapSpec.java': 8, 'HttpMethod.java': 5, 'ID.java': 3, 'IDFactory.java': 3, 'ISO8601Utils.java': 7, 'ISO8601UtilsTest.java': 8, 'Id.java': 7, 'IdMap.java': 8, 'IdTest.java': 5, 'IdTypeAdapter.java': 2, 'IdTypeAdapterTest.java': 7, 'InheritanceTest.java': 12, 'InnerClassExclusionStrategy.java': 8, 'InnerClassExclusionStrategyTest.java': 14, 'InstanceCreator.html': 56, 'InstanceCreator.java': 2, 'InstanceCreatorTest.java': 14, 'Intercept.java': 3, 'InterceptorFactory.java': 5, 'InterceptorTest.java': 7, 'InterfaceTest.java': 4, 'InternationalizationTest.java': 6, 'Java17RecordTest.java': 6, 'Java17ReflectionHelperTest.java': 3, 'Java17ReflectiveTypeAdapterFactoryTest.java': 3, 'JavaFieldNamingPolicy.java': 5, 'JavaFieldNamingPolicyTest.java': 7, 'JavaSerializationTest.java': 4, 'JavaUtilConcurrentAtomicTest.java': 3, 'JavaUtilConcurrentLocksTest.java': 3, 'JavaUtilTest.java': 4, 'JavaVersion.java': 4, 'JavaVersionTest.java': 4, 'JavaWriter.java': 4, 'JsonAdapter.html': 6, 'JsonAdapter.java': 14, 'JsonAdapterAnnotationOnClassesTest.java': 14, 'JsonAdapterAnnotationOnFieldsTest.java': 14, 'JsonAdapterAnnotationTest.java': 1, 'JsonAdapterAnnotationTypeAdapterFactory.java': 18, 'JsonAdapterNullSafeTest.java': 9, 'JsonAdapterSerializerDeserializerTest.java': 7, 'JsonArray.html': 56, 'JsonArray.java': 42, 'JsonArrayAsListTest.java': 5, 'JsonArrayDeserializationVisitor.java': 19, 'JsonArrayTest.java': 28, 'JsonCompactFormatter.java': 7, 'JsonDeserializationContext.html': 56, 'JsonDeserializationContext.java': 12, 'JsonDeserializationContextDefault.java': 13, 'JsonDeserializationVisitor.java': 32, 'JsonDeserializer.html': 56, 'JsonDeserializer.java': 9, 'JsonDeserializerExceptionWrapper.java': 10, 'JsonDeserializerExceptionWrapperTest.java': 3, 'JsonElement.html': 56, 'JsonElement.java': 29, 'JsonElementReader.html': 4, 'JsonElementReader.java': 8, 'JsonElementReaderTest.java': 13, 'JsonElementVisitor.java': 3, 'JsonElementWriter.html': 4, 'JsonElementWriter.java': 6, 'JsonElementWriterTest.java': 7, 'JsonEscapingVisitor.java': 5, 'JsonEscapingVisitorTest.java': 3, 'JsonFieldNameValidator.java': 9, 'JsonFieldNameValidatorTest.java': 5, 'JsonFormatter.java': 3, 'JsonIOException.html': 36, 'JsonIOException.java': 3, 'JsonNull.html': 56, 'JsonNull.java': 26, 'JsonNullTest.java': 9, 'JsonObject.html': 56, 'JsonObject.java': 54, 'JsonObjectAsMapTest.java': 4, 'JsonObjectDeserializationVisitor.java': 24, 'JsonObjectTest.java': 28, 'JsonParseException.html': 56, 'JsonParseException.java': 4, 'JsonParser.html': 48, 'JsonParser.java': 35, 'JsonParser.jj': 24, 'JsonParserAsync.java': 2, 'JsonParserAsyncTest.java': 3, 'JsonParserConstants.java': 7, 'JsonParserImpl.java': 3, 'JsonParserImplConstants.java': 4, 'JsonParserImplTokenManager.java': 4, 'JsonParserJavacc.java': 5, 'JsonParserJavaccConstants.java': 4, 'JsonParserJavaccTokenManager.java': 6, 'JsonParserParameterizedTest.java': 3, 'JsonParserTest.java': 31, 'JsonParserTokenManager.java': 7, 'JsonPostDeserializer.java': 2, 'JsonPrimitive.html': 56, 'JsonPrimitive.java': 48, 'JsonPrimitiveDeserializationVisitor.java': 6, 'JsonPrimitiveTest.java': 18, 'JsonPrintFormatter.java': 13, 'JsonReader.html': 36, 'JsonReader.java': 83, 'JsonReader2.java': 2, 'JsonReaderInternalAccess.java': 1, 'JsonReaderPathTest.java': 10, 'JsonReaderTest.java': 48, 'JsonReaderV2.java': 2, 'JsonScope.java': 4, 'JsonSerializationContext.html': 56, 'JsonSerializationContext.java': 9, 'JsonSerializationContextDefault.java': 15, 'JsonSerializationVisitor.java': 56, 'JsonSerializer.html': 56, 'JsonSerializer.java': 7, 'JsonSerializerExceptionWrapper.java': 3, 'JsonSerializerExceptionWrapperTest.java': 2, 'JsonStreamParser.html': 42, 'JsonStreamParser.java': 17, 'JsonStreamParserTest.java': 8, 'JsonSyntaxException.html': 36, 'JsonSyntaxException.java': 5, 'JsonToken.html': 36, 'JsonToken.java': 3, 'JsonTreeNavigator.java': 9, 'JsonTreeReader.java': 18, 'JsonTreeReaderTest.java': 8, 'JsonTreeTest.java': 11, 'JsonTreeWriter.java': 9, 'JsonTreeWriterTest.java': 10, 'JsonWriter.html': 36, 'JsonWriter.java': 36, 'JsonWriterTest.java': 17, 'LICENSE': 5, 'LazilyParsedNumber.html': 4, 'LazilyParsedNumber.java': 13, 'LazilyParsedNumberTest.java': 5, 'LeniencyTest.java': 3, 'LineItem.java': 5, 'LinkedHashTreeMap.java': 11, 'LinkedHashTreeMapTest.java': 11, 'LinkedTreeMap.java': 20, 'LinkedTreeMapTest.java': 20, 'LongSerializationPolicy.html': 50, 'LongSerializationPolicy.java': 5, 'LongSerializationPolicyTest.java': 5, 'LowerCamelCaseSeparatorNamingPolicy.java': 4, 'LowerCamelCaseSeparatorNamingPolicyTest.java': 3, 'LowerCaseNamingPolicy.java': 5, 'LowerCaseNamingPolicyTest.java': 2, 'LruCache.java': 9, 'LruCacheTest.java': 7, 'Main.java': 1, 'MainServlet.java': 8, 'MalformedJsonException.html': 36, 'MalformedJsonException.java': 6, 'MapAsArrayTypeAdapter.java': 5, 'MapAsArrayTypeAdapterTest.java': 11, 'MapTest.java': 56, 'MapTypeAdapter.java': 9, 'MapTypeAdapterFactory.html': 4, 'MapTypeAdapterFactory.java': 26, 'MappedObjectConstructor.java': 24, 'MappedObjectConstructorTest.java': 5, 'MemoryRefStack.java': 10, 'MemoryRefStackTest.java': 7, 'MetaData.java': 9, 'MetaDataMap.java': 6, 'MiniGson.Builder.html': 4, 'MiniGson.html': 4, 'MiniGson.java': 16, 'MiniGsonTest.java': 6, 'MixedStreamTest.java': 10, 'MockExclusionStrategy.java': 5, 'MockExclusionStrategy2.java': 2, 'Mode.java': 2, 'ModifierBasedExclusionStrategy.java': 5, 'ModifyFirstLetterNamingPolicy.java': 13, 'ModifyFirstLetterNamingPolicyTest.java': 3, 'MoreAsserts.java': 5, 'MoreSpecificTypeSerializationTest.java': 7, 'NamingPolicyTest.java': 27, 'NonNullElementWrapperList.java': 3, 'NonUploadingCaliperRunner.java': 2, 'NullExclusionStrategy.java': 6, 'NullExclusionStrategyTest.java': 8, 'NullObjectAndFieldTest.java': 24, 'NumberTypeAdapter.java': 2, 'OSGiTest.java': 5, 'ObjectConstructor.html': 4, 'ObjectConstructor.java': 2, 'ObjectNavigator.java': 39, 'ObjectNavigatorFactory.java': 12, 'ObjectTest.java': 50, 'ObjectTypeAdapter.html': 4, 'ObjectTypeAdapter.java': 20, 'ObjectTypeAdapterParameterizedTest.java': 3, 'ObjectTypeAdapterTest.java': 13, 'ObjectTypePair.java': 14, 'Order.java': 11, 'OrderClient.java': 7, 'OverrideCoreTypeAdaptersTest.java': 5, 'Pair.html': 4, 'Pair.java': 10, 'ParamMap.java': 10, 'ParamMapSpec.java': 5, 'ParameterizedTypeFixtures.java': 4, 'ParameterizedTypeHandlerMap.html': 4, 'ParameterizedTypeHandlerMap.java': 26, 'ParameterizedTypeHandlerMapTest.java': 9, 'ParameterizedTypeImpl.java': 3, 'ParameterizedTypeImplTest.java': 1, 'ParameterizedTypeTest.java': 7, 'ParameterizedTypesTest.java': 22, 'ParamterizedTypeFixtures.java': 13, 'ParseBenchmark.java': 9, 'ParseBenchmarkData.zip': 2, 'ParseException.java': 3, 'PerformanceTest.java': 20, 'PostConstructAdapterFactory.java': 3, 'PostConstructAdapterFactoryTest.java': 7, 'PreJava9DateFormatProvider.java': 1, 'PreJava9ReflectionAccessor.java': 3, 'Preconditions.java': 15, 'PrettyPrintingTest.java': 13, 'PrimitiveCharacterTest.java': 3, 'PrimitiveTest.java': 44, 'PrimitiveTypeAdapter.java': 8, 'PrimitiveTypeAdapterTest.java': 2, 'Primitives.html': 4, 'Primitives.java': 11, 'PrintFormattingTest.java': 9, 'ProcedureDispatcher.java': 5, 'ProtoTypeAdapter.java': 19, 'ProtosWithAnnotationsTest.java': 5, 'ProtosWithComplexAndRepeatedFieldsTest.java': 5, 'ProtosWithPrimitiveTypesTest.java': 6, 'QueryOrdersByItemName.java': 2, 'Queryable.java': 2, 'QueueConsumer.java': 4, 'QueueEntry.java': 4, 'README': 4, 'README.md': 61, 'RawCollectionsExample.java': 4, 'RawSerializationTest.java': 6, 'ReadersWritersTest.java': 12, 'RecursiveFieldNamingPolicy.java': 4, 'RecursiveTypesResolveTest.java': 9, 'ReflectingFieldNavigator.java': 15, 'Reflection.java': 7, 'ReflectionAccessFilter.java': 3, 'ReflectionAccessFilterHelper.java': 3, 'ReflectionAccessFilterTest.java': 6, 'ReflectionAccessTest.java': 11, 'ReflectionAccessor.java': 3, 'ReflectionHelper.java': 8, 'ReflectionHelperTest.java': 2, 'ReflectiveTypeAdapter.java': 20, 'ReflectiveTypeAdapterFactory.Adapter.html': 4, 'ReflectiveTypeAdapterFactory.html': 4, 'ReflectiveTypeAdapterFactory.java': 48, 'ReflectiveTypeAdapterFactoryTest.java': 2, 'ReleaseProcess.md': 18, 'Repository.java': 5, 'RepositoryInMemory.java': 7, 'RequestBody.java': 9, 'RequestBodyGsonConverter.java': 6, 'RequestBodySpec.java': 6, 'RequestBodySpecProvider.java': 7, 'RequestReceiver.java': 8, 'RequestSender.java': 11, 'RequestSpec.java': 5, 'RequestSpecProvider.java': 7, 'ResourceDepot.java': 2, 'ResourceDepotClient.java': 5, 'ResourceMap.java': 7, 'ResourceQuery.java': 2, 'ResourceQueryClient.java': 4, 'ResponseBody.java': 9, 'ResponseBodyGsonConverter.java': 7, 'ResponseBodySpec.java': 6, 'ResponseBuilder.java': 5, 'ResponseBuilderMap.java': 4, 'ResponseCallback.java': 4, 'ResponseReceiver.java': 12, 'ResponseSender.java': 8, 'ResponseSpec.java': 5, 'RestCall.java': 5, 'RestCallSpec.java': 8, 'RestClient.java': 9, 'RestClientStub.java': 5, 'RestDispatcher.java': 6, 'RestRequest.java': 8, 'RestRequestReceiver.java': 7, 'RestRequestSender.java': 8, 'RestRequestSpec.java': 4, 'RestResource.java': 5, 'RestResponse.java': 5, 'RestResponseBuilder.java': 7, 'RestResponseReceiver.java': 6, 'RestResponseSender.java': 6, 'RestResponseSpec.java': 4, 'RestServerConfig.java': 1, 'ReusedTypeVariablesFullyResolveTest.java': 4, 'RuntimeTypeAdapter.java': 4, 'RuntimeTypeAdapterFactory.java': 25, 'RuntimeTypeAdapterFactoryFunctionalTest.java': 8, 'RuntimeTypeAdapterFactoryTest.java': 6, 'RuntimeTypeAdapterTest.java': 4, 'SampleJsonService.java': 5, 'SecurityTest.java': 4, 'SerializationBenchmark.java': 2, 'SerializationDelegatingTypeAdapter.java': 2, 'SerializedName.html': 56, 'SerializedName.java': 9, 'SerializedNameAnnotationInterceptingNamingPolicy.java': 9, 'SerializedNameAnnotationInterceptingNamingPolicyTest.java': 11, 'SerializedNameTest.java': 4, 'ServerConfig.java': 2, 'ServicePaths.java': 3, 'ShrinkingIT.java': 2, 'SimpleCharStream.java': 3, 'Since.html': 56, 'Since.java': 6, 'SingleThreadExecutor.java': 3, 'SqlDateTypeAdapter.html': 4, 'SqlDateTypeAdapter.java': 10, 'SqlTimeTypeAdapter.java': 3, 'SqlTimestampTypeAdapter.java': 3, 'SqlTypesGsonTest.java': 4, 'SqlTypesSupport.java': 3, 'SqlTypesSupportTest.java': 4, 'StreamingTypeAdaptersTest.java': 16, 'Streams.html': 4, 'Streams.java': 30, 'StreamsTest.java': 3, 'StringMap.java': 9, 'StringMapTest.java': 2, 'StringPool.java': 3, 'StringTest.java': 11, 'StringToValueMapTypeAdapter.java': 5, 'StringToValueMapTypeAdapterFactory.html': 4, 'StringToValueMapTypeAdapterFactory.java': 5, 'StringUnmarshaller.java': 3, 'StringUnmarshallerTest.java': 2, 'SyntheticFieldExclusionStrategy.java': 6, 'SystemOnlyTypeAdaptersTest.java': 2, 'TaskExecutor.java': 3, 'TestCharacters.java': 2, 'TestExecutor.java': 1, 'TestTypes.java': 14, 'ThreadPerTaskExecutor.java': 3, 'ThrowableFunctionalTest.java': 3, 'TimeTypeAdapter.html': 4, 'TimeTypeAdapter.java': 7, 'ToNumberPolicy.java': 4, 'ToNumberPolicyFunctionalTest.java': 5, 'ToNumberPolicyTest.java': 6, 'ToNumberStrategy.java': 3, 'Token.java': 3, 'TokenMgrError.java': 3, 'TreeTypeAdapter.java': 23, 'TreeTypeAdaptersTest.java': 9, 'Troubleshooting.md': 6, 'TroubleshootingGuide.java': 2, 'TypeAdapter.Factory.html': 4, 'TypeAdapter.html': 26, 'TypeAdapter.java': 37, 'TypeAdapterFactory.html': 22, 'TypeAdapterFactory.java': 5, 'TypeAdapterNotRequired.java': 2, 'TypeAdapterPrecedenceTest.java': 10, 'TypeAdapterRuntimeTypeWrapper.java': 11, 'TypeAdapterRuntimeTypeWrapperTest.java': 3, 'TypeAdapterTest.java': 4, 'TypeAdapters.html': 4, 'TypeAdapters.java': 78, 'TypeHierarchyAdapterTest.java': 9, 'TypeInfo.java': 3, 'TypeInfoArray.java': 4, 'TypeInfoArrayTest.java': 3, 'TypeInfoCollection.java': 2, 'TypeInfoFactory.java': 8, 'TypeInfoFactoryTest.java': 7, 'TypeInfoMap.java': 6, 'TypeInfoMapTest.java': 2, 'TypeInfoTest.java': 3, 'TypeMap.java': 2, 'TypeMapTest.java': 2, 'TypeToken.html': 56, 'TypeToken.java': 24, 'TypeTokenTest.java': 16, 'TypeUtils.java': 10, 'TypeUtilsTest.java': 2, 'TypeVariableTest.java': 12, 'TypedKey.java': 5, 'TypedKeyTest.java': 2, 'TypedKeys.java': 4, 'TypedKeysQuery.java': 2, 'Types.java': 7, 'UncategorizedTest.java': 6, 'UnsafeAllocator.html': 4, 'UnsafeAllocator.java': 13, 'UnsafeAllocatorInstantiationTest.java': 7, 'UnsafeReflectionAccessor.java': 4, 'UnsafeReflectionAccessorTest.java': 3, 'Until.html': 50, 'Until.java': 7, 'UpperCamelCaseSeparatorNamingPolicy.java': 4, 'UpperCamelCaseSeparatorNamingPolicyTest.java': 2, 'UpperCaseNamingPolicy.java': 5, 'UpperCaseNamingPolicyTest.java': 2, 'UserGuide.md': 48, 'UtcDateTypeAdapter.java': 7, 'UtcDateTypeAdapterTest.java': 9, 'Util.java': 3, 'ValueBasedId.java': 2, 'VersionConstants.java': 2, 'VersionExclusionStrategy.java': 11, 'VersionExclusionStrategyTest.java': 19, 'VersionUtils.java': 2, 'VersioningTest.java': 10, 'WebServiceAppException.java': 3, 'WebServiceCall.java': 4, 'WebServiceCallProvider.java': 2, 'WebServiceCallServerBuilder.java': 6, 'WebServiceCallServerProvider.java': 6, 'WebServiceCallSpec.java': 10, 'WebServiceCallSpecProvider.java': 7, 'WebServiceClient.java': 11, 'WebServiceClientAsync.java': 6, 'WebServiceConfig.java': 3, 'WebServiceRequest.java': 5, 'WebServiceResponse.java': 7, 'WebServiceSpec.java': 4, 'WebServiceSystemException.java': 5, 'allclasses-frame.html': 28, 'allclasses-noframe.html': 28, 'annotations.proto': 4, 'assembly-descriptor.xml': 5, 'bag.proto': 7, 'bnd.bnd': 4, 'bug_report.md': 2, 'build.gradle': 6, 'build.yml': 7, 'check-android-compatibility.yml': 1, 'check-api-compatibility.yml': 3, 'cifuzz.yml': 1, 'codeql-analysis.yml': 6, 'config.yml': 1, 'constant-values.html': 28, 'default.properties': 1, 'dependabot.yml': 1, 'deprecated-list.html': 28, 'feature_request.md': 2, 'gradle-wrapper-validation.yml': 2, 'gradle-wrapper.jar': 2, 'gradle-wrapper.properties': 2, 'gradlew': 2, 'gradlew.bat': 2, 'gson-cleanup-styles.xml': 2, 'gson-formatting-styles.xml': 2, 'gson.pro': 2, 'help-doc.html': 28, 'icon.png': 1, 'index-1.html': 4, 'index-10.html': 4, 'index-11.html': 4, 'index-12.html': 4, 'index-13.html': 4, 'index-14.html': 3, 'index-15.html': 3, 'index-16.html': 2, 'index-17.html': 2, 'index-2.html': 4, 'index-3.html': 4, 'index-4.html': 4, 'index-5.html': 4, 'index-6.html': 4, 'index-7.html': 4, 'index-8.html': 4, 'index-9.html': 4, 'index-all.html': 27, 'index.html': 28, 'inherit.gif': 10, 'javadoc-descriptor.xml': 2, 'javax.annotation.processing.Processor': 4, 'jvm.config': 1, 'main.xml': 1, 'module-info.java': 9, 'overview-frame.html': 28, 'overview-summary.html': 28, 'overview-tree.html': 28, 'package-frame.html': 109, 'package-info.java': 13, 'package-list': 11, 'package-summary.html': 109, 'package-tree.html': 109, 'package-use.html': 109, 'pom.xml': 532, 'proguard.cfg': 12, 'proguard.pro': 1, 'pull_request_template.md': 1, 'r8.pro': 2, 'script.js': 2, 'serialized-form.html': 28, 'settings.gradle': 2, 'strings.xml': 1, 'stylesheet.css': 20, 'testcases-proguard.conf': 4}\n"
          ]
        }
      ]
    },
    {
      "cell_type": "code",
      "source": [
        "gera_boxplot_frequencia_commits(df_boxplot_fc)"
      ],
      "metadata": {
        "colab": {
          "base_uri": "https://localhost:8080/",
          "height": 759
        },
        "id": "EdXQ7reNBWvF",
        "outputId": "35b08ab5-be11-4f17-9ce2-e884752980b6"
      },
      "execution_count": 27,
      "outputs": [
        {
          "output_type": "display_data",
          "data": {
            "text/plain": [
              "<Figure size 600x400 with 1 Axes>"
            ],
            "image/png": "[encoded data removed]"
          },
          "metadata": {}
        },
        {
          "output_type": "display_data",
          "data": {
            "text/plain": [
              "<Figure size 600x400 with 1 Axes>"
            ],
            "image/png": "[encoded data removed]"
          },
          "metadata": {}
        }
      ]
    },
    {
      "cell_type": "code",
      "source": [
        "fc_q1,fc_q2, fc_q3, fc_q4 = calcula_quartiles_frequencia_commits(df_boxplot_fc)"
      ],
      "metadata": {
        "colab": {
          "base_uri": "https://localhost:8080/"
        },
        "id": "fUL_-l58Br77",
        "outputId": "cb660871-2a83-4427-c9b3-68e42ca2402f"
      },
      "execution_count": 28,
      "outputs": [
        {
          "output_type": "stream",
          "name": "stdout",
          "text": [
            "Quartis da Frequencia de Commits Q1: [3.], Q2: [5.5], Q3: [11.], Q4: [532.]\n"
          ]
        }
      ]
    },
    {
      "cell_type": "code",
      "source": [
        "df_fc_java_impl, df_boxplot_fc_java_impl, df_boxplot_fc_java_impl2 = gera_boxplot_frequencia_commits_only_java(df_fc)"
      ],
      "metadata": {
        "colab": {
          "base_uri": "https://localhost:8080/",
          "height": 1000
        },
        "id": "KYwNlhGyBsQq",
        "outputId": "8d466f31-da86-4d7a-c158-286a8fc12c47"
      },
      "execution_count": 29,
      "outputs": [
        {
          "output_type": "display_data",
          "data": {
            "text/plain": [
              "<Figure size 600x400 with 1 Axes>"
            ],
            "image/png": "[encoded data removed]"
          },
          "metadata": {}
        },
        {
          "output_type": "display_data",
          "data": {
            "text/plain": [
              "<Figure size 600x400 with 1 Axes>"
            ],
            "image/png": "[encoded data removed]"
          },
          "metadata": {}
        },
        {
          "output_type": "display_data",
          "data": {
            "text/plain": [
              "<Figure size 600x400 with 1 Axes>"
            ],
            "image/png": "[encoded data removed]"
          },
          "metadata": {}
        }
      ]
    },
    {
      "cell_type": "code",
      "source": [
        "fc_q1_java_impl, fc_q2_java_impl, fc_q3_java_impl, fc_q4_java_impl = calcula_quartiles_frequencia_commmits_no_outliers_less_3(df_boxplot_fc_java_impl2)"
      ],
      "metadata": {
        "colab": {
          "base_uri": "https://localhost:8080/"
        },
        "id": "DDbeuKIZBxFV",
        "outputId": "c5e1f224-9864-4aa0-ad6b-c7bbd2e3a1a4"
      },
      "execution_count": 30,
      "outputs": [
        {
          "output_type": "stream",
          "name": "stdout",
          "text": [
            "Quartis da Frequencia de Commits Q1: [4.], Q2: [7.], Q3: [11.], Q4: [225.]\n"
          ]
        }
      ]
    },
    {
      "cell_type": "code",
      "source": [
        "df_em_fc = gera_df_foc_amloc(df_accumulated_modified_locs, df_fc)"
      ],
      "metadata": {
        "id": "diQgma8BB983"
      },
      "execution_count": 32,
      "outputs": []
    },
    {
      "cell_type": "code",
      "source": [
        "df_em_fc"
      ],
      "metadata": {
        "colab": {
          "base_uri": "https://localhost:8080/",
          "height": 424
        },
        "id": "ICy3kaliCEMO",
        "outputId": "fde67a21-b022-41b8-812a-4d6c4224a4fd"
      },
      "execution_count": 33,
      "outputs": [
        {
          "output_type": "execute_result",
          "data": {
            "text/plain": [
              "                         name  modified_lines  frequency_commits\n",
              "0                 $Cache.java               8                  1\n",
              "1    $Gson$Preconditions.html            1858                 10\n",
              "2    $Gson$Preconditions.java              20                  4\n",
              "3            $Gson$Types.html            2762                 10\n",
              "4            $Gson$Types.java             376                 26\n",
              "..                        ...             ...                ...\n",
              "671      serialized-form.html            3680                 28\n",
              "672           settings.gradle               2                  2\n",
              "673               strings.xml               5                  1\n",
              "674            stylesheet.css            2618                 20\n",
              "675   testcases-proguard.conf              27                  4\n",
              "\n",
              "[676 rows x 3 columns]"
            ],
            "text/html": [
              "\n",
              "\n",
              "  <div id=\"df-b4364716-46ca-4002-b3fd-32701c7929d0\">\n",
              "    <div class=\"colab-df-container\">\n",
              "      <div>\n",
              "<style scoped>\n",
              "    .dataframe tbody tr th:only-of-type {\n",
              "        vertical-align: middle;\n",
              "    }\n",
              "\n",
              "    .dataframe tbody tr th {\n",
              "        vertical-align: top;\n",
              "    }\n",
              "\n",
              "    .dataframe thead th {\n",
              "        text-align: right;\n",
              "    }\n",
              "</style>\n",
              "<table border=\"1\" class=\"dataframe\">\n",
              "  <thead>\n",
              "    <tr style=\"text-align: right;\">\n",
              "      <th></th>\n",
              "      <th>name</th>\n",
              "      <th>modified_lines</th>\n",
              "      <th>frequency_commits</th>\n",
              "    </tr>\n",
              "  </thead>\n",
              "  <tbody>\n",
              "    <tr>\n",
              "      <th>0</th>\n",
              "      <td>$Cache.java</td>\n",
              "      <td>8</td>\n",
              "      <td>1</td>\n",
              "    </tr>\n",
              "    <tr>\n",
              "      <th>1</th>\n",
              "      <td>$Gson$Preconditions.html</td>\n",
              "      <td>1858</td>\n",
              "      <td>10</td>\n",
              "    </tr>\n",
              "    <tr>\n",
              "      <th>2</th>\n",
              "      <td>$Gson$Preconditions.java</td>\n",
              "      <td>20</td>\n",
              "      <td>4</td>\n",
              "    </tr>\n",
              "    <tr>\n",
              "      <th>3</th>\n",
              "      <td>$Gson$Types.html</td>\n",
              "      <td>2762</td>\n",
              "      <td>10</td>\n",
              "    </tr>\n",
              "    <tr>\n",
              "      <th>4</th>\n",
              "      <td>$Gson$Types.java</td>\n",
              "      <td>376</td>\n",
              "      <td>26</td>\n",
              "    </tr>\n",
              "    <tr>\n",
              "      <th>...</th>\n",
              "      <td>...</td>\n",
              "      <td>...</td>\n",
              "      <td>...</td>\n",
              "    </tr>\n",
              "    <tr>\n",
              "      <th>671</th>\n",
              "      <td>serialized-form.html</td>\n",
              "      <td>3680</td>\n",
              "      <td>28</td>\n",
              "    </tr>\n",
              "    <tr>\n",
              "      <th>672</th>\n",
              "      <td>settings.gradle</td>\n",
              "      <td>2</td>\n",
              "      <td>2</td>\n",
              "    </tr>\n",
              "    <tr>\n",
              "      <th>673</th>\n",
              "      <td>strings.xml</td>\n",
              "      <td>5</td>\n",
              "      <td>1</td>\n",
              "    </tr>\n",
              "    <tr>\n",
              "      <th>674</th>\n",
              "      <td>stylesheet.css</td>\n",
              "      <td>2618</td>\n",
              "      <td>20</td>\n",
              "    </tr>\n",
              "    <tr>\n",
              "      <th>675</th>\n",
              "      <td>testcases-proguard.conf</td>\n",
              "      <td>27</td>\n",
              "      <td>4</td>\n",
              "    </tr>\n",
              "  </tbody>\n",
              "</table>\n",
              "<p>676 rows × 3 columns</p>\n",
              "</div>\n",
              "      <button class=\"colab-df-convert\" onclick=\"convertToInteractive('df-b4364716-46ca-4002-b3fd-32701c7929d0')\"\n",
              "              title=\"Convert this dataframe to an interactive table.\"\n",
              "              style=\"display:none;\">\n",
              "\n",
              "  <svg xmlns=\"http://www.w3.org/2000/svg\" height=\"24px\"viewBox=\"0 0 24 24\"\n",
              "       width=\"24px\">\n",
              "    <path d=\"M0 0h24v24H0V0z\" fill=\"none\"/>\n",
              "    <path d=\"M18.56 5.44l.94 2.06.94-2.06 2.06-.94-2.06-.94-.94-2.06-.94 2.06-2.06.94zm-11 1L8.5 8.5l.94-2.06 2.06-.94-2.06-.94L8.5 2.5l-.94 2.06-2.06.94zm10 10l.94 2.06.94-2.06 2.06-.94-2.06-.94-.94-2.06-.94 2.06-2.06.94z\"/><path d=\"M17.41 7.96l-1.37-1.37c-.4-.4-.92-.59-1.43-.59-.52 0-1.04.2-1.43.59L10.3 9.45l-7.72 7.72c-.78.78-.78 2.05 0 2.83L4 21.41c.39.39.9.59 1.41.59.51 0 1.02-.2 1.41-.59l7.78-7.78 2.81-2.81c.8-.78.8-2.07 0-2.86zM5.41 20L4 18.59l7.72-7.72 1.47 1.35L5.41 20z\"/>\n",
              "  </svg>\n",
              "      </button>\n",
              "\n",
              "\n",
              "\n",
              "    <div id=\"df-ee253270-2335-4010-a363-e3cda9f5a713\">\n",
              "      <button class=\"colab-df-quickchart\" onclick=\"quickchart('df-ee253270-2335-4010-a363-e3cda9f5a713')\"\n",
              "              title=\"Suggest charts.\"\n",
              "              style=\"display:none;\">\n",
              "\n",
              "<svg xmlns=\"http://www.w3.org/2000/svg\" height=\"24px\"viewBox=\"0 0 24 24\"\n",
              "     width=\"24px\">\n",
              "    <g>\n",
              "        <path d=\"M19 3H5c-1.1 0-2 .9-2 2v14c0 1.1.9 2 2 2h14c1.1 0 2-.9 2-2V5c0-1.1-.9-2-2-2zM9 17H7v-7h2v7zm4 0h-2V7h2v10zm4 0h-2v-4h2v4z\"/>\n",
              "    </g>\n",
              "</svg>\n",
              "      </button>\n",
              "    </div>\n",
              "\n",
              "<style>\n",
              "  .colab-df-quickchart {\n",
              "    background-color: #E8F0FE;\n",
              "    border: none;\n",
              "    border-radius: 50%;\n",
              "    cursor: pointer;\n",
              "    display: none;\n",
              "    fill: #1967D2;\n",
              "    height: 32px;\n",
              "    padding: 0 0 0 0;\n",
              "    width: 32px;\n",
              "  }\n",
              "\n",
              "  .colab-df-quickchart:hover {\n",
              "    background-color: #E2EBFA;\n",
              "    box-shadow: 0px 1px 2px rgba(60, 64, 67, 0.3), 0px 1px 3px 1px rgba(60, 64, 67, 0.15);\n",
              "    fill: #174EA6;\n",
              "  }\n",
              "\n",
              "  [theme=dark] .colab-df-quickchart {\n",
              "    background-color: #3B4455;\n",
              "    fill: #D2E3FC;\n",
              "  }\n",
              "\n",
              "  [theme=dark] .colab-df-quickchart:hover {\n",
              "    background-color: #434B5C;\n",
              "    box-shadow: 0px 1px 3px 1px rgba(0, 0, 0, 0.15);\n",
              "    filter: drop-shadow(0px 1px 2px rgba(0, 0, 0, 0.3));\n",
              "    fill: #FFFFFF;\n",
              "  }\n",
              "</style>\n",
              "\n",
              "    <script>\n",
              "      async function quickchart(key) {\n",
              "        const containerElement = document.querySelector('#' + key);\n",
              "        const charts = await google.colab.kernel.invokeFunction(\n",
              "            'suggestCharts', [key], {});\n",
              "      }\n",
              "    </script>\n",
              "\n",
              "      <script>\n",
              "\n",
              "function displayQuickchartButton(domScope) {\n",
              "  let quickchartButtonEl =\n",
              "    domScope.querySelector('#df-ee253270-2335-4010-a363-e3cda9f5a713 button.colab-df-quickchart');\n",
              "  quickchartButtonEl.style.display =\n",
              "    google.colab.kernel.accessAllowed ? 'block' : 'none';\n",
              "}\n",
              "\n",
              "        displayQuickchartButton(document);\n",
              "      </script>\n",
              "      <style>\n",
              "    .colab-df-container {\n",
              "      display:flex;\n",
              "      flex-wrap:wrap;\n",
              "      gap: 12px;\n",
              "    }\n",
              "\n",
              "    .colab-df-convert {\n",
              "      background-color: #E8F0FE;\n",
              "      border: none;\n",
              "      border-radius: 50%;\n",
              "      cursor: pointer;\n",
              "      display: none;\n",
              "      fill: #1967D2;\n",
              "      height: 32px;\n",
              "      padding: 0 0 0 0;\n",
              "      width: 32px;\n",
              "    }\n",
              "\n",
              "    .colab-df-convert:hover {\n",
              "      background-color: #E2EBFA;\n",
              "      box-shadow: 0px 1px 2px rgba(60, 64, 67, 0.3), 0px 1px 3px 1px rgba(60, 64, 67, 0.15);\n",
              "      fill: #174EA6;\n",
              "    }\n",
              "\n",
              "    [theme=dark] .colab-df-convert {\n",
              "      background-color: #3B4455;\n",
              "      fill: #D2E3FC;\n",
              "    }\n",
              "\n",
              "    [theme=dark] .colab-df-convert:hover {\n",
              "      background-color: #434B5C;\n",
              "      box-shadow: 0px 1px 3px 1px rgba(0, 0, 0, 0.15);\n",
              "      filter: drop-shadow(0px 1px 2px rgba(0, 0, 0, 0.3));\n",
              "      fill: #FFFFFF;\n",
              "    }\n",
              "  </style>\n",
              "\n",
              "      <script>\n",
              "        const buttonEl =\n",
              "          document.querySelector('#df-b4364716-46ca-4002-b3fd-32701c7929d0 button.colab-df-convert');\n",
              "        buttonEl.style.display =\n",
              "          google.colab.kernel.accessAllowed ? 'block' : 'none';\n",
              "\n",
              "        async function convertToInteractive(key) {\n",
              "          const element = document.querySelector('#df-b4364716-46ca-4002-b3fd-32701c7929d0');\n",
              "          const dataTable =\n",
              "            await google.colab.kernel.invokeFunction('convertToInteractive',\n",
              "                                                     [key], {});\n",
              "          if (!dataTable) return;\n",
              "\n",
              "          const docLinkHtml = 'Like what you see? Visit the ' +\n",
              "            '<a target=\"_blank\" href=https://colab.research.google.com/notebooks/data_table.ipynb>data table notebook</a>'\n",
              "            + ' to learn more about interactive tables.';\n",
              "          element.innerHTML = '';\n",
              "          dataTable['output_type'] = 'display_data';\n",
              "          await google.colab.output.renderOutput(dataTable, element);\n",
              "          const docLink = document.createElement('div');\n",
              "          docLink.innerHTML = docLinkHtml;\n",
              "          element.appendChild(docLink);\n",
              "        }\n",
              "      </script>\n",
              "    </div>\n",
              "  </div>\n"
            ]
          },
          "metadata": {},
          "execution_count": 33
        }
      ]
    },
    {
      "cell_type": "code",
      "source": [
        "df_fator_multiplicacao = gera_df_fator_foc_amloc(df_em_fc)\n",
        "df_fator_multiplicacao"
      ],
      "metadata": {
        "colab": {
          "base_uri": "https://localhost:8080/",
          "height": 424
        },
        "id": "kiZPz6r-CIWX",
        "outputId": "f8008bc8-6105-4c34-cc2e-0efbd4ee1019"
      },
      "execution_count": 34,
      "outputs": [
        {
          "output_type": "execute_result",
          "data": {
            "text/plain": [
              "                         name  modified_lines  frequency_commits  factor1\n",
              "0                 $Cache.java               8                  1        8\n",
              "1    $Gson$Preconditions.html            1858                 10    18580\n",
              "2    $Gson$Preconditions.java              20                  4       80\n",
              "3            $Gson$Types.html            2762                 10    27620\n",
              "4            $Gson$Types.java             376                 26     9776\n",
              "..                        ...             ...                ...      ...\n",
              "671      serialized-form.html            3680                 28   103040\n",
              "672           settings.gradle               2                  2        4\n",
              "673               strings.xml               5                  1        5\n",
              "674            stylesheet.css            2618                 20    52360\n",
              "675   testcases-proguard.conf              27                  4      108\n",
              "\n",
              "[676 rows x 4 columns]"
            ],
            "text/html": [
              "\n",
              "\n",
              "  <div id=\"df-57cc2425-16e4-43ff-827d-8c83a6227254\">\n",
              "    <div class=\"colab-df-container\">\n",
              "      <div>\n",
              "<style scoped>\n",
              "    .dataframe tbody tr th:only-of-type {\n",
              "        vertical-align: middle;\n",
              "    }\n",
              "\n",
              "    .dataframe tbody tr th {\n",
              "        vertical-align: top;\n",
              "    }\n",
              "\n",
              "    .dataframe thead th {\n",
              "        text-align: right;\n",
              "    }\n",
              "</style>\n",
              "<table border=\"1\" class=\"dataframe\">\n",
              "  <thead>\n",
              "    <tr style=\"text-align: right;\">\n",
              "      <th></th>\n",
              "      <th>name</th>\n",
              "      <th>modified_lines</th>\n",
              "      <th>frequency_commits</th>\n",
              "      <th>factor1</th>\n",
              "    </tr>\n",
              "  </thead>\n",
              "  <tbody>\n",
              "    <tr>\n",
              "      <th>0</th>\n",
              "      <td>$Cache.java</td>\n",
              "      <td>8</td>\n",
              "      <td>1</td>\n",
              "      <td>8</td>\n",
              "    </tr>\n",
              "    <tr>\n",
              "      <th>1</th>\n",
              "      <td>$Gson$Preconditions.html</td>\n",
              "      <td>1858</td>\n",
              "      <td>10</td>\n",
              "      <td>18580</td>\n",
              "    </tr>\n",
              "    <tr>\n",
              "      <th>2</th>\n",
              "      <td>$Gson$Preconditions.java</td>\n",
              "      <td>20</td>\n",
              "      <td>4</td>\n",
              "      <td>80</td>\n",
              "    </tr>\n",
              "    <tr>\n",
              "      <th>3</th>\n",
              "      <td>$Gson$Types.html</td>\n",
              "      <td>2762</td>\n",
              "      <td>10</td>\n",
              "      <td>27620</td>\n",
              "    </tr>\n",
              "    <tr>\n",
              "      <th>4</th>\n",
              "      <td>$Gson$Types.java</td>\n",
              "      <td>376</td>\n",
              "      <td>26</td>\n",
              "      <td>9776</td>\n",
              "    </tr>\n",
              "    <tr>\n",
              "      <th>...</th>\n",
              "      <td>...</td>\n",
              "      <td>...</td>\n",
              "      <td>...</td>\n",
              "      <td>...</td>\n",
              "    </tr>\n",
              "    <tr>\n",
              "      <th>671</th>\n",
              "      <td>serialized-form.html</td>\n",
              "      <td>3680</td>\n",
              "      <td>28</td>\n",
              "      <td>103040</td>\n",
              "    </tr>\n",
              "    <tr>\n",
              "      <th>672</th>\n",
              "      <td>settings.gradle</td>\n",
              "      <td>2</td>\n",
              "      <td>2</td>\n",
              "      <td>4</td>\n",
              "    </tr>\n",
              "    <tr>\n",
              "      <th>673</th>\n",
              "      <td>strings.xml</td>\n",
              "      <td>5</td>\n",
              "      <td>1</td>\n",
              "      <td>5</td>\n",
              "    </tr>\n",
              "    <tr>\n",
              "      <th>674</th>\n",
              "      <td>stylesheet.css</td>\n",
              "      <td>2618</td>\n",
              "      <td>20</td>\n",
              "      <td>52360</td>\n",
              "    </tr>\n",
              "    <tr>\n",
              "      <th>675</th>\n",
              "      <td>testcases-proguard.conf</td>\n",
              "      <td>27</td>\n",
              "      <td>4</td>\n",
              "      <td>108</td>\n",
              "    </tr>\n",
              "  </tbody>\n",
              "</table>\n",
              "<p>676 rows × 4 columns</p>\n",
              "</div>\n",
              "      <button class=\"colab-df-convert\" onclick=\"convertToInteractive('df-57cc2425-16e4-43ff-827d-8c83a6227254')\"\n",
              "              title=\"Convert this dataframe to an interactive table.\"\n",
              "              style=\"display:none;\">\n",
              "\n",
              "  <svg xmlns=\"http://www.w3.org/2000/svg\" height=\"24px\"viewBox=\"0 0 24 24\"\n",
              "       width=\"24px\">\n",
              "    <path d=\"M0 0h24v24H0V0z\" fill=\"none\"/>\n",
              "    <path d=\"M18.56 5.44l.94 2.06.94-2.06 2.06-.94-2.06-.94-.94-2.06-.94 2.06-2.06.94zm-11 1L8.5 8.5l.94-2.06 2.06-.94-2.06-.94L8.5 2.5l-.94 2.06-2.06.94zm10 10l.94 2.06.94-2.06 2.06-.94-2.06-.94-.94-2.06-.94 2.06-2.06.94z\"/><path d=\"M17.41 7.96l-1.37-1.37c-.4-.4-.92-.59-1.43-.59-.52 0-1.04.2-1.43.59L10.3 9.45l-7.72 7.72c-.78.78-.78 2.05 0 2.83L4 21.41c.39.39.9.59 1.41.59.51 0 1.02-.2 1.41-.59l7.78-7.78 2.81-2.81c.8-.78.8-2.07 0-2.86zM5.41 20L4 18.59l7.72-7.72 1.47 1.35L5.41 20z\"/>\n",
              "  </svg>\n",
              "      </button>\n",
              "\n",
              "\n",
              "\n",
              "    <div id=\"df-68f4dae4-081d-4ac7-8836-ea4d4b6d26e6\">\n",
              "      <button class=\"colab-df-quickchart\" onclick=\"quickchart('df-68f4dae4-081d-4ac7-8836-ea4d4b6d26e6')\"\n",
              "              title=\"Suggest charts.\"\n",
              "              style=\"display:none;\">\n",
              "\n",
              "<svg xmlns=\"http://www.w3.org/2000/svg\" height=\"24px\"viewBox=\"0 0 24 24\"\n",
              "     width=\"24px\">\n",
              "    <g>\n",
              "        <path d=\"M19 3H5c-1.1 0-2 .9-2 2v14c0 1.1.9 2 2 2h14c1.1 0 2-.9 2-2V5c0-1.1-.9-2-2-2zM9 17H7v-7h2v7zm4 0h-2V7h2v10zm4 0h-2v-4h2v4z\"/>\n",
              "    </g>\n",
              "</svg>\n",
              "      </button>\n",
              "    </div>\n",
              "\n",
              "<style>\n",
              "  .colab-df-quickchart {\n",
              "    background-color: #E8F0FE;\n",
              "    border: none;\n",
              "    border-radius: 50%;\n",
              "    cursor: pointer;\n",
              "    display: none;\n",
              "    fill: #1967D2;\n",
              "    height: 32px;\n",
              "    padding: 0 0 0 0;\n",
              "    width: 32px;\n",
              "  }\n",
              "\n",
              "  .colab-df-quickchart:hover {\n",
              "    background-color: #E2EBFA;\n",
              "    box-shadow: 0px 1px 2px rgba(60, 64, 67, 0.3), 0px 1px 3px 1px rgba(60, 64, 67, 0.15);\n",
              "    fill: #174EA6;\n",
              "  }\n",
              "\n",
              "  [theme=dark] .colab-df-quickchart {\n",
              "    background-color: #3B4455;\n",
              "    fill: #D2E3FC;\n",
              "  }\n",
              "\n",
              "  [theme=dark] .colab-df-quickchart:hover {\n",
              "    background-color: #434B5C;\n",
              "    box-shadow: 0px 1px 3px 1px rgba(0, 0, 0, 0.15);\n",
              "    filter: drop-shadow(0px 1px 2px rgba(0, 0, 0, 0.3));\n",
              "    fill: #FFFFFF;\n",
              "  }\n",
              "</style>\n",
              "\n",
              "    <script>\n",
              "      async function quickchart(key) {\n",
              "        const containerElement = document.querySelector('#' + key);\n",
              "        const charts = await google.colab.kernel.invokeFunction(\n",
              "            'suggestCharts', [key], {});\n",
              "      }\n",
              "    </script>\n",
              "\n",
              "      <script>\n",
              "\n",
              "function displayQuickchartButton(domScope) {\n",
              "  let quickchartButtonEl =\n",
              "    domScope.querySelector('#df-68f4dae4-081d-4ac7-8836-ea4d4b6d26e6 button.colab-df-quickchart');\n",
              "  quickchartButtonEl.style.display =\n",
              "    google.colab.kernel.accessAllowed ? 'block' : 'none';\n",
              "}\n",
              "\n",
              "        displayQuickchartButton(document);\n",
              "      </script>\n",
              "      <style>\n",
              "    .colab-df-container {\n",
              "      display:flex;\n",
              "      flex-wrap:wrap;\n",
              "      gap: 12px;\n",
              "    }\n",
              "\n",
              "    .colab-df-convert {\n",
              "      background-color: #E8F0FE;\n",
              "      border: none;\n",
              "      border-radius: 50%;\n",
              "      cursor: pointer;\n",
              "      display: none;\n",
              "      fill: #1967D2;\n",
              "      height: 32px;\n",
              "      padding: 0 0 0 0;\n",
              "      width: 32px;\n",
              "    }\n",
              "\n",
              "    .colab-df-convert:hover {\n",
              "      background-color: #E2EBFA;\n",
              "      box-shadow: 0px 1px 2px rgba(60, 64, 67, 0.3), 0px 1px 3px 1px rgba(60, 64, 67, 0.15);\n",
              "      fill: #174EA6;\n",
              "    }\n",
              "\n",
              "    [theme=dark] .colab-df-convert {\n",
              "      background-color: #3B4455;\n",
              "      fill: #D2E3FC;\n",
              "    }\n",
              "\n",
              "    [theme=dark] .colab-df-convert:hover {\n",
              "      background-color: #434B5C;\n",
              "      box-shadow: 0px 1px 3px 1px rgba(0, 0, 0, 0.15);\n",
              "      filter: drop-shadow(0px 1px 2px rgba(0, 0, 0, 0.3));\n",
              "      fill: #FFFFFF;\n",
              "    }\n",
              "  </style>\n",
              "\n",
              "      <script>\n",
              "        const buttonEl =\n",
              "          document.querySelector('#df-57cc2425-16e4-43ff-827d-8c83a6227254 button.colab-df-convert');\n",
              "        buttonEl.style.display =\n",
              "          google.colab.kernel.accessAllowed ? 'block' : 'none';\n",
              "\n",
              "        async function convertToInteractive(key) {\n",
              "          const element = document.querySelector('#df-57cc2425-16e4-43ff-827d-8c83a6227254');\n",
              "          const dataTable =\n",
              "            await google.colab.kernel.invokeFunction('convertToInteractive',\n",
              "                                                     [key], {});\n",
              "          if (!dataTable) return;\n",
              "\n",
              "          const docLinkHtml = 'Like what you see? Visit the ' +\n",
              "            '<a target=\"_blank\" href=https://colab.research.google.com/notebooks/data_table.ipynb>data table notebook</a>'\n",
              "            + ' to learn more about interactive tables.';\n",
              "          element.innerHTML = '';\n",
              "          dataTable['output_type'] = 'display_data';\n",
              "          await google.colab.output.renderOutput(dataTable, element);\n",
              "          const docLink = document.createElement('div');\n",
              "          docLink.innerHTML = docLinkHtml;\n",
              "          element.appendChild(docLink);\n",
              "        }\n",
              "      </script>\n",
              "    </div>\n",
              "  </div>\n"
            ]
          },
          "metadata": {},
          "execution_count": 34
        }
      ]
    },
    {
      "cell_type": "code",
      "source": [
        "df_em_fc_java_impl, df_fator_multiplicacao_em_fc_java_impl = gera_scatter_plot_foc_amloc(df_em_fc)"
      ],
      "metadata": {
        "colab": {
          "base_uri": "https://localhost:8080/",
          "height": 724
        },
        "id": "OSAIOMbUCQqR",
        "outputId": "771d23a8-542c-4cb3-b94f-d376630290ea"
      },
      "execution_count": 39,
      "outputs": [
        {
          "output_type": "display_data",
          "data": {
            "text/plain": [
              "<Figure size 1200x800 with 1 Axes>"
            ],
            "image/png": "[encoded data removed]"
          },
          "metadata": {}
        }
      ]
    },
    {
      "cell_type": "code",
      "source": [
        "em_q3_java_impl, fc_q3_java_impl"
      ],
      "metadata": {
        "colab": {
          "base_uri": "https://localhost:8080/"
        },
        "id": "p6wyAcpECfId",
        "outputId": "a20fd5c4-31b0-4dd9-8766-850068d9565b"
      },
      "execution_count": 40,
      "outputs": [
        {
          "output_type": "execute_result",
          "data": {
            "text/plain": [
              "(array([282.]), array([11.]))"
            ]
          },
          "metadata": {},
          "execution_count": 40
        }
      ]
    },
    {
      "cell_type": "code",
      "source": [
        "list_initial_critical_files_from_sp = gera_scatter_plot_foc_amloc_com_quadrantes(df_em_fc_java_impl, em_q3_java_impl, fc_q3_java_impl)"
      ],
      "metadata": {
        "colab": {
          "base_uri": "https://localhost:8080/",
          "height": 724
        },
        "id": "ZBfV-95TCS7d",
        "outputId": "ee8401b2-0eaf-422f-fafc-988a1e930759"
      },
      "execution_count": 41,
      "outputs": [
        {
          "output_type": "display_data",
          "data": {
            "text/plain": [
              "<Figure size 1200x800 with 1 Axes>"
            ],
            "image/png": "[encoded data removed]"
          },
          "metadata": {}
        }
      ]
    },
    {
      "cell_type": "code",
      "source": [
        "len(list_initial_critical_files_from_sp)"
      ],
      "metadata": {
        "colab": {
          "base_uri": "https://localhost:8080/"
        },
        "id": "3DrJcFpGCZqe",
        "outputId": "9977b7cb-2d41-496d-e122-e15eb5374a5f"
      },
      "execution_count": 42,
      "outputs": [
        {
          "output_type": "execute_result",
          "data": {
            "text/plain": [
              "46"
            ]
          },
          "metadata": {},
          "execution_count": 42
        }
      ]
    },
    {
      "cell_type": "code",
      "source": [
        "list_critical_files = gera_scatter_plot_final_foc_amloc_com_quadrantes(list_initial_critical_files_from_sp, df_em_fc_java_impl, em_q3_java_impl, fc_q2_java_impl)"
      ],
      "metadata": {
        "colab": {
          "base_uri": "https://localhost:8080/",
          "height": 1000
        },
        "id": "wEBzl_aiEAkt",
        "outputId": "3004c2fe-57ba-4b48-f967-f1ce5e92d8fe"
      },
      "execution_count": 44,
      "outputs": [
        {
          "output_type": "stream",
          "name": "stdout",
          "text": [
            "('$Gson$Types.java', 376, 26)\n",
            "('CollectionTypeAdapter.java', 302, 12)\n",
            "('ConstructorConstructor.java', 852, 30)\n",
            "('DefaultDateTypeAdapter.java', 555, 17)\n",
            "('DefaultTypeAdapters.java', 3658, 88)\n",
            "('Escaper.java', 510, 13)\n",
            "('Excluder.java', 355, 14)\n",
            "('FieldAttributes.java', 647, 37)\n",
            "('FieldNamingPolicy.java', 416, 19)\n",
            "('Gson.java', 4288, 225)\n",
            "('GsonBuilder.java', 2996, 127)\n",
            "('JsonAdapterAnnotationTypeAdapterFactory.java', 416, 18)\n",
            "('JsonArray.java', 853, 42)\n",
            "('JsonArrayDeserializationVisitor.java', 410, 19)\n",
            "('JsonDeserializationContext.java', 303, 12)\n",
            "('JsonDeserializationVisitor.java', 476, 32)\n",
            "('JsonElement.java', 689, 29)\n",
            "('JsonNull.java', 289, 26)\n",
            "('JsonObject.java', 649, 54)\n",
            "('JsonObjectDeserializationVisitor.java', 498, 24)\n",
            "('JsonParser.java', 4861, 35)\n",
            "('JsonPrimitive.java', 964, 48)\n",
            "('JsonPrintFormatter.java', 726, 13)\n",
            "('JsonReader.java', 4407, 83)\n",
            "('JsonSerializationVisitor.java', 1116, 56)\n",
            "('JsonWriter.java', 1304, 36)\n",
            "('LazilyParsedNumber.java', 499, 13)\n",
            "('LinkedTreeMap.java', 2661, 20)\n",
            "('MapTypeAdapterFactory.java', 551, 26)\n",
            "('MappedObjectConstructor.java', 476, 24)\n",
            "('MiniGson.java', 530, 16)\n",
            "('ObjectNavigator.java', 934, 39)\n",
            "('ObjectTypeAdapter.java', 357, 20)\n",
            "('ObjectTypePair.java', 416, 14)\n",
            "('ParameterizedTypeHandlerMap.java', 718, 26)\n",
            "('Preconditions.java', 296, 15)\n",
            "('ProtoTypeAdapter.java', 738, 19)\n",
            "('ReflectingFieldNavigator.java', 462, 15)\n",
            "('ReflectiveTypeAdapter.java', 732, 20)\n",
            "('ReflectiveTypeAdapterFactory.java', 1273, 48)\n",
            "('RuntimeTypeAdapterFactory.java', 421, 25)\n",
            "('Streams.java', 605, 30)\n",
            "('TreeTypeAdapter.java', 331, 23)\n",
            "('TypeAdapter.java', 1036, 37)\n",
            "('TypeAdapters.java', 2574, 78)\n",
            "('TypeToken.java', 1352, 24)\n"
          ]
        },
        {
          "output_type": "display_data",
          "data": {
            "text/plain": [
              "<Figure size 1200x800 with 1 Axes>"
            ],
            "image/png": "[encoded data removed]"
          },
          "metadata": {}
        }
      ]
    },
    {
      "cell_type": "code",
      "source": [],
      "metadata": {
        "id": "EoVQahqNEChD"
      },
      "execution_count": null,
      "outputs": []
    },
    {
      "cell_type": "markdown",
      "source": [
        "# Faz a análise das dependências dos arquivos"
      ],
      "metadata": {
        "id": "Hz9qVfEeFDfo"
      }
    },
    {
      "cell_type": "code",
      "source": [
        "import utilidades\n",
        "import datetime"
      ],
      "metadata": {
        "id": "2M2caFNSFHE1"
      },
      "execution_count": 46,
      "outputs": []
    },
    {
      "cell_type": "markdown",
      "source": [
        "## Funções"
      ],
      "metadata": {
        "id": "Dyqrs3iEFtw3"
      }
    },
    {
      "cell_type": "code",
      "source": [
        "# promocity/src/main/java/ufc/cmu/promocity\n",
        "def gera_arquivos_java(path_projeto, nome_arquivo='arquivosjava.txt'):\n",
        "  try:\n",
        "    # Gera um arquivo contendo todos os arquivos .java do projeto\n",
        "    query = f'find {path_projeto} -name \"*.java\" > {nome_arquivo}'\n",
        "    utilidades.executa_comando(comando=query)\n",
        "    print(f'Arquivo {nome_arquivo} gerado com sucesso!')\n",
        "  except Exception as ex:\n",
        "    print(f'Erro ao gerar o arquivosjava.txt: {str(ex)}')\n",
        "\n",
        "# Dado 'org.apache.cassandra.index.Index.java'\n",
        "# Retorne 'pilot/analises/designite/v-3-11-11/src/java/org/apache/cassandra/index/Index.java'\n",
        "\n",
        "def get_path_file(my_file, src_java_path):\n",
        "  path_file = None\n",
        "  my_file = my_file.replace('.java', '') # org.apache.cassandra.index.Index\n",
        "  my_file = my_file.replace('.', '/') # org/apache/cassandra/index/Index\n",
        "  my_file = my_file + '.java' # org/apache/cassandra/index/Index.java\n",
        "  path_file =  src_java_path  + my_file\n",
        "  return path_file\n",
        "\n",
        "def teste_find_word_in_file(my_file, my_word):\n",
        "    with open(my_file) as f:\n",
        "        datafile = f.readlines()\n",
        "        found = False  # This isn't really necessary\n",
        "        for line in datafile:\n",
        "          if my_word in line:\n",
        "            # found = True # Not necessary\n",
        "            return True\n",
        "    return False  # Because you finished the search without finding\n",
        "\n",
        "def lista_arquivos_que_dependem_de(my_file, dicionario):\n",
        "  lista_temp = []\n",
        "  my_file = my_file.replace('/','.')\n",
        "  if my_file in dicionario:\n",
        "    for each in dicionario[my_file]:\n",
        "      if each[2] == 1:\n",
        "        lista_temp.append(each)\n",
        "  return lista_temp\n",
        "\n",
        "# Cria duas listas contendo o conjunto de arquivos da versão analisada\n",
        "def cria_duas_listas_arquivos_analisados(nome_arquivo='arquivosjava.txt', diretorio_src_main='promocity/src/main/java/'):\n",
        "  lista_linhas_arquivos_cassandra = []\n",
        "  lista_colunas_arquivos_cassandra = []\n",
        "  with open(nome_arquivo, mode='r+', encoding='utf-8') as file:\n",
        "    for line in file:\n",
        "      line = line.rstrip()\n",
        "      line = line.replace(diretorio_src_main, '')\n",
        "      line = line.replace('/', '.')\n",
        "      lista_linhas_arquivos_cassandra.append(line)\n",
        "      lista_colunas_arquivos_cassandra.append(line)\n",
        "  return lista_linhas_arquivos_cassandra, lista_colunas_arquivos_cassandra\n",
        "\n",
        "def cria_dicionario_dsm(lista_linhas_arquivos_cassandra, lista_colunas_arquivos_cassandra, path_main):\n",
        "  t1 = datetime.datetime.now()\n",
        "  dicionario_dsm = {}\n",
        "  lista_aux = []\n",
        "  for each_file in lista_linhas_arquivos_cassandra:\n",
        "    for each_elemento_coluna in lista_colunas_arquivos_cassandra:\n",
        "      my_search = each_elemento_coluna\n",
        "      my_search = my_search.replace('.java', ';')\n",
        "      my_path = get_path_file(my_file=each_file, src_java_path=path_main)\n",
        "      if teste_find_word_in_file(my_file=my_path,my_word=my_search):\n",
        "        item = (each_file, each_elemento_coluna, 1)\n",
        "      else:\n",
        "        item = (each_file, each_elemento_coluna, 0)\n",
        "      lista_aux.append(item)\n",
        "    dicionario_dsm[each_file] = lista_aux\n",
        "    lista_aux = []\n",
        "  t2 = datetime.datetime.now()\n",
        "  delta = t2 - t1\n",
        "  print(f'Tempo para criar o dicionarário dsm: {delta}, itens percorridos: {len(dicionario_dsm)}')\n",
        "  return dicionario_dsm"
      ],
      "metadata": {
        "id": "A_4lnMEhFKtw"
      },
      "execution_count": 72,
      "outputs": []
    },
    {
      "cell_type": "code",
      "source": [
        "# path_arquivo_a='ufc.cmu.promocity.backend.context.UserLocationMonitoring.java'\n",
        "def get_arquivos_A_usa_B(path_arquivo_a, dicionario_dsm):\n",
        "  # Exemplo: Relação de Arquivos que UserLocationMonitoring.java depende de\n",
        "  # sao os arquivos Bs que A precisa para sua implementacao\n",
        "  lista_arquivos = []\n",
        "  i = 1\n",
        "  for tupla in dicionario_dsm[path_arquivo_a]:\n",
        "    if tupla[2] == 1:\n",
        "      print(f'{i}, {tupla}')\n",
        "      i = i + 1\n",
        "      lista_arquivos.append(tupla[1])\n",
        "  return lista_arquivos\n",
        "\n",
        "# Dicionario que dado um arquivo X, monta uma matriz de dependencia de X, ou seja, uma lista de arquivos que dependem de X\n",
        "def cria_dicionario_dsm_depende_de(lista_linhas_arquivos_cassandra, lista_colunas_arquivos_cassandra, path_main):\n",
        "  t1 = datetime.datetime.now()\n",
        "  dicionario_dsm_depende_de = {}\n",
        "  lista_aux = []\n",
        "\n",
        "  for each_file in lista_linhas_arquivos_cassandra:\n",
        "    for each_elemento_coluna in lista_colunas_arquivos_cassandra:\n",
        "      my_search = each_file\n",
        "      my_search = my_search.replace('.java', ';')\n",
        "      my_path = get_path_file(my_file=each_elemento_coluna, src_java_path=path_main)\n",
        "      if teste_find_word_in_file(my_file=my_path,my_word=my_search):\n",
        "        item = (each_elemento_coluna, each_file, 1)\n",
        "      else:\n",
        "        item = (each_elemento_coluna, each_file, 0)\n",
        "      lista_aux.append(item)\n",
        "    dicionario_dsm_depende_de[each_file] = lista_aux\n",
        "    lista_aux = []\n",
        "\n",
        "  t2 = datetime.datetime.now()\n",
        "\n",
        "  delta = t2 - t1\n",
        "\n",
        "  print(f'Tempo para criar o dicionarário dsm: {delta}, itens percorridos: {len(dicionario_dsm_depende_de)}')\n",
        "  return dicionario_dsm_depende_de\n",
        "\n",
        "def get_arquivos_dependem_de_A(path_arquivo_a, dicionario_dsm_depende_de):\n",
        "  # Exemplo: Relação de Arquivos que dependem de UserController.java\n",
        "  lista_arquivos = []\n",
        "  i = 1\n",
        "  for tupla in lista_arquivos_que_dependem_de(my_file=path_arquivo_a, dicionario=dicionario_dsm_depende_de):\n",
        "    if tupla[2] == 1:\n",
        "      print(f'{i}, {tupla}')\n",
        "      i += 1\n",
        "      lista_arquivos.append(tupla[0])\n",
        "  return lista_arquivos"
      ],
      "metadata": {
        "id": "YwljgUVjFsTK"
      },
      "execution_count": 73,
      "outputs": []
    },
    {
      "cell_type": "code",
      "source": [
        "# Dada uma classe e o arquivo texto contendo todos os arquivos do repositorio,\n",
        "# retorna o pacote da classe junto com classe\n",
        "# path = 'promocity/src/main/java/'\n",
        "def get_file_package(my_file, my_content, path):\n",
        "  with open(my_content, mode='r+', encoding='utf-8') as file:\n",
        "    for line in file:\n",
        "      if my_file in line:\n",
        "        line = line.replace(path, '')\n",
        "        line = line.replace('/','.')\n",
        "        line = line.strip()\n",
        "        return line\n",
        "\n",
        "# Dada a lista de arquivos criticos [(arquivo1, qtd linhas modificadas, frequencia de commits), (), ...]\n",
        "# arquivo texto contendo todos os arquivos do repositorio\n",
        "# dicionario com a DSM file_a uses file_b\n",
        "# retorna o dicionario com chave file_a e valores lista de arquivos que file_a chama(importa)\n",
        "## arquivosjava.txt e dicionario_dsm\n",
        "def get_dict_file_a_uses_file_b(lista_arquivos_criticos, content, my_dictionary, path_main):\n",
        "  dict_file_a_uses_file_b = {}\n",
        "  lista_file_a_uses_file_b = []\n",
        "  for each in lista_arquivos_criticos:\n",
        "    item = each[0]\n",
        "    key_file = get_file_package(my_file=item, my_content=content, path=path_main)\n",
        "    if key_file is not None:\n",
        "      for each_tupla in my_dictionary[key_file]:\n",
        "        if each_tupla[2] == 1:\n",
        "          lista_file_a_uses_file_b.append(each_tupla[1])\n",
        "      dict_file_a_uses_file_b[key_file] = lista_file_a_uses_file_b\n",
        "      lista_file_a_uses_file_b = []\n",
        "  return dict_file_a_uses_file_b\n",
        "\n",
        "# Todo: revisar, pois está substituindo config.java por GuardrailsConfig.java\n",
        "# Dada a lista de arquivos criticos [(arquivo1, qtd linhas modificadas, frequencia de commits), (), ...]\n",
        "# arquivo texto contendo todos os arquivos do repositorio\n",
        "# dicionario com a DSM file_a depende de file_b\n",
        "# retorna o dicionario com chave file_a e valores lista de arquivos que dependem de file_a\n",
        "## content='arquivosjava.txt', my_dictionary=dicionario_dsm_depende_de\n",
        "def get_dict_file_impact_other_files(lista_arquivos_criticos, content, my_dictionary, path_main):\n",
        "  dict_file_impact_other_files = {}\n",
        "  lista_file_a_depends_on_file_b = []\n",
        "\n",
        "  for each in lista_arquivos_criticos:\n",
        "    item = each[0]\n",
        "    key_file = get_file_package(my_file=item, my_content=content, path=path_main)\n",
        "    if key_file is not None:\n",
        "      for tupla in lista_arquivos_que_dependem_de(my_file=key_file, dicionario=my_dictionary):\n",
        "        if tupla[2] == 1:\n",
        "          lista_file_a_depends_on_file_b.append(tupla[0])\n",
        "      dict_file_impact_other_files[key_file] = lista_file_a_depends_on_file_b\n",
        "      lista_file_a_depends_on_file_b = []\n",
        "  return dict_file_impact_other_files"
      ],
      "metadata": {
        "id": "v36QkxTUFzef"
      },
      "execution_count": 74,
      "outputs": []
    },
    {
      "cell_type": "code",
      "source": [
        "def mostra_lista_arquivos_dependentes(lista_arquivos_criticos, content, my_dictionary, path_main):\n",
        "  # Dado um arquivo chave, mostra a lista de arquivos que dependem do arquivo chave\n",
        "  dict_arquivos_dependentes_arquivos_criticos = get_dict_file_impact_other_files(lista_arquivos_criticos, content, my_dictionary, path_main)\n",
        "\n",
        "  lista_arquivos_impactados = []\n",
        "  l_ac = []\n",
        "  l_adac = []\n",
        "  l_tamanho_adac = []\n",
        "  for key, value in dict_arquivos_dependentes_arquivos_criticos.items():\n",
        "    print(key, value)\n",
        "    l_ac.append(key)\n",
        "    l_tamanho_adac.append(len(value))\n",
        "    l_adac.append(value)\n",
        "\n",
        "  return dict_arquivos_dependentes_arquivos_criticos, lista_arquivos_impactados, l_ac, l_adac, l_tamanho_adac\n",
        "\n",
        "def gera_df_arquivos_dependentes_arquivos_criticos(l_ac, l_tamanho_adac, l_adac):\n",
        "  df_arquivos_dependentes_arquivos_criticos = pd.DataFrame({'arquivos_criticos':l_ac, 'qtd_arquivos_dependentes':l_tamanho_adac, 'arquivos_dependentes':l_adac})\n",
        "  try:\n",
        "    df_arquivos_dependentes_arquivos_criticos.to_csv('arquivos_dependentes_arquivos_criticos.csv')\n",
        "  except Exception as ex:\n",
        "    print(f'Erro ao salvar o arquivo arquivos_dependentes_arquivos_criticos.csv : {str(ex)}')\n",
        "  return df_arquivos_dependentes_arquivos_criticos\n",
        "\n",
        "# lista_arquivos_impactados_unicos\n",
        "def gera_lista_arquivos_impactados_unicos(dict_arquivos_dependentes_arquivos_criticos, lista_arquivos_impactados):\n",
        "  for key, value in dict_arquivos_dependentes_arquivos_criticos.items():\n",
        "    print(f\"Mudanças na classe {key} podem impactar {len(value)} classes\")\n",
        "\n",
        "  for key, value in dict_arquivos_dependentes_arquivos_criticos.items():\n",
        "    lista_arquivos_impactados = lista_arquivos_impactados + value\n",
        "\n",
        "  set_lista_arquivos_impactados = set(lista_arquivos_impactados)\n",
        "  lista_arquivos_impactados_unicos = list(set_lista_arquivos_impactados)\n",
        "  return lista_arquivos_impactados_unicos"
      ],
      "metadata": {
        "id": "PRO4gej7F3lR"
      },
      "execution_count": 75,
      "outputs": []
    },
    {
      "cell_type": "code",
      "source": [
        "def relatorio_linhas_alteradas_pelas_classes_criticas(lista_arquivos_impactados_unicos,lista_arquivos_criticos, df_em_fc_java_impl, df_files_commits_from_db):\n",
        "  # Quantidade de arquivos impactados pelas classes críticas\n",
        "  print(f\"Existem {len(lista_arquivos_impactados_unicos)} classes que podem ser impactados pelas {len(lista_arquivos_criticos)} classes críticas.\")\n",
        "\n",
        "  print(f'Classes críticas: {len(lista_arquivos_criticos)}')\n",
        "  print(f'Classes impactadas: {len(lista_arquivos_impactados_unicos)}')\n",
        "  print(f'Total de classes .java do sistema: {df_em_fc_java_impl.shape[0]}')\n",
        "\n",
        "  print(f'Existem {len(lista_arquivos_criticos)} arquivos: {[item[0] for item in lista_arquivos_criticos]} que podem impactar {len(lista_arquivos_impactados_unicos)} dos {df_em_fc_java_impl.shape[0]} arquivos .java')\n",
        "  print(f'{len(lista_arquivos_impactados_unicos)} Potenciais arquivos impactados: {lista_arquivos_impactados_unicos}')\n",
        "\n",
        "  # df.groupby(['A','C'])['B'].sum()\n",
        "  df_lm = df_files_commits_from_db.copy()\n",
        "  qtd_lm = df_lm[['file_is_java','file_filename', 'modified_lines']][df_lm.file_is_java==1].groupby('file_filename')['modified_lines'].sum()\n",
        "  df_qtd_lm = qtd_lm.to_frame()\n",
        "  #df_qtd_lm['file_filename'] = df_qtd_lm.index\n",
        "  df_qtd_lm = df_qtd_lm.reset_index()\n",
        "  #df_qtd_lm\n",
        "\n",
        "  # Quantidade de linhas modificadas dos arquivos criticos\n",
        "  dict_modified_lines_arquivos_criticos = {}\n",
        "\n",
        "  for each in lista_arquivos_criticos:\n",
        "    qtd_temp = df_qtd_lm[df_qtd_lm.file_filename == each[0]]['modified_lines'].to_list()\n",
        "    if len(qtd_temp) == 1:\n",
        "      dict_modified_lines_arquivos_criticos[each[0]] = qtd_temp[0]\n",
        "\n",
        "  #dict_modified_lines_arquivos_criticos\n",
        "\n",
        "  soma_modified_lines_arquivos_criticos = 0\n",
        "  for key, value in dict_modified_lines_arquivos_criticos.items():\n",
        "    soma_modified_lines_arquivos_criticos = soma_modified_lines_arquivos_criticos + value\n",
        "\n",
        "  print(f'As {len(dict_modified_lines_arquivos_criticos)} classes criticas mudaram {soma_modified_lines_arquivos_criticos} linhas no sistema')\n",
        "\n",
        "  lista_nomes_arquivos_impactados_unicos = []\n",
        "\n",
        "  for each in lista_arquivos_impactados_unicos:\n",
        "    each = each.split('.')\n",
        "    temp = each[-2] + '.' + each[-1]\n",
        "    lista_nomes_arquivos_impactados_unicos.append(temp)\n",
        "  return lista_nomes_arquivos_impactados_unicos, df_qtd_lm, dict_modified_lines_arquivos_criticos, soma_modified_lines_arquivos_criticos"
      ],
      "metadata": {
        "id": "fsxFlq_QF76K"
      },
      "execution_count": 76,
      "outputs": []
    },
    {
      "cell_type": "code",
      "source": [
        "# Dada uma classe critica e um dataframe contendo todos os commits analisados\n",
        "# retorna a lista de arquivos que sao modificados junto com o arquivo critico\n",
        "def get_lista_arquivos_modificados_with_critico(filename, df):\n",
        "  lista_temp_arquivos = []\n",
        "  lista_temp = []\n",
        "\n",
        "  lista_arquivos_modificados_com_filename = df[df['modified_files'].str.contains(filename)]['modified_files'].to_list()\n",
        "\n",
        "  for each in lista_arquivos_modificados_com_filename:\n",
        "    lista_temp = each.split(',')\n",
        "    lista_temp_arquivos = lista_temp_arquivos + lista_temp\n",
        "    lista_temp = []\n",
        "\n",
        "  set_lista_temp_arquivos = set(lista_temp_arquivos)\n",
        "  lista_temp_arquivos_unicos = list(set_lista_temp_arquivos)\n",
        "  return lista_temp_arquivos_unicos\n",
        "\n",
        "# Data a lista de arquivos criticos e todos os commits da faixa analisada\n",
        "# retorna um dicionario com chave no arquivo critico e a lista dos arquivos que sao modificados em conjunto com ele.\n",
        "def get_dict_arquivos_modificados_with_critico(lista, df):\n",
        "  dict_arquivos_modificados_with_critico = {}\n",
        "  lista_temp = []\n",
        "  for filename in lista:\n",
        "    lista_temp = get_lista_arquivos_modificados_with_critico(filename[0], df)\n",
        "    dict_arquivos_modificados_with_critico[filename[0]] = lista_temp\n",
        "    lista_temp = []\n",
        "  return dict_arquivos_modificados_with_critico\n",
        "\n",
        "# Dado um arquivo critico,\n",
        "# retorna a lista de arquivos impactados por ele\n",
        "def get_arquivos_impactados_por_file(lista, filename, path_main):\n",
        "  lista_arquivos_criticos = lista\n",
        "  lista_temp = []\n",
        "  for key, value in get_dict_file_impact_other_files(lista_arquivos_criticos, content='arquivosjava.txt', my_dictionary=dicionario_dsm_depende_de, path_main=path_main).items():\n",
        "    if filename in key:\n",
        "      lista_temp = []\n",
        "      for file in value:\n",
        "        temp = file.split('.')[-2]\n",
        "        temp = temp + '' + '.java'\n",
        "        lista_temp.append(temp)\n",
        "  return lista_temp\n",
        "\n",
        "# dicionário de arquivos criticos e seus arquivos que dependem dele e também sao co-change\n",
        "def get_dict_arquivos_dependem_e_cochange_critico(lista, path_main):\n",
        "  lista_arquivos_criticos = lista\n",
        "  dict_arquivos_dependem_e_cochange_critico = {}\n",
        "\n",
        "  for filename in lista_arquivos_criticos:\n",
        "    lista_temp_dependem_filename = get_arquivos_impactados_por_file(lista_arquivos_criticos, filename[0], path_main)\n",
        "    lista_temp_cochange_filename = dict_arquivo_critico_cochange[filename[0]]\n",
        "\n",
        "    lista_arquivos_dependem_de_and_cochange_filename = []\n",
        "    for each in lista_temp_dependem_filename:\n",
        "      if each in lista_temp_cochange_filename:\n",
        "        lista_arquivos_dependem_de_and_cochange_filename.append(each)\n",
        "\n",
        "    dict_arquivos_dependem_e_cochange_critico[filename[0]] = lista_arquivos_dependem_de_and_cochange_filename\n",
        "\n",
        "  return dict_arquivos_dependem_e_cochange_critico"
      ],
      "metadata": {
        "id": "M5783vjHF_mG"
      },
      "execution_count": 77,
      "outputs": []
    },
    {
      "cell_type": "markdown",
      "source": [
        "## Teste de Dependência entre os arquivos\n",
        "\n",
        "Arquivo A depende de B"
      ],
      "metadata": {
        "id": "y01MjIvNGGLL"
      }
    },
    {
      "cell_type": "code",
      "source": [
        "!ls -lia gson/gson/src/main/java"
      ],
      "metadata": {
        "colab": {
          "base_uri": "https://localhost:8080/"
        },
        "id": "-DdR2C9PGH8L",
        "outputId": "a594e103-b81c-4407-a871-30d3c3526d0b"
      },
      "execution_count": 53,
      "outputs": [
        {
          "output_type": "stream",
          "name": "stdout",
          "text": [
            "total 16\n",
            "1704143 drwxr-xr-x 3 root root 4096 Jul 15 18:54 .\n",
            "1704136 drwxr-xr-x 5 root root 4096 Jul 15 18:54 ..\n",
            "1704144 drwxr-xr-x 3 root root 4096 Jul 15 18:54 com\n",
            "1704236 -rw-r--r-- 1 root root 1106 Jul 15 18:54 module-info.java\n"
          ]
        }
      ]
    },
    {
      "cell_type": "code",
      "source": [
        "path_projeto_src_java = \"gson/gson/src/main/java/\""
      ],
      "metadata": {
        "id": "Gbgw4o6dG2QA"
      },
      "execution_count": 63,
      "outputs": []
    },
    {
      "cell_type": "code",
      "source": [
        "!cd gson && git ls-files | grep -c '\\.java$'"
      ],
      "metadata": {
        "colab": {
          "base_uri": "https://localhost:8080/"
        },
        "id": "tjKbjgTXGcGd",
        "outputId": "1b5c3ff3-383c-41f5-de72-a5e8858e7936"
      },
      "execution_count": 54,
      "outputs": [
        {
          "output_type": "stream",
          "name": "stdout",
          "text": [
            "243\n"
          ]
        }
      ]
    },
    {
      "cell_type": "code",
      "source": [
        "!cd gson/gson/src/main/java && find . -name \"*.java\" | grep -c \"\""
      ],
      "metadata": {
        "colab": {
          "base_uri": "https://localhost:8080/"
        },
        "id": "-RyIeCQ3GksP",
        "outputId": "1bea93da-20d4-4528-ea4e-11e0694404da"
      },
      "execution_count": 55,
      "outputs": [
        {
          "output_type": "stream",
          "name": "stdout",
          "text": [
            "82\n"
          ]
        }
      ]
    },
    {
      "cell_type": "code",
      "source": [
        "gera_arquivos_java(path_projeto=path_projeto_src_java, nome_arquivo='arquivosjava.txt')"
      ],
      "metadata": {
        "colab": {
          "base_uri": "https://localhost:8080/"
        },
        "id": "bwhGQ4XKGuI7",
        "outputId": "bf9d25d8-5857-46cc-e0fb-161f1902da32"
      },
      "execution_count": 64,
      "outputs": [
        {
          "output_type": "stream",
          "name": "stdout",
          "text": [
            "Arquivo arquivosjava.txt gerado com sucesso!\n"
          ]
        }
      ]
    },
    {
      "cell_type": "code",
      "source": [
        "lista_linhas_arquivos_cassandra, lista_colunas_arquivos_cassandra = cria_duas_listas_arquivos_analisados(nome_arquivo='arquivosjava.txt', diretorio_src_main=path_projeto_src_java)"
      ],
      "metadata": {
        "id": "elOHi3VNHSpZ"
      },
      "execution_count": 65,
      "outputs": []
    },
    {
      "cell_type": "code",
      "source": [
        "dicionario_dsm = cria_dicionario_dsm(lista_linhas_arquivos_cassandra, lista_colunas_arquivos_cassandra, path_main=path_projeto_src_java)"
      ],
      "metadata": {
        "colab": {
          "base_uri": "https://localhost:8080/"
        },
        "id": "q4GlWV4lHclk",
        "outputId": "7d907e3d-2586-475b-e353-1348771dc731"
      },
      "execution_count": 67,
      "outputs": [
        {
          "output_type": "stream",
          "name": "stdout",
          "text": [
            "Tempo para criar o dicionarário dsm: 0:00:00.224282, itens percorridos: 82\n"
          ]
        }
      ]
    },
    {
      "cell_type": "code",
      "source": [
        "dicionario_dsm"
      ],
      "metadata": {
        "id": "9HnLwi9_HdAH"
      },
      "execution_count": null,
      "outputs": []
    },
    {
      "cell_type": "code",
      "source": [
        "for k,v in dicionario_dsm.items():\n",
        "  print(k)"
      ],
      "metadata": {
        "colab": {
          "base_uri": "https://localhost:8080/"
        },
        "id": "3qZ5lBbsHlSb",
        "outputId": "c713676a-7eae-41a6-cde1-85115799b7da"
      },
      "execution_count": 69,
      "outputs": [
        {
          "output_type": "stream",
          "name": "stdout",
          "text": [
            "module-info.java\n",
            "com.google.gson.ReflectionAccessFilter.java\n",
            "com.google.gson.FormattingStyle.java\n",
            "com.google.gson.stream.JsonToken.java\n",
            "com.google.gson.stream.JsonWriter.java\n",
            "com.google.gson.stream.JsonScope.java\n",
            "com.google.gson.stream.package-info.java\n",
            "com.google.gson.stream.MalformedJsonException.java\n",
            "com.google.gson.stream.JsonReader.java\n",
            "com.google.gson.InstanceCreator.java\n",
            "com.google.gson.TypeAdapterFactory.java\n",
            "com.google.gson.JsonParser.java\n",
            "com.google.gson.ToNumberPolicy.java\n",
            "com.google.gson.JsonDeserializer.java\n",
            "com.google.gson.FieldNamingPolicy.java\n",
            "com.google.gson.JsonParseException.java\n",
            "com.google.gson.JsonStreamParser.java\n",
            "com.google.gson.LongSerializationPolicy.java\n",
            "com.google.gson.ToNumberStrategy.java\n",
            "com.google.gson.TypeAdapter.java\n",
            "com.google.gson.internal.$Gson$Types.java\n",
            "com.google.gson.internal.$Gson$Preconditions.java\n",
            "com.google.gson.internal.ReflectionAccessFilterHelper.java\n",
            "com.google.gson.internal.Primitives.java\n",
            "com.google.gson.internal.bind.CollectionTypeAdapterFactory.java\n",
            "com.google.gson.internal.bind.ArrayTypeAdapter.java\n",
            "com.google.gson.internal.bind.DateTypeAdapter.java\n",
            "com.google.gson.internal.bind.NumberTypeAdapter.java\n",
            "com.google.gson.internal.bind.util.ISO8601Utils.java\n",
            "com.google.gson.internal.bind.ReflectiveTypeAdapterFactory.java\n",
            "com.google.gson.internal.bind.TypeAdapterRuntimeTypeWrapper.java\n",
            "com.google.gson.internal.bind.SerializationDelegatingTypeAdapter.java\n",
            "com.google.gson.internal.bind.DefaultDateTypeAdapter.java\n",
            "com.google.gson.internal.bind.JsonTreeWriter.java\n",
            "com.google.gson.internal.bind.JsonAdapterAnnotationTypeAdapterFactory.java\n",
            "com.google.gson.internal.bind.ObjectTypeAdapter.java\n",
            "com.google.gson.internal.bind.TreeTypeAdapter.java\n",
            "com.google.gson.internal.bind.TypeAdapters.java\n",
            "com.google.gson.internal.bind.JsonTreeReader.java\n",
            "com.google.gson.internal.bind.MapTypeAdapterFactory.java\n",
            "com.google.gson.internal.Streams.java\n",
            "com.google.gson.internal.Excluder.java\n",
            "com.google.gson.internal.PreJava9DateFormatProvider.java\n",
            "com.google.gson.internal.JsonReaderInternalAccess.java\n",
            "com.google.gson.internal.sql.SqlDateTypeAdapter.java\n",
            "com.google.gson.internal.sql.SqlTypesSupport.java\n",
            "com.google.gson.internal.sql.SqlTimestampTypeAdapter.java\n",
            "com.google.gson.internal.sql.SqlTimeTypeAdapter.java\n",
            "com.google.gson.internal.ConstructorConstructor.java\n",
            "com.google.gson.internal.JavaVersion.java\n",
            "com.google.gson.internal.LinkedTreeMap.java\n",
            "com.google.gson.internal.package-info.java\n",
            "com.google.gson.internal.ObjectConstructor.java\n",
            "com.google.gson.internal.TroubleshootingGuide.java\n",
            "com.google.gson.internal.LazilyParsedNumber.java\n",
            "com.google.gson.internal.NonNullElementWrapperList.java\n",
            "com.google.gson.internal.UnsafeAllocator.java\n",
            "com.google.gson.internal.reflect.ReflectionHelper.java\n",
            "com.google.gson.ExclusionStrategy.java\n",
            "com.google.gson.JsonSerializationContext.java\n",
            "com.google.gson.JsonArray.java\n",
            "com.google.gson.annotations.SerializedName.java\n",
            "com.google.gson.annotations.JsonAdapter.java\n",
            "com.google.gson.annotations.Since.java\n",
            "com.google.gson.annotations.package-info.java\n",
            "com.google.gson.annotations.Until.java\n",
            "com.google.gson.annotations.Expose.java\n",
            "com.google.gson.JsonNull.java\n",
            "com.google.gson.JsonElement.java\n",
            "com.google.gson.FieldAttributes.java\n",
            "com.google.gson.JsonIOException.java\n",
            "com.google.gson.FieldNamingStrategy.java\n",
            "com.google.gson.package-info.java\n",
            "com.google.gson.Gson.java\n",
            "com.google.gson.JsonDeserializationContext.java\n",
            "com.google.gson.JsonObject.java\n",
            "com.google.gson.JsonPrimitive.java\n",
            "com.google.gson.GsonBuilder.java\n",
            "com.google.gson.JsonSyntaxException.java\n",
            "com.google.gson.JsonSerializer.java\n",
            "com.google.gson.reflect.TypeToken.java\n",
            "com.google.gson.reflect.package-info.java\n"
          ]
        }
      ]
    },
    {
      "cell_type": "code",
      "source": [
        "lista_a_usa_b = get_arquivos_A_usa_B('com.google.gson.JsonArray.java', dicionario_dsm)"
      ],
      "metadata": {
        "colab": {
          "base_uri": "https://localhost:8080/"
        },
        "id": "RHQu9qo4Htzh",
        "outputId": "5fb08fab-caa0-4827-8edc-b8049c6e8f94"
      },
      "execution_count": 78,
      "outputs": [
        {
          "output_type": "stream",
          "name": "stdout",
          "text": [
            "1, ('com.google.gson.JsonArray.java', 'com.google.gson.internal.NonNullElementWrapperList.java', 1)\n"
          ]
        }
      ]
    },
    {
      "cell_type": "code",
      "source": [
        "dicionario_dsm_depende_de = cria_dicionario_dsm_depende_de(lista_linhas_arquivos_cassandra, lista_colunas_arquivos_cassandra, path_main=path_projeto_src_java)"
      ],
      "metadata": {
        "colab": {
          "base_uri": "https://localhost:8080/"
        },
        "id": "kwOmjAsQIZbz",
        "outputId": "98a1a5a6-7723-44b3-ebd5-c4bc27dd5145"
      },
      "execution_count": 79,
      "outputs": [
        {
          "output_type": "stream",
          "name": "stdout",
          "text": [
            "Tempo para criar o dicionarário dsm: 0:00:00.672902, itens percorridos: 82\n"
          ]
        }
      ]
    },
    {
      "cell_type": "code",
      "source": [
        "for k, v in dicionario_dsm_depende_de.items():\n",
        "  print(k)"
      ],
      "metadata": {
        "colab": {
          "base_uri": "https://localhost:8080/"
        },
        "id": "-GA2-4qHJUIJ",
        "outputId": "901e993a-a48c-4d7b-9c7e-cb355c50f2d8"
      },
      "execution_count": 80,
      "outputs": [
        {
          "output_type": "stream",
          "name": "stdout",
          "text": [
            "module-info.java\n",
            "com.google.gson.ReflectionAccessFilter.java\n",
            "com.google.gson.FormattingStyle.java\n",
            "com.google.gson.stream.JsonToken.java\n",
            "com.google.gson.stream.JsonWriter.java\n",
            "com.google.gson.stream.JsonScope.java\n",
            "com.google.gson.stream.package-info.java\n",
            "com.google.gson.stream.MalformedJsonException.java\n",
            "com.google.gson.stream.JsonReader.java\n",
            "com.google.gson.InstanceCreator.java\n",
            "com.google.gson.TypeAdapterFactory.java\n",
            "com.google.gson.JsonParser.java\n",
            "com.google.gson.ToNumberPolicy.java\n",
            "com.google.gson.JsonDeserializer.java\n",
            "com.google.gson.FieldNamingPolicy.java\n",
            "com.google.gson.JsonParseException.java\n",
            "com.google.gson.JsonStreamParser.java\n",
            "com.google.gson.LongSerializationPolicy.java\n",
            "com.google.gson.ToNumberStrategy.java\n",
            "com.google.gson.TypeAdapter.java\n",
            "com.google.gson.internal.$Gson$Types.java\n",
            "com.google.gson.internal.$Gson$Preconditions.java\n",
            "com.google.gson.internal.ReflectionAccessFilterHelper.java\n",
            "com.google.gson.internal.Primitives.java\n",
            "com.google.gson.internal.bind.CollectionTypeAdapterFactory.java\n",
            "com.google.gson.internal.bind.ArrayTypeAdapter.java\n",
            "com.google.gson.internal.bind.DateTypeAdapter.java\n",
            "com.google.gson.internal.bind.NumberTypeAdapter.java\n",
            "com.google.gson.internal.bind.util.ISO8601Utils.java\n",
            "com.google.gson.internal.bind.ReflectiveTypeAdapterFactory.java\n",
            "com.google.gson.internal.bind.TypeAdapterRuntimeTypeWrapper.java\n",
            "com.google.gson.internal.bind.SerializationDelegatingTypeAdapter.java\n",
            "com.google.gson.internal.bind.DefaultDateTypeAdapter.java\n",
            "com.google.gson.internal.bind.JsonTreeWriter.java\n",
            "com.google.gson.internal.bind.JsonAdapterAnnotationTypeAdapterFactory.java\n",
            "com.google.gson.internal.bind.ObjectTypeAdapter.java\n",
            "com.google.gson.internal.bind.TreeTypeAdapter.java\n",
            "com.google.gson.internal.bind.TypeAdapters.java\n",
            "com.google.gson.internal.bind.JsonTreeReader.java\n",
            "com.google.gson.internal.bind.MapTypeAdapterFactory.java\n",
            "com.google.gson.internal.Streams.java\n",
            "com.google.gson.internal.Excluder.java\n",
            "com.google.gson.internal.PreJava9DateFormatProvider.java\n",
            "com.google.gson.internal.JsonReaderInternalAccess.java\n",
            "com.google.gson.internal.sql.SqlDateTypeAdapter.java\n",
            "com.google.gson.internal.sql.SqlTypesSupport.java\n",
            "com.google.gson.internal.sql.SqlTimestampTypeAdapter.java\n",
            "com.google.gson.internal.sql.SqlTimeTypeAdapter.java\n",
            "com.google.gson.internal.ConstructorConstructor.java\n",
            "com.google.gson.internal.JavaVersion.java\n",
            "com.google.gson.internal.LinkedTreeMap.java\n",
            "com.google.gson.internal.package-info.java\n",
            "com.google.gson.internal.ObjectConstructor.java\n",
            "com.google.gson.internal.TroubleshootingGuide.java\n",
            "com.google.gson.internal.LazilyParsedNumber.java\n",
            "com.google.gson.internal.NonNullElementWrapperList.java\n",
            "com.google.gson.internal.UnsafeAllocator.java\n",
            "com.google.gson.internal.reflect.ReflectionHelper.java\n",
            "com.google.gson.ExclusionStrategy.java\n",
            "com.google.gson.JsonSerializationContext.java\n",
            "com.google.gson.JsonArray.java\n",
            "com.google.gson.annotations.SerializedName.java\n",
            "com.google.gson.annotations.JsonAdapter.java\n",
            "com.google.gson.annotations.Since.java\n",
            "com.google.gson.annotations.package-info.java\n",
            "com.google.gson.annotations.Until.java\n",
            "com.google.gson.annotations.Expose.java\n",
            "com.google.gson.JsonNull.java\n",
            "com.google.gson.JsonElement.java\n",
            "com.google.gson.FieldAttributes.java\n",
            "com.google.gson.JsonIOException.java\n",
            "com.google.gson.FieldNamingStrategy.java\n",
            "com.google.gson.package-info.java\n",
            "com.google.gson.Gson.java\n",
            "com.google.gson.JsonDeserializationContext.java\n",
            "com.google.gson.JsonObject.java\n",
            "com.google.gson.JsonPrimitive.java\n",
            "com.google.gson.GsonBuilder.java\n",
            "com.google.gson.JsonSyntaxException.java\n",
            "com.google.gson.JsonSerializer.java\n",
            "com.google.gson.reflect.TypeToken.java\n",
            "com.google.gson.reflect.package-info.java\n"
          ]
        }
      ]
    },
    {
      "cell_type": "code",
      "source": [
        "lista_x_depende_y = get_arquivos_dependem_de_A('com.google.gson.JsonArray.java', dicionario_dsm_depende_de)"
      ],
      "metadata": {
        "colab": {
          "base_uri": "https://localhost:8080/"
        },
        "id": "I41W63ZoJYWw",
        "outputId": "a3bdf3b7-d194-4ea3-b705-3f40cc2c8e67"
      },
      "execution_count": 81,
      "outputs": [
        {
          "output_type": "stream",
          "name": "stdout",
          "text": [
            "1, ('com.google.gson.internal.bind.JsonTreeWriter.java', 'com.google.gson.JsonArray.java', 1)\n",
            "2, ('com.google.gson.internal.bind.TypeAdapters.java', 'com.google.gson.JsonArray.java', 1)\n",
            "3, ('com.google.gson.internal.bind.JsonTreeReader.java', 'com.google.gson.JsonArray.java', 1)\n"
          ]
        }
      ]
    },
    {
      "cell_type": "code",
      "source": [
        "lista_arquivos_criticos = list_critical_files\n",
        "print(len(lista_arquivos_criticos))\n",
        "print(lista_arquivos_criticos)"
      ],
      "metadata": {
        "colab": {
          "base_uri": "https://localhost:8080/"
        },
        "id": "ou0r_N8-Jj7x",
        "outputId": "b3a5db25-3d0f-455d-9c25-217baac66570"
      },
      "execution_count": 82,
      "outputs": [
        {
          "output_type": "stream",
          "name": "stdout",
          "text": [
            "46\n",
            "[('$Gson$Types.java', 376, 26), ('CollectionTypeAdapter.java', 302, 12), ('ConstructorConstructor.java', 852, 30), ('DefaultDateTypeAdapter.java', 555, 17), ('DefaultTypeAdapters.java', 3658, 88), ('Escaper.java', 510, 13), ('Excluder.java', 355, 14), ('FieldAttributes.java', 647, 37), ('FieldNamingPolicy.java', 416, 19), ('Gson.java', 4288, 225), ('GsonBuilder.java', 2996, 127), ('JsonAdapterAnnotationTypeAdapterFactory.java', 416, 18), ('JsonArray.java', 853, 42), ('JsonArrayDeserializationVisitor.java', 410, 19), ('JsonDeserializationContext.java', 303, 12), ('JsonDeserializationVisitor.java', 476, 32), ('JsonElement.java', 689, 29), ('JsonNull.java', 289, 26), ('JsonObject.java', 649, 54), ('JsonObjectDeserializationVisitor.java', 498, 24), ('JsonParser.java', 4861, 35), ('JsonPrimitive.java', 964, 48), ('JsonPrintFormatter.java', 726, 13), ('JsonReader.java', 4407, 83), ('JsonSerializationVisitor.java', 1116, 56), ('JsonWriter.java', 1304, 36), ('LazilyParsedNumber.java', 499, 13), ('LinkedTreeMap.java', 2661, 20), ('MapTypeAdapterFactory.java', 551, 26), ('MappedObjectConstructor.java', 476, 24), ('MiniGson.java', 530, 16), ('ObjectNavigator.java', 934, 39), ('ObjectTypeAdapter.java', 357, 20), ('ObjectTypePair.java', 416, 14), ('ParameterizedTypeHandlerMap.java', 718, 26), ('Preconditions.java', 296, 15), ('ProtoTypeAdapter.java', 738, 19), ('ReflectingFieldNavigator.java', 462, 15), ('ReflectiveTypeAdapter.java', 732, 20), ('ReflectiveTypeAdapterFactory.java', 1273, 48), ('RuntimeTypeAdapterFactory.java', 421, 25), ('Streams.java', 605, 30), ('TreeTypeAdapter.java', 331, 23), ('TypeAdapter.java', 1036, 37), ('TypeAdapters.java', 2574, 78), ('TypeToken.java', 1352, 24)]\n"
          ]
        }
      ]
    },
    {
      "cell_type": "code",
      "source": [
        "# arquivosjava.txt e dicionario_dsm\n",
        "get_dict_file_a_uses_file_b(lista_arquivos_criticos, content='arquivosjava.txt', my_dictionary=dicionario_dsm, path_main=path_projeto_src_java)"
      ],
      "metadata": {
        "colab": {
          "base_uri": "https://localhost:8080/"
        },
        "id": "AL9fhdneJywR",
        "outputId": "3cc6cf7e-eaa0-4e78-c867-06916f31cdbf"
      },
      "execution_count": 83,
      "outputs": [
        {
          "output_type": "execute_result",
          "data": {
            "text/plain": [
              "{'com.google.gson.internal.$Gson$Types.java': [],\n",
              " 'com.google.gson.internal.ConstructorConstructor.java': ['com.google.gson.ReflectionAccessFilter.java',\n",
              "  'com.google.gson.InstanceCreator.java',\n",
              "  'com.google.gson.internal.reflect.ReflectionHelper.java',\n",
              "  'com.google.gson.JsonIOException.java',\n",
              "  'com.google.gson.reflect.TypeToken.java'],\n",
              " 'com.google.gson.internal.bind.DefaultDateTypeAdapter.java': ['com.google.gson.stream.JsonToken.java',\n",
              "  'com.google.gson.stream.JsonWriter.java',\n",
              "  'com.google.gson.stream.JsonReader.java',\n",
              "  'com.google.gson.TypeAdapterFactory.java',\n",
              "  'com.google.gson.TypeAdapter.java',\n",
              "  'com.google.gson.internal.bind.util.ISO8601Utils.java',\n",
              "  'com.google.gson.internal.PreJava9DateFormatProvider.java',\n",
              "  'com.google.gson.internal.JavaVersion.java',\n",
              "  'com.google.gson.JsonSyntaxException.java'],\n",
              " 'com.google.gson.internal.Excluder.java': ['com.google.gson.stream.JsonWriter.java',\n",
              "  'com.google.gson.stream.JsonReader.java',\n",
              "  'com.google.gson.TypeAdapterFactory.java',\n",
              "  'com.google.gson.TypeAdapter.java',\n",
              "  'com.google.gson.ExclusionStrategy.java',\n",
              "  'com.google.gson.annotations.Since.java',\n",
              "  'com.google.gson.annotations.Until.java',\n",
              "  'com.google.gson.annotations.Expose.java',\n",
              "  'com.google.gson.FieldAttributes.java',\n",
              "  'com.google.gson.Gson.java',\n",
              "  'com.google.gson.reflect.TypeToken.java'],\n",
              " 'com.google.gson.FieldAttributes.java': [],\n",
              " 'com.google.gson.FieldNamingPolicy.java': [],\n",
              " 'com.google.gson.Gson.java': ['com.google.gson.stream.JsonToken.java',\n",
              "  'com.google.gson.stream.JsonWriter.java',\n",
              "  'com.google.gson.stream.MalformedJsonException.java',\n",
              "  'com.google.gson.stream.JsonReader.java',\n",
              "  'com.google.gson.internal.Primitives.java',\n",
              "  'com.google.gson.internal.bind.CollectionTypeAdapterFactory.java',\n",
              "  'com.google.gson.internal.bind.ArrayTypeAdapter.java',\n",
              "  'com.google.gson.internal.bind.DateTypeAdapter.java',\n",
              "  'com.google.gson.internal.bind.NumberTypeAdapter.java',\n",
              "  'com.google.gson.internal.bind.ReflectiveTypeAdapterFactory.java',\n",
              "  'com.google.gson.internal.bind.SerializationDelegatingTypeAdapter.java',\n",
              "  'com.google.gson.internal.bind.JsonTreeWriter.java',\n",
              "  'com.google.gson.internal.bind.JsonAdapterAnnotationTypeAdapterFactory.java',\n",
              "  'com.google.gson.internal.bind.ObjectTypeAdapter.java',\n",
              "  'com.google.gson.internal.bind.TypeAdapters.java',\n",
              "  'com.google.gson.internal.bind.JsonTreeReader.java',\n",
              "  'com.google.gson.internal.bind.MapTypeAdapterFactory.java',\n",
              "  'com.google.gson.internal.Streams.java',\n",
              "  'com.google.gson.internal.Excluder.java',\n",
              "  'com.google.gson.internal.sql.SqlTypesSupport.java',\n",
              "  'com.google.gson.internal.ConstructorConstructor.java',\n",
              "  'com.google.gson.internal.LazilyParsedNumber.java',\n",
              "  'com.google.gson.reflect.TypeToken.java'],\n",
              " 'com.google.gson.GsonBuilder.java': ['com.google.gson.stream.JsonWriter.java',\n",
              "  'com.google.gson.stream.JsonReader.java',\n",
              "  'com.google.gson.internal.$Gson$Preconditions.java',\n",
              "  'com.google.gson.internal.bind.DefaultDateTypeAdapter.java',\n",
              "  'com.google.gson.internal.bind.TreeTypeAdapter.java',\n",
              "  'com.google.gson.internal.bind.TypeAdapters.java',\n",
              "  'com.google.gson.internal.Excluder.java',\n",
              "  'com.google.gson.internal.sql.SqlTypesSupport.java',\n",
              "  'com.google.gson.annotations.Since.java',\n",
              "  'com.google.gson.annotations.Until.java',\n",
              "  'com.google.gson.reflect.TypeToken.java'],\n",
              " 'com.google.gson.internal.bind.JsonAdapterAnnotationTypeAdapterFactory.java': ['com.google.gson.TypeAdapterFactory.java',\n",
              "  'com.google.gson.JsonDeserializer.java',\n",
              "  'com.google.gson.TypeAdapter.java',\n",
              "  'com.google.gson.internal.ConstructorConstructor.java',\n",
              "  'com.google.gson.annotations.JsonAdapter.java',\n",
              "  'com.google.gson.Gson.java',\n",
              "  'com.google.gson.JsonSerializer.java',\n",
              "  'com.google.gson.reflect.TypeToken.java'],\n",
              " 'com.google.gson.JsonArray.java': ['com.google.gson.internal.NonNullElementWrapperList.java'],\n",
              " 'com.google.gson.JsonDeserializationContext.java': [],\n",
              " 'com.google.gson.JsonElement.java': ['com.google.gson.stream.JsonWriter.java',\n",
              "  'com.google.gson.internal.Streams.java'],\n",
              " 'com.google.gson.JsonNull.java': [],\n",
              " 'com.google.gson.JsonObject.java': ['com.google.gson.internal.LinkedTreeMap.java'],\n",
              " 'com.google.gson.JsonParser.java': ['com.google.gson.stream.JsonToken.java',\n",
              "  'com.google.gson.stream.MalformedJsonException.java',\n",
              "  'com.google.gson.stream.JsonReader.java',\n",
              "  'com.google.gson.internal.Streams.java'],\n",
              " 'com.google.gson.JsonPrimitive.java': ['com.google.gson.internal.LazilyParsedNumber.java'],\n",
              " 'com.google.gson.stream.JsonReader.java': ['com.google.gson.internal.bind.JsonTreeReader.java',\n",
              "  'com.google.gson.internal.JsonReaderInternalAccess.java',\n",
              "  'com.google.gson.internal.TroubleshootingGuide.java'],\n",
              " 'com.google.gson.stream.JsonWriter.java': ['com.google.gson.FormattingStyle.java'],\n",
              " 'com.google.gson.internal.LazilyParsedNumber.java': [],\n",
              " 'com.google.gson.internal.LinkedTreeMap.java': [],\n",
              " 'com.google.gson.internal.bind.MapTypeAdapterFactory.java': ['com.google.gson.stream.JsonToken.java',\n",
              "  'com.google.gson.stream.JsonWriter.java',\n",
              "  'com.google.gson.stream.JsonReader.java',\n",
              "  'com.google.gson.TypeAdapterFactory.java',\n",
              "  'com.google.gson.TypeAdapter.java',\n",
              "  'com.google.gson.internal.$Gson$Types.java',\n",
              "  'com.google.gson.internal.Streams.java',\n",
              "  'com.google.gson.internal.JsonReaderInternalAccess.java',\n",
              "  'com.google.gson.internal.ConstructorConstructor.java',\n",
              "  'com.google.gson.internal.ObjectConstructor.java',\n",
              "  'com.google.gson.JsonElement.java',\n",
              "  'com.google.gson.Gson.java',\n",
              "  'com.google.gson.JsonPrimitive.java',\n",
              "  'com.google.gson.JsonSyntaxException.java',\n",
              "  'com.google.gson.reflect.TypeToken.java'],\n",
              " 'com.google.gson.internal.bind.ObjectTypeAdapter.java': ['com.google.gson.stream.JsonToken.java',\n",
              "  'com.google.gson.stream.JsonWriter.java',\n",
              "  'com.google.gson.stream.JsonReader.java',\n",
              "  'com.google.gson.TypeAdapterFactory.java',\n",
              "  'com.google.gson.ToNumberPolicy.java',\n",
              "  'com.google.gson.ToNumberStrategy.java',\n",
              "  'com.google.gson.TypeAdapter.java',\n",
              "  'com.google.gson.internal.LinkedTreeMap.java',\n",
              "  'com.google.gson.Gson.java',\n",
              "  'com.google.gson.reflect.TypeToken.java'],\n",
              " 'com.google.gson.internal.$Gson$Preconditions.java': [],\n",
              " 'com.google.gson.internal.bind.ReflectiveTypeAdapterFactory.java': ['com.google.gson.ReflectionAccessFilter.java',\n",
              "  'com.google.gson.stream.JsonToken.java',\n",
              "  'com.google.gson.stream.JsonWriter.java',\n",
              "  'com.google.gson.stream.JsonReader.java',\n",
              "  'com.google.gson.TypeAdapterFactory.java',\n",
              "  'com.google.gson.JsonParseException.java',\n",
              "  'com.google.gson.TypeAdapter.java',\n",
              "  'com.google.gson.internal.$Gson$Types.java',\n",
              "  'com.google.gson.internal.ReflectionAccessFilterHelper.java',\n",
              "  'com.google.gson.internal.Primitives.java',\n",
              "  'com.google.gson.internal.Excluder.java',\n",
              "  'com.google.gson.internal.ConstructorConstructor.java',\n",
              "  'com.google.gson.internal.ObjectConstructor.java',\n",
              "  'com.google.gson.internal.TroubleshootingGuide.java',\n",
              "  'com.google.gson.internal.reflect.ReflectionHelper.java',\n",
              "  'com.google.gson.annotations.SerializedName.java',\n",
              "  'com.google.gson.annotations.JsonAdapter.java',\n",
              "  'com.google.gson.JsonIOException.java',\n",
              "  'com.google.gson.FieldNamingStrategy.java',\n",
              "  'com.google.gson.Gson.java',\n",
              "  'com.google.gson.JsonSyntaxException.java',\n",
              "  'com.google.gson.reflect.TypeToken.java'],\n",
              " 'com.google.gson.internal.Streams.java': ['com.google.gson.stream.JsonToken.java',\n",
              "  'com.google.gson.stream.JsonWriter.java',\n",
              "  'com.google.gson.stream.MalformedJsonException.java',\n",
              "  'com.google.gson.stream.JsonReader.java',\n",
              "  'com.google.gson.JsonParseException.java',\n",
              "  'com.google.gson.internal.bind.TypeAdapters.java',\n",
              "  'com.google.gson.JsonNull.java',\n",
              "  'com.google.gson.JsonElement.java',\n",
              "  'com.google.gson.JsonIOException.java',\n",
              "  'com.google.gson.JsonSyntaxException.java'],\n",
              " 'com.google.gson.internal.bind.TreeTypeAdapter.java': ['com.google.gson.stream.JsonWriter.java',\n",
              "  'com.google.gson.stream.JsonReader.java',\n",
              "  'com.google.gson.TypeAdapterFactory.java',\n",
              "  'com.google.gson.JsonDeserializer.java',\n",
              "  'com.google.gson.JsonParseException.java',\n",
              "  'com.google.gson.TypeAdapter.java',\n",
              "  'com.google.gson.internal.$Gson$Preconditions.java',\n",
              "  'com.google.gson.internal.Streams.java',\n",
              "  'com.google.gson.JsonSerializationContext.java',\n",
              "  'com.google.gson.JsonElement.java',\n",
              "  'com.google.gson.Gson.java',\n",
              "  'com.google.gson.JsonDeserializationContext.java',\n",
              "  'com.google.gson.JsonSerializer.java',\n",
              "  'com.google.gson.reflect.TypeToken.java'],\n",
              " 'com.google.gson.TypeAdapter.java': ['com.google.gson.stream.JsonToken.java',\n",
              "  'com.google.gson.stream.JsonWriter.java',\n",
              "  'com.google.gson.stream.JsonReader.java',\n",
              "  'com.google.gson.internal.bind.JsonTreeWriter.java',\n",
              "  'com.google.gson.internal.bind.JsonTreeReader.java'],\n",
              " 'com.google.gson.internal.bind.TypeAdapters.java': ['com.google.gson.stream.JsonToken.java',\n",
              "  'com.google.gson.stream.JsonWriter.java',\n",
              "  'com.google.gson.stream.JsonReader.java',\n",
              "  'com.google.gson.TypeAdapterFactory.java',\n",
              "  'com.google.gson.TypeAdapter.java',\n",
              "  'com.google.gson.internal.TroubleshootingGuide.java',\n",
              "  'com.google.gson.internal.LazilyParsedNumber.java',\n",
              "  'com.google.gson.JsonArray.java',\n",
              "  'com.google.gson.annotations.SerializedName.java',\n",
              "  'com.google.gson.JsonNull.java',\n",
              "  'com.google.gson.JsonElement.java',\n",
              "  'com.google.gson.JsonIOException.java',\n",
              "  'com.google.gson.Gson.java',\n",
              "  'com.google.gson.JsonObject.java',\n",
              "  'com.google.gson.JsonPrimitive.java',\n",
              "  'com.google.gson.JsonSyntaxException.java',\n",
              "  'com.google.gson.reflect.TypeToken.java'],\n",
              " 'com.google.gson.reflect.TypeToken.java': ['com.google.gson.internal.$Gson$Types.java',\n",
              "  'com.google.gson.internal.TroubleshootingGuide.java']}"
            ]
          },
          "metadata": {},
          "execution_count": 83
        }
      ]
    },
    {
      "cell_type": "code",
      "source": [
        "get_dict_file_a_uses_file_b(lista_arquivos_criticos, content='arquivosjava.txt', my_dictionary=dicionario_dsm_depende_de, path_main=path_projeto_src_java)"
      ],
      "metadata": {
        "colab": {
          "base_uri": "https://localhost:8080/"
        },
        "id": "xP9FA1hvJ54z",
        "outputId": "35901d8e-c8ce-4c4a-fcaa-2530e3fb2e18"
      },
      "execution_count": 84,
      "outputs": [
        {
          "output_type": "execute_result",
          "data": {
            "text/plain": [
              "{'com.google.gson.internal.$Gson$Types.java': ['com.google.gson.internal.$Gson$Types.java',\n",
              "  'com.google.gson.internal.$Gson$Types.java',\n",
              "  'com.google.gson.internal.$Gson$Types.java',\n",
              "  'com.google.gson.internal.$Gson$Types.java',\n",
              "  'com.google.gson.internal.$Gson$Types.java'],\n",
              " 'com.google.gson.internal.ConstructorConstructor.java': ['com.google.gson.internal.ConstructorConstructor.java',\n",
              "  'com.google.gson.internal.ConstructorConstructor.java',\n",
              "  'com.google.gson.internal.ConstructorConstructor.java',\n",
              "  'com.google.gson.internal.ConstructorConstructor.java',\n",
              "  'com.google.gson.internal.ConstructorConstructor.java'],\n",
              " 'com.google.gson.internal.bind.DefaultDateTypeAdapter.java': ['com.google.gson.internal.bind.DefaultDateTypeAdapter.java'],\n",
              " 'com.google.gson.internal.Excluder.java': ['com.google.gson.internal.Excluder.java',\n",
              "  'com.google.gson.internal.Excluder.java',\n",
              "  'com.google.gson.internal.Excluder.java'],\n",
              " 'com.google.gson.FieldAttributes.java': ['com.google.gson.FieldAttributes.java'],\n",
              " 'com.google.gson.FieldNamingPolicy.java': [],\n",
              " 'com.google.gson.Gson.java': ['com.google.gson.Gson.java',\n",
              "  'com.google.gson.Gson.java',\n",
              "  'com.google.gson.Gson.java',\n",
              "  'com.google.gson.Gson.java',\n",
              "  'com.google.gson.Gson.java',\n",
              "  'com.google.gson.Gson.java',\n",
              "  'com.google.gson.Gson.java',\n",
              "  'com.google.gson.Gson.java',\n",
              "  'com.google.gson.Gson.java',\n",
              "  'com.google.gson.Gson.java',\n",
              "  'com.google.gson.Gson.java',\n",
              "  'com.google.gson.Gson.java',\n",
              "  'com.google.gson.Gson.java',\n",
              "  'com.google.gson.Gson.java',\n",
              "  'com.google.gson.Gson.java',\n",
              "  'com.google.gson.Gson.java'],\n",
              " 'com.google.gson.GsonBuilder.java': ['com.google.gson.GsonBuilder.java',\n",
              "  'com.google.gson.GsonBuilder.java'],\n",
              " 'com.google.gson.internal.bind.JsonAdapterAnnotationTypeAdapterFactory.java': ['com.google.gson.internal.bind.JsonAdapterAnnotationTypeAdapterFactory.java'],\n",
              " 'com.google.gson.JsonArray.java': ['com.google.gson.JsonArray.java',\n",
              "  'com.google.gson.JsonArray.java',\n",
              "  'com.google.gson.JsonArray.java'],\n",
              " 'com.google.gson.JsonDeserializationContext.java': ['com.google.gson.JsonDeserializationContext.java'],\n",
              " 'com.google.gson.JsonElement.java': ['com.google.gson.JsonElement.java',\n",
              "  'com.google.gson.JsonElement.java',\n",
              "  'com.google.gson.JsonElement.java',\n",
              "  'com.google.gson.JsonElement.java',\n",
              "  'com.google.gson.JsonElement.java',\n",
              "  'com.google.gson.JsonElement.java'],\n",
              " 'com.google.gson.JsonNull.java': ['com.google.gson.JsonNull.java',\n",
              "  'com.google.gson.JsonNull.java',\n",
              "  'com.google.gson.JsonNull.java',\n",
              "  'com.google.gson.JsonNull.java'],\n",
              " 'com.google.gson.JsonObject.java': ['com.google.gson.JsonObject.java',\n",
              "  'com.google.gson.JsonObject.java',\n",
              "  'com.google.gson.JsonObject.java'],\n",
              " 'com.google.gson.JsonParser.java': [],\n",
              " 'com.google.gson.JsonPrimitive.java': ['com.google.gson.JsonPrimitive.java',\n",
              "  'com.google.gson.JsonPrimitive.java',\n",
              "  'com.google.gson.JsonPrimitive.java',\n",
              "  'com.google.gson.JsonPrimitive.java'],\n",
              " 'com.google.gson.stream.JsonReader.java': ['com.google.gson.stream.JsonReader.java',\n",
              "  'com.google.gson.stream.JsonReader.java',\n",
              "  'com.google.gson.stream.JsonReader.java',\n",
              "  'com.google.gson.stream.JsonReader.java',\n",
              "  'com.google.gson.stream.JsonReader.java',\n",
              "  'com.google.gson.stream.JsonReader.java',\n",
              "  'com.google.gson.stream.JsonReader.java',\n",
              "  'com.google.gson.stream.JsonReader.java',\n",
              "  'com.google.gson.stream.JsonReader.java',\n",
              "  'com.google.gson.stream.JsonReader.java',\n",
              "  'com.google.gson.stream.JsonReader.java',\n",
              "  'com.google.gson.stream.JsonReader.java',\n",
              "  'com.google.gson.stream.JsonReader.java',\n",
              "  'com.google.gson.stream.JsonReader.java',\n",
              "  'com.google.gson.stream.JsonReader.java',\n",
              "  'com.google.gson.stream.JsonReader.java',\n",
              "  'com.google.gson.stream.JsonReader.java',\n",
              "  'com.google.gson.stream.JsonReader.java',\n",
              "  'com.google.gson.stream.JsonReader.java',\n",
              "  'com.google.gson.stream.JsonReader.java',\n",
              "  'com.google.gson.stream.JsonReader.java',\n",
              "  'com.google.gson.stream.JsonReader.java',\n",
              "  'com.google.gson.stream.JsonReader.java',\n",
              "  'com.google.gson.stream.JsonReader.java',\n",
              "  'com.google.gson.stream.JsonReader.java'],\n",
              " 'com.google.gson.stream.JsonWriter.java': ['com.google.gson.stream.JsonWriter.java',\n",
              "  'com.google.gson.stream.JsonWriter.java',\n",
              "  'com.google.gson.stream.JsonWriter.java',\n",
              "  'com.google.gson.stream.JsonWriter.java',\n",
              "  'com.google.gson.stream.JsonWriter.java',\n",
              "  'com.google.gson.stream.JsonWriter.java',\n",
              "  'com.google.gson.stream.JsonWriter.java',\n",
              "  'com.google.gson.stream.JsonWriter.java',\n",
              "  'com.google.gson.stream.JsonWriter.java',\n",
              "  'com.google.gson.stream.JsonWriter.java',\n",
              "  'com.google.gson.stream.JsonWriter.java',\n",
              "  'com.google.gson.stream.JsonWriter.java',\n",
              "  'com.google.gson.stream.JsonWriter.java',\n",
              "  'com.google.gson.stream.JsonWriter.java',\n",
              "  'com.google.gson.stream.JsonWriter.java',\n",
              "  'com.google.gson.stream.JsonWriter.java',\n",
              "  'com.google.gson.stream.JsonWriter.java',\n",
              "  'com.google.gson.stream.JsonWriter.java',\n",
              "  'com.google.gson.stream.JsonWriter.java',\n",
              "  'com.google.gson.stream.JsonWriter.java',\n",
              "  'com.google.gson.stream.JsonWriter.java',\n",
              "  'com.google.gson.stream.JsonWriter.java'],\n",
              " 'com.google.gson.internal.LazilyParsedNumber.java': ['com.google.gson.internal.LazilyParsedNumber.java',\n",
              "  'com.google.gson.internal.LazilyParsedNumber.java',\n",
              "  'com.google.gson.internal.LazilyParsedNumber.java',\n",
              "  'com.google.gson.internal.LazilyParsedNumber.java'],\n",
              " 'com.google.gson.internal.LinkedTreeMap.java': ['com.google.gson.internal.LinkedTreeMap.java',\n",
              "  'com.google.gson.internal.LinkedTreeMap.java'],\n",
              " 'com.google.gson.internal.bind.MapTypeAdapterFactory.java': ['com.google.gson.internal.bind.MapTypeAdapterFactory.java'],\n",
              " 'com.google.gson.internal.bind.ObjectTypeAdapter.java': ['com.google.gson.internal.bind.ObjectTypeAdapter.java'],\n",
              " 'com.google.gson.internal.$Gson$Preconditions.java': ['com.google.gson.internal.$Gson$Preconditions.java',\n",
              "  'com.google.gson.internal.$Gson$Preconditions.java'],\n",
              " 'com.google.gson.internal.bind.ReflectiveTypeAdapterFactory.java': ['com.google.gson.internal.bind.ReflectiveTypeAdapterFactory.java'],\n",
              " 'com.google.gson.internal.Streams.java': ['com.google.gson.internal.Streams.java',\n",
              "  'com.google.gson.internal.Streams.java',\n",
              "  'com.google.gson.internal.Streams.java',\n",
              "  'com.google.gson.internal.Streams.java',\n",
              "  'com.google.gson.internal.Streams.java',\n",
              "  'com.google.gson.internal.Streams.java'],\n",
              " 'com.google.gson.internal.bind.TreeTypeAdapter.java': ['com.google.gson.internal.bind.TreeTypeAdapter.java'],\n",
              " 'com.google.gson.TypeAdapter.java': ['com.google.gson.TypeAdapter.java',\n",
              "  'com.google.gson.TypeAdapter.java',\n",
              "  'com.google.gson.TypeAdapter.java',\n",
              "  'com.google.gson.TypeAdapter.java',\n",
              "  'com.google.gson.TypeAdapter.java',\n",
              "  'com.google.gson.TypeAdapter.java',\n",
              "  'com.google.gson.TypeAdapter.java',\n",
              "  'com.google.gson.TypeAdapter.java',\n",
              "  'com.google.gson.TypeAdapter.java',\n",
              "  'com.google.gson.TypeAdapter.java',\n",
              "  'com.google.gson.TypeAdapter.java',\n",
              "  'com.google.gson.TypeAdapter.java',\n",
              "  'com.google.gson.TypeAdapter.java',\n",
              "  'com.google.gson.TypeAdapter.java',\n",
              "  'com.google.gson.TypeAdapter.java',\n",
              "  'com.google.gson.TypeAdapter.java',\n",
              "  'com.google.gson.TypeAdapter.java',\n",
              "  'com.google.gson.TypeAdapter.java'],\n",
              " 'com.google.gson.internal.bind.TypeAdapters.java': ['com.google.gson.internal.bind.TypeAdapters.java',\n",
              "  'com.google.gson.internal.bind.TypeAdapters.java',\n",
              "  'com.google.gson.internal.bind.TypeAdapters.java'],\n",
              " 'com.google.gson.reflect.TypeToken.java': ['com.google.gson.reflect.TypeToken.java',\n",
              "  'com.google.gson.reflect.TypeToken.java',\n",
              "  'com.google.gson.reflect.TypeToken.java',\n",
              "  'com.google.gson.reflect.TypeToken.java',\n",
              "  'com.google.gson.reflect.TypeToken.java',\n",
              "  'com.google.gson.reflect.TypeToken.java',\n",
              "  'com.google.gson.reflect.TypeToken.java',\n",
              "  'com.google.gson.reflect.TypeToken.java',\n",
              "  'com.google.gson.reflect.TypeToken.java',\n",
              "  'com.google.gson.reflect.TypeToken.java',\n",
              "  'com.google.gson.reflect.TypeToken.java',\n",
              "  'com.google.gson.reflect.TypeToken.java',\n",
              "  'com.google.gson.reflect.TypeToken.java',\n",
              "  'com.google.gson.reflect.TypeToken.java',\n",
              "  'com.google.gson.reflect.TypeToken.java',\n",
              "  'com.google.gson.reflect.TypeToken.java',\n",
              "  'com.google.gson.reflect.TypeToken.java',\n",
              "  'com.google.gson.reflect.TypeToken.java',\n",
              "  'com.google.gson.reflect.TypeToken.java']}"
            ]
          },
          "metadata": {},
          "execution_count": 84
        }
      ]
    },
    {
      "cell_type": "code",
      "source": [
        "dict_arquivos_dependentes_arquivos_criticos, lista_arquivos_impactados, l_ac, l_adac, l_tamanho_adac = mostra_lista_arquivos_dependentes(lista_arquivos_criticos, content='arquivosjava.txt', my_dictionary=dicionario_dsm_depende_de, path_main=path_projeto_src_java)"
      ],
      "metadata": {
        "colab": {
          "base_uri": "https://localhost:8080/"
        },
        "id": "M8AeemBhKEkB",
        "outputId": "583acbd0-dc25-46c1-eacc-74fb3498d5cd"
      },
      "execution_count": 85,
      "outputs": [
        {
          "output_type": "stream",
          "name": "stdout",
          "text": [
            "com.google.gson.internal.$Gson$Types.java ['com.google.gson.internal.bind.CollectionTypeAdapterFactory.java', 'com.google.gson.internal.bind.ArrayTypeAdapter.java', 'com.google.gson.internal.bind.ReflectiveTypeAdapterFactory.java', 'com.google.gson.internal.bind.MapTypeAdapterFactory.java', 'com.google.gson.reflect.TypeToken.java']\n",
            "com.google.gson.internal.ConstructorConstructor.java ['com.google.gson.internal.bind.CollectionTypeAdapterFactory.java', 'com.google.gson.internal.bind.ReflectiveTypeAdapterFactory.java', 'com.google.gson.internal.bind.JsonAdapterAnnotationTypeAdapterFactory.java', 'com.google.gson.internal.bind.MapTypeAdapterFactory.java', 'com.google.gson.Gson.java']\n",
            "com.google.gson.internal.bind.DefaultDateTypeAdapter.java ['com.google.gson.GsonBuilder.java']\n",
            "com.google.gson.internal.Excluder.java ['com.google.gson.internal.bind.ReflectiveTypeAdapterFactory.java', 'com.google.gson.Gson.java', 'com.google.gson.GsonBuilder.java']\n",
            "com.google.gson.FieldAttributes.java ['com.google.gson.internal.Excluder.java']\n",
            "com.google.gson.FieldNamingPolicy.java []\n",
            "com.google.gson.Gson.java ['com.google.gson.internal.bind.CollectionTypeAdapterFactory.java', 'com.google.gson.internal.bind.ArrayTypeAdapter.java', 'com.google.gson.internal.bind.DateTypeAdapter.java', 'com.google.gson.internal.bind.NumberTypeAdapter.java', 'com.google.gson.internal.bind.ReflectiveTypeAdapterFactory.java', 'com.google.gson.internal.bind.TypeAdapterRuntimeTypeWrapper.java', 'com.google.gson.internal.bind.JsonAdapterAnnotationTypeAdapterFactory.java', 'com.google.gson.internal.bind.ObjectTypeAdapter.java', 'com.google.gson.internal.bind.TreeTypeAdapter.java', 'com.google.gson.internal.bind.TypeAdapters.java', 'com.google.gson.internal.bind.MapTypeAdapterFactory.java', 'com.google.gson.internal.Excluder.java', 'com.google.gson.internal.sql.SqlDateTypeAdapter.java', 'com.google.gson.internal.sql.SqlTimestampTypeAdapter.java', 'com.google.gson.internal.sql.SqlTimeTypeAdapter.java', 'com.google.gson.annotations.JsonAdapter.java']\n",
            "com.google.gson.GsonBuilder.java ['com.google.gson.annotations.Since.java', 'com.google.gson.annotations.Until.java']\n",
            "com.google.gson.internal.bind.JsonAdapterAnnotationTypeAdapterFactory.java ['com.google.gson.Gson.java']\n",
            "com.google.gson.JsonArray.java ['com.google.gson.internal.bind.JsonTreeWriter.java', 'com.google.gson.internal.bind.TypeAdapters.java', 'com.google.gson.internal.bind.JsonTreeReader.java']\n",
            "com.google.gson.JsonDeserializationContext.java ['com.google.gson.internal.bind.TreeTypeAdapter.java']\n",
            "com.google.gson.JsonElement.java ['com.google.gson.internal.bind.JsonTreeWriter.java', 'com.google.gson.internal.bind.TreeTypeAdapter.java', 'com.google.gson.internal.bind.TypeAdapters.java', 'com.google.gson.internal.bind.JsonTreeReader.java', 'com.google.gson.internal.bind.MapTypeAdapterFactory.java', 'com.google.gson.internal.Streams.java']\n",
            "com.google.gson.JsonNull.java ['com.google.gson.internal.bind.JsonTreeWriter.java', 'com.google.gson.internal.bind.TypeAdapters.java', 'com.google.gson.internal.bind.JsonTreeReader.java', 'com.google.gson.internal.Streams.java']\n",
            "com.google.gson.JsonObject.java ['com.google.gson.internal.bind.JsonTreeWriter.java', 'com.google.gson.internal.bind.TypeAdapters.java', 'com.google.gson.internal.bind.JsonTreeReader.java']\n",
            "com.google.gson.JsonParser.java []\n",
            "com.google.gson.JsonPrimitive.java ['com.google.gson.internal.bind.JsonTreeWriter.java', 'com.google.gson.internal.bind.TypeAdapters.java', 'com.google.gson.internal.bind.JsonTreeReader.java', 'com.google.gson.internal.bind.MapTypeAdapterFactory.java']\n",
            "com.google.gson.stream.JsonReader.java ['com.google.gson.JsonParser.java', 'com.google.gson.ToNumberPolicy.java', 'com.google.gson.JsonStreamParser.java', 'com.google.gson.ToNumberStrategy.java', 'com.google.gson.TypeAdapter.java', 'com.google.gson.internal.bind.CollectionTypeAdapterFactory.java', 'com.google.gson.internal.bind.ArrayTypeAdapter.java', 'com.google.gson.internal.bind.DateTypeAdapter.java', 'com.google.gson.internal.bind.NumberTypeAdapter.java', 'com.google.gson.internal.bind.ReflectiveTypeAdapterFactory.java', 'com.google.gson.internal.bind.TypeAdapterRuntimeTypeWrapper.java', 'com.google.gson.internal.bind.DefaultDateTypeAdapter.java', 'com.google.gson.internal.bind.ObjectTypeAdapter.java', 'com.google.gson.internal.bind.TreeTypeAdapter.java', 'com.google.gson.internal.bind.TypeAdapters.java', 'com.google.gson.internal.bind.JsonTreeReader.java', 'com.google.gson.internal.bind.MapTypeAdapterFactory.java', 'com.google.gson.internal.Streams.java', 'com.google.gson.internal.Excluder.java', 'com.google.gson.internal.JsonReaderInternalAccess.java', 'com.google.gson.internal.sql.SqlDateTypeAdapter.java', 'com.google.gson.internal.sql.SqlTimestampTypeAdapter.java', 'com.google.gson.internal.sql.SqlTimeTypeAdapter.java', 'com.google.gson.Gson.java', 'com.google.gson.GsonBuilder.java']\n",
            "com.google.gson.stream.JsonWriter.java ['com.google.gson.FormattingStyle.java', 'com.google.gson.TypeAdapter.java', 'com.google.gson.internal.bind.CollectionTypeAdapterFactory.java', 'com.google.gson.internal.bind.ArrayTypeAdapter.java', 'com.google.gson.internal.bind.DateTypeAdapter.java', 'com.google.gson.internal.bind.NumberTypeAdapter.java', 'com.google.gson.internal.bind.ReflectiveTypeAdapterFactory.java', 'com.google.gson.internal.bind.TypeAdapterRuntimeTypeWrapper.java', 'com.google.gson.internal.bind.DefaultDateTypeAdapter.java', 'com.google.gson.internal.bind.JsonTreeWriter.java', 'com.google.gson.internal.bind.ObjectTypeAdapter.java', 'com.google.gson.internal.bind.TreeTypeAdapter.java', 'com.google.gson.internal.bind.TypeAdapters.java', 'com.google.gson.internal.bind.MapTypeAdapterFactory.java', 'com.google.gson.internal.Streams.java', 'com.google.gson.internal.Excluder.java', 'com.google.gson.internal.sql.SqlDateTypeAdapter.java', 'com.google.gson.internal.sql.SqlTimestampTypeAdapter.java', 'com.google.gson.internal.sql.SqlTimeTypeAdapter.java', 'com.google.gson.JsonElement.java', 'com.google.gson.Gson.java', 'com.google.gson.GsonBuilder.java']\n",
            "com.google.gson.internal.LazilyParsedNumber.java ['com.google.gson.ToNumberPolicy.java', 'com.google.gson.internal.bind.TypeAdapters.java', 'com.google.gson.Gson.java', 'com.google.gson.JsonPrimitive.java']\n",
            "com.google.gson.internal.LinkedTreeMap.java ['com.google.gson.internal.bind.ObjectTypeAdapter.java', 'com.google.gson.JsonObject.java']\n",
            "com.google.gson.internal.bind.MapTypeAdapterFactory.java ['com.google.gson.Gson.java']\n",
            "com.google.gson.internal.bind.ObjectTypeAdapter.java ['com.google.gson.Gson.java']\n",
            "com.google.gson.internal.$Gson$Preconditions.java ['com.google.gson.internal.bind.TreeTypeAdapter.java', 'com.google.gson.GsonBuilder.java']\n",
            "com.google.gson.internal.bind.ReflectiveTypeAdapterFactory.java ['com.google.gson.Gson.java']\n",
            "com.google.gson.internal.Streams.java ['com.google.gson.JsonParser.java', 'com.google.gson.JsonStreamParser.java', 'com.google.gson.internal.bind.TreeTypeAdapter.java', 'com.google.gson.internal.bind.MapTypeAdapterFactory.java', 'com.google.gson.JsonElement.java', 'com.google.gson.Gson.java']\n",
            "com.google.gson.internal.bind.TreeTypeAdapter.java ['com.google.gson.GsonBuilder.java']\n",
            "com.google.gson.TypeAdapter.java ['com.google.gson.internal.bind.CollectionTypeAdapterFactory.java', 'com.google.gson.internal.bind.ArrayTypeAdapter.java', 'com.google.gson.internal.bind.DateTypeAdapter.java', 'com.google.gson.internal.bind.NumberTypeAdapter.java', 'com.google.gson.internal.bind.ReflectiveTypeAdapterFactory.java', 'com.google.gson.internal.bind.TypeAdapterRuntimeTypeWrapper.java', 'com.google.gson.internal.bind.SerializationDelegatingTypeAdapter.java', 'com.google.gson.internal.bind.DefaultDateTypeAdapter.java', 'com.google.gson.internal.bind.JsonAdapterAnnotationTypeAdapterFactory.java', 'com.google.gson.internal.bind.ObjectTypeAdapter.java', 'com.google.gson.internal.bind.TreeTypeAdapter.java', 'com.google.gson.internal.bind.TypeAdapters.java', 'com.google.gson.internal.bind.MapTypeAdapterFactory.java', 'com.google.gson.internal.Excluder.java', 'com.google.gson.internal.sql.SqlDateTypeAdapter.java', 'com.google.gson.internal.sql.SqlTimestampTypeAdapter.java', 'com.google.gson.internal.sql.SqlTimeTypeAdapter.java', 'com.google.gson.annotations.JsonAdapter.java']\n",
            "com.google.gson.internal.bind.TypeAdapters.java ['com.google.gson.internal.Streams.java', 'com.google.gson.Gson.java', 'com.google.gson.GsonBuilder.java']\n",
            "com.google.gson.reflect.TypeToken.java ['com.google.gson.TypeAdapterFactory.java', 'com.google.gson.internal.bind.CollectionTypeAdapterFactory.java', 'com.google.gson.internal.bind.ArrayTypeAdapter.java', 'com.google.gson.internal.bind.DateTypeAdapter.java', 'com.google.gson.internal.bind.NumberTypeAdapter.java', 'com.google.gson.internal.bind.ReflectiveTypeAdapterFactory.java', 'com.google.gson.internal.bind.TypeAdapterRuntimeTypeWrapper.java', 'com.google.gson.internal.bind.JsonAdapterAnnotationTypeAdapterFactory.java', 'com.google.gson.internal.bind.ObjectTypeAdapter.java', 'com.google.gson.internal.bind.TreeTypeAdapter.java', 'com.google.gson.internal.bind.TypeAdapters.java', 'com.google.gson.internal.bind.MapTypeAdapterFactory.java', 'com.google.gson.internal.Excluder.java', 'com.google.gson.internal.sql.SqlDateTypeAdapter.java', 'com.google.gson.internal.sql.SqlTimestampTypeAdapter.java', 'com.google.gson.internal.sql.SqlTimeTypeAdapter.java', 'com.google.gson.internal.ConstructorConstructor.java', 'com.google.gson.Gson.java', 'com.google.gson.GsonBuilder.java']\n"
          ]
        }
      ]
    },
    {
      "cell_type": "code",
      "source": [
        "df_arquivos_dependentes_arquivos_criticos = gera_df_arquivos_dependentes_arquivos_criticos(l_ac, l_tamanho_adac, l_adac)"
      ],
      "metadata": {
        "id": "ywQjDYfbKU5A"
      },
      "execution_count": 86,
      "outputs": []
    },
    {
      "cell_type": "code",
      "source": [
        "df_arquivos_dependentes_arquivos_criticos"
      ],
      "metadata": {
        "colab": {
          "base_uri": "https://localhost:8080/",
          "height": 959
        },
        "id": "7ohUBYNXKZRv",
        "outputId": "96040581-c165-4987-f11a-8509f8167e64"
      },
      "execution_count": 87,
      "outputs": [
        {
          "output_type": "execute_result",
          "data": {
            "text/plain": [
              "                                    arquivos_criticos  \\\n",
              "0           com.google.gson.internal.$Gson$Types.java   \n",
              "1   com.google.gson.internal.ConstructorConstructo...   \n",
              "2   com.google.gson.internal.bind.DefaultDateTypeA...   \n",
              "3              com.google.gson.internal.Excluder.java   \n",
              "4                com.google.gson.FieldAttributes.java   \n",
              "5              com.google.gson.FieldNamingPolicy.java   \n",
              "6                           com.google.gson.Gson.java   \n",
              "7                    com.google.gson.GsonBuilder.java   \n",
              "8   com.google.gson.internal.bind.JsonAdapterAnnot...   \n",
              "9                      com.google.gson.JsonArray.java   \n",
              "10    com.google.gson.JsonDeserializationContext.java   \n",
              "11                   com.google.gson.JsonElement.java   \n",
              "12                      com.google.gson.JsonNull.java   \n",
              "13                    com.google.gson.JsonObject.java   \n",
              "14                    com.google.gson.JsonParser.java   \n",
              "15                 com.google.gson.JsonPrimitive.java   \n",
              "16             com.google.gson.stream.JsonReader.java   \n",
              "17             com.google.gson.stream.JsonWriter.java   \n",
              "18   com.google.gson.internal.LazilyParsedNumber.java   \n",
              "19        com.google.gson.internal.LinkedTreeMap.java   \n",
              "20  com.google.gson.internal.bind.MapTypeAdapterFa...   \n",
              "21  com.google.gson.internal.bind.ObjectTypeAdapte...   \n",
              "22  com.google.gson.internal.$Gson$Preconditions.java   \n",
              "23  com.google.gson.internal.bind.ReflectiveTypeAd...   \n",
              "24              com.google.gson.internal.Streams.java   \n",
              "25  com.google.gson.internal.bind.TreeTypeAdapter....   \n",
              "26                   com.google.gson.TypeAdapter.java   \n",
              "27    com.google.gson.internal.bind.TypeAdapters.java   \n",
              "28             com.google.gson.reflect.TypeToken.java   \n",
              "\n",
              "    qtd_arquivos_dependentes  \\\n",
              "0                          5   \n",
              "1                          5   \n",
              "2                          1   \n",
              "3                          3   \n",
              "4                          1   \n",
              "5                          0   \n",
              "6                         16   \n",
              "7                          2   \n",
              "8                          1   \n",
              "9                          3   \n",
              "10                         1   \n",
              "11                         6   \n",
              "12                         4   \n",
              "13                         3   \n",
              "14                         0   \n",
              "15                         4   \n",
              "16                        25   \n",
              "17                        22   \n",
              "18                         4   \n",
              "19                         2   \n",
              "20                         1   \n",
              "21                         1   \n",
              "22                         2   \n",
              "23                         1   \n",
              "24                         6   \n",
              "25                         1   \n",
              "26                        18   \n",
              "27                         3   \n",
              "28                        19   \n",
              "\n",
              "                                 arquivos_dependentes  \n",
              "0   [com.google.gson.internal.bind.CollectionTypeA...  \n",
              "1   [com.google.gson.internal.bind.CollectionTypeA...  \n",
              "2                  [com.google.gson.GsonBuilder.java]  \n",
              "3   [com.google.gson.internal.bind.ReflectiveTypeA...  \n",
              "4            [com.google.gson.internal.Excluder.java]  \n",
              "5                                                  []  \n",
              "6   [com.google.gson.internal.bind.CollectionTypeA...  \n",
              "7   [com.google.gson.annotations.Since.java, com.g...  \n",
              "8                         [com.google.gson.Gson.java]  \n",
              "9   [com.google.gson.internal.bind.JsonTreeWriter....  \n",
              "10  [com.google.gson.internal.bind.TreeTypeAdapter...  \n",
              "11  [com.google.gson.internal.bind.JsonTreeWriter....  \n",
              "12  [com.google.gson.internal.bind.JsonTreeWriter....  \n",
              "13  [com.google.gson.internal.bind.JsonTreeWriter....  \n",
              "14                                                 []  \n",
              "15  [com.google.gson.internal.bind.JsonTreeWriter....  \n",
              "16  [com.google.gson.JsonParser.java, com.google.g...  \n",
              "17  [com.google.gson.FormattingStyle.java, com.goo...  \n",
              "18  [com.google.gson.ToNumberPolicy.java, com.goog...  \n",
              "19  [com.google.gson.internal.bind.ObjectTypeAdapt...  \n",
              "20                        [com.google.gson.Gson.java]  \n",
              "21                        [com.google.gson.Gson.java]  \n",
              "22  [com.google.gson.internal.bind.TreeTypeAdapter...  \n",
              "23                        [com.google.gson.Gson.java]  \n",
              "24  [com.google.gson.JsonParser.java, com.google.g...  \n",
              "25                 [com.google.gson.GsonBuilder.java]  \n",
              "26  [com.google.gson.internal.bind.CollectionTypeA...  \n",
              "27  [com.google.gson.internal.Streams.java, com.go...  \n",
              "28  [com.google.gson.TypeAdapterFactory.java, com....  "
            ],
            "text/html": [
              "\n",
              "\n",
              "  <div id=\"df-3996987f-341b-4647-b37d-932108215d6a\">\n",
              "    <div class=\"colab-df-container\">\n",
              "      <div>\n",
              "<style scoped>\n",
              "    .dataframe tbody tr th:only-of-type {\n",
              "        vertical-align: middle;\n",
              "    }\n",
              "\n",
              "    .dataframe tbody tr th {\n",
              "        vertical-align: top;\n",
              "    }\n",
              "\n",
              "    .dataframe thead th {\n",
              "        text-align: right;\n",
              "    }\n",
              "</style>\n",
              "<table border=\"1\" class=\"dataframe\">\n",
              "  <thead>\n",
              "    <tr style=\"text-align: right;\">\n",
              "      <th></th>\n",
              "      <th>arquivos_criticos</th>\n",
              "      <th>qtd_arquivos_dependentes</th>\n",
              "      <th>arquivos_dependentes</th>\n",
              "    </tr>\n",
              "  </thead>\n",
              "  <tbody>\n",
              "    <tr>\n",
              "      <th>0</th>\n",
              "      <td>com.google.gson.internal.$Gson$Types.java</td>\n",
              "      <td>5</td>\n",
              "      <td>[com.google.gson.internal.bind.CollectionTypeA...</td>\n",
              "    </tr>\n",
              "    <tr>\n",
              "      <th>1</th>\n",
              "      <td>com.google.gson.internal.ConstructorConstructo...</td>\n",
              "      <td>5</td>\n",
              "      <td>[com.google.gson.internal.bind.CollectionTypeA...</td>\n",
              "    </tr>\n",
              "    <tr>\n",
              "      <th>2</th>\n",
              "      <td>com.google.gson.internal.bind.DefaultDateTypeA...</td>\n",
              "      <td>1</td>\n",
              "      <td>[com.google.gson.GsonBuilder.java]</td>\n",
              "    </tr>\n",
              "    <tr>\n",
              "      <th>3</th>\n",
              "      <td>com.google.gson.internal.Excluder.java</td>\n",
              "      <td>3</td>\n",
              "      <td>[com.google.gson.internal.bind.ReflectiveTypeA...</td>\n",
              "    </tr>\n",
              "    <tr>\n",
              "      <th>4</th>\n",
              "      <td>com.google.gson.FieldAttributes.java</td>\n",
              "      <td>1</td>\n",
              "      <td>[com.google.gson.internal.Excluder.java]</td>\n",
              "    </tr>\n",
              "    <tr>\n",
              "      <th>5</th>\n",
              "      <td>com.google.gson.FieldNamingPolicy.java</td>\n",
              "      <td>0</td>\n",
              "      <td>[]</td>\n",
              "    </tr>\n",
              "    <tr>\n",
              "      <th>6</th>\n",
              "      <td>com.google.gson.Gson.java</td>\n",
              "      <td>16</td>\n",
              "      <td>[com.google.gson.internal.bind.CollectionTypeA...</td>\n",
              "    </tr>\n",
              "    <tr>\n",
              "      <th>7</th>\n",
              "      <td>com.google.gson.GsonBuilder.java</td>\n",
              "      <td>2</td>\n",
              "      <td>[com.google.gson.annotations.Since.java, com.g...</td>\n",
              "    </tr>\n",
              "    <tr>\n",
              "      <th>8</th>\n",
              "      <td>com.google.gson.internal.bind.JsonAdapterAnnot...</td>\n",
              "      <td>1</td>\n",
              "      <td>[com.google.gson.Gson.java]</td>\n",
              "    </tr>\n",
              "    <tr>\n",
              "      <th>9</th>\n",
              "      <td>com.google.gson.JsonArray.java</td>\n",
              "      <td>3</td>\n",
              "      <td>[com.google.gson.internal.bind.JsonTreeWriter....</td>\n",
              "    </tr>\n",
              "    <tr>\n",
              "      <th>10</th>\n",
              "      <td>com.google.gson.JsonDeserializationContext.java</td>\n",
              "      <td>1</td>\n",
              "      <td>[com.google.gson.internal.bind.TreeTypeAdapter...</td>\n",
              "    </tr>\n",
              "    <tr>\n",
              "      <th>11</th>\n",
              "      <td>com.google.gson.JsonElement.java</td>\n",
              "      <td>6</td>\n",
              "      <td>[com.google.gson.internal.bind.JsonTreeWriter....</td>\n",
              "    </tr>\n",
              "    <tr>\n",
              "      <th>12</th>\n",
              "      <td>com.google.gson.JsonNull.java</td>\n",
              "      <td>4</td>\n",
              "      <td>[com.google.gson.internal.bind.JsonTreeWriter....</td>\n",
              "    </tr>\n",
              "    <tr>\n",
              "      <th>13</th>\n",
              "      <td>com.google.gson.JsonObject.java</td>\n",
              "      <td>3</td>\n",
              "      <td>[com.google.gson.internal.bind.JsonTreeWriter....</td>\n",
              "    </tr>\n",
              "    <tr>\n",
              "      <th>14</th>\n",
              "      <td>com.google.gson.JsonParser.java</td>\n",
              "      <td>0</td>\n",
              "      <td>[]</td>\n",
              "    </tr>\n",
              "    <tr>\n",
              "      <th>15</th>\n",
              "      <td>com.google.gson.JsonPrimitive.java</td>\n",
              "      <td>4</td>\n",
              "      <td>[com.google.gson.internal.bind.JsonTreeWriter....</td>\n",
              "    </tr>\n",
              "    <tr>\n",
              "      <th>16</th>\n",
              "      <td>com.google.gson.stream.JsonReader.java</td>\n",
              "      <td>25</td>\n",
              "      <td>[com.google.gson.JsonParser.java, com.google.g...</td>\n",
              "    </tr>\n",
              "    <tr>\n",
              "      <th>17</th>\n",
              "      <td>com.google.gson.stream.JsonWriter.java</td>\n",
              "      <td>22</td>\n",
              "      <td>[com.google.gson.FormattingStyle.java, com.goo...</td>\n",
              "    </tr>\n",
              "    <tr>\n",
              "      <th>18</th>\n",
              "      <td>com.google.gson.internal.LazilyParsedNumber.java</td>\n",
              "      <td>4</td>\n",
              "      <td>[com.google.gson.ToNumberPolicy.java, com.goog...</td>\n",
              "    </tr>\n",
              "    <tr>\n",
              "      <th>19</th>\n",
              "      <td>com.google.gson.internal.LinkedTreeMap.java</td>\n",
              "      <td>2</td>\n",
              "      <td>[com.google.gson.internal.bind.ObjectTypeAdapt...</td>\n",
              "    </tr>\n",
              "    <tr>\n",
              "      <th>20</th>\n",
              "      <td>com.google.gson.internal.bind.MapTypeAdapterFa...</td>\n",
              "      <td>1</td>\n",
              "      <td>[com.google.gson.Gson.java]</td>\n",
              "    </tr>\n",
              "    <tr>\n",
              "      <th>21</th>\n",
              "      <td>com.google.gson.internal.bind.ObjectTypeAdapte...</td>\n",
              "      <td>1</td>\n",
              "      <td>[com.google.gson.Gson.java]</td>\n",
              "    </tr>\n",
              "    <tr>\n",
              "      <th>22</th>\n",
              "      <td>com.google.gson.internal.$Gson$Preconditions.java</td>\n",
              "      <td>2</td>\n",
              "      <td>[com.google.gson.internal.bind.TreeTypeAdapter...</td>\n",
              "    </tr>\n",
              "    <tr>\n",
              "      <th>23</th>\n",
              "      <td>com.google.gson.internal.bind.ReflectiveTypeAd...</td>\n",
              "      <td>1</td>\n",
              "      <td>[com.google.gson.Gson.java]</td>\n",
              "    </tr>\n",
              "    <tr>\n",
              "      <th>24</th>\n",
              "      <td>com.google.gson.internal.Streams.java</td>\n",
              "      <td>6</td>\n",
              "      <td>[com.google.gson.JsonParser.java, com.google.g...</td>\n",
              "    </tr>\n",
              "    <tr>\n",
              "      <th>25</th>\n",
              "      <td>com.google.gson.internal.bind.TreeTypeAdapter....</td>\n",
              "      <td>1</td>\n",
              "      <td>[com.google.gson.GsonBuilder.java]</td>\n",
              "    </tr>\n",
              "    <tr>\n",
              "      <th>26</th>\n",
              "      <td>com.google.gson.TypeAdapter.java</td>\n",
              "      <td>18</td>\n",
              "      <td>[com.google.gson.internal.bind.CollectionTypeA...</td>\n",
              "    </tr>\n",
              "    <tr>\n",
              "      <th>27</th>\n",
              "      <td>com.google.gson.internal.bind.TypeAdapters.java</td>\n",
              "      <td>3</td>\n",
              "      <td>[com.google.gson.internal.Streams.java, com.go...</td>\n",
              "    </tr>\n",
              "    <tr>\n",
              "      <th>28</th>\n",
              "      <td>com.google.gson.reflect.TypeToken.java</td>\n",
              "      <td>19</td>\n",
              "      <td>[com.google.gson.TypeAdapterFactory.java, com....</td>\n",
              "    </tr>\n",
              "  </tbody>\n",
              "</table>\n",
              "</div>\n",
              "      <button class=\"colab-df-convert\" onclick=\"convertToInteractive('df-3996987f-341b-4647-b37d-932108215d6a')\"\n",
              "              title=\"Convert this dataframe to an interactive table.\"\n",
              "              style=\"display:none;\">\n",
              "\n",
              "  <svg xmlns=\"http://www.w3.org/2000/svg\" height=\"24px\"viewBox=\"0 0 24 24\"\n",
              "       width=\"24px\">\n",
              "    <path d=\"M0 0h24v24H0V0z\" fill=\"none\"/>\n",
              "    <path d=\"M18.56 5.44l.94 2.06.94-2.06 2.06-.94-2.06-.94-.94-2.06-.94 2.06-2.06.94zm-11 1L8.5 8.5l.94-2.06 2.06-.94-2.06-.94L8.5 2.5l-.94 2.06-2.06.94zm10 10l.94 2.06.94-2.06 2.06-.94-2.06-.94-.94-2.06-.94 2.06-2.06.94z\"/><path d=\"M17.41 7.96l-1.37-1.37c-.4-.4-.92-.59-1.43-.59-.52 0-1.04.2-1.43.59L10.3 9.45l-7.72 7.72c-.78.78-.78 2.05 0 2.83L4 21.41c.39.39.9.59 1.41.59.51 0 1.02-.2 1.41-.59l7.78-7.78 2.81-2.81c.8-.78.8-2.07 0-2.86zM5.41 20L4 18.59l7.72-7.72 1.47 1.35L5.41 20z\"/>\n",
              "  </svg>\n",
              "      </button>\n",
              "\n",
              "\n",
              "\n",
              "    <div id=\"df-0fcc1da9-c90a-44fe-8530-8ff6693aaf88\">\n",
              "      <button class=\"colab-df-quickchart\" onclick=\"quickchart('df-0fcc1da9-c90a-44fe-8530-8ff6693aaf88')\"\n",
              "              title=\"Suggest charts.\"\n",
              "              style=\"display:none;\">\n",
              "\n",
              "<svg xmlns=\"http://www.w3.org/2000/svg\" height=\"24px\"viewBox=\"0 0 24 24\"\n",
              "     width=\"24px\">\n",
              "    <g>\n",
              "        <path d=\"M19 3H5c-1.1 0-2 .9-2 2v14c0 1.1.9 2 2 2h14c1.1 0 2-.9 2-2V5c0-1.1-.9-2-2-2zM9 17H7v-7h2v7zm4 0h-2V7h2v10zm4 0h-2v-4h2v4z\"/>\n",
              "    </g>\n",
              "</svg>\n",
              "      </button>\n",
              "    </div>\n",
              "\n",
              "<style>\n",
              "  .colab-df-quickchart {\n",
              "    background-color: #E8F0FE;\n",
              "    border: none;\n",
              "    border-radius: 50%;\n",
              "    cursor: pointer;\n",
              "    display: none;\n",
              "    fill: #1967D2;\n",
              "    height: 32px;\n",
              "    padding: 0 0 0 0;\n",
              "    width: 32px;\n",
              "  }\n",
              "\n",
              "  .colab-df-quickchart:hover {\n",
              "    background-color: #E2EBFA;\n",
              "    box-shadow: 0px 1px 2px rgba(60, 64, 67, 0.3), 0px 1px 3px 1px rgba(60, 64, 67, 0.15);\n",
              "    fill: #174EA6;\n",
              "  }\n",
              "\n",
              "  [theme=dark] .colab-df-quickchart {\n",
              "    background-color: #3B4455;\n",
              "    fill: #D2E3FC;\n",
              "  }\n",
              "\n",
              "  [theme=dark] .colab-df-quickchart:hover {\n",
              "    background-color: #434B5C;\n",
              "    box-shadow: 0px 1px 3px 1px rgba(0, 0, 0, 0.15);\n",
              "    filter: drop-shadow(0px 1px 2px rgba(0, 0, 0, 0.3));\n",
              "    fill: #FFFFFF;\n",
              "  }\n",
              "</style>\n",
              "\n",
              "    <script>\n",
              "      async function quickchart(key) {\n",
              "        const containerElement = document.querySelector('#' + key);\n",
              "        const charts = await google.colab.kernel.invokeFunction(\n",
              "            'suggestCharts', [key], {});\n",
              "      }\n",
              "    </script>\n",
              "\n",
              "      <script>\n",
              "\n",
              "function displayQuickchartButton(domScope) {\n",
              "  let quickchartButtonEl =\n",
              "    domScope.querySelector('#df-0fcc1da9-c90a-44fe-8530-8ff6693aaf88 button.colab-df-quickchart');\n",
              "  quickchartButtonEl.style.display =\n",
              "    google.colab.kernel.accessAllowed ? 'block' : 'none';\n",
              "}\n",
              "\n",
              "        displayQuickchartButton(document);\n",
              "      </script>\n",
              "      <style>\n",
              "    .colab-df-container {\n",
              "      display:flex;\n",
              "      flex-wrap:wrap;\n",
              "      gap: 12px;\n",
              "    }\n",
              "\n",
              "    .colab-df-convert {\n",
              "      background-color: #E8F0FE;\n",
              "      border: none;\n",
              "      border-radius: 50%;\n",
              "      cursor: pointer;\n",
              "      display: none;\n",
              "      fill: #1967D2;\n",
              "      height: 32px;\n",
              "      padding: 0 0 0 0;\n",
              "      width: 32px;\n",
              "    }\n",
              "\n",
              "    .colab-df-convert:hover {\n",
              "      background-color: #E2EBFA;\n",
              "      box-shadow: 0px 1px 2px rgba(60, 64, 67, 0.3), 0px 1px 3px 1px rgba(60, 64, 67, 0.15);\n",
              "      fill: #174EA6;\n",
              "    }\n",
              "\n",
              "    [theme=dark] .colab-df-convert {\n",
              "      background-color: #3B4455;\n",
              "      fill: #D2E3FC;\n",
              "    }\n",
              "\n",
              "    [theme=dark] .colab-df-convert:hover {\n",
              "      background-color: #434B5C;\n",
              "      box-shadow: 0px 1px 3px 1px rgba(0, 0, 0, 0.15);\n",
              "      filter: drop-shadow(0px 1px 2px rgba(0, 0, 0, 0.3));\n",
              "      fill: #FFFFFF;\n",
              "    }\n",
              "  </style>\n",
              "\n",
              "      <script>\n",
              "        const buttonEl =\n",
              "          document.querySelector('#df-3996987f-341b-4647-b37d-932108215d6a button.colab-df-convert');\n",
              "        buttonEl.style.display =\n",
              "          google.colab.kernel.accessAllowed ? 'block' : 'none';\n",
              "\n",
              "        async function convertToInteractive(key) {\n",
              "          const element = document.querySelector('#df-3996987f-341b-4647-b37d-932108215d6a');\n",
              "          const dataTable =\n",
              "            await google.colab.kernel.invokeFunction('convertToInteractive',\n",
              "                                                     [key], {});\n",
              "          if (!dataTable) return;\n",
              "\n",
              "          const docLinkHtml = 'Like what you see? Visit the ' +\n",
              "            '<a target=\"_blank\" href=https://colab.research.google.com/notebooks/data_table.ipynb>data table notebook</a>'\n",
              "            + ' to learn more about interactive tables.';\n",
              "          element.innerHTML = '';\n",
              "          dataTable['output_type'] = 'display_data';\n",
              "          await google.colab.output.renderOutput(dataTable, element);\n",
              "          const docLink = document.createElement('div');\n",
              "          docLink.innerHTML = docLinkHtml;\n",
              "          element.appendChild(docLink);\n",
              "        }\n",
              "      </script>\n",
              "    </div>\n",
              "  </div>\n"
            ]
          },
          "metadata": {},
          "execution_count": 87
        }
      ]
    },
    {
      "cell_type": "code",
      "source": [
        "lista_arquivos_impactados_unicos = gera_lista_arquivos_impactados_unicos(dict_arquivos_dependentes_arquivos_criticos, lista_arquivos_impactados)\n",
        "print(f'Arquivos impactados unicos: {lista_arquivos_impactados_unicos}')"
      ],
      "metadata": {
        "colab": {
          "base_uri": "https://localhost:8080/"
        },
        "id": "2yQ2iOYeKbxK",
        "outputId": "219b8652-9dae-4a8e-c5ec-437de10ab339"
      },
      "execution_count": 88,
      "outputs": [
        {
          "output_type": "stream",
          "name": "stdout",
          "text": [
            "Mudanças na classe com.google.gson.internal.$Gson$Types.java podem impactar 5 classes\n",
            "Mudanças na classe com.google.gson.internal.ConstructorConstructor.java podem impactar 5 classes\n",
            "Mudanças na classe com.google.gson.internal.bind.DefaultDateTypeAdapter.java podem impactar 1 classes\n",
            "Mudanças na classe com.google.gson.internal.Excluder.java podem impactar 3 classes\n",
            "Mudanças na classe com.google.gson.FieldAttributes.java podem impactar 1 classes\n",
            "Mudanças na classe com.google.gson.FieldNamingPolicy.java podem impactar 0 classes\n",
            "Mudanças na classe com.google.gson.Gson.java podem impactar 16 classes\n",
            "Mudanças na classe com.google.gson.GsonBuilder.java podem impactar 2 classes\n",
            "Mudanças na classe com.google.gson.internal.bind.JsonAdapterAnnotationTypeAdapterFactory.java podem impactar 1 classes\n",
            "Mudanças na classe com.google.gson.JsonArray.java podem impactar 3 classes\n",
            "Mudanças na classe com.google.gson.JsonDeserializationContext.java podem impactar 1 classes\n",
            "Mudanças na classe com.google.gson.JsonElement.java podem impactar 6 classes\n",
            "Mudanças na classe com.google.gson.JsonNull.java podem impactar 4 classes\n",
            "Mudanças na classe com.google.gson.JsonObject.java podem impactar 3 classes\n",
            "Mudanças na classe com.google.gson.JsonParser.java podem impactar 0 classes\n",
            "Mudanças na classe com.google.gson.JsonPrimitive.java podem impactar 4 classes\n",
            "Mudanças na classe com.google.gson.stream.JsonReader.java podem impactar 25 classes\n",
            "Mudanças na classe com.google.gson.stream.JsonWriter.java podem impactar 22 classes\n",
            "Mudanças na classe com.google.gson.internal.LazilyParsedNumber.java podem impactar 4 classes\n",
            "Mudanças na classe com.google.gson.internal.LinkedTreeMap.java podem impactar 2 classes\n",
            "Mudanças na classe com.google.gson.internal.bind.MapTypeAdapterFactory.java podem impactar 1 classes\n",
            "Mudanças na classe com.google.gson.internal.bind.ObjectTypeAdapter.java podem impactar 1 classes\n",
            "Mudanças na classe com.google.gson.internal.$Gson$Preconditions.java podem impactar 2 classes\n",
            "Mudanças na classe com.google.gson.internal.bind.ReflectiveTypeAdapterFactory.java podem impactar 1 classes\n",
            "Mudanças na classe com.google.gson.internal.Streams.java podem impactar 6 classes\n",
            "Mudanças na classe com.google.gson.internal.bind.TreeTypeAdapter.java podem impactar 1 classes\n",
            "Mudanças na classe com.google.gson.TypeAdapter.java podem impactar 18 classes\n",
            "Mudanças na classe com.google.gson.internal.bind.TypeAdapters.java podem impactar 3 classes\n",
            "Mudanças na classe com.google.gson.reflect.TypeToken.java podem impactar 19 classes\n",
            "Arquivos impactados unicos: ['com.google.gson.internal.bind.JsonAdapterAnnotationTypeAdapterFactory.java', 'com.google.gson.Gson.java', 'com.google.gson.internal.bind.TypeAdapterRuntimeTypeWrapper.java', 'com.google.gson.internal.bind.JsonTreeReader.java', 'com.google.gson.internal.ConstructorConstructor.java', 'com.google.gson.internal.bind.ArrayTypeAdapter.java', 'com.google.gson.JsonElement.java', 'com.google.gson.ToNumberStrategy.java', 'com.google.gson.internal.bind.ObjectTypeAdapter.java', 'com.google.gson.TypeAdapter.java', 'com.google.gson.annotations.JsonAdapter.java', 'com.google.gson.internal.Excluder.java', 'com.google.gson.internal.bind.NumberTypeAdapter.java', 'com.google.gson.internal.bind.DateTypeAdapter.java', 'com.google.gson.JsonObject.java', 'com.google.gson.JsonParser.java', 'com.google.gson.ToNumberPolicy.java', 'com.google.gson.reflect.TypeToken.java', 'com.google.gson.internal.bind.SerializationDelegatingTypeAdapter.java', 'com.google.gson.internal.bind.MapTypeAdapterFactory.java', 'com.google.gson.internal.sql.SqlTimestampTypeAdapter.java', 'com.google.gson.internal.sql.SqlTimeTypeAdapter.java', 'com.google.gson.FormattingStyle.java', 'com.google.gson.JsonPrimitive.java', 'com.google.gson.annotations.Since.java', 'com.google.gson.internal.bind.DefaultDateTypeAdapter.java', 'com.google.gson.internal.bind.CollectionTypeAdapterFactory.java', 'com.google.gson.internal.JsonReaderInternalAccess.java', 'com.google.gson.internal.sql.SqlDateTypeAdapter.java', 'com.google.gson.annotations.Until.java', 'com.google.gson.internal.bind.TypeAdapters.java', 'com.google.gson.internal.bind.TreeTypeAdapter.java', 'com.google.gson.JsonStreamParser.java', 'com.google.gson.internal.bind.ReflectiveTypeAdapterFactory.java', 'com.google.gson.GsonBuilder.java', 'com.google.gson.internal.bind.JsonTreeWriter.java', 'com.google.gson.TypeAdapterFactory.java', 'com.google.gson.internal.Streams.java']\n"
          ]
        }
      ]
    },
    {
      "cell_type": "code",
      "source": [
        "lista_nomes_arquivos_impactados_unicos, df_qtd_lm, dict_modified_lines_arquivos_criticos, soma_modified_lines_arquivos_criticos = relatorio_linhas_alteradas_pelas_classes_criticas(lista_arquivos_impactados_unicos,lista_arquivos_criticos, df_em_fc_java_impl, df_files_commits_from_db)"
      ],
      "metadata": {
        "colab": {
          "base_uri": "https://localhost:8080/"
        },
        "id": "k6lzr0clKpgt",
        "outputId": "5aabeb02-5fb7-43db-9585-f77b01b1d53a"
      },
      "execution_count": 89,
      "outputs": [
        {
          "output_type": "stream",
          "name": "stdout",
          "text": [
            "Existem 38 classes que podem ser impactados pelas 46 classes críticas.\n",
            "Classes críticas: 46\n",
            "Classes impactadas: 38\n",
            "Total de classes .java do sistema: 339\n",
            "Existem 46 arquivos: ['$Gson$Types.java', 'CollectionTypeAdapter.java', 'ConstructorConstructor.java', 'DefaultDateTypeAdapter.java', 'DefaultTypeAdapters.java', 'Escaper.java', 'Excluder.java', 'FieldAttributes.java', 'FieldNamingPolicy.java', 'Gson.java', 'GsonBuilder.java', 'JsonAdapterAnnotationTypeAdapterFactory.java', 'JsonArray.java', 'JsonArrayDeserializationVisitor.java', 'JsonDeserializationContext.java', 'JsonDeserializationVisitor.java', 'JsonElement.java', 'JsonNull.java', 'JsonObject.java', 'JsonObjectDeserializationVisitor.java', 'JsonParser.java', 'JsonPrimitive.java', 'JsonPrintFormatter.java', 'JsonReader.java', 'JsonSerializationVisitor.java', 'JsonWriter.java', 'LazilyParsedNumber.java', 'LinkedTreeMap.java', 'MapTypeAdapterFactory.java', 'MappedObjectConstructor.java', 'MiniGson.java', 'ObjectNavigator.java', 'ObjectTypeAdapter.java', 'ObjectTypePair.java', 'ParameterizedTypeHandlerMap.java', 'Preconditions.java', 'ProtoTypeAdapter.java', 'ReflectingFieldNavigator.java', 'ReflectiveTypeAdapter.java', 'ReflectiveTypeAdapterFactory.java', 'RuntimeTypeAdapterFactory.java', 'Streams.java', 'TreeTypeAdapter.java', 'TypeAdapter.java', 'TypeAdapters.java', 'TypeToken.java'] que podem impactar 38 dos 339 arquivos .java\n",
            "38 Potenciais arquivos impactados: ['com.google.gson.internal.bind.JsonAdapterAnnotationTypeAdapterFactory.java', 'com.google.gson.Gson.java', 'com.google.gson.internal.bind.TypeAdapterRuntimeTypeWrapper.java', 'com.google.gson.internal.bind.JsonTreeReader.java', 'com.google.gson.internal.ConstructorConstructor.java', 'com.google.gson.internal.bind.ArrayTypeAdapter.java', 'com.google.gson.JsonElement.java', 'com.google.gson.ToNumberStrategy.java', 'com.google.gson.internal.bind.ObjectTypeAdapter.java', 'com.google.gson.TypeAdapter.java', 'com.google.gson.annotations.JsonAdapter.java', 'com.google.gson.internal.Excluder.java', 'com.google.gson.internal.bind.NumberTypeAdapter.java', 'com.google.gson.internal.bind.DateTypeAdapter.java', 'com.google.gson.JsonObject.java', 'com.google.gson.JsonParser.java', 'com.google.gson.ToNumberPolicy.java', 'com.google.gson.reflect.TypeToken.java', 'com.google.gson.internal.bind.SerializationDelegatingTypeAdapter.java', 'com.google.gson.internal.bind.MapTypeAdapterFactory.java', 'com.google.gson.internal.sql.SqlTimestampTypeAdapter.java', 'com.google.gson.internal.sql.SqlTimeTypeAdapter.java', 'com.google.gson.FormattingStyle.java', 'com.google.gson.JsonPrimitive.java', 'com.google.gson.annotations.Since.java', 'com.google.gson.internal.bind.DefaultDateTypeAdapter.java', 'com.google.gson.internal.bind.CollectionTypeAdapterFactory.java', 'com.google.gson.internal.JsonReaderInternalAccess.java', 'com.google.gson.internal.sql.SqlDateTypeAdapter.java', 'com.google.gson.annotations.Until.java', 'com.google.gson.internal.bind.TypeAdapters.java', 'com.google.gson.internal.bind.TreeTypeAdapter.java', 'com.google.gson.JsonStreamParser.java', 'com.google.gson.internal.bind.ReflectiveTypeAdapterFactory.java', 'com.google.gson.GsonBuilder.java', 'com.google.gson.internal.bind.JsonTreeWriter.java', 'com.google.gson.TypeAdapterFactory.java', 'com.google.gson.internal.Streams.java']\n",
            "As 46 classes criticas mudaram 49878 linhas no sistema\n"
          ]
        }
      ]
    },
    {
      "cell_type": "markdown",
      "source": [
        "## Testes de impacto de mudancas"
      ],
      "metadata": {
        "id": "aT3-LU-ZLBML"
      }
    },
    {
      "cell_type": "code",
      "source": [
        "# Quantidade de linhas modificadas dos arquivos impactados\n",
        "dict_modified_lines_arquivos_impactados = {}\n",
        "\n",
        "for each in lista_nomes_arquivos_impactados_unicos:\n",
        "  qtd_temp = df_qtd_lm[df_qtd_lm.file_filename == each]['modified_lines'].to_list()\n",
        "  if len(qtd_temp) == 1:\n",
        "    dict_modified_lines_arquivos_impactados[each] = qtd_temp[0]\n",
        "  else:\n",
        "    dict_modified_lines_arquivos_impactados[each] = 0\n",
        "\n",
        "soma_modified_lines_arquivos_impactados = 0\n",
        "for key, value in dict_modified_lines_arquivos_impactados.items():\n",
        "  soma_modified_lines_arquivos_impactados = soma_modified_lines_arquivos_impactados + value\n",
        "\n",
        "print(f'As {len(dict_modified_lines_arquivos_impactados)} classes impactadas, pelos arquivos críticos, mudaram {soma_modified_lines_arquivos_impactados} linhas no sistema')"
      ],
      "metadata": {
        "colab": {
          "base_uri": "https://localhost:8080/"
        },
        "id": "7qMrVZuQLB08",
        "outputId": "b37f2a9f-caa3-4462-f0c4-fbbca89f1f6a"
      },
      "execution_count": 90,
      "outputs": [
        {
          "output_type": "stream",
          "name": "stdout",
          "text": [
            "As 38 classes impactadas, pelos arquivos críticos, mudaram 27311 linhas no sistema\n"
          ]
        }
      ]
    },
    {
      "cell_type": "code",
      "source": [
        "## Soma de todas as linhas modificadas pelos arquivos .java\n",
        "qtd_arquivos_java = df_qtd_lm.shape[0]\n",
        "qtd_modified_lines_arquivos_java = df_qtd_lm['modified_lines'].sum()\n",
        "\n",
        "print(f'{qtd_arquivos_java} arquivos mudaram {qtd_modified_lines_arquivos_java} LOC no sistema')\n",
        "\n",
        "# As classes críticas e as classes impactada correspondem a X linhas modificadas\n",
        "# o que dá P % de linhas modificadas no sistema\n",
        "\n",
        "soma_modified_lines_analisadas = soma_modified_lines_arquivos_criticos + soma_modified_lines_arquivos_impactados\n",
        "\n",
        "percentual_modified_lines_analisadas = round( (soma_modified_lines_analisadas/qtd_modified_lines_arquivos_java) * 100 , 2)\n",
        "\n",
        "print(f'As {len(dict_modified_lines_arquivos_criticos)} classes criticas e as {len(dict_modified_lines_arquivos_impactados)} classes impactadas correspondem a {percentual_modified_lines_analisadas}% das linhas modificadas no sistema')\n"
      ],
      "metadata": {
        "colab": {
          "base_uri": "https://localhost:8080/"
        },
        "id": "V50nxhG6LM70",
        "outputId": "7fba5bcf-7c38-438c-da62-6ba91742b95c"
      },
      "execution_count": 91,
      "outputs": [
        {
          "output_type": "stream",
          "name": "stdout",
          "text": [
            "525 arquivos mudaram 172773 LOC no sistema\n",
            "As 46 classes criticas e as 38 classes impactadas correspondem a 44.68% das linhas modificadas no sistema\n"
          ]
        }
      ]
    },
    {
      "cell_type": "code",
      "source": [
        "# Dataframe contendo todos os commits da faixa analisada\n",
        "df = df_commits_from_db[['name', 'modified_files']]\n",
        "\n",
        "# Lista arquivos críticos\n",
        "print(f'{len(lista_arquivos_criticos)}, {lista_arquivos_criticos}')\n",
        "\n",
        "# Arquivos impactados únicos\n",
        "print(f' {len(lista_arquivos_impactados_unicos)}, {lista_arquivos_impactados_unicos}')\n",
        "\n",
        "# Dicionário com o arquivo crítico e todos os seus arquivos co-change (além dos arquivos de implementação existem os arquivos .txt, de configuração, testes, entre outros)\n",
        "dict_arquivo_critico_cochange = get_dict_arquivos_modificados_with_critico(lista_arquivos_criticos, df)\n",
        "print(f'{len(dict_arquivo_critico_cochange)}')"
      ],
      "metadata": {
        "colab": {
          "base_uri": "https://localhost:8080/"
        },
        "id": "r110fhJ1LNau",
        "outputId": "5368503b-a8e2-4584-deb8-26103da51715"
      },
      "execution_count": 92,
      "outputs": [
        {
          "output_type": "stream",
          "name": "stdout",
          "text": [
            "46, [('$Gson$Types.java', 376, 26), ('CollectionTypeAdapter.java', 302, 12), ('ConstructorConstructor.java', 852, 30), ('DefaultDateTypeAdapter.java', 555, 17), ('DefaultTypeAdapters.java', 3658, 88), ('Escaper.java', 510, 13), ('Excluder.java', 355, 14), ('FieldAttributes.java', 647, 37), ('FieldNamingPolicy.java', 416, 19), ('Gson.java', 4288, 225), ('GsonBuilder.java', 2996, 127), ('JsonAdapterAnnotationTypeAdapterFactory.java', 416, 18), ('JsonArray.java', 853, 42), ('JsonArrayDeserializationVisitor.java', 410, 19), ('JsonDeserializationContext.java', 303, 12), ('JsonDeserializationVisitor.java', 476, 32), ('JsonElement.java', 689, 29), ('JsonNull.java', 289, 26), ('JsonObject.java', 649, 54), ('JsonObjectDeserializationVisitor.java', 498, 24), ('JsonParser.java', 4861, 35), ('JsonPrimitive.java', 964, 48), ('JsonPrintFormatter.java', 726, 13), ('JsonReader.java', 4407, 83), ('JsonSerializationVisitor.java', 1116, 56), ('JsonWriter.java', 1304, 36), ('LazilyParsedNumber.java', 499, 13), ('LinkedTreeMap.java', 2661, 20), ('MapTypeAdapterFactory.java', 551, 26), ('MappedObjectConstructor.java', 476, 24), ('MiniGson.java', 530, 16), ('ObjectNavigator.java', 934, 39), ('ObjectTypeAdapter.java', 357, 20), ('ObjectTypePair.java', 416, 14), ('ParameterizedTypeHandlerMap.java', 718, 26), ('Preconditions.java', 296, 15), ('ProtoTypeAdapter.java', 738, 19), ('ReflectingFieldNavigator.java', 462, 15), ('ReflectiveTypeAdapter.java', 732, 20), ('ReflectiveTypeAdapterFactory.java', 1273, 48), ('RuntimeTypeAdapterFactory.java', 421, 25), ('Streams.java', 605, 30), ('TreeTypeAdapter.java', 331, 23), ('TypeAdapter.java', 1036, 37), ('TypeAdapters.java', 2574, 78), ('TypeToken.java', 1352, 24)]\n",
            " 38, ['com.google.gson.internal.bind.JsonAdapterAnnotationTypeAdapterFactory.java', 'com.google.gson.Gson.java', 'com.google.gson.internal.bind.TypeAdapterRuntimeTypeWrapper.java', 'com.google.gson.internal.bind.JsonTreeReader.java', 'com.google.gson.internal.ConstructorConstructor.java', 'com.google.gson.internal.bind.ArrayTypeAdapter.java', 'com.google.gson.JsonElement.java', 'com.google.gson.ToNumberStrategy.java', 'com.google.gson.internal.bind.ObjectTypeAdapter.java', 'com.google.gson.TypeAdapter.java', 'com.google.gson.annotations.JsonAdapter.java', 'com.google.gson.internal.Excluder.java', 'com.google.gson.internal.bind.NumberTypeAdapter.java', 'com.google.gson.internal.bind.DateTypeAdapter.java', 'com.google.gson.JsonObject.java', 'com.google.gson.JsonParser.java', 'com.google.gson.ToNumberPolicy.java', 'com.google.gson.reflect.TypeToken.java', 'com.google.gson.internal.bind.SerializationDelegatingTypeAdapter.java', 'com.google.gson.internal.bind.MapTypeAdapterFactory.java', 'com.google.gson.internal.sql.SqlTimestampTypeAdapter.java', 'com.google.gson.internal.sql.SqlTimeTypeAdapter.java', 'com.google.gson.FormattingStyle.java', 'com.google.gson.JsonPrimitive.java', 'com.google.gson.annotations.Since.java', 'com.google.gson.internal.bind.DefaultDateTypeAdapter.java', 'com.google.gson.internal.bind.CollectionTypeAdapterFactory.java', 'com.google.gson.internal.JsonReaderInternalAccess.java', 'com.google.gson.internal.sql.SqlDateTypeAdapter.java', 'com.google.gson.annotations.Until.java', 'com.google.gson.internal.bind.TypeAdapters.java', 'com.google.gson.internal.bind.TreeTypeAdapter.java', 'com.google.gson.JsonStreamParser.java', 'com.google.gson.internal.bind.ReflectiveTypeAdapterFactory.java', 'com.google.gson.GsonBuilder.java', 'com.google.gson.internal.bind.JsonTreeWriter.java', 'com.google.gson.TypeAdapterFactory.java', 'com.google.gson.internal.Streams.java']\n",
            "46\n"
          ]
        }
      ]
    },
    {
      "cell_type": "code",
      "source": [
        "#1) Arquivos que dependem de \"BulkImport.java\":\n",
        "lista_dependem_storageservice = get_arquivos_impactados_por_file(lista_arquivos_criticos,\"TypeAdapter.java\", path_projeto_src_java)\n",
        "print(f'Arquivos que dependem de \"TypeAdapter.java\": {len(lista_dependem_storageservice)}')\n",
        "\n",
        "#2) Arquivos que foram commitados pelo menos uma vez com \"BulkImport.java\"\n",
        "filename = \"TypeAdapter.java\"\n",
        "lista_cochange_storageservice = dict_arquivo_critico_cochange[filename]\n",
        "print(f'Arquivos que foram commitados pelo menos uma vez com \"TypeAdapter.java\": {len(lista_cochange_storageservice)}')\n",
        "\n",
        "#3) Lista arquivos depedentes e cochange com critico\n",
        "lista_arquivos_dependem_de_and_cochange_storageservice = []\n",
        "for each in lista_dependem_storageservice:\n",
        "  if each in lista_cochange_storageservice:\n",
        "    lista_arquivos_dependem_de_and_cochange_storageservice.append(each)\n",
        "print(f'QTD de arquivos_dependem_de_and_cochange_TypeAdapter: {len(lista_arquivos_dependem_de_and_cochange_storageservice)}')\n",
        "print('')\n",
        "print(f'Arquivos que dependem de TypeAdapter e são co-change: {lista_arquivos_dependem_de_and_cochange_storageservice}')"
      ],
      "metadata": {
        "colab": {
          "base_uri": "https://localhost:8080/"
        },
        "id": "ts6jsVr7Lrxf",
        "outputId": "b91806e7-ce84-46b2-9bf9-e1f4909c630d"
      },
      "execution_count": 94,
      "outputs": [
        {
          "output_type": "stream",
          "name": "stdout",
          "text": [
            "Arquivos que dependem de \"TypeAdapter.java\": 18\n",
            "Arquivos que foram commitados pelo menos uma vez com \"TypeAdapter.java\": 444\n",
            "QTD de arquivos_dependem_de_and_cochange_TypeAdapter: 17\n",
            "\n",
            "Arquivos que dependem de TypeAdapter e são co-change: ['CollectionTypeAdapterFactory.java', 'ArrayTypeAdapter.java', 'DateTypeAdapter.java', 'NumberTypeAdapter.java', 'ReflectiveTypeAdapterFactory.java', 'TypeAdapterRuntimeTypeWrapper.java', 'SerializationDelegatingTypeAdapter.java', 'DefaultDateTypeAdapter.java', 'JsonAdapterAnnotationTypeAdapterFactory.java', 'ObjectTypeAdapter.java', 'TreeTypeAdapter.java', 'TypeAdapters.java', 'MapTypeAdapterFactory.java', 'Excluder.java', 'SqlDateTypeAdapter.java', 'SqlTimestampTypeAdapter.java', 'SqlTimeTypeAdapter.java']\n"
          ]
        }
      ]
    }
  ]
}
