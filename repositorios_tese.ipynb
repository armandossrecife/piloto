{
  "nbformat": 4,
  "nbformat_minor": 0,
  "metadata": {
    "colab": {
      "provenance": [],
      "authorship_tag": "ABX9TyOx0AXuMakBf8p4a4bhOwbg",
      "include_colab_link": true
    },
    "kernelspec": {
      "name": "python3",
      "display_name": "Python 3"
    },
    "language_info": {
      "name": "python"
    }
  },
  "cells": [
    {
      "cell_type": "markdown",
      "metadata": {
        "id": "view-in-github",
        "colab_type": "text"
      },
      "source": [
        "<a href=\"https://colab.research.google.com/github/armandossrecife/piloto/blob/main/repositorios_tese.ipynb\" target=\"_parent\"><img src=\"https://colab.research.google.com/assets/colab-badge.svg\" alt=\"Open In Colab\"/></a>"
      ]
    },
    {
      "cell_type": "markdown",
      "source": [
        "# Clona o piloto e faz ajustes dos locais dos scripts"
      ],
      "metadata": {
        "id": "cDOZ_PIcp-H9"
      }
    },
    {
      "cell_type": "code",
      "source": [
        "!git clone https://github.com/armandossrecife/piloto.git"
      ],
      "metadata": {
        "colab": {
          "base_uri": "https://localhost:8080/"
        },
        "id": "c0lh610GqAXD",
        "outputId": "f0def7e6-cda0-40d3-bd45-59fb20f39563"
      },
      "execution_count": 1,
      "outputs": [
        {
          "output_type": "stream",
          "name": "stdout",
          "text": [
            "Cloning into 'piloto'...\n",
            "remote: Enumerating objects: 457, done.\u001b[K\n",
            "remote: Counting objects: 100% (147/147), done.\u001b[K\n",
            "remote: Compressing objects: 100% (119/119), done.\u001b[K\n",
            "remote: Total 457 (delta 51), reused 83 (delta 16), pack-reused 310\u001b[K\n",
            "Receiving objects: 100% (457/457), 43.54 MiB | 26.97 MiB/s, done.\n",
            "Resolving deltas: 100% (196/196), done.\n"
          ]
        }
      ]
    },
    {
      "cell_type": "code",
      "source": [
        "!pwd"
      ],
      "metadata": {
        "colab": {
          "base_uri": "https://localhost:8080/"
        },
        "id": "SQCW3S-MrMYE",
        "outputId": "7f8364a1-e309-45dd-fe70-1751fd66fb33"
      },
      "execution_count": 2,
      "outputs": [
        {
          "output_type": "stream",
          "name": "stdout",
          "text": [
            "/content\n"
          ]
        }
      ]
    },
    {
      "cell_type": "code",
      "source": [
        "!mv piloto/* /content\n",
        "!ls /content"
      ],
      "metadata": {
        "colab": {
          "base_uri": "https://localhost:8080/"
        },
        "id": "OU6sag2LrFLk",
        "outputId": "3eb375c4-83aa-4732-da21-7525abd86913"
      },
      "execution_count": 3,
      "outputs": [
        {
          "output_type": "stream",
          "name": "stdout",
          "text": [
            "analisa_metricas.py\t\t  extracao.py\trequirements.txt\n",
            "analise_dependencias_arquivos.py  gera_dsm.py\tresultados\n",
            "carrega_dataframes.py\t\t  graficos\tsample_data\n",
            "criticos\t\t\t  logs\t\tscatter_plots.py\n",
            "dao.py\t\t\t\t  notebooks\ttese\n",
            "descreve_repositorio.py\t\t  piloto\tteste_dje.py\n",
            "designite\t\t\t  principal.py\tteste_dsm.py\n",
            "docs\t\t\t\t  quartis\tteste.py\n",
            "dsm\t\t\t\t  README.md\tutilidades.py\n"
          ]
        }
      ]
    },
    {
      "cell_type": "code",
      "source": [
        "!rm -rf piloto"
      ],
      "metadata": {
        "id": "dwLoik10rZb5"
      },
      "execution_count": 4,
      "outputs": []
    },
    {
      "cell_type": "code",
      "source": [
        "!pip3 install gitpython"
      ],
      "metadata": {
        "colab": {
          "base_uri": "https://localhost:8080/"
        },
        "id": "XxH-MkI2qpM4",
        "outputId": "7ec5d2b4-ddbd-4898-99ea-d99c48afae40"
      },
      "execution_count": 5,
      "outputs": [
        {
          "output_type": "stream",
          "name": "stdout",
          "text": [
            "Collecting gitpython\n",
            "  Downloading GitPython-3.1.32-py3-none-any.whl (188 kB)\n",
            "\u001b[2K     \u001b[90m━━━━━━━━━━━━━━━━━━━━━━━━━━━━━━━━━━━━━━━\u001b[0m \u001b[32m188.5/188.5 kB\u001b[0m \u001b[31m3.5 MB/s\u001b[0m eta \u001b[36m0:00:00\u001b[0m\n",
            "\u001b[?25hCollecting gitdb<5,>=4.0.1 (from gitpython)\n",
            "  Downloading gitdb-4.0.10-py3-none-any.whl (62 kB)\n",
            "\u001b[2K     \u001b[90m━━━━━━━━━━━━━━━━━━━━━━━━━━━━━━━━━━━━━━━━\u001b[0m \u001b[32m62.7/62.7 kB\u001b[0m \u001b[31m6.5 MB/s\u001b[0m eta \u001b[36m0:00:00\u001b[0m\n",
            "\u001b[?25hCollecting smmap<6,>=3.0.1 (from gitdb<5,>=4.0.1->gitpython)\n",
            "  Downloading smmap-5.0.0-py3-none-any.whl (24 kB)\n",
            "Installing collected packages: smmap, gitdb, gitpython\n",
            "Successfully installed gitdb-4.0.10 gitpython-3.1.32 smmap-5.0.0\n"
          ]
        }
      ]
    },
    {
      "cell_type": "code",
      "source": [
        "import os\n",
        "import subprocess\n",
        "import requests\n",
        "import threading\n",
        "import datetime\n",
        "from git import Repo\n",
        "\n",
        "def get_repository_name(url):\n",
        "  repository_name = os.path.splitext(os.path.basename(url))[0]\n",
        "  return repository_name\n",
        "\n",
        "class RepoCloner:\n",
        "    def __init__(self, qtd_repositorios, lista_urls):\n",
        "        self.qtd_repositorios = qtd_repositorios\n",
        "        self.lista_urls = lista_urls\n",
        "        self.lista_threads = []\n",
        "        self.lista_tempo_inicio = []\n",
        "        self.lista_tempo_conclusao = []\n",
        "\n",
        "    def my_clone(self, git_url, repo_dir):\n",
        "        try:\n",
        "            Repo.clone_from(git_url, repo_dir)\n",
        "            tempo = datetime.datetime.now()\n",
        "            print(f'Clonagem do repo {git_url} concluída com sucesso! -> instante: {tempo}')\n",
        "            elemento = (repo_dir, tempo)\n",
        "            self.lista_tempo_conclusao.append(elemento)\n",
        "        except Exception as ex:\n",
        "            print(f\"Erro ao clonar o repo: {git_url} - {str(ex)}\")\n",
        "\n",
        "    def clona_repositorios(self):\n",
        "        try:\n",
        "          for i in range(self.qtd_repositorios):\n",
        "              nome = get_repository_name(url=self.lista_urls[i])\n",
        "              tdi = threading.Thread(target=self.my_clone, args=(self.lista_urls[i], nome))\n",
        "              tdi.name = 'Thread-'+str(i+1)\n",
        "              inicio_thread = datetime.datetime.now()\n",
        "              print(f\"Thread {i+1} iniciada em {inicio_thread} - clonando {nome}:{self.lista_urls[i]}...\")\n",
        "              self.lista_threads.append(tdi)\n",
        "              elemento = (nome, inicio_thread)\n",
        "              self.lista_tempo_inicio.append(elemento)\n",
        "              tdi.start()\n",
        "\n",
        "          for each in self.lista_threads:\n",
        "              each.join()\n",
        "        except Exception as ex:\n",
        "          print(f'Erro no clona_repositorio: {str(ex)}')\n",
        "\n",
        "    def mostra_tempo_clonagens(self):\n",
        "        for t1 in self.lista_tempo_inicio:\n",
        "            for t2 in self.lista_tempo_conclusao:\n",
        "                if t1[0] == t2[0]:\n",
        "                    print(f\"Tempo de clonagem do {t1[0]} é: {t2[1]-t1[1]} s\")"
      ],
      "metadata": {
        "id": "2n6DszWjqBmi"
      },
      "execution_count": 6,
      "outputs": []
    },
    {
      "cell_type": "markdown",
      "source": [
        "# Análise dos respositórios"
      ],
      "metadata": {
        "id": "uhRRfWTNsTbe"
      }
    },
    {
      "cell_type": "code",
      "source": [
        "dict_repositorios = {\n",
        "\t'cassandra': 'https://github.com/apache/cassandra.git',\n",
        "\t'kafka':'https://github.com/apache/kafka.git',\n",
        "\t'activemq':'https://github.com/apache/activemq.git',\n",
        "\t'guava':'https://github.com/google/guava.git'\n",
        "}"
      ],
      "metadata": {
        "id": "NAYhUa7gsVI9"
      },
      "execution_count": 7,
      "outputs": []
    },
    {
      "cell_type": "code",
      "source": [
        "for k, v in dict_repositorios.items():\n",
        "  print(k,v)"
      ],
      "metadata": {
        "colab": {
          "base_uri": "https://localhost:8080/"
        },
        "id": "Izd81KLPsWxj",
        "outputId": "27782f10-21e3-4049-fd98-33515ebd3b23"
      },
      "execution_count": 8,
      "outputs": [
        {
          "output_type": "stream",
          "name": "stdout",
          "text": [
            "cassandra https://github.com/apache/cassandra.git\n",
            "kafka https://github.com/apache/kafka.git\n",
            "activemq https://github.com/apache/activemq.git\n",
            "guava https://github.com/google/guava.git\n"
          ]
        }
      ]
    },
    {
      "cell_type": "code",
      "source": [
        "lista_repositorios = list(dict_repositorios.values())\n",
        "print(lista_repositorios)"
      ],
      "metadata": {
        "colab": {
          "base_uri": "https://localhost:8080/"
        },
        "id": "28xWfgdXsdda",
        "outputId": "32715764-f3c8-4c09-bb01-8c3cf83e933b"
      },
      "execution_count": 9,
      "outputs": [
        {
          "output_type": "stream",
          "name": "stdout",
          "text": [
            "['https://github.com/apache/cassandra.git', 'https://github.com/apache/kafka.git', 'https://github.com/apache/activemq.git', 'https://github.com/google/guava.git']\n"
          ]
        }
      ]
    },
    {
      "cell_type": "markdown",
      "source": [
        "## Clona os repositórios localmente"
      ],
      "metadata": {
        "id": "euo8CXQ5s4TL"
      }
    },
    {
      "cell_type": "code",
      "source": [
        "qtd_repositorios = len(lista_repositorios)\n",
        "print(f'Clonando os {qtd_repositorios} repositórios. Aguarde...')\n",
        "cloner = RepoCloner(qtd_repositorios=len(lista_repositorios), lista_urls=lista_repositorios)\n",
        "cloner.clona_repositorios()\n",
        "cloner.mostra_tempo_clonagens()\n",
        "print(f'Clonagem de todos os {qtd_repositorios} concluída com sucesso!')"
      ],
      "metadata": {
        "colab": {
          "base_uri": "https://localhost:8080/"
        },
        "id": "Q9pR-GkksjYB",
        "outputId": "82414066-13e9-4e09-a4a3-cb8bfbe9603a"
      },
      "execution_count": 10,
      "outputs": [
        {
          "output_type": "stream",
          "name": "stdout",
          "text": [
            "Clonando os 4 repositórios. Aguarde...\n",
            "Thread 1 iniciada em 2023-08-20 20:30:01.507238 - clonando cassandra:https://github.com/apache/cassandra.git...\n",
            "Thread 2 iniciada em 2023-08-20 20:30:01.507880 - clonando kafka:https://github.com/apache/kafka.git...\n",
            "Thread 3 iniciada em 2023-08-20 20:30:01.513346 - clonando activemq:https://github.com/apache/activemq.git...\n",
            "Thread 4 iniciada em 2023-08-20 20:30:01.518665 - clonando guava:https://github.com/google/guava.git...\n",
            "Clonagem do repo https://github.com/apache/activemq.git concluída com sucesso! -> instante: 2023-08-20 20:30:33.289112\n",
            "Clonagem do repo https://github.com/apache/kafka.git concluída com sucesso! -> instante: 2023-08-20 20:31:07.369133\n",
            "Clonagem do repo https://github.com/apache/cassandra.git concluída com sucesso! -> instante: 2023-08-20 20:32:00.725137\n",
            "Clonagem do repo https://github.com/google/guava.git concluída com sucesso! -> instante: 2023-08-20 20:32:27.860299\n",
            "Tempo de clonagem do cassandra é: 0:01:59.217899 s\n",
            "Tempo de clonagem do kafka é: 0:01:05.861253 s\n",
            "Tempo de clonagem do activemq é: 0:00:31.775766 s\n",
            "Tempo de clonagem do guava é: 0:02:26.341634 s\n",
            "Clonagem de todos os 4 concluída com sucesso!\n"
          ]
        }
      ]
    },
    {
      "cell_type": "code",
      "source": [
        "!echo \"Cassandra: \" && ls cassandra && echo \"Kafka:\" && ls kafka && echo \"ActiveMQ:\" && ls activemq && echo \"Guava:\" && ls guava"
      ],
      "metadata": {
        "colab": {
          "base_uri": "https://localhost:8080/"
        },
        "id": "yFQ2Y3Xot8NX",
        "outputId": "33dfc912-9eaa-495f-a211-f81d798a68d3"
      },
      "execution_count": 11,
      "outputs": [
        {
          "output_type": "stream",
          "name": "stdout",
          "text": [
            "Cassandra: \n",
            "bin\t\t\t   debian\tpylib\n",
            "build.properties.default   doc\t\tREADME.asc\n",
            "build-shaded-dtest-jar.sh  examples\tredhat\n",
            "build.xml\t\t   ide\t\trelocate-dependencies.pom\n",
            "CASSANDRA-14092.txt\t   lib\t\tsrc\n",
            "CHANGES.txt\t\t   LICENSE.txt\ttest\n",
            "conf\t\t\t   NEWS.txt\tTESTING.md\n",
            "CONTRIBUTING.md\t\t   NOTICE.txt\ttools\n",
            "Kafka:\n",
            "bin\t\t gradle\t\t    log4j-appender\t      settings.gradle\n",
            "build.gradle\t gradle.properties  metadata\t\t      shell\n",
            "checkstyle\t gradlew\t    NOTICE\t\t      storage\n",
            "clients\t\t gradlewAll\t    NOTICE-binary\t      streams\n",
            "config\t\t group-coordinator  PULL_REQUEST_TEMPLATE.md  tests\n",
            "connect\t\t HEADER\t\t    raft\t\t      tools\n",
            "CONTRIBUTING.md  Jenkinsfile\t    README.md\t\t      trogdor\n",
            "core\t\t jmh-benchmarks     release_notes.py\t      vagrant\n",
            "doap_Kafka.rdf\t kafka-merge-pr.py  release.py\t\t      Vagrantfile\n",
            "docs\t\t LICENSE\t    retry_zinc\t\t      wrapper.gradle\n",
            "examples\t LICENSE-binary     reviewers.py\n",
            "generator\t licenses\t    server-common\n",
            "ActiveMQ:\n",
            "activemq-all\t\t activemq-log4j-appender      activemq-web\n",
            "activemq-amqp\t\t activemq-mqtt\t\t      activemq-web-console\n",
            "activemq-blueprint\t activemq-openwire-generator  activemq-web-demo\n",
            "activemq-broker\t\t activemq-openwire-legacy     assembly\n",
            "activemq-cf\t\t activemq-osgi\t\t      committer-tools\n",
            "activemq-client\t\t activemq-pool\t\t      doap.rdf\n",
            "activemq-client-jakarta  activemq-ra\t\t      docs\n",
            "activemq-console\t activemq-rar\t\t      etc\n",
            "activemq-http\t\t activemq-run\t\t      Jenkinsfile\n",
            "activemq-jaas\t\t activemq-runtime-config      KEYS\n",
            "activemq-jdbc-store\t activemq-shiro\t\t      LICENSE\n",
            "activemq-jms-pool\t activemq-spring\t      NOTICE\n",
            "activemq-kahadb-store\t activemq-stomp\t\t      pom.xml\n",
            "activemq-karaf\t\t activemq-tooling\t      README.md\n",
            "activemq-karaf-itest\t activemq-unit-tests\t      SECURITY.md\n",
            "Guava:\n",
            "android\t\t\t guava\t\tintegration-tests\tproguard\n",
            "CONTRIBUTING.md\t\t guava-bom\tjavadoc-stylesheet.css\tREADME.md\n",
            "CONTRIBUTORS\t\t guava-gwt\tLICENSE\t\t\trefactorings\n",
            "cycle_suppress_list.txt  guava-testlib\toverview.html\t\tutil\n",
            "futures\t\t\t guava-tests\tpom.xml\n"
          ]
        }
      ]
    },
    {
      "cell_type": "markdown",
      "source": [
        "## Identifica os últimos 1000 commits"
      ],
      "metadata": {
        "id": "xv5MK5CQugT7"
      }
    },
    {
      "cell_type": "code",
      "source": [
        "import subprocess\n",
        "\n",
        "def get_tag_for_commit(diretorio, commit_hash):\n",
        "  command = [\"git\", \"describe\", commit_hash]\n",
        "  try:\n",
        "    executa = subprocess.run(command, cwd=diretorio, stdout=subprocess.PIPE, text=True)\n",
        "    tag = executa.stdout.strip()\n",
        "    return tag\n",
        "  except subprocess.CalledProcessError as e:\n",
        "    print(f'Erro: {str(e)}')\n",
        "    return None"
      ],
      "metadata": {
        "id": "NVaE8P6zyICN"
      },
      "execution_count": 12,
      "outputs": []
    },
    {
      "cell_type": "code",
      "source": [
        "lista_ultimos_1000_commits_c = !cd cassandra && git log -n 1000 --format=\"%H,%cI\"\n",
        "print(f'Cassandra: primeiro*: {lista_ultimos_1000_commits_c[-1]}, ultimo: {lista_ultimos_1000_commits_c[0]}')\n",
        "tag_cassandra_1 = get_tag_for_commit('cassandra', lista_ultimos_1000_commits_c[-1].split(',')[0])\n",
        "tag_cassandra_u = get_tag_for_commit('cassandra', lista_ultimos_1000_commits_c[0].split(',')[0])\n",
        "print(f'Cassandra: tag do primeiro*: {tag_cassandra_1}, tag do ultimo: {tag_cassandra_u}')\n",
        "print('')\n",
        "\n",
        "lista_ultimos_1000_commits_k = !cd kafka && git log -n 1000 --format=\"%H,%cI\"\n",
        "print(f'Kafka: primeiro*: {lista_ultimos_1000_commits_k[-1]}, ultimo: {lista_ultimos_1000_commits_k[0]}')\n",
        "tag_kafka_1 = get_tag_for_commit('kafka', lista_ultimos_1000_commits_k[-1].split(',')[0])\n",
        "tag_kafka_u = get_tag_for_commit('kafka',lista_ultimos_1000_commits_k[0].split(',')[0])\n",
        "print(f'Kafka: tag do primeiro*: {tag_kafka_1}, tag do ultimo: {tag_kafka_u}')\n",
        "print('')\n",
        "\n",
        "lista_ultimos_1000_commits_amq = !cd activemq && git log -n 1000 --format=\"%H,%cI\"\n",
        "print(f'ActiveMQ: primeiro*: {lista_ultimos_1000_commits_amq[-1]}, ultimo: {lista_ultimos_1000_commits_amq[0]}')\n",
        "tag_amq_1 = get_tag_for_commit('activemq', lista_ultimos_1000_commits_amq[-1].split(',')[0])\n",
        "tag_amq_u = get_tag_for_commit('activemq', lista_ultimos_1000_commits_amq[0].split(',')[0])\n",
        "print(f'ActiveMQ: tag do primeiro*: {tag_amq_1}, tag do ultimo: {tag_amq_u}')\n",
        "print('')\n",
        "\n",
        "lista_ultimos_1000_commits_g = !cd guava && git log -n 1000 --format=\"%H,%cI\"\n",
        "print(f'Guava: primeiro*: {lista_ultimos_1000_commits_g[-1]}, ultimo: {lista_ultimos_1000_commits_g[0]}')\n",
        "tag_g_1 = get_tag_for_commit('guava',lista_ultimos_1000_commits_g[-1].split(',')[0])\n",
        "tag_g_u = get_tag_for_commit('guava',lista_ultimos_1000_commits_g[0].split(',')[0])\n",
        "print(f'Guava: tag do primeiro*: {tag_g_1}, tag do ultimo: {tag_g_u}')"
      ],
      "metadata": {
        "colab": {
          "base_uri": "https://localhost:8080/"
        },
        "id": "zfKXqp8muCX7",
        "outputId": "9259eb55-45bb-4b81-bc7c-fc185bea979f"
      },
      "execution_count": 13,
      "outputs": [
        {
          "output_type": "stream",
          "name": "stdout",
          "text": [
            "Cassandra: primeiro*: ed07f7d6bc3e2185997f8e0180b9643bcbf57543,2022-10-23T23:22:36+02:00, ultimo: 119668f2b309d2d72e46cd4f551577876c5236d1,2023-08-20T19:11:25+02:00\n",
            "Cassandra: tag do primeiro*: cassandra-3.11.14-8-ged07f7d6bc, tag do ultimo: cassandra-4.0.11-1700-g119668f2b3\n",
            "\n",
            "Kafka: primeiro*: 548348c9e7823f2a9dcaacbd188f174f14b79d7e,2022-11-30T11:49:24-05:00, ultimo: 6492164d9c099ae3091cd508df98453c954b7e13,2023-08-20T17:15:52+05:30\n",
            "Kafka: tag do primeiro*: 0.8.0-beta1-10040-g548348c9e7, tag do ultimo: 0.8.0-beta1-11039-g6492164d9c\n",
            "\n",
            "ActiveMQ: primeiro*: ed3c600e09a305c39d78089cc5450d1e4a671f7b,2020-02-20T08:11:34+01:00, ultimo: 8d322df244a6b4d8239f3b24608851eea6cf45ac,2023-08-01T08:29:24-05:00\n",
            "ActiveMQ: tag do primeiro*: activemq-5.15.0-610-ged3c600e0, tag do ultimo: activemq-5.18.0-84-g8d322df24\n",
            "\n",
            "Guava: primeiro*: b224ce81f7c5d4efcf6b1f74ca6cc56cac9aae63,2019-12-18T13:24:46-05:00, ultimo: 41203f03e9b7ddfd776f88660cc467e59bbb180b,2023-08-14T14:56:10-07:00\n",
            "Guava: tag do primeiro*: , tag do ultimo: \n"
          ]
        }
      ]
    },
    {
      "cell_type": "code",
      "source": [],
      "metadata": {
        "id": "fP1cLYLgwcKr"
      },
      "execution_count": null,
      "outputs": []
    }
  ]
}