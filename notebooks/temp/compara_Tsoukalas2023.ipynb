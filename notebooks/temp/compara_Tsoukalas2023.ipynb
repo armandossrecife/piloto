{
  "cells": [
    {
      "cell_type": "markdown",
      "metadata": {
        "colab_type": "text",
        "id": "view-in-github"
      },
      "source": [
        "<a href=\"https://colab.research.google.com/github/armandossrecife/piloto/blob/main/notebooks/temp/compara_Tsoukalas2023.ipynb\" target=\"_parent\"><img src=\"https://colab.research.google.com/assets/colab-badge.svg\" alt=\"Open In Colab\"/></a>"
      ]
    },
    {
      "cell_type": "markdown",
      "metadata": {
        "id": "ZtQncbPAkdcC"
      },
      "source": [
        "# 1. Install Dependencies\n",
        "\n",
        "* [GitPython](https://gitpython.readthedocs.io/en/stable) - to clone git repositories\n",
        "* [CLOC](https://github.com/AlDanial/cloc) - to calculate CLOC and other source code metrics\n",
        "\n",
        "\n",
        "\n"
      ]
    },
    {
      "cell_type": "code",
      "execution_count": 1,
      "metadata": {
        "colab": {
          "base_uri": "https://localhost:8080/"
        },
        "id": "-8U4oPxJCaVq",
        "outputId": "5b5fcff4-87d5-45ab-f5fa-be08efa23cd5"
      },
      "outputs": [
        {
          "name": "stdout",
          "output_type": "stream",
          "text": [
            "Requirement already satisfied: gitpython in /usr/local/lib/python3.10/dist-packages (3.1.32)\n",
            "Requirement already satisfied: gitdb<5,>=4.0.1 in /usr/local/lib/python3.10/dist-packages (from gitpython) (4.0.10)\n",
            "Requirement already satisfied: smmap<6,>=3.0.1 in /usr/local/lib/python3.10/dist-packages (from gitdb<5,>=4.0.1->gitpython) (5.0.0)\n"
          ]
        }
      ],
      "source": [
        "!pip3 install gitpython"
      ]
    },
    {
      "cell_type": "code",
      "execution_count": 2,
      "metadata": {
        "colab": {
          "base_uri": "https://localhost:8080/"
        },
        "id": "gMMeprdpkjkj",
        "outputId": "8b9f8772-495c-48e3-d9df-5ac7d2f45d28"
      },
      "outputs": [
        {
          "name": "stdout",
          "output_type": "stream",
          "text": [
            "Reading package lists... Done\n",
            "Building dependency tree... Done\n",
            "Reading state information... Done\n",
            "cloc is already the newest version (1.90-1).\n",
            "0 upgraded, 0 newly installed, 0 to remove and 16 not upgraded.\n"
          ]
        }
      ],
      "source": [
        "!sudo apt install cloc"
      ]
    },
    {
      "cell_type": "markdown",
      "metadata": {
        "id": "7r6we0QU3UlX"
      },
      "source": [
        "# 2. Dataset of Tsoukalas2023\n",
        "\n",
        "On the relation between architectural smells and source code changes - ?\n",
        "\n",
        "replication kit - ?"
      ]
    },
    {
      "cell_type": "code",
      "execution_count": 3,
      "metadata": {
        "colab": {
          "base_uri": "https://localhost:8080/"
        },
        "id": "2WFBWPe4I84X",
        "outputId": "1d10ba1d-a010-4040-d884-a658bacfc758"
      },
      "outputs": [
        {
          "name": "stdout",
          "output_type": "stream",
          "text": [
            "http://?: Invalid host name.\n"
          ]
        }
      ],
      "source": [
        "!wget ?"
      ]
    },
    {
      "cell_type": "markdown",
      "metadata": {
        "id": "LRZgKYSFPK6N"
      },
      "source": [
        "## 2.1 Replication Kit data and scripts"
      ]
    },
    {
      "cell_type": "code",
      "execution_count": 4,
      "metadata": {
        "colab": {
          "base_uri": "https://localhost:8080/"
        },
        "id": "YwvjmmG_3WSi",
        "outputId": "a8bc0bfe-146c-4b25-c50b-885486c6733e"
      },
      "outputs": [
        {
          "name": "stdout",
          "output_type": "stream",
          "text": [
            "http://?: Invalid host name.\n"
          ]
        }
      ],
      "source": [
        "!wget ?"
      ]
    },
    {
      "cell_type": "code",
      "execution_count": 5,
      "metadata": {
        "colab": {
          "base_uri": "https://localhost:8080/"
        },
        "id": "WuwDgoVb4q3K",
        "outputId": "aacc3d83-9c55-40ea-b162-912a3284682b"
      },
      "outputs": [
        {
          "name": "stdout",
          "output_type": "stream",
          "text": [
            "unzip:  cannot find or open replication-package.zip, replication-package.zip.zip or replication-package.zip.ZIP.\n"
          ]
        }
      ],
      "source": [
        "!unzip replication-package.zip"
      ]
    },
    {
      "cell_type": "markdown",
      "metadata": {
        "id": "tBElfCZdUoa-"
      },
      "source": [
        "# 3. Details of the analyzed projects\n",
        "\n",
        "Selection criteria:\n",
        "\n",
        "* Project lifetime (in years)\n",
        "* number of commits\n",
        "* Number of released releases\n",
        "* Number of files\n",
        "* Number of .java files\n",
        "* Number of participants (contributors)\n",
        "* Relevance in the open-source community\n",
        "** Amount of stars"
      ]
    },
    {
      "cell_type": "code",
      "execution_count": 6,
      "metadata": {
        "colab": {
          "base_uri": "https://localhost:8080/"
        },
        "id": "iwfZI9bmUrxT",
        "outputId": "2e063637-9a10-4f39-9f74-64ec62d2dfe5"
      },
      "outputs": [
        {
          "data": {
            "text/plain": [
              "['kafka', 'cassandra', 'activemq', 'guava']"
            ]
          },
          "execution_count": 6,
          "metadata": {},
          "output_type": "execute_result"
        }
      ],
      "source": [
        "repository_project_list = ['kafka', 'cassandra', 'activemq', 'guava']\n",
        "repository_project_list"
      ]
    },
    {
      "cell_type": "markdown",
      "metadata": {
        "id": "Ejc8jwfd4Y1V"
      },
      "source": [
        "### Support classes to CLOC"
      ]
    },
    {
      "cell_type": "code",
      "execution_count": 7,
      "metadata": {
        "id": "RQyGMPUv2kM_"
      },
      "outputs": [],
      "source": [
        "import os\n",
        "import subprocess\n",
        "import json\n",
        "import pandas as pd\n",
        "import requests\n",
        "import threading\n",
        "import datetime\n",
        "from git import Repo\n",
        "import csv\n",
        "\n",
        "class DirectoryAnalyzer:\n",
        "    def __init__(self, target_directory, cloc_output_file=\"cloc_output.json\"):\n",
        "        self.target_directory = target_directory\n",
        "        self.cloc_output_file = cloc_output_file\n",
        "\n",
        "    def cloc(self):\n",
        "        os.chdir(self.target_directory)\n",
        "        try:\n",
        "            # Run CLOC to analyze the repository and save the output as JSON\n",
        "            subprocess.run([\"cloc\", \"--json\",\".\"], stdout=open(self.cloc_output_file, \"w\"))\n",
        "        except Exception as ex:\n",
        "            print(f'Error: {str(ex)}')\n",
        "\n",
        "\n",
        "        # Load JSON output from CLOC\n",
        "        with open(self.cloc_output_file, \"r\") as json_file:\n",
        "            cloc_data = json.load(json_file)\n",
        "\n",
        "        # Extract desired metrics for Java files\n",
        "        java_metrics = cloc_data.get(\"Java\", {})\n",
        "        self.total_unique_files = java_metrics.get(\"nFiles\", 0)\n",
        "        self.total_blank_loc = java_metrics.get(\"blank\", 0)\n",
        "        self.total_comment_loc = java_metrics.get(\"comment\", 0)\n",
        "        self.total_loc = java_metrics.get(\"code\", 0)\n",
        "\n",
        "        sum_metrics = cloc_data.get(\"SUM\", {})\n",
        "        self.total_nFiles = sum_metrics.get(\"nFiles\",0)\n",
        "        self.total_LOC_files = sum_metrics.get(\"code\",0)\n",
        "\n",
        "        return self.total_nFiles, self.total_unique_files, self.total_blank_loc, self.total_comment_loc, self.total_loc, self.total_LOC_files\n",
        "\n",
        "class RepositoryAnalyzer:\n",
        "    def __init__(self, target_directory):\n",
        "        self.target_directory = target_directory\n",
        "\n",
        "    def get_first_commit_date(self):\n",
        "        command = [\"git\", \"log\", \"--reverse\", \"--format=%ad\", \"--date=short\"]\n",
        "        result = subprocess.run(command, cwd=self.target_directory, stdout=subprocess.PIPE, text=True)\n",
        "        self.first_commit_date = result.stdout.splitlines()[0]\n",
        "        return self.first_commit_date\n",
        "\n",
        "    def get_last_commit_date(self):\n",
        "        command = [\"git\", \"log\", \"-1\", \"--format=%ad\", \"--date=short\"]\n",
        "        result = subprocess.run(command, cwd=self.target_directory, stdout=subprocess.PIPE, text=True)\n",
        "        self.last_commit_date = result.stdout.strip()\n",
        "        return self.last_commit_date\n",
        "\n",
        "    def get_total_commit_count(self):\n",
        "        command = [\"git\", \"rev-list\", \"--count\", \"HEAD\"]\n",
        "        result = subprocess.run(command, cwd=self.target_directory, stdout=subprocess.PIPE, text=True)\n",
        "        self.total_commit_count = int(result.stdout.strip())\n",
        "        return self.total_commit_count\n",
        "\n",
        "    def get_total_release_count(self):\n",
        "        git_tag_command = [\"git\", \"tag\"]\n",
        "        wc_command = [\"wc\", \"-l\"]\n",
        "\n",
        "        git_tag_result = subprocess.run(git_tag_command, cwd=self.target_directory, stdout=subprocess.PIPE, text=True)\n",
        "        wc_result = subprocess.run(wc_command, input=git_tag_result.stdout, stdout=subprocess.PIPE, text=True)\n",
        "\n",
        "        self.total_release_count = int(wc_result.stdout.strip())\n",
        "        return self.total_release_count\n",
        "\n",
        "def get_repository_name(url):\n",
        "  repository_name = os.path.splitext(os.path.basename(url))[0]\n",
        "  return repository_name\n",
        "\n",
        "def clone_repository(url):\n",
        "  target_directory = get_repository_name(url)\n",
        "  subprocess.run([\"git\", \"clone\", url, target_directory])\n",
        "\n",
        "def gera_my_dict(url, total_nFiles, total_unique_files, total_blank_loc, total_comment_loc, total_loc, total_LOC_files):\n",
        "    name = get_repository_name(url)\n",
        "    repository_path = '/content/'+name\n",
        "    git_repo_analyzer = RepositoryAnalyzer(target_directory=repository_path)\n",
        "    first_commit_date = git_repo_analyzer.get_first_commit_date()\n",
        "    last_commit_date = git_repo_analyzer.get_last_commit_date()\n",
        "    total_commit_count = git_repo_analyzer.get_total_commit_count()\n",
        "    total_release_count = git_repo_analyzer.get_total_release_count()\n",
        "\n",
        "    my_dict = {\n",
        "        'name': [name],\n",
        "        'files': [total_nFiles],\n",
        "        'java': [total_unique_files],\n",
        "        'blank_loc_java': [total_blank_loc],\n",
        "        'comment_loc_java': [total_comment_loc],\n",
        "        'loc_java': [total_loc],\n",
        "        'loc_files': [total_LOC_files],\n",
        "        'first_commit_date':[first_commit_date],\n",
        "        'last_commit_date':[last_commit_date],\n",
        "        'total_commit_count':[total_commit_count],\n",
        "        'total_release_count':[total_release_count]\n",
        "    }\n",
        "    return my_dict\n",
        "\n",
        "def gera_csv(url, my_dict):\n",
        "  name = get_repository_name(url)\n",
        "  my_df = pd.DataFrame.from_dict(my_dict)\n",
        "  name = name + '.csv'\n",
        "  name = '/content/'+name\n",
        "  my_df.to_csv(name, index=False)\n",
        "  return my_df\n",
        "\n",
        "class RepoCloner:\n",
        "    def __init__(self, qtd_repositorios, lista_urls):\n",
        "        self.qtd_repositorios = qtd_repositorios\n",
        "        self.lista_urls = lista_urls\n",
        "        self.lista_threads = []\n",
        "        self.lista_tempo_inicio = []\n",
        "        self.lista_tempo_conclusao = []\n",
        "\n",
        "    def my_clone(self, git_url, repo_dir):\n",
        "        try:\n",
        "            Repo.clone_from(git_url, repo_dir)\n",
        "            tempo = datetime.datetime.now()\n",
        "            print(f'Clonagem do repo {git_url} concluída com sucesso! -> instante: {tempo}')\n",
        "            elemento = (repo_dir, tempo)\n",
        "            self.lista_tempo_conclusao.append(elemento)\n",
        "        except Exception as ex:\n",
        "            print(f\"Erro ao clonar o repo: {git_url} - {str(ex)}\")\n",
        "\n",
        "    def clona_repositorios(self):\n",
        "        try:\n",
        "          for i in range(self.qtd_repositorios):\n",
        "              nome = get_repository_name(url=self.lista_urls[i])\n",
        "              tdi = threading.Thread(target=self.my_clone, args=(self.lista_urls[i], nome))\n",
        "              tdi.name = 'Thread-'+str(i+1)\n",
        "              inicio_thread = datetime.datetime.now()\n",
        "              print(f\"Thread {i+1} iniciada em {inicio_thread} - clonando {nome}:{self.lista_urls[i]}...\")\n",
        "              self.lista_threads.append(tdi)\n",
        "              elemento = (nome, inicio_thread)\n",
        "              self.lista_tempo_inicio.append(elemento)\n",
        "              tdi.start()\n",
        "\n",
        "          for each in self.lista_threads:\n",
        "              each.join()\n",
        "        except Exception as ex:\n",
        "          print(f'Erro no clona_repositorio: {str(ex)}')\n",
        "\n",
        "    def mostra_tempo_clonagens(self):\n",
        "        for t1 in self.lista_tempo_inicio:\n",
        "            for t2 in self.lista_tempo_conclusao:\n",
        "                if t1[0] == t2[0]:\n",
        "                    print(f\"Tempo de clonagem do {t1[0]} é: {t2[1]-t1[1]} s\")\n",
        "\n",
        "class CSVFile:\n",
        "    def __init__(self, file_path):\n",
        "        self.file_path = file_path\n",
        "\n",
        "    def read(self):\n",
        "        with open(self.file_path, 'r') as csv_file:\n",
        "            csv_reader = csv.reader(csv_file)\n",
        "            for row in csv_reader:\n",
        "                yield row\n",
        "\n",
        "class CSVCombiner:\n",
        "    def __init__(self, folder_path):\n",
        "        self.folder_path = folder_path\n",
        "        self.accumulated_content = []\n",
        "\n",
        "    def combine(self):\n",
        "        for filename in os.listdir(self.folder_path):\n",
        "            if filename.endswith('.csv'):\n",
        "                file_path = os.path.join(self.folder_path, filename)\n",
        "                csv_file = CSVFile(file_path)\n",
        "                for row in csv_file.read():\n",
        "                  if 'name' not in row and 'lucene-solr' not in row and 'jackson' not in row:\n",
        "                      self.accumulated_content.append(row)\n",
        "\n",
        "    def write(self, output_file_path):\n",
        "        with open(output_file_path, 'w', newline='') as output_file:\n",
        "            csv_writer = csv.writer(output_file)\n",
        "            csv_writer.writerows(self.accumulated_content)\n",
        "\n",
        "class CSVModifier:\n",
        "    def __init__(self, csv_file):\n",
        "        self.csv_file = csv_file\n",
        "\n",
        "    def insert_new_line(self, new_line):\n",
        "        existing_content = []\n",
        "        with open(self.csv_file.file_path, 'r') as csv_file:\n",
        "            csv_reader = csv.reader(csv_file)\n",
        "            for row in csv_reader:\n",
        "                existing_content.append(row)\n",
        "\n",
        "        existing_content.insert(0, new_line)\n",
        "\n",
        "        with open(self.csv_file.file_path, 'w', newline='') as csv_file:\n",
        "            csv_writer = csv.writer(csv_file)\n",
        "            csv_writer.writerows(existing_content)"
      ]
    },
    {
      "cell_type": "markdown",
      "metadata": {
        "id": "bJUR_NJEnL35"
      },
      "source": [
        "### List the repositories for analysis"
      ]
    },
    {
      "cell_type": "code",
      "execution_count": 8,
      "metadata": {
        "colab": {
          "base_uri": "https://localhost:8080/"
        },
        "id": "xFkrO3X3DQMd",
        "outputId": "525d820b-a4ef-41e0-9948-2ae23cb08413"
      },
      "outputs": [
        {
          "name": "stdout",
          "output_type": "stream",
          "text": [
            "['https://github.com/apache/kafka.git', 'https://github.com/apache/cassandra.git', 'https://github.com/apache/activemq.git', 'https://github.com/google/guava.git']\n"
          ]
        }
      ],
      "source": [
        "lista_repositorios = ['https://github.com/apache/kafka.git', 'https://github.com/apache/cassandra.git', 'https://github.com/apache/activemq.git', 'https://github.com/google/guava.git']\n",
        "print(lista_repositorios)"
      ]
    },
    {
      "cell_type": "markdown",
      "metadata": {
        "id": "LxUSyFAhnQR9"
      },
      "source": [
        "### Clone repositories locally\n"
      ]
    },
    {
      "cell_type": "code",
      "execution_count": 9,
      "metadata": {
        "colab": {
          "base_uri": "https://localhost:8080/"
        },
        "id": "1Lofk24DD5qF",
        "outputId": "9a8afb21-0aca-4516-83c4-76769778e749"
      },
      "outputs": [
        {
          "name": "stdout",
          "output_type": "stream",
          "text": [
            "Clonando os 4 repositórios. Aguarde...\n",
            "Thread 1 iniciada em 2023-08-27 22:23:31.170323 - clonando kafka:https://github.com/apache/kafka.git...\n",
            "Thread 2 iniciada em 2023-08-27 22:23:31.185533 - clonando cassandra:https://github.com/apache/cassandra.git...\n",
            "Thread 3 iniciada em 2023-08-27 22:23:31.186622 - clonando activemq:https://github.com/apache/activemq.git...\n",
            "Thread 4 iniciada em 2023-08-27 22:23:31.212502 - clonando guava:https://github.com/google/guava.git...\n",
            "Clonagem do repo https://github.com/apache/activemq.git concluída com sucesso! -> instante: 2023-08-27 22:24:08.273858\n",
            "Clonagem do repo https://github.com/apache/kafka.git concluída com sucesso! -> instante: 2023-08-27 22:24:45.693926\n",
            "Clonagem do repo https://github.com/apache/cassandra.git concluída com sucesso! -> instante: 2023-08-27 22:25:42.765216\n",
            "Clonagem do repo https://github.com/google/guava.git concluída com sucesso! -> instante: 2023-08-27 22:26:12.363832\n",
            "Tempo de clonagem do kafka é: 0:01:14.523603 s\n",
            "Tempo de clonagem do cassandra é: 0:02:11.579683 s\n",
            "Tempo de clonagem do activemq é: 0:00:37.087236 s\n",
            "Tempo de clonagem do guava é: 0:02:41.151330 s\n",
            "Clonagem de todos os 4 concluída com sucesso!\n"
          ]
        }
      ],
      "source": [
        "qtd_repositorios = len(lista_repositorios)\n",
        "print(f'Clonando os {qtd_repositorios} repositórios. Aguarde...')\n",
        "cloner = RepoCloner(qtd_repositorios=len(lista_repositorios), lista_urls=lista_repositorios)\n",
        "cloner.clona_repositorios()\n",
        "cloner.mostra_tempo_clonagens()\n",
        "print(f'Clonagem de todos os {qtd_repositorios} concluída com sucesso!')"
      ]
    },
    {
      "cell_type": "markdown",
      "metadata": {
        "id": "KXOf6TSunT9m"
      },
      "source": [
        "### Analyzes CLOC and other metrics for each cloned repository"
      ]
    },
    {
      "cell_type": "code",
      "execution_count": 10,
      "metadata": {
        "colab": {
          "base_uri": "https://localhost:8080/"
        },
        "id": "rjGoCH2Q36lD",
        "outputId": "3277c247-9659-4e85-98c0-709ba40a6def"
      },
      "outputs": [
        {
          "name": "stdout",
          "output_type": "stream",
          "text": [
            "Analise CLOC diretório: /content/kafka\n",
            "Gera o .csv do https://github.com/apache/kafka.git\n",
            "Analise CLOC diretório: /content/cassandra\n",
            "Gera o .csv do https://github.com/apache/cassandra.git\n",
            "Analise CLOC diretório: /content/activemq\n",
            "Gera o .csv do https://github.com/apache/activemq.git\n",
            "Analise CLOC diretório: /content/guava\n",
            "Gera o .csv do https://github.com/google/guava.git\n"
          ]
        }
      ],
      "source": [
        "for each in lista_repositorios:\n",
        "  try:\n",
        "    URL_REPOSITORY = each\n",
        "    target_directory = get_repository_name(url=URL_REPOSITORY)\n",
        "    target_directory = '/content/'+target_directory\n",
        "    json_file = target_directory + '.json'\n",
        "\n",
        "    print(f'Analise CLOC diretório: {target_directory}')\n",
        "    directory_analyzer = DirectoryAnalyzer(target_directory=target_directory, cloc_output_file=json_file)\n",
        "    total_nFiles, total_unique_files, total_blank_loc, total_comment_loc, total_java_loc, total_files_loc = directory_analyzer.cloc()\n",
        "\n",
        "    my_dict=gera_my_dict(URL_REPOSITORY,total_nFiles, total_unique_files, total_blank_loc, total_comment_loc, total_java_loc, total_files_loc)\n",
        "\n",
        "    print(f'Gera o .csv do {URL_REPOSITORY}')\n",
        "    gera_csv(URL_REPOSITORY,my_dict)\n",
        "  except Exception as ex:\n",
        "    print(f'Erro ao fazer a análise CLOC do repositório {each}')"
      ]
    },
    {
      "cell_type": "code",
      "execution_count": 11,
      "metadata": {
        "id": "xNK1RgGtO1Xl"
      },
      "outputs": [],
      "source": [
        "!rm -rf /content/temp  && mkdir /content/temp\n",
        "!cp /content/*.csv /content/temp"
      ]
    },
    {
      "cell_type": "code",
      "execution_count": 12,
      "metadata": {
        "colab": {
          "base_uri": "https://localhost:8080/"
        },
        "id": "G4QAaF7WO6NW",
        "outputId": "87658be7-5f45-4094-f924-bf3b1dd57ad8"
      },
      "outputs": [
        {
          "name": "stdout",
          "output_type": "stream",
          "text": [
            "total 24K\n",
            "2629176 drwxr-xr-x 2 root root 4.0K Aug 27 22:28 .\n",
            "2629178 -rw-r--r-- 1 root root  222 Aug 27 22:28 cassandra.csv\n",
            "2646015 -rw-r--r-- 1 root root  215 Aug 27 22:28 guava.csv\n",
            "2646016 -rw-r--r-- 1 root root  217 Aug 27 22:28 kafka.csv\n",
            "2629177 -rw-r--r-- 1 root root  219 Aug 27 22:28 activemq.csv\n",
            "2752518 drwxr-xr-x 1 root root 4.0K Aug 27 22:28 ..\n"
          ]
        }
      ],
      "source": [
        "!ls -liath /content/temp"
      ]
    },
    {
      "cell_type": "markdown",
      "metadata": {
        "id": "k6ZyonUEog6a"
      },
      "source": [
        "### Merge all .csv"
      ]
    },
    {
      "cell_type": "code",
      "execution_count": 13,
      "metadata": {
        "id": "yu1v5JZph6Bd"
      },
      "outputs": [],
      "source": [
        "folder_path = '/content/temp'\n",
        "output_file_path = '/content/temp/combined.csv'\n",
        "csv_combiner = CSVCombiner(folder_path)\n",
        "csv_combiner.combine()\n",
        "csv_combiner.write(output_file_path)\n",
        "\n",
        "csv_file_path = '/content/temp/combined.csv'\n",
        "new_line = ['name','files','java','blank_loc_java','comment_loc_java','loc_java','loc_files','commit_inicial','commit_final','qtd_commits','qtd_releases']\n",
        "csv_file = CSVFile(csv_file_path)\n",
        "csv_modifier = CSVModifier(csv_file)\n",
        "csv_modifier.insert_new_line(new_line)"
      ]
    },
    {
      "cell_type": "markdown",
      "metadata": {
        "id": "OcNEG8meolgb"
      },
      "source": [
        "### Generates the Dataframe of the CLOC analyzes of the repositories"
      ]
    },
    {
      "cell_type": "code",
      "execution_count": 14,
      "metadata": {
        "colab": {
          "base_uri": "https://localhost:8080/",
          "height": 175
        },
        "id": "MOHXfaSfhozy",
        "outputId": "2a15b025-1cb6-49a3-e32a-4f5ed5e2c77a"
      },
      "outputs": [
        {
          "data": {
            "text/html": [
              "\n",
              "  <div id=\"df-4938137c-5471-4829-a6fb-1cb5f89336dd\" class=\"colab-df-container\">\n",
              "    <div>\n",
              "<style scoped>\n",
              "    .dataframe tbody tr th:only-of-type {\n",
              "        vertical-align: middle;\n",
              "    }\n",
              "\n",
              "    .dataframe tbody tr th {\n",
              "        vertical-align: top;\n",
              "    }\n",
              "\n",
              "    .dataframe thead th {\n",
              "        text-align: right;\n",
              "    }\n",
              "</style>\n",
              "<table border=\"1\" class=\"dataframe\">\n",
              "  <thead>\n",
              "    <tr style=\"text-align: right;\">\n",
              "      <th></th>\n",
              "      <th>name</th>\n",
              "      <th>files</th>\n",
              "      <th>loc_files</th>\n",
              "      <th>java</th>\n",
              "      <th>loc_java</th>\n",
              "      <th>qtd_commits</th>\n",
              "      <th>qtd_releases</th>\n",
              "      <th>life_span</th>\n",
              "    </tr>\n",
              "  </thead>\n",
              "  <tbody>\n",
              "    <tr>\n",
              "      <th>0</th>\n",
              "      <td>activemq</td>\n",
              "      <td>4922</td>\n",
              "      <td>465609</td>\n",
              "      <td>4355</td>\n",
              "      <td>415820</td>\n",
              "      <td>11448</td>\n",
              "      <td>85</td>\n",
              "      <td>17.646575</td>\n",
              "    </tr>\n",
              "    <tr>\n",
              "      <th>1</th>\n",
              "      <td>guava</td>\n",
              "      <td>1968</td>\n",
              "      <td>361115</td>\n",
              "      <td>1909</td>\n",
              "      <td>356775</td>\n",
              "      <td>6163</td>\n",
              "      <td>101</td>\n",
              "      <td>14.191781</td>\n",
              "    </tr>\n",
              "    <tr>\n",
              "      <th>2</th>\n",
              "      <td>kafka</td>\n",
              "      <td>5384</td>\n",
              "      <td>849912</td>\n",
              "      <td>4226</td>\n",
              "      <td>624056</td>\n",
              "      <td>11585</td>\n",
              "      <td>222</td>\n",
              "      <td>12.076712</td>\n",
              "    </tr>\n",
              "    <tr>\n",
              "      <th>3</th>\n",
              "      <td>cassandra</td>\n",
              "      <td>4997</td>\n",
              "      <td>1055355</td>\n",
              "      <td>4458</td>\n",
              "      <td>680588</td>\n",
              "      <td>29070</td>\n",
              "      <td>297</td>\n",
              "      <td>14.487671</td>\n",
              "    </tr>\n",
              "  </tbody>\n",
              "</table>\n",
              "</div>\n",
              "    <div class=\"colab-df-buttons\">\n",
              "\n",
              "  <div class=\"colab-df-container\">\n",
              "    <button class=\"colab-df-convert\" onclick=\"convertToInteractive('df-4938137c-5471-4829-a6fb-1cb5f89336dd')\"\n",
              "            title=\"Convert this dataframe to an interactive table.\"\n",
              "            style=\"display:none;\">\n",
              "\n",
              "  <svg xmlns=\"http://www.w3.org/2000/svg\" height=\"24px\" viewBox=\"0 -960 960 960\">\n",
              "    <path d=\"M120-120v-720h720v720H120Zm60-500h600v-160H180v160Zm220 220h160v-160H400v160Zm0 220h160v-160H400v160ZM180-400h160v-160H180v160Zm440 0h160v-160H620v160ZM180-180h160v-160H180v160Zm440 0h160v-160H620v160Z\"/>\n",
              "  </svg>\n",
              "    </button>\n",
              "\n",
              "  <style>\n",
              "    .colab-df-container {\n",
              "      display:flex;\n",
              "      gap: 12px;\n",
              "    }\n",
              "\n",
              "    .colab-df-convert {\n",
              "      background-color: #E8F0FE;\n",
              "      border: none;\n",
              "      border-radius: 50%;\n",
              "      cursor: pointer;\n",
              "      display: none;\n",
              "      fill: #1967D2;\n",
              "      height: 32px;\n",
              "      padding: 0 0 0 0;\n",
              "      width: 32px;\n",
              "    }\n",
              "\n",
              "    .colab-df-convert:hover {\n",
              "      background-color: #E2EBFA;\n",
              "      box-shadow: 0px 1px 2px rgba(60, 64, 67, 0.3), 0px 1px 3px 1px rgba(60, 64, 67, 0.15);\n",
              "      fill: #174EA6;\n",
              "    }\n",
              "\n",
              "    .colab-df-buttons div {\n",
              "      margin-bottom: 4px;\n",
              "    }\n",
              "\n",
              "    [theme=dark] .colab-df-convert {\n",
              "      background-color: #3B4455;\n",
              "      fill: #D2E3FC;\n",
              "    }\n",
              "\n",
              "    [theme=dark] .colab-df-convert:hover {\n",
              "      background-color: #434B5C;\n",
              "      box-shadow: 0px 1px 3px 1px rgba(0, 0, 0, 0.15);\n",
              "      filter: drop-shadow(0px 1px 2px rgba(0, 0, 0, 0.3));\n",
              "      fill: #FFFFFF;\n",
              "    }\n",
              "  </style>\n",
              "\n",
              "    <script>\n",
              "      const buttonEl =\n",
              "        document.querySelector('#df-4938137c-5471-4829-a6fb-1cb5f89336dd button.colab-df-convert');\n",
              "      buttonEl.style.display =\n",
              "        google.colab.kernel.accessAllowed ? 'block' : 'none';\n",
              "\n",
              "      async function convertToInteractive(key) {\n",
              "        const element = document.querySelector('#df-4938137c-5471-4829-a6fb-1cb5f89336dd');\n",
              "        const dataTable =\n",
              "          await google.colab.kernel.invokeFunction('convertToInteractive',\n",
              "                                                    [key], {});\n",
              "        if (!dataTable) return;\n",
              "\n",
              "        const docLinkHtml = 'Like what you see? Visit the ' +\n",
              "          '<a target=\"_blank\" href=https://colab.research.google.com/notebooks/data_table.ipynb>data table notebook</a>'\n",
              "          + ' to learn more about interactive tables.';\n",
              "        element.innerHTML = '';\n",
              "        dataTable['output_type'] = 'display_data';\n",
              "        await google.colab.output.renderOutput(dataTable, element);\n",
              "        const docLink = document.createElement('div');\n",
              "        docLink.innerHTML = docLinkHtml;\n",
              "        element.appendChild(docLink);\n",
              "      }\n",
              "    </script>\n",
              "  </div>\n",
              "\n",
              "    </div>\n",
              "  </div>\n"
            ],
            "text/plain": [
              "        name  files  loc_files  java  loc_java  qtd_commits  qtd_releases  \\\n",
              "0   activemq   4922     465609  4355    415820        11448            85   \n",
              "1      guava   1968     361115  1909    356775         6163           101   \n",
              "2      kafka   5384     849912  4226    624056        11585           222   \n",
              "3  cassandra   4997    1055355  4458    680588        29070           297   \n",
              "\n",
              "   life_span  \n",
              "0  17.646575  \n",
              "1  14.191781  \n",
              "2  12.076712  \n",
              "3  14.487671  "
            ]
          },
          "execution_count": 14,
          "metadata": {},
          "output_type": "execute_result"
        }
      ],
      "source": [
        "df_cloc_repositories = pd.read_csv('/content/temp/combined.csv')\n",
        "\n",
        "df_cloc_repositories['commit_inicial'] = pd.to_datetime(df_cloc_repositories['commit_inicial'])\n",
        "df_cloc_repositories['commit_final'] = pd.to_datetime(df_cloc_repositories['commit_final'])\n",
        "\n",
        "# Calculate the difference in years\n",
        "df_cloc_repositories['life_span'] = (df_cloc_repositories['commit_final'] - df_cloc_repositories['commit_inicial']).dt.days / 365\n",
        "\n",
        "df_cloc_repositories[['name','files','loc_files','java','loc_java','qtd_commits','qtd_releases','life_span']]"
      ]
    },
    {
      "cell_type": "code",
      "execution_count": 29,
      "metadata": {
        "colab": {
          "base_uri": "https://localhost:8080/",
          "height": 175
        },
        "id": "4DeeG3NawZY5",
        "outputId": "2b038c58-64d6-447c-d45a-490e7cf692e0"
      },
      "outputs": [
        {
          "data": {
            "text/html": [
              "\n",
              "  <div id=\"df-e7846f7a-d687-49f1-858a-5a054593f3fc\" class=\"colab-df-container\">\n",
              "    <div>\n",
              "<style scoped>\n",
              "    .dataframe tbody tr th:only-of-type {\n",
              "        vertical-align: middle;\n",
              "    }\n",
              "\n",
              "    .dataframe tbody tr th {\n",
              "        vertical-align: top;\n",
              "    }\n",
              "\n",
              "    .dataframe thead th {\n",
              "        text-align: right;\n",
              "    }\n",
              "</style>\n",
              "<table border=\"1\" class=\"dataframe\">\n",
              "  <thead>\n",
              "    <tr style=\"text-align: right;\">\n",
              "      <th></th>\n",
              "      <th>name</th>\n",
              "      <th>files</th>\n",
              "      <th>loc_files</th>\n",
              "      <th>java</th>\n",
              "      <th>loc_java</th>\n",
              "      <th>qtd_commits</th>\n",
              "      <th>qtd_releases</th>\n",
              "      <th>life_span</th>\n",
              "    </tr>\n",
              "  </thead>\n",
              "  <tbody>\n",
              "    <tr>\n",
              "      <th>0</th>\n",
              "      <td>activemq</td>\n",
              "      <td>4922</td>\n",
              "      <td>465609</td>\n",
              "      <td>4355</td>\n",
              "      <td>415820</td>\n",
              "      <td>11448</td>\n",
              "      <td>85</td>\n",
              "      <td>17.646575</td>\n",
              "    </tr>\n",
              "    <tr>\n",
              "      <th>3</th>\n",
              "      <td>cassandra</td>\n",
              "      <td>4997</td>\n",
              "      <td>1055355</td>\n",
              "      <td>4458</td>\n",
              "      <td>680588</td>\n",
              "      <td>29070</td>\n",
              "      <td>297</td>\n",
              "      <td>14.487671</td>\n",
              "    </tr>\n",
              "    <tr>\n",
              "      <th>1</th>\n",
              "      <td>guava</td>\n",
              "      <td>1968</td>\n",
              "      <td>361115</td>\n",
              "      <td>1909</td>\n",
              "      <td>356775</td>\n",
              "      <td>6163</td>\n",
              "      <td>101</td>\n",
              "      <td>14.191781</td>\n",
              "    </tr>\n",
              "    <tr>\n",
              "      <th>2</th>\n",
              "      <td>kafka</td>\n",
              "      <td>5384</td>\n",
              "      <td>849912</td>\n",
              "      <td>4226</td>\n",
              "      <td>624056</td>\n",
              "      <td>11585</td>\n",
              "      <td>222</td>\n",
              "      <td>12.076712</td>\n",
              "    </tr>\n",
              "  </tbody>\n",
              "</table>\n",
              "</div>\n",
              "    <div class=\"colab-df-buttons\">\n",
              "\n",
              "  <div class=\"colab-df-container\">\n",
              "    <button class=\"colab-df-convert\" onclick=\"convertToInteractive('df-e7846f7a-d687-49f1-858a-5a054593f3fc')\"\n",
              "            title=\"Convert this dataframe to an interactive table.\"\n",
              "            style=\"display:none;\">\n",
              "\n",
              "  <svg xmlns=\"http://www.w3.org/2000/svg\" height=\"24px\" viewBox=\"0 -960 960 960\">\n",
              "    <path d=\"M120-120v-720h720v720H120Zm60-500h600v-160H180v160Zm220 220h160v-160H400v160Zm0 220h160v-160H400v160ZM180-400h160v-160H180v160Zm440 0h160v-160H620v160ZM180-180h160v-160H180v160Zm440 0h160v-160H620v160Z\"/>\n",
              "  </svg>\n",
              "    </button>\n",
              "\n",
              "  <style>\n",
              "    .colab-df-container {\n",
              "      display:flex;\n",
              "      gap: 12px;\n",
              "    }\n",
              "\n",
              "    .colab-df-convert {\n",
              "      background-color: #E8F0FE;\n",
              "      border: none;\n",
              "      border-radius: 50%;\n",
              "      cursor: pointer;\n",
              "      display: none;\n",
              "      fill: #1967D2;\n",
              "      height: 32px;\n",
              "      padding: 0 0 0 0;\n",
              "      width: 32px;\n",
              "    }\n",
              "\n",
              "    .colab-df-convert:hover {\n",
              "      background-color: #E2EBFA;\n",
              "      box-shadow: 0px 1px 2px rgba(60, 64, 67, 0.3), 0px 1px 3px 1px rgba(60, 64, 67, 0.15);\n",
              "      fill: #174EA6;\n",
              "    }\n",
              "\n",
              "    .colab-df-buttons div {\n",
              "      margin-bottom: 4px;\n",
              "    }\n",
              "\n",
              "    [theme=dark] .colab-df-convert {\n",
              "      background-color: #3B4455;\n",
              "      fill: #D2E3FC;\n",
              "    }\n",
              "\n",
              "    [theme=dark] .colab-df-convert:hover {\n",
              "      background-color: #434B5C;\n",
              "      box-shadow: 0px 1px 3px 1px rgba(0, 0, 0, 0.15);\n",
              "      filter: drop-shadow(0px 1px 2px rgba(0, 0, 0, 0.3));\n",
              "      fill: #FFFFFF;\n",
              "    }\n",
              "  </style>\n",
              "\n",
              "    <script>\n",
              "      const buttonEl =\n",
              "        document.querySelector('#df-e7846f7a-d687-49f1-858a-5a054593f3fc button.colab-df-convert');\n",
              "      buttonEl.style.display =\n",
              "        google.colab.kernel.accessAllowed ? 'block' : 'none';\n",
              "\n",
              "      async function convertToInteractive(key) {\n",
              "        const element = document.querySelector('#df-e7846f7a-d687-49f1-858a-5a054593f3fc');\n",
              "        const dataTable =\n",
              "          await google.colab.kernel.invokeFunction('convertToInteractive',\n",
              "                                                    [key], {});\n",
              "        if (!dataTable) return;\n",
              "\n",
              "        const docLinkHtml = 'Like what you see? Visit the ' +\n",
              "          '<a target=\"_blank\" href=https://colab.research.google.com/notebooks/data_table.ipynb>data table notebook</a>'\n",
              "          + ' to learn more about interactive tables.';\n",
              "        element.innerHTML = '';\n",
              "        dataTable['output_type'] = 'display_data';\n",
              "        await google.colab.output.renderOutput(dataTable, element);\n",
              "        const docLink = document.createElement('div');\n",
              "        docLink.innerHTML = docLinkHtml;\n",
              "        element.appendChild(docLink);\n",
              "      }\n",
              "    </script>\n",
              "  </div>\n",
              "\n",
              "    </div>\n",
              "  </div>\n"
            ],
            "text/plain": [
              "        name  files  loc_files  java  loc_java  qtd_commits  qtd_releases  \\\n",
              "0   activemq   4922     465609  4355    415820        11448            85   \n",
              "3  cassandra   4997    1055355  4458    680588        29070           297   \n",
              "1      guava   1968     361115  1909    356775         6163           101   \n",
              "2      kafka   5384     849912  4226    624056        11585           222   \n",
              "\n",
              "   life_span  \n",
              "0  17.646575  \n",
              "3  14.487671  \n",
              "1  14.191781  \n",
              "2  12.076712  "
            ]
          },
          "execution_count": 29,
          "metadata": {},
          "output_type": "execute_result"
        }
      ],
      "source": [
        "df_temp1 = df_cloc_repositories[['name','files','loc_files','java','loc_java','qtd_commits','qtd_releases','life_span']]\n",
        "df_temp1 = df_temp1.sort_values(by='name')\n",
        "df_temp1"
      ]
    },
    {
      "cell_type": "code",
      "execution_count": 26,
      "metadata": {
        "colab": {
          "base_uri": "https://localhost:8080/",
          "height": 175
        },
        "id": "Svss6qC7wWqd",
        "outputId": "4e0465d0-7557-4b78-e295-7e9205dd1753"
      },
      "outputs": [
        {
          "data": {
            "text/html": [
              "\n",
              "  <div id=\"df-e2027467-dc2f-4d0f-8cb8-2defcc60a806\" class=\"colab-df-container\">\n",
              "    <div>\n",
              "<style scoped>\n",
              "    .dataframe tbody tr th:only-of-type {\n",
              "        vertical-align: middle;\n",
              "    }\n",
              "\n",
              "    .dataframe tbody tr th {\n",
              "        vertical-align: top;\n",
              "    }\n",
              "\n",
              "    .dataframe thead th {\n",
              "        text-align: right;\n",
              "    }\n",
              "</style>\n",
              "<table border=\"1\" class=\"dataframe\">\n",
              "  <thead>\n",
              "    <tr style=\"text-align: right;\">\n",
              "      <th></th>\n",
              "      <th>url</th>\n",
              "      <th>nome</th>\n",
              "      <th>source_java</th>\n",
              "      <th>stars</th>\n",
              "      <th>forks</th>\n",
              "      <th>colaborators</th>\n",
              "    </tr>\n",
              "  </thead>\n",
              "  <tbody>\n",
              "    <tr>\n",
              "      <th>0</th>\n",
              "      <td>https://github.com/apache/activemq.git</td>\n",
              "      <td>activemq</td>\n",
              "      <td>activemq-http/src/main/java</td>\n",
              "      <td>2200</td>\n",
              "      <td>1400</td>\n",
              "      <td>127</td>\n",
              "    </tr>\n",
              "    <tr>\n",
              "      <th>1</th>\n",
              "      <td>https://github.com/apache/cassandra.git</td>\n",
              "      <td>cassandra</td>\n",
              "      <td>src/java</td>\n",
              "      <td>8100</td>\n",
              "      <td>3400</td>\n",
              "      <td>424</td>\n",
              "    </tr>\n",
              "    <tr>\n",
              "      <th>2</th>\n",
              "      <td>https://github.com/google/guava.git</td>\n",
              "      <td>guava</td>\n",
              "      <td>guava/src</td>\n",
              "      <td>48100</td>\n",
              "      <td>10700</td>\n",
              "      <td>293</td>\n",
              "    </tr>\n",
              "    <tr>\n",
              "      <th>3</th>\n",
              "      <td>https://github.com/apache/kafka.git</td>\n",
              "      <td>kafka</td>\n",
              "      <td>core/src</td>\n",
              "      <td>25700</td>\n",
              "      <td>13000</td>\n",
              "      <td>1042</td>\n",
              "    </tr>\n",
              "  </tbody>\n",
              "</table>\n",
              "</div>\n",
              "    <div class=\"colab-df-buttons\">\n",
              "\n",
              "  <div class=\"colab-df-container\">\n",
              "    <button class=\"colab-df-convert\" onclick=\"convertToInteractive('df-e2027467-dc2f-4d0f-8cb8-2defcc60a806')\"\n",
              "            title=\"Convert this dataframe to an interactive table.\"\n",
              "            style=\"display:none;\">\n",
              "\n",
              "  <svg xmlns=\"http://www.w3.org/2000/svg\" height=\"24px\" viewBox=\"0 -960 960 960\">\n",
              "    <path d=\"M120-120v-720h720v720H120Zm60-500h600v-160H180v160Zm220 220h160v-160H400v160Zm0 220h160v-160H400v160ZM180-400h160v-160H180v160Zm440 0h160v-160H620v160ZM180-180h160v-160H180v160Zm440 0h160v-160H620v160Z\"/>\n",
              "  </svg>\n",
              "    </button>\n",
              "\n",
              "  <style>\n",
              "    .colab-df-container {\n",
              "      display:flex;\n",
              "      gap: 12px;\n",
              "    }\n",
              "\n",
              "    .colab-df-convert {\n",
              "      background-color: #E8F0FE;\n",
              "      border: none;\n",
              "      border-radius: 50%;\n",
              "      cursor: pointer;\n",
              "      display: none;\n",
              "      fill: #1967D2;\n",
              "      height: 32px;\n",
              "      padding: 0 0 0 0;\n",
              "      width: 32px;\n",
              "    }\n",
              "\n",
              "    .colab-df-convert:hover {\n",
              "      background-color: #E2EBFA;\n",
              "      box-shadow: 0px 1px 2px rgba(60, 64, 67, 0.3), 0px 1px 3px 1px rgba(60, 64, 67, 0.15);\n",
              "      fill: #174EA6;\n",
              "    }\n",
              "\n",
              "    .colab-df-buttons div {\n",
              "      margin-bottom: 4px;\n",
              "    }\n",
              "\n",
              "    [theme=dark] .colab-df-convert {\n",
              "      background-color: #3B4455;\n",
              "      fill: #D2E3FC;\n",
              "    }\n",
              "\n",
              "    [theme=dark] .colab-df-convert:hover {\n",
              "      background-color: #434B5C;\n",
              "      box-shadow: 0px 1px 3px 1px rgba(0, 0, 0, 0.15);\n",
              "      filter: drop-shadow(0px 1px 2px rgba(0, 0, 0, 0.3));\n",
              "      fill: #FFFFFF;\n",
              "    }\n",
              "  </style>\n",
              "\n",
              "    <script>\n",
              "      const buttonEl =\n",
              "        document.querySelector('#df-e2027467-dc2f-4d0f-8cb8-2defcc60a806 button.colab-df-convert');\n",
              "      buttonEl.style.display =\n",
              "        google.colab.kernel.accessAllowed ? 'block' : 'none';\n",
              "\n",
              "      async function convertToInteractive(key) {\n",
              "        const element = document.querySelector('#df-e2027467-dc2f-4d0f-8cb8-2defcc60a806');\n",
              "        const dataTable =\n",
              "          await google.colab.kernel.invokeFunction('convertToInteractive',\n",
              "                                                    [key], {});\n",
              "        if (!dataTable) return;\n",
              "\n",
              "        const docLinkHtml = 'Like what you see? Visit the ' +\n",
              "          '<a target=\"_blank\" href=https://colab.research.google.com/notebooks/data_table.ipynb>data table notebook</a>'\n",
              "          + ' to learn more about interactive tables.';\n",
              "        element.innerHTML = '';\n",
              "        dataTable['output_type'] = 'display_data';\n",
              "        await google.colab.output.renderOutput(dataTable, element);\n",
              "        const docLink = document.createElement('div');\n",
              "        docLink.innerHTML = docLinkHtml;\n",
              "        element.appendChild(docLink);\n",
              "      }\n",
              "    </script>\n",
              "  </div>\n",
              "\n",
              "    </div>\n",
              "  </div>\n"
            ],
            "text/plain": [
              "                                       url       nome  \\\n",
              "0   https://github.com/apache/activemq.git   activemq   \n",
              "1  https://github.com/apache/cassandra.git  cassandra   \n",
              "2      https://github.com/google/guava.git      guava   \n",
              "3      https://github.com/apache/kafka.git      kafka   \n",
              "\n",
              "                   source_java  stars  forks  colaborators  \n",
              "0  activemq-http/src/main/java   2200   1400           127  \n",
              "1                     src/java   8100   3400           424  \n",
              "2                    guava/src  48100  10700           293  \n",
              "3                     core/src  25700  13000          1042  "
            ]
          },
          "execution_count": 26,
          "metadata": {},
          "output_type": "execute_result"
        }
      ],
      "source": [
        "df_temp = pd.read_csv('https://raw.githubusercontent.com/armandossrecife/teste/main/my_repositories_tese.csv')\n",
        "df_temp = df_temp.sort_values(by='nome')\n",
        "df_temp"
      ]
    },
    {
      "cell_type": "code",
      "execution_count": 30,
      "metadata": {
        "colab": {
          "base_uri": "https://localhost:8080/",
          "height": 529
        },
        "id": "OKCKQA5c1R7h",
        "outputId": "0600771d-72e8-4b6c-e500-e01d66e8ed07"
      },
      "outputs": [
        {
          "data": {
            "text/plain": [
              "<Axes: >"
            ]
          },
          "execution_count": 30,
          "metadata": {},
          "output_type": "execute_result"
        },
        {
          "data": {
            "image/png": "[encoded data removed]",
            "text/plain": [
              "<Figure size 640x480 with 2 Axes>"
            ]
          },
          "metadata": {},
          "output_type": "display_data"
        }
      ],
      "source": [
        "import seaborn as sns\n",
        "\n",
        "# calculate the correlation matrix on the numeric columns\n",
        "corr = df_temp1.select_dtypes('number').corr()\n",
        "\n",
        "sns.heatmap(corr, cmap='Blues')"
      ]
    },
    {
      "cell_type": "markdown",
      "metadata": {
        "id": "tqnACQwvBSIT"
      },
      "source": [
        "# 4. Critical files - ATDCodeAnalyzer\n",
        "\n",
        "Obs: Para os repositórios do ActiveMQ e Guava ainda não foram selecionados os Architectural Smells e Design Smells"
      ]
    },
    {
      "cell_type": "markdown",
      "metadata": {
        "id": "07ou1X2-EOA5"
      },
      "source": [
        "## Cassandra"
      ]
    },
    {
      "cell_type": "code",
      "execution_count": null,
      "metadata": {
        "colab": {
          "base_uri": "https://localhost:8080/"
        },
        "id": "cwRDTmU_EPsj",
        "outputId": "90770076-be48-4293-fac7-8bf6ea21f02d"
      },
      "outputs": [
        {
          "data": {
            "text/plain": [
              "[('StorageService.java', 3537, 144),\n",
              " ('ColumnFamilyStore.java', 1966, 89),\n",
              " ('DatabaseDescriptor.java', 2092, 87),\n",
              " ('CompactionManager.java', 1279, 74),\n",
              " ('StorageProxy.java', 1667, 53),\n",
              " ('SSTableReader.java', 767, 53),\n",
              " ('Config.java', 553, 52),\n",
              " ('CassandraDaemon.java', 1001, 51),\n",
              " ('SelectStatement.java', 1174, 44),\n",
              " ('SinglePartitionReadCommand.java', 994, 38),\n",
              " ('NodeProbe.java', 513, 37),\n",
              " ('MessagingService.java', 574, 36)]"
            ]
          },
          "execution_count": 49,
          "metadata": {},
          "output_type": "execute_result"
        }
      ],
      "source": [
        "lista_arquivos_criticos_cassandra = [(\"StorageService.java\", 3537, 144), (\"ColumnFamilyStore.java\", 1966, 89), (\"DatabaseDescriptor.java\", 2092, 87), (\"CompactionManager.java\", 1279, 74), (\"StorageProxy.java\", 1667, 53), (\"SSTableReader.java\", 767, 53), (\"Config.java\", 553, 52), (\"CassandraDaemon.java\", 1001, 51), (\"SelectStatement.java\", 1174, 44), (\"SinglePartitionReadCommand.java\", 994, 38),(\"NodeProbe.java\", 513, 37), (\"MessagingService.java\", 574, 36)]\n",
        "lista_arquivos_criticos_cassandra"
      ]
    },
    {
      "cell_type": "markdown",
      "metadata": {
        "id": "6LU94E3EGst1"
      },
      "source": [
        "![Critial Files Cassandra](https://raw.githubusercontent.com/armandossrecife/piloto/main/graficos/scatter_plot_cassandra.png \"Critical Files Cassandra - Parcial\").\n",
        "\n",
        "![Boxplot AMLOC Cassandra](https://raw.githubusercontent.com/armandossrecife/piloto/main/graficos/boxplot_amloc_cassandra.png \"Boxplot AMLOC Cassandra\")\n",
        "\n",
        "![Boxplot FOC Cassandra](https://raw.githubusercontent.com/armandossrecife/piloto/main/graficos/boxplot_foc_cassandra.png \"Boxplot FOC Cassandra\")\n",
        "\n",
        "![Boxplot CC Cassandra](https://raw.githubusercontent.com/armandossrecife/piloto/main/graficos/boxplot_cc_cassandra.png \"Boxplot CC Cassandra\")"
      ]
    },
    {
      "cell_type": "markdown",
      "metadata": {
        "id": "wLEXG73cHV8S"
      },
      "source": [
        "# 5. Critical Files - Tsoukalas2023"
      ]
    },
    {
      "cell_type": "markdown",
      "metadata": {
        "id": "E-M0EWrantyv"
      },
      "source": [
        "Comparações\n",
        "\n",
        "c1)\n",
        "Os arquivos críticos Cassandra ncontrados pelo ADTCodeAnalyzer aparecem nos arquivos que possem AS do trabalho de SAS2022?\n"
      ]
    },
    {
      "cell_type": "code",
      "execution_count": null,
      "metadata": {
        "id": "-vNwwDLI_OkH"
      },
      "outputs": [],
      "source": [
        "def pesquisa_por_nome(my_df, nome):\n",
        "  resultado = my_df['affectedElements'].str.contains(nome)\n",
        "  return resultado\n",
        "\n",
        "def aparece_sas_2022(my_df, nome):\n",
        "  resultado = my_df['affectedElements'].str.contains(nome)\n",
        "  contagem = my_df[resultado]\n",
        "  if len(contagem) > 0:\n",
        "    return True\n",
        "  else:\n",
        "    return False"
      ]
    },
    {
      "cell_type": "markdown",
      "metadata": {
        "id": "op5Yzx4F-FNY"
      },
      "source": [
        "## 5.1 Classes do Cassandra afetadas por AS"
      ]
    },
    {
      "cell_type": "code",
      "execution_count": null,
      "metadata": {
        "colab": {
          "base_uri": "https://localhost:8080/",
          "height": 424
        },
        "id": "_Ipip9gb-iDH",
        "outputId": "f1405c2a-4d9f-4ebb-95c4-d7f64b01f788"
      },
      "outputs": [
        {
          "data": {
            "text/html": [
              "\n",
              "  <div id=\"df-42438eb7-468c-4130-8904-2633969c713b\" class=\"colab-df-container\">\n",
              "    <div>\n",
              "<style scoped>\n",
              "    .dataframe tbody tr th:only-of-type {\n",
              "        vertical-align: middle;\n",
              "    }\n",
              "\n",
              "    .dataframe tbody tr th {\n",
              "        vertical-align: top;\n",
              "    }\n",
              "\n",
              "    .dataframe thead th {\n",
              "        text-align: right;\n",
              "    }\n",
              "</style>\n",
              "<table border=\"1\" class=\"dataframe\">\n",
              "  <thead>\n",
              "    <tr style=\"text-align: right;\">\n",
              "      <th></th>\n",
              "      <th>project</th>\n",
              "      <th>age</th>\n",
              "      <th>firstAppeared</th>\n",
              "      <th>lastDetected</th>\n",
              "      <th>smellType</th>\n",
              "      <th>affectedElements</th>\n",
              "    </tr>\n",
              "  </thead>\n",
              "  <tbody>\n",
              "    <tr>\n",
              "      <th>50351</th>\n",
              "      <td>cassandra</td>\n",
              "      <td>2</td>\n",
              "      <td>1-cf56f8f3acbeac0ddff9ee3131ad7abe2a919ba3</td>\n",
              "      <td>2-50c1987265f8ddaf5032a7ace07b2462aba4f09b</td>\n",
              "      <td>cyclicDep</td>\n",
              "      <td>[org.apache.cassandra.db.ColumnFamily, org.apa...</td>\n",
              "    </tr>\n",
              "    <tr>\n",
              "      <th>50352</th>\n",
              "      <td>cassandra</td>\n",
              "      <td>2</td>\n",
              "      <td>1-cf56f8f3acbeac0ddff9ee3131ad7abe2a919ba3</td>\n",
              "      <td>2-50c1987265f8ddaf5032a7ace07b2462aba4f09b</td>\n",
              "      <td>cyclicDep</td>\n",
              "      <td>[org.apache.cassandra.db.ColumnFamily, org.apa...</td>\n",
              "    </tr>\n",
              "    <tr>\n",
              "      <th>50359</th>\n",
              "      <td>cassandra</td>\n",
              "      <td>4</td>\n",
              "      <td>112-569c6abcfa50901fdf73d0b6e89cc1562e698c43</td>\n",
              "      <td>115-4de7a65ed9f3c97658a80dd64032ad6e82e9d58b</td>\n",
              "      <td>cyclicDep</td>\n",
              "      <td>[org.apache.cassandra.db.Keyspace, org.apache....</td>\n",
              "    </tr>\n",
              "    <tr>\n",
              "      <th>50360</th>\n",
              "      <td>cassandra</td>\n",
              "      <td>4</td>\n",
              "      <td>112-569c6abcfa50901fdf73d0b6e89cc1562e698c43</td>\n",
              "      <td>115-4de7a65ed9f3c97658a80dd64032ad6e82e9d58b</td>\n",
              "      <td>cyclicDep</td>\n",
              "      <td>[org.apache.cassandra.db.Keyspace, org.apache....</td>\n",
              "    </tr>\n",
              "    <tr>\n",
              "      <th>50361</th>\n",
              "      <td>cassandra</td>\n",
              "      <td>4</td>\n",
              "      <td>112-569c6abcfa50901fdf73d0b6e89cc1562e698c43</td>\n",
              "      <td>115-4de7a65ed9f3c97658a80dd64032ad6e82e9d58b</td>\n",
              "      <td>cyclicDep</td>\n",
              "      <td>[org.apache.cassandra.db.Keyspace, org.apache....</td>\n",
              "    </tr>\n",
              "    <tr>\n",
              "      <th>...</th>\n",
              "      <td>...</td>\n",
              "      <td>...</td>\n",
              "      <td>...</td>\n",
              "      <td>...</td>\n",
              "      <td>...</td>\n",
              "      <td>...</td>\n",
              "    </tr>\n",
              "    <tr>\n",
              "      <th>91854</th>\n",
              "      <td>cassandra</td>\n",
              "      <td>2</td>\n",
              "      <td>65-db6b563f143dc5f2037244854527cafc8594e730</td>\n",
              "      <td>66-2bb30af662069aa35ea8e2dd1be4890cd70bf330</td>\n",
              "      <td>cyclicDep</td>\n",
              "      <td>[org.apache.cassandra.config.CFMetaData, org.a...</td>\n",
              "    </tr>\n",
              "    <tr>\n",
              "      <th>91855</th>\n",
              "      <td>cassandra</td>\n",
              "      <td>2</td>\n",
              "      <td>65-db6b563f143dc5f2037244854527cafc8594e730</td>\n",
              "      <td>66-2bb30af662069aa35ea8e2dd1be4890cd70bf330</td>\n",
              "      <td>cyclicDep</td>\n",
              "      <td>[org.apache.cassandra.config.CFMetaData, org.a...</td>\n",
              "    </tr>\n",
              "    <tr>\n",
              "      <th>91893</th>\n",
              "      <td>cassandra</td>\n",
              "      <td>3</td>\n",
              "      <td>116-1b82de8c9fe62cf78f07cf54fe32b561058eebe5</td>\n",
              "      <td>118-4af23348ecd6fc8dbef44ac5ebdb6ae60d599283</td>\n",
              "      <td>cyclicDep</td>\n",
              "      <td>[org.apache.cassandra.db.Mutation, org.apache....</td>\n",
              "    </tr>\n",
              "    <tr>\n",
              "      <th>91894</th>\n",
              "      <td>cassandra</td>\n",
              "      <td>3</td>\n",
              "      <td>116-1b82de8c9fe62cf78f07cf54fe32b561058eebe5</td>\n",
              "      <td>118-4af23348ecd6fc8dbef44ac5ebdb6ae60d599283</td>\n",
              "      <td>cyclicDep</td>\n",
              "      <td>[org.apache.cassandra.db.Mutation, org.apache....</td>\n",
              "    </tr>\n",
              "    <tr>\n",
              "      <th>91895</th>\n",
              "      <td>cassandra</td>\n",
              "      <td>3</td>\n",
              "      <td>116-1b82de8c9fe62cf78f07cf54fe32b561058eebe5</td>\n",
              "      <td>118-4af23348ecd6fc8dbef44ac5ebdb6ae60d599283</td>\n",
              "      <td>cyclicDep</td>\n",
              "      <td>[org.apache.cassandra.db.Mutation, org.apache....</td>\n",
              "    </tr>\n",
              "  </tbody>\n",
              "</table>\n",
              "<p>8989 rows × 6 columns</p>\n",
              "</div>\n",
              "    <div class=\"colab-df-buttons\">\n",
              "\n",
              "  <div class=\"colab-df-container\">\n",
              "    <button class=\"colab-df-convert\" onclick=\"convertToInteractive('df-42438eb7-468c-4130-8904-2633969c713b')\"\n",
              "            title=\"Convert this dataframe to an interactive table.\"\n",
              "            style=\"display:none;\">\n",
              "\n",
              "  <svg xmlns=\"http://www.w3.org/2000/svg\" height=\"24px\" viewBox=\"0 -960 960 960\">\n",
              "    <path d=\"M120-120v-720h720v720H120Zm60-500h600v-160H180v160Zm220 220h160v-160H400v160Zm0 220h160v-160H400v160ZM180-400h160v-160H180v160Zm440 0h160v-160H620v160ZM180-180h160v-160H180v160Zm440 0h160v-160H620v160Z\"/>\n",
              "  </svg>\n",
              "    </button>\n",
              "\n",
              "  <style>\n",
              "    .colab-df-container {\n",
              "      display:flex;\n",
              "      gap: 12px;\n",
              "    }\n",
              "\n",
              "    .colab-df-convert {\n",
              "      background-color: #E8F0FE;\n",
              "      border: none;\n",
              "      border-radius: 50%;\n",
              "      cursor: pointer;\n",
              "      display: none;\n",
              "      fill: #1967D2;\n",
              "      height: 32px;\n",
              "      padding: 0 0 0 0;\n",
              "      width: 32px;\n",
              "    }\n",
              "\n",
              "    .colab-df-convert:hover {\n",
              "      background-color: #E2EBFA;\n",
              "      box-shadow: 0px 1px 2px rgba(60, 64, 67, 0.3), 0px 1px 3px 1px rgba(60, 64, 67, 0.15);\n",
              "      fill: #174EA6;\n",
              "    }\n",
              "\n",
              "    .colab-df-buttons div {\n",
              "      margin-bottom: 4px;\n",
              "    }\n",
              "\n",
              "    [theme=dark] .colab-df-convert {\n",
              "      background-color: #3B4455;\n",
              "      fill: #D2E3FC;\n",
              "    }\n",
              "\n",
              "    [theme=dark] .colab-df-convert:hover {\n",
              "      background-color: #434B5C;\n",
              "      box-shadow: 0px 1px 3px 1px rgba(0, 0, 0, 0.15);\n",
              "      filter: drop-shadow(0px 1px 2px rgba(0, 0, 0, 0.3));\n",
              "      fill: #FFFFFF;\n",
              "    }\n",
              "  </style>\n",
              "\n",
              "    <script>\n",
              "      const buttonEl =\n",
              "        document.querySelector('#df-42438eb7-468c-4130-8904-2633969c713b button.colab-df-convert');\n",
              "      buttonEl.style.display =\n",
              "        google.colab.kernel.accessAllowed ? 'block' : 'none';\n",
              "\n",
              "      async function convertToInteractive(key) {\n",
              "        const element = document.querySelector('#df-42438eb7-468c-4130-8904-2633969c713b');\n",
              "        const dataTable =\n",
              "          await google.colab.kernel.invokeFunction('convertToInteractive',\n",
              "                                                    [key], {});\n",
              "        if (!dataTable) return;\n",
              "\n",
              "        const docLinkHtml = 'Like what you see? Visit the ' +\n",
              "          '<a target=\"_blank\" href=https://colab.research.google.com/notebooks/data_table.ipynb>data table notebook</a>'\n",
              "          + ' to learn more about interactive tables.';\n",
              "        element.innerHTML = '';\n",
              "        dataTable['output_type'] = 'display_data';\n",
              "        await google.colab.output.renderOutput(dataTable, element);\n",
              "        const docLink = document.createElement('div');\n",
              "        docLink.innerHTML = docLinkHtml;\n",
              "        element.appendChild(docLink);\n",
              "      }\n",
              "    </script>\n",
              "  </div>\n",
              "\n",
              "\n",
              "<div id=\"df-0005992b-629e-4180-92e8-eeaaf1987f3a\">\n",
              "  <button class=\"colab-df-quickchart\" onclick=\"quickchart('df-0005992b-629e-4180-92e8-eeaaf1987f3a')\"\n",
              "            title=\"Suggest charts.\"\n",
              "            style=\"display:none;\">\n",
              "\n",
              "<svg xmlns=\"http://www.w3.org/2000/svg\" height=\"24px\"viewBox=\"0 0 24 24\"\n",
              "     width=\"24px\">\n",
              "    <g>\n",
              "        <path d=\"M19 3H5c-1.1 0-2 .9-2 2v14c0 1.1.9 2 2 2h14c1.1 0 2-.9 2-2V5c0-1.1-.9-2-2-2zM9 17H7v-7h2v7zm4 0h-2V7h2v10zm4 0h-2v-4h2v4z\"/>\n",
              "    </g>\n",
              "</svg>\n",
              "  </button>\n",
              "\n",
              "<style>\n",
              "  .colab-df-quickchart {\n",
              "    background-color: #E8F0FE;\n",
              "    border: none;\n",
              "    border-radius: 50%;\n",
              "    cursor: pointer;\n",
              "    display: none;\n",
              "    fill: #1967D2;\n",
              "    height: 32px;\n",
              "    padding: 0 0 0 0;\n",
              "    width: 32px;\n",
              "  }\n",
              "\n",
              "  .colab-df-quickchart:hover {\n",
              "    background-color: #E2EBFA;\n",
              "    box-shadow: 0px 1px 2px rgba(60, 64, 67, 0.3), 0px 1px 3px 1px rgba(60, 64, 67, 0.15);\n",
              "    fill: #174EA6;\n",
              "  }\n",
              "\n",
              "  [theme=dark] .colab-df-quickchart {\n",
              "    background-color: #3B4455;\n",
              "    fill: #D2E3FC;\n",
              "  }\n",
              "\n",
              "  [theme=dark] .colab-df-quickchart:hover {\n",
              "    background-color: #434B5C;\n",
              "    box-shadow: 0px 1px 3px 1px rgba(0, 0, 0, 0.15);\n",
              "    filter: drop-shadow(0px 1px 2px rgba(0, 0, 0, 0.3));\n",
              "    fill: #FFFFFF;\n",
              "  }\n",
              "</style>\n",
              "\n",
              "  <script>\n",
              "    async function quickchart(key) {\n",
              "      const charts = await google.colab.kernel.invokeFunction(\n",
              "          'suggestCharts', [key], {});\n",
              "    }\n",
              "    (() => {\n",
              "      let quickchartButtonEl =\n",
              "        document.querySelector('#df-0005992b-629e-4180-92e8-eeaaf1987f3a button');\n",
              "      quickchartButtonEl.style.display =\n",
              "        google.colab.kernel.accessAllowed ? 'block' : 'none';\n",
              "    })();\n",
              "  </script>\n",
              "</div>\n",
              "    </div>\n",
              "  </div>\n"
            ],
            "text/plain": [
              "         project  age                                 firstAppeared  \\\n",
              "50351  cassandra    2    1-cf56f8f3acbeac0ddff9ee3131ad7abe2a919ba3   \n",
              "50352  cassandra    2    1-cf56f8f3acbeac0ddff9ee3131ad7abe2a919ba3   \n",
              "50359  cassandra    4  112-569c6abcfa50901fdf73d0b6e89cc1562e698c43   \n",
              "50360  cassandra    4  112-569c6abcfa50901fdf73d0b6e89cc1562e698c43   \n",
              "50361  cassandra    4  112-569c6abcfa50901fdf73d0b6e89cc1562e698c43   \n",
              "...          ...  ...                                           ...   \n",
              "91854  cassandra    2   65-db6b563f143dc5f2037244854527cafc8594e730   \n",
              "91855  cassandra    2   65-db6b563f143dc5f2037244854527cafc8594e730   \n",
              "91893  cassandra    3  116-1b82de8c9fe62cf78f07cf54fe32b561058eebe5   \n",
              "91894  cassandra    3  116-1b82de8c9fe62cf78f07cf54fe32b561058eebe5   \n",
              "91895  cassandra    3  116-1b82de8c9fe62cf78f07cf54fe32b561058eebe5   \n",
              "\n",
              "                                       lastDetected  smellType  \\\n",
              "50351    2-50c1987265f8ddaf5032a7ace07b2462aba4f09b  cyclicDep   \n",
              "50352    2-50c1987265f8ddaf5032a7ace07b2462aba4f09b  cyclicDep   \n",
              "50359  115-4de7a65ed9f3c97658a80dd64032ad6e82e9d58b  cyclicDep   \n",
              "50360  115-4de7a65ed9f3c97658a80dd64032ad6e82e9d58b  cyclicDep   \n",
              "50361  115-4de7a65ed9f3c97658a80dd64032ad6e82e9d58b  cyclicDep   \n",
              "...                                             ...        ...   \n",
              "91854   66-2bb30af662069aa35ea8e2dd1be4890cd70bf330  cyclicDep   \n",
              "91855   66-2bb30af662069aa35ea8e2dd1be4890cd70bf330  cyclicDep   \n",
              "91893  118-4af23348ecd6fc8dbef44ac5ebdb6ae60d599283  cyclicDep   \n",
              "91894  118-4af23348ecd6fc8dbef44ac5ebdb6ae60d599283  cyclicDep   \n",
              "91895  118-4af23348ecd6fc8dbef44ac5ebdb6ae60d599283  cyclicDep   \n",
              "\n",
              "                                        affectedElements  \n",
              "50351  [org.apache.cassandra.db.ColumnFamily, org.apa...  \n",
              "50352  [org.apache.cassandra.db.ColumnFamily, org.apa...  \n",
              "50359  [org.apache.cassandra.db.Keyspace, org.apache....  \n",
              "50360  [org.apache.cassandra.db.Keyspace, org.apache....  \n",
              "50361  [org.apache.cassandra.db.Keyspace, org.apache....  \n",
              "...                                                  ...  \n",
              "91854  [org.apache.cassandra.config.CFMetaData, org.a...  \n",
              "91855  [org.apache.cassandra.config.CFMetaData, org.a...  \n",
              "91893  [org.apache.cassandra.db.Mutation, org.apache....  \n",
              "91894  [org.apache.cassandra.db.Mutation, org.apache....  \n",
              "91895  [org.apache.cassandra.db.Mutation, org.apache....  \n",
              "\n",
              "[8989 rows x 6 columns]"
            ]
          },
          "execution_count": 53,
          "metadata": {},
          "output_type": "execute_result"
        }
      ],
      "source": [
        "colunas_smells = ['project', 'age', 'firstAppeared', 'lastDetected', 'smellType', 'affectedElements']\n",
        "df_cassandra_smells_classes_affected[colunas_smells]"
      ]
    },
    {
      "cell_type": "markdown",
      "metadata": {
        "id": "ow9oe5Pl--7W"
      },
      "source": [
        "Tipos de Smells que aparecem no Cassandra"
      ]
    },
    {
      "cell_type": "code",
      "execution_count": null,
      "metadata": {
        "colab": {
          "base_uri": "https://localhost:8080/"
        },
        "id": "oGMzxBS0-5qd",
        "outputId": "903af39b-4a89-4f0a-bb0f-62e4dcd726e2"
      },
      "outputs": [
        {
          "data": {
            "text/plain": [
              "['cyclicDep', 'hubLikeDep']"
            ]
          },
          "execution_count": 54,
          "metadata": {},
          "output_type": "execute_result"
        }
      ],
      "source": [
        "cassandra_smells = df_cassandra_smells_classes_affected.smellType.unique().tolist()\n",
        "cassandra_smells"
      ]
    },
    {
      "cell_type": "markdown",
      "metadata": {
        "id": "hD8aFIWc_F10"
      },
      "source": [
        "Lista classes críticas ATDCodeAnalyzer"
      ]
    },
    {
      "cell_type": "code",
      "execution_count": null,
      "metadata": {
        "colab": {
          "base_uri": "https://localhost:8080/"
        },
        "id": "zHcBcetd-JtT",
        "outputId": "f195584c-ecaa-4a5d-d76a-704f28ec535b"
      },
      "outputs": [
        {
          "data": {
            "text/plain": [
              "[('StorageService.java', 3537, 144),\n",
              " ('ColumnFamilyStore.java', 1966, 89),\n",
              " ('DatabaseDescriptor.java', 2092, 87),\n",
              " ('CompactionManager.java', 1279, 74),\n",
              " ('StorageProxy.java', 1667, 53),\n",
              " ('SSTableReader.java', 767, 53),\n",
              " ('Config.java', 553, 52),\n",
              " ('CassandraDaemon.java', 1001, 51),\n",
              " ('SelectStatement.java', 1174, 44),\n",
              " ('SinglePartitionReadCommand.java', 994, 38),\n",
              " ('NodeProbe.java', 513, 37),\n",
              " ('MessagingService.java', 574, 36)]"
            ]
          },
          "execution_count": 55,
          "metadata": {},
          "output_type": "execute_result"
        }
      ],
      "source": [
        "# selecao de classes criticas que pertencem ao Q1 (quadrante1) -> Modified LOC ALTA e Frequencia de Commits Alta\n",
        "lista_arquivos_criticos_cassandra"
      ]
    },
    {
      "cell_type": "code",
      "execution_count": null,
      "metadata": {
        "colab": {
          "base_uri": "https://localhost:8080/"
        },
        "id": "sLYABJD6Abcd",
        "outputId": "d32b9dc8-18f3-4fdb-9f34-0bb28c9d61ee"
      },
      "outputs": [
        {
          "name": "stdout",
          "output_type": "stream",
          "text": [
            "StorageService\n",
            "ColumnFamilyStore\n",
            "DatabaseDescriptor\n",
            "CompactionManager\n",
            "StorageProxy\n",
            "SSTableReader\n",
            "Config\n",
            "CassandraDaemon\n",
            "SelectStatement\n",
            "SinglePartitionReadCommand\n",
            "MessagingService\n"
          ]
        }
      ],
      "source": [
        "lista_arquivos_criticos_cassandra_sas_2022 = []\n",
        "for each in lista_arquivos_criticos_cassandra:\n",
        "  each = each[0].replace('.java', '')\n",
        "  if aparece_sas_2022(my_df=df_cassandra_smells_classes_affected, nome=each):\n",
        "    lista_arquivos_criticos_cassandra_sas_2022.append(each)\n",
        "    print(each)"
      ]
    },
    {
      "cell_type": "code",
      "execution_count": null,
      "metadata": {
        "colab": {
          "base_uri": "https://localhost:8080/"
        },
        "id": "SAF3537cA37i",
        "outputId": "693da4b1-ec49-4890-8fff-8cb3ca3c2b13"
      },
      "outputs": [
        {
          "name": "stdout",
          "output_type": "stream",
          "text": [
            "Das 12 classes críticas identificadas por ATDCodeAnalizer, 11 aparecem no SAS2022 \n",
            "Taxa de acerto para o Cassandra: 0.92\n"
          ]
        }
      ],
      "source": [
        "qtd_classes_criticas_my_method = len(lista_arquivos_criticos_cassandra)\n",
        "qtd_classes_criticas_sas_2022 = len(lista_arquivos_criticos_cassandra_sas_2022)\n",
        "print(f'Das {qtd_classes_criticas_my_method} classes críticas identificadas por ATDCodeAnalizer, {qtd_classes_criticas_sas_2022} aparecem no SAS2022 ')\n",
        "print(f'Taxa de acerto para o Cassandra: {round(qtd_classes_criticas_sas_2022/qtd_classes_criticas_my_method, 2)}')"
      ]
    },
    {
      "cell_type": "code",
      "execution_count": null,
      "metadata": {
        "colab": {
          "base_uri": "https://localhost:8080/"
        },
        "id": "2iRv9ZF9CYtm",
        "outputId": "f10dbc77-50b2-4eed-c3bc-12c9aeba368a"
      },
      "outputs": [
        {
          "name": "stdout",
          "output_type": "stream",
          "text": [
            "Das 68 classes críticas identificadas por ATDCodeAnalizer, 38 aparecem no SAS2022 \n",
            "Taxa de acerto para o ActiveMQ: 0.56\n"
          ]
        }
      ],
      "source": [
        "qtd_classes_criticas_my_method_guava = len(lista_arquivos_criticos_guava)\n",
        "qtd_classes_criticas_sas_2022_guava = len(lista_arquivos_criticos_guava_sas_2022)\n",
        "print(f'Das {qtd_classes_criticas_my_method_guava} classes críticas identificadas por ATDCodeAnalizer, {qtd_classes_criticas_sas_2022_guava} aparecem no SAS2022 ')\n",
        "print(f'Taxa de acerto para o ActiveMQ: {round(qtd_classes_criticas_sas_2022_guava/qtd_classes_criticas_my_method_guava, 2)}')"
      ]
    }
  ],
  "metadata": {
    "colab": {
      "authorship_tag": "ABX9TyOXlIxM1NSWBQ9CT2hQlTaZ",
      "collapsed_sections": [
        "ZtQncbPAkdcC",
        "Ejc8jwfd4Y1V"
      ],
      "include_colab_link": true,
      "provenance": []
    },
    "kernelspec": {
      "display_name": "Python 3",
      "name": "python3"
    },
    "language_info": {
      "name": "python"
    }
  },
  "nbformat": 4,
  "nbformat_minor": 0
}
