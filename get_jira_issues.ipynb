{
  "nbformat": 4,
  "nbformat_minor": 0,
  "metadata": {
    "colab": {
      "provenance": [],
      "authorship_tag": "ABX9TyPWM5by42B0TPxnErrMEBKL",
      "include_colab_link": true
    },
    "kernelspec": {
      "name": "python3",
      "display_name": "Python 3"
    },
    "language_info": {
      "name": "python"
    }
  },
  "cells": [
    {
      "cell_type": "markdown",
      "metadata": {
        "id": "view-in-github",
        "colab_type": "text"
      },
      "source": [
        "<a href=\"https://colab.research.google.com/github/armandossrecife/piloto/blob/main/get_jira_issues.ipynb\" target=\"_parent\"><img src=\"https://colab.research.google.com/assets/colab-badge.svg\" alt=\"Open In Colab\"/></a>"
      ]
    },
    {
      "cell_type": "code",
      "execution_count": null,
      "metadata": {
        "id": "2D3rVxzrCgja",
        "outputId": "9562aa13-8f43-4fa1-d42e-88e693a995cb",
        "colab": {
          "base_uri": "https://localhost:8080/"
        }
      },
      "outputs": [
        {
          "output_type": "stream",
          "name": "stdout",
          "text": [
            "Collecting jira\n",
            "  Downloading jira-3.5.2-py3-none-any.whl (72 kB)\n",
            "\u001b[?25l     \u001b[90m━━━━━━━━━━━━━━━━━━━━━━━━━━━━━━━━━━━━━━━━\u001b[0m \u001b[32m0.0/72.3 kB\u001b[0m \u001b[31m?\u001b[0m eta \u001b[36m-:--:--\u001b[0m\r\u001b[2K     \u001b[91m━━━━━━━━━━━━━━━━━━━━━━━━━━━━━━━━━━━━━━━\u001b[0m\u001b[91m╸\u001b[0m \u001b[32m71.7/72.3 kB\u001b[0m \u001b[31m2.2 MB/s\u001b[0m eta \u001b[36m0:00:01\u001b[0m\r\u001b[2K     \u001b[90m━━━━━━━━━━━━━━━━━━━━━━━━━━━━━━━━━━━━━━━━\u001b[0m \u001b[32m72.3/72.3 kB\u001b[0m \u001b[31m1.6 MB/s\u001b[0m eta \u001b[36m0:00:00\u001b[0m\n",
            "\u001b[?25hRequirement already satisfied: defusedxml in /usr/local/lib/python3.10/dist-packages (from jira) (0.7.1)\n",
            "Requirement already satisfied: packaging in /usr/local/lib/python3.10/dist-packages (from jira) (23.1)\n",
            "Requirement already satisfied: requests-oauthlib>=1.1.0 in /usr/local/lib/python3.10/dist-packages (from jira) (1.3.1)\n",
            "Requirement already satisfied: requests>=2.10.0 in /usr/local/lib/python3.10/dist-packages (from jira) (2.31.0)\n",
            "Collecting requests-toolbelt (from jira)\n",
            "  Downloading requests_toolbelt-1.0.0-py2.py3-none-any.whl (54 kB)\n",
            "\u001b[2K     \u001b[90m━━━━━━━━━━━━━━━━━━━━━━━━━━━━━━━━━━━━━━━━\u001b[0m \u001b[32m54.5/54.5 kB\u001b[0m \u001b[31m4.0 MB/s\u001b[0m eta \u001b[36m0:00:00\u001b[0m\n",
            "\u001b[?25hRequirement already satisfied: typing-extensions>=3.7.4.2 in /usr/local/lib/python3.10/dist-packages (from jira) (4.5.0)\n",
            "Requirement already satisfied: charset-normalizer<4,>=2 in /usr/local/lib/python3.10/dist-packages (from requests>=2.10.0->jira) (3.2.0)\n",
            "Requirement already satisfied: idna<4,>=2.5 in /usr/local/lib/python3.10/dist-packages (from requests>=2.10.0->jira) (3.4)\n",
            "Requirement already satisfied: urllib3<3,>=1.21.1 in /usr/local/lib/python3.10/dist-packages (from requests>=2.10.0->jira) (2.0.4)\n",
            "Requirement already satisfied: certifi>=2017.4.17 in /usr/local/lib/python3.10/dist-packages (from requests>=2.10.0->jira) (2023.7.22)\n",
            "Requirement already satisfied: oauthlib>=3.0.0 in /usr/local/lib/python3.10/dist-packages (from requests-oauthlib>=1.1.0->jira) (3.2.2)\n",
            "Installing collected packages: requests-toolbelt, jira\n",
            "Successfully installed jira-3.5.2 requests-toolbelt-1.0.0\n"
          ]
        }
      ],
      "source": [
        "!pip install jira"
      ]
    },
    {
      "cell_type": "code",
      "source": [
        "from jira import JIRA\n",
        "import os"
      ],
      "metadata": {
        "id": "2BCMmBuVC3JM"
      },
      "execution_count": null,
      "outputs": []
    },
    {
      "cell_type": "code",
      "source": [
        "os.environ['USERNAME'] = '?'\n",
        "os.environ['PASSWORD'] = '?'"
      ],
      "metadata": {
        "id": "BfN0sgtiF6KS"
      },
      "execution_count": null,
      "outputs": []
    },
    {
      "cell_type": "code",
      "source": [
        "username = os.environ.get('USERNAME')\n",
        "password = os.environ.get('PASSWORD')\n",
        "# Create a JIRA client instance\n",
        "jira = JIRA(\n",
        "    server='https://issues.apache.org/jira',  # Replace with the Cassandra JIRA server URL\n",
        "    basic_auth=(username, password),  # Replace with your JIRA credentials\n",
        ")"
      ],
      "metadata": {
        "id": "EGlA9nElD-8x"
      },
      "execution_count": null,
      "outputs": []
    },
    {
      "cell_type": "code",
      "source": [
        "# Search for open issues in the Cassandra project\n",
        "issues = jira.search_issues('project = CASSANDRA and status=resolved',maxResults=10)\n",
        "\n",
        "for issue in issues:\n",
        "    print(f'Key: {issue.key}, Summary: {issue.fields.summary}, Status: {issue.fields.status}')"
      ],
      "metadata": {
        "colab": {
          "base_uri": "https://localhost:8080/"
        },
        "id": "woUMKkhGEgiX",
        "outputId": "755d164a-2908-42e2-cd6c-ebef58dcf89d"
      },
      "execution_count": null,
      "outputs": [
        {
          "output_type": "stream",
          "name": "stdout",
          "text": [
            "Key: CASSANDRA-18854, Summary: Gossip never recovers from a single failed echo, Status: Resolved\n",
            "Key: CASSANDRA-18850, Summary: Building a Cassandra website fails when running on arm64, Status: Resolved\n",
            "Key: CASSANDRA-18848, Summary: GCInspector \"Error accessing field of java.nio.Bits\" under java17, Status: Resolved\n",
            "Key: CASSANDRA-18846, Summary: CancellationException when shutting down the 3.11.16 node, Status: Resolved\n",
            "Key: CASSANDRA-18841, Summary: InstanceClassLoader leak in 5.0/trunk, Status: Resolved\n",
            "Key: CASSANDRA-18840, Summary: Leakage of references to SSTable on unsuccessful operations, Status: Resolved\n",
            "Key: CASSANDRA-18834, Summary: Testing Pubsub/QBot, Status: Resolved\n",
            "Key: CASSANDRA-18833, Summary: Testing Pubsub/QBot, Status: Resolved\n",
            "Key: CASSANDRA-18832, Summary: Add 5.0-alpha1 to cassandra-dtest upgrade_manifest.py, Status: Resolved\n",
            "Key: CASSANDRA-18829, Summary: Fix flaky test: org.apache.cassandra.index.sai.disk.SelectiveIntersectionTest.tracingIsCorrectlyReported, Status: Resolved\n"
          ]
        }
      ]
    },
    {
      "cell_type": "code",
      "source": [
        "# https://issues.apache.org/jira/browse/CASSANDRA-18647\n",
        "\n",
        "issue_CASSANDRA_18647 = jira.issue(\"CASSANDRA-18647\")\n",
        "print(f'Key: {issue_CASSANDRA_18647.key}, Summary: {issue_CASSANDRA_18647.fields.summary}, Status: {issue_CASSANDRA_18647.fields.status}')\n",
        "print(f'Description: {issue_CASSANDRA_18647.fields.description}')"
      ],
      "metadata": {
        "colab": {
          "base_uri": "https://localhost:8080/"
        },
        "id": "zlxusjCKKswF",
        "outputId": "e417e961-73ec-43f9-d70e-b0764c43829f"
      },
      "execution_count": null,
      "outputs": [
        {
          "output_type": "stream",
          "name": "stdout",
          "text": [
            "Key: CASSANDRA-18647, Summary: CASTing a float to decimal adds wrong digits, Status: Resolved\n",
            "Description: If I create a table with a *float* (32-bit) column, and cast it to the *decimal* type, the casting wrongly passes through the double (64-bit) type and picks up extra, wrong, digits. For example, if we have a column e of type \"float\", and run\r\n",
            "\r\n",
            "INSERT INTO tbl (p, e) VALUES (1, 5.2)\r\n",
            "\r\n",
            "SELECT CAST(e AS decimal) FROM tbl WHERE p=1\r\n",
            "\r\n",
            "The result is the \"decimal\" value 5.199999809265137, with all those extra wrong digits. It would have been better to get back the decimal value 5.2, with only two significant digits.\r\n",
            "\r\n",
            "It appears that this happens because Cassandra's implementation first converts the 32-bit float into a 64-bit double, and only then converts that - with all the silly extra digits it picked up in the first conversion - into a \"decimal\" value.\r\n",
            "\r\n",
            "Contrast this with CAST(e AS text) which works correctly - it returns the string \"5.2\" - only the actual digits of the 32-bit floating point value are converted to the string, without inventing additional digits in the process.\n"
          ]
        }
      ]
    },
    {
      "cell_type": "code",
      "source": [
        "# Get an issue.\n",
        "issue = jira.issue(\"CASSANDRA-18772\")\n",
        "\n",
        "dict_comments_issue = {}\n",
        "list_comments = []\n",
        "for comment in issue.fields.comment.comments:\n",
        "  elemento = (comment.id, comment.body)\n",
        "  list_comments.append(elemento)\n",
        "dict_comments_issue[issue.key] = list_comments"
      ],
      "metadata": {
        "id": "bYP0_0Qj7Iyj"
      },
      "execution_count": null,
      "outputs": []
    },
    {
      "cell_type": "code",
      "source": [
        "for k, v in dict_comments_issue.items():\n",
        "  print(k)\n",
        "  for each in v:\n",
        "    print(each)"
      ],
      "metadata": {
        "id": "u75NubAy7TYh",
        "colab": {
          "base_uri": "https://localhost:8080/"
        },
        "outputId": "32a861b9-bfad-47d2-faa9-cd8bd04143d1"
      },
      "execution_count": null,
      "outputs": [
        {
          "output_type": "stream",
          "name": "stdout",
          "text": [
            "CASSANDRA-18772\n",
            "('17755254', \"I was thinking about how we could find other dependencies that are no longer used, and how we could find them during the build. \\r\\nOne I've found: \\r\\n\\r\\nhttps://docs.jboss.org/tattletale/userguide/1.2/en-US/html/ant.html\\r\\nhttps://tattletale.jboss.org/\\r\\n\\r\\nI'll do some more digging to find a robust solution.\")\n",
            "('17755256', \"{quote}I'll do some more digging to find a robust solution.\\r\\n{quote}\\r\\nThat would be great, thanks :)\\xa0\")\n",
            "('17755257', \"I removed commons-codec on trunk based [branch|https://github.com/apache/cassandra/compare/trunk...ekaterinadimitrova2:cassandra:18772-trunk], and I am running CI [here|https://app.circleci.com/pipelines/github/ekaterinadimitrova2/cassandra/2481/workflows/6f261d27-dafd-4fad-b0e8-2e89a07d7f02] before sending mail to the ML, just in case something explodes...\\xa0Let's see what happens. \")\n",
            "('17755493', \"CI looks good, I'm +1 assuming we clear the ML.\")\n",
            "('17755541', 'OK, I\\'ve found an easy way to find all the unused dependencies, but this list should be carefully filtered, as some of the \"unused dependencies\" may actually be used at runtime. I doubt we can add running of this command to the ant build as the maven is used.\\r\\nh3. The command\\r\\n\\r\\nTested on the latest trunk (\\\\{{commons-codec}} is there).\\r\\n{code}\\r\\n# copy packages to the build/target/classes to run maven\\r\\nfor d in `find ./build/classes -maxdepth 2 -type d -name org -or -name com`; do `rsync -a $d ./build/target/classes`; done\\r\\n{code}\\r\\n\\r\\n{code:java}\\r\\nmvn -f ./build/apache-cassandra-5.0-SNAPSHOT.pom org.apache.maven.plugins:maven-dependency-plugin:3.2.0:analyze -Dverbose=true -DignoreNonCompile\\r\\n{code}\\r\\n\\r\\nh3. The result\\r\\n{code:java}\\r\\n[WARNING] Used undeclared dependencies found:\\r\\n[WARNING]    io.netty:netty-handler:jar:4.1.96.Final:compile\\r\\n[WARNING]    io.netty:netty-common:jar:4.1.96.Final:compile\\r\\n[WARNING]    io.netty:netty-buffer:jar:4.1.96.Final:compile\\r\\n[WARNING]    io.netty:netty-codec:jar:4.1.96.Final:compile\\r\\n[WARNING]    org.checkerframework:checker-qual:jar:3.10.0:compile\\r\\n[WARNING]    io.netty:netty-transport:jar:4.1.96.Final:compile\\r\\n[WARNING]    io.netty:netty-transport-native-unix-common:jar:4.1.96.Final:compile\\r\\n[WARNING]    io.netty:netty-transport-classes-epoll:jar:4.1.96.Final:compile\\r\\n[WARNING] Unused declared dependencies found:\\r\\n[WARNING]    com.github.jnr:jffi:jar:native:1.3.11:compile\\r\\n[WARNING]    net.openhft:affinity:jar:3.23.3:compile\\r\\n[WARNING]    org.slf4j:log4j-over-slf4j:jar:1.7.25:compile\\r\\n[WARNING]    io.netty:netty-transport-native-epoll:jar:4.1.94.Final:compile\\r\\n[WARNING]    com.github.jnr:jnr-constants:jar:0.10.4:compile\\r\\n[WARNING]    io.dropwizard.metrics:metrics-logback:jar:3.1.5:compile\\r\\n[WARNING]    org.antlr:ST4:jar:4.0.8:compile\\r\\n[WARNING]    org.gridkit.jvmtool:mxdump:jar:0.14:compile\\r\\n[WARNING]    io.netty:netty-tcnative-boringssl-static:jar:2.0.61.Final:compile\\r\\n[WARNING]    com.google.j2objc:j2objc-annotations:jar:1.3:compile\\r\\n[WARNING]    org.gridkit.lab:jvm-attach-api:jar:1.5:compile\\r\\n[WARNING]    org.gridkit.jvmtool:sjk-json:jar:0.14:compile\\r\\n[WARNING]    org.slf4j:jcl-over-slf4j:jar:1.7.25:compile\\r\\n[WARNING]    com.github.jnr:jnr-ffi:jar:2.2.13:compile\\r\\n[WARNING]    commons-codec:commons-codec:jar:1.9:compile\\r\\n[WARNING]    org.caffinitas.ohc:ohc-core-j8:jar:0.5.1:compile\\r\\n[WARNING]    org.bouncycastle:bcpkix-jdk15on:jar:1.70:compile\\r\\n[WARNING]    net.java.dev.jna:jna-platform:jar:5.13.0:compile\\r\\n[WARNING]    com.github.jnr:jffi:jar:1.3.11:compile\\r\\n[WARNING]    io.netty:netty-all:jar:4.1.96.Final:compile\\r\\n[WARNING]    org.gridkit.jvmtool:sjk-stacktrace:jar:0.14:compile\\r\\n[WARNING]    io.netty:netty-transport-native-epoll:jar:linux-x86_64:4.1.94.Final:compile\\r\\n[INFO] ------------------------------------------------------------------------\\r\\n[INFO] BUILD SUCCESS\\r\\n[INFO] ------------------------------------------------------------------------\\r\\n{code}\\r\\n\\r\\nEDITED:\\r\\n\\r\\nI was confused that the netty-all library was reported in a previous attempt, so I\\'ve rechecked everything and found the problem with that approach. The mvn command tool requires the compiled classes to be in the {{target}} directory, but currently they\\'re in classes/<module>, so once I copied them to build/target everything started working.')\n",
            "('17755571', '{quote}this list should be carefully filtered, as some of the \"unused dependencies\" may actually be used at runtime.\\r\\n{quote}\\r\\nI think some of those need to change probably the mvn scope from compile to sthg else maybe? Can we open another ticket to explore this, please? I don\\'t want it to get lost.\\r\\n{quote}assuming we clear the ML.\\r\\n{quote}\\r\\nI will start a thread soon\\xa0')\n",
            "('17755642', 'ML thread started here - https://lists.apache.org/thread/9m1vz5qyows97wlppkwk1fd8386rj9q1')\n",
            "('17755673', \"[~e.dimitrova] I've created the issue: CASSANDRA-18777\")\n",
            "('17758091', 'I created a general discussion thread as the community is about to vote for a 5.0 alpha version, and there were different opinions around dependency management in an alpha release. https://lists.apache.org/thread/pdq1y2xks629lh6h7nfc6mt5gp145bs6')\n",
            "('17761134', 'There was a consensus we can move forward with this one. To be extra cautious, email to @user was initiated first - [https://lists.apache.org/thread/c4m3tc08zhd4d41zs05jcdkr3gjwlhno]\\r\\n\\r\\nIf no one expresses any concerns until next week, I will move this one forward. As [~brandon.williams] already reviewed it, I will keep it in READY TO COMMIT until next week and then commit (on green CI for both 5.0 and trunk pre-commit)')\n",
            "('17762100', 'One week with no concerns raised, I take that as a lazy consensus.\\xa0')\n",
            "('17762112', \"5.0 branch: [https://github.com/ekaterinadimitrova2/cassandra/tree/18772-5.0]; CI: [https://app.circleci.com/pipelines/github/ekaterinadimitrova2/cassandra/2493/workflows/f8b3fc1a-4640-4eac-8487-fda42f7e4311|https://app.circleci.com/pipelines/github/ekaterinadimitrova2/cassandra/2493/workflows/59762ffe-b907-42f3-b6c1-558041f737c0]\\r\\n\\r\\ntrunk branch: [https://github.com/ekaterinadimitrova2/cassandra/tree/18772-trunk]; CI: [https://app.circleci.com/pipelines/github/ekaterinadimitrova2/cassandra/2494/workflows/81c934a3-7109-4454-949d-ba981bf4738e]\\r\\n\\r\\nI started only JDK11 tests, this change doesn't require both JDKs. Either something explodes from the removal or not.\\xa0\")\n",
            "('17762148', 'One failed container in trunk CI - restarted the job here - [https://app.circleci.com/pipelines/github/ekaterinadimitrova2/cassandra/2494/workflows/81c934a3-7109-4454-949d-ba981bf4738e/jobs/38828] - finished successfully\\r\\n\\r\\n5.0:\\r\\n # CASSANDRA-18737\\r\\n # and one timeout - test_decommission')\n",
            "('17762181', 'Committed to https://github.com/apache/cassandra.git\\r\\n\\r\\n\\xa0\\xa0 bf39188cdc..9be8369ae6\\xa0 cassandra-5.0 -> cassandra-5.0\\r\\n\\r\\n\\xa0\\xa0 7ecac39570..f8d5a1aa16\\xa0 trunk -> trunk')\n"
          ]
        }
      ]
    },
    {
      "cell_type": "code",
      "source": [],
      "metadata": {
        "id": "zAnp2wNr-f-0"
      },
      "execution_count": null,
      "outputs": []
    }
  ]
}