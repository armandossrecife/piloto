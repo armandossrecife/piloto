{
  "nbformat": 4,
  "nbformat_minor": 0,
  "metadata": {
    "colab": {
      "provenance": [],
      "authorship_tag": "ABX9TyNGBqS0Sh/gStm/oEU4WjY4",
      "include_colab_link": true
    },
    "kernelspec": {
      "name": "python3",
      "display_name": "Python 3"
    },
    "language_info": {
      "name": "python"
    }
  },
  "cells": [
    {
      "cell_type": "markdown",
      "metadata": {
        "id": "view-in-github",
        "colab_type": "text"
      },
      "source": [
        "<a href=\"https://colab.research.google.com/github/armandossrecife/piloto/blob/main/satd_analyzer.ipynb\" target=\"_parent\"><img src=\"https://colab.research.google.com/assets/colab-badge.svg\" alt=\"Open In Colab\"/></a>"
      ]
    },
    {
      "cell_type": "markdown",
      "source": [
        "# 1. Instala as dependências"
      ],
      "metadata": {
        "id": "LlaKI3FyrP8q"
      }
    },
    {
      "cell_type": "code",
      "source": [
        "print('Install Pydriller.')\n",
        "!pip install pydriller > install_pydriller.log\n",
        "print('Install gitpython.')\n",
        "!pip3 install gitpython > install_gitpython.log\n",
        "print('Install Jira Python lib.')\n",
        "!pip install jira > install_jira_python.log\n",
        "!sudo apt install -y sqlite3 > install_sqlite.log\n",
        "print('All depenpencies installed!')\n",
        "!cat *.log > install.log\n",
        "print('Details in install.log')"
      ],
      "metadata": {
        "colab": {
          "base_uri": "https://localhost:8080/"
        },
        "id": "Q2O-O5sEwXc9",
        "outputId": "7e763ec5-676e-4ebd-9388-b926fc1e9139"
      },
      "execution_count": 1,
      "outputs": [
        {
          "output_type": "stream",
          "name": "stdout",
          "text": [
            "Install Pydriller.\n",
            "Install gitpython.\n",
            "Install Jira Python lib.\n",
            "\n",
            "WARNING: apt does not have a stable CLI interface. Use with caution in scripts.\n",
            "\n",
            "debconf: unable to initialize frontend: Dialog\n",
            "debconf: (No usable dialog-like program is installed, so the dialog based frontend cannot be used. at /usr/share/perl5/Debconf/FrontEnd/Dialog.pm line 78, <> line 1.)\n",
            "debconf: falling back to frontend: Readline\n",
            "debconf: unable to initialize frontend: Readline\n",
            "debconf: (This frontend requires a controlling tty.)\n",
            "debconf: falling back to frontend: Teletype\n",
            "dpkg-preconfigure: unable to re-open stdin: \n",
            "All depenpencies installed!\n",
            "Details in install.log\n"
          ]
        }
      ]
    },
    {
      "cell_type": "markdown",
      "source": [
        "# 2. Importa as dependências, configurações e classes de apoio"
      ],
      "metadata": {
        "id": "9UV0xxfHrWKJ"
      }
    },
    {
      "cell_type": "code",
      "source": [
        "from pydriller import Repository\n",
        "from datetime import datetime\n",
        "import tqdm\n",
        "import os\n",
        "import re\n",
        "\n",
        "from jira import JIRA\n",
        "import os\n",
        "from datetime import datetime, timedelta\n",
        "import tqdm\n",
        "import sqlite3\n",
        "import subprocess\n",
        "import sqlite3"
      ],
      "metadata": {
        "id": "vxqEvye_vDU6"
      },
      "execution_count": 46,
      "outputs": []
    },
    {
      "cell_type": "code",
      "execution_count": 47,
      "metadata": {
        "id": "ZqY-xVDBu2EQ"
      },
      "outputs": [],
      "source": [
        "url_to_repository = 'https://github.com/apache/cassandra.git'\n",
        "path_to_repository = 'cassandra'\n",
        "os.environ['MY_REPOSITORY'] = url_to_repository\n",
        "\n",
        "JIRA_SERVER = 'https://issues.apache.org/jira'\n",
        "DATABASE_NAME = \"issues_db.db\"\n",
        "\n",
        "os.environ['DATABASE_NAME'] = DATABASE_NAME\n",
        "# Credentials\n",
        "os.environ['USERNAME'] = 'armandossrecife'\n",
        "os.environ['PASSWORD'] = 'sky1979#ce'\n",
        "username = os.environ.get('USERNAME')\n",
        "password = os.environ.get('PASSWORD')"
      ]
    },
    {
      "cell_type": "code",
      "source": [
        "def is_java_comment(line):\n",
        "    # Regular expression pattern to match Java comments\n",
        "    comment_pattern = r'^\\s*//|^\\s*/\\*|^\\s*\\*|^\\s*\\*/'\n",
        "\n",
        "    # Use the re.match function to check if the line matches the comment pattern\n",
        "    return bool(re.match(comment_pattern, line))"
      ],
      "metadata": {
        "id": "g7jdoS9llFjw"
      },
      "execution_count": 31,
      "outputs": []
    },
    {
      "cell_type": "code",
      "source": [
        "class JiraIssue:\n",
        "  def __init__(self, key, summary, issue_type, status, priority, description, comments):\n",
        "    self.key = key\n",
        "    self.summary = summary\n",
        "    self.issue_type = issue_type\n",
        "    self.status = status\n",
        "    self.priority = priority\n",
        "    self.description = description\n",
        "    self.comments = comments\n",
        "\n",
        "  def get_comments(self) -> dict:\n",
        "    return self.comments\n",
        "\n",
        "  def __str__(self):\n",
        "    return (f'Key: {self.key}, Summary: {self.summary}, Type: {self.issue_type}, Status: {self.status}')\n",
        "\n",
        "class JiraIssues:\n",
        "  def __init__(self,project, issues):\n",
        "    self.project = project\n",
        "    self.issues = issues\n",
        "\n",
        "  def add_issue(self, issue):\n",
        "    self.issues.append(issue)\n",
        "\n",
        "  def get_issues(self) -> list:\n",
        "    return self.issues\n",
        "\n",
        "  def update_issues(self, issues):\n",
        "    self.issues = issues\n",
        "\n",
        "  def __str__(self):\n",
        "    str_issues = \"\"\n",
        "    for issue in self.get_issues():\n",
        "      str_issues = str_issues + str(issue)\n",
        "      str_issues = str_issues + ', '\n",
        "    str_issues = '[' + str_issues + ']'\n",
        "    return (f'Project: {self.project}, Qdt of issues: {len(self.issues)}, Issues: {str_issues}')\n",
        "\n",
        "# Classe de utilidades para manipular o servidor Jira\n",
        "class JiraUtils:\n",
        "  def __init__(self, project, jira_instance):\n",
        "    self.project = project\n",
        "    self.jira_jira_instance = jira_instance\n",
        "\n",
        "  def generate_intervals_between_dates(self, date1: tuple, date2: tuple, distance=120) -> list:\n",
        "    start_date = datetime(date1[0], date1[1], date1[2])\n",
        "    end_date = datetime(date2[0], date2[1], date2[2])\n",
        "    interval_days = distance\n",
        "    # Initialize a list to store the intervals\n",
        "    intervals = []\n",
        "    # Initialize the current date as the start date\n",
        "    current_date = start_date\n",
        "    # Loop to generate intervals until the current date is less than or equal to the end date\n",
        "    while current_date < end_date:\n",
        "        interval = (current_date, current_date + timedelta(days=interval_days - 1))\n",
        "        intervals.append(interval)\n",
        "        current_date += timedelta(days=interval_days)\n",
        "    return intervals\n",
        "\n",
        "  def convert_interval_dates(self, dates: list) -> list:\n",
        "    list_interval_dates = []\n",
        "    for each in dates:\n",
        "      date1 = each[0]\n",
        "      # Convert the date to a string in the format \"YYYY/MM/DD\".\n",
        "      str_date1 = date1.strftime(\"%Y/%m/%d\")\n",
        "      date2 = each[1]\n",
        "      str_date2 = date2.strftime(\"%Y/%m/%d\")\n",
        "      elemento = str_date1, str_date2\n",
        "      list_interval_dates.append(elemento)\n",
        "    return list_interval_dates\n",
        "\n",
        "  def generate_list_of_sentences(self, dates: list) -> list:\n",
        "    lista_sentencas = []\n",
        "    for each in dates:\n",
        "      str_date1 = each[0].strftime(\"%Y/%m/%d\")\n",
        "      str_date2 = each[1].strftime(\"%Y/%m/%d\")\n",
        "      sentenca = f'project={self.project.upper()} and created>=\"{str_date1}\" and created<=\"{str_date2}\"'\n",
        "      lista_sentencas.append(sentenca)\n",
        "    return lista_sentencas\n",
        "\n",
        "  def get_list_of_block_issues_by_dates(self,date1, date2, distance=120) -> list:\n",
        "    print('Aguarde...')\n",
        "    t1 = datetime.now()\n",
        "    list_of_dates = self.generate_intervals_between_dates(date1,date2,distance)\n",
        "    lista_sentencas = self.generate_list_of_sentences(list_of_dates)\n",
        "    lista_bloco_issues_by_date = []\n",
        "    total_items = len(lista_sentencas)\n",
        "    i = 0\n",
        "    iterable_lista_sentencas = tqdm.tqdm(lista_sentencas, total=total_items)\n",
        "    for each in iterable_lista_sentencas:\n",
        "      issues_by_date_temp = self.jira_jira_instance.search_issues(each,maxResults=1000)\n",
        "      print(f'Range: {each}, qtd issues: {len(issues_by_date_temp)}')\n",
        "      lista_bloco_issues_by_date.append(issues_by_date_temp)\n",
        "      percentage = (i + 1) / total_items * 100\n",
        "      iterable_lista_sentencas.set_description(f\"Progress Message Analysis\")\n",
        "    i += 1\n",
        "    t2 = datetime.now()\n",
        "    print(t2)\n",
        "    print(f'Tempo da consulta: {t2-t1}')\n",
        "    return lista_bloco_issues_by_date\n",
        "\n",
        "  def concatenate_block_of_issues(self,block_of_issues):\n",
        "    concatenated_list = [item for sublist in block_of_issues for item in sublist]\n",
        "    print(f'Total de issues recuperados: {len(concatenated_list)}')\n",
        "    return concatenated_list\n",
        "\n",
        "class IssuesDatabase:\n",
        "    def __init__(self, database_name):\n",
        "        self.database_name = database_name\n",
        "        self.create_tables()\n",
        "\n",
        "    def create_tables(self):\n",
        "        self.conn = sqlite3.connect(self.database_name)\n",
        "        self.cursor = self.conn.cursor()\n",
        "\n",
        "        self.cursor.execute('''\n",
        "            CREATE TABLE IF NOT EXISTS Issues (\n",
        "                id INTEGER PRIMARY KEY,\n",
        "                project TEXT,\n",
        "                key TEXT,\n",
        "                summary TEXT,\n",
        "                issue_type TEXT,\n",
        "                status TEXT,\n",
        "                priority TEXT,\n",
        "                description TEXT\n",
        "            )\n",
        "        ''')\n",
        "\n",
        "        self.cursor.execute('''\n",
        "            CREATE TABLE IF NOT EXISTS Comments (\n",
        "                id INTEGER PRIMARY KEY,\n",
        "                key TEXT,\n",
        "                comment TEXT\n",
        "            )\n",
        "        ''')\n",
        "\n",
        "        self.conn.commit()\n",
        "\n",
        "    def insert_in_table_issues(self, project, key, summary, issue_type, status, priority, description):\n",
        "        values = (None, project, key, summary, issue_type, status, priority, description)\n",
        "        self.cursor.execute('''\n",
        "            INSERT INTO Issues\n",
        "            (id, project, key, summary, issue_type, status, priority, description)\n",
        "            VALUES (?, ?, ?, ?, ?, ?, ?, ?)\n",
        "        ''', values)\n",
        "\n",
        "        self.conn.commit()\n",
        "\n",
        "    def insert_in_table_comments(self, key, comment):\n",
        "        values = (None, key, comment)\n",
        "        self.cursor.execute('''\n",
        "            INSERT INTO Comments\n",
        "            (id, key, comment)\n",
        "            VALUES (?, ?, ?)\n",
        "        ''', values)\n",
        "\n",
        "        self.conn.commit()\n",
        "\n",
        "    def show_content(self, table):\n",
        "        query = f\"SELECT * FROM {table}\"\n",
        "        self.cursor.execute(query)\n",
        "\n",
        "        rows = self.cursor.fetchall()\n",
        "        for row in rows:\n",
        "            print(row)\n",
        "\n",
        "    def show_n_lines(self, table, n):\n",
        "        query = f\"SELECT * FROM {table}\"\n",
        "        self.cursor.execute(query)\n",
        "\n",
        "        rows = self.cursor.fetchall()\n",
        "\n",
        "        for i, row in enumerate(rows):\n",
        "            print(row)\n",
        "            if i == n:\n",
        "              break\n",
        "\n",
        "    def close_connection(self):\n",
        "        self.conn.close()"
      ],
      "metadata": {
        "id": "JxL2IdbyndCC"
      },
      "execution_count": 33,
      "outputs": []
    },
    {
      "cell_type": "markdown",
      "source": [
        "# 3. Clona o repositório local"
      ],
      "metadata": {
        "id": "52WF_6ujr9FT"
      }
    },
    {
      "cell_type": "code",
      "source": [
        "print(f'Clona o repositório : {url_to_repository}')\n",
        "!git clone $MY_REPOSITORY"
      ],
      "metadata": {
        "colab": {
          "base_uri": "https://localhost:8080/"
        },
        "id": "cN0D5vdJyPNR",
        "outputId": "58804931-48ae-42a9-f58c-240b3fcfb35a"
      },
      "execution_count": 4,
      "outputs": [
        {
          "output_type": "stream",
          "name": "stdout",
          "text": [
            "Clona o repositório : https://github.com/apache/cassandra.git\n",
            "Cloning into 'cassandra'...\n",
            "remote: Enumerating objects: 400963, done.\u001b[K\n",
            "remote: Counting objects: 100% (4055/4055), done.\u001b[K\n",
            "remote: Compressing objects: 100% (1589/1589), done.\u001b[K\n",
            "remote: Total 400963 (delta 1860), reused 3592 (delta 1736), pack-reused 396908\u001b[K\n",
            "Receiving objects: 100% (400963/400963), 398.61 MiB | 24.62 MiB/s, done.\n",
            "Resolving deltas: 100% (233473/233473), done.\n"
          ]
        }
      ]
    },
    {
      "cell_type": "markdown",
      "source": [
        "# 4. Analisa os commits"
      ],
      "metadata": {
        "id": "uYpPAl7RsCZA"
      }
    },
    {
      "cell_type": "code",
      "source": [
        "dt1 = datetime(2021, 1, 1, 0, 0, 0)\n",
        "dt2 = datetime(2021, 12, 30, 0, 0, 0)\n",
        "\n",
        "# Define the set of SATD keywords\n",
        "satd_keywords = {'TODO', 'FIXME', 'refactor', 'hack', 'workaround', 'technical debt', 'cleanup', 'clean', 'fix'}\n",
        "\n",
        "# Initialize sets to store commits and issues with SATD\n",
        "commits_with_satd = set()\n",
        "issues_with_satd = set()\n",
        "dict_commit_msg = dict()\n",
        "\n",
        "# Step 3: Analyze Commits\n",
        "print('Aguarde...')\n",
        "my_traverser_commits = Repository(path_to_repository, since=dt1, to=dt2).traverse_commits()\n",
        "total_commits = len(list(my_traverser_commits))\n",
        "for commit in tqdm.tqdm(Repository(path_to_repository, since=dt1, to=dt2).traverse_commits(), total=total_commits, desc=\"Progress commit anlysis\"):\n",
        "    for keyword in satd_keywords:\n",
        "        if keyword in commit.msg:\n",
        "            commits_with_satd.add(commit.hash)\n",
        "            dict_commit_msg[commit.hash] = commit.msg"
      ],
      "metadata": {
        "colab": {
          "base_uri": "https://localhost:8080/"
        },
        "id": "WdfW7WFDwOv9",
        "outputId": "644e6d31-c9a0-407b-a5a2-5d27c44ad8f5"
      },
      "execution_count": 5,
      "outputs": [
        {
          "output_type": "stream",
          "name": "stdout",
          "text": [
            "Aguarde...\n"
          ]
        },
        {
          "output_type": "stream",
          "name": "stderr",
          "text": [
            "Progress commit anlysis: 100%|██████████| 1197/1197 [00:00<00:00, 2360.10it/s]\n"
          ]
        }
      ]
    },
    {
      "cell_type": "code",
      "source": [
        "print('Mostra um fragmento do dicionario de commits e msgs')\n",
        "cont = 0\n",
        "for k, v in dict_commit_msg.items():\n",
        "  print(f'k: {k}, v: {v}')\n",
        "  if cont == 10:\n",
        "    break\n",
        "print(dict_commit_msg)"
      ],
      "metadata": {
        "colab": {
          "base_uri": "https://localhost:8080/"
        },
        "id": "-NQnLrYkmXc7",
        "outputId": "f9496250-4a42-40a9-844d-95733d9d5c22"
      },
      "execution_count": 48,
      "outputs": [
        {
          "output_type": "stream",
          "name": "stdout",
          "text": [
            "Mostra um fragmento do dicionario de commits e msgs\n",
            "k: 7214794e3f86b67d96371c78815c1ce03b3a5d6b, v: ninja fix CHANGES.txt\n",
            "k: 07167c95e3fc6616c313877ccd20eecbb42ef4c0, v: Ninja: fix fqltool tests (CASSANDRA-16384 follow up)\n",
            "k: 44ca3d322d8444d23d2bd1a5770b62f41de5f0f6, v: ninja fix: CASSANDRA-16261, NoSpamLogger substituted with normal logger at TRACE in MemtableAllocator\n",
            "k: b04429b57ca8e48f00d0e58e9c76887d4776cd9c, v: ninja-fix debian cassandra.yaml patch for CASSANDRA-14793\n",
            "k: a7b71eb63eecde97e8ecb70827b09a621040147d, v: ninja-fix CHANGES.txt (CASSANDRA-16477)\n",
            "k: 07babf3cb10bc11efad48cc7865c7425d7c27ce4, v: Ninja-fix: CASSANDRA-15897 broke one of the CompactStorageUpgrade tests; GOSSIP required\n",
            "k: eb68380866c9d96592580fefbc1b79a497a674bf, v: Throw IOE in AbstractType.writeValue if value has wrong fixed length\n",
            "authored by Alexandre Dutra; reviewed by Berenguer Blasi and Andres de la Pena for CASSANDRA-16500\n",
            "k: 866844743ec3cd23451b0158a7841a026e2e68d6, v: ninja fix CHANGES.txt entry for CASSANDRA-16500\n",
            "k: e031ed09a97393568b6ca112bbbd69ff2d5d2687, v: ninja-fix: update netbeans project dependencies after CASSANDRA-16249,CASSANDRA-13951,CASSANDRA-16136,CASSANDRA-16462\n",
            "k: cd4aa9f77cccea238f26eb324f7f2f980b4de07e, v: ninja-fix missing copyright headers\n",
            "k: 24013e5c5ae538442cab083f8644563ea149ed7b, v: ninja-fix: typo Update in LICENSE.txt\n",
            "k: 5c6ae40404791a4a17979ab40d4464b827723dff, v: Ninja fix, add header to the Circle LOWRES and HIGHRES config files\n",
            "k: 8b977d0da9825c9eb443eac01b3976b60ecd6a46, v: Ninja fix, add header to the Circle LOWRES and HIGHRES config files\n",
            "k: 2bd07ecab6121ebfc8a192243c5c6fb41eb85515, v: Minor nodetool verify fixes\n",
            "\n",
            "Patch by marcuse; reviewed by Caleb Rackliffe and Jon Meredith for CASSANDRA-16608\n",
            "k: 8fd046f2557e4d50e80986b813bc904dce625e6a, v: Ninja fix typo in logging for CASSANDRA-16628\n",
            "k: 26163bb12aac590289aab6deabc21fe86371e22a, v: Follow up fixes to CASSANDRA-16633\n",
            "\n",
            "* Don't run rat check if git fails or not available\n",
            "* Check for presence of rat.txt before running eclipse-warnings task\n",
            "  (to ensure that the report is always generated by CI runs)\n",
            "\n",
            "Patch by Sam Tunnicliffe; reviewed by Mick Semb Wever for CASSANDRA-16633\n",
            "k: d2fcdacfa1a754f1365bf6b6b5f3f9983ded4423, v: fix errant line breaks\n",
            "k: a75b9b85332c5284b0d142267cc01fb1cd309f10, v: Revert \"fix errant line breaks\"\n",
            "\n",
            "This reverts commit d2fcdacfa1a754f1365bf6b6b5f3f9983ded4423.\n",
            "k: 7917ab81218835c9ae6c70b8006d8577c961c578, v: Ninja fix: Add missing Ignore in LegacySSTableTest\n",
            "k: 0301fc6cea733b939066d197effa611a41bb787b, v: cqlsh: fix DESC TYPE with non-ascii character in the identifier\n",
            "\n",
            "Patch by Adam Holmberg; reviewed by brandonwilliams for CASSANDRA-16400\n",
            "k: 9a432418f2277c40a1fe4b64049688d6354ecdca, v: Ninja: fix incorrect import for guava lib in row util\n",
            "k: 1816f3020603e47a2cb6bde605b3c91277a1a6d9, v: ninja fix: temporary circle ccm fix\n",
            "k: 1936f8e6fba986222a00c2183fcda8b899bf82b4, v: ninja fix: temporary circle ccm fix\n",
            "k: 6c8ab5b6b41830ac0d0ee381a7669b06ffd5b43a, v: Revert \"ninja fix: temporary circle ccm fix\"; final solution committed as part of CASSANDRA-16688\n",
            "\n",
            "This reverts commit 1816f3020603e47a2cb6bde605b3c91277a1a6d9.\n",
            "k: 55b4b8dd3bae0004d3128a7f9fe8474526f608c7, v: Ninja fix typo in commit log archive page\n",
            "k: 7e1afa1fe60242d2252485b6225b7a59762c3741, v: ninja fix six typo to be six >=1.12.0\n",
            "k: cfc8ef3313efd6913b02433da0f0a4d0af2bc130, v: ninja fix six typo to be six >=1.12.0\n",
            "k: 2059c7586ef6bf10900977d4f5bb1072313e0b74, v: Fix queries on empty partitions with static data\n",
            "\n",
            "patch by Benjamin Lerer; reviewed by Andrés de la Peña and Jacek\n",
            "Lewandowski for CASSANDRA-16686\n",
            "\n",
            "When an CQL query is done at the partition level (without clustering or\n",
            "regular column restrictions), if a partition does not contains any row but\n",
            "contains some static columns a row will be returned to the user with null\n",
            "values for all the clustering and regular columns.\n",
            "Since CASSANDRA-12768, Cassandra fetch all the regular columns but only\n",
            "the static columns that have been selected by the user. By consequence,\n",
            "Cassandra will fetch only s1 for the SELECT s1 FROM %s WHERE pk=1 query\n",
            "from the description example. Due to that it will NOT attempt to fetch the\n",
            "s2 value and will look only at the third and second SSTables. The\n",
            "partition having no value for s1 Cassandra will consider the partition\n",
            "empty and will not return a row for it as it should.\n",
            "\n",
            "The patch fix the issue by adding all the static columns to the fetched\n",
            "columns when the query is at the partition level (without clustering or\n",
            "regular column restrictions). Unfortunately as 4.0-rc1 has been released\n",
            "we need to ensure backward compatibility with it in a mixed cluster\n",
            "environment. To ensure that some extra changes were required in\n",
            "ColumnFilter and in Gossiper.\n",
            "k: 658e08dc7e7561a6313675a73a6dbd43c73bbde4, v: add and use Gossiper.clearUnsafe to fix LeaveAndBootstrapTest\n",
            "\n",
            "Patch by brandonwilliams, reviewed by adelapena for CASSANDRA-16689\n",
            "k: e1f7691bd52085d312bd78a59145076429a8af2e, v: ninja - move entry in CHANGES.txt for CASSANDRA-16669 from 4.0-rc2 among 4.0 fixes\n",
            "k: d54eff3a4a59c13b405624e5142aee37ef5f0cc6, v: Remove full project building from the generate-idea-files ant target\n",
            "\n",
            " - that target was unnecessarily building the whole project which made it problematic to update the project while merging/rebasing if conflicts in the code were failing the compilation\n",
            " - updated system properties for default run test task in Intellij to match those when running tests from Ant\n",
            " - fix test-memory target\n",
            "\n",
            " patch by Jacek Lewandowski; reviewed by Mick Semb Wever for CASSANDRA-16697\n",
            "k: 6c8f6bd663fea4b909f0e5723dbf7f181dd70487, v: DiagnosticEventService.publish was logging logs events without an overridden toString, fixed to use toMap() in logs\n",
            "\n",
            " patch by Zoltan Ersek; reviewed by Mick Semb Wever for CASSANDRA-16749\n",
            "k: 0fc876894a9b7ca605b45001e5b3419abf35c945, v: ninja-fix: update release docs for correct nexus terminology\n",
            "k: 2d8b304e75805304bde5aab7a9d4d78085079e14, v: Ninja fix comments saying mx4j defaults to 0.0.0.0\n",
            "\n",
            "CASSANDRA-13574\n",
            "k: 65b42304f5e7dc6c74a063c937e75b183b22dbef, v: ninja-fix: return cassandra-4.0's version to 4.0-rc2 (4.0.x version numbers are not yet supported: CASSANDRA-16781 and CASSANDRA-16649)\n",
            "k: 1de960b433e853687ccc2989b326b47525bf13ba, v: ninja-fix: return cassandra-4.0's version and debian/changelog to 4.0-rc3 (4.0.x version numbers are not yet supported: CASSANDRA-16781 and CASSANDRA-16649)\n",
            "k: bb3a39ad4db82bf10a17d775f558ee18a4a70198, v: BinLog does not close chronicle queue leaving this to GC to cleanup\n",
            "\n",
            "patch by David Capwell; reviewed by Caleb Rackliffe, Marcus Eriksson for CASSANDRA-16774\n",
            "k: 68bf950f72d20be9f31fd3f91669be7e28c050e4, v: BinLog does not close chronicle queue leaving this to GC to cleanup\n",
            "\n",
            "patch by David Capwell; reviewed by Caleb Rackliffe, Marcus Eriksson for CASSANDRA-16774\n",
            "k: 8acbbe042b236c6948845ecd7af093c6f0fa3e4b, v: Background schedule to clean up orphaned hints files\n",
            "\n",
            "patch by Yifan Cai; reviewed by Brandon Williams, Chris Lohfink for CASSANDRA-16815\n",
            "k: ad139da84c600c294e00263bd2c48b40aea2c2cc, v: fix incorrect error message in LegacyLayout\n",
            "k: 41b43a46c13680168b45181e904a170717cd2514, v: Avoid rewriting all repaired sstables during cleanup when transient replication is disabled\n",
            "\n",
            "Patch by marcuse; reviewed by Alex Petrov for CASSANDRA-16966\n",
            "k: 4cc63755564819d68a8b3548a2c8869ed9465b21, v: ninja-fix: correct issue reference for CASSANDRA-16883 in ReadCallback comments\n",
            "k: 8e225c55c49493f00fc9bc0b5809ab026d60c767, v: v4+ protocol did not clean up client warnings, which caused leaking the state\n",
            "\n",
            "patch by David Capwell; reviewed by Caleb Rackliffe, Jon Meredith, Sam Tunnicliffe for CASSANDRA-17054\n",
            "k: c4b443ab90afd258d4cd616daeff2eba7e847b80, v: Ninja-fix: CHANGES.txt and NEWS.txt for denylisting (CASSANDRA-12106)\n",
            "k: b84ec51b4c73d7b9b58ea8a1708ae2f330972970, v: Refactor normal/preview/IR repair to standardize repair cleanup and error handling of failed RepairJobs\n",
            "\n",
            "patch by David Capwell; reviewed by Marcus Eriksson for CASSANDRA-17069\n",
            "k: 31bea0b0d41e4e81095f0d088094f03db14af490, v: [CEP-10] Cluster and Code Simulations: Minor fixes\n",
            "\n",
            "- fix repair timeout\n",
            "- fix secondary index flushing\n",
            "- fix race condition with Ref\n",
            "- fix resource leaks\n",
            "- fix incorrect exists()\n",
            "- fix repair error reporting when null exception message\n",
            "- fix dtest use of System.nanoTime\n",
            "\n",
            "patch by Benedict; reviewed by Sam Tunnicliffe for CASSANDRA-17008\n",
            "k: aa82e3e4277397dbf630c7b805c5aaca22d660ad, v: Don't clean when enabling FQL via JMX\n",
            "\n",
            "Patch by brandonwilliams; reviewed by bereng for CASSANDRA-17136\n",
            "k: e99a8da161ed599c1a22a853c9c7f9caf6c1eb79, v: Don't clean when enabling FQL via JMX\n",
            "\n",
            "Patch by brandonwilliams; reviewed by bereng for CASSANDRA-17136\n",
            "k: bae92ee139b411c94228f8fd5bb8befb4183ca9f, v: Migrate thresholds for number of keyspaces and tables to guardrails\n",
            "\n",
            "This adds a new guardrail for limiting the number of keyspaces. It also  marks the previous not-guardrail thresholds\n",
            "for keyspaces and tables as deprecated in favour of the equivalent guardrails. GuardrailsOptions is modified to always\n",
            "log updates on guardrails config. A small refactor decouples guardrails from their configuration interfaces.\n",
            "\n",
            "patch by Andrés de la Peña; reviewed by Ekaterina Dimitrova for CASSANDRA-17195\n",
            "{'7214794e3f86b67d96371c78815c1ce03b3a5d6b': 'ninja fix CHANGES.txt', '07167c95e3fc6616c313877ccd20eecbb42ef4c0': 'Ninja: fix fqltool tests (CASSANDRA-16384 follow up)', '44ca3d322d8444d23d2bd1a5770b62f41de5f0f6': 'ninja fix: CASSANDRA-16261, NoSpamLogger substituted with normal logger at TRACE in MemtableAllocator', 'b04429b57ca8e48f00d0e58e9c76887d4776cd9c': 'ninja-fix debian cassandra.yaml patch for CASSANDRA-14793', 'a7b71eb63eecde97e8ecb70827b09a621040147d': 'ninja-fix CHANGES.txt (CASSANDRA-16477)', '07babf3cb10bc11efad48cc7865c7425d7c27ce4': 'Ninja-fix: CASSANDRA-15897 broke one of the CompactStorageUpgrade tests; GOSSIP required', 'eb68380866c9d96592580fefbc1b79a497a674bf': 'Throw IOE in AbstractType.writeValue if value has wrong fixed length\\nauthored by Alexandre Dutra; reviewed by Berenguer Blasi and Andres de la Pena for CASSANDRA-16500', '866844743ec3cd23451b0158a7841a026e2e68d6': 'ninja fix CHANGES.txt entry for CASSANDRA-16500', 'e031ed09a97393568b6ca112bbbd69ff2d5d2687': 'ninja-fix: update netbeans project dependencies after CASSANDRA-16249,CASSANDRA-13951,CASSANDRA-16136,CASSANDRA-16462', 'cd4aa9f77cccea238f26eb324f7f2f980b4de07e': 'ninja-fix missing copyright headers', '24013e5c5ae538442cab083f8644563ea149ed7b': 'ninja-fix: typo Update in LICENSE.txt', '5c6ae40404791a4a17979ab40d4464b827723dff': 'Ninja fix, add header to the Circle LOWRES and HIGHRES config files', '8b977d0da9825c9eb443eac01b3976b60ecd6a46': 'Ninja fix, add header to the Circle LOWRES and HIGHRES config files', '2bd07ecab6121ebfc8a192243c5c6fb41eb85515': 'Minor nodetool verify fixes\\n\\nPatch by marcuse; reviewed by Caleb Rackliffe and Jon Meredith for CASSANDRA-16608', '8fd046f2557e4d50e80986b813bc904dce625e6a': 'Ninja fix typo in logging for CASSANDRA-16628', '26163bb12aac590289aab6deabc21fe86371e22a': \"Follow up fixes to CASSANDRA-16633\\n\\n* Don't run rat check if git fails or not available\\n* Check for presence of rat.txt before running eclipse-warnings task\\n  (to ensure that the report is always generated by CI runs)\\n\\nPatch by Sam Tunnicliffe; reviewed by Mick Semb Wever for CASSANDRA-16633\", 'd2fcdacfa1a754f1365bf6b6b5f3f9983ded4423': 'fix errant line breaks', 'a75b9b85332c5284b0d142267cc01fb1cd309f10': 'Revert \"fix errant line breaks\"\\n\\nThis reverts commit d2fcdacfa1a754f1365bf6b6b5f3f9983ded4423.', '7917ab81218835c9ae6c70b8006d8577c961c578': 'Ninja fix: Add missing Ignore in LegacySSTableTest', '0301fc6cea733b939066d197effa611a41bb787b': 'cqlsh: fix DESC TYPE with non-ascii character in the identifier\\n\\nPatch by Adam Holmberg; reviewed by brandonwilliams for CASSANDRA-16400', '9a432418f2277c40a1fe4b64049688d6354ecdca': 'Ninja: fix incorrect import for guava lib in row util', '1816f3020603e47a2cb6bde605b3c91277a1a6d9': 'ninja fix: temporary circle ccm fix', '1936f8e6fba986222a00c2183fcda8b899bf82b4': 'ninja fix: temporary circle ccm fix', '6c8ab5b6b41830ac0d0ee381a7669b06ffd5b43a': 'Revert \"ninja fix: temporary circle ccm fix\"; final solution committed as part of CASSANDRA-16688\\n\\nThis reverts commit 1816f3020603e47a2cb6bde605b3c91277a1a6d9.', '55b4b8dd3bae0004d3128a7f9fe8474526f608c7': 'Ninja fix typo in commit log archive page', '7e1afa1fe60242d2252485b6225b7a59762c3741': 'ninja fix six typo to be six >=1.12.0', 'cfc8ef3313efd6913b02433da0f0a4d0af2bc130': 'ninja fix six typo to be six >=1.12.0', '2059c7586ef6bf10900977d4f5bb1072313e0b74': 'Fix queries on empty partitions with static data\\n\\npatch by Benjamin Lerer; reviewed by Andrés de la Peña and Jacek\\nLewandowski for CASSANDRA-16686\\n\\nWhen an CQL query is done at the partition level (without clustering or\\nregular column restrictions), if a partition does not contains any row but\\ncontains some static columns a row will be returned to the user with null\\nvalues for all the clustering and regular columns.\\nSince CASSANDRA-12768, Cassandra fetch all the regular columns but only\\nthe static columns that have been selected by the user. By consequence,\\nCassandra will fetch only s1 for the SELECT s1 FROM %s WHERE pk=1 query\\nfrom the description example. Due to that it will NOT attempt to fetch the\\ns2 value and will look only at the third and second SSTables. The\\npartition having no value for s1 Cassandra will consider the partition\\nempty and will not return a row for it as it should.\\n\\nThe patch fix the issue by adding all the static columns to the fetched\\ncolumns when the query is at the partition level (without clustering or\\nregular column restrictions). Unfortunately as 4.0-rc1 has been released\\nwe need to ensure backward compatibility with it in a mixed cluster\\nenvironment. To ensure that some extra changes were required in\\nColumnFilter and in Gossiper.', '658e08dc7e7561a6313675a73a6dbd43c73bbde4': 'add and use Gossiper.clearUnsafe to fix LeaveAndBootstrapTest\\n\\nPatch by brandonwilliams, reviewed by adelapena for CASSANDRA-16689', 'e1f7691bd52085d312bd78a59145076429a8af2e': 'ninja - move entry in CHANGES.txt for CASSANDRA-16669 from 4.0-rc2 among 4.0 fixes', 'd54eff3a4a59c13b405624e5142aee37ef5f0cc6': 'Remove full project building from the generate-idea-files ant target\\n\\n - that target was unnecessarily building the whole project which made it problematic to update the project while merging/rebasing if conflicts in the code were failing the compilation\\n - updated system properties for default run test task in Intellij to match those when running tests from Ant\\n - fix test-memory target\\n\\n patch by Jacek Lewandowski; reviewed by Mick Semb Wever for CASSANDRA-16697', '6c8f6bd663fea4b909f0e5723dbf7f181dd70487': 'DiagnosticEventService.publish was logging logs events without an overridden toString, fixed to use toMap() in logs\\n\\n patch by Zoltan Ersek; reviewed by Mick Semb Wever for CASSANDRA-16749', '0fc876894a9b7ca605b45001e5b3419abf35c945': 'ninja-fix: update release docs for correct nexus terminology', '2d8b304e75805304bde5aab7a9d4d78085079e14': 'Ninja fix comments saying mx4j defaults to 0.0.0.0\\n\\nCASSANDRA-13574', '65b42304f5e7dc6c74a063c937e75b183b22dbef': \"ninja-fix: return cassandra-4.0's version to 4.0-rc2 (4.0.x version numbers are not yet supported: CASSANDRA-16781 and CASSANDRA-16649)\", '1de960b433e853687ccc2989b326b47525bf13ba': \"ninja-fix: return cassandra-4.0's version and debian/changelog to 4.0-rc3 (4.0.x version numbers are not yet supported: CASSANDRA-16781 and CASSANDRA-16649)\", 'bb3a39ad4db82bf10a17d775f558ee18a4a70198': 'BinLog does not close chronicle queue leaving this to GC to cleanup\\n\\npatch by David Capwell; reviewed by Caleb Rackliffe, Marcus Eriksson for CASSANDRA-16774', '68bf950f72d20be9f31fd3f91669be7e28c050e4': 'BinLog does not close chronicle queue leaving this to GC to cleanup\\n\\npatch by David Capwell; reviewed by Caleb Rackliffe, Marcus Eriksson for CASSANDRA-16774', '8acbbe042b236c6948845ecd7af093c6f0fa3e4b': 'Background schedule to clean up orphaned hints files\\n\\npatch by Yifan Cai; reviewed by Brandon Williams, Chris Lohfink for CASSANDRA-16815', 'ad139da84c600c294e00263bd2c48b40aea2c2cc': 'fix incorrect error message in LegacyLayout', '41b43a46c13680168b45181e904a170717cd2514': 'Avoid rewriting all repaired sstables during cleanup when transient replication is disabled\\n\\nPatch by marcuse; reviewed by Alex Petrov for CASSANDRA-16966', '4cc63755564819d68a8b3548a2c8869ed9465b21': 'ninja-fix: correct issue reference for CASSANDRA-16883 in ReadCallback comments', '8e225c55c49493f00fc9bc0b5809ab026d60c767': 'v4+ protocol did not clean up client warnings, which caused leaking the state\\n\\npatch by David Capwell; reviewed by Caleb Rackliffe, Jon Meredith, Sam Tunnicliffe for CASSANDRA-17054', 'c4b443ab90afd258d4cd616daeff2eba7e847b80': 'Ninja-fix: CHANGES.txt and NEWS.txt for denylisting (CASSANDRA-12106)', 'b84ec51b4c73d7b9b58ea8a1708ae2f330972970': 'Refactor normal/preview/IR repair to standardize repair cleanup and error handling of failed RepairJobs\\n\\npatch by David Capwell; reviewed by Marcus Eriksson for CASSANDRA-17069', '31bea0b0d41e4e81095f0d088094f03db14af490': '[CEP-10] Cluster and Code Simulations: Minor fixes\\n\\n- fix repair timeout\\n- fix secondary index flushing\\n- fix race condition with Ref\\n- fix resource leaks\\n- fix incorrect exists()\\n- fix repair error reporting when null exception message\\n- fix dtest use of System.nanoTime\\n\\npatch by Benedict; reviewed by Sam Tunnicliffe for CASSANDRA-17008', 'aa82e3e4277397dbf630c7b805c5aaca22d660ad': \"Don't clean when enabling FQL via JMX\\n\\nPatch by brandonwilliams; reviewed by bereng for CASSANDRA-17136\", 'e99a8da161ed599c1a22a853c9c7f9caf6c1eb79': \"Don't clean when enabling FQL via JMX\\n\\nPatch by brandonwilliams; reviewed by bereng for CASSANDRA-17136\", 'bae92ee139b411c94228f8fd5bb8befb4183ca9f': 'Migrate thresholds for number of keyspaces and tables to guardrails\\n\\nThis adds a new guardrail for limiting the number of keyspaces. It also  marks the previous not-guardrail thresholds\\nfor keyspaces and tables as deprecated in favour of the equivalent guardrails. GuardrailsOptions is modified to always\\nlog updates on guardrails config. A small refactor decouples guardrails from their configuration interfaces.\\n\\npatch by Andrés de la Peña; reviewed by Ekaterina Dimitrova for CASSANDRA-17195'}\n"
          ]
        }
      ]
    },
    {
      "cell_type": "markdown",
      "source": [
        "## 4.1 Analisa os diffs dos commits"
      ],
      "metadata": {
        "id": "r8WPCQzBsg3A"
      }
    },
    {
      "cell_type": "code",
      "source": [
        "# Step 4: Analyze Modified Files in Commits\n",
        "dict_commmit_diffs = dict()\n",
        "for commit in tqdm.tqdm(Repository(path_to_repository, since=dt1, to=dt2).traverse_commits(), total=total_commits, desc=\"Progress commit anlysis\"):\n",
        "  list_keywords_by_commit = list()\n",
        "  list_diff_content_by_commit = list()\n",
        "  for modification in commit.modified_files:\n",
        "    for line in modification.diff_parsed['added']:\n",
        "      valor_linha = line[0]\n",
        "      conteudo_linha = line[1]\n",
        "      for keyword in satd_keywords:\n",
        "        if is_java_comment(conteudo_linha):\n",
        "          if keyword in conteudo_linha:\n",
        "            commits_with_satd.add(commit.hash)\n",
        "            list_keywords_by_commit.append(keyword)\n",
        "            list_diff_content_by_commit.append(conteudo_linha)\n",
        "  if len(list_keywords_by_commit) > 0:\n",
        "    elemento = list_keywords_by_commit, list_diff_content_by_commit\n",
        "    dict_commmit_diffs[commit.hash] = elemento"
      ],
      "metadata": {
        "colab": {
          "base_uri": "https://localhost:8080/"
        },
        "id": "aPuGWTHc1xRr",
        "outputId": "3d2a7b3b-308e-4471-be55-5bc890043d8c"
      },
      "execution_count": 22,
      "outputs": [
        {
          "output_type": "stream",
          "name": "stderr",
          "text": [
            "Progress commit anlysis: 100%|██████████| 1197/1197 [00:16<00:00, 72.73it/s]\n"
          ]
        }
      ]
    },
    {
      "cell_type": "code",
      "source": [
        "cont = 0\n",
        "for k,v in dict_commmit_diffs.items():\n",
        "  print(f'k: {k}, v: {v}')\n",
        "  if cont == 10:\n",
        "    break"
      ],
      "metadata": {
        "colab": {
          "base_uri": "https://localhost:8080/"
        },
        "id": "USWfzz3hme_P",
        "outputId": "70179fe7-e2de-40a8-b7c0-7157cc1fbb12"
      },
      "execution_count": 49,
      "outputs": [
        {
          "output_type": "stream",
          "name": "stdout",
          "text": [
            "k: 0a1e900a0a042f78d7d5d6625bc98b84eb463e69, v: (['clean', 'clean', 'clean', 'clean', 'clean', 'clean', 'clean', 'clean', 'clean', 'clean', 'clean', 'clean', 'clean', 'clean', 'clean', 'clean', 'clean', 'clean', 'clean'], ['         * reclaiming too, and it could cause problems to the memtable cleaner algorithm if reclaiming', ' * The cleaner is used by {@link MemtableCleanerThread} in order to reclaim space from memtables, normally', '     * This is a function that schedules a cleaning task, normally flushing of the largest sstable.', '     * the cleaner was able to execute the cleaning operation or if another thread concurrently executed', '     * the same clean operation. If no operation was even attempted, for example because no memtable was', '     * The future will complete with an error if the cleaning operation encounters an error.', '        /** This is incremented when a cleaner is invoked and decremented when a cleaner has completed */', '            // if the cleaning job was scheduled (res == true) or had an error, trigger again after decrementing the tasks', '        // wait for a bit because the cleaner latch completes before the pending tasks are decremented', '        // start the thread with needsCleaning returning false, the cleaner should not be invoked', '        // now invoke the cleaner', '        // now complete the cleaning task', '        // start the thread with needsCleaning returning true, the cleaner should be invoked', '        // complete the cleaning task with an error, no other cleaning task should be invoked', '        // now trigger cleaning again and verify that a new task is invoked', '        //  complete the cleaning task with false (nothing should be scheduled)', '        // now trigger cleaning again and verify that a new task is invoked', '            // allocate normal, check accounted and not cleaned', '            // let the cleaner run, it will release 80 bytes'])\n",
            "k: 2d80e9904b46474b3a7cc135690c27511a234713, v: (['fix'], ['        // Second, try and alter the keyspace.  Before the bug was fixed, this would fail as the check includes'])\n",
            "k: 6665fc29b33abcc26aad4cecbfee88225b0a7225, v: (['clean'], [' * The {@link #update()} method will apply the changes, cleaning the previous token metadata info. It will also'])\n",
            "k: 5c84ed9ae8227e550630768a47fef7b2d1f1f1d7, v: (['clean', 'clean'], ['        // clean shutdown should fail session1 & notify coordinator', '        // clean shutdown above should make startup send no messages;'])\n",
            "k: c591978f4d265e42d0132418005ba63a99278c75, v: (['clean'], ['            // clean up the gossip states'])\n",
            "k: 866844743ec3cd23451b0158a7841a026e2e68d6, v: (['fix'], [' * Throw IOE in AbstractType.writeValue if value has wrong fixed length (CASSANDRA-16500)'])\n",
            "k: a70253124681d006c865441b194d76d8e3058d64, v: (['clean', 'cleanup', 'hack'], ['            // under its feet such as the async CQLTester.afterTest() operations. We try to sync cleanup of tables here', '            // under its feet such as the async CQLTester.afterTest() operations. We try to sync cleanup of tables here', '            // but we need to catch any exceptions we might run into bc of the hack. See CASSANDRA-16546'])\n",
            "k: 5bd8207cd78d247b8110a49567c4787025f6cc4f, v: (['fix'], [\" * GossiperTest.testHasVersion3Nodes didn't take into account trunk version changes, fixed to rely on latest version (CASSANDRA-16651)\"])\n",
            "k: f91418bbbedf4e0d5396becf14a5e884ac7f0d3b, v: (['TODO'], [\"        //TODO NetworkTopology class isn't flexible and doesn't handle adding/removing nodes well...\"])\n",
            "k: 0301fc6cea733b939066d197effa611a41bb787b, v: (['fix'], [' * cqlsh: fix DESC TYPE with non-ascii character in the identifier (CASSANDRA-16400)'])\n",
            "k: 6ad259238d82d7fe752eff6373d55bd225d8c630, v: (['TODO', 'TODO', 'TODO', 'fix', 'fix', 'fix', 'fix'], ['    // TODO will revise the non-pk filter condition in MV, see CASSANDRA-11500', '    // TODO will revise the non-pk filter condition in MV, see CASSANDRA-11500', '    // TODO will revise the non-pk filter condition in MV, see CASSANDRA-11500', '            /////////////////// null suffix on stored udt ////////////////////', '            /////////////////// null prefix on stored udt ////////////////////', '            /////////////// null suffix on udt ////////////////', '            /////////////// null prefix on udt ////////////////'])\n",
            "k: 159469834a0695609626923e6b5afeb0f251f19d, v: (['fix', 'fix', 'clean'], [' * There still might be a bug, flaky test to be fixed before using it again.', ' * There still might be a bug, flaky test to be fixed before using it again.', ' * Skipping all tests for running now to clean he noise before 4.0 GA release.'])\n",
            "k: e151fa5b89818e8c983400d2207bd8b9c1bc4d4e, v: (['fix'], ['     * Ignored for now as there is some in-jvm bug which needs to be fixed, otherwise the test is flaky'])\n",
            "k: 2059c7586ef6bf10900977d4f5bb1072313e0b74, v: (['fix', 'fix', 'fix', 'fix'], ['     * <p>The class does not rely on TableMetadata and expects a fix set of columns to prevent issues', '         * <p>The class does not rely on TableMetadata and expects a fix set of columns to prevent issues', '     * <p>The class  does not rely on TableMetadata and expect a fix set of fetched columns to prevent issues', '         * <p>The class  does not rely on TableMetadata and expect a fix set of columns to prevent issues'])\n",
            "k: bb3a39ad4db82bf10a17d775f558ee18a4a70198, v: (['clean', 'cleanup'], [' * BinLog does not close chronicle queue leaving this to GC to cleanup (CASSANDRA-16774)', ' * BinLog does not close chronicle queue leaving this to GC to cleanup (CASSANDRA-16774)'])\n",
            "k: 68bf950f72d20be9f31fd3f91669be7e28c050e4, v: (['clean', 'cleanup'], [' * BinLog does not close chronicle queue leaving this to GC to cleanup (CASSANDRA-16774)', ' * BinLog does not close chronicle queue leaving this to GC to cleanup (CASSANDRA-16774)'])\n",
            "k: f49c29ee8c7374a05e32be01cb0046236d5309e6, v: (['clean'], ['                // Make sure all validation tasks have cleaned up the off-heap Merkle trees they might contain.'])\n",
            "k: 8acbbe042b236c6948845ecd7af093c6f0fa3e4b, v: (['clean', 'clean', 'clean', 'cleanup'], [' * Background schedule to clean up orphaned hints files (CASSANDRA-16815)', ' * - an optional scheduled task to clean up the applicable hints files', '        // periodically cleanup the expired hints', '        // periodically cleanup the expired hints'])\n",
            "k: ce21eb5fac385098b7ed19c77167a38b5dee230a, v: (['fix'], [\"            // fix under replicated keyspaces so they don't produce hint requests while we are dropping mutations\"])\n",
            "k: b286639eea11b5f6ee709711d00d36aa029bc114, v: (['TODO'], ['        // TODO these constants will be used in upcoming audit log vtable too, see CASSANDRA-16725'])\n",
            "k: ad249424814836bd00f47931258ad58bfefb24fd, v: (['clean', 'cleanup', 'clean', 'cleanup', 'TODO', 'clean', 'cleanup', 'clean', 'cleanup'], ['    /** snapshots ttl cleanup period in seconds */', '    /** snapshots ttl cleanup period in seconds */', '    /** snapshots ttl cleanup initial delay in seconds */', '    /** snapshots ttl cleanup initial delay in seconds */', '    // TODO: Support pausing snapshot cleanup', '    // TODO: Support pausing snapshot cleanup', '    // TODO: Support pausing snapshot cleanup', '            // Start snapshot manager which should start expired snapshot cleanup thread', '            // Start snapshot manager which should start expired snapshot cleanup thread'])\n",
            "k: 4ec4ab992f8adc0a60055a60525e9d11a28bc2ae, v: (['TODO', 'TODO', 'TODO'], [\"        // TODO: take message as arg and return boolean for 'had warning' etc\", '        //TODO support port', '        //TODO support auth'])\n",
            "k: 585bc692918deea2b8c4b1098ee7e7478881f138, v: (['clean'], ['     * assumptions about the cleanliness of the logs and the correctness of queries made when initial local reads and'])\n",
            "k: 57f53f53ae811f00cf9c1f84bd0414d99391f1ce, v: (['clean', 'cleanup'], [\"                            // won't trigger cleanup\", \"                            // won't trigger cleanup\"])\n",
            "k: 09c89e5f5f8604301c233130dfb6e82a36ae30f3, v: (['fix'], [\"     * In particular, this method doesn't consider two types serialization compatible if one of them has fixed\"])\n",
            "k: f7c71f65c000c2c3ef7df1b034b8fdd822a396d8, v: (['fix', 'fix', 'fix', 'fix', 'clean', 'clean', 'clean', 'clean', 'clean'], ['         * a sub-set of the column values is specified (e.g. clustering prefix).', '         * Returns the set of column values corresponding to the specified clustering prefix.', '         * @param prefix the clustering prefix', '         * @return the set of columns values corresponding to the specified clustering prefix', '        // check for a clean state', '        // check for a clean state', '        // check for a clean state', '        // check for a clean state', '        // check for a clean state'])\n",
            "k: c7526f943f50e994e94c8287c772c856961833f2, v: (['TODO', 'clean', 'clean', 'fix', 'hack'], [\"                 * TODO: We'll currently do filtering by the rowFilter here because it's convenient. However,\", \"            // since init was not called, it isn't clear that the state will be cleaned up, so avoid populating\", \"            // since init was not called, it isn't clear that the state will be cleaned up, so avoid populating\", '                        // I am tired of looking up my notes for how to fix this... so why not tell the user?', '            // hack to force multiple index entries'])\n",
            "k: 15a2fe00fc9817874f4c1600d56a373c21b1ad1c, v: (['TODO'], [' * TODO better rationalise MonotonicClock/Clock'])\n",
            "k: 41b43a46c13680168b45181e904a170717cd2514, v: (['clean', 'cleanup'], [' * Avoid rewriting all sstables during cleanup when transient replication is enabled (CASSANDRA-16966)', ' * Avoid rewriting all sstables during cleanup when transient replication is enabled (CASSANDRA-16966)'])\n",
            "k: 13632e9a99e8256a565bd6919d2d11b3e476e973, v: (['fix', 'clean'], ['            // cluster that has both old and new nodes, but we would like to avoid a situation when the fix adds', '        // fork of testReprepareMixedVersionWithoutReset, but makes sure oldBehavior has a clean state'])\n",
            "k: e5b92e108851d2be81c43cbf982564f92d28aa6b, v: (['TODO', 'TODO', 'TODO', 'TODO', 'TODO', 'TODO'], ['            // TODO: could generify to any executor able to say if already executing within', '     * TODO this Semaphore is potentially inefficient if used with release quantities other than 1', ' * TODO: this class should not be backed by CLQ (should use an intrusive linked-list with lower overhead)', '            // TODO: this is only necessary because we use CLQ - which is only for historical any-NIH reasons', '            // TODO: attempt to remove the cancelled from the beginning only (need atomic cas of head)', '         * TODO: use intrusive linked list'])\n",
            "k: be1f050bc8c0cd695a42952e3fc84625ad48d83a, v: (['clean', 'TODO', 'clean', 'clean', 'clean', 'clean', 'clean', 'clean', 'clean', 'TODO', 'clean', 'cleanup', 'TODO', 'TODO', 'TODO', 'TODO', 'TODO', 'TODO', 'TODO'], ['    // Keep a handle on created instances so their executors can be terminated cleanly', \"                // TODO: should we check to see there aren't nested CompactionInterruptedException?\", '     * On shutdown, the executing thread will be interrupted; to support clean shutdown', '     * On shutdown, the executing thread will be interrupted; to support clean shutdown', '     * On shutdown, the executing thread will be interrupted; to support clean shutdown', '     * invoking {@code task}, so that thread state may be modified and cleaned up.', '     * invoking {@code task}, so that thread state may be modified and cleaned up.', '     * invoking {@code task}, so that thread state may be modified and cleaned up', '     * invoking {@code task}, so that thread state may be modified and cleaned up.', '            // TODO: this sequence of events seems poorly thought out', ' * We also provide a shutdown hook for JMX registration cleanup.', ' * We also provide a shutdown hook for JMX registration cleanup.', ' * TODO: see if we can port to ExecutorPlus to avoid duplication', '    // TODO: this is a bit ugly, but no uglier than it was', '        // TODO: very unclear what the goal is here. why do we wait only if we were the first to invoke stop?', '        // TODO: should we set this by default on all scheduled executors?', '        // TODO: document visibility of constructor (i.e. must be safe published)', '            // TODO: suboptimal package interdependency - move FutureTask etc here?', '    // TODO: test listeners?'])\n",
            "k: 6a1d9de3d938d24baa2ba98b5379b0536177c786, v: (['TODO', 'TODO', 'TODO', 'clean', 'TODO', 'TODO', 'TODO'], [\"     * TODO: probably shouldn't use DataInputStream as a parent\", ' * TODO codebase probably should not use tryList, as unexpected exceptions are hidden;', ' * TODO codebase probably should not use Paths.get() to ensure we can override the filesystem', '     * This file will be deleted on clean shutdown; if it is a directory, its entire contents', '            // TODO: this should be an FSError (either read or write)?', '// TODO: test disconnecting and reconnecting constantly', '        // TODO: confirm - it seems that accuracy of lastModified may differ between APIs on Linux??'])\n",
            "k: 6812fddb3e6d20e5e8840e57076b97210a9abfe2, v: (['clean', 'clean', 'cleanup', 'clean', 'refactor'], ['         * the buffer will be cleaned and the exception propagated to the caller.', '     * allocation, lifetime or cleanup, including in case of exceptions.', '     * allocation, lifetime or cleanup, including in case of exceptions.', '     * Any exception thrown by the Write will be propagated to the caller, after any buffer is cleaned up.', '     *  should be revisted first and in-JVM shutdown refactored with it.'])\n",
            "k: 5b82447098ad634900f8892297ef82083eadb954, v: (['TODO', 'TODO', 'TODO', 'TODO'], ['        // TODO rename', '                // TODO (future): support RateLimiter', '        // TODO (now): this is only used for one dtest, and can cause infinite loops with Simulator in e.g. AbstractCommitLogSegmentManager (failing its first assert, invoking the handler, throwing this exception, restarting)', '// TODO: maybe just keep with Simulator?'])\n",
            "k: fe9cff663b48fecdb964caaded2004e83a0c89f4, v: (['TODO'], ['    // TODO: remove this after forward-porting Paxos, before final commit'])\n",
            "k: fc27042f61a6d78ec998a0186a5e97def90fd50a, v: (['clean'], [\"                // without that catch, undispatched HintsDescriptor won't be added back to the store and cleaned\"])\n",
            "k: 5fdadb25f95099b8945d9d9ee11d3e380d3867f4, v: (['clean', 'clean', 'clean', 'clean', 'clean', 'clean'], ['        //clean up config change', '        //clean up keyspaces', '        //clean up config change', '        //clean up keyspaces', '        // clean-up', '        // clean-up'])\n",
            "k: b2ccd0f3f588a34cd68222bdacd1914478914ac9, v: (['fix'], ['        // use a fixed timestamp base for all mutation timestamps'])\n",
            "k: 8e225c55c49493f00fc9bc0b5809ab026d60c767, v: (['clean', 'clean'], [' * v4+ protocol did not clean up client warnings, which caused leaking the state (CASSANDRA-17054)', '     * responsible for cleaning up any global or thread-local state. (ex. tracing, client warnings, etc.).'])\n",
            "k: b84ec51b4c73d7b9b58ea8a1708ae2f330972970, v: (['clean', 'cleanup', 'TODO'], [' * Refactor normal/preview/IR repair to standardize repair cleanup and error handling of failed RepairJobs (CASSANDRA-17069)', ' * Refactor normal/preview/IR repair to standardize repair cleanup and error handling of failed RepairJobs (CASSANDRA-17069)', '            // TODO: suboptimal package interdependency - move FutureTask etc here?'])\n",
            "k: 44ace88585f2aefc322465ed6b6f6ad5bfd5bb34, v: (['fix'], ['     * backported partially from trunk(CASSANDRA-15234) to support a bug fix/improvement in Cassadra 4.0'])\n",
            "k: b6916017ca4d7bb2f46355ae28fb7cd40d6eafe8, v: (['fix'], ['                    // amount of re-submit will fix this (because the node on which the commit has expired will have a'])\n",
            "k: eae581a5f07c340594f6af47bb558693ef363611, v: (['TODO', 'TODO'], [' * TODO: Support @Nemesis on methods, to insert nemesis points either before or after invocations of the method', ' * TODO: support package level, and apply to all nested classes'])\n",
            "k: 209c35aa62855e2834e629e8ecb38ebb329aa6ce, v: (['TODO', 'TODO', 'TODO', 'clean', 'cleanup', 'TODO', 'TODO', 'clean', 'cleanup', 'TODO', 'TODO', 'TODO', 'TODO', 'clean', 'cleanup', 'TODO', 'clean', 'cleanup', 'TODO', 'TODO', 'clean', 'cleanup', 'TODO', 'TODO', 'TODO', 'TODO', 'TODO', 'clean', 'cleanup', 'TODO', 'TODO', 'TODO', 'TODO', 'TODO', 'TODO', 'TODO', 'TODO', 'TODO', 'clean', 'cleanup', 'TODO', 'fix', 'TODO', 'clean', 'cleanup', 'TODO', 'TODO', 'TODO', 'TODO', 'TODO', 'clean', 'cleanup', 'TODO', 'clean', 'cleanup', 'TODO'], ['// TODO (completeness): confirm that those classes we weave monitor-access for only extend other classes we also weave monitor access for', '// TODO (completeness): confirm that those classes we weave monitor access for only take monitors on types we also weave monitor access for (and vice versa)', '    // TODO (cleanup): use annotations', '    // TODO (cleanup): use annotations', '    // TODO (cleanup): use annotations', '// TODO (config): support logging only for packages/classes matching a pattern', '    // TODO (cleanup): this _should_ be possible to determine purely from the method signature', '    // TODO (cleanup): this _should_ be possible to determine purely from the method signature', '    // TODO (cleanup): this _should_ be possible to determine purely from the method signature', ' * TODO (config): permit Nemesis on a class as well as a field, so as to mark all (at least volatile or atomic) members', '                // TODO (broader correctness): in some cases we want the original type, and others the new type', '            // TODO (broader correctness): in some cases we want the original type, and others the new type', '            // TODO (broader correctness): this is incorrect, but will do for ConcurrentHashMap (no general guarantee of same constructors)', '     * Invoke within a try/catch block, invoking the provided setup/cleanup instructions.', '     * Invoke within a try/catch block, invoking the provided setup/cleanup instructions.', '        // TODO (feature): support per node scheduler delay to simulate struggling nodes', '     * This is only run if the simulation was successful, so no cleanup should be performed here unless optional.', '     * This is only run if the simulation was successful, so no cleanup should be performed here unless optional.', ' * TODO (feature): support total stalls on specific nodes', '    // TODO (cleanup): we can do better than this, probably most straightforwardly by ensuring daemon actions', '    // TODO (cleanup): we can do better than this, probably most straightforwardly by ensuring daemon actions', '    // TODO (cleanup): we can do better than this, probably most straightforwardly by ensuring daemon actions', '            // TODO (feature): detection of which action is blocking progress, and logging of its stack trace only', '            // TODO (feature): split unevenly', '// TODO (feature): move logging to a depth parameter', '// TODO (feature): log only deltas for schema/cluster data', '        // TODO (cleanup): disable unnecessary things like compaction logger threads etc', '        // TODO (cleanup): disable unnecessary things like compaction logger threads etc', '        // TODO (cleanup): disable unnecessary things like compaction logger threads etc', '        // TODO (feature): simulate GC pauses', '        // TODO (feature): TDP vs UDP simulation (right now we have no head of line blocking so we deliver in a UDP fashion which is not how the cluster operates)', '// TODO (feature): add Gossip failures (up to some acceptable number)', '// TODO (feature): add node down/up (need to coordinate bootstrap/repair execution around this)', '// TODO (feature): add node stop/start (need to coordinate normal operation execution around this)', '// TODO (feature): permit multiple topology actions in parallel, e.g. REPLACE and CHANGE_RF', '// TODO (feature): support nodes rejoining cluster so we can leave running indefinitely', '            // TODO (feature): introduce some time period between cluster actions', '            // TODO: cleanup should clear paxos state tables', '            // TODO: cleanup should clear paxos state tables', '            // TODO: cleanup should clear paxos state tables', '        // TODO (safety): confirm repair does not include this node', \"                // verify it's a strict prefix\", '                        // TODO (cleanup): make captureSites and interceptedBy methods of InterceptedWait?', '                        // TODO (cleanup): make captureSites and interceptedBy methods of InterceptedWait?', '                        // TODO (cleanup): make captureSites and interceptedBy methods of InterceptedWait?', '            // TODO (feature): hold a stack of threads already paused by the nemesis, and, if one of the threads', '    // TODO (feature): integrate LockSupport waits into this deadlock check', '// TODO (feature): link with SimulateTime, and otherwise improve', '    // TODO (feature): should we produce more than two simultaneous partitions?', '// TODO (cleanup): when we encounter an exception and unwind the simulation, we should restore normal time to go with normal waits etc.', '// TODO (cleanup): when we encounter an exception and unwind the simulation, we should restore normal time to go with normal waits etc.', '// TODO (cleanup): when we encounter an exception and unwind the simulation, we should restore normal time to go with normal waits etc.', '        // TODO (cleanup): signal remaining waiters for cleaner shutdown?', '        // TODO (cleanup): signal remaining waiters for cleaner shutdown?', '        // TODO (cleanup): signal remaining waiters for cleaner shutdown?', '            // TODO: support a uniform per node variant?'])\n",
            "k: 8e28dc0ebac3d80db43acfe76cfb45c0cb17a5c8, v: (['clean', 'clean'], ['            // If we successfully created our sstable, we can rely on its InstanceTidier to clean things up for us', '            // If we successfully created our sstable, we can rely on its InstanceTidier to clean things up for us'])\n",
            "k: 7871a2854217acc89d2f885619243a442cf68e22, v: (['fix'], [' * {@code <whatIsGuardedEnabled}. Other type of guardrails can use appropriate suffixes but should start with'])\n",
            "k: 1911a887e8316d343c9bfe3aca3f9d143e9f4a61, v: (['clean', 'cleanup'], ['        // by orders of magnitude. So we cache the sstables once and rely on cleanupAfterDeserialize to cleanup any', '        // by orders of magnitude. So we cache the sstables once and rely on cleanupAfterDeserialize to cleanup any'])\n",
            "k: aa82e3e4277397dbf630c7b805c5aaca22d660ad, v: (['clean'], [' * Fix disk failure triggered when enabling FQL on an unclean directory (CASSANDRA-17136)'])\n",
            "k: e99a8da161ed599c1a22a853c9c7f9caf6c1eb79, v: (['clean'], [' * Fix disk failure triggered when enabling FQL on an unclean directory (CASSANDRA-17136)'])\n"
          ]
        }
      ]
    },
    {
      "cell_type": "markdown",
      "source": [
        "# 5. Analisa os issues do Jira"
      ],
      "metadata": {
        "id": "Lh5UFJKus6HC"
      }
    },
    {
      "cell_type": "markdown",
      "source": [
        "## 5.1 Configura a instância, projeto e intervalo de datas"
      ],
      "metadata": {
        "id": "hqknjfqes90o"
      }
    },
    {
      "cell_type": "code",
      "source": [
        "# Initialize the Jira connection\n",
        "print('Initialize the Jira connection')\n",
        "jira = JIRA(JIRA_SERVER, basic_auth=(username, password))\n",
        "\n",
        "# Create a JiraUtils instance\n",
        "print('Create a JiraUtils instance')\n",
        "jira_utils = JiraUtils('CASSANDRA', jira)\n",
        "\n",
        "# Define date intervals\n",
        "print('Define date intervals')\n",
        "date1 = (2023, 1, 1)\n",
        "date2 = (2023, 9, 1)\n",
        "distance = 120"
      ],
      "metadata": {
        "colab": {
          "base_uri": "https://localhost:8080/"
        },
        "id": "2-79eijynnYl",
        "outputId": "0c6fece9-4257-4d6b-fbf5-360563989365"
      },
      "execution_count": 37,
      "outputs": [
        {
          "output_type": "stream",
          "name": "stdout",
          "text": [
            "Initialize the Jira connection\n",
            "Create a JiraUtils instance\n",
            "Define date intervals\n"
          ]
        }
      ]
    },
    {
      "cell_type": "markdown",
      "source": [
        "## 5.2 Recupera todos os issues da configuração"
      ],
      "metadata": {
        "id": "Kv7dJ49ytGSr"
      }
    },
    {
      "cell_type": "code",
      "source": [
        "# Fetch issues using date intervals\n",
        "print('Fetch issues using date intervals')\n",
        "block_of_issues = jira_utils.get_list_of_block_issues_by_dates(date1, date2, distance)"
      ],
      "metadata": {
        "colab": {
          "base_uri": "https://localhost:8080/"
        },
        "id": "pxepGnGcn9OS",
        "outputId": "96878da4-d83e-4471-9b6f-fa4c249dfb56"
      },
      "execution_count": 38,
      "outputs": [
        {
          "output_type": "stream",
          "name": "stdout",
          "text": [
            "Fetch issues using date intervals\n",
            "Aguarde...\n"
          ]
        },
        {
          "output_type": "stream",
          "name": "stderr",
          "text": [
            "Progress Message Analysis:  33%|███▎      | 1/3 [00:04<00:09,  4.64s/it]"
          ]
        },
        {
          "output_type": "stream",
          "name": "stdout",
          "text": [
            "Range: project=CASSANDRA and created>=\"2023/01/01\" and created<=\"2023/04/30\", qtd issues: 360\n"
          ]
        },
        {
          "output_type": "stream",
          "name": "stderr",
          "text": [
            "Progress Message Analysis:  67%|██████▋   | 2/3 [00:08<00:04,  4.26s/it]"
          ]
        },
        {
          "output_type": "stream",
          "name": "stdout",
          "text": [
            "Range: project=CASSANDRA and created>=\"2023/05/01\" and created<=\"2023/08/28\", qtd issues: 309\n"
          ]
        },
        {
          "output_type": "stream",
          "name": "stderr",
          "text": [
            "Progress Message Analysis: 100%|██████████| 3/3 [00:10<00:00,  3.37s/it]"
          ]
        },
        {
          "output_type": "stream",
          "name": "stdout",
          "text": [
            "Range: project=CASSANDRA and created>=\"2023/08/29\" and created<=\"2023/12/26\", qtd issues: 96\n",
            "2023-10-01 19:05:49.522615\n",
            "Tempo da consulta: 0:00:10.121579\n"
          ]
        },
        {
          "output_type": "stream",
          "name": "stderr",
          "text": [
            "\n"
          ]
        }
      ]
    },
    {
      "cell_type": "code",
      "source": [
        "# Concatenate the block of issues into a single list\n",
        "print('Concatenate the block of issues into a single list')\n",
        "all_issues = jira_utils.concatenate_block_of_issues(block_of_issues)"
      ],
      "metadata": {
        "colab": {
          "base_uri": "https://localhost:8080/"
        },
        "id": "YVq-slncn_Kz",
        "outputId": "a21de40a-cb3b-4a6c-dcbb-31a060e58496"
      },
      "execution_count": 39,
      "outputs": [
        {
          "output_type": "stream",
          "name": "stdout",
          "text": [
            "Concatenate the block of issues into a single list\n",
            "Total de issues recuperados: 765\n"
          ]
        }
      ]
    },
    {
      "cell_type": "markdown",
      "source": [
        "# 5.3 Filtra os issues de SATD"
      ],
      "metadata": {
        "id": "-f3NxVlgtdij"
      }
    },
    {
      "cell_type": "code",
      "source": [
        "# Create an instance of JiraIssues to manage SATD issues\n",
        "satd_issues = JiraIssues('CASSANDRA', [])"
      ],
      "metadata": {
        "id": "UCEKx1egokXj"
      },
      "execution_count": 40,
      "outputs": []
    },
    {
      "cell_type": "code",
      "source": [
        "# Iterate through the fetched issues\n",
        "for issue in all_issues:\n",
        "    issue_key = issue.key\n",
        "    issue_summary = issue.fields.summary\n",
        "    issue_description = issue.fields.description\n",
        "    issue_comments = [comment.body for comment in issue.fields.comment.comments]\n",
        "\n",
        "    # Check for SATD keywords in the issue's summary, description, and comments\n",
        "    if issue_summary is None:\n",
        "      issue_summary = \"\"\n",
        "    if issue_description is None:\n",
        "      issue_description = \"\"\n",
        "    if issue_comments is None:\n",
        "      issue_comments = \"\"\n",
        "    is_satd = any(keyword in (issue_summary + issue_description + ' '.join(issue_comments)) for keyword in satd_keywords)\n",
        "\n",
        "    if is_satd:\n",
        "        issue_type = issue.fields.issuetype.name\n",
        "        issue_status = issue.fields.status.name\n",
        "        issue_priority = issue.fields.priority.name\n",
        "\n",
        "        # Create a JiraIssue instance for the SATD issue\n",
        "        satd_issue = JiraIssue(issue_key, issue_summary, issue_type, issue_status, issue_priority, issue_description, issue_comments)\n",
        "\n",
        "        # Add the SATD issue to the list of SATD issues\n",
        "        satd_issues.add_issue(satd_issue)"
      ],
      "metadata": {
        "id": "Tl6bunF-ozEF"
      },
      "execution_count": 42,
      "outputs": []
    },
    {
      "cell_type": "code",
      "source": [
        "for each in satd_issues.get_issues():\n",
        "  print(each)"
      ],
      "metadata": {
        "colab": {
          "base_uri": "https://localhost:8080/"
        },
        "id": "M0626o_mqMKI",
        "outputId": "55889c3c-ed4f-4d1e-d09d-73546a41a083"
      },
      "execution_count": 45,
      "outputs": [
        {
          "output_type": "stream",
          "name": "stdout",
          "text": [
            "Key: CASSANDRA-18487, Summary: MappedByteBufferIndexInputProvider can better throw UndeclaredThrowableException, Type: Bug, Status: Resolved\n",
            "Key: CASSANDRA-18486, Summary: LeveledCompactionStrategy does not check its constructor, Type: Bug, Status: Resolved\n",
            "Key: CASSANDRA-18485, Summary: CEP-15: (C*) Enhance in-memory FileSystem to work with mmap and support tests to add custom logic, Type: Improvement, Status: Resolved\n",
            "Key: CASSANDRA-18484, Summary: FunctionCall can throw more specific exceptions, Type: Bug, Status: Open\n",
            "Key: CASSANDRA-18482, Summary: Test Failure: HintsDisabledTest.testHintedHandoffDisabled, Type: Improvement, Status: Resolved\n",
            "Key: CASSANDRA-18487, Summary: MappedByteBufferIndexInputProvider can better throw UndeclaredThrowableException, Type: Bug, Status: Resolved\n",
            "Key: CASSANDRA-18486, Summary: LeveledCompactionStrategy does not check its constructor, Type: Bug, Status: Resolved\n",
            "Key: CASSANDRA-18485, Summary: CEP-15: (C*) Enhance in-memory FileSystem to work with mmap and support tests to add custom logic, Type: Improvement, Status: Resolved\n",
            "Key: CASSANDRA-18484, Summary: FunctionCall can throw more specific exceptions, Type: Bug, Status: Open\n",
            "Key: CASSANDRA-18482, Summary: Test Failure: HintsDisabledTest.testHintedHandoffDisabled, Type: Improvement, Status: Resolved\n",
            "Key: CASSANDRA-18479, Summary: Add basic text tokenisation and analysis, Type: Improvement, Status: Resolved\n",
            "Key: CASSANDRA-18476, Summary: NativeTransportEncryptionOptionsTest fails with ant testsome, passes in intellij, Type: Bug, Status: Resolved\n",
            "Key: CASSANDRA-18474, Summary: Incremental repairs fail on mixed IPv4/v6 addresses serializing SyncRequest, Type: Improvement, Status: Resolved\n",
            "Key: CASSANDRA-18472, Summary: Docker images can no longer be built due to virtualenv from pip, Type: Bug, Status: Resolved\n",
            "Key: CASSANDRA-18471, Summary: CEP-15 Accord: NotWitnessed commands can receive an invalidate promise but would return Zero instead, Type: Bug, Status: Resolved\n",
            "Key: CASSANDRA-18467, Summary: Update generate-idea-files for J17, Type: Task, Status: Resolved\n",
            "Key: CASSANDRA-18466, Summary: Paxos only repair is treated as an incremental repair, Type: Bug, Status: Resolved\n",
            "Key: CASSANDRA-18464, Summary: Enable Direct I/O For CommitLog Files, Type: New Feature, Status: Review In Progress\n",
            "Key: CASSANDRA-18455, Summary: Test failure: test_putget – dtest.putget_test.TestPutGet, Type: Bug, Status: Resolved\n",
            "Key: CASSANDRA-18453, Summary: Use WithProperties to ensure that system properties are handled, Type: Task, Status: Resolved\n",
            "Key: CASSANDRA-18449, Summary: Integer(int), Long(long), Float(double) were deprecated in JDK9, Type: Improvement, Status: Resolved\n",
            "Key: CASSANDRA-18448, Summary: Missing \"SSTable Count\" metric  when using nodetool with \"--format\" option, Type: Bug, Status: Resolved\n",
            "Key: CASSANDRA-18443, Summary: Deadlock updating sstable metadata if disk boundaries need reloading, Type: Improvement, Status: Resolved\n",
            "Key: CASSANDRA-18441, Summary: Improvements to SSTable format configuration, Type: Improvement, Status: Resolved\n",
            "Key: CASSANDRA-18439, Summary: Revert some accesses to internals after CASSANDRA-18329 lands, Type: Task, Status: Resolved\n",
            "Key: CASSANDRA-18438, Summary: Refactor cloud snitches to get rid of duplicate code, Type: Improvement, Status: Resolved\n",
            "Key: CASSANDRA-18436, Summary: Unit tests in org.apache.cassandra.cql3.EmptyValuesTest class occasionally failing with JDK17, Type: Bug, Status: Resolved\n",
            "Key: CASSANDRA-18431, Summary: Cassandra doesn't start on JDK17, Type: Bug, Status: Resolved\n",
            "Key: CASSANDRA-18430, Summary: When decommissioning should set Severity to limit traffic, Type: Improvement, Status: Resolved\n",
            "Key: CASSANDRA-18428, Summary: Implement/override equals and hashCode methods in the ServerEncryptionOptions class, Type: Improvement, Status: Resolved\n",
            "Key: CASSANDRA-18426, Summary: Test failure: pdtest: dtest-upgrade.upgrade_tests.cql_tests.TestCQLNodes2RF1_Upgrade_current_2_1_x_To_indev_3_11_x.test_clustering_order_and_functions, Type: Bug, Status: Open\n",
            "Key: CASSANDRA-18425, Summary: Test failure: utest: org.apache.cassandra.db.RepairedDataTombstonesTest.readTestPartitionTombstones-.jdk11, Type: Bug, Status: Resolved\n",
            "Key: CASSANDRA-18423, Summary: Test failure: org.apache.cassandra.io.sstable.indexsummary.IndexSummaryTest.testLargeIndexSummary, Type: Bug, Status: Resolved\n",
            "Key: CASSANDRA-18405, Summary: CEP-21 Various fixes to schema related in-jvm dtests, Type: Task, Status: Resolved\n",
            "Key: CASSANDRA-18401, Summary: Investigate preloading ccm repositories in the docker image, Type: Improvement, Status: Resolved\n",
            "Key: CASSANDRA-18400, Summary: Nodetool info should report on the new networking cache, Type: Improvement, Status: Resolved\n",
            "Key: CASSANDRA-18399, Summary: Add simple helper script for commiting a change to multiple branches, Type: Task, Status: Patch Available\n",
            "Key: CASSANDRA-18398, Summary: CEP-25: Trie-indexed SSTable format, Type: Improvement, Status: Resolved\n",
            "Key: CASSANDRA-18396, Summary: Dtests marked with @ported_to_in_jvm can be skipped since 4.1, Type: Improvement, Status: Resolved\n",
            "Key: CASSANDRA-18393, Summary: Flaky test: org.apache.cassandra.cql3.validation.operations.InsertUpdateIfConditionTest.testConditionalUpdate[1: clusterMinVersion=3.11]-compression.jdk1.8 on trunk, Type: Bug, Status: Resolved\n",
            "Key: CASSANDRA-18391, Summary: consistent timeout: dtest-upgrade.upgrade_tests.cql_tests.cls.test_cql3_non_compound_range_tombstones on trunk, Type: Bug, Status: Resolved\n",
            "Key: CASSANDRA-18389, Summary: jackson-core-2.13.2.jar vulnerability: CVE-2022-45688, Type: Bug, Status: Resolved\n",
            "Key: CASSANDRA-18388, Summary: Potential loop in RebufferingInputStream.read(), Type: Bug, Status: Triage Needed\n",
            "Key: CASSANDRA-18387, Summary: Fix build script for shaded jvm-dtest JAR, Type: Bug, Status: Review In Progress\n",
            "Key: CASSANDRA-18386, Summary: SelectStatement.asCQL fails with IndexOutOfBoundsException, Type: Bug, Status: In Progress\n",
            "Key: CASSANDRA-18378, Summary: CEP-15 (Accord) accord.messages.Defer rejects Recurrent retry of Commit, Type: Bug, Status: Resolved\n",
            "Key: CASSANDRA-18377, Summary: CEP-15 (Accord) AsyncOperation can not fail as it has already reached FINISHED, Type: Bug, Status: Resolved\n",
            "Key: CASSANDRA-18372, Summary: A link to the pull request can be attached to the JIRA issue as soon as the PR is raised, Type: Task, Status: Resolved\n",
            "Key: CASSANDRA-18370, Summary: BulkLoader tool initializes schema unnecessarily via streaming - 4.0, Type: Bug, Status: Resolved\n",
            "Key: CASSANDRA-18366, Summary: Test failure: org.apache.cassandra.distributed.test.FailingRepairTest - testFailingMessage[VALIDATION_REQ/parallel/true], Type: Bug, Status: Resolved\n",
            "Key: CASSANDRA-18364, Summary: CEP-15: (C*) Accord message processing should avoid being passed on to a Stage and run directly in the messageing handler, Type: Improvement, Status: Resolved\n",
            "Key: CASSANDRA-18361, Summary: Test Failure: secondary_indexes_test.py::TestSecondaryIndexes::test_failing_manual_rebuild_index, Type: Bug, Status: Review In Progress\n",
            "Key: CASSANDRA-18359, Summary: NullPointerException on SnapshotLoader.loadSnapshots, Type: Bug, Status: Resolved\n",
            "Key: CASSANDRA-18356, Summary: Cassandra Debian Repository is not available and will be redirected to landing.jfrog.com, Type: Task, Status: Resolved\n",
            "Key: CASSANDRA-18355, Summary: CEP-15: Transaction Result Serialization Efficiency, Type: Improvement, Status: In Progress\n",
            "Key: CASSANDRA-18353, Summary: Cqlsh command \"COPY … TO STDOUT\" fails with \"… object is not callable\", Type: Bug, Status: Resolved\n",
            "Key: CASSANDRA-18352, Summary: Add Option to Timebox write timestamps, Type: New Feature, Status: Resolved\n",
            "Key: CASSANDRA-18345, Summary: Enable streaming SAI components as part of repair, Type: Improvement, Status: Resolved\n",
            "Key: CASSANDRA-18343, Summary: JDK17 - fix nodetool_test.TestNodetool.test_sjk, Type: Bug, Status: Resolved\n",
            "Key: CASSANDRA-18339, Summary: Cassandra 3.11.2 windows remote share as data files directory , Type: Bug, Status: Open\n",
            "Key: CASSANDRA-18335, Summary: Push LocalSessions info logs to debug, Type: Improvement, Status: Open\n",
            "Key: CASSANDRA-18332, Summary: Backport CASSANDRA-17205 to 4.0 branch (strong ref leak), Type: Bug, Status: Resolved\n",
            "Key: CASSANDRA-18329, Summary: Upgrade jamm; fix eclipse problems, Type: Task, Status: Resolved\n",
            "Key: CASSANDRA-18328, Summary: Remove deprecated CQL functions dateof and unixtimestampof, Type: Task, Status: Resolved\n",
            "Key: CASSANDRA-18326, Summary: Debian package repository misconfiguration, Type: Bug, Status: Resolved\n",
            "Key: CASSANDRA-18325, Summary: Test failure: dtest.bootstrap_test.TestBootstrap.test_cleanup, Type: Bug, Status: Open\n",
            "Key: CASSANDRA-18323, Summary: Remove org.apache.cassandra.hadoop code, Type: Task, Status: Resolved\n",
            "Key: CASSANDRA-18322, Summary: Warn about unqualified prepared statement only if it is a select, update, delete, insert, Type: Bug, Status: Review In Progress\n",
            "Key: CASSANDRA-18320, Summary: Incompatible file system thrown while running Simulator, Type: Bug, Status: Resolved\n",
            "Key: CASSANDRA-18319, Summary: Cassandra in Kubernetes: IP switch decommission issue, Type: Bug, Status: Open\n",
            "Key: CASSANDRA-18317, Summary: Properly synchronize CQLSSTableWriter#build on the Schema.instance, Type: Bug, Status: Review In Progress\n",
            "Key: CASSANDRA-18314, Summary: Lift MessagingService.minimum_version to 40, Type: Task, Status: Resolved\n",
            "Key: CASSANDRA-18313, Summary: Remove legacy 3.x buffer pool metrics, Type: Task, Status: Resolved\n",
            "Key: CASSANDRA-18312, Summary: Drop support for sstable formats before `na`, Type: Task, Status: Triage Needed\n",
            "Key: CASSANDRA-18310, Summary: Cassandra start up with ERROR of sstable_formats, Type: Bug, Status: Resolved\n",
            "Key: CASSANDRA-18308, Summary: Fix broken sstableverify dtest, Type: Bug, Status: Resolved\n",
            "Key: CASSANDRA-18306, Summary: Post 4.x Clean up, Type: Epic, Status: Triage Needed\n",
            "Key: CASSANDRA-18305, Summary: Enhance nodetool compactionstats with existing MBean metrics, Type: Improvement, Status: Resolved\n",
            "Key: CASSANDRA-18304, Summary: hinted_handoff_enabled=false is not honored, Type: Bug, Status: Resolved\n",
            "Key: CASSANDRA-18302, Summary: Fix AIOOBE and improve validation messages for transaction statements, Type: Improvement, Status: Resolved\n",
            "Key: CASSANDRA-18298, Summary: Remove WaitingOnFreeMemtableSpace metric, Type: Task, Status: Resolved\n",
            "Key: CASSANDRA-18294, Summary: die disk failure policy will not kill jvm as documented, Type: Bug, Status: Resolved\n",
            "Key: CASSANDRA-18293, Summary: Remove JAVA8_HOME and JAVA11_HOME from circle configs, Type: Task, Status: Resolved\n",
            "Key: CASSANDRA-18292, Summary: Gossip stateMapOrdering does not have correct ordering when both EndpointState are in the bootstrapping set, Type: Bug, Status: Resolved\n",
            "Key: CASSANDRA-18291, Summary: Too early schema version change in system local table, Type: Bug, Status: Resolved\n",
            "Key: CASSANDRA-18290, Summary: Test Failure: SecondaryIndexTest.testUpdatesToMemtableData, Type: Bug, Status: Open\n",
            "Key: CASSANDRA-18289, Summary: Test Failure: sslnodetonode_test.TestNodeToNodeSSLEncryption.test_ssl_client_auth_required_fail, Type: Bug, Status: Resolved\n",
            "Key: CASSANDRA-18288, Summary: Test Failure: TopPartitionsTest.basicRegularTombstonesTest, Type: Bug, Status: Resolved\n",
            "Key: CASSANDRA-18287, Summary: Test Failure: InsertUpdateIfConditionTest.testMultiExistConditionOnSameRowClustering, Type: Bug, Status: Resolved\n",
            "Key: CASSANDRA-18286, Summary: Test Failure: TTLTest.testCapWarnExpirationOverflowPolicy negative deletion and expiry value, Type: Bug, Status: Open\n",
            "Key: CASSANDRA-18285, Summary: [CircleCI] Add JDK 11 Java and Python upgrade tests in trunk, Type: Task, Status: Resolved\n",
            "Key: CASSANDRA-18283, Summary: Enhance diagnostic nodetool tablestats output, Type: Improvement, Status: Resolved\n",
            "Key: CASSANDRA-18282, Summary: Exception message for RTBoundValidator, Type: Bug, Status: Open\n",
            "Key: CASSANDRA-18278, Summary: Add a tool to clean  redundant data for native secondary index , Type: Improvement, Status: Open\n",
            "Key: CASSANDRA-18277, Summary: Move the IntelliJ Idea code style and inspections configuration to the project's root .idea directory, Type: Task, Status: Open\n",
            "Key: CASSANDRA-18276, Summary: Paxos read throws TimeoutException instead of retrying when contending with writes when it could retry, Type: Bug, Status: Triage Needed\n",
            "Key: CASSANDRA-18270, Summary: ssl-factory demo in examples is broken, Type: Bug, Status: Resolved\n",
            "Key: CASSANDRA-18268, Summary: Add more logging around CompactionManager operations, Type: Improvement, Status: Resolved\n",
            "Key: CASSANDRA-18265, Summary: dtest.client_request_metrics_test.TestClientRequestMetrics.test_client_request_metrics , Type: Bug, Status: Resolved\n",
            "Key: CASSANDRA-18264, Summary: CustomClassLoader does not load jars rendering triggers from JARs broken, Type: Bug, Status: Resolved\n",
            "Key: CASSANDRA-18262, Summary: Switch checkstyle running only with JDK8 to be run with JDK11, Type: Task, Status: Resolved\n",
            "Key: CASSANDRA-18260, Summary: Add details to Error message: Not enough space for compaction , Type: Improvement, Status: Resolved\n",
            "Key: CASSANDRA-18258, Summary: Add test conf for JDK17, Type: Task, Status: Resolved\n",
            "Key: CASSANDRA-18255, Summary: Drop JDK8 Support, Type: Task, Status: Resolved\n",
            "Key: CASSANDRA-18254, Summary: sstabledump for secondary index sstable error, Type: Bug, Status: Open\n",
            "Key: CASSANDRA-18253, Summary: Test Failures: dtest repair_tests.repair_test.TestRepair.test_simple_sequential_repair , Type: Bug, Status: Resolved\n",
            "Key: CASSANDRA-18252, Summary: Remove Scripted UDFs from trunk to enable easier JDK17 testing on current trunk, Type: Task, Status: Resolved\n",
            "Key: CASSANDRA-18249, Summary: Docker image for releases, Type: Task, Status: Resolved\n",
            "Key: CASSANDRA-18248, Summary: Consider avoiding streams on query building, Type: Improvement, Status: Triage Needed\n",
            "Key: CASSANDRA-18247, Summary: Add CircleCI config files for J11+J17, Type: Task, Status: Resolved\n",
            "Key: CASSANDRA-18246, Summary: Test Failures: org.apache.cassandra.cql3.validation.operations.TTLTest.testCapNoWarnExpirationOverflowPolicy, Type: Bug, Status: Triage Needed\n",
            "Key: CASSANDRA-18245, Summary: Test Failures:  org.apache.cassandra.db.compaction.CompactionsTest.testDontPurgeAccidentally , Type: Bug, Status: Triage Needed\n",
            "Key: CASSANDRA-18244, Summary: Improve documentation about releases, Type: Task, Status: Resolved\n",
            "Key: CASSANDRA-18242, Summary: Split and order IDEA workspace template VM_PARAMETERS, Type: Improvement, Status: Resolved\n",
            "Key: CASSANDRA-18240, Summary: Using SELECT COUNT(*) FROM... LIMIT 1 in the returning section results in ClassCastException, Type: Bug, Status: Resolved\n",
            "Key: CASSANDRA-18239, Summary: Replace eclipse warnings based static code analysis with something better (CheckerFramework), Type: Task, Status: Review In Progress\n",
            "Key: CASSANDRA-18228, Summary: Reorganize Apache C* docs in trunk branch to match the IA, Type: New Feature, Status: Resolved\n",
            "Key: CASSANDRA-18225, Summary: CEP-15: (C*) Accord adds a accord.messages.Defer which isn't supported for persisting, causing the operation to fail, Type: Bug, Status: Resolved\n",
            "Key: CASSANDRA-18224, Summary: CEP-15 (C*) No commandsForKey in context for key PartitionKey, Type: Bug, Status: Resolved\n",
            "Key: CASSANDRA-18223, Summary: Byteman rule in stop_data_reads.btm cannot compile against accord.messages.ReplyContext, Type: Bug, Status: Resolved\n",
            "Key: CASSANDRA-18219, Summary: Warning message on aggregation queries doesn't specify table name or aggregate type, Type: Improvement, Status: Resolved\n",
            "Key: CASSANDRA-18217, Summary: Allow CQL queries on multiple indexes without ALLOW FILTERING, Type: Improvement, Status: Resolved\n",
            "Key: CASSANDRA-18215, Summary: Fix the output of FQL dump tool to properly separate entries, Type: Bug, Status: Resolved\n",
            "Key: CASSANDRA-18212, Summary: Reduce memory allocations of calls to ByteBufer.duplicate() made in org.apache.cassandra.transport.CBUtil#writeValue, Type: Improvement, Status: Resolved\n",
            "Key: CASSANDRA-18211, Summary:  NoSuchFileException when removing a snapshot, Type: Bug, Status: Resolved\n",
            "Key: CASSANDRA-18207, Summary: Nodetool documentation not working, Type: Bug, Status: Resolved\n",
            "Key: CASSANDRA-18204, Summary: CEP-15: (C*) Add git submodule for Accord, Type: Task, Status: Resolved\n",
            "Key: CASSANDRA-18202, Summary: MessagingService should be able deliver local messages (messages to self) without using a network interface., Type: Improvement, Status: Triage Needed\n",
            "Key: CASSANDRA-18200, Summary: Cassandra messaging to self changed behavior, Type: Bug, Status: Resolved\n",
            "Key: CASSANDRA-18198, Summary: \"AttributeError: module 'py' has no attribute 'io'\" reported in multiple tests, Type: Bug, Status: Resolved\n",
            "Key: CASSANDRA-18196, Summary: Initial Merge of Accord Feature Branch to Trunk, Type: Task, Status: In Progress\n",
            "Key: CASSANDRA-18194, Summary: PaxosPrepare may add instances to the Electorate that are not in gossip, Type: Bug, Status: Resolved\n",
            "Key: CASSANDRA-18192, Summary: Accord - refactor transaction state storage, Type: Improvement, Status: Resolved\n",
            "Key: CASSANDRA-18190, Summary: ECJ upgrade, Type: Task, Status: Resolved\n",
            "Key: CASSANDRA-18189, Summary: Test failure: cqlsh_tests.test_cqlsh_copy.TestCqlshCopy.test_bulk_round_trip_with_timeouts, Type: Bug, Status: Open\n",
            "Key: CASSANDRA-18184, Summary: 'Maximum memory usage reached' chunk cache log message doesn't specify which cache is exhausted, Type: Bug, Status: Resolved\n",
            "Key: CASSANDRA-18183, Summary: rat targets do not adhere to build.dir property, Type: Bug, Status: Resolved\n",
            "Key: CASSANDRA-18181, Summary: Fix tests post JDK-8210522 (rewrite reflection of \"modifiers\" field), Type: Bug, Status: Resolved\n",
            "Key: CASSANDRA-18180, Summary: bulkLoaderSuccessfullyStreamsOverSsl fails with ClassCastException on JDK17, Type: Bug, Status: Resolved\n",
            "Key: CASSANDRA-18179, Summary: Update build.xml for experimental JDK17 use, Type: Task, Status: Resolved\n",
            "Key: CASSANDRA-18178, Summary: BLOG - Summit 2023 Agenda Announced, Type: Task, Status: Resolved\n",
            "Key: CASSANDRA-18177, Summary: Support AbstractCompositeType with toJSONString method, Type: New Feature, Status: Open\n",
            "Key: CASSANDRA-18176, Summary: Merged SSTable files not reclaimed by OS, Type: Bug, Status: Resolved\n",
            "Key: CASSANDRA-18169, Summary: Warning at startup in 3.11.11 or above version of Cassandra, Type: Bug, Status: Resolved\n",
            "Key: CASSANDRA-18164, Summary: Test Failure: CASTest Message serializedSize(12) does not match what was written with serialize(out, 12) for verb PAXOS2_COMMIT_AND_PREPARE_RSP, Type: Bug, Status: Resolved\n",
            "Key: CASSANDRA-18155, Summary: Coordinator level metrics for read response and mutation row and column counts, Type: Improvement, Status: Resolved\n",
            "Key: CASSANDRA-18153, Summary: Memtable being flushed without hostId in version \"me\" and newer during CommitLogReplay, Type: Bug, Status: Resolved\n",
            "Key: CASSANDRA-18152, Summary: mockito-inline causes tests to fail beacause o.a.c.distributed.mock.nodetool.InternalNodeProbe spies on StorageServiceMBean, Type: Bug, Status: Resolved\n",
            "Key: CASSANDRA-18144, Summary: org.apache.cassandra.db.compaction.CompactionStrategyManagerBoundaryReloadTest.testReload fails when running with TrieMemtables, Type: Bug, Status: Resolved\n",
            "Key: CASSANDRA-18141, Summary: Cqlsh incorrectly formats duration, Type: Bug, Status: Resolved\n",
            "Key: CASSANDRA-18137, Summary: Repeatable ci-cassandra.a.o , Type: Epic, Status: Open\n",
            "Key: CASSANDRA-18136, Summary: Upgrade maven-shade-plugin to fix shaded dtest JAR build, Type: Bug, Status: Resolved\n",
            "Key: CASSANDRA-18134, Summary: Improve handling of min/max clustering in sstable, Type: Improvement, Status: Resolved\n",
            "Key: CASSANDRA-18133, Summary: In-tree build scripts, Type: Task, Status: Resolved\n",
            "Key: CASSANDRA-18131, Summary: LongBTreeTest times out after btree improvements from CASSANDRA-15510, Type: Bug, Status: Resolved\n",
            "Key: CASSANDRA-18795, Summary: Compaction purger doesn't handle seeing random slices of state correctly, Type: Bug, Status: Triage Needed\n",
            "Key: CASSANDRA-18793, Summary: Fix or remove nodetool compaction completion time estimate, Type: Bug, Status: Open\n",
            "Key: CASSANDRA-18792, Summary: Test failure: transient_replication_ring_test.py::TestTransientReplicationRing::test_move_forwards_between_and_cleanup, Type: Bug, Status: Resolved\n",
            "Key: CASSANDRA-18791, Summary: CEP-21 - Multiple TCM fixes for issues discovered by unit, integration and simulation testing, Type: Improvement, Status: Resolved\n",
            "Key: CASSANDRA-18790, Summary: Fix spelling errors in the documentation for DDM, Type: Bug, Status: Resolved\n",
            "Key: CASSANDRA-18789, Summary: Update commons-lang3 to 3.13.0, Type: Task, Status: Resolved\n",
            "Key: CASSANDRA-18788, Summary: BLOG - Town Hall Replay: Time Series Data Modeling for Massive Scale, Type: Task, Status: Resolved\n",
            "Key: CASSANDRA-18784, Summary: CEP-15: Accord - reduce command deps, Type: Improvement, Status: Patch Available\n",
            "Key: CASSANDRA-18781, Summary: Add the ability to disable bulk loading of SSTables on a node, Type: Improvement, Status: Resolved\n",
            "Key: CASSANDRA-18780, Summary: ConnectionBurnTest fails with NullPointerException, Type: Bug, Status: Patch Available\n",
            "Key: CASSANDRA-18778, Summary: Empty keystore_password no longer allowed on encryption_options, Type: Bug, Status: Resolved\n",
            "Key: CASSANDRA-18777, Summary: Revise unused project dependencies, Type: Task, Status: Triage Needed\n",
            "Key: CASSANDRA-18776, Summary: Restore accidentally deleted documentation for DDM, Type: Bug, Status: Resolved\n",
            "Key: CASSANDRA-18773, Summary: Compactions are slow, Type: Improvement, Status: Ready to Commit\n",
            "Key: CASSANDRA-18771, Summary: Cassandra 4.0.5 nodes fails to start when replacing dead node, Type: Bug, Status: Triage Needed\n",
            "Key: CASSANDRA-18767, Summary: tablestats should show speculative retries, Type: Bug, Status: Resolved\n",
            "Key: CASSANDRA-18763, Summary: BLOG - Town Hall Replay: Bad Partition Handling & Large Language Models, Type: Task, Status: Resolved\n",
            "Key: CASSANDRA-18760, Summary: Backport CASSANDRA-16905 to older branches, Type: Bug, Status: Resolved\n",
            "Key: CASSANDRA-18758, Summary: Detect token-ownership mismatch, Type: Improvement, Status: Triage Needed\n",
            "Key: CASSANDRA-18756, Summary: TimeWindowCompactionStrategy with unsafe_aggressive_sstable_expiration keeps overlaping SSTable references, Type: Bug, Status: Resolved\n",
            "Key: CASSANDRA-18752, Summary: Deal with commented assertion in UFTest#testSchemaChange, Type: Bug, Status: Resolved\n",
            "Key: CASSANDRA-18750, Summary: Make unit tests compatible with the tmp.dir property, Type: Improvement, Status: Resolved\n",
            "Key: CASSANDRA-18748, Summary: Transient disk failure could incur snapshot repair block forever, Type: Bug, Status: Open\n",
            "Key: CASSANDRA-18744, Summary: cassandra-stress in simplenative mode and prepared fails with exceptions, Type: Bug, Status: Open\n",
            "Key: CASSANDRA-18743, Summary: Remove dependency on archived project metrics-reporter-config, Type: Improvement, Status: Resolved\n",
            "Key: CASSANDRA-18742, Summary: Remove deprecated options in CompressionParams, Type: Task, Status: Resolved\n",
            "Key: CASSANDRA-18740, Summary: Fix compilation warning in RandomSchemaTest, Type: Bug, Status: Resolved\n",
            "Key: CASSANDRA-18739, Summary: UDF functions fail to load on rolling restart, Type: Bug, Status: Resolved\n",
            "Key: CASSANDRA-18738, Summary: Update the How to Commit page after CASSANDRA-18618, Type: Task, Status: Resolved\n",
            "Key: CASSANDRA-18737, Summary: Test failure: org.apache.cassandra.io.sstable.SSTableLoaderTest (testLoadingIncompleteSSTable-.jdk17), Type: Bug, Status: Resolved\n",
            "Key: CASSANDRA-18733, Summary: Waiting indefinitely on ReceivedMessage response in StreamSession#receive() can cause deadlock, Type: Bug, Status: Resolved\n",
            "Key: CASSANDRA-18728, Summary: [Transient Bug] Incorrect ByteBuffer representation of ColumnIdentifiers when 3.11.16 loading legacy data from 2.x, Type: Bug, Status: Open\n",
            "Key: CASSANDRA-18727, Summary: JMXUtil.getJmxConnector should retry connection attempts , Type: Improvement, Status: Resolved\n",
            "Key: CASSANDRA-18726, Summary: Simplify helptopics.py using associative array, Type: Task, Status: Resolved\n",
            "Key: CASSANDRA-18725, Summary: IsolatedJMX should not release all TCPEndpoints on instance shutdown, Type: Improvement, Status: Resolved\n",
            "Key: CASSANDRA-18722, Summary: Support Dynamic Port Allocation for in-jvm dtest framework, Type: Improvement, Status: Resolved\n",
            "Key: CASSANDRA-18720, Summary: BLOG - Town Hall Replay: Monitoring Apache Cassandra Without Implementation, Type: Task, Status: Resolved\n",
            "Key: CASSANDRA-18718, Summary: Fix gen-doc task, Type: Bug, Status: In Progress\n",
            "Key: CASSANDRA-18717, Summary: Fix errors or remove ant javadoc task, Type: Bug, Status: Changes Suggested\n",
            "Key: CASSANDRA-18715, Summary: Add support for vector search in SAI, Type: Improvement, Status: Patch Available\n",
            "Key: CASSANDRA-18713, Summary: Fix / align ConfigCompatabilityTest, Type: Task, Status: Resolved\n",
            "Key: CASSANDRA-18712, Summary: Update Chronicle bytes, Type: Task, Status: Open\n",
            "Key: CASSANDRA-18710, Summary: Test failure: org.apache.cassandra.io.DiskSpaceMetricsTest.testFlushSize-.jdk17 (from org.apache.cassandra.io.DiskSpaceMetricsTest-.jdk17), Type: Bug, Status: Open\n",
            "Key: CASSANDRA-18709, Summary: Test failure: dtest.jmx_test.TestJMX.test_compactionstats, Type: Bug, Status: Resolved\n",
            "Key: CASSANDRA-18708, Summary: Test failure: org.apache.cassandra.tools.StandaloneSplitterWithCQLTesterTest.testNoSnapshotOption-.jdk17, Type: Bug, Status: Resolved\n",
            "Key: CASSANDRA-18707, Summary: Test failure: junit.framework.TestSuite.org.apache.cassandra.distributed.test.CASMultiDCTest-.jdk11 , Type: Bug, Status: Review In Progress\n",
            "Key: CASSANDRA-18706, Summary: Test failure: org.apache.cassandra.cql3.ViewTest.testIgnoreUpdate-compression.jdk11 (from org.apache.cassandra.cql3.ViewTest-compression.jdk11), Type: Bug, Status: Resolved\n",
            "Key: CASSANDRA-18705, Summary: Create release branch cassandra-5.0, Type: Task, Status: Resolved\n",
            "Key: CASSANDRA-18704, Summary: Test Failure: HandshakeTest.testOutboundConnectionfFallbackDuringUpgrades ClassCastException: Established ->  Disconnected, Type: Bug, Status: Resolved\n",
            "Key: CASSANDRA-18703, Summary: Test failure: SSTablesSystemViewTest#testVirtualTableThroughIndexLifeCycle, Type: Bug, Status: Resolved\n",
            "Key: CASSANDRA-18697, Summary: Skip ColumnFamilyStore#topPartitions initialization when client or tool mode, Type: Bug, Status: Resolved\n",
            "Key: CASSANDRA-18696, Summary: Update JMH, Type: Task, Status: Resolved\n",
            "Key: CASSANDRA-18690, Summary: Fix the way we produce a DTest jar, Type: Bug, Status: Resolved\n",
            "Key: CASSANDRA-18688, Summary: Limit Java runtime in 5.0 to JDK 11 and 17 in scripts; add a flag to opt out of that, Type: Task, Status: Review In Progress\n",
            "Key: CASSANDRA-18686, Summary: Test failure: test_move_backwards_and_cleanup, Type: Bug, Status: Resolved\n",
            "Key: CASSANDRA-18684, Summary: [Analytics] Minor Refactoring to Improve Code Reusability, Type: Improvement, Status: Resolved\n",
            "Key: CASSANDRA-18682, Summary: Create TLA+ spec of Accord, Type: Task, Status: In Progress\n",
            "Key: CASSANDRA-18681, Summary: Internode legacy SSL storage port certificate is not hot reloaded on update, Type: Bug, Status: Resolved\n",
            "Key: CASSANDRA-18679, Summary: Attempted NTS creation logs even on failure, Type: Bug, Status: Resolved\n",
            "Key: CASSANDRA-18676, Summary: CorruptedSSTablesCompactionsTest is flaky, Type: Bug, Status: Resolved\n",
            "Key: CASSANDRA-18675, Summary: (Accord): C* stores keyspace in Range which will cause ranges to be removed from Accord when DROP KEYSPACE is performed, Type: Bug, Status: Open\n",
            "Key: CASSANDRA-18673, Summary: Reduce size of per-SSTable index components, Type: Improvement, Status: Resolved\n",
            "Key: CASSANDRA-18672, Summary: Bump snakeyaml from 1.26 to 2.0, Type: New Feature, Status: Resolved\n",
            "Key: CASSANDRA-18670, Summary: Importer should build SSTable indexes successfully before making new SSTables readable, Type: Bug, Status: Resolved\n",
            "Key: CASSANDRA-18665, Summary: Update jenkins groovy dsl to use in-tree scripts, Type: Task, Status: In Progress\n",
            "Key: CASSANDRA-18660, Summary: transient_replication_ring_test.py::TestTransientReplicationRing::test_bootstrap_and_cleanup, Type: Bug, Status: Resolved\n",
            "Key: CASSANDRA-18658, Summary: Microbench tests fail on JDK11, Type: Bug, Status: Resolved\n",
            "Key: CASSANDRA-18656, Summary: Secondary indexes either violate consistency or become unavailable when post-streaming index builds fail, Type: Bug, Status: Open\n",
            "Key: CASSANDRA-18655, Summary: Unfinalise AbstractVirtualTable.select(..) for downstream patches, Type: Improvement, Status: Patch Available\n",
            "Key: CASSANDRA-18654, Summary: Make publishing to https://pypi.org/project/cqlsh/ part of Cassandra core, Type: Improvement, Status: Triage Needed\n",
            "Key: CASSANDRA-18652, Summary: Improve vector value validation errors, Type: Improvement, Status: Resolved\n",
            "Key: CASSANDRA-18651, Summary: When starting up after a failed repair was detected Cassandra should clean up automatically, Type: Improvement, Status: Triage Needed\n",
            "Key: CASSANDRA-18650, Summary: Upgrade owasp to 8.3.1, Type: Bug, Status: Resolved\n",
            "Key: CASSANDRA-18648, Summary: Improved DeletionTime serialization, Type: Improvement, Status: Resolved\n",
            "Key: CASSANDRA-18647, Summary: CASTing a float to decimal adds wrong digits, Type: Bug, Status: Resolved\n",
            "Key: CASSANDRA-18645, Summary: Upgrade guava on trunk, Type: Task, Status: Resolved\n",
            "Key: CASSANDRA-18642, Summary: cqlsh on Cassandra 4.1.2 fails on Amazon Linux , Type: Bug, Status: Open\n",
            "Key: CASSANDRA-18639, Summary: Add duration to sstablemetadata utility, Type: Improvement, Status: Resolved\n",
            "Key: CASSANDRA-18636, Summary: AssertionError: Unknown keyspace after dropping a keyspace, Type: Bug, Status: Triage Needed\n",
            "Key: CASSANDRA-18629, Summary: BLOG - Clarify wording on 3.x EOL post, Type: Task, Status: Resolved\n",
            "Key: CASSANDRA-18627, Summary: Tidy up vestigial code left over after CASSANDRA-17931, Type: Bug, Status: In Progress\n",
            "Key: CASSANDRA-18626, Summary: compaction_tombstone_warning_threshold and compaction_large_partition_warning_threshold cause deprecation warnings, Type: Bug, Status: Resolved\n",
            "Key: CASSANDRA-18625, Summary: Testing required to test upgrade and downgrade completeness, Type: Improvement, Status: Triage Needed\n",
            "Key: CASSANDRA-18624, Summary: Make Corretto Crypto Provider the Default, Type: Improvement, Status: Resolved\n",
            "Key: CASSANDRA-18618, Summary: Update tasks configuration to run checks locally when requested, Type: Task, Status: Resolved\n",
            "Key: CASSANDRA-18617, Summary: Disable the deprecated keyspace/table thresholds and convert them to Guardrails, Type: Improvement, Status: Resolved\n",
            "Key: CASSANDRA-18616, Summary: Simulator Java 17 support, Type: Task, Status: Patch Available\n",
            "Key: CASSANDRA-18615, Summary: CREATE INDEX Modifications for Initial Release of SAI, Type: Improvement, Status: Resolved\n",
            "Key: CASSANDRA-18613, Summary: Add support for vectors on UDFs, Type: New Feature, Status: Resolved\n",
            "Key: CASSANDRA-18611, Summary: java-driver donation, Type: Task, Status: In Progress\n",
            "Key: CASSANDRA-18606, Summary: Fix cross-refs in trunk - incorrect syntax, no components, Type: Task, Status: Resolved\n",
            "Key: CASSANDRA-18603, Summary: Move checkstyle files into .build, Type: Task, Status: Resolved\n",
            "Key: CASSANDRA-18601, Summary: Repair vtable uses number of records rather than memory limits, which can cause more memory allocated than expected, Type: Improvement, Status: In Progress\n",
            "Key: CASSANDRA-18600, Summary: [Analytics] Add NOTICE.txt in Cassandra Analytics , Type: Task, Status: Resolved\n",
            "Key: CASSANDRA-18599, Summary: Cassandra Analytics - Upgrade to use JUnit 5, Type: Improvement, Status: Resolved\n",
            "Key: CASSANDRA-18596, Summary: Assertion error when describing mv as table, Type: Bug, Status: Resolved\n",
            "Key: CASSANDRA-18595, Summary: Dropped table causes node to get stuck in JOINING, Type: Improvement, Status: Triage Needed\n",
            "Key: CASSANDRA-18591, Summary: assertion failure when reading after writes and column drop are executed in parallel, Type: Bug, Status: Open\n",
            "Key: CASSANDRA-18590, Summary: Introduce IndexTermType to replace TypeUtils in SAI, Type: Improvement, Status: Triage Needed\n",
            "Key: CASSANDRA-18589, Summary: NPE during reads after complex column drop, Type: Bug, Status: Open\n",
            "Key: CASSANDRA-18588, Summary: Slow builds due to checkstyle, Type: Improvement, Status: Resolved\n",
            "Key: CASSANDRA-18587, Summary: Align all system property names used by the project to use the 'cassandra' prefix, Type: Task, Status: Triage Needed\n",
            "Key: CASSANDRA-18586, Summary: CQLSH formatting output is incorrect when querying the system properties virtual table, Type: Bug, Status: Triage Needed\n",
            "Key: CASSANDRA-18585, Summary: Alter Type does not validate changes like Create Type does, Type: Bug, Status: Resolved\n",
            "Key: CASSANDRA-18583, Summary: Fix shutting down IsolatedJmx , Type: Bug, Status: Resolved\n",
            "Key: CASSANDRA-18582, Summary: BulkLoader withCipherSuites option is ignored, Type: Bug, Status: Resolved\n",
            "Key: CASSANDRA-18579, Summary: No link to source packages, Type: Bug, Status: Resolved\n",
            "Key: CASSANDRA-18572, Summary: Instance.nodetoolResult should connect to JMX if there is such feature enabled in its config, Type: Improvement, Status: Patch Available\n",
            "Key: CASSANDRA-18565, Summary: Test pipeline does not always copy to nightlies, Type: Bug, Status: Open\n",
            "Key: CASSANDRA-18564, Summary: Test Failure: MixedModeAvailabilityV30AllOneTest.testAvailabilityCoordinatorUpgraded, Type: Bug, Status: Resolved\n",
            "Key: CASSANDRA-18563, Summary: Convert AccordStateCache cache from write-through to write-back, Type: Improvement, Status: Resolved\n",
            "Key: CASSANDRA-18562, Summary: guava vulnerability CVE-2023-2976, Type: Bug, Status: Resolved\n",
            "Key: CASSANDRA-18560, Summary: Incorrect IP used for gossip across DCs with prefer_local=true, Type: Bug, Status: Resolved\n",
            "Key: CASSANDRA-18559, Summary: Upgrade to 4.1.1 fails with NullPointerException, Type: Bug, Status: Open\n",
            "Key: CASSANDRA-18555, Summary: Expose decommission state to nodetool info, Type: Task, Status: Resolved\n",
            "Key: CASSANDRA-18550, Summary: Improve nodetool enable{audit,fullquery}log, CVE-2023-30601, Type: Improvement, Status: Resolved\n",
            "Key: CASSANDRA-18547, Summary: Refactor cqlsh On/Off switch implementation and make the output consistent, Type: Improvement, Status: Resolved\n",
            "Key: CASSANDRA-18546, Summary: Remove unnecessary shuffling of GossipDigests in Gossiper#makeRandomGossipDigest, Type: Improvement, Status: Resolved\n",
            "Key: CASSANDRA-18544, Summary: Make cassandra-stress able to read all credentials from a file, Type: Improvement, Status: Resolved\n",
            "Key: CASSANDRA-18543, Summary: Waiting for gossip to settle does not wait for live endpoints, Type: Bug, Status: Resolved\n",
            "Key: CASSANDRA-18541, Summary: AUTH requests use too much resources, Type: Bug, Status: Resolved\n",
            "Key: CASSANDRA-18540, Summary: negotiatedProtocolMustBeAcceptedProtocolTest tests fail with \"TLSv1.1 failed to negotiate\" on JDK17, Type: Bug, Status: Resolved\n",
            "Key: CASSANDRA-18539, Summary: Fix flaky dtest: transient_replication_test.TestTransientReplicationRepairStreamEntireSSTable, Type: Bug, Status: Open\n",
            "Key: CASSANDRA-18536, Summary: Enable encryption of primary indexes, Type: Improvement, Status: Triage Needed\n",
            "Key: CASSANDRA-18529, Summary: Remove legacy command line options from cassandra-stress, Type: Improvement, Status: Resolved\n",
            "Key: CASSANDRA-18521, Summary: Unify CQLTester#waitForIndex and SAITester#waitForIndexQueryable, Type: Improvement, Status: Resolved\n",
            "Key: CASSANDRA-18517, Summary: Make Cassandra more user-friendly (admin-friendly) by cleaning up logging, Type: Improvement, Status: Triage Needed\n",
            "Key: CASSANDRA-18515, Summary: Optimize Initial Concurrency Selection for Range Read Algorithm During SAI Queries, Type: Improvement, Status: Resolved\n",
            "Key: CASSANDRA-18512, Summary: nodetool describecluster command is not showing correct Down count.  , Type: Bug, Status: Resolved\n",
            "Key: CASSANDRA-18511, Summary: Add support for JMX in the in-jvm dtest framework, Type: Improvement, Status: Resolved\n",
            "Key: CASSANDRA-18508, Summary: Sensitive JMX SSL configuration options can be easily exposed, Type: Improvement, Status: Open\n",
            "Key: CASSANDRA-18507, Summary: Partial compaction can resurrect deleted data, Type: Bug, Status: Resolved\n",
            "Key: CASSANDRA-18506, Summary: Deduplicate the MixedModeAvailability upgrade jvm-dtests, Type: Task, Status: Resolved\n",
            "Key: CASSANDRA-18504, Summary: Added support for type VECTOR<type, dimension>, Type: Improvement, Status: Resolved\n",
            "Key: CASSANDRA-18503, Summary: CircleCI java distributed tests to run in Medium containers, Type: Task, Status: Resolved\n",
            "Key: CASSANDRA-18499, Summary: Test Failure: upgrade_through_versions_test.py::TestUpgrade::test_rolling_upgrade_with_internode_ssl, Type: Bug, Status: Resolved\n",
            "Key: CASSANDRA-18493, Summary: Add LIKE prefix/suffix support to SAI, Type: Improvement, Status: Triage Needed\n",
            "Key: CASSANDRA-18896, Summary: ClientRequestSize metrics should not treat CONTAINS restrictions as being equality-based, Type: Improvement, Status: Open\n",
            "Key: CASSANDRA-18893, Summary: Upgrade hdrhistogram, Type: Task, Status: Patch Available\n",
            "Key: CASSANDRA-18890, Summary: Test failure: org.apache.cassandra.repair.ConcurrentIrWithPreviewFuzzTest, Type: Bug, Status: In Progress\n",
            "Key: CASSANDRA-18889, Summary: DDM's mask_default function should support vectors, Type: Bug, Status: Patch Available\n",
            "Key: CASSANDRA-18887, Summary: CEP-21 - Implement missing features and various other fixes, Type: Improvement, Status: Open\n",
            "Key: CASSANDRA-18886, Summary: snappy-java-1.1.10.1 vulnerability: CVE-2023-43642, Type: Bug, Status: Resolved\n",
            "Key: CASSANDRA-18884, Summary: Test failure: org.apache.cassandra.db.compaction.LongCompactionsTest , Type: Bug, Status: Resolved\n",
            "Key: CASSANDRA-18881, Summary: Test failure: org.apache.cassandra.tools.nodetool.ForceCompactionTest.forceCompactMultipleRowsTombstoneTest-.jdk11 , Type: Bug, Status: Patch Available\n",
            "Key: CASSANDRA-18880, Summary: Test failure: dtest-novnode.transient_replication_test.TestTransientReplicationRepairStreamEntireSSTable.test_optimized_primary_range_repair_with_lcs, Type: Bug, Status: Resolved\n",
            "Key: CASSANDRA-18878, Summary: Upgrade snappy java library, Type: Task, Status: Resolved\n",
            "Key: CASSANDRA-18877, Summary: remove bytebuddy / byteman from production classpath and remove compress-lzf dependency from build deps, Type: Task, Status: In Progress\n",
            "Key: CASSANDRA-18875, Summary: Upgrade the snakeyaml library version, Type: Task, Status: Open\n",
            "Key: CASSANDRA-18873, Summary: Fix broken JMH benchmarks, Type: Bug, Status: Triage Needed\n",
            "Key: CASSANDRA-18871, Summary: JMH benchmark improvements, Type: Improvement, Status: Resolved\n",
            "Key: CASSANDRA-18866, Summary: Node sends multiple inflight echos, Type: Improvement, Status: Patch Available\n",
            "Key: CASSANDRA-18864, Summary: CIDR permission cache probably does not work, Type: Bug, Status: Resolved\n",
            "Key: CASSANDRA-18858, Summary: AssertionError: Unknown keyspace after dropping a keyspace combined with drain operation, Type: Bug, Status: Resolved\n",
            "Key: CASSANDRA-18856, Summary: Test failure: rebuild_test.TestRebuild.test_resumable_rebuild, Type: Bug, Status: Resolved\n",
            "Key: CASSANDRA-18854, Summary: Gossip never recovers from a single failed echo, Type: Bug, Status: Resolved\n",
            "Key: CASSANDRA-18849, Summary: Test failure: dtest.secondary_indexes_test.TestPreJoinCallback.test_resume, Type: Bug, Status: Open\n",
            "Key: CASSANDRA-18848, Summary: GCInspector \"Error accessing field of java.nio.Bits\" under java17, Type: Bug, Status: Resolved\n",
            "Key: CASSANDRA-18845, Summary: Waiting for gossip to settle on live endpoints, Type: Improvement, Status: Triage Needed\n",
            "Key: CASSANDRA-18844, Summary: Cassandra 5 Debian package only runs on OpenJDK, Type: Bug, Status: Resolved\n",
            "Key: CASSANDRA-18841, Summary: InstanceClassLoader leak in 5.0/trunk, Type: Bug, Status: Resolved\n",
            "Key: CASSANDRA-18840, Summary: Leakage of references to SSTable on unsuccessful operations, Type: Bug, Status: Resolved\n",
            "Key: CASSANDRA-18836, Summary: Replace CRC32 w/ CRC32C in IndexFileUtils.ChecksummingWriter, Type: Improvement, Status: Open\n",
            "Key: CASSANDRA-18832, Summary: Add 5.0-alpha1 to cassandra-dtest upgrade_manifest.py, Type: Task, Status: Resolved\n",
            "Key: CASSANDRA-18824, Summary: Backport CASSANDRA-16418: Cleanup behaviour during node decommission caused missing replica, Type: Bug, Status: Review In Progress\n",
            "Key: CASSANDRA-18823, Summary: Cleanup behaviour during node decommission caused missing replica, Type: Bug, Status: Resolved\n",
            "Key: CASSANDRA-18821, Summary: org.apache.cassandra.distributed.test.guardrails.GuardrailDiskUsageTest failed with Authentication error on host /127.0.0.1:9042: Provided username cassandra and/or password are incorrect, Type: Bug, Status: Resolved\n",
            "Key: CASSANDRA-18819, Summary: Re-organize ordering of configuration properties in cassandra.yaml, Type: Task, Status: Triage Needed\n",
            "Key: CASSANDRA-18817, Summary: RPM install does not work with jdk17, Type: Bug, Status: Resolved\n",
            "Key: CASSANDRA-18816, Summary: Add support for repair coordinator to retry messages that timeout, Type: Improvement, Status: Resolved\n",
            "Key: CASSANDRA-18815, Summary: Fix dtests: replace_address_test.TestReplaceAddress.test_restart_failed_replace and others, Type: Bug, Status: Resolved\n",
            "Key: CASSANDRA-18813, Summary: Simplify the bind marker and Term logic, Type: Improvement, Status: Review In Progress\n",
            "Key: CASSANDRA-18812, Summary: Investigate and fix CVE-2023-4586, Type: Improvement, Status: Resolved\n",
            "Key: CASSANDRA-18807, Summary: Missing license info and headers identified in 5.0-alpha1 candidate, Type: Bug, Status: Resolved\n",
            "Key: CASSANDRA-18805, Summary: Upgrade caffeine to 3.1.8, Type: Task, Status: Review In Progress\n",
            "Key: CASSANDRA-18804, Summary: (Accord): Bug fixes from CASSANDRA-18675 to better support adding keyspaces, Type: Bug, Status: Patch Available\n",
            "Key: CASSANDRA-18801, Summary: rename the java doc about FlushLargestColumnFamily to flushLargestMemtable, Type: Improvement, Status: Patch Available\n"
          ]
        }
      ]
    },
    {
      "cell_type": "code",
      "source": [],
      "metadata": {
        "id": "ITbZm0v7qOKi"
      },
      "execution_count": null,
      "outputs": []
    }
  ]
}