{
  "cells": [
    {
      "cell_type": "markdown",
      "metadata": {
        "colab_type": "text",
        "id": "view-in-github"
      },
      "source": [
        "<a href=\"https://colab.research.google.com/github/armandossrecife/piloto/blob/main/notebooks/temp/analyse30repoPOO.ipynb\" target=\"_parent\"><img src=\"https://colab.research.google.com/assets/colab-badge.svg\" alt=\"Open In Colab\"/></a>"
      ]
    },
    {
      "cell_type": "code",
      "execution_count": 14,
      "metadata": {
        "id": "sB8D2TDB7Qud"
      },
      "outputs": [],
      "source": [
        "!rm -rf repositorio*"
      ]
    },
    {
      "cell_type": "markdown",
      "metadata": {
        "id": "8-z0twZgZMaC"
      },
      "source": [
        "# Classes"
      ]
    },
    {
      "cell_type": "markdown",
      "metadata": {
        "id": "SWhkj2U5ZfUE"
      },
      "source": [
        "## Dependências"
      ]
    },
    {
      "cell_type": "code",
      "execution_count": 1,
      "metadata": {
        "colab": {
          "base_uri": "https://localhost:8080/"
        },
        "id": "OEVWDtnvZhOe",
        "outputId": "b752406d-2763-4170-e736-2ea8bd173320"
      },
      "outputs": [
        {
          "name": "stdout",
          "output_type": "stream",
          "text": [
            "Requirement already satisfied: gitpython in /home/codespace/.local/lib/python3.10/site-packages (3.1.30)\n",
            "Requirement already satisfied: gitdb<5,>=4.0.1 in /home/codespace/.local/lib/python3.10/site-packages (from gitpython) (4.0.10)\n",
            "Requirement already satisfied: smmap<6,>=3.0.1 in /home/codespace/.local/lib/python3.10/site-packages (from gitdb<5,>=4.0.1->gitpython) (5.0.0)\n",
            "\n",
            "\u001b[1m[\u001b[0m\u001b[34;49mnotice\u001b[0m\u001b[1;39;49m]\u001b[0m\u001b[39;49m A new release of pip is available: \u001b[0m\u001b[31;49m23.1.2\u001b[0m\u001b[39;49m -> \u001b[0m\u001b[32;49m23.2.1\u001b[0m\n",
            "\u001b[1m[\u001b[0m\u001b[34;49mnotice\u001b[0m\u001b[1;39;49m]\u001b[0m\u001b[39;49m To update, run: \u001b[0m\u001b[32;49mpython -m pip install --upgrade pip\u001b[0m\n"
          ]
        }
      ],
      "source": [
        "!pip3 install gitpython"
      ]
    },
    {
      "cell_type": "code",
      "execution_count": 3,
      "metadata": {
        "id": "_eK4PrgAZOuc"
      },
      "outputs": [],
      "source": [
        "import requests\n",
        "import pandas as pd\n",
        "import os\n",
        "import threading\n",
        "import datetime\n",
        "from git import Repo\n",
        "\n",
        "class GitHubRepoChecker:\n",
        "    def __init__(self, url):\n",
        "        self.url = url\n",
        "        self.df_repositorios = None\n",
        "        self.lista_urls_validas = []\n",
        "        self.lista_urls_invalidas = []\n",
        "\n",
        "    def check_url(self, url):\n",
        "        try:\n",
        "            response = requests.get(url)\n",
        "            if response.status_code == 200:\n",
        "                return True\n",
        "            else:\n",
        "                return False\n",
        "        except requests.exceptions.RequestException:\n",
        "            return False\n",
        "\n",
        "    def load_data(self):\n",
        "        self.df_repositorios = pd.read_csv(filepath_or_buffer=self.url, sep=';')\n",
        "\n",
        "    def validate_urls(self):\n",
        "        if self.df_repositorios is None:\n",
        "            raise ValueError(\"Os dados não foram carregados. Chame o método 'load_data()' primeiro.\")\n",
        "\n",
        "        lista_url_repositorios = self.df_repositorios['Git Repository'].tolist()\n",
        "\n",
        "        for url in lista_url_repositorios:\n",
        "            url_valida = self.check_url(url)\n",
        "            if url_valida:\n",
        "                self.lista_urls_validas.append(url)\n",
        "            else:\n",
        "                self.lista_urls_invalidas.append(url)\n",
        "\n",
        "    def get_invalid_urls(self):\n",
        "        return self.lista_urls_invalidas\n",
        "\n",
        "    def get_valid_urls(self):\n",
        "        return self.lista_urls_validas\n",
        "\n",
        "\n",
        "class RepoCloner:\n",
        "    def __init__(self, qtd_repositorios, lista_urls):\n",
        "        self.qtd_repositorios = qtd_repositorios\n",
        "        self.lista_urls = lista_urls\n",
        "        self.lista_threads = []\n",
        "        self.lista_tempo_inicio = []\n",
        "        self.lista_tempo_conclusao = []\n",
        "\n",
        "    def my_clone(self, git_url, repo_dir):\n",
        "        try:\n",
        "            Repo.clone_from(git_url, repo_dir)\n",
        "            tempo = datetime.datetime.now()\n",
        "            print(f'Clonagem do repo {git_url} concluída com sucesso! -> instante: {tempo}')\n",
        "            elemento = (repo_dir, tempo)\n",
        "            self.lista_tempo_conclusao.append(elemento)\n",
        "        except Exception as ex:\n",
        "            print(f\"Erro ao clonar o repo: {git_url} - {str(ex)}\")\n",
        "\n",
        "    def clona_repositorios(self):\n",
        "        for i in range(self.qtd_repositorios):\n",
        "            nome = 'repositorio'+str(i+1)\n",
        "            tdi = threading.Thread(target=self.my_clone, args=(self.lista_urls[i], nome))\n",
        "            tdi.name = 'Thread-'+str(i+1)\n",
        "            inicio_thread = datetime.datetime.now()\n",
        "            print(f\"Thread {i+1} iniciada em {inicio_thread} - clonando {nome}:{self.lista_urls[i]}...\")\n",
        "            self.lista_threads.append(tdi)\n",
        "            elemento = (nome, inicio_thread)\n",
        "            self.lista_tempo_inicio.append(elemento)\n",
        "            tdi.start()\n",
        "\n",
        "        for each in self.lista_threads:\n",
        "            each.join()\n",
        "\n",
        "    def mostra_tempo_clonagens(self):\n",
        "        for t1 in self.lista_tempo_inicio:\n",
        "            for t2 in self.lista_tempo_conclusao:\n",
        "                if t1[0] == t2[0]:\n",
        "                    print(f\"Tempo de download do {t1[0]} é: {t2[1]-t1[1]} s\")\n",
        "\n",
        "\n",
        "class RepositorioChecker:\n",
        "    def __init__(self, url_repositorios_src, url_complemento):\n",
        "        self.df_repositorios_src = pd.read_csv(url_repositorios_src)\n",
        "        self.df_complemento = pd.read_csv(url_complemento)\n",
        "        self.df_repositorios = None\n",
        "\n",
        "    def merge_dataframes(self):\n",
        "        self.df_complemento['nome'] = self.df_repositorios_src['projeto'].to_numpy()\n",
        "        self.df_complemento['source_java'] = self.df_repositorios_src['source'].to_numpy()\n",
        "        self.df_repositorios = self.df_complemento.copy()\n",
        "        self.df_repositorios['source_java'] = self.df_repositorios['source_java'].str.replace('.', '/')\n",
        "        self.df_repositorios = self.df_repositorios[['nome', 'repositorio', 'source_java', 'url']]\n",
        "        self.df_repositorios.to_csv('l4prepositoriossrc.csv', index=False)\n",
        "\n",
        "    def check_sub_path(self, sub_path, repositorio):\n",
        "        current_path = os.getcwd()\n",
        "        abs_sub_path = os.path.join(current_path, repositorio, sub_path)\n",
        "        print(f\"Analisa {sub_path} em {repositorio} - {os.path.exists(abs_sub_path)}\")\n",
        "        return os.path.exists(abs_sub_path)\n",
        "\n",
        "    def check_repositorios(self):\n",
        "        if self.df_repositorios is None:\n",
        "            raise ValueError(\"Os dados não foram carregados. Chame o método 'merge_dataframes()' primeiro.\")\n",
        "\n",
        "        lista_nomes_repositorio = self.df_repositorios['nome'].tolist()\n",
        "        lista_repositorios = self.df_repositorios['repositorio'].tolist()\n",
        "        lista_src = self.df_repositorios['source_java'].tolist()\n",
        "        lista_checa = []\n",
        "        lista_urls = self.df_repositorios['url'].to_list()\n",
        "\n",
        "        for i, repositorio in enumerate(lista_repositorios):\n",
        "            resultado = self.check_sub_path(sub_path=lista_src[i], repositorio=repositorio)\n",
        "            lista_checa.append(resultado)\n",
        "\n",
        "        dict_temp = {\n",
        "            'nome': lista_nomes_repositorio,\n",
        "            'repositorio': lista_repositorios,\n",
        "            'url': lista_urls,\n",
        "            'src': lista_src,\n",
        "            'checa': lista_checa\n",
        "        }\n",
        "\n",
        "        df_checa_repositorios = pd.DataFrame(dict_temp)\n",
        "        return df_checa_repositorios"
      ]
    },
    {
      "cell_type": "markdown",
      "metadata": {
        "id": "bHYEYE6uz4Z5"
      },
      "source": [
        "# 1. Carrega os dados dos repositórios"
      ]
    },
    {
      "cell_type": "code",
      "execution_count": 4,
      "metadata": {
        "colab": {
          "base_uri": "https://localhost:8080/"
        },
        "id": "CoCtwTaxSto4",
        "outputId": "1b68e671-802e-42fa-97f9-478201836ef3"
      },
      "outputs": [
        {
          "name": "stdout",
          "output_type": "stream",
          "text": [
            "URLs inválidas:\n",
            "URLs válidas:\n",
            "https://github.com/apache/cassandra.git\n",
            "https://github.com/apache/kafka.git\n",
            "https://github.com/spring-projects/spring-boot.git\n",
            "https://github.com/elastic/elasticsearch.git\n"
          ]
        }
      ],
      "source": [
        "# URLs dos repositórios\n",
        "URL = 'https://raw.githubusercontent.com/armandossrecife/teste/main/listaderepositoriosprincipais.csv'\n",
        "\n",
        "# Verifica a validade das URLs dos repositórios\n",
        "checker = GitHubRepoChecker(URL)\n",
        "checker.load_data()\n",
        "checker.validate_urls()\n",
        "\n",
        "invalid_urls = checker.get_invalid_urls()\n",
        "valid_urls = checker.get_valid_urls()\n",
        "\n",
        "print(f'URLs inválidas:')\n",
        "for url in invalid_urls:\n",
        "    print(url)\n",
        "\n",
        "print(f'URLs válidas:')\n",
        "for url in valid_urls:\n",
        "    print(url)"
      ]
    },
    {
      "cell_type": "markdown",
      "metadata": {
        "id": "OpP7tk9R0AgD"
      },
      "source": [
        "## Dados dos 4 repositórios principais"
      ]
    },
    {
      "cell_type": "code",
      "execution_count": 5,
      "metadata": {
        "colab": {
          "base_uri": "https://localhost:8080/",
          "height": 990
        },
        "id": "jRdVu_imzxnf",
        "outputId": "5ea2c417-2f63-411a-ac05-5748533729bd"
      },
      "outputs": [
        {
          "data": {
            "text/html": [
              "<div>\n",
              "<style scoped>\n",
              "    .dataframe tbody tr th:only-of-type {\n",
              "        vertical-align: middle;\n",
              "    }\n",
              "\n",
              "    .dataframe tbody tr th {\n",
              "        vertical-align: top;\n",
              "    }\n",
              "\n",
              "    .dataframe thead th {\n",
              "        text-align: right;\n",
              "    }\n",
              "</style>\n",
              "<table border=\"1\" class=\"dataframe\">\n",
              "  <thead>\n",
              "    <tr style=\"text-align: right;\">\n",
              "      <th></th>\n",
              "      <th>Category</th>\n",
              "      <th>Project</th>\n",
              "      <th>Git Repository</th>\n",
              "      <th>Description</th>\n",
              "    </tr>\n",
              "  </thead>\n",
              "  <tbody>\n",
              "    <tr>\n",
              "      <th>0</th>\n",
              "      <td>Data storage and management</td>\n",
              "      <td>cassandra</td>\n",
              "      <td>https://github.com/apache/cassandra.git</td>\n",
              "      <td>Distributed NoSQL database</td>\n",
              "    </tr>\n",
              "    <tr>\n",
              "      <th>1</th>\n",
              "      <td>Message broker</td>\n",
              "      <td>kafka</td>\n",
              "      <td>https://github.com/apache/kafka.git</td>\n",
              "      <td>Message broker</td>\n",
              "    </tr>\n",
              "    <tr>\n",
              "      <th>2</th>\n",
              "      <td>Web engines and web tools</td>\n",
              "      <td>spring-boot</td>\n",
              "      <td>https://github.com/spring-projects/spring-boot...</td>\n",
              "      <td>Spring-based project manager</td>\n",
              "    </tr>\n",
              "    <tr>\n",
              "      <th>3</th>\n",
              "      <td>Search engines</td>\n",
              "      <td>elasticsearch</td>\n",
              "      <td>https://github.com/elastic/elasticsearch.git</td>\n",
              "      <td>Search engine</td>\n",
              "    </tr>\n",
              "  </tbody>\n",
              "</table>\n",
              "</div>"
            ],
            "text/plain": [
              "                      Category        Project  \\\n",
              "0  Data storage and management      cassandra   \n",
              "1               Message broker          kafka   \n",
              "2    Web engines and web tools    spring-boot   \n",
              "3               Search engines  elasticsearch   \n",
              "\n",
              "                                      Git Repository  \\\n",
              "0            https://github.com/apache/cassandra.git   \n",
              "1                https://github.com/apache/kafka.git   \n",
              "2  https://github.com/spring-projects/spring-boot...   \n",
              "3       https://github.com/elastic/elasticsearch.git   \n",
              "\n",
              "                    Description  \n",
              "0    Distributed NoSQL database  \n",
              "1                Message broker  \n",
              "2  Spring-based project manager  \n",
              "3                 Search engine  "
            ]
          },
          "execution_count": 5,
          "metadata": {},
          "output_type": "execute_result"
        }
      ],
      "source": [
        "df_repositorios = checker.df_repositorios\n",
        "df_repositorios"
      ]
    },
    {
      "cell_type": "markdown",
      "metadata": {
        "id": "kY15x-vc0cA4"
      },
      "source": [
        "## 2. Clona os respositórios"
      ]
    },
    {
      "cell_type": "code",
      "execution_count": 6,
      "metadata": {
        "colab": {
          "base_uri": "https://localhost:8080/"
        },
        "id": "kQSZOQRpVEpq",
        "outputId": "459e56b2-2466-4ad1-b121-0505060e95ac"
      },
      "outputs": [
        {
          "name": "stdout",
          "output_type": "stream",
          "text": [
            "Clonando os 4 repositórios. Aguarde...\n",
            "Thread 1 iniciada em 2023-08-17 17:01:36.401374 - clonando repositorio1:https://github.com/apache/cassandra.git...\n",
            "Thread 2 iniciada em 2023-08-17 17:01:36.403032 - clonando repositorio2:https://github.com/apache/kafka.git...\n",
            "Thread 3 iniciada em 2023-08-17 17:01:36.405485 - clonando repositorio3:https://github.com/spring-projects/spring-boot.git...\n",
            "Thread 4 iniciada em 2023-08-17 17:01:36.407396 - clonando repositorio4:https://github.com/elastic/elasticsearch.git...\n",
            "Clonagem do repo https://github.com/apache/kafka.git concluída com sucesso! -> instante: 2023-08-17 17:05:14.432291\n",
            "Clonagem do repo https://github.com/spring-projects/spring-boot.git concluída com sucesso! -> instante: 2023-08-17 17:06:58.665210\n",
            "Clonagem do repo https://github.com/apache/cassandra.git concluída com sucesso! -> instante: 2023-08-17 17:07:17.340486\n",
            "Clonagem do repo https://github.com/elastic/elasticsearch.git concluída com sucesso! -> instante: 2023-08-17 17:09:26.567756\n",
            "Tempo de download do repositorio1 é: 0:05:40.939112 s\n",
            "Tempo de download do repositorio2 é: 0:03:38.029259 s\n",
            "Tempo de download do repositorio3 é: 0:05:22.259725 s\n",
            "Tempo de download do repositorio4 é: 0:07:50.160360 s\n"
          ]
        }
      ],
      "source": [
        "# Clona os repositórios\n",
        "lista_url_repositorios = checker.get_valid_urls()\n",
        "qtd_repositorios = len(lista_url_repositorios)\n",
        "\n",
        "print(f'Clonando os {qtd_repositorios} repositórios. Aguarde...')\n",
        "cloner = RepoCloner(qtd_repositorios, lista_url_repositorios)\n",
        "cloner.clona_repositorios()\n",
        "cloner.mostra_tempo_clonagens()"
      ]
    },
    {
      "cell_type": "markdown",
      "metadata": {
        "id": "kNgTcxcB2nON"
      },
      "source": [
        "# 3. Recupera informação do diretório src/main"
      ]
    },
    {
      "cell_type": "code",
      "execution_count": 10,
      "metadata": {
        "colab": {
          "base_uri": "https://localhost:8080/",
          "height": 1000
        },
        "id": "Vde96QQhX86z",
        "outputId": "a782ba6f-1c7f-48aa-be03-540d19d6c4aa"
      },
      "outputs": [
        {
          "name": "stdout",
          "output_type": "stream",
          "text": [
            "Analisa src/java em repositorio1 - True\n",
            "Analisa core/src/main/java/kafka em repositorio2 - True\n",
            "Analisa spring-boot-project/spring-boot/src/main/java/org/springframework/boot em repositorio3 - True\n",
            "Analisa server/src/main/java/org/elasticsearch em repositorio4 - True\n"
          ]
        },
        {
          "data": {
            "text/html": [
              "<div>\n",
              "<style scoped>\n",
              "    .dataframe tbody tr th:only-of-type {\n",
              "        vertical-align: middle;\n",
              "    }\n",
              "\n",
              "    .dataframe tbody tr th {\n",
              "        vertical-align: top;\n",
              "    }\n",
              "\n",
              "    .dataframe thead th {\n",
              "        text-align: right;\n",
              "    }\n",
              "</style>\n",
              "<table border=\"1\" class=\"dataframe\">\n",
              "  <thead>\n",
              "    <tr style=\"text-align: right;\">\n",
              "      <th></th>\n",
              "      <th>nome</th>\n",
              "      <th>repositorio</th>\n",
              "      <th>url</th>\n",
              "      <th>src</th>\n",
              "      <th>checa</th>\n",
              "    </tr>\n",
              "  </thead>\n",
              "  <tbody>\n",
              "    <tr>\n",
              "      <th>0</th>\n",
              "      <td>cassandra</td>\n",
              "      <td>repositorio1</td>\n",
              "      <td>https://github.com/apache/cassandra.git</td>\n",
              "      <td>src/java</td>\n",
              "      <td>True</td>\n",
              "    </tr>\n",
              "    <tr>\n",
              "      <th>1</th>\n",
              "      <td>kafka</td>\n",
              "      <td>repositorio2</td>\n",
              "      <td>https://github.com/apache/kafka.git</td>\n",
              "      <td>core/src/main/java/kafka</td>\n",
              "      <td>True</td>\n",
              "    </tr>\n",
              "    <tr>\n",
              "      <th>2</th>\n",
              "      <td>spring-boot</td>\n",
              "      <td>repositorio3</td>\n",
              "      <td>https://github.com/spring-projects/spring-boot...</td>\n",
              "      <td>spring-boot-project/spring-boot/src/main/java/...</td>\n",
              "      <td>True</td>\n",
              "    </tr>\n",
              "    <tr>\n",
              "      <th>3</th>\n",
              "      <td>elasticsearch</td>\n",
              "      <td>repositorio4</td>\n",
              "      <td>https://github.com/elastic/elasticsearch.git</td>\n",
              "      <td>server/src/main/java/org/elasticsearch</td>\n",
              "      <td>True</td>\n",
              "    </tr>\n",
              "  </tbody>\n",
              "</table>\n",
              "</div>"
            ],
            "text/plain": [
              "            nome   repositorio  \\\n",
              "0      cassandra  repositorio1   \n",
              "1          kafka  repositorio2   \n",
              "2    spring-boot  repositorio3   \n",
              "3  elasticsearch  repositorio4   \n",
              "\n",
              "                                                 url  \\\n",
              "0            https://github.com/apache/cassandra.git   \n",
              "1                https://github.com/apache/kafka.git   \n",
              "2  https://github.com/spring-projects/spring-boot...   \n",
              "3       https://github.com/elastic/elasticsearch.git   \n",
              "\n",
              "                                                 src  checa  \n",
              "0                                           src/java   True  \n",
              "1                           core/src/main/java/kafka   True  \n",
              "2  spring-boot-project/spring-boot/src/main/java/...   True  \n",
              "3             server/src/main/java/org/elasticsearch   True  "
            ]
          },
          "execution_count": 10,
          "metadata": {},
          "output_type": "execute_result"
        }
      ],
      "source": [
        "URL_DATASET_SRC_REPOSITORIOS = 'https://raw.githubusercontent.com/armandossrecife/teste/main/l4prepositorios.csv'\n",
        "URL_DATASET_CLONAGEM_REPOSITORIOS = 'https://raw.githubusercontent.com/armandossrecife/teste/main/l4prepositoriosurl.csv'\n",
        "\n",
        "# Verifica a existência de subdiretórios nos repositórios\n",
        "repositorio_checker = RepositorioChecker(URL_DATASET_SRC_REPOSITORIOS, URL_DATASET_CLONAGEM_REPOSITORIOS)\n",
        "\n",
        "repositorio_checker.merge_dataframes()\n",
        "df_checa_repositorios = repositorio_checker.check_repositorios()\n",
        "\n",
        "# Exibe o resultado da verificação\n",
        "df_checa_repositorios"
      ]
    },
    {
      "cell_type": "code",
      "execution_count": 11,
      "metadata": {},
      "outputs": [],
      "source": [
        "df_checa_repositorios.to_csv('repositorios_analise_tese.csv', index=False)"
      ]
    }
  ],
  "metadata": {
    "colab": {
      "authorship_tag": "ABX9TyO0btdDFaUE84kOe/nqb8JP",
      "include_colab_link": true,
      "provenance": []
    },
    "kernelspec": {
      "display_name": "Python 3",
      "name": "python3"
    },
    "language_info": {
      "codemirror_mode": {
        "name": "ipython",
        "version": 3
      },
      "file_extension": ".py",
      "mimetype": "text/x-python",
      "name": "python",
      "nbconvert_exporter": "python",
      "pygments_lexer": "ipython3",
      "version": "3.10.8"
    }
  },
  "nbformat": 4,
  "nbformat_minor": 0
}
