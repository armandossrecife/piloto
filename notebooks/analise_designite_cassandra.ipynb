{
  "cells": [
    {
      "cell_type": "markdown",
      "metadata": {
        "colab_type": "text",
        "id": "view-in-github"
      },
      "source": [
        "<a href=\"https://colab.research.google.com/github/armandossrecife/piloto/blob/main/notebooks/analise_designite_cassandra.ipynb\" target=\"_parent\"><img src=\"https://colab.research.google.com/assets/colab-badge.svg\" alt=\"Open In Colab\"/></a>"
      ]
    },
    {
      "cell_type": "code",
      "execution_count": 1,
      "metadata": {
        "colab": {
          "base_uri": "https://localhost:8080/"
        },
        "id": "l8RIvuIRoG4V",
        "outputId": "d5d87240-1fb2-4fac-e312-6d67acbb7b4c"
      },
      "outputs": [
        {
          "name": "stdout",
          "output_type": "stream",
          "text": [
            "openjdk 11.0.20 2023-07-18\n",
            "OpenJDK Runtime Environment (build 11.0.20+8-post-Ubuntu-1ubuntu122.04)\n",
            "OpenJDK 64-Bit Server VM (build 11.0.20+8-post-Ubuntu-1ubuntu122.04, mixed mode, sharing)\n"
          ]
        }
      ],
      "source": [
        "!java --version"
      ]
    },
    {
      "cell_type": "markdown",
      "metadata": {
        "id": "RrcPd5jgi_D9"
      },
      "source": [
        "# Funcões"
      ]
    },
    {
      "cell_type": "code",
      "execution_count": 6,
      "metadata": {
        "id": "9JcHh2pUjBwZ"
      },
      "outputs": [],
      "source": [
        "import pandas as pd\n",
        "import os\n",
        "import requests\n",
        "import datetime\n",
        "\n",
        "def checa_indice_language(relacao_linguagens):\n",
        "  indice=-1\n",
        "  for i, each in enumerate(relacao_linguagens):\n",
        "    if \"Language\" in each:\n",
        "      indice = i\n",
        "      break\n",
        "  return indice\n",
        "\n",
        "def instala_cloc():\n",
        "  try:\n",
        "    comando = !sudo apt-get install cloc\n",
        "    print(comando)\n",
        "  except Exception as e:\n",
        "    print(f'Erro: {str(e)}')\n",
        "\n",
        "def clona_repositorio(url):\n",
        "  try:\n",
        "    comando = f'git clone {url}'\n",
        "    print(f'Clonando o repositório {url}')\n",
        "    print(comando)\n",
        "    os.system(comando)\n",
        "    print('concluido com sucesso!')\n",
        "  except Exception as e:\n",
        "    print(f'Erro: {str(e)}')\n",
        "\n",
        "def get_primeiro_commit(repositorio):\n",
        "  try:\n",
        "    os.environ['REPOSITORIO_ORIGINAL'] = repositorio\n",
        "    # Primeiro commit\n",
        "    comando = !cd $REPOSITORIO_ORIGINAL && git rev-list --all | tail -n 1\n",
        "  except Exception as e:\n",
        "    print(f'Erro: {str(e)}')\n",
        "  return comando\n",
        "\n",
        "def get_commit_tag(tag):\n",
        "  try:\n",
        "    os.environ['TAG'] = tag\n",
        "    comando = !cd cassandra && git rev-list -n 1 $TAG\n",
        "  except Exception as e:\n",
        "    print(f'Erro: {str(e)}')\n",
        "  return comando\n",
        "\n",
        "def get_ultimo_commit(repositorio):\n",
        "  try:\n",
        "    os.environ['REPOSITORIO_ORIGINAL'] = repositorio\n",
        "    # Primeiro commit\n",
        "    comando = !cd $REPOSITORIO_ORIGINAL && git rev-list --all | head -n 1\n",
        "  except Exception as e:\n",
        "    print(f'Erro: {str(e)}')\n",
        "  return comando\n",
        "\n",
        "def cria_pasta_n_commit(repositorio, pasta_n_commit):\n",
        "  try:\n",
        "    os.environ['REPOSITORIO_ORIGINAL'] = repositorio\n",
        "    os.environ['REPOSITORIO_INICIAL'] = pasta_n_commit\n",
        "    # Cria uma nova pasta para referenciar apenas os dados do 1o commit\n",
        "    comando = !cp -R $REPOSITORIO_ORIGINAL $REPOSITORIO_INICIAL\n",
        "  except Exception as e:\n",
        "    print(f'Erro: {str(e)}')\n",
        "  return comando\n",
        "\n",
        "def checkout_n_commit(pasta_n_commit, n_commit):\n",
        "  try:\n",
        "    os.environ['REPOSITORIO_INICIAL'] = pasta_n_commit\n",
        "    os.environ['PRIMEIRO_COMMIT'] = n_commit\n",
        "    # git checkout $( git rev-list --all | tail -n 1 )\n",
        "    comando1 = \"cd $REPOSITORIO_INICIAL && git checkout $PRIMEIRO_COMMIT\"\n",
        "    os.system(comando1)\n",
        "    print(f'Checkout do repositorio no commit {n_commit} realizado com sucesso!')\n",
        "  except Exception as e:\n",
        "    print(f'Erro: {str(e)}')\n",
        "\n",
        "def gera_df_info_repositorio(pasta_n_commit):\n",
        "  try:\n",
        "    os.environ['REPOSITORIO_INICIAL'] = pasta_n_commit\n",
        "    # Quantidade de arquivos na pasta cassandra\n",
        "    qtd_arquivos = !find $REPOSITORIO_INICIAL -type f | wc -l\n",
        "    # Quantidade de commits do repositorio cassandra\n",
        "    qtd_commits = !cd $REPOSITORIO_INICIAL && git log --oneline | grep -c .\n",
        "    # Tamanho (MB) da pasta cassandra\n",
        "    tamanho_pasta_mb = !du -hs --block-size=1M $REPOSITORIO_INICIAL | cut -f1\n",
        "    # Quantidade de colaboradores (devs que commitaram pelo menos uma vez no projeto cassandra)\n",
        "    qtd_colaboradores_commits = !cd $REPOSITORIO_INICIAL && git log --pretty=format:\"%ae\" | sort -u | grep -v \"noreply.github.com\" | wc -l\n",
        "    # Data do primeiro commit do projeto cassandra\n",
        "    data_primeiro_commit =!cd $REPOSITORIO_INICIAL && git log --reverse --pretty=format:%ad --date=short | head -1\n",
        "    # Data do ultimo commit do projeto cassandra\n",
        "    data_ultimo_commit = !cd $REPOSITORIO_INICIAL && git log -1 --pretty=format:%ad --date=short\n",
        "\n",
        "    dict_info_repo = {\n",
        "      'nome':pasta_n_commit,\n",
        "      'qtd_arquivos':qtd_arquivos,\n",
        "      'qtd_commits':qtd_commits,\n",
        "      'tamanho_pasta_mb':tamanho_pasta_mb,\n",
        "      'qtd_colaboradores_commits':qtd_colaboradores_commits,\n",
        "      'data_primeiro_commit':data_primeiro_commit,\n",
        "      'data_ultimo_commit':data_ultimo_commit,\n",
        "    }\n",
        "\n",
        "    df_info_repo = pd.DataFrame(dict_info_repo)\n",
        "  except Exception as e:\n",
        "    print(f'Erro: {str(e)}')\n",
        "  return df_info_repo\n",
        "\n",
        "def gera_df_dados(pasta_n_commit):\n",
        "  lista_linguagens, lista_files, lista_blank, lista_comment, lista_code = list(), list(), list(), list(), list()\n",
        "  l_temp = []\n",
        "  vl_temp = []\n",
        "  os.environ['REPOSITORIO_INICIAL'] = pasta_n_commit\n",
        "  try:\n",
        "    # Detalha os tipos de arquivos que aparecem no repositório do cassandra\n",
        "    relacao_linguagens = !cd $REPOSITORIO_INICIAL && cloc .\n",
        "    #relacao_linguagens[checa_indice_language(relacao_linguagens):]\n",
        "    linguagens_encontradas = relacao_linguagens[(checa_indice_language(relacao_linguagens)+2):]\n",
        "    for linha in linguagens_encontradas:\n",
        "      elementos = linha.split(' ')\n",
        "      novos_elementos = []\n",
        "      linguagem_encontrada = []\n",
        "      valores_da_linguagem = []\n",
        "      for item in elementos:\n",
        "        if item != '':\n",
        "          novos_elementos.append(item)\n",
        "      linguagem_encontrada.append(novos_elementos[:-4])\n",
        "      valores_da_linguagem.append(novos_elementos[-4:])\n",
        "      l_temp = l_temp + linguagem_encontrada\n",
        "      vl_temp = vl_temp + valores_da_linguagem\n",
        "\n",
        "    l_temp = l_temp[:-3]\n",
        "    vl_temp = vl_temp[:-3]\n",
        "    for i,each in enumerate(vl_temp):\n",
        "      lista_files.append(each[0])\n",
        "      lista_blank.append(each[1])\n",
        "      lista_comment.append(each[2])\n",
        "      lista_code.append(each[3])\n",
        "  except Exception as e:\n",
        "    print(f'Erro: {str(e)}')\n",
        "  try:\n",
        "    dict_dados_linguagens = {\n",
        "    'linguagens':l_temp,\n",
        "    'files':lista_files,\n",
        "    'blank':lista_blank,\n",
        "    'comment':lista_comment,\n",
        "    'code':lista_code\n",
        "    }\n",
        "    df_dados_linguagens = pd.DataFrame(dict_dados_linguagens)\n",
        "    df_dados_linguagens['files'] = df_dados_linguagens['files'].apply(lambda x: int(x))\n",
        "    df_dados_linguagens['blank'] = df_dados_linguagens['blank'].apply(lambda x: int(x))\n",
        "    df_dados_linguagens['comment'] = df_dados_linguagens['comment'].apply(lambda x: int(x))\n",
        "    df_dados_linguagens['code'] = df_dados_linguagens['code'].apply(lambda x: int(x))\n",
        "  except Exception as e2:\n",
        "    print(f'Erro: {str(e2)}')\n",
        "\n",
        "  return df_dados_linguagens\n",
        "\n",
        "def gera_df_dados_repositorios(df_info_repo, df_info_repo_cf):\n",
        "  df_repo = None\n",
        "  try:\n",
        "    l_cf = df_info_repo_cf.columns.tolist()\n",
        "    c_c1 = df_info_repo.iloc[0].to_list()\n",
        "    c_cf = df_info_repo_cf.iloc[0].to_list()\n",
        "\n",
        "    dict_repo= {\n",
        "        'descricao':l_cf,\n",
        "        'dados_c1':c_c1,\n",
        "        'dados_cf':c_cf\n",
        "    }\n",
        "    df_repo = pd.DataFrame(dict_repo)\n",
        "  except Exception as e:\n",
        "    print(f'Erro: {str(3)}')\n",
        "  return df_repo\n",
        "\n",
        "def gera_df_dados_repositorios2(df_info_repo, df_info_repo_cf):\n",
        "  df_repo = None\n",
        "  try:\n",
        "    l_cf = df_info_repo_cf.columns.tolist()\n",
        "    c_c1 = df_info_repo.iloc[0].to_list()\n",
        "    c_cf = df_info_repo_cf.iloc[0].to_list()\n",
        "\n",
        "    dict_repo= {\n",
        "        'dados_cf':c_cf\n",
        "    }\n",
        "    df_repo = pd.DataFrame(dict_repo)\n",
        "  except Exception as e:\n",
        "    print(f'Erro: {str(3)}')\n",
        "  return df_repo\n",
        "\n",
        "def download_designite():\n",
        "  try:\n",
        "    url = 'https://www.designite-tools.com/static/download/DJC/DesigniteJava.jar'  # replace with the URL of the file you want to download\n",
        "    filename = 'DesigniteJava.jar'  # replace with the desired filename to save the downloaded file\n",
        "    response = requests.get(url)\n",
        "\n",
        "    with open(filename, 'wb') as f:\n",
        "        f.write(response.content)\n",
        "\n",
        "    print(f'{filename} downloaded successfully!')\n",
        "  except Excetpion as e:\n",
        "    print(f'Erro: {str(e)}')\n",
        "\n",
        "def run_designite(tag, pasta_testes):\n",
        "  try:\n",
        "    os.environ['TESTES'] = pasta_testes\n",
        "    os.environ['CASSANDRA'] = tag + '/src/java/org/apache/cassandra'\n",
        "    cria_pasta_testes = !mkdir $TESTES\n",
        "    print(cria_pasta_testes)\n",
        "    executa_designite = !java -jar DesigniteJava.jar -i $CASSANDRA -o $TESTES\n",
        "    print(executa_designite)\n",
        "  except Exception as e:\n",
        "    print(f'Erro: {str(e)}')\n",
        "\n",
        "def gera_df_design_smells(pasta_testes, lista):\n",
        "  path_file = pasta_testes + '/' + 'designCodeSmells.csv'\n",
        "  df_ds = pd.read_csv(path_file)\n",
        "  elemento = pasta_testes,df_ds\n",
        "  lista.append(elemento)\n",
        "  return df_ds"
      ]
    },
    {
      "cell_type": "code",
      "execution_count": 11,
      "metadata": {
        "id": "bH8J0YC1AQba"
      },
      "outputs": [],
      "source": [
        "def strings_repetidas(lista_strings):\n",
        "    contador = {}\n",
        "    arquivos_criticos_cd_hld = []\n",
        "    # Conta a ocorrência de cada string na lista\n",
        "    for string in lista_strings:\n",
        "        contador[string] = contador.get(string, 0) + 1\n",
        "\n",
        "    # Imprime as strings que se repetem pelo menos duas vezes\n",
        "    for string, count in contador.items():\n",
        "        if count >= 2:\n",
        "            arquivos_criticos_cd_hld.append(string)\n",
        "    return arquivos_criticos_cd_hld"
      ]
    },
    {
      "cell_type": "code",
      "execution_count": null,
      "metadata": {
        "id": "1VIFZ1GSCuzC"
      },
      "outputs": [],
      "source": [
        "#!rm -rf cassandra_4_0_0 && rm -rf cassandra_4_1_0"
      ]
    },
    {
      "cell_type": "markdown",
      "metadata": {
        "id": "WCdMnQMKjIpE"
      },
      "source": [
        "# Análise Designite"
      ]
    },
    {
      "cell_type": "code",
      "execution_count": 4,
      "metadata": {
        "colab": {
          "base_uri": "https://localhost:8080/"
        },
        "id": "kxqq7fasoVSI",
        "outputId": "babb4226-af82-4dba-fa03-3a1c5b657e0a"
      },
      "outputs": [
        {
          "name": "stdout",
          "output_type": "stream",
          "text": [
            "DesigniteJava.jar downloaded successfully!\n"
          ]
        }
      ],
      "source": [
        "import requests\n",
        "\n",
        "url = 'https://www.designite-tools.com/static/download/DJC/DesigniteJava.jar'  # replace with the URL of the file you want to download\n",
        "filename = 'DesigniteJava.jar'  # replace with the desired filename to save the downloaded file\n",
        "response = requests.get(url)\n",
        "\n",
        "with open(filename, 'wb') as f:\n",
        "    f.write(response.content)\n",
        "\n",
        "print(f'{filename} downloaded successfully!')"
      ]
    },
    {
      "cell_type": "code",
      "execution_count": 5,
      "metadata": {
        "colab": {
          "base_uri": "https://localhost:8080/"
        },
        "id": "8SymGi6Hp-i_",
        "outputId": "06bc3c86-6e93-4bd1-ea00-0e3558624351"
      },
      "outputs": [
        {
          "name": "stdout",
          "output_type": "stream",
          "text": [
            "Cloning into 'cassandra'...\n",
            "remote: Enumerating objects: 393306, done.\u001b[K\n",
            "remote: Counting objects: 100% (2555/2555), done.\u001b[K\n",
            "remote: Compressing objects: 100% (1051/1051), done.\u001b[K\n",
            "remote: Total 393306 (delta 1144), reused 2246 (delta 1071), pack-reused 390751\u001b[K\n",
            "Receiving objects: 100% (393306/393306), 392.97 MiB | 23.32 MiB/s, done.\n",
            "Resolving deltas: 100% (229132/229132), done.\n"
          ]
        }
      ],
      "source": [
        "!git clone https://github.com/apache/cassandra.git"
      ]
    },
    {
      "cell_type": "markdown",
      "metadata": {
        "id": "McfKnnVm4Sn1"
      },
      "source": [
        "# Análise família 3.x"
      ]
    },
    {
      "cell_type": "markdown",
      "metadata": {
        "id": "5N7Xn3-AmyYv"
      },
      "source": [
        "## Análise da tag 3.0.0"
      ]
    },
    {
      "cell_type": "code",
      "execution_count": 7,
      "metadata": {
        "colab": {
          "base_uri": "https://localhost:8080/"
        },
        "id": "Z6kvDZUdjps4",
        "outputId": "efb7c2bf-b2be-455f-8940-73fad2f52496"
      },
      "outputs": [
        {
          "name": "stdout",
          "output_type": "stream",
          "text": [
            "Checkout do repositorio no commit 96f407bce56b98cd824d18e32ee012dbb99a0286 realizado com sucesso!\n"
          ]
        }
      ],
      "source": [
        "# Cria uma nova pasta para referenciar apenas os dados do 1o commit\n",
        "commit_tag_300 = get_commit_tag(tag='cassandra-3.0.0')\n",
        "cria_pasta_n_commit(repositorio='cassandra', pasta_n_commit='cassandra_3_0_0')\n",
        "checkout_n_commit('cassandra_3_0_0', commit_tag_300[0])"
      ]
    },
    {
      "cell_type": "code",
      "execution_count": 8,
      "metadata": {
        "colab": {
          "base_uri": "https://localhost:8080/"
        },
        "id": "UIqow7Hep_eb",
        "outputId": "2971ad8a-5a74-4f83-8136-ade8a123cb06"
      },
      "outputs": [
        {
          "name": "stdout",
          "output_type": "stream",
          "text": [
            "Aguarde...\n",
            "Parsing the source code ...\n",
            "Resolving symbols...\n",
            "Extracting metrics...\n",
            "Extracting code smells...\n",
            "Exception while parsing literal number (during Magic Number detection). For input string: \"c6a4a7935bd1e995\"\n",
            "Exception while parsing literal number (during Magic Number detection). For input string: \"ff51afd7ed558ccd\"\n",
            "Exception while parsing literal number (during Magic Number detection). For input string: \"c4ceb9fe1a85ec53\"\n",
            "Exception while parsing literal number (during Magic Number detection). For input string: \"87c37b91114253d5\"\n",
            "Exception while parsing literal number (during Magic Number detection). For input string: \"8000000000000000\"\n",
            "Exception while parsing literal number (during Magic Number detection). For input string: \"ffff000000000000\"\n",
            "Exception while parsing literal number (during Magic Number detection). For input string: \"ff00000000000000\"\n",
            "Exception while parsing literal number (during Magic Number detection). For input string: \"c000000000000000\"\n",
            "Exception while parsing literal number (during Magic Number detection). For input string: \"ffffffff00000000\"\n",
            "Done.\n",
            "Análise DesigniteJava concluída em 0:01:26.043805h!\n"
          ]
        }
      ],
      "source": [
        "print('Aguarde...')\n",
        "t1 = datetime.datetime.now()\n",
        "!java -jar DesigniteJava.jar -i cassandra_3_0_0/src/java/org/apache/cassandra -o cassandra_3_0_0\n",
        "t2 = datetime.datetime.now()\n",
        "print(f'Análise DesigniteJava concluída em {t2-t1}h!')"
      ]
    },
    {
      "cell_type": "code",
      "execution_count": 9,
      "metadata": {
        "id": "vhpq_FR1sN9X"
      },
      "outputs": [],
      "source": [
        "df_design_smells = pd.read_csv('cassandra_3_0_0/designCodeSmells.csv')\n",
        "lista_classes_criticas = ['StorageService', 'DatabaseDescriptor', 'ColumnFamilyStore', 'StorageProxy', 'CompactionManager', 'SSTableReader', 'SelectStatement', 'CassandraDaemon', 'SinglePartitionReadCommand', 'NodeProbe', 'MessagingService', 'Config']\n",
        "pesquisa = df_design_smells['Type Name'].str.contains('|'.join(lista_classes_criticas))\n",
        "df_critical_classes = df_design_smells[pesquisa]\n",
        "df_critical_classes.columns = ['ProjectName', 'PackageName', 'TypeName', 'CodeSmell']\n",
        "df_critical_classes = df_critical_classes.query(\"CodeSmell=='Cyclic-Dependent Modularization' or CodeSmell=='Hub-like Modularization'\")\n",
        "df_analise_designite_critical_classes = df_critical_classes.sort_values(by='TypeName')\n",
        "df_analise_designite_critical_classes.to_csv('cassandra_3_0_0/analise_designite_classes_criticas.csv', index=False)\n",
        "df_design_smells.to_csv('cassandra_3_0_0/analise_designite.csv', index=False)\n",
        "\n",
        "lista_classes_criticas = df_analise_designite_critical_classes['TypeName'].to_list()"
      ]
    },
    {
      "cell_type": "code",
      "execution_count": 12,
      "metadata": {
        "colab": {
          "base_uri": "https://localhost:8080/"
        },
        "id": "h7uvGKLYOXQY",
        "outputId": "fd9be313-a2ef-4c74-a16c-671b6de52047"
      },
      "outputs": [
        {
          "name": "stdout",
          "output_type": "stream",
          "text": [
            "7 classes_com_cd_hld: ['ColumnFamilyStore', 'CompactionManager', 'MessagingService', 'SSTableReader', 'SinglePartitionReadCommand', 'StorageProxy', 'StorageService']\n"
          ]
        }
      ],
      "source": [
        "classes_com_cd_hld = strings_repetidas(lista_strings=lista_classes_criticas)\n",
        "print(f'{len(classes_com_cd_hld)} classes_com_cd_hld: {classes_com_cd_hld}')"
      ]
    },
    {
      "cell_type": "code",
      "execution_count": 36,
      "metadata": {
        "colab": {
          "base_uri": "https://localhost:8080/"
        },
        "id": "EK1X8GD8TUlz",
        "outputId": "b8e42cfc-1a70-494f-f60f-af9cc3115b12"
      },
      "outputs": [
        {
          "name": "stdout",
          "output_type": "stream",
          "text": [
            "\u001b[33mcommit 96f407bce56b98cd824d18e32ee012dbb99a0286\u001b[m\u001b[33m (\u001b[m\u001b[1;36mHEAD\u001b[m\u001b[33m, \u001b[m\u001b[1;33mtag: cassandra-3.0.0\u001b[m\u001b[33m)\u001b[m\n",
            "Author: T Jake Luciani <jake@apache.org>\n",
            "Date:   Fri Nov 6 14:38:34 2015 -0500\n",
            "\n",
            "    3.0 release versions\n"
          ]
        }
      ],
      "source": [
        "!cd cassandra_3_0_0 && git log -n 1"
      ]
    },
    {
      "cell_type": "markdown",
      "metadata": {
        "id": "y2me-uZUm06N"
      },
      "source": [
        "## Análise da tag 3.11.11"
      ]
    },
    {
      "cell_type": "code",
      "execution_count": 13,
      "metadata": {
        "colab": {
          "base_uri": "https://localhost:8080/"
        },
        "id": "AKt_5CiHxWfS",
        "outputId": "8d5223d1-bf8a-4b61-febf-4988a3d7afbb"
      },
      "outputs": [
        {
          "name": "stdout",
          "output_type": "stream",
          "text": [
            "Checkout do repositorio no commit 4cafe2288e56e1135d65e76adbcd6c2de9306d6b realizado com sucesso!\n"
          ]
        }
      ],
      "source": [
        "# Cria uma nova pasta para referenciar apenas os dados do 1o commit\n",
        "commit_tag_31111 = get_commit_tag(tag='cassandra-3.11.11')\n",
        "cria_pasta_n_commit(repositorio='cassandra', pasta_n_commit='cassandra_3_11_11')\n",
        "checkout_n_commit('cassandra_3_11_11', commit_tag_31111[0])"
      ]
    },
    {
      "cell_type": "code",
      "execution_count": 14,
      "metadata": {
        "colab": {
          "base_uri": "https://localhost:8080/"
        },
        "id": "ZGE-0LtfvS0n",
        "outputId": "db7925a0-4378-49ea-fce8-772ebe848471"
      },
      "outputs": [
        {
          "name": "stdout",
          "output_type": "stream",
          "text": [
            "Aguarde...\n",
            "Parsing the source code ...\n",
            "Resolving symbols...\n",
            "Extracting metrics...\n",
            "Extracting code smells...\n",
            "Exception while parsing literal number (during Magic Number detection). For input string: \"c6a4a7935bd1e995\"\n",
            "Exception while parsing literal number (during Magic Number detection). For input string: \"ff51afd7ed558ccd\"\n",
            "Exception while parsing literal number (during Magic Number detection). For input string: \"c4ceb9fe1a85ec53\"\n",
            "Exception while parsing literal number (during Magic Number detection). For input string: \"87c37b91114253d5\"\n",
            "Exception while parsing literal number (during Magic Number detection). For input string: \"8000000000000000\"\n",
            "Exception while parsing literal number (during Magic Number detection). For input string: \"ffff000000000000\"\n",
            "Exception while parsing literal number (during Magic Number detection). For input string: \"ff00000000000000\"\n",
            "Exception while parsing literal number (during Magic Number detection). For input string: \"c000000000000000\"\n",
            "Exception while parsing literal number (during Magic Number detection). For input string: \"ffffffff00000000\"\n",
            "Done.\n",
            "Análise DesigniteJava concluída em 0:01:41.466801h!\n"
          ]
        }
      ],
      "source": [
        "print('Aguarde...')\n",
        "t1 = datetime.datetime.now()\n",
        "!java -jar DesigniteJava.jar -i cassandra_3_11_11/src/java/org/apache/cassandra -o cassandra_3_11_11\n",
        "t2 = datetime.datetime.now()\n",
        "print(f'Análise DesigniteJava concluída em {t2-t1}h!')"
      ]
    },
    {
      "cell_type": "code",
      "execution_count": 22,
      "metadata": {
        "id": "PQgFAJmZiEt5"
      },
      "outputs": [],
      "source": [
        "df_design_smells2 = pd.read_csv('cassandra_3_11_11/designCodeSmells.csv')\n",
        "lista_classes_criticas = ['StorageService', 'DatabaseDescriptor', 'ColumnFamilyStore', 'StorageProxy', 'CompactionManager', 'SSTableReader', 'SelectStatement', 'CassandraDaemon', 'SinglePartitionReadCommand', 'NodeProbe', 'MessagingService', 'Config']\n",
        "pesquisa = df_design_smells2['Type Name'].str.contains('|'.join(lista_classes_criticas))\n",
        "df_critical_classes2 = df_design_smells2[pesquisa]\n",
        "df_critical_classes2.columns = ['ProjectName', 'PackageName', 'TypeName', 'CodeSmell']\n",
        "df_critical_classes2 = df_critical_classes2.query(\"CodeSmell=='Cyclic-Dependent Modularization' or CodeSmell=='Hub-like Modularization'\")\n",
        "df_analise_designite_critical_classes2 = df_critical_classes2.sort_values(by='TypeName')\n",
        "df_analise_designite_critical_classes2.to_csv('cassandra_3_11_11/analise_designite_classes_criticas.csv', index=False)\n",
        "df_design_smells2.to_csv('cassandra_3_11_11/analise_designite.csv', index=False)\n",
        "lista_classes_criticas2 = df_analise_designite_critical_classes2['TypeName'].to_list()"
      ]
    },
    {
      "cell_type": "code",
      "execution_count": 23,
      "metadata": {
        "colab": {
          "base_uri": "https://localhost:8080/"
        },
        "id": "dwg3QyT9P4Iu",
        "outputId": "43c5ef1f-5eec-4617-c4b1-ad01ba10aaba"
      },
      "outputs": [
        {
          "name": "stdout",
          "output_type": "stream",
          "text": [
            "9 classes_com_cd_hld: ['ColumnFamilyStore', 'CompactionManager', 'DatabaseDescriptor', 'MessagingService', 'NodeProbe', 'SSTableReader', 'SinglePartitionReadCommand', 'StorageProxy', 'StorageService']\n"
          ]
        }
      ],
      "source": [
        "classes_com_cd_hld2 = strings_repetidas(lista_strings=lista_classes_criticas2)\n",
        "print(f'{len(classes_com_cd_hld2)} classes_com_cd_hld: {classes_com_cd_hld2}')"
      ]
    },
    {
      "cell_type": "code",
      "execution_count": 35,
      "metadata": {
        "colab": {
          "base_uri": "https://localhost:8080/"
        },
        "id": "UKXMN2G9TO2Z",
        "outputId": "2171b0ef-c180-45c7-94e6-df0994bd6b37"
      },
      "outputs": [
        {
          "name": "stdout",
          "output_type": "stream",
          "text": [
            "\u001b[33mcommit 4cafe2288e56e1135d65e76adbcd6c2de9306d6b\u001b[m\u001b[33m (\u001b[m\u001b[1;36mHEAD\u001b[m\u001b[33m, \u001b[m\u001b[1;33mtag: cassandra-3.11.11\u001b[m\u001b[33m)\u001b[m\n",
            "Author: Brandon Williams <brandonwilliams@apache.org>\n",
            "Date:   Sun Jul 25 12:39:42 2021 -0500\n",
            "\n",
            "    Prepare for release 3.11.11\n"
          ]
        }
      ],
      "source": [
        "!cd cassandra_3_11_11 && git log -n 1"
      ]
    },
    {
      "cell_type": "markdown",
      "metadata": {
        "id": "VZiTL67s4gbH"
      },
      "source": [
        "# Análise família 4.x"
      ]
    },
    {
      "cell_type": "code",
      "execution_count": null,
      "metadata": {
        "id": "PUeNdnShGIve"
      },
      "outputs": [],
      "source": [
        "# !rm -rf cassandra_4_0_0 && !rm -rf cassandra_4_1_0"
      ]
    },
    {
      "cell_type": "markdown",
      "metadata": {
        "id": "Ljo6VLTc4swA"
      },
      "source": [
        "## 4.0.0"
      ]
    },
    {
      "cell_type": "code",
      "execution_count": 18,
      "metadata": {
        "colab": {
          "base_uri": "https://localhost:8080/"
        },
        "id": "nTNE1Id_4ir3",
        "outputId": "4b31b6ef-fdec-4a93-9063-87e8de38b0cc"
      },
      "outputs": [
        {
          "name": "stdout",
          "output_type": "stream",
          "text": [
            "Checkout do repositorio no commit 902b4d31772eaa84f05ffdc1e4f4b7a66d5b17e6 realizado com sucesso!\n"
          ]
        }
      ],
      "source": [
        "# Cria uma nova pasta para referenciar apenas os dados do 1o commit\n",
        "commit_tag_400 = get_commit_tag(tag='cassandra-4.0.0')\n",
        "cria_pasta_n_commit(repositorio='cassandra', pasta_n_commit='cassandra_4_0_0')\n",
        "checkout_n_commit('cassandra_4_0_0', commit_tag_400[0])"
      ]
    },
    {
      "cell_type": "code",
      "execution_count": 19,
      "metadata": {
        "colab": {
          "base_uri": "https://localhost:8080/"
        },
        "id": "GdmcCq6i43CK",
        "outputId": "58fa4bd8-6e85-4206-cd0d-21e7c4892dc8"
      },
      "outputs": [
        {
          "name": "stdout",
          "output_type": "stream",
          "text": [
            "Aguarde...\n",
            "Parsing the source code ...\n",
            "Resolving symbols...\n",
            "Extracting metrics...\n",
            "Extracting code smells...\n",
            "Exception while parsing literal number (during Magic Number detection). For input string: \"c6a4a7935bd1e995\"\n",
            "Exception while parsing literal number (during Magic Number detection). For input string: \"ff51afd7ed558ccd\"\n",
            "Exception while parsing literal number (during Magic Number detection). For input string: \"c4ceb9fe1a85ec53\"\n",
            "Exception while parsing literal number (during Magic Number detection). For input string: \"87c37b91114253d5\"\n",
            "Exception while parsing literal number (during Magic Number detection). For input string: \"ffffffffffffffff\"\n",
            "Exception while parsing literal number (during Magic Number detection). For input string: \"9cb4b2f8129337db\"\n",
            "Exception while parsing literal number (during Magic Number detection). For input string: \"a98409e882ce4d7d\"\n",
            "Exception while parsing literal number (during Magic Number detection). For input string: \"a81e14edd9de2c7f\"\n",
            "Exception while parsing literal number (during Magic Number detection). For input string: \"cccccccccccccccd\"\n",
            "Exception while parsing literal number (during Magic Number detection). For input string: \"cccccccccccccccd\"\n",
            "Exception while parsing literal number (during Magic Number detection). For input string: \"8000000000000000\"\n",
            "Exception while parsing literal number (during Magic Number detection). For input string: \"ffff000000000000\"\n",
            "Exception while parsing literal number (during Magic Number detection). For input string: \"ff00000000000000\"\n",
            "Exception while parsing literal number (during Magic Number detection). For input string: \"c000000000000000\"\n",
            "Exception while parsing literal number (during Magic Number detection). For input string: \"ffffffffffffffff\"\n",
            "Exception while parsing literal number (during Magic Number detection). For input string: \"ffffffffffffffff\"\n",
            "Exception while parsing literal number (during Magic Number detection). For input string: \"ffffffffffffffff\"\n",
            "Exception while parsing literal number (during Magic Number detection). For input string: \"ffffffffffffffff\"\n",
            "Exception while parsing literal number (during Magic Number detection). For input string: \"ffffffff00000000\"\n",
            "Exception while parsing literal number (during Magic Number detection). For input string: \"ffffffff00000000\"\n",
            "Done.\n",
            "Análise DesigniteJava concluída em 0:02:11.221544h!\n"
          ]
        }
      ],
      "source": [
        "print('Aguarde...')\n",
        "t1 = datetime.datetime.now()\n",
        "!java -jar DesigniteJava.jar -i cassandra_4_0_0/src/java/org/apache/cassandra -o cassandra_4_0_0\n",
        "t2 = datetime.datetime.now()\n",
        "print(f'Análise DesigniteJava concluída em {t2-t1}h!')"
      ]
    },
    {
      "cell_type": "code",
      "execution_count": 24,
      "metadata": {
        "id": "b1ah07ek5WN9"
      },
      "outputs": [],
      "source": [
        "df_design_smells3 = pd.read_csv('cassandra_4_0_0/designCodeSmells.csv')\n",
        "lista_classes_criticas = ['StorageService', 'DatabaseDescriptor', 'ColumnFamilyStore', 'StorageProxy', 'CompactionManager', 'SSTableReader', 'SelectStatement', 'CassandraDaemon', 'SinglePartitionReadCommand', 'NodeProbe', 'MessagingService', 'Config']\n",
        "pesquisa = df_design_smells3['Type Name'].str.contains('|'.join(lista_classes_criticas))\n",
        "df_critical_classes3 = df_design_smells3[pesquisa]\n",
        "df_critical_classes3.columns = ['ProjectName', 'PackageName', 'TypeName', 'CodeSmell']\n",
        "df_critical_classes3 = df_critical_classes3.query(\"CodeSmell=='Cyclic-Dependent Modularization' or CodeSmell=='Hub-like Modularization'\")\n",
        "df_analise_designite_critical_classes3 = df_critical_classes3.sort_values(by='TypeName')\n",
        "df_analise_designite_critical_classes3.to_csv('cassandra_4_0_0/analise_designite_classes_criticas.csv', index=False)\n",
        "df_design_smells3.to_csv('cassandra_4_0_0/analise_designite.csv', index=False)\n",
        "\n",
        "lista_classes_criticas3 = df_analise_designite_critical_classes3['TypeName'].to_list()"
      ]
    },
    {
      "cell_type": "code",
      "execution_count": null,
      "metadata": {
        "colab": {
          "base_uri": "https://localhost:8080/",
          "height": 424
        },
        "id": "TPQ56dVK-Dbt",
        "outputId": "abb97af7-b87b-4380-943a-f98178c7b53c"
      },
      "outputs": [
        {
          "data": {
            "text/html": [
              "\n",
              "\n",
              "  <div id=\"df-5aceefc6-7c5a-4284-a164-dedd12d36e70\">\n",
              "    <div class=\"colab-df-container\">\n",
              "      <div>\n",
              "<style scoped>\n",
              "    .dataframe tbody tr th:only-of-type {\n",
              "        vertical-align: middle;\n",
              "    }\n",
              "\n",
              "    .dataframe tbody tr th {\n",
              "        vertical-align: top;\n",
              "    }\n",
              "\n",
              "    .dataframe thead th {\n",
              "        text-align: right;\n",
              "    }\n",
              "</style>\n",
              "<table border=\"1\" class=\"dataframe\">\n",
              "  <thead>\n",
              "    <tr style=\"text-align: right;\">\n",
              "      <th></th>\n",
              "      <th>Project Name</th>\n",
              "      <th>Package Name</th>\n",
              "      <th>Type Name</th>\n",
              "      <th>Code Smell</th>\n",
              "    </tr>\n",
              "  </thead>\n",
              "  <tbody>\n",
              "    <tr>\n",
              "      <th>0</th>\n",
              "      <td>cassandra</td>\n",
              "      <td>org.apache.cassandra.db</td>\n",
              "      <td>ClusteringBound</td>\n",
              "      <td>Deficient Encapsulation</td>\n",
              "    </tr>\n",
              "    <tr>\n",
              "      <th>1</th>\n",
              "      <td>cassandra</td>\n",
              "      <td>org.apache.cassandra.db</td>\n",
              "      <td>ClusteringBound</td>\n",
              "      <td>Broken Hierarchy</td>\n",
              "    </tr>\n",
              "    <tr>\n",
              "      <th>2</th>\n",
              "      <td>cassandra</td>\n",
              "      <td>org.apache.cassandra.db</td>\n",
              "      <td>ClusteringBound</td>\n",
              "      <td>Rebellious Hierarchy</td>\n",
              "    </tr>\n",
              "    <tr>\n",
              "      <th>3</th>\n",
              "      <td>cassandra</td>\n",
              "      <td>org.apache.cassandra.db</td>\n",
              "      <td>ClusteringBound</td>\n",
              "      <td>Cyclic-Dependent Modularization</td>\n",
              "    </tr>\n",
              "    <tr>\n",
              "      <th>4</th>\n",
              "      <td>cassandra</td>\n",
              "      <td>org.apache.cassandra.db</td>\n",
              "      <td>KeyspaceWriteHandler</td>\n",
              "      <td>Cyclic-Dependent Modularization</td>\n",
              "    </tr>\n",
              "    <tr>\n",
              "      <th>...</th>\n",
              "      <td>...</td>\n",
              "      <td>...</td>\n",
              "      <td>...</td>\n",
              "      <td>...</td>\n",
              "    </tr>\n",
              "    <tr>\n",
              "      <th>4145</th>\n",
              "      <td>cassandra</td>\n",
              "      <td>org.apache.cassandra.diag.store</td>\n",
              "      <td>DiagnosticEventMemoryStore</td>\n",
              "      <td>Unutilized Abstraction</td>\n",
              "    </tr>\n",
              "    <tr>\n",
              "      <th>4146</th>\n",
              "      <td>cassandra</td>\n",
              "      <td>org.apache.cassandra.triggers</td>\n",
              "      <td>CustomClassLoader</td>\n",
              "      <td>Unutilized Abstraction</td>\n",
              "    </tr>\n",
              "    <tr>\n",
              "      <th>4147</th>\n",
              "      <td>cassandra</td>\n",
              "      <td>org.apache.cassandra.triggers</td>\n",
              "      <td>ITrigger</td>\n",
              "      <td>Cyclic-Dependent Modularization</td>\n",
              "    </tr>\n",
              "    <tr>\n",
              "      <th>4148</th>\n",
              "      <td>cassandra</td>\n",
              "      <td>org.apache.cassandra.triggers</td>\n",
              "      <td>TriggerExecutor</td>\n",
              "      <td>Deficient Encapsulation</td>\n",
              "    </tr>\n",
              "    <tr>\n",
              "      <th>4149</th>\n",
              "      <td>cassandra</td>\n",
              "      <td>org.apache.cassandra.triggers</td>\n",
              "      <td>TriggerExecutor</td>\n",
              "      <td>Cyclic-Dependent Modularization</td>\n",
              "    </tr>\n",
              "  </tbody>\n",
              "</table>\n",
              "<p>4150 rows × 4 columns</p>\n",
              "</div>\n",
              "      <button class=\"colab-df-convert\" onclick=\"convertToInteractive('df-5aceefc6-7c5a-4284-a164-dedd12d36e70')\"\n",
              "              title=\"Convert this dataframe to an interactive table.\"\n",
              "              style=\"display:none;\">\n",
              "\n",
              "  <svg xmlns=\"http://www.w3.org/2000/svg\" height=\"24px\"viewBox=\"0 0 24 24\"\n",
              "       width=\"24px\">\n",
              "    <path d=\"M0 0h24v24H0V0z\" fill=\"none\"/>\n",
              "    <path d=\"M18.56 5.44l.94 2.06.94-2.06 2.06-.94-2.06-.94-.94-2.06-.94 2.06-2.06.94zm-11 1L8.5 8.5l.94-2.06 2.06-.94-2.06-.94L8.5 2.5l-.94 2.06-2.06.94zm10 10l.94 2.06.94-2.06 2.06-.94-2.06-.94-.94-2.06-.94 2.06-2.06.94z\"/><path d=\"M17.41 7.96l-1.37-1.37c-.4-.4-.92-.59-1.43-.59-.52 0-1.04.2-1.43.59L10.3 9.45l-7.72 7.72c-.78.78-.78 2.05 0 2.83L4 21.41c.39.39.9.59 1.41.59.51 0 1.02-.2 1.41-.59l7.78-7.78 2.81-2.81c.8-.78.8-2.07 0-2.86zM5.41 20L4 18.59l7.72-7.72 1.47 1.35L5.41 20z\"/>\n",
              "  </svg>\n",
              "      </button>\n",
              "\n",
              "\n",
              "\n",
              "    <div id=\"df-c053b2d7-cda5-488d-8b26-be05707b87c3\">\n",
              "      <button class=\"colab-df-quickchart\" onclick=\"quickchart('df-c053b2d7-cda5-488d-8b26-be05707b87c3')\"\n",
              "              title=\"Suggest charts.\"\n",
              "              style=\"display:none;\">\n",
              "\n",
              "<svg xmlns=\"http://www.w3.org/2000/svg\" height=\"24px\"viewBox=\"0 0 24 24\"\n",
              "     width=\"24px\">\n",
              "    <g>\n",
              "        <path d=\"M19 3H5c-1.1 0-2 .9-2 2v14c0 1.1.9 2 2 2h14c1.1 0 2-.9 2-2V5c0-1.1-.9-2-2-2zM9 17H7v-7h2v7zm4 0h-2V7h2v10zm4 0h-2v-4h2v4z\"/>\n",
              "    </g>\n",
              "</svg>\n",
              "      </button>\n",
              "    </div>\n",
              "\n",
              "<style>\n",
              "  .colab-df-quickchart {\n",
              "    background-color: #E8F0FE;\n",
              "    border: none;\n",
              "    border-radius: 50%;\n",
              "    cursor: pointer;\n",
              "    display: none;\n",
              "    fill: #1967D2;\n",
              "    height: 32px;\n",
              "    padding: 0 0 0 0;\n",
              "    width: 32px;\n",
              "  }\n",
              "\n",
              "  .colab-df-quickchart:hover {\n",
              "    background-color: #E2EBFA;\n",
              "    box-shadow: 0px 1px 2px rgba(60, 64, 67, 0.3), 0px 1px 3px 1px rgba(60, 64, 67, 0.15);\n",
              "    fill: #174EA6;\n",
              "  }\n",
              "\n",
              "  [theme=dark] .colab-df-quickchart {\n",
              "    background-color: #3B4455;\n",
              "    fill: #D2E3FC;\n",
              "  }\n",
              "\n",
              "  [theme=dark] .colab-df-quickchart:hover {\n",
              "    background-color: #434B5C;\n",
              "    box-shadow: 0px 1px 3px 1px rgba(0, 0, 0, 0.15);\n",
              "    filter: drop-shadow(0px 1px 2px rgba(0, 0, 0, 0.3));\n",
              "    fill: #FFFFFF;\n",
              "  }\n",
              "</style>\n",
              "\n",
              "    <script>\n",
              "      async function quickchart(key) {\n",
              "        const containerElement = document.querySelector('#' + key);\n",
              "        const charts = await google.colab.kernel.invokeFunction(\n",
              "            'suggestCharts', [key], {});\n",
              "      }\n",
              "    </script>\n",
              "\n",
              "      <script>\n",
              "\n",
              "function displayQuickchartButton(domScope) {\n",
              "  let quickchartButtonEl =\n",
              "    domScope.querySelector('#df-c053b2d7-cda5-488d-8b26-be05707b87c3 button.colab-df-quickchart');\n",
              "  quickchartButtonEl.style.display =\n",
              "    google.colab.kernel.accessAllowed ? 'block' : 'none';\n",
              "}\n",
              "\n",
              "        displayQuickchartButton(document);\n",
              "      </script>\n",
              "      <style>\n",
              "    .colab-df-container {\n",
              "      display:flex;\n",
              "      flex-wrap:wrap;\n",
              "      gap: 12px;\n",
              "    }\n",
              "\n",
              "    .colab-df-convert {\n",
              "      background-color: #E8F0FE;\n",
              "      border: none;\n",
              "      border-radius: 50%;\n",
              "      cursor: pointer;\n",
              "      display: none;\n",
              "      fill: #1967D2;\n",
              "      height: 32px;\n",
              "      padding: 0 0 0 0;\n",
              "      width: 32px;\n",
              "    }\n",
              "\n",
              "    .colab-df-convert:hover {\n",
              "      background-color: #E2EBFA;\n",
              "      box-shadow: 0px 1px 2px rgba(60, 64, 67, 0.3), 0px 1px 3px 1px rgba(60, 64, 67, 0.15);\n",
              "      fill: #174EA6;\n",
              "    }\n",
              "\n",
              "    [theme=dark] .colab-df-convert {\n",
              "      background-color: #3B4455;\n",
              "      fill: #D2E3FC;\n",
              "    }\n",
              "\n",
              "    [theme=dark] .colab-df-convert:hover {\n",
              "      background-color: #434B5C;\n",
              "      box-shadow: 0px 1px 3px 1px rgba(0, 0, 0, 0.15);\n",
              "      filter: drop-shadow(0px 1px 2px rgba(0, 0, 0, 0.3));\n",
              "      fill: #FFFFFF;\n",
              "    }\n",
              "  </style>\n",
              "\n",
              "      <script>\n",
              "        const buttonEl =\n",
              "          document.querySelector('#df-5aceefc6-7c5a-4284-a164-dedd12d36e70 button.colab-df-convert');\n",
              "        buttonEl.style.display =\n",
              "          google.colab.kernel.accessAllowed ? 'block' : 'none';\n",
              "\n",
              "        async function convertToInteractive(key) {\n",
              "          const element = document.querySelector('#df-5aceefc6-7c5a-4284-a164-dedd12d36e70');\n",
              "          const dataTable =\n",
              "            await google.colab.kernel.invokeFunction('convertToInteractive',\n",
              "                                                     [key], {});\n",
              "          if (!dataTable) return;\n",
              "\n",
              "          const docLinkHtml = 'Like what you see? Visit the ' +\n",
              "            '<a target=\"_blank\" href=https://colab.research.google.com/notebooks/data_table.ipynb>data table notebook</a>'\n",
              "            + ' to learn more about interactive tables.';\n",
              "          element.innerHTML = '';\n",
              "          dataTable['output_type'] = 'display_data';\n",
              "          await google.colab.output.renderOutput(dataTable, element);\n",
              "          const docLink = document.createElement('div');\n",
              "          docLink.innerHTML = docLinkHtml;\n",
              "          element.appendChild(docLink);\n",
              "        }\n",
              "      </script>\n",
              "    </div>\n",
              "  </div>\n"
            ],
            "text/plain": [
              "     Project Name                     Package Name  \\\n",
              "0       cassandra          org.apache.cassandra.db   \n",
              "1       cassandra          org.apache.cassandra.db   \n",
              "2       cassandra          org.apache.cassandra.db   \n",
              "3       cassandra          org.apache.cassandra.db   \n",
              "4       cassandra          org.apache.cassandra.db   \n",
              "...           ...                              ...   \n",
              "4145    cassandra  org.apache.cassandra.diag.store   \n",
              "4146    cassandra    org.apache.cassandra.triggers   \n",
              "4147    cassandra    org.apache.cassandra.triggers   \n",
              "4148    cassandra    org.apache.cassandra.triggers   \n",
              "4149    cassandra    org.apache.cassandra.triggers   \n",
              "\n",
              "                       Type Name                       Code Smell  \n",
              "0                ClusteringBound          Deficient Encapsulation  \n",
              "1                ClusteringBound                 Broken Hierarchy  \n",
              "2                ClusteringBound             Rebellious Hierarchy  \n",
              "3                ClusteringBound  Cyclic-Dependent Modularization  \n",
              "4           KeyspaceWriteHandler  Cyclic-Dependent Modularization  \n",
              "...                          ...                              ...  \n",
              "4145  DiagnosticEventMemoryStore           Unutilized Abstraction  \n",
              "4146           CustomClassLoader           Unutilized Abstraction  \n",
              "4147                    ITrigger  Cyclic-Dependent Modularization  \n",
              "4148             TriggerExecutor          Deficient Encapsulation  \n",
              "4149             TriggerExecutor  Cyclic-Dependent Modularization  \n",
              "\n",
              "[4150 rows x 4 columns]"
            ]
          },
          "execution_count": 53,
          "metadata": {},
          "output_type": "execute_result"
        }
      ],
      "source": [
        "df_design_smells"
      ]
    },
    {
      "cell_type": "code",
      "execution_count": null,
      "metadata": {
        "colab": {
          "base_uri": "https://localhost:8080/",
          "height": 771
        },
        "id": "1oeWHzco-X_o",
        "outputId": "2345375b-f941-413b-f724-10b0a4f43881"
      },
      "outputs": [
        {
          "data": {
            "text/html": [
              "\n",
              "\n",
              "  <div id=\"df-14a4789e-0f2d-49bf-ad9c-07fd18a42a24\">\n",
              "    <div class=\"colab-df-container\">\n",
              "      <div>\n",
              "<style scoped>\n",
              "    .dataframe tbody tr th:only-of-type {\n",
              "        vertical-align: middle;\n",
              "    }\n",
              "\n",
              "    .dataframe tbody tr th {\n",
              "        vertical-align: top;\n",
              "    }\n",
              "\n",
              "    .dataframe thead th {\n",
              "        text-align: right;\n",
              "    }\n",
              "</style>\n",
              "<table border=\"1\" class=\"dataframe\">\n",
              "  <thead>\n",
              "    <tr style=\"text-align: right;\">\n",
              "      <th></th>\n",
              "      <th>ProjectName</th>\n",
              "      <th>PackageName</th>\n",
              "      <th>TypeName</th>\n",
              "      <th>CodeSmell</th>\n",
              "    </tr>\n",
              "  </thead>\n",
              "  <tbody>\n",
              "    <tr>\n",
              "      <th>2869</th>\n",
              "      <td>cassandra</td>\n",
              "      <td>org.apache.cassandra.auth</td>\n",
              "      <td>AuthConfig</td>\n",
              "      <td>Cyclic-Dependent Modularization</td>\n",
              "    </tr>\n",
              "    <tr>\n",
              "      <th>2626</th>\n",
              "      <td>cassandra</td>\n",
              "      <td>org.apache.cassandra.service</td>\n",
              "      <td>CassandraDaemon</td>\n",
              "      <td>Cyclic-Dependent Modularization</td>\n",
              "    </tr>\n",
              "    <tr>\n",
              "      <th>176</th>\n",
              "      <td>cassandra</td>\n",
              "      <td>org.apache.cassandra.db</td>\n",
              "      <td>ColumnFamilyStore</td>\n",
              "      <td>Cyclic-Dependent Modularization</td>\n",
              "    </tr>\n",
              "    <tr>\n",
              "      <th>178</th>\n",
              "      <td>cassandra</td>\n",
              "      <td>org.apache.cassandra.db</td>\n",
              "      <td>ColumnFamilyStore</td>\n",
              "      <td>Hub-like Modularization</td>\n",
              "    </tr>\n",
              "    <tr>\n",
              "      <th>906</th>\n",
              "      <td>cassandra</td>\n",
              "      <td>org.apache.cassandra.db.compaction</td>\n",
              "      <td>CompactionManager</td>\n",
              "      <td>Cyclic-Dependent Modularization</td>\n",
              "    </tr>\n",
              "    <tr>\n",
              "      <th>908</th>\n",
              "      <td>cassandra</td>\n",
              "      <td>org.apache.cassandra.db.compaction</td>\n",
              "      <td>CompactionManager</td>\n",
              "      <td>Hub-like Modularization</td>\n",
              "    </tr>\n",
              "    <tr>\n",
              "      <th>3922</th>\n",
              "      <td>cassandra</td>\n",
              "      <td>org.apache.cassandra.config</td>\n",
              "      <td>Config</td>\n",
              "      <td>Cyclic-Dependent Modularization</td>\n",
              "    </tr>\n",
              "    <tr>\n",
              "      <th>741</th>\n",
              "      <td>cassandra</td>\n",
              "      <td>org.apache.cassandra.db.commitlog</td>\n",
              "      <td>Configuration</td>\n",
              "      <td>Cyclic-Dependent Modularization</td>\n",
              "    </tr>\n",
              "    <tr>\n",
              "      <th>3920</th>\n",
              "      <td>cassandra</td>\n",
              "      <td>org.apache.cassandra.config</td>\n",
              "      <td>DatabaseDescriptor</td>\n",
              "      <td>Hub-like Modularization</td>\n",
              "    </tr>\n",
              "    <tr>\n",
              "      <th>3918</th>\n",
              "      <td>cassandra</td>\n",
              "      <td>org.apache.cassandra.config</td>\n",
              "      <td>DatabaseDescriptor</td>\n",
              "      <td>Cyclic-Dependent Modularization</td>\n",
              "    </tr>\n",
              "    <tr>\n",
              "      <th>3028</th>\n",
              "      <td>cassandra</td>\n",
              "      <td>org.apache.cassandra.net</td>\n",
              "      <td>MessagingService</td>\n",
              "      <td>Cyclic-Dependent Modularization</td>\n",
              "    </tr>\n",
              "    <tr>\n",
              "      <th>3029</th>\n",
              "      <td>cassandra</td>\n",
              "      <td>org.apache.cassandra.net</td>\n",
              "      <td>MessagingService</td>\n",
              "      <td>Hub-like Modularization</td>\n",
              "    </tr>\n",
              "    <tr>\n",
              "      <th>3936</th>\n",
              "      <td>cassandra</td>\n",
              "      <td>org.apache.cassandra.tools</td>\n",
              "      <td>NodeProbe</td>\n",
              "      <td>Hub-like Modularization</td>\n",
              "    </tr>\n",
              "    <tr>\n",
              "      <th>3934</th>\n",
              "      <td>cassandra</td>\n",
              "      <td>org.apache.cassandra.tools</td>\n",
              "      <td>NodeProbe</td>\n",
              "      <td>Cyclic-Dependent Modularization</td>\n",
              "    </tr>\n",
              "    <tr>\n",
              "      <th>2472</th>\n",
              "      <td>cassandra</td>\n",
              "      <td>org.apache.cassandra.io.sstable.format</td>\n",
              "      <td>SSTableReader</td>\n",
              "      <td>Cyclic-Dependent Modularization</td>\n",
              "    </tr>\n",
              "    <tr>\n",
              "      <th>2474</th>\n",
              "      <td>cassandra</td>\n",
              "      <td>org.apache.cassandra.io.sstable.format</td>\n",
              "      <td>SSTableReader</td>\n",
              "      <td>Hub-like Modularization</td>\n",
              "    </tr>\n",
              "    <tr>\n",
              "      <th>2491</th>\n",
              "      <td>cassandra</td>\n",
              "      <td>org.apache.cassandra.io.sstable.format</td>\n",
              "      <td>SSTableReaderBuilder</td>\n",
              "      <td>Cyclic-Dependent Modularization</td>\n",
              "    </tr>\n",
              "    <tr>\n",
              "      <th>1881</th>\n",
              "      <td>cassandra</td>\n",
              "      <td>org.apache.cassandra.cql3.statements</td>\n",
              "      <td>SelectStatement</td>\n",
              "      <td>Cyclic-Dependent Modularization</td>\n",
              "    </tr>\n",
              "    <tr>\n",
              "      <th>272</th>\n",
              "      <td>cassandra</td>\n",
              "      <td>org.apache.cassandra.db</td>\n",
              "      <td>SinglePartitionReadCommand</td>\n",
              "      <td>Hub-like Modularization</td>\n",
              "    </tr>\n",
              "    <tr>\n",
              "      <th>270</th>\n",
              "      <td>cassandra</td>\n",
              "      <td>org.apache.cassandra.db</td>\n",
              "      <td>SinglePartitionReadCommand</td>\n",
              "      <td>Cyclic-Dependent Modularization</td>\n",
              "    </tr>\n",
              "    <tr>\n",
              "      <th>2680</th>\n",
              "      <td>cassandra</td>\n",
              "      <td>org.apache.cassandra.service</td>\n",
              "      <td>StorageProxy</td>\n",
              "      <td>Cyclic-Dependent Modularization</td>\n",
              "    </tr>\n",
              "    <tr>\n",
              "      <th>2678</th>\n",
              "      <td>cassandra</td>\n",
              "      <td>org.apache.cassandra.service</td>\n",
              "      <td>StorageService</td>\n",
              "      <td>Hub-like Modularization</td>\n",
              "    </tr>\n",
              "    <tr>\n",
              "      <th>2676</th>\n",
              "      <td>cassandra</td>\n",
              "      <td>org.apache.cassandra.service</td>\n",
              "      <td>StorageService</td>\n",
              "      <td>Cyclic-Dependent Modularization</td>\n",
              "    </tr>\n",
              "  </tbody>\n",
              "</table>\n",
              "</div>\n",
              "      <button class=\"colab-df-convert\" onclick=\"convertToInteractive('df-14a4789e-0f2d-49bf-ad9c-07fd18a42a24')\"\n",
              "              title=\"Convert this dataframe to an interactive table.\"\n",
              "              style=\"display:none;\">\n",
              "\n",
              "  <svg xmlns=\"http://www.w3.org/2000/svg\" height=\"24px\"viewBox=\"0 0 24 24\"\n",
              "       width=\"24px\">\n",
              "    <path d=\"M0 0h24v24H0V0z\" fill=\"none\"/>\n",
              "    <path d=\"M18.56 5.44l.94 2.06.94-2.06 2.06-.94-2.06-.94-.94-2.06-.94 2.06-2.06.94zm-11 1L8.5 8.5l.94-2.06 2.06-.94-2.06-.94L8.5 2.5l-.94 2.06-2.06.94zm10 10l.94 2.06.94-2.06 2.06-.94-2.06-.94-.94-2.06-.94 2.06-2.06.94z\"/><path d=\"M17.41 7.96l-1.37-1.37c-.4-.4-.92-.59-1.43-.59-.52 0-1.04.2-1.43.59L10.3 9.45l-7.72 7.72c-.78.78-.78 2.05 0 2.83L4 21.41c.39.39.9.59 1.41.59.51 0 1.02-.2 1.41-.59l7.78-7.78 2.81-2.81c.8-.78.8-2.07 0-2.86zM5.41 20L4 18.59l7.72-7.72 1.47 1.35L5.41 20z\"/>\n",
              "  </svg>\n",
              "      </button>\n",
              "\n",
              "\n",
              "\n",
              "    <div id=\"df-39b151da-e04a-49c2-bf7f-df99f36423d0\">\n",
              "      <button class=\"colab-df-quickchart\" onclick=\"quickchart('df-39b151da-e04a-49c2-bf7f-df99f36423d0')\"\n",
              "              title=\"Suggest charts.\"\n",
              "              style=\"display:none;\">\n",
              "\n",
              "<svg xmlns=\"http://www.w3.org/2000/svg\" height=\"24px\"viewBox=\"0 0 24 24\"\n",
              "     width=\"24px\">\n",
              "    <g>\n",
              "        <path d=\"M19 3H5c-1.1 0-2 .9-2 2v14c0 1.1.9 2 2 2h14c1.1 0 2-.9 2-2V5c0-1.1-.9-2-2-2zM9 17H7v-7h2v7zm4 0h-2V7h2v10zm4 0h-2v-4h2v4z\"/>\n",
              "    </g>\n",
              "</svg>\n",
              "      </button>\n",
              "    </div>\n",
              "\n",
              "<style>\n",
              "  .colab-df-quickchart {\n",
              "    background-color: #E8F0FE;\n",
              "    border: none;\n",
              "    border-radius: 50%;\n",
              "    cursor: pointer;\n",
              "    display: none;\n",
              "    fill: #1967D2;\n",
              "    height: 32px;\n",
              "    padding: 0 0 0 0;\n",
              "    width: 32px;\n",
              "  }\n",
              "\n",
              "  .colab-df-quickchart:hover {\n",
              "    background-color: #E2EBFA;\n",
              "    box-shadow: 0px 1px 2px rgba(60, 64, 67, 0.3), 0px 1px 3px 1px rgba(60, 64, 67, 0.15);\n",
              "    fill: #174EA6;\n",
              "  }\n",
              "\n",
              "  [theme=dark] .colab-df-quickchart {\n",
              "    background-color: #3B4455;\n",
              "    fill: #D2E3FC;\n",
              "  }\n",
              "\n",
              "  [theme=dark] .colab-df-quickchart:hover {\n",
              "    background-color: #434B5C;\n",
              "    box-shadow: 0px 1px 3px 1px rgba(0, 0, 0, 0.15);\n",
              "    filter: drop-shadow(0px 1px 2px rgba(0, 0, 0, 0.3));\n",
              "    fill: #FFFFFF;\n",
              "  }\n",
              "</style>\n",
              "\n",
              "    <script>\n",
              "      async function quickchart(key) {\n",
              "        const containerElement = document.querySelector('#' + key);\n",
              "        const charts = await google.colab.kernel.invokeFunction(\n",
              "            'suggestCharts', [key], {});\n",
              "      }\n",
              "    </script>\n",
              "\n",
              "      <script>\n",
              "\n",
              "function displayQuickchartButton(domScope) {\n",
              "  let quickchartButtonEl =\n",
              "    domScope.querySelector('#df-39b151da-e04a-49c2-bf7f-df99f36423d0 button.colab-df-quickchart');\n",
              "  quickchartButtonEl.style.display =\n",
              "    google.colab.kernel.accessAllowed ? 'block' : 'none';\n",
              "}\n",
              "\n",
              "        displayQuickchartButton(document);\n",
              "      </script>\n",
              "      <style>\n",
              "    .colab-df-container {\n",
              "      display:flex;\n",
              "      flex-wrap:wrap;\n",
              "      gap: 12px;\n",
              "    }\n",
              "\n",
              "    .colab-df-convert {\n",
              "      background-color: #E8F0FE;\n",
              "      border: none;\n",
              "      border-radius: 50%;\n",
              "      cursor: pointer;\n",
              "      display: none;\n",
              "      fill: #1967D2;\n",
              "      height: 32px;\n",
              "      padding: 0 0 0 0;\n",
              "      width: 32px;\n",
              "    }\n",
              "\n",
              "    .colab-df-convert:hover {\n",
              "      background-color: #E2EBFA;\n",
              "      box-shadow: 0px 1px 2px rgba(60, 64, 67, 0.3), 0px 1px 3px 1px rgba(60, 64, 67, 0.15);\n",
              "      fill: #174EA6;\n",
              "    }\n",
              "\n",
              "    [theme=dark] .colab-df-convert {\n",
              "      background-color: #3B4455;\n",
              "      fill: #D2E3FC;\n",
              "    }\n",
              "\n",
              "    [theme=dark] .colab-df-convert:hover {\n",
              "      background-color: #434B5C;\n",
              "      box-shadow: 0px 1px 3px 1px rgba(0, 0, 0, 0.15);\n",
              "      filter: drop-shadow(0px 1px 2px rgba(0, 0, 0, 0.3));\n",
              "      fill: #FFFFFF;\n",
              "    }\n",
              "  </style>\n",
              "\n",
              "      <script>\n",
              "        const buttonEl =\n",
              "          document.querySelector('#df-14a4789e-0f2d-49bf-ad9c-07fd18a42a24 button.colab-df-convert');\n",
              "        buttonEl.style.display =\n",
              "          google.colab.kernel.accessAllowed ? 'block' : 'none';\n",
              "\n",
              "        async function convertToInteractive(key) {\n",
              "          const element = document.querySelector('#df-14a4789e-0f2d-49bf-ad9c-07fd18a42a24');\n",
              "          const dataTable =\n",
              "            await google.colab.kernel.invokeFunction('convertToInteractive',\n",
              "                                                     [key], {});\n",
              "          if (!dataTable) return;\n",
              "\n",
              "          const docLinkHtml = 'Like what you see? Visit the ' +\n",
              "            '<a target=\"_blank\" href=https://colab.research.google.com/notebooks/data_table.ipynb>data table notebook</a>'\n",
              "            + ' to learn more about interactive tables.';\n",
              "          element.innerHTML = '';\n",
              "          dataTable['output_type'] = 'display_data';\n",
              "          await google.colab.output.renderOutput(dataTable, element);\n",
              "          const docLink = document.createElement('div');\n",
              "          docLink.innerHTML = docLinkHtml;\n",
              "          element.appendChild(docLink);\n",
              "        }\n",
              "      </script>\n",
              "    </div>\n",
              "  </div>\n"
            ],
            "text/plain": [
              "     ProjectName                             PackageName  \\\n",
              "2869   cassandra               org.apache.cassandra.auth   \n",
              "2626   cassandra            org.apache.cassandra.service   \n",
              "176    cassandra                 org.apache.cassandra.db   \n",
              "178    cassandra                 org.apache.cassandra.db   \n",
              "906    cassandra      org.apache.cassandra.db.compaction   \n",
              "908    cassandra      org.apache.cassandra.db.compaction   \n",
              "3922   cassandra             org.apache.cassandra.config   \n",
              "741    cassandra       org.apache.cassandra.db.commitlog   \n",
              "3920   cassandra             org.apache.cassandra.config   \n",
              "3918   cassandra             org.apache.cassandra.config   \n",
              "3028   cassandra                org.apache.cassandra.net   \n",
              "3029   cassandra                org.apache.cassandra.net   \n",
              "3936   cassandra              org.apache.cassandra.tools   \n",
              "3934   cassandra              org.apache.cassandra.tools   \n",
              "2472   cassandra  org.apache.cassandra.io.sstable.format   \n",
              "2474   cassandra  org.apache.cassandra.io.sstable.format   \n",
              "2491   cassandra  org.apache.cassandra.io.sstable.format   \n",
              "1881   cassandra    org.apache.cassandra.cql3.statements   \n",
              "272    cassandra                 org.apache.cassandra.db   \n",
              "270    cassandra                 org.apache.cassandra.db   \n",
              "2680   cassandra            org.apache.cassandra.service   \n",
              "2678   cassandra            org.apache.cassandra.service   \n",
              "2676   cassandra            org.apache.cassandra.service   \n",
              "\n",
              "                        TypeName                        CodeSmell  \n",
              "2869                  AuthConfig  Cyclic-Dependent Modularization  \n",
              "2626             CassandraDaemon  Cyclic-Dependent Modularization  \n",
              "176            ColumnFamilyStore  Cyclic-Dependent Modularization  \n",
              "178            ColumnFamilyStore          Hub-like Modularization  \n",
              "906            CompactionManager  Cyclic-Dependent Modularization  \n",
              "908            CompactionManager          Hub-like Modularization  \n",
              "3922                      Config  Cyclic-Dependent Modularization  \n",
              "741                Configuration  Cyclic-Dependent Modularization  \n",
              "3920          DatabaseDescriptor          Hub-like Modularization  \n",
              "3918          DatabaseDescriptor  Cyclic-Dependent Modularization  \n",
              "3028            MessagingService  Cyclic-Dependent Modularization  \n",
              "3029            MessagingService          Hub-like Modularization  \n",
              "3936                   NodeProbe          Hub-like Modularization  \n",
              "3934                   NodeProbe  Cyclic-Dependent Modularization  \n",
              "2472               SSTableReader  Cyclic-Dependent Modularization  \n",
              "2474               SSTableReader          Hub-like Modularization  \n",
              "2491        SSTableReaderBuilder  Cyclic-Dependent Modularization  \n",
              "1881             SelectStatement  Cyclic-Dependent Modularization  \n",
              "272   SinglePartitionReadCommand          Hub-like Modularization  \n",
              "270   SinglePartitionReadCommand  Cyclic-Dependent Modularization  \n",
              "2680                StorageProxy  Cyclic-Dependent Modularization  \n",
              "2678              StorageService          Hub-like Modularization  \n",
              "2676              StorageService  Cyclic-Dependent Modularization  "
            ]
          },
          "execution_count": 54,
          "metadata": {},
          "output_type": "execute_result"
        }
      ],
      "source": [
        "df_analise_designite_critical_classes"
      ]
    },
    {
      "cell_type": "code",
      "execution_count": 25,
      "metadata": {
        "colab": {
          "base_uri": "https://localhost:8080/"
        },
        "id": "kldULfi0AUjc",
        "outputId": "a279e2fa-514f-48bd-f766-88adb4c1a2f5"
      },
      "outputs": [
        {
          "name": "stdout",
          "output_type": "stream",
          "text": [
            "8 classes_com_cd_hld: ['ColumnFamilyStore', 'CompactionManager', 'DatabaseDescriptor', 'MessagingService', 'NodeProbe', 'SSTableReader', 'SinglePartitionReadCommand', 'StorageService']\n"
          ]
        }
      ],
      "source": [
        "classes_com_cd_hld3 = strings_repetidas(lista_strings=lista_classes_criticas3)\n",
        "print(f'{len(classes_com_cd_hld3)} classes_com_cd_hld: {classes_com_cd_hld3}')"
      ]
    },
    {
      "cell_type": "code",
      "execution_count": 34,
      "metadata": {
        "colab": {
          "base_uri": "https://localhost:8080/"
        },
        "id": "DcXXl8bNTIq-",
        "outputId": "0731ade6-7417-4686-9b27-a4a4d9e3793f"
      },
      "outputs": [
        {
          "name": "stdout",
          "output_type": "stream",
          "text": [
            "\u001b[33mcommit 902b4d31772eaa84f05ffdc1e4f4b7a66d5b17e6\u001b[m\u001b[33m (\u001b[m\u001b[1;36mHEAD\u001b[m\u001b[33m, \u001b[m\u001b[1;33mtag: cassandra-4.0.0\u001b[m\u001b[33m)\u001b[m\n",
            "Author: Brandon Williams <brandonwilliams@apache.org>\n",
            "Date:   Thu Jul 22 12:51:39 2021 -0500\n",
            "\n",
            "    Prepare debian changelog for 4.0.0\n"
          ]
        }
      ],
      "source": [
        "!cd cassandra_4_0_0 && git log -n 1"
      ]
    },
    {
      "cell_type": "markdown",
      "metadata": {
        "id": "W6RqEs7w5nnC"
      },
      "source": [
        "## 4.1.0"
      ]
    },
    {
      "cell_type": "code",
      "execution_count": 26,
      "metadata": {
        "colab": {
          "base_uri": "https://localhost:8080/"
        },
        "id": "nSWEnHDu5pwe",
        "outputId": "634a4b82-09a5-4b5b-9b40-6d5d47aba52c"
      },
      "outputs": [
        {
          "name": "stdout",
          "output_type": "stream",
          "text": [
            "Checkout do repositorio no commit f9e033f519c14596da4dc954875756a69aea4e78 realizado com sucesso!\n"
          ]
        }
      ],
      "source": [
        "# Cria uma nova pasta para referenciar apenas os dados do 1o commit\n",
        "commit_tag_410 = get_commit_tag(tag='cassandra-4.1.0')\n",
        "cria_pasta_n_commit(repositorio='cassandra', pasta_n_commit='cassandra_4_1_0')\n",
        "checkout_n_commit('cassandra_4_1_0', commit_tag_410[0])"
      ]
    },
    {
      "cell_type": "code",
      "execution_count": 27,
      "metadata": {
        "colab": {
          "base_uri": "https://localhost:8080/"
        },
        "id": "xt5KqYfJ6nV_",
        "outputId": "6b622b01-eb02-4bca-bc79-e4844b26840f"
      },
      "outputs": [
        {
          "name": "stdout",
          "output_type": "stream",
          "text": [
            "Aguarde...\n",
            "Parsing the source code ...\n",
            "Resolving symbols...\n",
            "Extracting metrics...\n",
            "Extracting code smells...\n",
            "Exception while parsing literal number (during Magic Number detection). For input string: \"8000000000000000\"\n",
            "Exception while parsing literal number (during Magic Number detection). For input string: \"ff00000000000000\"\n",
            "Exception while parsing literal number (during Magic Number detection). For input string: \"8000000000000000\"\n",
            "Exception while parsing literal number (during Magic Number detection). For input string: \"ff00000000000000\"\n",
            "Exception while parsing literal number (during Magic Number detection). For input string: \"c6a4a7935bd1e995\"\n",
            "Exception while parsing literal number (during Magic Number detection). For input string: \"ff51afd7ed558ccd\"\n",
            "Exception while parsing literal number (during Magic Number detection). For input string: \"c4ceb9fe1a85ec53\"\n",
            "Exception while parsing literal number (during Magic Number detection). For input string: \"87c37b91114253d5\"\n",
            "Exception while parsing literal number (during Magic Number detection). For input string: \"ffffffffffffffff\"\n",
            "Exception while parsing literal number (during Magic Number detection). For input string: \"9cb4b2f8129337db\"\n",
            "Exception while parsing literal number (during Magic Number detection). For input string: \"a98409e882ce4d7d\"\n",
            "Exception while parsing literal number (during Magic Number detection). For input string: \"a81e14edd9de2c7f\"\n",
            "Exception while parsing literal number (during Magic Number detection). For input string: \"cccccccccccccccd\"\n",
            "Exception while parsing literal number (during Magic Number detection). For input string: \"cccccccccccccccd\"\n",
            "Exception while parsing literal number (during Magic Number detection). For input string: \"c000000000000000\"\n",
            "Exception while parsing literal number (during Magic Number detection). For input string: \"ffffffffffffffff\"\n",
            "Exception while parsing literal number (during Magic Number detection). For input string: \"ffffffffffffffff\"\n",
            "Exception while parsing literal number (during Magic Number detection). For input string: \"ffffffffffffffff\"\n",
            "Exception while parsing literal number (during Magic Number detection). For input string: \"ffffffffffffffff\"\n",
            "Exception while parsing literal number (during Magic Number detection). For input string: \"ffffffff00000000\"\n",
            "Exception while parsing literal number (during Magic Number detection). For input string: \"ffffffff00000000\"\n",
            "Done.\n",
            "Análise DesigniteJava concluída em 0:02:36.103596h!\n"
          ]
        }
      ],
      "source": [
        "print('Aguarde...')\n",
        "t1 = datetime.datetime.now()\n",
        "!java -jar DesigniteJava.jar -i cassandra_4_1_0/src/java/org/apache/cassandra -o cassandra_4_1_0\n",
        "t2 = datetime.datetime.now()\n",
        "print(f'Análise DesigniteJava concluída em {t2-t1}h!')"
      ]
    },
    {
      "cell_type": "code",
      "execution_count": 28,
      "metadata": {
        "id": "OdFLFFLW5zgz"
      },
      "outputs": [],
      "source": [
        "df_design_smells4 = pd.read_csv('cassandra_4_1_0/designCodeSmells.csv')\n",
        "pesquisa2 = df_design_smells4['Type Name'].str.contains('|'.join(lista_classes_criticas))\n",
        "df_critical_classes4 = df_design_smells4[pesquisa2]\n",
        "df_critical_classes4.columns = ['ProjectName', 'PackageName', 'TypeName', 'CodeSmell']\n",
        "df_critical_classes4 = df_critical_classes4.query(\"CodeSmell=='Cyclic-Dependent Modularization' or CodeSmell=='Hub-like Modularization'\")\n",
        "df_analise_designite_critical_classes4 = df_critical_classes4.sort_values(by='TypeName')\n",
        "df_analise_designite_critical_classes4.to_csv('cassandra_4_1_0/analise_designite_classes_criticas.csv', index=False)\n",
        "df_design_smells4.to_csv('cassandra_4_1_0/analise_designite.csv', index=False)\n",
        "\n",
        "lista_classes_criticas4 = df_analise_designite_critical_classes4['TypeName'].to_list()"
      ]
    },
    {
      "cell_type": "code",
      "execution_count": 29,
      "metadata": {
        "colab": {
          "base_uri": "https://localhost:8080/"
        },
        "id": "fIOiUzJbCga4",
        "outputId": "26e624e5-d1f5-4c0e-fdba-ddac7a600854"
      },
      "outputs": [
        {
          "name": "stdout",
          "output_type": "stream",
          "text": [
            "8 classes_com_cd_hld: ['ColumnFamilyStore', 'CompactionManager', 'DatabaseDescriptor', 'MessagingService', 'NodeProbe', 'SSTableReader', 'SinglePartitionReadCommand', 'StorageService']\n"
          ]
        }
      ],
      "source": [
        "classes_com_cd_hld4 = strings_repetidas(lista_strings=lista_classes_criticas4)\n",
        "print(f'{len(classes_com_cd_hld4)} classes_com_cd_hld: {classes_com_cd_hld4}')"
      ]
    },
    {
      "cell_type": "code",
      "execution_count": 33,
      "metadata": {
        "colab": {
          "base_uri": "https://localhost:8080/"
        },
        "id": "BQHawrCYSqWU",
        "outputId": "a657c855-702f-4312-aea7-38e5e6077e77"
      },
      "outputs": [
        {
          "name": "stdout",
          "output_type": "stream",
          "text": [
            "\u001b[33mcommit f9e033f519c14596da4dc954875756a69aea4e78\u001b[m\u001b[33m (\u001b[m\u001b[1;36mHEAD\u001b[m\u001b[33m, \u001b[m\u001b[1;33mtag: cassandra-4.1.0\u001b[m\u001b[33m)\u001b[m\n",
            "Author: Mick Semb Wever <mck@apache.org>\n",
            "Date:   Wed Dec 7 21:53:57 2022 +0100\n",
            "\n",
            "    Prepare debian changelog for 4.1.0\n"
          ]
        }
      ],
      "source": [
        "!cd cassandra_4_1_0 && git log -n 1"
      ]
    },
    {
      "cell_type": "code",
      "execution_count": null,
      "metadata": {
        "id": "9NkU0i8rSvNr"
      },
      "outputs": [],
      "source": []
    }
  ],
  "metadata": {
    "colab": {
      "authorship_tag": "ABX9TyMQ5+p5V5ZuDviDgqlaI10X",
      "include_colab_link": true,
      "mount_file_id": "1-TRRTXvqiyglFtQctO4lZl7oi6afnxoC",
      "provenance": []
    },
    "kernelspec": {
      "display_name": "Python 3",
      "name": "python3"
    },
    "language_info": {
      "name": "python"
    }
  },
  "nbformat": 4,
  "nbformat_minor": 0
}
