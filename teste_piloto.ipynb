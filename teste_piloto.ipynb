{
  "nbformat": 4,
  "nbformat_minor": 0,
  "metadata": {
    "colab": {
      "provenance": [],
      "collapsed_sections": [
        "iTE8sMCseKAf",
        "D_GfiBcSX2Oe",
        "rgJqmHJsX4z8",
        "Cr7oiQm8g-75",
        "HuC8vC-e-Sh-",
        "6q2qrxzL-aQl"
      ],
      "authorship_tag": "ABX9TyMeuaic2anaUfy9PbYYDnGl",
      "include_colab_link": true
    },
    "kernelspec": {
      "name": "python3",
      "display_name": "Python 3"
    },
    "language_info": {
      "name": "python"
    }
  },
  "cells": [
    {
      "cell_type": "markdown",
      "metadata": {
        "id": "view-in-github",
        "colab_type": "text"
      },
      "source": [
        "<a href=\"https://colab.research.google.com/github/armandossrecife/piloto/blob/main/teste_piloto.ipynb\" target=\"_parent\"><img src=\"https://colab.research.google.com/assets/colab-badge.svg\" alt=\"Open In Colab\"/></a>"
      ]
    },
    {
      "cell_type": "markdown",
      "source": [
        "# Importa módulos de dependências"
      ],
      "metadata": {
        "id": "iTE8sMCseKAf"
      }
    },
    {
      "cell_type": "code",
      "source": [
        "!rm -rf promocity\n",
        "!rm -rf accumulated*\n",
        "!rm -rf dao.py\n",
        "!rm -rf my_promocity.db\n",
        "!rm -rf boxplot_com*\n",
        "!rm -rf promocity_commits.csv\n",
        "!rm -rf utils.py\n",
        "!rm -rf requirements.txt"
      ],
      "metadata": {
        "id": "fEc0cIejxnlK"
      },
      "execution_count": 1,
      "outputs": []
    },
    {
      "cell_type": "code",
      "execution_count": 2,
      "metadata": {
        "colab": {
          "base_uri": "https://localhost:8080/"
        },
        "id": "9KshSK3-RcOU",
        "outputId": "7ac0e010-6319-4d52-84d4-3592e83f730d"
      },
      "outputs": [
        {
          "output_type": "stream",
          "name": "stdout",
          "text": [
            "Teste de análise de repositorios\n",
            "Faz o dowload das dependências...\n",
            "Download do requirements.txt concluído com sucesso!\n",
            "Download do dao.py concluído com sucesso!\n",
            "Download do utils.py concluído com sucesso!\n",
            "Dependências instaladas com sucesso!\n"
          ]
        }
      ],
      "source": [
        "import utilidades\n",
        "\n",
        "# 1. Carrega dependencias\n",
        "utilidades.carrega_dependencias()"
      ]
    },
    {
      "cell_type": "code",
      "source": [
        "import extracao\n",
        "\n",
        "# extrai informacoes de commits e arquivos modificados em cada commmit\n",
        "extracao.extrai_informacoes_repositorio(my_repositorio='https://github.com/armandossrecife/promocity.git')"
      ],
      "metadata": {
        "colab": {
          "base_uri": "https://localhost:8080/"
        },
        "id": "O0UZb8F5MtEN",
        "outputId": "306e6735-4484-4877-feb9-a3855c7b75ee"
      },
      "execution_count": 3,
      "outputs": [
        {
          "output_type": "stream",
          "name": "stdout",
          "text": [
            "Clona repositório promocity\n",
            "Repositorio clonado com sucesso!\n",
            "Cria a sessão de banco de dados\n",
            "Cria as tabelas do banco\n",
            "Tabelas criadas com sucesso!\n",
            "Analisa commits e arquivos modificados. Aguarde...\n",
            "Sessão de banco de dados fechada!\n",
            "Quantidade de commits analisados: 91\n",
            "Tempo de análise: 0:00:26.139899\n"
          ]
        }
      ]
    },
    {
      "cell_type": "code",
      "source": [
        "!sudo apt install sqlite"
      ],
      "metadata": {
        "colab": {
          "base_uri": "https://localhost:8080/"
        },
        "id": "_0fQdPrqSDwY",
        "outputId": "d266831d-ebf7-413d-ba35-fd95d1cccdef"
      },
      "execution_count": 55,
      "outputs": [
        {
          "output_type": "stream",
          "name": "stdout",
          "text": [
            "Reading package lists... Done\n",
            "Building dependency tree       \n",
            "Reading state information... Done\n",
            "sqlite is already the newest version (2.8.17-15fakesync1build1).\n",
            "0 upgraded, 0 newly installed, 0 to remove and 15 not upgraded.\n"
          ]
        }
      ]
    },
    {
      "cell_type": "code",
      "source": [
        "!sqlite3 my_promocity.db"
      ],
      "metadata": {
        "colab": {
          "base_uri": "https://localhost:8080/"
        },
        "id": "WiMxqLOcSbXH",
        "outputId": "f5362180-cac2-4940-ea4d-f4a3d28cb3dc"
      },
      "execution_count": 3,
      "outputs": [
        {
          "output_type": "stream",
          "name": "stdout",
          "text": [
            "SQLite version 3.31.1 2020-01-27 19:55:54\n",
            "Enter \".help\" for usage hints.\n",
            "sqlite> .tables\n",
            "commitscomplete  filescomplete  \n",
            "sqlite> .exit\n"
          ]
        }
      ]
    },
    {
      "cell_type": "markdown",
      "source": [
        "# Carrega DataFrames"
      ],
      "metadata": {
        "id": "u9T35xc6Xx4_"
      }
    },
    {
      "cell_type": "markdown",
      "source": [
        "## Chamada principal"
      ],
      "metadata": {
        "id": "D_GfiBcSX2Oe"
      }
    },
    {
      "cell_type": "code",
      "source": [
        "import carrega_dataframes\n",
        "\n",
        "banco = carrega_dataframes.DATA_BASE\n",
        "df_commits_from_db, df_files_from_db, df_files_commits_from_db = carrega_dataframes.load_dataframes(database_name=banco)"
      ],
      "metadata": {
        "id": "7EAB26S8T1bg"
      },
      "execution_count": 120,
      "outputs": []
    },
    {
      "cell_type": "markdown",
      "source": [
        "## Consultas nos dataframes"
      ],
      "metadata": {
        "id": "rgJqmHJsX4z8"
      }
    },
    {
      "cell_type": "code",
      "source": [
        "# Faz alguns ajustes nos dataframes\n",
        "df_files_from_db['modified_lines'] = df_files_from_db.added_lines + df_files_from_db.deleted_lines\n",
        "df_files_commits_from_db['modified_lines'] = df_files_commits_from_db.file_added_lines + df_files_commits_from_db.file_deleted_lines"
      ],
      "metadata": {
        "id": "HVNg1buZWHTc"
      },
      "execution_count": 121,
      "outputs": []
    },
    {
      "cell_type": "code",
      "source": [
        "df_files_from_db.info()"
      ],
      "metadata": {
        "colab": {
          "base_uri": "https://localhost:8080/"
        },
        "id": "ykeWJVdQOQMZ",
        "outputId": "fb1d2270-7b65-42ff-bcf3-7db9ab8962c7"
      },
      "execution_count": 122,
      "outputs": [
        {
          "output_type": "stream",
          "name": "stdout",
          "text": [
            "<class 'pandas.core.frame.DataFrame'>\n",
            "RangeIndex: 231 entries, 0 to 230\n",
            "Data columns (total 24 columns):\n",
            " #   Column              Non-Null Count  Dtype  \n",
            "---  ------              --------------  -----  \n",
            " 0   id                  231 non-null    int64  \n",
            " 1   name                231 non-null    object \n",
            " 2   hash                231 non-null    object \n",
            " 3   description         0 non-null      object \n",
            " 4   is_java             231 non-null    int64  \n",
            " 5   created_date        231 non-null    object \n",
            " 6   old_path            147 non-null    object \n",
            " 7   new_path            225 non-null    object \n",
            " 8   filename            231 non-null    object \n",
            " 9   change_type         231 non-null    object \n",
            " 10  diff                231 non-null    object \n",
            " 11  diff_parsed         231 non-null    object \n",
            " 12  added_lines         231 non-null    int64  \n",
            " 13  deleted_lines       231 non-null    int64  \n",
            " 14  source_code         231 non-null    object \n",
            " 15  source_code_before  231 non-null    object \n",
            " 16  methods             231 non-null    object \n",
            " 17  methods_before      231 non-null    object \n",
            " 18  changed_methods     231 non-null    object \n",
            " 19  nloc                162 non-null    float64\n",
            " 20  complexity          162 non-null    float64\n",
            " 21  token_count         162 non-null    float64\n",
            " 22  commit_id           231 non-null    int64  \n",
            " 23  modified_lines      231 non-null    int64  \n",
            "dtypes: float64(3), int64(6), object(15)\n",
            "memory usage: 43.4+ KB\n"
          ]
        }
      ]
    },
    {
      "cell_type": "code",
      "source": [
        "df_commits_from_db.info()"
      ],
      "metadata": {
        "colab": {
          "base_uri": "https://localhost:8080/"
        },
        "id": "VoMn1t0YXSsF",
        "outputId": "34905395-2951-4237-9e16-d76eb59795c0"
      },
      "execution_count": 123,
      "outputs": [
        {
          "output_type": "stream",
          "name": "stdout",
          "text": [
            "<class 'pandas.core.frame.DataFrame'>\n",
            "RangeIndex: 91 entries, 0 to 90\n",
            "Data columns (total 24 columns):\n",
            " #   Column                Non-Null Count  Dtype  \n",
            "---  ------                --------------  -----  \n",
            " 0   id                    91 non-null     int64  \n",
            " 1   name                  91 non-null     object \n",
            " 2   hash                  91 non-null     object \n",
            " 3   msg                   91 non-null     object \n",
            " 4   author                91 non-null     object \n",
            " 5   committer             91 non-null     object \n",
            " 6   author_date           91 non-null     object \n",
            " 7   author_timezone       91 non-null     int64  \n",
            " 8   committer_date        91 non-null     object \n",
            " 9   committer_timezone    91 non-null     int64  \n",
            " 10  branches              91 non-null     object \n",
            " 11  in_main_branch        91 non-null     int64  \n",
            " 12  merge                 91 non-null     int64  \n",
            " 13  modified_files        91 non-null     object \n",
            " 14  parents               91 non-null     object \n",
            " 15  project_name          91 non-null     object \n",
            " 16  project_path          91 non-null     object \n",
            " 17  deletions             91 non-null     int64  \n",
            " 18  insertions            91 non-null     int64  \n",
            " 19  lines                 91 non-null     int64  \n",
            " 20  files                 91 non-null     int64  \n",
            " 21  dmm_unit_size         29 non-null     float64\n",
            " 22  dmm_unit_complexity   29 non-null     float64\n",
            " 23  dmm_unit_interfacing  29 non-null     float64\n",
            "dtypes: float64(3), int64(9), object(12)\n",
            "memory usage: 17.2+ KB\n"
          ]
        }
      ]
    },
    {
      "cell_type": "code",
      "source": [
        "# procura por um commit especifico\n",
        "df_commits_from_db[['hash', 'modified_files']].query(\"hash == 'fc85e473f543f543c68110d62624180fc3b24606'\")"
      ],
      "metadata": {
        "colab": {
          "base_uri": "https://localhost:8080/",
          "height": 0
        },
        "id": "W2W-zzJVWuto",
        "outputId": "54ab6104-f5d8-49e1-a0f9-907c5224521d"
      },
      "execution_count": 124,
      "outputs": [
        {
          "output_type": "execute_result",
          "data": {
            "text/plain": [
              "                                       hash  \\\n",
              "1  fc85e473f543f543c68110d62624180fc3b24606   \n",
              "\n",
              "                                      modified_files  \n",
              "1  pom.xml,BackendApplication.java,GenericExcepti...  "
            ],
            "text/html": [
              "\n",
              "  <div id=\"df-94c1ebee-0bd8-4fe0-9228-20134f605f9c\">\n",
              "    <div class=\"colab-df-container\">\n",
              "      <div>\n",
              "<style scoped>\n",
              "    .dataframe tbody tr th:only-of-type {\n",
              "        vertical-align: middle;\n",
              "    }\n",
              "\n",
              "    .dataframe tbody tr th {\n",
              "        vertical-align: top;\n",
              "    }\n",
              "\n",
              "    .dataframe thead th {\n",
              "        text-align: right;\n",
              "    }\n",
              "</style>\n",
              "<table border=\"1\" class=\"dataframe\">\n",
              "  <thead>\n",
              "    <tr style=\"text-align: right;\">\n",
              "      <th></th>\n",
              "      <th>hash</th>\n",
              "      <th>modified_files</th>\n",
              "    </tr>\n",
              "  </thead>\n",
              "  <tbody>\n",
              "    <tr>\n",
              "      <th>1</th>\n",
              "      <td>fc85e473f543f543c68110d62624180fc3b24606</td>\n",
              "      <td>pom.xml,BackendApplication.java,GenericExcepti...</td>\n",
              "    </tr>\n",
              "  </tbody>\n",
              "</table>\n",
              "</div>\n",
              "      <button class=\"colab-df-convert\" onclick=\"convertToInteractive('df-94c1ebee-0bd8-4fe0-9228-20134f605f9c')\"\n",
              "              title=\"Convert this dataframe to an interactive table.\"\n",
              "              style=\"display:none;\">\n",
              "        \n",
              "  <svg xmlns=\"http://www.w3.org/2000/svg\" height=\"24px\"viewBox=\"0 0 24 24\"\n",
              "       width=\"24px\">\n",
              "    <path d=\"M0 0h24v24H0V0z\" fill=\"none\"/>\n",
              "    <path d=\"M18.56 5.44l.94 2.06.94-2.06 2.06-.94-2.06-.94-.94-2.06-.94 2.06-2.06.94zm-11 1L8.5 8.5l.94-2.06 2.06-.94-2.06-.94L8.5 2.5l-.94 2.06-2.06.94zm10 10l.94 2.06.94-2.06 2.06-.94-2.06-.94-.94-2.06-.94 2.06-2.06.94z\"/><path d=\"M17.41 7.96l-1.37-1.37c-.4-.4-.92-.59-1.43-.59-.52 0-1.04.2-1.43.59L10.3 9.45l-7.72 7.72c-.78.78-.78 2.05 0 2.83L4 21.41c.39.39.9.59 1.41.59.51 0 1.02-.2 1.41-.59l7.78-7.78 2.81-2.81c.8-.78.8-2.07 0-2.86zM5.41 20L4 18.59l7.72-7.72 1.47 1.35L5.41 20z\"/>\n",
              "  </svg>\n",
              "      </button>\n",
              "      \n",
              "  <style>\n",
              "    .colab-df-container {\n",
              "      display:flex;\n",
              "      flex-wrap:wrap;\n",
              "      gap: 12px;\n",
              "    }\n",
              "\n",
              "    .colab-df-convert {\n",
              "      background-color: #E8F0FE;\n",
              "      border: none;\n",
              "      border-radius: 50%;\n",
              "      cursor: pointer;\n",
              "      display: none;\n",
              "      fill: #1967D2;\n",
              "      height: 32px;\n",
              "      padding: 0 0 0 0;\n",
              "      width: 32px;\n",
              "    }\n",
              "\n",
              "    .colab-df-convert:hover {\n",
              "      background-color: #E2EBFA;\n",
              "      box-shadow: 0px 1px 2px rgba(60, 64, 67, 0.3), 0px 1px 3px 1px rgba(60, 64, 67, 0.15);\n",
              "      fill: #174EA6;\n",
              "    }\n",
              "\n",
              "    [theme=dark] .colab-df-convert {\n",
              "      background-color: #3B4455;\n",
              "      fill: #D2E3FC;\n",
              "    }\n",
              "\n",
              "    [theme=dark] .colab-df-convert:hover {\n",
              "      background-color: #434B5C;\n",
              "      box-shadow: 0px 1px 3px 1px rgba(0, 0, 0, 0.15);\n",
              "      filter: drop-shadow(0px 1px 2px rgba(0, 0, 0, 0.3));\n",
              "      fill: #FFFFFF;\n",
              "    }\n",
              "  </style>\n",
              "\n",
              "      <script>\n",
              "        const buttonEl =\n",
              "          document.querySelector('#df-94c1ebee-0bd8-4fe0-9228-20134f605f9c button.colab-df-convert');\n",
              "        buttonEl.style.display =\n",
              "          google.colab.kernel.accessAllowed ? 'block' : 'none';\n",
              "\n",
              "        async function convertToInteractive(key) {\n",
              "          const element = document.querySelector('#df-94c1ebee-0bd8-4fe0-9228-20134f605f9c');\n",
              "          const dataTable =\n",
              "            await google.colab.kernel.invokeFunction('convertToInteractive',\n",
              "                                                     [key], {});\n",
              "          if (!dataTable) return;\n",
              "\n",
              "          const docLinkHtml = 'Like what you see? Visit the ' +\n",
              "            '<a target=\"_blank\" href=https://colab.research.google.com/notebooks/data_table.ipynb>data table notebook</a>'\n",
              "            + ' to learn more about interactive tables.';\n",
              "          element.innerHTML = '';\n",
              "          dataTable['output_type'] = 'display_data';\n",
              "          await google.colab.output.renderOutput(dataTable, element);\n",
              "          const docLink = document.createElement('div');\n",
              "          docLink.innerHTML = docLinkHtml;\n",
              "          element.appendChild(docLink);\n",
              "        }\n",
              "      </script>\n",
              "    </div>\n",
              "  </div>\n",
              "  "
            ]
          },
          "metadata": {},
          "execution_count": 124
        }
      ]
    },
    {
      "cell_type": "code",
      "source": [
        "# Lista todos os arquivos e seus commits\n",
        "df_files_from_db[['name', 'hash']].sort_values('name')"
      ],
      "metadata": {
        "colab": {
          "base_uri": "https://localhost:8080/",
          "height": 0
        },
        "id": "vjRZVnJVXPD1",
        "outputId": "872a3c74-977e-4e02-cac5-4ad0caf7b37a"
      },
      "execution_count": 125,
      "outputs": [
        {
          "output_type": "execute_result",
          "data": {
            "text/plain": [
              "                        name                                      hash\n",
              "60        AbstractModel.java  415fa2a5d1c5ce0351620b7418d223bbd7805f5c\n",
              "100       AbstractModel.java  c14eddec7949328d89eeb2ebfc262d9905d15de2\n",
              "64      AbstractService.java  415fa2a5d1c5ce0351620b7418d223bbd7805f5c\n",
              "2    BackendApplication.java  fc85e473f543f543c68110d62624180fc3b24606\n",
              "38   BackendApplication.java  507ade676867670ccfa22b214d6dc13af408c3a3\n",
              "..                       ...                                       ...\n",
              "178       teste-promocity.sh  0e5e2ebd754dc63a2de0fa32f528426a9639b22f\n",
              "192       teste-promocity.sh  a187c64ce6d4d69713ae2cd04ac5866c64d7d9ce\n",
              "151       teste-promocity.sh  62dddb7e1c25ac14e9ef51bd361db047818145d3\n",
              "179                 teste.sh  0e5e2ebd754dc63a2de0fa32f528426a9639b22f\n",
              "181                   ufc.sh  0e5e2ebd754dc63a2de0fa32f528426a9639b22f\n",
              "\n",
              "[231 rows x 2 columns]"
            ],
            "text/html": [
              "\n",
              "  <div id=\"df-1f60a158-77db-4eba-a755-b1ff6acd3d7c\">\n",
              "    <div class=\"colab-df-container\">\n",
              "      <div>\n",
              "<style scoped>\n",
              "    .dataframe tbody tr th:only-of-type {\n",
              "        vertical-align: middle;\n",
              "    }\n",
              "\n",
              "    .dataframe tbody tr th {\n",
              "        vertical-align: top;\n",
              "    }\n",
              "\n",
              "    .dataframe thead th {\n",
              "        text-align: right;\n",
              "    }\n",
              "</style>\n",
              "<table border=\"1\" class=\"dataframe\">\n",
              "  <thead>\n",
              "    <tr style=\"text-align: right;\">\n",
              "      <th></th>\n",
              "      <th>name</th>\n",
              "      <th>hash</th>\n",
              "    </tr>\n",
              "  </thead>\n",
              "  <tbody>\n",
              "    <tr>\n",
              "      <th>60</th>\n",
              "      <td>AbstractModel.java</td>\n",
              "      <td>415fa2a5d1c5ce0351620b7418d223bbd7805f5c</td>\n",
              "    </tr>\n",
              "    <tr>\n",
              "      <th>100</th>\n",
              "      <td>AbstractModel.java</td>\n",
              "      <td>c14eddec7949328d89eeb2ebfc262d9905d15de2</td>\n",
              "    </tr>\n",
              "    <tr>\n",
              "      <th>64</th>\n",
              "      <td>AbstractService.java</td>\n",
              "      <td>415fa2a5d1c5ce0351620b7418d223bbd7805f5c</td>\n",
              "    </tr>\n",
              "    <tr>\n",
              "      <th>2</th>\n",
              "      <td>BackendApplication.java</td>\n",
              "      <td>fc85e473f543f543c68110d62624180fc3b24606</td>\n",
              "    </tr>\n",
              "    <tr>\n",
              "      <th>38</th>\n",
              "      <td>BackendApplication.java</td>\n",
              "      <td>507ade676867670ccfa22b214d6dc13af408c3a3</td>\n",
              "    </tr>\n",
              "    <tr>\n",
              "      <th>...</th>\n",
              "      <td>...</td>\n",
              "      <td>...</td>\n",
              "    </tr>\n",
              "    <tr>\n",
              "      <th>178</th>\n",
              "      <td>teste-promocity.sh</td>\n",
              "      <td>0e5e2ebd754dc63a2de0fa32f528426a9639b22f</td>\n",
              "    </tr>\n",
              "    <tr>\n",
              "      <th>192</th>\n",
              "      <td>teste-promocity.sh</td>\n",
              "      <td>a187c64ce6d4d69713ae2cd04ac5866c64d7d9ce</td>\n",
              "    </tr>\n",
              "    <tr>\n",
              "      <th>151</th>\n",
              "      <td>teste-promocity.sh</td>\n",
              "      <td>62dddb7e1c25ac14e9ef51bd361db047818145d3</td>\n",
              "    </tr>\n",
              "    <tr>\n",
              "      <th>179</th>\n",
              "      <td>teste.sh</td>\n",
              "      <td>0e5e2ebd754dc63a2de0fa32f528426a9639b22f</td>\n",
              "    </tr>\n",
              "    <tr>\n",
              "      <th>181</th>\n",
              "      <td>ufc.sh</td>\n",
              "      <td>0e5e2ebd754dc63a2de0fa32f528426a9639b22f</td>\n",
              "    </tr>\n",
              "  </tbody>\n",
              "</table>\n",
              "<p>231 rows × 2 columns</p>\n",
              "</div>\n",
              "      <button class=\"colab-df-convert\" onclick=\"convertToInteractive('df-1f60a158-77db-4eba-a755-b1ff6acd3d7c')\"\n",
              "              title=\"Convert this dataframe to an interactive table.\"\n",
              "              style=\"display:none;\">\n",
              "        \n",
              "  <svg xmlns=\"http://www.w3.org/2000/svg\" height=\"24px\"viewBox=\"0 0 24 24\"\n",
              "       width=\"24px\">\n",
              "    <path d=\"M0 0h24v24H0V0z\" fill=\"none\"/>\n",
              "    <path d=\"M18.56 5.44l.94 2.06.94-2.06 2.06-.94-2.06-.94-.94-2.06-.94 2.06-2.06.94zm-11 1L8.5 8.5l.94-2.06 2.06-.94-2.06-.94L8.5 2.5l-.94 2.06-2.06.94zm10 10l.94 2.06.94-2.06 2.06-.94-2.06-.94-.94-2.06-.94 2.06-2.06.94z\"/><path d=\"M17.41 7.96l-1.37-1.37c-.4-.4-.92-.59-1.43-.59-.52 0-1.04.2-1.43.59L10.3 9.45l-7.72 7.72c-.78.78-.78 2.05 0 2.83L4 21.41c.39.39.9.59 1.41.59.51 0 1.02-.2 1.41-.59l7.78-7.78 2.81-2.81c.8-.78.8-2.07 0-2.86zM5.41 20L4 18.59l7.72-7.72 1.47 1.35L5.41 20z\"/>\n",
              "  </svg>\n",
              "      </button>\n",
              "      \n",
              "  <style>\n",
              "    .colab-df-container {\n",
              "      display:flex;\n",
              "      flex-wrap:wrap;\n",
              "      gap: 12px;\n",
              "    }\n",
              "\n",
              "    .colab-df-convert {\n",
              "      background-color: #E8F0FE;\n",
              "      border: none;\n",
              "      border-radius: 50%;\n",
              "      cursor: pointer;\n",
              "      display: none;\n",
              "      fill: #1967D2;\n",
              "      height: 32px;\n",
              "      padding: 0 0 0 0;\n",
              "      width: 32px;\n",
              "    }\n",
              "\n",
              "    .colab-df-convert:hover {\n",
              "      background-color: #E2EBFA;\n",
              "      box-shadow: 0px 1px 2px rgba(60, 64, 67, 0.3), 0px 1px 3px 1px rgba(60, 64, 67, 0.15);\n",
              "      fill: #174EA6;\n",
              "    }\n",
              "\n",
              "    [theme=dark] .colab-df-convert {\n",
              "      background-color: #3B4455;\n",
              "      fill: #D2E3FC;\n",
              "    }\n",
              "\n",
              "    [theme=dark] .colab-df-convert:hover {\n",
              "      background-color: #434B5C;\n",
              "      box-shadow: 0px 1px 3px 1px rgba(0, 0, 0, 0.15);\n",
              "      filter: drop-shadow(0px 1px 2px rgba(0, 0, 0, 0.3));\n",
              "      fill: #FFFFFF;\n",
              "    }\n",
              "  </style>\n",
              "\n",
              "      <script>\n",
              "        const buttonEl =\n",
              "          document.querySelector('#df-1f60a158-77db-4eba-a755-b1ff6acd3d7c button.colab-df-convert');\n",
              "        buttonEl.style.display =\n",
              "          google.colab.kernel.accessAllowed ? 'block' : 'none';\n",
              "\n",
              "        async function convertToInteractive(key) {\n",
              "          const element = document.querySelector('#df-1f60a158-77db-4eba-a755-b1ff6acd3d7c');\n",
              "          const dataTable =\n",
              "            await google.colab.kernel.invokeFunction('convertToInteractive',\n",
              "                                                     [key], {});\n",
              "          if (!dataTable) return;\n",
              "\n",
              "          const docLinkHtml = 'Like what you see? Visit the ' +\n",
              "            '<a target=\"_blank\" href=https://colab.research.google.com/notebooks/data_table.ipynb>data table notebook</a>'\n",
              "            + ' to learn more about interactive tables.';\n",
              "          element.innerHTML = '';\n",
              "          dataTable['output_type'] = 'display_data';\n",
              "          await google.colab.output.renderOutput(dataTable, element);\n",
              "          const docLink = document.createElement('div');\n",
              "          docLink.innerHTML = docLinkHtml;\n",
              "          element.appendChild(docLink);\n",
              "        }\n",
              "      </script>\n",
              "    </div>\n",
              "  </div>\n",
              "  "
            ]
          },
          "metadata": {},
          "execution_count": 125
        }
      ]
    },
    {
      "cell_type": "code",
      "source": [
        "# Mostra as Complexidades Ciclomáticas dos arquivos\n",
        "df_files_commits_from_db[['file_filename', 'file_complexity', 'author_date']].sort_values(by=['file_filename', 'author_date'], ascending=True)"
      ],
      "metadata": {
        "colab": {
          "base_uri": "https://localhost:8080/",
          "height": 0
        },
        "id": "2y1tD3jCXgrJ",
        "outputId": "1d2866f0-b895-47bd-8ac1-d4d9f8795b43"
      },
      "execution_count": 126,
      "outputs": [
        {
          "output_type": "execute_result",
          "data": {
            "text/plain": [
              "               file_filename  file_complexity                 author_date\n",
              "60        AbstractModel.java             11.0  2018-11-02 16:57:10.000000\n",
              "100       AbstractModel.java             11.0  2018-11-13 12:19:15.000000\n",
              "64      AbstractService.java              7.0  2018-11-02 16:57:10.000000\n",
              "2    BackendApplication.java              1.0  2018-10-31 00:40:14.000000\n",
              "38   BackendApplication.java              1.0  2018-11-01 19:24:13.000000\n",
              "..                       ...              ...                         ...\n",
              "162       teste-promocity.sh              NaN  2018-11-29 07:55:29.000000\n",
              "178       teste-promocity.sh              NaN  2018-11-30 08:24:46.000000\n",
              "192       teste-promocity.sh              NaN  2018-12-02 17:22:06.000000\n",
              "179                 teste.sh              NaN  2018-11-30 08:24:46.000000\n",
              "181                   ufc.sh              NaN  2018-11-30 08:24:46.000000\n",
              "\n",
              "[231 rows x 3 columns]"
            ],
            "text/html": [
              "\n",
              "  <div id=\"df-bd4d96ba-eecb-4d65-a512-5a013b19b431\">\n",
              "    <div class=\"colab-df-container\">\n",
              "      <div>\n",
              "<style scoped>\n",
              "    .dataframe tbody tr th:only-of-type {\n",
              "        vertical-align: middle;\n",
              "    }\n",
              "\n",
              "    .dataframe tbody tr th {\n",
              "        vertical-align: top;\n",
              "    }\n",
              "\n",
              "    .dataframe thead th {\n",
              "        text-align: right;\n",
              "    }\n",
              "</style>\n",
              "<table border=\"1\" class=\"dataframe\">\n",
              "  <thead>\n",
              "    <tr style=\"text-align: right;\">\n",
              "      <th></th>\n",
              "      <th>file_filename</th>\n",
              "      <th>file_complexity</th>\n",
              "      <th>author_date</th>\n",
              "    </tr>\n",
              "  </thead>\n",
              "  <tbody>\n",
              "    <tr>\n",
              "      <th>60</th>\n",
              "      <td>AbstractModel.java</td>\n",
              "      <td>11.0</td>\n",
              "      <td>2018-11-02 16:57:10.000000</td>\n",
              "    </tr>\n",
              "    <tr>\n",
              "      <th>100</th>\n",
              "      <td>AbstractModel.java</td>\n",
              "      <td>11.0</td>\n",
              "      <td>2018-11-13 12:19:15.000000</td>\n",
              "    </tr>\n",
              "    <tr>\n",
              "      <th>64</th>\n",
              "      <td>AbstractService.java</td>\n",
              "      <td>7.0</td>\n",
              "      <td>2018-11-02 16:57:10.000000</td>\n",
              "    </tr>\n",
              "    <tr>\n",
              "      <th>2</th>\n",
              "      <td>BackendApplication.java</td>\n",
              "      <td>1.0</td>\n",
              "      <td>2018-10-31 00:40:14.000000</td>\n",
              "    </tr>\n",
              "    <tr>\n",
              "      <th>38</th>\n",
              "      <td>BackendApplication.java</td>\n",
              "      <td>1.0</td>\n",
              "      <td>2018-11-01 19:24:13.000000</td>\n",
              "    </tr>\n",
              "    <tr>\n",
              "      <th>...</th>\n",
              "      <td>...</td>\n",
              "      <td>...</td>\n",
              "      <td>...</td>\n",
              "    </tr>\n",
              "    <tr>\n",
              "      <th>162</th>\n",
              "      <td>teste-promocity.sh</td>\n",
              "      <td>NaN</td>\n",
              "      <td>2018-11-29 07:55:29.000000</td>\n",
              "    </tr>\n",
              "    <tr>\n",
              "      <th>178</th>\n",
              "      <td>teste-promocity.sh</td>\n",
              "      <td>NaN</td>\n",
              "      <td>2018-11-30 08:24:46.000000</td>\n",
              "    </tr>\n",
              "    <tr>\n",
              "      <th>192</th>\n",
              "      <td>teste-promocity.sh</td>\n",
              "      <td>NaN</td>\n",
              "      <td>2018-12-02 17:22:06.000000</td>\n",
              "    </tr>\n",
              "    <tr>\n",
              "      <th>179</th>\n",
              "      <td>teste.sh</td>\n",
              "      <td>NaN</td>\n",
              "      <td>2018-11-30 08:24:46.000000</td>\n",
              "    </tr>\n",
              "    <tr>\n",
              "      <th>181</th>\n",
              "      <td>ufc.sh</td>\n",
              "      <td>NaN</td>\n",
              "      <td>2018-11-30 08:24:46.000000</td>\n",
              "    </tr>\n",
              "  </tbody>\n",
              "</table>\n",
              "<p>231 rows × 3 columns</p>\n",
              "</div>\n",
              "      <button class=\"colab-df-convert\" onclick=\"convertToInteractive('df-bd4d96ba-eecb-4d65-a512-5a013b19b431')\"\n",
              "              title=\"Convert this dataframe to an interactive table.\"\n",
              "              style=\"display:none;\">\n",
              "        \n",
              "  <svg xmlns=\"http://www.w3.org/2000/svg\" height=\"24px\"viewBox=\"0 0 24 24\"\n",
              "       width=\"24px\">\n",
              "    <path d=\"M0 0h24v24H0V0z\" fill=\"none\"/>\n",
              "    <path d=\"M18.56 5.44l.94 2.06.94-2.06 2.06-.94-2.06-.94-.94-2.06-.94 2.06-2.06.94zm-11 1L8.5 8.5l.94-2.06 2.06-.94-2.06-.94L8.5 2.5l-.94 2.06-2.06.94zm10 10l.94 2.06.94-2.06 2.06-.94-2.06-.94-.94-2.06-.94 2.06-2.06.94z\"/><path d=\"M17.41 7.96l-1.37-1.37c-.4-.4-.92-.59-1.43-.59-.52 0-1.04.2-1.43.59L10.3 9.45l-7.72 7.72c-.78.78-.78 2.05 0 2.83L4 21.41c.39.39.9.59 1.41.59.51 0 1.02-.2 1.41-.59l7.78-7.78 2.81-2.81c.8-.78.8-2.07 0-2.86zM5.41 20L4 18.59l7.72-7.72 1.47 1.35L5.41 20z\"/>\n",
              "  </svg>\n",
              "      </button>\n",
              "      \n",
              "  <style>\n",
              "    .colab-df-container {\n",
              "      display:flex;\n",
              "      flex-wrap:wrap;\n",
              "      gap: 12px;\n",
              "    }\n",
              "\n",
              "    .colab-df-convert {\n",
              "      background-color: #E8F0FE;\n",
              "      border: none;\n",
              "      border-radius: 50%;\n",
              "      cursor: pointer;\n",
              "      display: none;\n",
              "      fill: #1967D2;\n",
              "      height: 32px;\n",
              "      padding: 0 0 0 0;\n",
              "      width: 32px;\n",
              "    }\n",
              "\n",
              "    .colab-df-convert:hover {\n",
              "      background-color: #E2EBFA;\n",
              "      box-shadow: 0px 1px 2px rgba(60, 64, 67, 0.3), 0px 1px 3px 1px rgba(60, 64, 67, 0.15);\n",
              "      fill: #174EA6;\n",
              "    }\n",
              "\n",
              "    [theme=dark] .colab-df-convert {\n",
              "      background-color: #3B4455;\n",
              "      fill: #D2E3FC;\n",
              "    }\n",
              "\n",
              "    [theme=dark] .colab-df-convert:hover {\n",
              "      background-color: #434B5C;\n",
              "      box-shadow: 0px 1px 3px 1px rgba(0, 0, 0, 0.15);\n",
              "      filter: drop-shadow(0px 1px 2px rgba(0, 0, 0, 0.3));\n",
              "      fill: #FFFFFF;\n",
              "    }\n",
              "  </style>\n",
              "\n",
              "      <script>\n",
              "        const buttonEl =\n",
              "          document.querySelector('#df-bd4d96ba-eecb-4d65-a512-5a013b19b431 button.colab-df-convert');\n",
              "        buttonEl.style.display =\n",
              "          google.colab.kernel.accessAllowed ? 'block' : 'none';\n",
              "\n",
              "        async function convertToInteractive(key) {\n",
              "          const element = document.querySelector('#df-bd4d96ba-eecb-4d65-a512-5a013b19b431');\n",
              "          const dataTable =\n",
              "            await google.colab.kernel.invokeFunction('convertToInteractive',\n",
              "                                                     [key], {});\n",
              "          if (!dataTable) return;\n",
              "\n",
              "          const docLinkHtml = 'Like what you see? Visit the ' +\n",
              "            '<a target=\"_blank\" href=https://colab.research.google.com/notebooks/data_table.ipynb>data table notebook</a>'\n",
              "            + ' to learn more about interactive tables.';\n",
              "          element.innerHTML = '';\n",
              "          dataTable['output_type'] = 'display_data';\n",
              "          await google.colab.output.renderOutput(dataTable, element);\n",
              "          const docLink = document.createElement('div');\n",
              "          docLink.innerHTML = docLinkHtml;\n",
              "          element.appendChild(docLink);\n",
              "        }\n",
              "      </script>\n",
              "    </div>\n",
              "  </div>\n",
              "  "
            ]
          },
          "metadata": {},
          "execution_count": 126
        }
      ]
    },
    {
      "cell_type": "code",
      "source": [
        "# Mostra as complexidades ciclomáticas de um determinado arquivo\n",
        "df_files_commits_from_db[['file_filename', 'file_complexity', 'author_date']].sort_values(by=['file_filename', 'author_date'], ascending=True).query(\"file_filename == 'UserController.java'\")"
      ],
      "metadata": {
        "colab": {
          "base_uri": "https://localhost:8080/",
          "height": 0
        },
        "id": "BCEz0uM2Xkum",
        "outputId": "bcc3ab12-7872-4946-a7f8-5be82aaa6ce7"
      },
      "execution_count": 127,
      "outputs": [
        {
          "output_type": "execute_result",
          "data": {
            "text/plain": [
              "           file_filename  file_complexity                 author_date\n",
              "8    UserController.java              6.0  2018-10-31 00:40:14.000000\n",
              "34   UserController.java              6.0  2018-10-31 15:53:32.000000\n",
              "45   UserController.java              7.0  2018-11-01 19:24:13.000000\n",
              "59   UserController.java              8.0  2018-11-02 16:57:10.000000\n",
              "99   UserController.java             12.0  2018-11-13 12:19:15.000000\n",
              "116  UserController.java             14.0  2018-11-21 10:22:27.000000\n",
              "119  UserController.java             16.0  2018-11-21 18:19:28.000000\n",
              "120  UserController.java             16.0  2018-11-21 18:22:04.000000\n",
              "122  UserController.java             20.0  2018-11-21 19:41:29.000000\n",
              "129  UserController.java             21.0  2018-11-21 23:16:42.000000\n",
              "136  UserController.java             27.0  2018-11-23 12:43:50.000000\n",
              "142  UserController.java             28.0  2018-11-27 19:17:17.000000\n",
              "148  UserController.java             31.0  2018-11-28 13:57:02.000000\n",
              "152  UserController.java             33.0  2018-11-28 17:15:36.000000\n",
              "154  UserController.java             42.0  2018-11-28 21:09:35.000000\n",
              "160  UserController.java             40.0  2018-11-29 07:55:29.000000\n",
              "164  UserController.java             43.0  2018-11-29 16:49:45.000000\n",
              "173  UserController.java             46.0  2018-11-29 22:52:52.000000\n",
              "197  UserController.java             47.0  2018-12-02 17:22:06.000000\n",
              "203  UserController.java             58.0  2018-12-03 13:53:33.000000\n",
              "205  UserController.java             58.0  2018-12-03 16:40:40.000000\n",
              "207  UserController.java             59.0  2018-12-03 17:54:52.000000"
            ],
            "text/html": [
              "\n",
              "  <div id=\"df-f5032d02-a567-4f9a-87f7-7dda5f642b72\">\n",
              "    <div class=\"colab-df-container\">\n",
              "      <div>\n",
              "<style scoped>\n",
              "    .dataframe tbody tr th:only-of-type {\n",
              "        vertical-align: middle;\n",
              "    }\n",
              "\n",
              "    .dataframe tbody tr th {\n",
              "        vertical-align: top;\n",
              "    }\n",
              "\n",
              "    .dataframe thead th {\n",
              "        text-align: right;\n",
              "    }\n",
              "</style>\n",
              "<table border=\"1\" class=\"dataframe\">\n",
              "  <thead>\n",
              "    <tr style=\"text-align: right;\">\n",
              "      <th></th>\n",
              "      <th>file_filename</th>\n",
              "      <th>file_complexity</th>\n",
              "      <th>author_date</th>\n",
              "    </tr>\n",
              "  </thead>\n",
              "  <tbody>\n",
              "    <tr>\n",
              "      <th>8</th>\n",
              "      <td>UserController.java</td>\n",
              "      <td>6.0</td>\n",
              "      <td>2018-10-31 00:40:14.000000</td>\n",
              "    </tr>\n",
              "    <tr>\n",
              "      <th>34</th>\n",
              "      <td>UserController.java</td>\n",
              "      <td>6.0</td>\n",
              "      <td>2018-10-31 15:53:32.000000</td>\n",
              "    </tr>\n",
              "    <tr>\n",
              "      <th>45</th>\n",
              "      <td>UserController.java</td>\n",
              "      <td>7.0</td>\n",
              "      <td>2018-11-01 19:24:13.000000</td>\n",
              "    </tr>\n",
              "    <tr>\n",
              "      <th>59</th>\n",
              "      <td>UserController.java</td>\n",
              "      <td>8.0</td>\n",
              "      <td>2018-11-02 16:57:10.000000</td>\n",
              "    </tr>\n",
              "    <tr>\n",
              "      <th>99</th>\n",
              "      <td>UserController.java</td>\n",
              "      <td>12.0</td>\n",
              "      <td>2018-11-13 12:19:15.000000</td>\n",
              "    </tr>\n",
              "    <tr>\n",
              "      <th>116</th>\n",
              "      <td>UserController.java</td>\n",
              "      <td>14.0</td>\n",
              "      <td>2018-11-21 10:22:27.000000</td>\n",
              "    </tr>\n",
              "    <tr>\n",
              "      <th>119</th>\n",
              "      <td>UserController.java</td>\n",
              "      <td>16.0</td>\n",
              "      <td>2018-11-21 18:19:28.000000</td>\n",
              "    </tr>\n",
              "    <tr>\n",
              "      <th>120</th>\n",
              "      <td>UserController.java</td>\n",
              "      <td>16.0</td>\n",
              "      <td>2018-11-21 18:22:04.000000</td>\n",
              "    </tr>\n",
              "    <tr>\n",
              "      <th>122</th>\n",
              "      <td>UserController.java</td>\n",
              "      <td>20.0</td>\n",
              "      <td>2018-11-21 19:41:29.000000</td>\n",
              "    </tr>\n",
              "    <tr>\n",
              "      <th>129</th>\n",
              "      <td>UserController.java</td>\n",
              "      <td>21.0</td>\n",
              "      <td>2018-11-21 23:16:42.000000</td>\n",
              "    </tr>\n",
              "    <tr>\n",
              "      <th>136</th>\n",
              "      <td>UserController.java</td>\n",
              "      <td>27.0</td>\n",
              "      <td>2018-11-23 12:43:50.000000</td>\n",
              "    </tr>\n",
              "    <tr>\n",
              "      <th>142</th>\n",
              "      <td>UserController.java</td>\n",
              "      <td>28.0</td>\n",
              "      <td>2018-11-27 19:17:17.000000</td>\n",
              "    </tr>\n",
              "    <tr>\n",
              "      <th>148</th>\n",
              "      <td>UserController.java</td>\n",
              "      <td>31.0</td>\n",
              "      <td>2018-11-28 13:57:02.000000</td>\n",
              "    </tr>\n",
              "    <tr>\n",
              "      <th>152</th>\n",
              "      <td>UserController.java</td>\n",
              "      <td>33.0</td>\n",
              "      <td>2018-11-28 17:15:36.000000</td>\n",
              "    </tr>\n",
              "    <tr>\n",
              "      <th>154</th>\n",
              "      <td>UserController.java</td>\n",
              "      <td>42.0</td>\n",
              "      <td>2018-11-28 21:09:35.000000</td>\n",
              "    </tr>\n",
              "    <tr>\n",
              "      <th>160</th>\n",
              "      <td>UserController.java</td>\n",
              "      <td>40.0</td>\n",
              "      <td>2018-11-29 07:55:29.000000</td>\n",
              "    </tr>\n",
              "    <tr>\n",
              "      <th>164</th>\n",
              "      <td>UserController.java</td>\n",
              "      <td>43.0</td>\n",
              "      <td>2018-11-29 16:49:45.000000</td>\n",
              "    </tr>\n",
              "    <tr>\n",
              "      <th>173</th>\n",
              "      <td>UserController.java</td>\n",
              "      <td>46.0</td>\n",
              "      <td>2018-11-29 22:52:52.000000</td>\n",
              "    </tr>\n",
              "    <tr>\n",
              "      <th>197</th>\n",
              "      <td>UserController.java</td>\n",
              "      <td>47.0</td>\n",
              "      <td>2018-12-02 17:22:06.000000</td>\n",
              "    </tr>\n",
              "    <tr>\n",
              "      <th>203</th>\n",
              "      <td>UserController.java</td>\n",
              "      <td>58.0</td>\n",
              "      <td>2018-12-03 13:53:33.000000</td>\n",
              "    </tr>\n",
              "    <tr>\n",
              "      <th>205</th>\n",
              "      <td>UserController.java</td>\n",
              "      <td>58.0</td>\n",
              "      <td>2018-12-03 16:40:40.000000</td>\n",
              "    </tr>\n",
              "    <tr>\n",
              "      <th>207</th>\n",
              "      <td>UserController.java</td>\n",
              "      <td>59.0</td>\n",
              "      <td>2018-12-03 17:54:52.000000</td>\n",
              "    </tr>\n",
              "  </tbody>\n",
              "</table>\n",
              "</div>\n",
              "      <button class=\"colab-df-convert\" onclick=\"convertToInteractive('df-f5032d02-a567-4f9a-87f7-7dda5f642b72')\"\n",
              "              title=\"Convert this dataframe to an interactive table.\"\n",
              "              style=\"display:none;\">\n",
              "        \n",
              "  <svg xmlns=\"http://www.w3.org/2000/svg\" height=\"24px\"viewBox=\"0 0 24 24\"\n",
              "       width=\"24px\">\n",
              "    <path d=\"M0 0h24v24H0V0z\" fill=\"none\"/>\n",
              "    <path d=\"M18.56 5.44l.94 2.06.94-2.06 2.06-.94-2.06-.94-.94-2.06-.94 2.06-2.06.94zm-11 1L8.5 8.5l.94-2.06 2.06-.94-2.06-.94L8.5 2.5l-.94 2.06-2.06.94zm10 10l.94 2.06.94-2.06 2.06-.94-2.06-.94-.94-2.06-.94 2.06-2.06.94z\"/><path d=\"M17.41 7.96l-1.37-1.37c-.4-.4-.92-.59-1.43-.59-.52 0-1.04.2-1.43.59L10.3 9.45l-7.72 7.72c-.78.78-.78 2.05 0 2.83L4 21.41c.39.39.9.59 1.41.59.51 0 1.02-.2 1.41-.59l7.78-7.78 2.81-2.81c.8-.78.8-2.07 0-2.86zM5.41 20L4 18.59l7.72-7.72 1.47 1.35L5.41 20z\"/>\n",
              "  </svg>\n",
              "      </button>\n",
              "      \n",
              "  <style>\n",
              "    .colab-df-container {\n",
              "      display:flex;\n",
              "      flex-wrap:wrap;\n",
              "      gap: 12px;\n",
              "    }\n",
              "\n",
              "    .colab-df-convert {\n",
              "      background-color: #E8F0FE;\n",
              "      border: none;\n",
              "      border-radius: 50%;\n",
              "      cursor: pointer;\n",
              "      display: none;\n",
              "      fill: #1967D2;\n",
              "      height: 32px;\n",
              "      padding: 0 0 0 0;\n",
              "      width: 32px;\n",
              "    }\n",
              "\n",
              "    .colab-df-convert:hover {\n",
              "      background-color: #E2EBFA;\n",
              "      box-shadow: 0px 1px 2px rgba(60, 64, 67, 0.3), 0px 1px 3px 1px rgba(60, 64, 67, 0.15);\n",
              "      fill: #174EA6;\n",
              "    }\n",
              "\n",
              "    [theme=dark] .colab-df-convert {\n",
              "      background-color: #3B4455;\n",
              "      fill: #D2E3FC;\n",
              "    }\n",
              "\n",
              "    [theme=dark] .colab-df-convert:hover {\n",
              "      background-color: #434B5C;\n",
              "      box-shadow: 0px 1px 3px 1px rgba(0, 0, 0, 0.15);\n",
              "      filter: drop-shadow(0px 1px 2px rgba(0, 0, 0, 0.3));\n",
              "      fill: #FFFFFF;\n",
              "    }\n",
              "  </style>\n",
              "\n",
              "      <script>\n",
              "        const buttonEl =\n",
              "          document.querySelector('#df-f5032d02-a567-4f9a-87f7-7dda5f642b72 button.colab-df-convert');\n",
              "        buttonEl.style.display =\n",
              "          google.colab.kernel.accessAllowed ? 'block' : 'none';\n",
              "\n",
              "        async function convertToInteractive(key) {\n",
              "          const element = document.querySelector('#df-f5032d02-a567-4f9a-87f7-7dda5f642b72');\n",
              "          const dataTable =\n",
              "            await google.colab.kernel.invokeFunction('convertToInteractive',\n",
              "                                                     [key], {});\n",
              "          if (!dataTable) return;\n",
              "\n",
              "          const docLinkHtml = 'Like what you see? Visit the ' +\n",
              "            '<a target=\"_blank\" href=https://colab.research.google.com/notebooks/data_table.ipynb>data table notebook</a>'\n",
              "            + ' to learn more about interactive tables.';\n",
              "          element.innerHTML = '';\n",
              "          dataTable['output_type'] = 'display_data';\n",
              "          await google.colab.output.renderOutput(dataTable, element);\n",
              "          const docLink = document.createElement('div');\n",
              "          docLink.innerHTML = docLinkHtml;\n",
              "          element.appendChild(docLink);\n",
              "        }\n",
              "      </script>\n",
              "    </div>\n",
              "  </div>\n",
              "  "
            ]
          },
          "metadata": {},
          "execution_count": 127
        }
      ]
    },
    {
      "cell_type": "code",
      "source": [
        "df_commits_from_db.to_csv('promocity_commits.csv')"
      ],
      "metadata": {
        "id": "9oY0oohzfBKL"
      },
      "execution_count": 128,
      "outputs": []
    },
    {
      "cell_type": "markdown",
      "source": [
        "## Faz a análise das métricas e geração dos scatter plots"
      ],
      "metadata": {
        "id": "GUVJYm1ofvpX"
      }
    },
    {
      "cell_type": "code",
      "source": [
        "import seaborn as sns\n",
        "import matplotlib.pyplot as plt\n",
        "import numpy as np"
      ],
      "metadata": {
        "id": "mG_GXIfwfRle"
      },
      "execution_count": 129,
      "outputs": []
    },
    {
      "cell_type": "markdown",
      "source": [
        "## Análise das Linhas modificadas (preparação da métrica AMLOC e CC)"
      ],
      "metadata": {
        "id": "Cr7oiQm8g-75"
      }
    },
    {
      "cell_type": "code",
      "source": [
        "# AMLOC de todos os arquivos\n",
        "# retorna o df_amloc, df_boxplot_amloc e group_files_modified_lines\n",
        "def get_accumulated_modified_locs(df_files_from_db):\n",
        "  # Lista arquivos ordenados por nome com suas linhas modificadas\n",
        "  df_files_from_db[['name','modified_lines']].sort_values(by=['name'], ascending=True)\n",
        "\n",
        "  # Agrupa o df por nome do arquivo\n",
        "  df_groupby_name_modified_lines = df_files_from_db[['name','modified_lines']].groupby('name')\n",
        "\n",
        "  # Soma o total de linhas modificadas de cada arquivo\n",
        "  group_files_modified_lines = df_groupby_name_modified_lines.sum()\n",
        "\n",
        "  # Cria um novo df de Linhas de Código Modificadas\n",
        "  df_locm = group_files_modified_lines.copy()\n",
        "  df_locm = df_locm.reset_index()\n",
        "\n",
        "  # Acrescenta uma coluna File\n",
        "  df_locm['File'] = 'File'\n",
        "  df_boxplot_em = df_locm[['modified_lines', 'File']]\n",
        "\n",
        "  df_accumulated_modified_locs = df_locm.copy()\n",
        "  return df_accumulated_modified_locs, df_boxplot_em, group_files_modified_lines\n",
        "\n",
        "def gera_boxplot_accumulated_modified_locs(df_accumulated_modified_locs_boxplot):\n",
        "  # Boxplot do EM (Esforço de Manutenção de Locs Modificadas). Todos os arquivos do repositório\n",
        "  plt.figure(figsize=(6,4))\n",
        "  sns.boxplot(x='File', y='modified_lines', data=df_accumulated_modified_locs_boxplot)\n",
        "  plt.savefig('accumulated_modified_locs_boxplot.png')\n",
        "\n",
        "# Remove os arquivos que nao foram modificados\n",
        "# retorna o df_boxplot_amloc\n",
        "def get_accumulated_modified_locs_boxplot_valid(df_boxplot_em):\n",
        "  # Remove os arquivos que não foram modificados ao longo do tempo (O linhas modificadas)\n",
        "  df_boxplot_em = df_boxplot_em.drop(df_boxplot_em[df_boxplot_em.modified_lines == 0].index)\n",
        "  plt.figure(figsize=(6,4))\n",
        "  # Constroi o Boxsplot sem os outliers\n",
        "  sns.boxplot(x='File', y='modified_lines', data=df_boxplot_em,  showfliers=False)\n",
        "  plt.savefig('accumulated_modified_locs_boxplot_valid.png')\n",
        "  return df_boxplot_em\n",
        "\n",
        "# Cria um df_accumulated_modified_java_files contendo apenas arquivos .java\n",
        "# df_accumulated_modified_java_files\n",
        "def get_df_accumulated_modified_java_files(df_accumulated_modified_locs):\n",
        "  # Cria um df sem os arquivos de Teste\n",
        "  df_locm_no_test = df_accumulated_modified_locs[(df_accumulated_modified_locs[\"name\"].str.contains('Test') == False)]\n",
        "  # Cria um df contendo apenas os arquivos .java de implementacao\n",
        "  df_locm_java_impl = df_locm_no_test[df_locm_no_test['name'].str.contains('.java', regex=False)]\n",
        "  return df_locm_java_impl\n",
        "\n",
        "# mostra o boxplot accumulated_modified_java_files\n",
        "# retorna df_boxplot_em_java_impl contendo apenas arquivos .java\n",
        "def show_boxplot_accumulated_modified_java_files(df_locm_java_impl):\n",
        "  df_boxplot_em_java_impl = df_locm_java_impl[['modified_lines', 'File']]\n",
        "  plt.figure(figsize=(6,4))\n",
        "  sns.boxplot(x='File', y='modified_lines', data=df_boxplot_em_java_impl)\n",
        "  plt.savefig('accumulated_modified_locs_boxplot_java_files.png')\n",
        "  return df_boxplot_em_java_impl\n",
        "\n",
        "# Calcula os quartiles de todos os arquivos referente a AMLOC\n",
        "def get_quartiles_offiles_modified_lines(group_files_modified_lines, df_boxplot_em):\n",
        "  list_of_files_modified_lines = group_files_modified_lines.to_dict()\n",
        "  print(f'{ len(list_of_files_modified_lines) }, {list_of_files_modified_lines}')\n",
        "  # Mostra os quatis\n",
        "  em_q1 = np.percentile(df_boxplot_em.modified_lines, [25])\n",
        "  em_q2 = np.percentile(df_boxplot_em.modified_lines, [50])\n",
        "  em_q3 = np.percentile(df_boxplot_em.modified_lines, [75])\n",
        "  em_q4 = np.percentile(df_boxplot_em.modified_lines, [100])\n",
        "  print(f'Quartis do Total de Linhas Modificadas: Q1: {em_q1}, Q2: {em_q2}, Q3: {em_q3}, Q4: {em_q4}')\n",
        "  return em_q1, em_q2, em_q3, em_q4\n",
        "\n",
        "# Seleciona apenas os AMLOC validos (arquivos que foram modificados pelo menos uma vez)\n",
        "# retorna o df_boxplot_em_java_impl\n",
        "def get_accumulated_modified_java_files_valid(df_boxplot_em_java_impl):\n",
        "  # Remove os arquivos que não foram modificados ao longo do tempo (O linhas modificadas)\n",
        "  df_boxplot_em_java_impl = df_boxplot_em_java_impl.drop(df_boxplot_em_java_impl[df_boxplot_em_java_impl.modified_lines == 0].index)\n",
        "\n",
        "  plt.figure(figsize=(6,4))\n",
        "  # Constroi o Boxsplot sem os outliers\n",
        "  sns.boxplot(x='File', y='modified_lines', data=df_boxplot_em_java_impl,  showfliers=False)\n",
        "  plt.savefig('accumulated_modified_locs_boxplot_java_files_valid.png')\n",
        "  return df_boxplot_em_java_impl\n",
        "\n",
        "# Calcula os quartiles dos AMLOC .java validos\n",
        "def get_quartiles_offiles_modified_lines_java_files_valid(df_boxplot_em_java_impl):\n",
        "  # Mostra os quatis\n",
        "  em_q1_java_impl = np.percentile(df_boxplot_em_java_impl.modified_lines, [25])\n",
        "  em_q2_java_impl = np.percentile(df_boxplot_em_java_impl.modified_lines, [50])\n",
        "  em_q3_java_impl = np.percentile(df_boxplot_em_java_impl.modified_lines, [75])\n",
        "  em_q4_java_impl = np.percentile(df_boxplot_em_java_impl.modified_lines, [100])\n",
        "  print(f'Quartis do Total de Linhas Modificadas: Q1: {em_q1_java_impl}, Q2: {em_q2_java_impl}, Q3: {em_q3_java_impl}, Q4: {em_q4_java_impl}')\n",
        "  return em_q1_java_impl, em_q2_java_impl, em_q3_java_impl, em_q4_java_impl\n",
        "\n",
        "# Cria um df de complexidade ciclomatica de todos os arquivos\n",
        "# retorna df_cc_temp\n",
        "def get_complexidade_ciclomatica(df_files_commits_from_db):\n",
        "  # Mostra as Complexidades Ciclomáticas dos arquivos ordenada crescent pelo tempo\n",
        "  df_cc = df_files_commits_from_db[['file_filename', 'file_complexity', 'author_date']].sort_values(by=['file_filename', 'author_date'], ascending=True)\n",
        "  # Remove files that has not cc\n",
        "  # cc all files\n",
        "  df_cc_temp = df_cc.copy()\n",
        "  df_cc_temp = df_cc_temp[df_cc_temp.file_complexity.notnull()]\n",
        "  return df_cc_temp\n",
        "\n",
        "##### Todos os arquivos #####\n",
        "# gera um boxplot da complexidade ciclomatica de todos os arquivos\n",
        "def get_boxplot_complexidade_ciclomatica(df_cc_temp):\n",
        "  df_cc_temp['File'] = 'File'\n",
        "  df_boxplot_cc_temp = df_cc_temp[['file_complexity', 'File']]\n",
        "  plt.figure(figsize=(6,4))\n",
        "  sns.boxplot(x='File', y='file_complexity', data=df_boxplot_cc_temp)\n",
        "  plt.savefig('boxplot_complexidade_ciclomatica.png')\n",
        "  return df_cc_temp, df_boxplot_cc_temp\n",
        "\n",
        "# Calcula os quartiles das complexidades ciclomaticas\n",
        "# retorna os quartiles\n",
        "def get_quartiles_complexidade_ciclomatica(df_boxplot_cc_temp):\n",
        "  # Mostra os quatis\n",
        "  em_q1_cc_temp = np.percentile(df_boxplot_cc_temp.file_complexity, [25])\n",
        "  em_q2_cc_temp = np.percentile(df_boxplot_cc_temp.file_complexity, [50])\n",
        "  em_q3_cc_temp = np.percentile(df_boxplot_cc_temp.file_complexity, [75])\n",
        "  em_q4_cc_temp = np.percentile(df_boxplot_cc_temp.file_complexity, [100])\n",
        "\n",
        "  print(f'Quartis do Total de Linhas Modificadas: Q1: {em_q1_cc_temp}, Q2: {em_q2_cc_temp}, Q3: {em_q3_cc_temp}, Q4: {em_q4_cc_temp}')\n",
        "  return em_q1_cc_temp, em_q2_cc_temp, em_q3_cc_temp, em_q4_cc_temp\n",
        "\n",
        "### Apenas os arquivos .java ###\n",
        "# gera um boxplot de complexidade ciclomatica apenas dos arquivos .java\n",
        "def get_boxplot_complexidade_ciclomatica_only_java(df_cc_temp):\n",
        "  # Cria um df sem os arquivos de Teste\n",
        "  df_cc_temp_no_test = df_cc_temp[(df_cc_temp[\"file_filename\"].str.contains('Test') == False)]\n",
        "  # Cria um df contendo apenas os arquivos .java de implementacao\n",
        "  df_cc_temp_java_impl = df_cc_temp_no_test[df_cc_temp_no_test['file_filename'].str.contains('.java', regex=False)]\n",
        "  df_cc_temp_boxplot_em_java_impl = df_cc_temp_java_impl[['file_complexity', 'File']]\n",
        "\n",
        "  plt.figure(figsize=(6,4))\n",
        "  sns.boxplot(x='File', y='file_complexity', data=df_cc_temp_boxplot_em_java_impl)\n",
        "  plt.savefig('boxplot_complexidade_ciclomatica_only_java.png')\n",
        "  return df_cc_temp_java_impl, df_cc_temp_boxplot_em_java_impl\n",
        "\n",
        "# calcula os quatiles das complexidade ciclomaticas apenas dos arquivos .java\n",
        "# retorna os quartiles\n",
        "def get_quartiles_complexidade_ciclomatica_java_impl(df_cc_temp_boxplot_em_java_impl):\n",
        "  em_q1_cc_temp_java_impl = np.percentile(df_cc_temp_boxplot_em_java_impl.file_complexity, [25])\n",
        "  em_q2_cc_temp_java_impl = np.percentile(df_cc_temp_boxplot_em_java_impl.file_complexity, [50])\n",
        "  em_q3_cc_temp_java_impl = np.percentile(df_cc_temp_boxplot_em_java_impl.file_complexity, [75])\n",
        "  em_q4_cc_temp_java_impl = np.percentile(df_cc_temp_boxplot_em_java_impl.file_complexity, [100])\n",
        "  print(f'Quartis do Total de Linhas Modificadas: Q1: {em_q1_cc_temp_java_impl}, Q2: {em_q2_cc_temp_java_impl}, Q3: {em_q3_cc_temp_java_impl}, Q4: {em_q4_cc_temp_java_impl}')\n",
        "  return em_q1_cc_temp_java_impl, em_q2_cc_temp_java_impl, em_q3_cc_temp_java_impl, em_q4_cc_temp_java_impl"
      ],
      "metadata": {
        "id": "OIxpF37pmPnt"
      },
      "execution_count": 130,
      "outputs": []
    },
    {
      "cell_type": "markdown",
      "source": [
        "### Testa as métricas de AMLOC e scatter plots"
      ],
      "metadata": {
        "id": "HuC8vC-e-Sh-"
      }
    },
    {
      "cell_type": "code",
      "source": [
        "df_accumulated_modified_locs, df_accumulated_modified_locs_boxplot, group_files_modified_lines = get_accumulated_modified_locs(df_files_from_db)"
      ],
      "metadata": {
        "id": "JiLgMwEJgMuT"
      },
      "execution_count": 131,
      "outputs": []
    },
    {
      "cell_type": "code",
      "source": [
        "gera_boxplot_accumulated_modified_locs(df_accumulated_modified_locs_boxplot)"
      ],
      "metadata": {
        "colab": {
          "base_uri": "https://localhost:8080/",
          "height": 0
        },
        "id": "T6mLI7pNnzue",
        "outputId": "eaa6f596-5ce3-4ee5-a1fd-dab09b2044ed"
      },
      "execution_count": 132,
      "outputs": [
        {
          "output_type": "display_data",
          "data": {
            "text/plain": [
              "<Figure size 600x400 with 1 Axes>"
            ],
            "image/png": "[encoded data removed]"
          },
          "metadata": {}
        }
      ]
    },
    {
      "cell_type": "code",
      "source": [
        "df_accumulated_modified_locs_boxplot_validos = get_accumulated_modified_locs_boxplot_valid(df_accumulated_modified_locs_boxplot)"
      ],
      "metadata": {
        "colab": {
          "base_uri": "https://localhost:8080/",
          "height": 0
        },
        "id": "oYh1474jo4rd",
        "outputId": "2df765a8-e1a5-48d0-ca85-cfeee49662f2"
      },
      "execution_count": 133,
      "outputs": [
        {
          "output_type": "display_data",
          "data": {
            "text/plain": [
              "<Figure size 600x400 with 1 Axes>"
            ],
            "image/png": "[encoded data removed]"
          },
          "metadata": {}
        }
      ]
    },
    {
      "cell_type": "code",
      "source": [
        "em_q1, em_q2, em_q3, em_q4 = get_quartiles_offiles_modified_lines(group_files_modified_lines,df_accumulated_modified_locs_boxplot_validos)"
      ],
      "metadata": {
        "colab": {
          "base_uri": "https://localhost:8080/"
        },
        "id": "mDNj9fHZp0Vs",
        "outputId": "5de85f06-8cf0-40de-ed2e-43a743d2be5e"
      },
      "execution_count": 134,
      "outputs": [
        {
          "output_type": "stream",
          "name": "stdout",
          "text": [
            "1, {'modified_lines': {'AbstractModel.java': 55, 'AbstractService.java': 57, 'BackendApplication.java': 23, 'BackendApplicationTests.java': 18, 'Book.java': 112, 'BookController.java': 100, 'BookNotFoundException.java': 23, 'BookService.java': 94, 'Category.java': 10, 'Coupon.java': 181, 'CouponController.java': 203, 'CouponNotFoundException.java': 14, 'CouponService.java': 176, 'CouponsRepository.java': 11, 'CouponsSent.java': 74, 'CouponsService.java': 29, 'Diagrama de Classes Servicos Promocity.asta': 0, 'Diagrama de Classes Servicos Promocity.png': 0, 'GPSPoint.java': 38, 'GenericExceptionMapper.java': 20, 'GeographicArea.java': 93, 'GeradorSenha.java': 33, 'ICouponService.java': 13, 'IPromotionService.java': 13, 'IStoreService.java': 13, 'IUserService.java': 27, 'JerseyConfiguration.java': 54, 'LICENSE': 27, 'LocationStore.java': 79, 'ManipuladorDatas.java': 27, 'Message.java': 20, 'Messenger.java': 31, 'MyStores.java': 34, 'MyStoresRepository.java': 12, 'MyStoresService.java': 26, 'MyTracking.java': 38, 'MyTrackingRepository.java': 12, 'MyTrackingService.java': 28, 'PrincipalController.java': 85, 'Promocity - Um serviço ubíquo geolocalizado de promoções contextuais.pdf': 0, 'Promotion.java': 152, 'PromotionArea.java': 68, 'PromotionController.java': 201, 'PromotionNotFoundException.java': 14, 'PromotionService.java': 190, 'PromotionsRepository.java': 11, 'PromotionsService.java': 26, 'README.md': 205, 'ReportApplication.java': 28, 'ReportCoupon.java': 183, 'ReportPromotion.java': 118, 'ReportStore.java': 129, 'ReportUser.java': 136, 'Statemachine Contexto Proximidade.png': 0, 'Statemachine Diagram Checa Proximidade Usuario.asta': 0, 'Store.java': 179, 'StoreController.java': 439, 'StoreNotFoundException.java': 14, 'StoreService.java': 514, 'StoresRepository.java': 11, 'Swagger Doc Promocity Web Server.pdf': 0, 'Track.java': 39, 'TrackRepository.java': 11, 'TrackService.java': 31, 'User.java': 118, 'UserController.java': 963, 'UserLocationMonitoring.java': 316, 'UserNotFoundException.java': 10, 'UserService.java': 190, 'Users.java': 350, 'UsersRepository.java': 18, 'UsersService.java': 37, 'WebSecurityConfig.java': 27, 'amigos.sh': 11, 'application.yml': 27, 'basico.sh': 12, 'build.yml': 40, 'index.html': 6736, 'limpa-cupons.sql': 3, 'pom.xml': 85, 'popula.sql': 34, 'populadados.sql': 8, 'populausers.sql': 9, 'promocity.pdf': 0, 'restaura-banco.sql': 463, 'security.sql': 68, 'swagger-5.yaml': 1080, 'swagger.yaml': 1286, 'teste-promocity.sh': 44, 'teste.sh': 12, 'ufc.sh': 12}}\n",
            "Quartis do Total de Linhas Modificadas: Q1: [17.], Q2: [35.5], Q3: [120.75], Q4: [6736.]\n"
          ]
        }
      ]
    },
    {
      "cell_type": "code",
      "source": [
        "df_locm_java_impl = get_df_accumulated_modified_java_files(df_accumulated_modified_locs)\n",
        "df_boxplot_em_java_impl = show_boxplot_accumulated_modified_java_files(df_locm_java_impl)"
      ],
      "metadata": {
        "colab": {
          "base_uri": "https://localhost:8080/",
          "height": 0
        },
        "id": "j82kr5ZRrNAd",
        "outputId": "65184e62-d2d1-4cb0-d6c6-9bac4288a6f2"
      },
      "execution_count": 135,
      "outputs": [
        {
          "output_type": "display_data",
          "data": {
            "text/plain": [
              "<Figure size 600x400 with 1 Axes>"
            ],
            "image/png": "[encoded data removed]"
          },
          "metadata": {}
        }
      ]
    },
    {
      "cell_type": "code",
      "source": [
        "df_boxplot_em_java_impl_valid = get_accumulated_modified_java_files_valid(df_boxplot_em_java_impl)"
      ],
      "metadata": {
        "colab": {
          "base_uri": "https://localhost:8080/",
          "height": 0
        },
        "id": "RzkunxoStUmn",
        "outputId": "dec29747-b448-4a63-8e21-b1c204e3d333"
      },
      "execution_count": 136,
      "outputs": [
        {
          "output_type": "display_data",
          "data": {
            "text/plain": [
              "<Figure size 600x400 with 1 Axes>"
            ],
            "image/png": "[encoded data removed]"
          },
          "metadata": {}
        }
      ]
    },
    {
      "cell_type": "code",
      "source": [
        "em_q1_java_impl, em_q2_java_impl, em_q3_java_impl, em_q4_java_impl = get_quartiles_offiles_modified_lines_java_files_valid(df_boxplot_em_java_impl_valid)"
      ],
      "metadata": {
        "colab": {
          "base_uri": "https://localhost:8080/"
        },
        "id": "P8F9pGIFt92s",
        "outputId": "00ae8a25-4a2c-41b7-89d7-69ed160429db"
      },
      "execution_count": 137,
      "outputs": [
        {
          "output_type": "stream",
          "name": "stdout",
          "text": [
            "Quartis do Total de Linhas Modificadas: Q1: [20.], Q2: [37.5], Q3: [120.75], Q4: [963.]\n"
          ]
        }
      ]
    },
    {
      "cell_type": "markdown",
      "source": [
        "### Testa as métricas de complexidade ciclomática"
      ],
      "metadata": {
        "id": "6q2qrxzL-aQl"
      }
    },
    {
      "cell_type": "code",
      "source": [
        "df_complexidade_ciclomatica = get_complexidade_ciclomatica(df_files_commits_from_db)\n",
        "df_complexidade_ciclomatica"
      ],
      "metadata": {
        "colab": {
          "base_uri": "https://localhost:8080/",
          "height": 0
        },
        "id": "iOb61PnSiun4",
        "outputId": "57800587-7d47-47e4-b92d-9e8549df9a12"
      },
      "execution_count": 138,
      "outputs": [
        {
          "output_type": "execute_result",
          "data": {
            "text/plain": [
              "               file_filename  file_complexity                 author_date\n",
              "60        AbstractModel.java             11.0  2018-11-02 16:57:10.000000\n",
              "100       AbstractModel.java             11.0  2018-11-13 12:19:15.000000\n",
              "64      AbstractService.java              7.0  2018-11-02 16:57:10.000000\n",
              "2    BackendApplication.java              1.0  2018-10-31 00:40:14.000000\n",
              "38   BackendApplication.java              1.0  2018-11-01 19:24:13.000000\n",
              "..                       ...              ...                         ...\n",
              "123     UsersRepository.java              0.0  2018-11-21 19:41:29.000000\n",
              "66         UsersService.java              1.0  2018-11-02 16:57:10.000000\n",
              "125        UsersService.java              3.0  2018-11-21 19:41:29.000000\n",
              "124   WebSecurityConfig.java              1.0  2018-11-21 19:41:29.000000\n",
              "214   WebSecurityConfig.java              1.0  2018-12-05 15:26:10.000000\n",
              "\n",
              "[162 rows x 3 columns]"
            ],
            "text/html": [
              "\n",
              "  <div id=\"df-bfcc95f0-7f6d-4b7b-a378-d5ad7ef05cee\">\n",
              "    <div class=\"colab-df-container\">\n",
              "      <div>\n",
              "<style scoped>\n",
              "    .dataframe tbody tr th:only-of-type {\n",
              "        vertical-align: middle;\n",
              "    }\n",
              "\n",
              "    .dataframe tbody tr th {\n",
              "        vertical-align: top;\n",
              "    }\n",
              "\n",
              "    .dataframe thead th {\n",
              "        text-align: right;\n",
              "    }\n",
              "</style>\n",
              "<table border=\"1\" class=\"dataframe\">\n",
              "  <thead>\n",
              "    <tr style=\"text-align: right;\">\n",
              "      <th></th>\n",
              "      <th>file_filename</th>\n",
              "      <th>file_complexity</th>\n",
              "      <th>author_date</th>\n",
              "    </tr>\n",
              "  </thead>\n",
              "  <tbody>\n",
              "    <tr>\n",
              "      <th>60</th>\n",
              "      <td>AbstractModel.java</td>\n",
              "      <td>11.0</td>\n",
              "      <td>2018-11-02 16:57:10.000000</td>\n",
              "    </tr>\n",
              "    <tr>\n",
              "      <th>100</th>\n",
              "      <td>AbstractModel.java</td>\n",
              "      <td>11.0</td>\n",
              "      <td>2018-11-13 12:19:15.000000</td>\n",
              "    </tr>\n",
              "    <tr>\n",
              "      <th>64</th>\n",
              "      <td>AbstractService.java</td>\n",
              "      <td>7.0</td>\n",
              "      <td>2018-11-02 16:57:10.000000</td>\n",
              "    </tr>\n",
              "    <tr>\n",
              "      <th>2</th>\n",
              "      <td>BackendApplication.java</td>\n",
              "      <td>1.0</td>\n",
              "      <td>2018-10-31 00:40:14.000000</td>\n",
              "    </tr>\n",
              "    <tr>\n",
              "      <th>38</th>\n",
              "      <td>BackendApplication.java</td>\n",
              "      <td>1.0</td>\n",
              "      <td>2018-11-01 19:24:13.000000</td>\n",
              "    </tr>\n",
              "    <tr>\n",
              "      <th>...</th>\n",
              "      <td>...</td>\n",
              "      <td>...</td>\n",
              "      <td>...</td>\n",
              "    </tr>\n",
              "    <tr>\n",
              "      <th>123</th>\n",
              "      <td>UsersRepository.java</td>\n",
              "      <td>0.0</td>\n",
              "      <td>2018-11-21 19:41:29.000000</td>\n",
              "    </tr>\n",
              "    <tr>\n",
              "      <th>66</th>\n",
              "      <td>UsersService.java</td>\n",
              "      <td>1.0</td>\n",
              "      <td>2018-11-02 16:57:10.000000</td>\n",
              "    </tr>\n",
              "    <tr>\n",
              "      <th>125</th>\n",
              "      <td>UsersService.java</td>\n",
              "      <td>3.0</td>\n",
              "      <td>2018-11-21 19:41:29.000000</td>\n",
              "    </tr>\n",
              "    <tr>\n",
              "      <th>124</th>\n",
              "      <td>WebSecurityConfig.java</td>\n",
              "      <td>1.0</td>\n",
              "      <td>2018-11-21 19:41:29.000000</td>\n",
              "    </tr>\n",
              "    <tr>\n",
              "      <th>214</th>\n",
              "      <td>WebSecurityConfig.java</td>\n",
              "      <td>1.0</td>\n",
              "      <td>2018-12-05 15:26:10.000000</td>\n",
              "    </tr>\n",
              "  </tbody>\n",
              "</table>\n",
              "<p>162 rows × 3 columns</p>\n",
              "</div>\n",
              "      <button class=\"colab-df-convert\" onclick=\"convertToInteractive('df-bfcc95f0-7f6d-4b7b-a378-d5ad7ef05cee')\"\n",
              "              title=\"Convert this dataframe to an interactive table.\"\n",
              "              style=\"display:none;\">\n",
              "        \n",
              "  <svg xmlns=\"http://www.w3.org/2000/svg\" height=\"24px\"viewBox=\"0 0 24 24\"\n",
              "       width=\"24px\">\n",
              "    <path d=\"M0 0h24v24H0V0z\" fill=\"none\"/>\n",
              "    <path d=\"M18.56 5.44l.94 2.06.94-2.06 2.06-.94-2.06-.94-.94-2.06-.94 2.06-2.06.94zm-11 1L8.5 8.5l.94-2.06 2.06-.94-2.06-.94L8.5 2.5l-.94 2.06-2.06.94zm10 10l.94 2.06.94-2.06 2.06-.94-2.06-.94-.94-2.06-.94 2.06-2.06.94z\"/><path d=\"M17.41 7.96l-1.37-1.37c-.4-.4-.92-.59-1.43-.59-.52 0-1.04.2-1.43.59L10.3 9.45l-7.72 7.72c-.78.78-.78 2.05 0 2.83L4 21.41c.39.39.9.59 1.41.59.51 0 1.02-.2 1.41-.59l7.78-7.78 2.81-2.81c.8-.78.8-2.07 0-2.86zM5.41 20L4 18.59l7.72-7.72 1.47 1.35L5.41 20z\"/>\n",
              "  </svg>\n",
              "      </button>\n",
              "      \n",
              "  <style>\n",
              "    .colab-df-container {\n",
              "      display:flex;\n",
              "      flex-wrap:wrap;\n",
              "      gap: 12px;\n",
              "    }\n",
              "\n",
              "    .colab-df-convert {\n",
              "      background-color: #E8F0FE;\n",
              "      border: none;\n",
              "      border-radius: 50%;\n",
              "      cursor: pointer;\n",
              "      display: none;\n",
              "      fill: #1967D2;\n",
              "      height: 32px;\n",
              "      padding: 0 0 0 0;\n",
              "      width: 32px;\n",
              "    }\n",
              "\n",
              "    .colab-df-convert:hover {\n",
              "      background-color: #E2EBFA;\n",
              "      box-shadow: 0px 1px 2px rgba(60, 64, 67, 0.3), 0px 1px 3px 1px rgba(60, 64, 67, 0.15);\n",
              "      fill: #174EA6;\n",
              "    }\n",
              "\n",
              "    [theme=dark] .colab-df-convert {\n",
              "      background-color: #3B4455;\n",
              "      fill: #D2E3FC;\n",
              "    }\n",
              "\n",
              "    [theme=dark] .colab-df-convert:hover {\n",
              "      background-color: #434B5C;\n",
              "      box-shadow: 0px 1px 3px 1px rgba(0, 0, 0, 0.15);\n",
              "      filter: drop-shadow(0px 1px 2px rgba(0, 0, 0, 0.3));\n",
              "      fill: #FFFFFF;\n",
              "    }\n",
              "  </style>\n",
              "\n",
              "      <script>\n",
              "        const buttonEl =\n",
              "          document.querySelector('#df-bfcc95f0-7f6d-4b7b-a378-d5ad7ef05cee button.colab-df-convert');\n",
              "        buttonEl.style.display =\n",
              "          google.colab.kernel.accessAllowed ? 'block' : 'none';\n",
              "\n",
              "        async function convertToInteractive(key) {\n",
              "          const element = document.querySelector('#df-bfcc95f0-7f6d-4b7b-a378-d5ad7ef05cee');\n",
              "          const dataTable =\n",
              "            await google.colab.kernel.invokeFunction('convertToInteractive',\n",
              "                                                     [key], {});\n",
              "          if (!dataTable) return;\n",
              "\n",
              "          const docLinkHtml = 'Like what you see? Visit the ' +\n",
              "            '<a target=\"_blank\" href=https://colab.research.google.com/notebooks/data_table.ipynb>data table notebook</a>'\n",
              "            + ' to learn more about interactive tables.';\n",
              "          element.innerHTML = '';\n",
              "          dataTable['output_type'] = 'display_data';\n",
              "          await google.colab.output.renderOutput(dataTable, element);\n",
              "          const docLink = document.createElement('div');\n",
              "          docLink.innerHTML = docLinkHtml;\n",
              "          element.appendChild(docLink);\n",
              "        }\n",
              "      </script>\n",
              "    </div>\n",
              "  </div>\n",
              "  "
            ]
          },
          "metadata": {},
          "execution_count": 138
        }
      ]
    },
    {
      "cell_type": "code",
      "source": [
        "df_cc_temp,df_boxplot_cc_temp = get_boxplot_complexidade_ciclomatica(df_complexidade_ciclomatica)"
      ],
      "metadata": {
        "colab": {
          "base_uri": "https://localhost:8080/",
          "height": 0
        },
        "id": "-zkEue4pIu09",
        "outputId": "c40e6648-b916-421c-fe07-f58ce8739f64"
      },
      "execution_count": 139,
      "outputs": [
        {
          "output_type": "display_data",
          "data": {
            "text/plain": [
              "<Figure size 600x400 with 1 Axes>"
            ],
            "image/png": "[encoded data removed]"
          },
          "metadata": {}
        }
      ]
    },
    {
      "cell_type": "code",
      "source": [
        "em_q1_cc_temp,em_q2_cc_temp, em_q3_cc_temp, em_q4_cc_temp = get_quartiles_complexidade_ciclomatica(df_boxplot_cc_temp)"
      ],
      "metadata": {
        "colab": {
          "base_uri": "https://localhost:8080/"
        },
        "id": "NRbDwKf8JOmu",
        "outputId": "98ac7fed-909b-4e5c-c521-6786bb26425a"
      },
      "execution_count": 140,
      "outputs": [
        {
          "output_type": "stream",
          "name": "stdout",
          "text": [
            "Quartis do Total de Linhas Modificadas: Q1: [2.], Q2: [10.], Q3: [19.5], Q4: [59.]\n"
          ]
        }
      ]
    },
    {
      "cell_type": "code",
      "source": [
        "df_cc_temp_java_impl, df_cc_temp_boxplot_em_java_impl = get_boxplot_complexidade_ciclomatica_only_java(df_cc_temp)"
      ],
      "metadata": {
        "colab": {
          "base_uri": "https://localhost:8080/",
          "height": 0
        },
        "id": "gnP9SyN2J5zV",
        "outputId": "c2b3279e-48d6-4ccb-ddde-82b325a56b7e"
      },
      "execution_count": 141,
      "outputs": [
        {
          "output_type": "display_data",
          "data": {
            "text/plain": [
              "<Figure size 600x400 with 1 Axes>"
            ],
            "image/png": "[encoded data removed]"
          },
          "metadata": {}
        }
      ]
    },
    {
      "cell_type": "code",
      "source": [
        "em_q1_cc_temp_java_impl, em_q2_cc_temp_java_impl, em_q3_cc_temp_java_impl, em_q4_cc_temp_java_impl= get_quartiles_complexidade_ciclomatica_java_impl(df_cc_temp_boxplot_em_java_impl)"
      ],
      "metadata": {
        "colab": {
          "base_uri": "https://localhost:8080/"
        },
        "id": "JmMacPAdLBHt",
        "outputId": "dd239dc2-8eb9-431e-a8b5-1071e494da34"
      },
      "execution_count": 142,
      "outputs": [
        {
          "output_type": "stream",
          "name": "stdout",
          "text": [
            "Quartis do Total de Linhas Modificadas: Q1: [2.], Q2: [10.], Q3: [20.], Q4: [59.]\n"
          ]
        }
      ]
    },
    {
      "cell_type": "markdown",
      "source": [
        "## Cálculo do FOC e geração da relação AMLOCxFOC"
      ],
      "metadata": {
        "id": "JNnOuFLFmiqY"
      }
    },
    {
      "cell_type": "code",
      "source": [
        "import pandas as pd\n",
        "import matplotlib.pyplot as plt"
      ],
      "metadata": {
        "id": "Wvzkv5Ajp6Lr"
      },
      "execution_count": 143,
      "outputs": []
    },
    {
      "cell_type": "code",
      "source": [
        "def calcula_frequencia_commits(df_files_from_db):\n",
        "  # calcula frequência dos arquivos na faixa de commits analisados\n",
        "  list_of_files_frequency_in_commits = {}\n",
        "\n",
        "  # Dataframe agrupados por arquivos e seus commits\n",
        "  df_groupby_name = df_files_from_db[['name', 'hash']].groupby('name')\n",
        "\n",
        "  print(f'Quantidade de grupos: {df_groupby_name.ngroups}')\n",
        "  print(f'Grupos: {df_groupby_name.groups}')\n",
        "\n",
        "  group_files = df_groupby_name.size()\n",
        "  print(group_files)\n",
        "  print('')\n",
        "  list_of_files_frequency_in_commits = group_files.to_dict()\n",
        "  print(f'{ len(list_of_files_frequency_in_commits) }, {list_of_files_frequency_in_commits}')\n",
        "\n",
        "  # Cria um df contendo o arquivo e sua frequencia de commits\n",
        "  df_fc = pd.DataFrame({'name':group_files.index, 'frequency_commits': group_files.values})\n",
        "\n",
        "  df_boxplot_fc = df_fc\n",
        "  # Acrescenta a coluna File\n",
        "  df_boxplot_fc['File'] = 'File'\n",
        "  return df_fc, df_boxplot_fc\n",
        "\n",
        "def gera_boxplot_frequencia_commits(df_boxplot_fc):\n",
        "  plt.figure(figsize=(6,4))\n",
        "  sns.boxplot(x='File', y='frequency_commits', data=df_boxplot_fc)\n",
        "  plt.figure(figsize=(6,4))\n",
        "  plt.savefig('boxplot_frequencia_commmits.png')\n",
        "  # Constroi o Boxsplot sem os outliers\n",
        "  sns.boxplot(x='File', y='frequency_commits', data=df_boxplot_fc, showfliers=False)\n",
        "  plt.savefig('boxplot_frequencia_commmits_no_outliers.png')\n",
        "\n",
        "def calcula_quartiles_frequencia_commits(df_boxplot_fc):\n",
        "  fc_q1 = np.percentile(df_boxplot_fc.frequency_commits , [25])\n",
        "  fc_q2 = np.percentile(df_boxplot_fc.frequency_commits , [50])\n",
        "  fc_q3 = np.percentile(df_boxplot_fc.frequency_commits , [75])\n",
        "  fc_q4 = np.percentile(df_boxplot_fc.frequency_commits , [100])\n",
        "\n",
        "  print(f'Quartis da Frequencia de Commits Q1: {fc_q1}, Q2: {fc_q2}, Q3: {fc_q3}, Q4: {fc_q4}')\n",
        "  return fc_q1, fc_q2, fc_q3, fc_q4\n",
        "\n",
        "def gera_boxplot_frequencia_commits_only_java(df_fc):\n",
        "  # Cria um df sem os arquivos de Teste\n",
        "  df_fc_no_test = df_fc[(df_fc[\"name\"].str.contains('Test') == False)]\n",
        "\n",
        "  # Cria um df contendo apenas os arquivos .java de implementacao\n",
        "  df_fc_java_impl = df_fc_no_test[df_fc_no_test['name'].str.contains('.java', regex=False)]\n",
        "\n",
        "  df_boxplot_fc_java_impl = df_fc_java_impl[['frequency_commits', 'File']]\n",
        "\n",
        "  plt.figure(figsize=(6,4))\n",
        "  sns.boxplot(x='File', y='frequency_commits', data=df_boxplot_fc_java_impl)\n",
        "  plt.savefig('boxplot_frequencia_commmits_only_java.png')\n",
        "\n",
        "  plt.figure(figsize=(6,4))\n",
        "  # Constroi o Boxsplot sem os outliers\n",
        "  sns.boxplot(x='File', y='frequency_commits', data=df_boxplot_fc_java_impl, showfliers=False)\n",
        "  plt.savefig('boxplot_frequencia_commmits_only_java_no_outliers.png')\n",
        "\n",
        "  # Remove as frequencias muito baixas (total de commits < 3)\n",
        "  df_boxplot_fc_java_impl2 = df_boxplot_fc_java_impl.drop(df_boxplot_fc_java_impl[df_boxplot_fc_java_impl.frequency_commits < 3].index)\n",
        "  plt.figure(figsize=(6,4))\n",
        "  # Constroi o Boxsplot sem os outliers\n",
        "  sns.boxplot(x='File', y='frequency_commits', data=df_boxplot_fc_java_impl2, showfliers=False)\n",
        "  plt.savefig('boxplot_frequencia_commmits_only_java_no_outliers_less_3.png')\n",
        "  return df_fc_java_impl, df_boxplot_fc_java_impl, df_boxplot_fc_java_impl2\n",
        "\n",
        "def calcula_quartiles_frequencia_commmits_java_impl(df_fc_java_impl):\n",
        "  fc_q1_java_impl = np.percentile(df_fc_java_impl.frequency_commits , [25])\n",
        "  fc_q2_java_impl = np.percentile(df_fc_java_impl.frequency_commits , [50])\n",
        "  fc_q3_java_impl = np.percentile(df_fc_java_impl.frequency_commits , [75])\n",
        "  fc_q4_java_impl = np.percentile(df_fc_java_impl.frequency_commits , [100])\n",
        "  print(f'Quartis da Frequencia de Commits Q1: {fc_q1_java_impl}, Q2: {fc_q2_java_impl}, Q3: {fc_q3_java_impl}, Q4: {fc_q4_java_impl}')\n",
        "  return fc_q1_java_impl, fc_q2_java_impl, fc_q3_java_impl, fc_q4_java_impl\n",
        "\n",
        "def calcula_quartiles_frequencia_commmits_no_outliers(df_boxplot_fc_java_impl):\n",
        "  fc_q1_java_impl = np.percentile(df_boxplot_fc_java_impl.frequency_commits , [25])\n",
        "  fc_q2_java_impl = np.percentile(df_boxplot_fc_java_impl.frequency_commits , [50])\n",
        "  fc_q3_java_impl = np.percentile(df_boxplot_fc_java_impl.frequency_commits , [75])\n",
        "  fc_q4_java_impl = np.percentile(df_boxplot_fc_java_impl.frequency_commits , [100])\n",
        "  print(f'Quartis da Frequencia de Commits Q1: {fc_q1_java_impl}, Q2: {fc_q2_java_impl}, Q3: {fc_q3_java_impl}, Q4: {fc_q4_java_impl}')\n",
        "  return fc_q1_java_impl, fc_q2_java_impl, fc_q3_java_impl, fc_q4_java_impl\n",
        "\n",
        "def calcula_quartiles_frequencia_commmits_no_outliers_less_3(df_boxplot_fc_java_impl2):\n",
        "  fc_q1_java_impl = np.percentile(df_boxplot_fc_java_impl2.frequency_commits , [25])\n",
        "  fc_q2_java_impl = np.percentile(df_boxplot_fc_java_impl2.frequency_commits , [50])\n",
        "  fc_q3_java_impl = np.percentile(df_boxplot_fc_java_impl2.frequency_commits , [75])\n",
        "  fc_q4_java_impl = np.percentile(df_boxplot_fc_java_impl2.frequency_commits , [100])\n",
        "  print(f'Quartis da Frequencia de Commits Q1: {fc_q1_java_impl}, Q2: {fc_q2_java_impl}, Q3: {fc_q3_java_impl}, Q4: {fc_q4_java_impl}')\n",
        "  return fc_q1_java_impl, fc_q2_java_impl, fc_q3_java_impl, fc_q4_java_impl\n",
        "\n",
        "def gera_df_foc_amloc(df_accumulated_modified_locs):\n",
        "  df_em_fc = df_accumulated_modified_locs[['name','modified_lines']]\n",
        "  df_em_fc['frequency_commits'] = df_fc['frequency_commits']\n",
        "  return df_em_fc\n",
        "\n",
        "def gera_df_fator_foc_amloc(df_em_fc):\n",
        "  df_fator_multiplicacao = df_em_fc.copy()\n",
        "  df_fator_multiplicacao['factor1'] = df_fator_multiplicacao['modified_lines'] * df_fator_multiplicacao['frequency_commits']\n",
        "  return df_fator_multiplicacao\n",
        "\n",
        "def gera_scatter_plot_foc_amloc(df_em_fc):\n",
        "  plt.style.use('ggplot')\n",
        "  plt.figure(figsize=(12,8))\n",
        "  sns.scatterplot(data=df_em_fc, x='modified_lines', y='frequency_commits')\n",
        "  abbr={'titulo':'Modificações de LoCs x Frequência de Commits', 'modified_lines':'Modificações de Locs', 'frequency_commits':'Frequência de Commits'}\n",
        "  plt.title(f\"Análise do Repositório Promocity : {abbr['modified_lines']} x {abbr['frequency_commits']}\")\n",
        "  plt.xlabel(abbr['modified_lines'])\n",
        "  plt.ylabel(abbr['frequency_commits'])\n",
        "\n",
        "  for i in range(df_em_fc.shape[0]):\n",
        "    if df_em_fc.modified_lines[i] > em_q3 and df_em_fc.frequency_commits[i] > fc_q3:\n",
        "      plt.text(df_em_fc.modified_lines[i], y=df_em_fc.frequency_commits[i], s=df_em_fc.name[i], alpha=0.8, fontsize=8)\n",
        "  plt.savefig('scatter_plot_foc_amloc.png')\n",
        "  plt.show()\n",
        "\n",
        "def gera_scatter_plot_foc_amloc(df_em_fc):\n",
        "  # Cria um df sem os arquivos de Teste\n",
        "  df_em_fc_no_test = df_em_fc[(df_em_fc[\"name\"].str.contains('Test') == False)]\n",
        "  # Cria um df contendo apenas os arquivos .java de implementacao\n",
        "  df_em_fc_java_impl = df_em_fc_no_test[df_em_fc_no_test['name'].str.contains('.java', regex=False)]\n",
        "\n",
        "  df_fator_multiplicacao_em_fc_java_impl = df_em_fc_java_impl.copy()\n",
        "  df_fator_multiplicacao_em_fc_java_impl['factor1'] = df_fator_multiplicacao_em_fc_java_impl['modified_lines'] * df_fator_multiplicacao_em_fc_java_impl['frequency_commits']\n",
        "\n",
        "  s = df_fator_multiplicacao_em_fc_java_impl.copy()\n",
        "\n",
        "  plt.style.use('ggplot')\n",
        "  plt.figure(figsize=(12,8))\n",
        "  sns.scatterplot(data=df_em_fc_java_impl, x='modified_lines', y='frequency_commits')\n",
        "  abbr={'titulo':'Modificações de LoCs x Frequência de Commits', 'modified_lines':'Modificações de Locs', 'frequency_commits':'Frequência de Commits'}\n",
        "  plt.title(f\"Análise do Repositório Promocity : {abbr['modified_lines']} x {abbr['frequency_commits']}\")\n",
        "  plt.xlabel(abbr['modified_lines'])\n",
        "  plt.ylabel(abbr['frequency_commits'])\n",
        "  plt.savefig('scatter_plot_foc_amloc_only_java.png')\n",
        "  plt.show()\n",
        "  return df_em_fc_java_impl, df_fator_multiplicacao_em_fc_java_impl\n",
        "\n",
        "def gera_scatter_plot_foc_amloc_com_quadrantes(df_em_fc_java_impl):\n",
        "  lista_temp_index_modified_lines = []\n",
        "  for items in df_em_fc_java_impl.modified_lines.items():\n",
        "    lista_temp_index_modified_lines.append((items[0], items[1]))\n",
        "\n",
        "  list_initial_critical_files_from_sp = []\n",
        "\n",
        "  plt.style.use('ggplot')\n",
        "  plt.figure(figsize=(12,8))\n",
        "  sns.scatterplot(data=df_em_fc_java_impl, x='modified_lines', y='frequency_commits')\n",
        "  abbr={'titulo':'Modificações de LoCs x Frequência de Commits', 'modified_lines':'Modificações de Locs', 'frequency_commits':'Frequência de Commits'}\n",
        "  plt.title(f\"Análise do Repositório Promocity : {abbr['modified_lines']} x {abbr['frequency_commits']}\")\n",
        "  plt.xlabel(abbr['modified_lines'])\n",
        "  plt.ylabel(abbr['frequency_commits'])\n",
        "\n",
        "  for i in lista_temp_index_modified_lines:\n",
        "    if df_em_fc_java_impl.modified_lines[i[0]] > em_q3_java_impl and df_em_fc_java_impl.frequency_commits[i[0]] > fc_q3_java_impl:\n",
        "        plt.text(df_em_fc_java_impl.modified_lines[i[0]], y=df_em_fc_java_impl.frequency_commits[i[0]], s=df_em_fc_java_impl.name[i[0]], alpha=0.8, fontsize=8)\n",
        "        list_initial_critical_files_from_sp.append( (df_em_fc_java_impl.name[i[0]], df_em_fc_java_impl.modified_lines[i[0]], df_em_fc_java_impl.frequency_commits[i[0]]) )\n",
        "\n",
        "  #Mean values\n",
        "  plt.axvline(x=em_q3_java_impl, color='k',linestyle='--', linewidth=1)\n",
        "  plt.axhline(y=fc_q3_java_impl, color='k', linestyle='--', linewidth=1)\n",
        "\n",
        "  #Quadrant Marker\n",
        "  plt.text(x=500, y=10, s=\"Q1\",alpha=0.8,fontsize=12, color='b')\n",
        "  plt.text(x=500, y=0, s=\"Q4\",alpha=0.8,fontsize=12, color='b')\n",
        "  plt.text(x=0, y=0, s=\"Q3\", alpha=0.8,fontsize=12, color='b')\n",
        "  plt.text(x=0, y=10, s=\"Q2\", alpha=0.8,fontsize=12, color='b')\n",
        "  plt.savefig('scatter_plot_foc_amloc_only_java_com_quadrantes.png')\n",
        "  plt.show()\n",
        "  return list_initial_critical_files_from_sp\n",
        "\n",
        "def gera_scatter_plot_final_foc_amloc_com_quadrantes(list_initial_critical_files_from_sp, df_em_fc_java_impl, em_q3_java_impl, fc_q3_java_impl):\n",
        "  for item in list_initial_critical_files_from_sp:\n",
        "    print(item)\n",
        "  # Pego da secao de analise de Architectural Smells\n",
        "  # selecao de classes criticas que pertencem ao Q1 (quadrante1) -> Modified LOC ALTA e Frequencia de Commits Alta\n",
        "  my_temp_lista_arquivos_criticos = [('StoreController.java', 439, 11), ('UserController.java', 963, 22), ('UserLocationMonitoring.java', 316, 11), ('Users.java', 350, 11)]\n",
        "\n",
        "  my_temp_lista_arquivos_criticos_names = []\n",
        "  for i in range(0,  len(my_temp_lista_arquivos_criticos)):\n",
        "    my_temp_lista_arquivos_criticos_names.append(my_temp_lista_arquivos_criticos[i][0])\n",
        "\n",
        "  lista_temp_index_modified_lines = []\n",
        "  for items in df_em_fc_java_impl.modified_lines.items():\n",
        "    lista_temp_index_modified_lines.append((items[0], items[1]))\n",
        "\n",
        "  list_critical_files = []\n",
        "\n",
        "  plt.style.use('ggplot')\n",
        "  plt.figure(figsize=(12,8))\n",
        "  sns.scatterplot(data=df_em_fc_java_impl, x='modified_lines', y='frequency_commits')\n",
        "\n",
        "  abbr={'titulo':'LOCs Modifications x Files Occurrence in Commits', 'modified_lines':'LOCs Modifications', 'frequency_commits':'Files Occurrence in Commits'}\n",
        "\n",
        "  plt.title(f\"Analysis of Promocity Repository : {abbr['modified_lines']} x {abbr['frequency_commits']}\")\n",
        "  plt.xlabel(abbr['modified_lines'])\n",
        "  plt.ylabel(abbr['frequency_commits'])\n",
        "\n",
        "  for i in lista_temp_index_modified_lines:\n",
        "    if df_em_fc_java_impl.modified_lines[i[0]] > em_q3_java_impl and df_em_fc_java_impl.frequency_commits[i[0]] > fc_q3_java_impl:\n",
        "      if df_em_fc_java_impl.name[i[0]] in my_temp_lista_arquivos_criticos_names:\n",
        "        plt.text(df_em_fc_java_impl.modified_lines[i[0]], y=df_em_fc_java_impl.frequency_commits[i[0]], s=df_em_fc_java_impl.name[i[0]], alpha=0.8, fontsize=8)\n",
        "        list_critical_files.append( (df_em_fc_java_impl.name[i[0]], df_em_fc_java_impl.modified_lines[i[0]], df_em_fc_java_impl.frequency_commits[i[0]]) )\n",
        "\n",
        "  #Mean values\n",
        "  plt.axvline(x=em_q3_java_impl, color='k',linestyle='--', linewidth=1)\n",
        "  plt.axhline(y=fc_q3_java_impl, color='k', linestyle='--', linewidth=1)\n",
        "\n",
        "  #Quadrant Marker\n",
        "  plt.text(x=500, y=10, s=\"Q1\",alpha=0.8,fontsize=12, color='b')\n",
        "  plt.text(x=500, y=0, s=\"Q4\",alpha=0.8,fontsize=12, color='b')\n",
        "  plt.text(x=0, y=0, s=\"Q3\", alpha=0.8,fontsize=12, color='b')\n",
        "  plt.text(x=0, y=10, s=\"Q2\", alpha=0.8,fontsize=12, color='b')\n",
        "\n",
        "  plt.savefig('scatter_plot_mloc_foc_final_java_com_quadrantes.png')\n",
        "  plt.show()\n",
        "  return list_critical_files"
      ],
      "metadata": {
        "id": "UryeUP1pqSqH"
      },
      "execution_count": 178,
      "outputs": []
    },
    {
      "cell_type": "code",
      "source": [
        "df_files_from_db[['name', 'hash']].query(\"name=='.gitignore'\")"
      ],
      "metadata": {
        "colab": {
          "base_uri": "https://localhost:8080/",
          "height": 49
        },
        "id": "XM1muBXwpqY-",
        "outputId": "305b228a-4b91-4d11-ba75-b892af935153"
      },
      "execution_count": 35,
      "outputs": [
        {
          "output_type": "execute_result",
          "data": {
            "text/plain": [
              "Empty DataFrame\n",
              "Columns: [name, hash]\n",
              "Index: []"
            ],
            "text/html": [
              "\n",
              "  <div id=\"df-cbc5ba8c-b676-4739-bb37-0eb4748fe200\">\n",
              "    <div class=\"colab-df-container\">\n",
              "      <div>\n",
              "<style scoped>\n",
              "    .dataframe tbody tr th:only-of-type {\n",
              "        vertical-align: middle;\n",
              "    }\n",
              "\n",
              "    .dataframe tbody tr th {\n",
              "        vertical-align: top;\n",
              "    }\n",
              "\n",
              "    .dataframe thead th {\n",
              "        text-align: right;\n",
              "    }\n",
              "</style>\n",
              "<table border=\"1\" class=\"dataframe\">\n",
              "  <thead>\n",
              "    <tr style=\"text-align: right;\">\n",
              "      <th></th>\n",
              "      <th>name</th>\n",
              "      <th>hash</th>\n",
              "    </tr>\n",
              "  </thead>\n",
              "  <tbody>\n",
              "  </tbody>\n",
              "</table>\n",
              "</div>\n",
              "      <button class=\"colab-df-convert\" onclick=\"convertToInteractive('df-cbc5ba8c-b676-4739-bb37-0eb4748fe200')\"\n",
              "              title=\"Convert this dataframe to an interactive table.\"\n",
              "              style=\"display:none;\">\n",
              "        \n",
              "  <svg xmlns=\"http://www.w3.org/2000/svg\" height=\"24px\"viewBox=\"0 0 24 24\"\n",
              "       width=\"24px\">\n",
              "    <path d=\"M0 0h24v24H0V0z\" fill=\"none\"/>\n",
              "    <path d=\"M18.56 5.44l.94 2.06.94-2.06 2.06-.94-2.06-.94-.94-2.06-.94 2.06-2.06.94zm-11 1L8.5 8.5l.94-2.06 2.06-.94-2.06-.94L8.5 2.5l-.94 2.06-2.06.94zm10 10l.94 2.06.94-2.06 2.06-.94-2.06-.94-.94-2.06-.94 2.06-2.06.94z\"/><path d=\"M17.41 7.96l-1.37-1.37c-.4-.4-.92-.59-1.43-.59-.52 0-1.04.2-1.43.59L10.3 9.45l-7.72 7.72c-.78.78-.78 2.05 0 2.83L4 21.41c.39.39.9.59 1.41.59.51 0 1.02-.2 1.41-.59l7.78-7.78 2.81-2.81c.8-.78.8-2.07 0-2.86zM5.41 20L4 18.59l7.72-7.72 1.47 1.35L5.41 20z\"/>\n",
              "  </svg>\n",
              "      </button>\n",
              "      \n",
              "  <style>\n",
              "    .colab-df-container {\n",
              "      display:flex;\n",
              "      flex-wrap:wrap;\n",
              "      gap: 12px;\n",
              "    }\n",
              "\n",
              "    .colab-df-convert {\n",
              "      background-color: #E8F0FE;\n",
              "      border: none;\n",
              "      border-radius: 50%;\n",
              "      cursor: pointer;\n",
              "      display: none;\n",
              "      fill: #1967D2;\n",
              "      height: 32px;\n",
              "      padding: 0 0 0 0;\n",
              "      width: 32px;\n",
              "    }\n",
              "\n",
              "    .colab-df-convert:hover {\n",
              "      background-color: #E2EBFA;\n",
              "      box-shadow: 0px 1px 2px rgba(60, 64, 67, 0.3), 0px 1px 3px 1px rgba(60, 64, 67, 0.15);\n",
              "      fill: #174EA6;\n",
              "    }\n",
              "\n",
              "    [theme=dark] .colab-df-convert {\n",
              "      background-color: #3B4455;\n",
              "      fill: #D2E3FC;\n",
              "    }\n",
              "\n",
              "    [theme=dark] .colab-df-convert:hover {\n",
              "      background-color: #434B5C;\n",
              "      box-shadow: 0px 1px 3px 1px rgba(0, 0, 0, 0.15);\n",
              "      filter: drop-shadow(0px 1px 2px rgba(0, 0, 0, 0.3));\n",
              "      fill: #FFFFFF;\n",
              "    }\n",
              "  </style>\n",
              "\n",
              "      <script>\n",
              "        const buttonEl =\n",
              "          document.querySelector('#df-cbc5ba8c-b676-4739-bb37-0eb4748fe200 button.colab-df-convert');\n",
              "        buttonEl.style.display =\n",
              "          google.colab.kernel.accessAllowed ? 'block' : 'none';\n",
              "\n",
              "        async function convertToInteractive(key) {\n",
              "          const element = document.querySelector('#df-cbc5ba8c-b676-4739-bb37-0eb4748fe200');\n",
              "          const dataTable =\n",
              "            await google.colab.kernel.invokeFunction('convertToInteractive',\n",
              "                                                     [key], {});\n",
              "          if (!dataTable) return;\n",
              "\n",
              "          const docLinkHtml = 'Like what you see? Visit the ' +\n",
              "            '<a target=\"_blank\" href=https://colab.research.google.com/notebooks/data_table.ipynb>data table notebook</a>'\n",
              "            + ' to learn more about interactive tables.';\n",
              "          element.innerHTML = '';\n",
              "          dataTable['output_type'] = 'display_data';\n",
              "          await google.colab.output.renderOutput(dataTable, element);\n",
              "          const docLink = document.createElement('div');\n",
              "          docLink.innerHTML = docLinkHtml;\n",
              "          element.appendChild(docLink);\n",
              "        }\n",
              "      </script>\n",
              "    </div>\n",
              "  </div>\n",
              "  "
            ]
          },
          "metadata": {},
          "execution_count": 35
        }
      ]
    },
    {
      "cell_type": "code",
      "source": [
        "df_fc, df_boxplot_fc = calcula_frequencia_commits(df_files_from_db)"
      ],
      "metadata": {
        "colab": {
          "base_uri": "https://localhost:8080/"
        },
        "id": "w630z8HVqtGI",
        "outputId": "d0b3925c-6dd0-43d7-93bf-03ab698dd48b"
      },
      "execution_count": 145,
      "outputs": [
        {
          "output_type": "stream",
          "name": "stdout",
          "text": [
            "Quantidade de grupos: 91\n",
            "Grupos: {'AbstractModel.java': [60, 100], 'AbstractService.java': [64], 'BackendApplication.java': [2, 38], 'BackendApplicationTests.java': [30, 224], 'Book.java': [9], 'BookController.java': [6], 'BookNotFoundException.java': [20], 'BookService.java': [15], 'Category.java': [10], 'Coupon.java': [11, 46, 73, 130, 132, 155, 161, 174], 'CouponController.java': [71, 194], 'CouponNotFoundException.java': [21], 'CouponService.java': [16, 76], 'CouponsRepository.java': [75], 'CouponsSent.java': [40, 55], 'CouponsService.java': [77], 'Diagrama de Classes Servicos Promocity.asta': [187], 'Diagrama de Classes Servicos Promocity.png': [188], 'GPSPoint.java': [52], 'GenericExceptionMapper.java': [3], 'GeographicArea.java': [53, 68], 'GeradorSenha.java': [126], 'ICouponService.java': [25], 'IPromotionService.java': [26], 'IStoreService.java': [27], 'IUserService.java': [28, 67], 'JerseyConfiguration.java': [4, 39, 70, 83, 97, 111], 'LICENSE': [226], 'LocationStore.java': [204], 'ManipuladorDatas.java': [172], 'Message.java': [127], 'Messenger.java': [41, 56], 'MyStores.java': [143], 'MyStoresRepository.java': [145], 'MyStoresService.java': [146], 'MyTracking.java': [165, 175], 'MyTrackingRepository.java': [168], 'MyTrackingService.java': [170], 'PrincipalController.java': [98, 114, 135, 150, 158], 'Promocity - Um serviço ubíquo geolocalizado de promoções contextuais.pdf': [220], 'Promotion.java': [12, 35, 47, 74], 'PromotionArea.java': [42, 57, 112], 'PromotionController.java': [72, 195], 'PromotionNotFoundException.java': [22], 'PromotionService.java': [17, 78], 'PromotionsRepository.java': [82], 'PromotionsService.java': [79], 'README.md': [0, 31, 32, 110, 117, 118, 184, 185, 186, 219, 227, 228, 229], 'ReportApplication.java': [102], 'ReportCoupon.java': [95, 198, 216], 'ReportPromotion.java': [96, 199], 'ReportStore.java': [200], 'ReportUser.java': [201], 'Statemachine Contexto Proximidade.png': [189], 'Statemachine Diagram Checa Proximidade Usuario.asta': [190], 'Store.java': [13, 36, 48, 86], 'StoreController.java': [7, 33, 44, 85, 93, 94, 115, 141, 159, 163, 196], 'StoreNotFoundException.java': [23], 'StoreService.java': [18, 37, 50, 80, 88], 'StoresRepository.java': [87], 'Swagger Doc Promocity Web Server.pdf': [213], 'Track.java': [166], 'TrackRepository.java': [169], 'TrackService.java': [171], 'User.java': [14, 49, 61], 'UserController.java': [8, 34, 45, 59, 99, 116, 119, 120, 122, 129, 136, 142, 148, 152, 154, 160, 164, 173, 197, 203, 205, 207], 'UserLocationMonitoring.java': [5, 43, 58, 84, 113, 128, 147, 153, 191, 193, 202], 'UserNotFoundException.java': [24], 'UserService.java': [19, 51, 65], 'Users.java': [62, 101, 131, 133, 137, 144, 149, 156, 167, 176, 206], 'UsersRepository.java': [63, 123], 'UsersService.java': [66, 125], 'WebSecurityConfig.java': [124, 214], 'amigos.sh': [177], 'application.yml': [29, 69], 'basico.sh': [180], 'build.yml': [221, 222, 225], 'index.html': [208, 210, 215, 217, 218], 'limpa-cupons.sql': [182], 'pom.xml': [1, 54, 121, 223], 'popula.sql': [91, 92, 104, 109], 'populadados.sql': [107], 'populausers.sql': [108, 134, 140], 'promocity.pdf': [230], 'restaura-banco.sql': [183], 'security.sql': [81, 89, 90, 103, 105, 106, 138], 'swagger-5.yaml': [211], 'swagger.yaml': [209, 212], 'teste-promocity.sh': [139, 151, 157, 162, 178, 192], 'teste.sh': [179], 'ufc.sh': [181]}\n",
            "name\n",
            "AbstractModel.java              2\n",
            "AbstractService.java            1\n",
            "BackendApplication.java         2\n",
            "BackendApplicationTests.java    2\n",
            "Book.java                       1\n",
            "                               ..\n",
            "swagger-5.yaml                  1\n",
            "swagger.yaml                    2\n",
            "teste-promocity.sh              6\n",
            "teste.sh                        1\n",
            "ufc.sh                          1\n",
            "Length: 91, dtype: int64\n",
            "\n",
            "91, {'AbstractModel.java': 2, 'AbstractService.java': 1, 'BackendApplication.java': 2, 'BackendApplicationTests.java': 2, 'Book.java': 1, 'BookController.java': 1, 'BookNotFoundException.java': 1, 'BookService.java': 1, 'Category.java': 1, 'Coupon.java': 8, 'CouponController.java': 2, 'CouponNotFoundException.java': 1, 'CouponService.java': 2, 'CouponsRepository.java': 1, 'CouponsSent.java': 2, 'CouponsService.java': 1, 'Diagrama de Classes Servicos Promocity.asta': 1, 'Diagrama de Classes Servicos Promocity.png': 1, 'GPSPoint.java': 1, 'GenericExceptionMapper.java': 1, 'GeographicArea.java': 2, 'GeradorSenha.java': 1, 'ICouponService.java': 1, 'IPromotionService.java': 1, 'IStoreService.java': 1, 'IUserService.java': 2, 'JerseyConfiguration.java': 6, 'LICENSE': 1, 'LocationStore.java': 1, 'ManipuladorDatas.java': 1, 'Message.java': 1, 'Messenger.java': 2, 'MyStores.java': 1, 'MyStoresRepository.java': 1, 'MyStoresService.java': 1, 'MyTracking.java': 2, 'MyTrackingRepository.java': 1, 'MyTrackingService.java': 1, 'PrincipalController.java': 5, 'Promocity - Um serviço ubíquo geolocalizado de promoções contextuais.pdf': 1, 'Promotion.java': 4, 'PromotionArea.java': 3, 'PromotionController.java': 2, 'PromotionNotFoundException.java': 1, 'PromotionService.java': 2, 'PromotionsRepository.java': 1, 'PromotionsService.java': 1, 'README.md': 13, 'ReportApplication.java': 1, 'ReportCoupon.java': 3, 'ReportPromotion.java': 2, 'ReportStore.java': 1, 'ReportUser.java': 1, 'Statemachine Contexto Proximidade.png': 1, 'Statemachine Diagram Checa Proximidade Usuario.asta': 1, 'Store.java': 4, 'StoreController.java': 11, 'StoreNotFoundException.java': 1, 'StoreService.java': 5, 'StoresRepository.java': 1, 'Swagger Doc Promocity Web Server.pdf': 1, 'Track.java': 1, 'TrackRepository.java': 1, 'TrackService.java': 1, 'User.java': 3, 'UserController.java': 22, 'UserLocationMonitoring.java': 11, 'UserNotFoundException.java': 1, 'UserService.java': 3, 'Users.java': 11, 'UsersRepository.java': 2, 'UsersService.java': 2, 'WebSecurityConfig.java': 2, 'amigos.sh': 1, 'application.yml': 2, 'basico.sh': 1, 'build.yml': 3, 'index.html': 5, 'limpa-cupons.sql': 1, 'pom.xml': 4, 'popula.sql': 4, 'populadados.sql': 1, 'populausers.sql': 3, 'promocity.pdf': 1, 'restaura-banco.sql': 1, 'security.sql': 7, 'swagger-5.yaml': 1, 'swagger.yaml': 2, 'teste-promocity.sh': 6, 'teste.sh': 1, 'ufc.sh': 1}\n"
          ]
        }
      ]
    },
    {
      "cell_type": "code",
      "source": [
        "gera_boxplot_frequencia_commits(df_boxplot_fc)"
      ],
      "metadata": {
        "colab": {
          "base_uri": "https://localhost:8080/",
          "height": 767
        },
        "id": "GpxxPrjhsRwy",
        "outputId": "f6048981-e230-462d-87a4-c5e4f1a8dd25"
      },
      "execution_count": 146,
      "outputs": [
        {
          "output_type": "display_data",
          "data": {
            "text/plain": [
              "<Figure size 600x400 with 1 Axes>"
            ],
            "image/png": "[encoded data removed]"
          },
          "metadata": {}
        },
        {
          "output_type": "display_data",
          "data": {
            "text/plain": [
              "<Figure size 600x400 with 1 Axes>"
            ],
            "image/png": "[encoded data removed]"
          },
          "metadata": {}
        }
      ]
    },
    {
      "cell_type": "code",
      "source": [
        "fc_q1,fc_q2, fc_q3, fc_q4 = calcula_quartiles_frequencia_commits(df_boxplot_fc)"
      ],
      "metadata": {
        "colab": {
          "base_uri": "https://localhost:8080/"
        },
        "id": "WZ2n1ueltCpc",
        "outputId": "4f1c8b64-21ad-4675-d9df-2d66a8c785fa"
      },
      "execution_count": 147,
      "outputs": [
        {
          "output_type": "stream",
          "name": "stdout",
          "text": [
            "Quartis da Frequencia de Commits Q1: [1.], Q2: [1.], Q3: [2.], Q4: [22.]\n"
          ]
        }
      ]
    },
    {
      "cell_type": "code",
      "source": [
        "df_fc_java_impl, df_boxplot_fc_java_impl, df_boxplot_fc_java_impl2 = gera_boxplot_frequencia_commits_only_java(df_fc)"
      ],
      "metadata": {
        "colab": {
          "base_uri": "https://localhost:8080/",
          "height": 1000
        },
        "id": "J86-wpZKvGfn",
        "outputId": "e4527030-c628-46bb-f7cf-709269f3daf0"
      },
      "execution_count": 148,
      "outputs": [
        {
          "output_type": "display_data",
          "data": {
            "text/plain": [
              "<Figure size 600x400 with 1 Axes>"
            ],
            "image/png": "[encoded data removed]"
          },
          "metadata": {}
        },
        {
          "output_type": "display_data",
          "data": {
            "text/plain": [
              "<Figure size 600x400 with 1 Axes>"
            ],
            "image/png": "[encoded data removed]"
          },
          "metadata": {}
        },
        {
          "output_type": "display_data",
          "data": {
            "text/plain": [
              "<Figure size 600x400 with 1 Axes>"
            ],
            "image/png": "[encoded data removed]"
          },
          "metadata": {}
        }
      ]
    },
    {
      "cell_type": "code",
      "source": [
        "fc_q1_java_impl, fc_q2_java_impl, fc_q3_java_impl, fc_q4_java_impl = calcula_quartiles_frequencia_commmits_no_outliers_less_3(df_boxplot_fc_java_impl2)"
      ],
      "metadata": {
        "colab": {
          "base_uri": "https://localhost:8080/"
        },
        "id": "75Iow_qpwLMy",
        "outputId": "4057cd32-93b3-4396-866d-0eb9312c6757"
      },
      "execution_count": 149,
      "outputs": [
        {
          "output_type": "stream",
          "name": "stdout",
          "text": [
            "Quartis da Frequencia de Commits Q1: [3.25], Q2: [5.], Q3: [10.25], Q4: [22.]\n"
          ]
        }
      ]
    },
    {
      "cell_type": "code",
      "source": [
        "df_em_fc = gera_df_foc_amloc(df_accumulated_modified_locs)\n",
        "df_em_fc"
      ],
      "metadata": {
        "colab": {
          "base_uri": "https://localhost:8080/",
          "height": 424
        },
        "id": "WDbCaVEOypTy",
        "outputId": "3b2cf205-839c-4c00-91bb-4f173c084e39"
      },
      "execution_count": 150,
      "outputs": [
        {
          "output_type": "execute_result",
          "data": {
            "text/plain": [
              "                            name  modified_lines  frequency_commits\n",
              "0             AbstractModel.java              55                  2\n",
              "1           AbstractService.java              57                  1\n",
              "2        BackendApplication.java              23                  2\n",
              "3   BackendApplicationTests.java              18                  2\n",
              "4                      Book.java             112                  1\n",
              "..                           ...             ...                ...\n",
              "86                swagger-5.yaml            1080                  1\n",
              "87                  swagger.yaml            1286                  2\n",
              "88            teste-promocity.sh              44                  6\n",
              "89                      teste.sh              12                  1\n",
              "90                        ufc.sh              12                  1\n",
              "\n",
              "[91 rows x 3 columns]"
            ],
            "text/html": [
              "\n",
              "  <div id=\"df-936081bb-085e-40a5-a359-450dd4c244f1\">\n",
              "    <div class=\"colab-df-container\">\n",
              "      <div>\n",
              "<style scoped>\n",
              "    .dataframe tbody tr th:only-of-type {\n",
              "        vertical-align: middle;\n",
              "    }\n",
              "\n",
              "    .dataframe tbody tr th {\n",
              "        vertical-align: top;\n",
              "    }\n",
              "\n",
              "    .dataframe thead th {\n",
              "        text-align: right;\n",
              "    }\n",
              "</style>\n",
              "<table border=\"1\" class=\"dataframe\">\n",
              "  <thead>\n",
              "    <tr style=\"text-align: right;\">\n",
              "      <th></th>\n",
              "      <th>name</th>\n",
              "      <th>modified_lines</th>\n",
              "      <th>frequency_commits</th>\n",
              "    </tr>\n",
              "  </thead>\n",
              "  <tbody>\n",
              "    <tr>\n",
              "      <th>0</th>\n",
              "      <td>AbstractModel.java</td>\n",
              "      <td>55</td>\n",
              "      <td>2</td>\n",
              "    </tr>\n",
              "    <tr>\n",
              "      <th>1</th>\n",
              "      <td>AbstractService.java</td>\n",
              "      <td>57</td>\n",
              "      <td>1</td>\n",
              "    </tr>\n",
              "    <tr>\n",
              "      <th>2</th>\n",
              "      <td>BackendApplication.java</td>\n",
              "      <td>23</td>\n",
              "      <td>2</td>\n",
              "    </tr>\n",
              "    <tr>\n",
              "      <th>3</th>\n",
              "      <td>BackendApplicationTests.java</td>\n",
              "      <td>18</td>\n",
              "      <td>2</td>\n",
              "    </tr>\n",
              "    <tr>\n",
              "      <th>4</th>\n",
              "      <td>Book.java</td>\n",
              "      <td>112</td>\n",
              "      <td>1</td>\n",
              "    </tr>\n",
              "    <tr>\n",
              "      <th>...</th>\n",
              "      <td>...</td>\n",
              "      <td>...</td>\n",
              "      <td>...</td>\n",
              "    </tr>\n",
              "    <tr>\n",
              "      <th>86</th>\n",
              "      <td>swagger-5.yaml</td>\n",
              "      <td>1080</td>\n",
              "      <td>1</td>\n",
              "    </tr>\n",
              "    <tr>\n",
              "      <th>87</th>\n",
              "      <td>swagger.yaml</td>\n",
              "      <td>1286</td>\n",
              "      <td>2</td>\n",
              "    </tr>\n",
              "    <tr>\n",
              "      <th>88</th>\n",
              "      <td>teste-promocity.sh</td>\n",
              "      <td>44</td>\n",
              "      <td>6</td>\n",
              "    </tr>\n",
              "    <tr>\n",
              "      <th>89</th>\n",
              "      <td>teste.sh</td>\n",
              "      <td>12</td>\n",
              "      <td>1</td>\n",
              "    </tr>\n",
              "    <tr>\n",
              "      <th>90</th>\n",
              "      <td>ufc.sh</td>\n",
              "      <td>12</td>\n",
              "      <td>1</td>\n",
              "    </tr>\n",
              "  </tbody>\n",
              "</table>\n",
              "<p>91 rows × 3 columns</p>\n",
              "</div>\n",
              "      <button class=\"colab-df-convert\" onclick=\"convertToInteractive('df-936081bb-085e-40a5-a359-450dd4c244f1')\"\n",
              "              title=\"Convert this dataframe to an interactive table.\"\n",
              "              style=\"display:none;\">\n",
              "        \n",
              "  <svg xmlns=\"http://www.w3.org/2000/svg\" height=\"24px\"viewBox=\"0 0 24 24\"\n",
              "       width=\"24px\">\n",
              "    <path d=\"M0 0h24v24H0V0z\" fill=\"none\"/>\n",
              "    <path d=\"M18.56 5.44l.94 2.06.94-2.06 2.06-.94-2.06-.94-.94-2.06-.94 2.06-2.06.94zm-11 1L8.5 8.5l.94-2.06 2.06-.94-2.06-.94L8.5 2.5l-.94 2.06-2.06.94zm10 10l.94 2.06.94-2.06 2.06-.94-2.06-.94-.94-2.06-.94 2.06-2.06.94z\"/><path d=\"M17.41 7.96l-1.37-1.37c-.4-.4-.92-.59-1.43-.59-.52 0-1.04.2-1.43.59L10.3 9.45l-7.72 7.72c-.78.78-.78 2.05 0 2.83L4 21.41c.39.39.9.59 1.41.59.51 0 1.02-.2 1.41-.59l7.78-7.78 2.81-2.81c.8-.78.8-2.07 0-2.86zM5.41 20L4 18.59l7.72-7.72 1.47 1.35L5.41 20z\"/>\n",
              "  </svg>\n",
              "      </button>\n",
              "      \n",
              "  <style>\n",
              "    .colab-df-container {\n",
              "      display:flex;\n",
              "      flex-wrap:wrap;\n",
              "      gap: 12px;\n",
              "    }\n",
              "\n",
              "    .colab-df-convert {\n",
              "      background-color: #E8F0FE;\n",
              "      border: none;\n",
              "      border-radius: 50%;\n",
              "      cursor: pointer;\n",
              "      display: none;\n",
              "      fill: #1967D2;\n",
              "      height: 32px;\n",
              "      padding: 0 0 0 0;\n",
              "      width: 32px;\n",
              "    }\n",
              "\n",
              "    .colab-df-convert:hover {\n",
              "      background-color: #E2EBFA;\n",
              "      box-shadow: 0px 1px 2px rgba(60, 64, 67, 0.3), 0px 1px 3px 1px rgba(60, 64, 67, 0.15);\n",
              "      fill: #174EA6;\n",
              "    }\n",
              "\n",
              "    [theme=dark] .colab-df-convert {\n",
              "      background-color: #3B4455;\n",
              "      fill: #D2E3FC;\n",
              "    }\n",
              "\n",
              "    [theme=dark] .colab-df-convert:hover {\n",
              "      background-color: #434B5C;\n",
              "      box-shadow: 0px 1px 3px 1px rgba(0, 0, 0, 0.15);\n",
              "      filter: drop-shadow(0px 1px 2px rgba(0, 0, 0, 0.3));\n",
              "      fill: #FFFFFF;\n",
              "    }\n",
              "  </style>\n",
              "\n",
              "      <script>\n",
              "        const buttonEl =\n",
              "          document.querySelector('#df-936081bb-085e-40a5-a359-450dd4c244f1 button.colab-df-convert');\n",
              "        buttonEl.style.display =\n",
              "          google.colab.kernel.accessAllowed ? 'block' : 'none';\n",
              "\n",
              "        async function convertToInteractive(key) {\n",
              "          const element = document.querySelector('#df-936081bb-085e-40a5-a359-450dd4c244f1');\n",
              "          const dataTable =\n",
              "            await google.colab.kernel.invokeFunction('convertToInteractive',\n",
              "                                                     [key], {});\n",
              "          if (!dataTable) return;\n",
              "\n",
              "          const docLinkHtml = 'Like what you see? Visit the ' +\n",
              "            '<a target=\"_blank\" href=https://colab.research.google.com/notebooks/data_table.ipynb>data table notebook</a>'\n",
              "            + ' to learn more about interactive tables.';\n",
              "          element.innerHTML = '';\n",
              "          dataTable['output_type'] = 'display_data';\n",
              "          await google.colab.output.renderOutput(dataTable, element);\n",
              "          const docLink = document.createElement('div');\n",
              "          docLink.innerHTML = docLinkHtml;\n",
              "          element.appendChild(docLink);\n",
              "        }\n",
              "      </script>\n",
              "    </div>\n",
              "  </div>\n",
              "  "
            ]
          },
          "metadata": {},
          "execution_count": 150
        }
      ]
    },
    {
      "cell_type": "code",
      "source": [
        "df_fator_multiplicacao = gera_df_fator_foc_amloc(df_em_fc)\n",
        "df_fator_multiplicacao"
      ],
      "metadata": {
        "colab": {
          "base_uri": "https://localhost:8080/",
          "height": 424
        },
        "id": "nTSiEWAcygir",
        "outputId": "55672052-8f03-4703-8777-d9af36312e79"
      },
      "execution_count": 151,
      "outputs": [
        {
          "output_type": "execute_result",
          "data": {
            "text/plain": [
              "                            name  modified_lines  frequency_commits  factor1\n",
              "0             AbstractModel.java              55                  2      110\n",
              "1           AbstractService.java              57                  1       57\n",
              "2        BackendApplication.java              23                  2       46\n",
              "3   BackendApplicationTests.java              18                  2       36\n",
              "4                      Book.java             112                  1      112\n",
              "..                           ...             ...                ...      ...\n",
              "86                swagger-5.yaml            1080                  1     1080\n",
              "87                  swagger.yaml            1286                  2     2572\n",
              "88            teste-promocity.sh              44                  6      264\n",
              "89                      teste.sh              12                  1       12\n",
              "90                        ufc.sh              12                  1       12\n",
              "\n",
              "[91 rows x 4 columns]"
            ],
            "text/html": [
              "\n",
              "  <div id=\"df-c3c0f8d3-3b6b-4e93-93f2-c13bb1e25d9a\">\n",
              "    <div class=\"colab-df-container\">\n",
              "      <div>\n",
              "<style scoped>\n",
              "    .dataframe tbody tr th:only-of-type {\n",
              "        vertical-align: middle;\n",
              "    }\n",
              "\n",
              "    .dataframe tbody tr th {\n",
              "        vertical-align: top;\n",
              "    }\n",
              "\n",
              "    .dataframe thead th {\n",
              "        text-align: right;\n",
              "    }\n",
              "</style>\n",
              "<table border=\"1\" class=\"dataframe\">\n",
              "  <thead>\n",
              "    <tr style=\"text-align: right;\">\n",
              "      <th></th>\n",
              "      <th>name</th>\n",
              "      <th>modified_lines</th>\n",
              "      <th>frequency_commits</th>\n",
              "      <th>factor1</th>\n",
              "    </tr>\n",
              "  </thead>\n",
              "  <tbody>\n",
              "    <tr>\n",
              "      <th>0</th>\n",
              "      <td>AbstractModel.java</td>\n",
              "      <td>55</td>\n",
              "      <td>2</td>\n",
              "      <td>110</td>\n",
              "    </tr>\n",
              "    <tr>\n",
              "      <th>1</th>\n",
              "      <td>AbstractService.java</td>\n",
              "      <td>57</td>\n",
              "      <td>1</td>\n",
              "      <td>57</td>\n",
              "    </tr>\n",
              "    <tr>\n",
              "      <th>2</th>\n",
              "      <td>BackendApplication.java</td>\n",
              "      <td>23</td>\n",
              "      <td>2</td>\n",
              "      <td>46</td>\n",
              "    </tr>\n",
              "    <tr>\n",
              "      <th>3</th>\n",
              "      <td>BackendApplicationTests.java</td>\n",
              "      <td>18</td>\n",
              "      <td>2</td>\n",
              "      <td>36</td>\n",
              "    </tr>\n",
              "    <tr>\n",
              "      <th>4</th>\n",
              "      <td>Book.java</td>\n",
              "      <td>112</td>\n",
              "      <td>1</td>\n",
              "      <td>112</td>\n",
              "    </tr>\n",
              "    <tr>\n",
              "      <th>...</th>\n",
              "      <td>...</td>\n",
              "      <td>...</td>\n",
              "      <td>...</td>\n",
              "      <td>...</td>\n",
              "    </tr>\n",
              "    <tr>\n",
              "      <th>86</th>\n",
              "      <td>swagger-5.yaml</td>\n",
              "      <td>1080</td>\n",
              "      <td>1</td>\n",
              "      <td>1080</td>\n",
              "    </tr>\n",
              "    <tr>\n",
              "      <th>87</th>\n",
              "      <td>swagger.yaml</td>\n",
              "      <td>1286</td>\n",
              "      <td>2</td>\n",
              "      <td>2572</td>\n",
              "    </tr>\n",
              "    <tr>\n",
              "      <th>88</th>\n",
              "      <td>teste-promocity.sh</td>\n",
              "      <td>44</td>\n",
              "      <td>6</td>\n",
              "      <td>264</td>\n",
              "    </tr>\n",
              "    <tr>\n",
              "      <th>89</th>\n",
              "      <td>teste.sh</td>\n",
              "      <td>12</td>\n",
              "      <td>1</td>\n",
              "      <td>12</td>\n",
              "    </tr>\n",
              "    <tr>\n",
              "      <th>90</th>\n",
              "      <td>ufc.sh</td>\n",
              "      <td>12</td>\n",
              "      <td>1</td>\n",
              "      <td>12</td>\n",
              "    </tr>\n",
              "  </tbody>\n",
              "</table>\n",
              "<p>91 rows × 4 columns</p>\n",
              "</div>\n",
              "      <button class=\"colab-df-convert\" onclick=\"convertToInteractive('df-c3c0f8d3-3b6b-4e93-93f2-c13bb1e25d9a')\"\n",
              "              title=\"Convert this dataframe to an interactive table.\"\n",
              "              style=\"display:none;\">\n",
              "        \n",
              "  <svg xmlns=\"http://www.w3.org/2000/svg\" height=\"24px\"viewBox=\"0 0 24 24\"\n",
              "       width=\"24px\">\n",
              "    <path d=\"M0 0h24v24H0V0z\" fill=\"none\"/>\n",
              "    <path d=\"M18.56 5.44l.94 2.06.94-2.06 2.06-.94-2.06-.94-.94-2.06-.94 2.06-2.06.94zm-11 1L8.5 8.5l.94-2.06 2.06-.94-2.06-.94L8.5 2.5l-.94 2.06-2.06.94zm10 10l.94 2.06.94-2.06 2.06-.94-2.06-.94-.94-2.06-.94 2.06-2.06.94z\"/><path d=\"M17.41 7.96l-1.37-1.37c-.4-.4-.92-.59-1.43-.59-.52 0-1.04.2-1.43.59L10.3 9.45l-7.72 7.72c-.78.78-.78 2.05 0 2.83L4 21.41c.39.39.9.59 1.41.59.51 0 1.02-.2 1.41-.59l7.78-7.78 2.81-2.81c.8-.78.8-2.07 0-2.86zM5.41 20L4 18.59l7.72-7.72 1.47 1.35L5.41 20z\"/>\n",
              "  </svg>\n",
              "      </button>\n",
              "      \n",
              "  <style>\n",
              "    .colab-df-container {\n",
              "      display:flex;\n",
              "      flex-wrap:wrap;\n",
              "      gap: 12px;\n",
              "    }\n",
              "\n",
              "    .colab-df-convert {\n",
              "      background-color: #E8F0FE;\n",
              "      border: none;\n",
              "      border-radius: 50%;\n",
              "      cursor: pointer;\n",
              "      display: none;\n",
              "      fill: #1967D2;\n",
              "      height: 32px;\n",
              "      padding: 0 0 0 0;\n",
              "      width: 32px;\n",
              "    }\n",
              "\n",
              "    .colab-df-convert:hover {\n",
              "      background-color: #E2EBFA;\n",
              "      box-shadow: 0px 1px 2px rgba(60, 64, 67, 0.3), 0px 1px 3px 1px rgba(60, 64, 67, 0.15);\n",
              "      fill: #174EA6;\n",
              "    }\n",
              "\n",
              "    [theme=dark] .colab-df-convert {\n",
              "      background-color: #3B4455;\n",
              "      fill: #D2E3FC;\n",
              "    }\n",
              "\n",
              "    [theme=dark] .colab-df-convert:hover {\n",
              "      background-color: #434B5C;\n",
              "      box-shadow: 0px 1px 3px 1px rgba(0, 0, 0, 0.15);\n",
              "      filter: drop-shadow(0px 1px 2px rgba(0, 0, 0, 0.3));\n",
              "      fill: #FFFFFF;\n",
              "    }\n",
              "  </style>\n",
              "\n",
              "      <script>\n",
              "        const buttonEl =\n",
              "          document.querySelector('#df-c3c0f8d3-3b6b-4e93-93f2-c13bb1e25d9a button.colab-df-convert');\n",
              "        buttonEl.style.display =\n",
              "          google.colab.kernel.accessAllowed ? 'block' : 'none';\n",
              "\n",
              "        async function convertToInteractive(key) {\n",
              "          const element = document.querySelector('#df-c3c0f8d3-3b6b-4e93-93f2-c13bb1e25d9a');\n",
              "          const dataTable =\n",
              "            await google.colab.kernel.invokeFunction('convertToInteractive',\n",
              "                                                     [key], {});\n",
              "          if (!dataTable) return;\n",
              "\n",
              "          const docLinkHtml = 'Like what you see? Visit the ' +\n",
              "            '<a target=\"_blank\" href=https://colab.research.google.com/notebooks/data_table.ipynb>data table notebook</a>'\n",
              "            + ' to learn more about interactive tables.';\n",
              "          element.innerHTML = '';\n",
              "          dataTable['output_type'] = 'display_data';\n",
              "          await google.colab.output.renderOutput(dataTable, element);\n",
              "          const docLink = document.createElement('div');\n",
              "          docLink.innerHTML = docLinkHtml;\n",
              "          element.appendChild(docLink);\n",
              "        }\n",
              "      </script>\n",
              "    </div>\n",
              "  </div>\n",
              "  "
            ]
          },
          "metadata": {},
          "execution_count": 151
        }
      ]
    },
    {
      "cell_type": "code",
      "source": [
        "df_em_fc_java_impl, df_fator_multiplicacao_em_fc_java_impl = gera_scatter_plot_foc_amloc(df_em_fc)"
      ],
      "metadata": {
        "colab": {
          "base_uri": "https://localhost:8080/",
          "height": 724
        },
        "id": "wYJYLH4QzwdL",
        "outputId": "cf5fb767-6a83-4b6f-89ad-0866e6ffb62d"
      },
      "execution_count": 153,
      "outputs": [
        {
          "output_type": "display_data",
          "data": {
            "text/plain": [
              "<Figure size 1200x800 with 1 Axes>"
            ],
            "image/png": "[encoded data removed]"
          },
          "metadata": {}
        }
      ]
    },
    {
      "cell_type": "code",
      "source": [
        "list_initial_critical_files_from_sp = gera_scatter_plot_foc_amloc_com_quadrantes(df_em_fc_java_impl)"
      ],
      "metadata": {
        "colab": {
          "base_uri": "https://localhost:8080/",
          "height": 724
        },
        "id": "ORQ89E2Q3PQm",
        "outputId": "af6f5838-ae0b-4bdd-e42d-e39358f795c0"
      },
      "execution_count": 174,
      "outputs": [
        {
          "output_type": "display_data",
          "data": {
            "text/plain": [
              "<Figure size 1200x800 with 1 Axes>"
            ],
            "image/png": "[encoded data removed]"
          },
          "metadata": {}
        }
      ]
    },
    {
      "cell_type": "code",
      "source": [
        "list_initial_critical_files_from_sp"
      ],
      "metadata": {
        "colab": {
          "base_uri": "https://localhost:8080/"
        },
        "id": "lmqxYyJZ97jR",
        "outputId": "71e47a57-7113-486e-92ec-c4b11e4400d8"
      },
      "execution_count": 175,
      "outputs": [
        {
          "output_type": "execute_result",
          "data": {
            "text/plain": [
              "[('Coupon.java', 181, 8),\n",
              " ('Promotion.java', 152, 4),\n",
              " ('ReportCoupon.java', 183, 3),\n",
              " ('Store.java', 179, 4),\n",
              " ('StoreController.java', 439, 11),\n",
              " ('StoreService.java', 514, 5),\n",
              " ('UserController.java', 963, 22),\n",
              " ('UserLocationMonitoring.java', 316, 11),\n",
              " ('UserService.java', 190, 3),\n",
              " ('Users.java', 350, 11)]"
            ]
          },
          "metadata": {},
          "execution_count": 175
        }
      ]
    },
    {
      "cell_type": "code",
      "source": [
        "list_critical_files = gera_scatter_plot_final_foc_amloc_com_quadrantes(list_initial_critical_files_from_sp, df_em_fc_java_impl, em_q3_java_impl, fc_q3_java_impl)"
      ],
      "metadata": {
        "colab": {
          "base_uri": "https://localhost:8080/",
          "height": 897
        },
        "id": "0nbfmaKB435y",
        "outputId": "229e00ad-724f-45d6-a996-d775922cafaf"
      },
      "execution_count": 176,
      "outputs": [
        {
          "output_type": "stream",
          "name": "stdout",
          "text": [
            "('Coupon.java', 181, 8)\n",
            "('Promotion.java', 152, 4)\n",
            "('ReportCoupon.java', 183, 3)\n",
            "('Store.java', 179, 4)\n",
            "('StoreController.java', 439, 11)\n",
            "('StoreService.java', 514, 5)\n",
            "('UserController.java', 963, 22)\n",
            "('UserLocationMonitoring.java', 316, 11)\n",
            "('UserService.java', 190, 3)\n",
            "('Users.java', 350, 11)\n"
          ]
        },
        {
          "output_type": "display_data",
          "data": {
            "text/plain": [
              "<Figure size 1200x800 with 1 Axes>"
            ],
            "image/png": "[encoded data removed]"
          },
          "metadata": {}
        }
      ]
    },
    {
      "cell_type": "code",
      "source": [
        "list_critical_files"
      ],
      "metadata": {
        "colab": {
          "base_uri": "https://localhost:8080/"
        },
        "id": "ofJxcfsn9iLR",
        "outputId": "f06ac361-0ecb-42d9-bd56-6a4387ea7703"
      },
      "execution_count": 177,
      "outputs": [
        {
          "output_type": "execute_result",
          "data": {
            "text/plain": [
              "[('StoreController.java', 439, 11),\n",
              " ('UserController.java', 963, 22),\n",
              " ('UserLocationMonitoring.java', 316, 11),\n",
              " ('Users.java', 350, 11)]"
            ]
          },
          "metadata": {},
          "execution_count": 177
        }
      ]
    },
    {
      "cell_type": "markdown",
      "source": [
        "## Gera e analisa dependências entre os arquivos"
      ],
      "metadata": {
        "id": "Y22gZ0LQNMFH"
      }
    },
    {
      "cell_type": "code",
      "source": [],
      "metadata": {
        "id": "s5ehrzlFNP6q"
      },
      "execution_count": null,
      "outputs": []
    }
  ]
}