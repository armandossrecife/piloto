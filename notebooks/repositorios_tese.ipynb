{
  "nbformat": 4,
  "nbformat_minor": 0,
  "metadata": {
    "colab": {
      "provenance": [],
      "collapsed_sections": [
        "2hdqU72xvWEG",
        "kVB55OyRvZ8E",
        "QbZ3CdnLzbhI",
        "hJ5-EeIW6Jzn",
        "WjOBw5e4_aTu",
        "Dz9iiMxL_dbH"
      ],
      "authorship_tag": "ABX9TyOHJMEM/CtPtnxHB8vYZjVf",
      "include_colab_link": true
    },
    "kernelspec": {
      "name": "python3",
      "display_name": "Python 3"
    },
    "language_info": {
      "name": "python"
    }
  },
  "cells": [
    {
      "cell_type": "markdown",
      "metadata": {
        "id": "view-in-github",
        "colab_type": "text"
      },
      "source": [
        "<a href=\"https://colab.research.google.com/github/armandossrecife/piloto/blob/main/repositorios_tese.ipynb\" target=\"_parent\"><img src=\"https://colab.research.google.com/assets/colab-badge.svg\" alt=\"Open In Colab\"/></a>"
      ]
    },
    {
      "cell_type": "markdown",
      "source": [
        "# Análise de repositórios via triangulação"
      ],
      "metadata": {
        "id": "bdxI3NgUAbJO"
      }
    },
    {
      "cell_type": "markdown",
      "source": [
        "## Análise do spring-boot"
      ],
      "metadata": {
        "id": "2hdqU72xvWEG"
      }
    },
    {
      "cell_type": "code",
      "execution_count": 1,
      "metadata": {
        "colab": {
          "base_uri": "https://localhost:8080/"
        },
        "id": "MDRepU2QdN6Z",
        "outputId": "655c68d9-55eb-441a-d347-f0dda6159ef2"
      },
      "outputs": [
        {
          "output_type": "stream",
          "name": "stdout",
          "text": [
            "Cloning into 'spring-boot'...\n",
            "remote: Enumerating objects: 825437, done.\u001b[K\n",
            "remote: Counting objects: 100% (16585/16585), done.\u001b[K\n",
            "remote: Compressing objects: 100% (2059/2059), done.\u001b[K\n",
            "remote: Total 825437 (delta 13446), reused 16166 (delta 13208), pack-reused 808852\u001b[K\n",
            "Receiving objects: 100% (825437/825437), 160.68 MiB | 19.47 MiB/s, done.\n",
            "Resolving deltas: 100% (372195/372195), done.\n"
          ]
        }
      ],
      "source": [
        "!git clone https://github.com/spring-projects/spring-boot.git"
      ]
    },
    {
      "cell_type": "code",
      "source": [
        "!git log -n 1000 --format=\"%H\""
      ],
      "metadata": {
        "colab": {
          "base_uri": "https://localhost:8080/"
        },
        "id": "N_d0_c4FrLdE",
        "outputId": "d4b49099-6082-44a7-9f78-e5fdd1f4c5f5"
      },
      "execution_count": 5,
      "outputs": [
        {
          "output_type": "stream",
          "name": "stdout",
          "text": [
            "fatal: not a git repository (or any of the parent directories): .git\n"
          ]
        }
      ]
    },
    {
      "cell_type": "code",
      "source": [
        "!cd spring-boot && git log -n 5000 --format=\"%H %cI\""
      ],
      "metadata": {
        "id": "9xPLydnsrd7p"
      },
      "execution_count": null,
      "outputs": []
    },
    {
      "cell_type": "code",
      "source": [
        "lista_ultimos_1000_commits_sb = !cd spring-boot && git log -n 1000 --format=\"%H,%cI\"\n",
        "print(f'ultimo: {lista_ultimos_1000_commits_sb[0]}, primeiro:{lista_ultimos_1000_commits_sb[-1]}')"
      ],
      "metadata": {
        "colab": {
          "base_uri": "https://localhost:8080/"
        },
        "id": "WM_AEVY_rjke",
        "outputId": "1547a088-3296-40ef-8949-8dd4e632c67c"
      },
      "execution_count": 16,
      "outputs": [
        {
          "output_type": "stream",
          "name": "stdout",
          "text": [
            "ultimo: 2ee1c1eeacd2ceea61e9928b745525e58d98c74d,2023-08-17T17:14:41+02:00, primeiro:2b1189ff31e4bf2b544646e484693a8bb8e83aa5,2023-07-03T16:50:09+01:00\n"
          ]
        }
      ]
    },
    {
      "cell_type": "markdown",
      "source": [
        "## Análise do Elasticsearch"
      ],
      "metadata": {
        "id": "kVB55OyRvZ8E"
      }
    },
    {
      "cell_type": "code",
      "source": [
        "!git clone https://github.com/elastic/elasticsearch.git"
      ],
      "metadata": {
        "colab": {
          "base_uri": "https://localhost:8080/"
        },
        "id": "vbV_0Ii5vOa0",
        "outputId": "361b39e8-fda0-4c50-e553-4da00e44b9fe"
      },
      "execution_count": 15,
      "outputs": [
        {
          "output_type": "stream",
          "name": "stdout",
          "text": [
            "Cloning into 'elasticsearch'...\n",
            "remote: Enumerating objects: 2904941, done.\u001b[K\n",
            "remote: Counting objects: 100% (2609/2609), done.\u001b[K\n",
            "remote: Compressing objects: 100% (1274/1274), done.\u001b[K\n",
            "remote: Total 2904941 (delta 871), reused 2327 (delta 811), pack-reused 2902332\u001b[K\n",
            "Receiving objects: 100% (2904941/2904941), 1.05 GiB | 19.96 MiB/s, done.\n",
            "Resolving deltas: 100% (1541568/1541568), done.\n",
            "Updating files: 100% (25881/25881), done.\n"
          ]
        }
      ]
    },
    {
      "cell_type": "code",
      "source": [
        "lista_ultimos_1000_commits_es = !cd elasticsearch && git log -n 1000 --format=\"%H,%cI\"\n",
        "print(f'ultimo: {lista_ultimos_1000_commits_es[0]}, primeiro*: {lista_ultimos_1000_commits_es[-1]}')"
      ],
      "metadata": {
        "colab": {
          "base_uri": "https://localhost:8080/"
        },
        "id": "JNbkKlI9vgWh",
        "outputId": "d9ff10be-f3dd-4f05-bd06-bc3dfe354c64"
      },
      "execution_count": 19,
      "outputs": [
        {
          "output_type": "stream",
          "name": "stdout",
          "text": [
            "ultimo: 44e61341f29e030e8bbcd5477287d66fafca13f3,2023-08-17T13:51:44-04:00, primeiro*: 87421f2d270234bcceecdd379a7a8f51e531fb3c,2023-06-26T05:23:57-04:00\n"
          ]
        }
      ]
    },
    {
      "cell_type": "markdown",
      "source": [
        "## Análise do Kafka"
      ],
      "metadata": {
        "id": "QbZ3CdnLzbhI"
      }
    },
    {
      "cell_type": "code",
      "source": [
        "!git clone https://github.com/apache/kafka.git"
      ],
      "metadata": {
        "colab": {
          "base_uri": "https://localhost:8080/"
        },
        "id": "3QVDYHNBzdh_",
        "outputId": "c3310924-e237-458f-8912-4f08c6d65db3"
      },
      "execution_count": 20,
      "outputs": [
        {
          "output_type": "stream",
          "name": "stdout",
          "text": [
            "Cloning into 'kafka'...\n",
            "remote: Enumerating objects: 343706, done.\u001b[K\n",
            "remote: Counting objects: 100% (467/467), done.\u001b[K\n",
            "remote: Compressing objects: 100% (269/269), done.\u001b[K\n",
            "remote: Total 343706 (delta 69), reused 325 (delta 37), pack-reused 343239\u001b[K\n",
            "Receiving objects: 100% (343706/343706), 160.01 MiB | 18.19 MiB/s, done.\n",
            "Resolving deltas: 100% (165608/165608), done.\n"
          ]
        }
      ]
    },
    {
      "cell_type": "code",
      "source": [
        "lista_ultimos_1000_commits_k = !cd kafka && git log -n 1000 --format=\"%H,%cI\"\n",
        "print(f'ultimo: {lista_ultimos_1000_commits_k[0]}, primeiro*: {lista_ultimos_1000_commits_k[-1]}')"
      ],
      "metadata": {
        "colab": {
          "base_uri": "https://localhost:8080/"
        },
        "id": "E2uye9jDzj-9",
        "outputId": "d54f188a-341c-49c9-c6f8-1c65bbd7bc33"
      },
      "execution_count": 21,
      "outputs": [
        {
          "output_type": "stream",
          "name": "stdout",
          "text": [
            "ultimo: 7802c264c96ae27167cf38c263b86398aa0ea3fe,2023-08-17T14:13:53-04:00, primeiro*: 2ab1e6cb571fc4900809243f221a296dcda0cf15,2022-11-28T10:39:57-08:00\n"
          ]
        }
      ]
    },
    {
      "cell_type": "markdown",
      "source": [
        "## Análise do Cassandra"
      ],
      "metadata": {
        "id": "hJ5-EeIW6Jzn"
      }
    },
    {
      "cell_type": "code",
      "source": [
        "!git clone https://github.com/apache/cassandra.git"
      ],
      "metadata": {
        "colab": {
          "base_uri": "https://localhost:8080/"
        },
        "id": "Ug4z957VzsUJ",
        "outputId": "30cff0ba-e6ce-409c-983e-398618c7172c"
      },
      "execution_count": 28,
      "outputs": [
        {
          "output_type": "stream",
          "name": "stdout",
          "text": [
            "Cloning into 'cassandra'...\n",
            "remote: Enumerating objects: 393750, done.\u001b[K\n",
            "remote: Counting objects: 100% (2997/2997), done.\u001b[K\n",
            "remote: Compressing objects: 100% (1279/1279), done.\u001b[K\n",
            "remote: Total 393750 (delta 1404), reused 2546 (delta 1246), pack-reused 390753\u001b[K\n",
            "Receiving objects: 100% (393750/393750), 393.29 MiB | 14.71 MiB/s, done.\n",
            "Resolving deltas: 100% (229394/229394), done.\n"
          ]
        }
      ]
    },
    {
      "cell_type": "code",
      "source": [
        "lista_ultimos_1000_commits_c = !cd cassandra && git log -n 1000 --format=\"%H,%cI\"\n",
        "print(f'ultimo: {lista_ultimos_1000_commits_c[0]}, primeiro*: {lista_ultimos_1000_commits_c[-1]}')"
      ],
      "metadata": {
        "colab": {
          "base_uri": "https://localhost:8080/"
        },
        "id": "a3LSqeRs6V4K",
        "outputId": "3c0936b0-2acc-40dd-e0a0-d754595ad686"
      },
      "execution_count": 33,
      "outputs": [
        {
          "output_type": "stream",
          "name": "stdout",
          "text": [
            "ultimo: 555dec50c21a0bed871e186de1429fb5efa8f817,2023-08-17T11:25:54+02:00, primeiro*: cc622a20e1908d94626217b85737948b1df9b96a,2022-10-18T16:51:29+01:00\n"
          ]
        }
      ]
    },
    {
      "cell_type": "markdown",
      "source": [
        "# Dataset do Darius Sas"
      ],
      "metadata": {
        "id": "7r6we0QU3UlX"
      }
    },
    {
      "cell_type": "markdown",
      "source": [
        "https://zenodo.org/record/4459015"
      ],
      "metadata": {
        "id": "9ZYnE8NiAWuy"
      }
    },
    {
      "cell_type": "code",
      "source": [
        "!wget https://zenodo.org/record/4459015/files/replication-package.zip"
      ],
      "metadata": {
        "colab": {
          "base_uri": "https://localhost:8080/"
        },
        "id": "YwvjmmG_3WSi",
        "outputId": "491d2a03-4119-4bc6-ac34-553c4966be5d"
      },
      "execution_count": 24,
      "outputs": [
        {
          "output_type": "stream",
          "name": "stdout",
          "text": [
            "--2023-08-17 19:04:52--  https://zenodo.org/record/4459015/files/replication-package.zip\n",
            "Resolving zenodo.org (zenodo.org)... 188.185.124.72\n",
            "Connecting to zenodo.org (zenodo.org)|188.185.124.72|:443... connected.\n",
            "HTTP request sent, awaiting response... 200 OK\n",
            "Length: 95506210 (91M) [application/octet-stream]\n",
            "Saving to: ‘replication-package.zip’\n",
            "\n",
            "replication-package 100%[===================>]  91.08M   303KB/s    in 5m 9s   \n",
            "\n",
            "2023-08-17 19:10:03 (301 KB/s) - ‘replication-package.zip’ saved [95506210/95506210]\n",
            "\n"
          ]
        }
      ]
    },
    {
      "cell_type": "code",
      "source": [
        "!unzip replication-package.zip"
      ],
      "metadata": {
        "colab": {
          "base_uri": "https://localhost:8080/"
        },
        "id": "WuwDgoVb4q3K",
        "outputId": "7bb07b80-2d7b-4b26-db47-a79bf27f8ea2"
      },
      "execution_count": 26,
      "outputs": [
        {
          "output_type": "stream",
          "name": "stdout",
          "text": [
            "Archive:  replication-package.zip\n",
            "   creating: replication-package/\n",
            "   creating: replication-package/csv-2019-12-09/\n",
            "  inflating: replication-package/csv-2019-12-09/projects.csv  \n",
            "  inflating: replication-package/csv-2019-12-09/components.csv  \n",
            "  inflating: replication-package/csv-2019-12-09/affected.csv  \n",
            "  inflating: replication-package/csv-2019-12-09/smells.csv  \n",
            "  inflating: replication-package/protocol.pdf  \n",
            "   creating: replication-package/plots/\n",
            "  inflating: replication-package/plots/aux-loc-boxplot-individual-project.png  \n",
            "  inflating: replication-package/plots/aux-avrg-change-by-age-all.png  \n",
            "  inflating: replication-package/plots/aux-loc-density-individual-project.png  \n",
            "  inflating: replication-package/plots/aux-nsmell-locgroup-individual-project.png  \n",
            "  inflating: replication-package/plots/aux-smell-count-individual-project.png  \n",
            "  inflating: replication-package/plots/rq1b-changeFreq-nsmells-loess.png  \n",
            "  inflating: replication-package/plots/rq1b-changeSize-nsmells-loess.png  \n",
            "  inflating: replication-package/plots/rq1b-density-changed-nSmells.png  \n",
            "  inflating: replication-package/plots/rq1-fisher-individual-project.png  \n",
            "  inflating: replication-package/plots/rq2-frch-density-projects-all.png  \n",
            "  inflating: replication-package/plots/rq3-changeSize-projects-individual.png  \n",
            "  inflating: replication-package/plots/rq3-wtest-projects-null-hyp.png  \n",
            "   creating: replication-package/rscripts/\n",
            "  inflating: replication-package/rscripts/analysis.nb.html  \n",
            "  inflating: replication-package/rscripts/data-exploration.r  \n",
            "  inflating: replication-package/rscripts/tags.r  \n",
            "  inflating: replication-package/rscripts/.Rhistory  \n",
            "  inflating: replication-package/rscripts/merge-results.R  \n",
            "  inflating: replication-package/rscripts/analysis.Rmd  \n"
          ]
        }
      ]
    },
    {
      "cell_type": "markdown",
      "source": [
        "## Análise dos dados"
      ],
      "metadata": {
        "id": "bO_egqBGANet"
      }
    },
    {
      "cell_type": "code",
      "source": [
        "import pandas as pd"
      ],
      "metadata": {
        "id": "8ljX6NFb_DiG"
      },
      "execution_count": 40,
      "outputs": []
    },
    {
      "cell_type": "code",
      "source": [
        "df_smells = pd.read_csv('replication-package/csv-2019-12-09/smells.csv')"
      ],
      "metadata": {
        "id": "XefcsQJL6i6E"
      },
      "execution_count": 41,
      "outputs": []
    },
    {
      "cell_type": "code",
      "source": [
        "df_projects = pd.read_csv('replication-package/csv-2019-12-09/projects.csv')"
      ],
      "metadata": {
        "id": "2z0nMMAh--01"
      },
      "execution_count": 42,
      "outputs": []
    },
    {
      "cell_type": "code",
      "source": [
        "df_components = pd.read_csv('replication-package/csv-2019-12-09/components.csv')"
      ],
      "metadata": {
        "colab": {
          "base_uri": "https://localhost:8080/"
        },
        "id": "CVRdK09G_AML",
        "outputId": "946ebd99-226f-4dcb-c585-56861f832db2"
      },
      "execution_count": 43,
      "outputs": [
        {
          "output_type": "stream",
          "name": "stderr",
          "text": [
            "<ipython-input-43-432c5dd5eb93>:1: DtypeWarning: Columns (9) have mixed types. Specify dtype option on import or set low_memory=False.\n",
            "  df_components = pd.read_csv('replication-package/csv-2019-12-09/components.csv')\n"
          ]
        }
      ]
    },
    {
      "cell_type": "code",
      "source": [
        "df_affected = pd.read_csv('replication-package/csv-2019-12-09/affected.csv')"
      ],
      "metadata": {
        "id": "v6uTwGjv_Bab"
      },
      "execution_count": 44,
      "outputs": []
    },
    {
      "cell_type": "markdown",
      "source": [
        "## Smells"
      ],
      "metadata": {
        "id": "WjOBw5e4_aTu"
      }
    },
    {
      "cell_type": "code",
      "source": [
        "df_smells.head(3)"
      ],
      "metadata": {
        "colab": {
          "base_uri": "https://localhost:8080/",
          "height": 245
        },
        "id": "JQsOg4Uw-UpK",
        "outputId": "d0a20fcd-5d56-42e4-a382-cb436b8e2323"
      },
      "execution_count": 37,
      "outputs": [
        {
          "output_type": "execute_result",
          "data": {
            "text/plain": [
              "    project  age                               firstAppeared  \\\n",
              "0  accumulo  100  1-4558b9a25d11c5ac8a03c3c671472786a49e8e98   \n",
              "1  accumulo  100  1-4558b9a25d11c5ac8a03c3c671472786a49e8e98   \n",
              "2  accumulo  100  1-4558b9a25d11c5ac8a03c3c671472786a49e8e98   \n",
              "\n",
              "                                   lastDetected    smellType  uniqueSmellID  \\\n",
              "0  101-2e8144ec89e74d37c7ff97d301051fea747e05c7  unstableDep              1   \n",
              "1  101-2e8144ec89e74d37c7ff97d301051fea747e05c7  unstableDep              1   \n",
              "2  101-2e8144ec89e74d37c7ff97d301051fea747e05c7  unstableDep              1   \n",
              "\n",
              "                                       version  versionIndex versionDate.x  \\\n",
              "0   5-917399157ace8ae691164d44db8eec3953b205f7             5     19-2-2012   \n",
              "1  77-646b059eb0b2de3bffe329d744c47bd9890103c7            77    17-11-2017   \n",
              "2  94-9aae33bbf39098c8aa601c040754cf36bfbdf1d4            94      9-4-2019   \n",
              "\n",
              "   smellIdInVersion  ...  shape size strength  \\\n",
              "0            135496  ...    NaN    4     0.05   \n",
              "1           1024721  ...    NaN    5     0.00   \n",
              "2           1508745  ...    NaN    5     0.00   \n",
              "\n",
              "                                    affectedElements  firstAppearedIndex  \\\n",
              "0  [org.apache.accumulo.core.bloomfilter, org.apa...                 NaN   \n",
              "1  [org.apache.accumulo.core.bloomfilter, org.apa...                 NaN   \n",
              "2  [org.apache.accumulo.core.bloomfilter, org.apa...                 NaN   \n",
              "\n",
              "   lastDetectedIndex  versionDate.y  nPackages  nClasses  pageRankWeighted  \n",
              "0                NaN      19-2-2012         97      1937          0.084671  \n",
              "1                NaN     17-11-2017         74      2812          0.039795  \n",
              "2                NaN       9-4-2019         76      2833          0.045560  \n",
              "\n",
              "[3 rows x 40 columns]"
            ],
            "text/html": [
              "\n",
              "  <div id=\"df-dd1dd16c-d383-4d4d-99f6-7dc2b477e763\" class=\"colab-df-container\">\n",
              "    <div>\n",
              "<style scoped>\n",
              "    .dataframe tbody tr th:only-of-type {\n",
              "        vertical-align: middle;\n",
              "    }\n",
              "\n",
              "    .dataframe tbody tr th {\n",
              "        vertical-align: top;\n",
              "    }\n",
              "\n",
              "    .dataframe thead th {\n",
              "        text-align: right;\n",
              "    }\n",
              "</style>\n",
              "<table border=\"1\" class=\"dataframe\">\n",
              "  <thead>\n",
              "    <tr style=\"text-align: right;\">\n",
              "      <th></th>\n",
              "      <th>project</th>\n",
              "      <th>age</th>\n",
              "      <th>firstAppeared</th>\n",
              "      <th>lastDetected</th>\n",
              "      <th>smellType</th>\n",
              "      <th>uniqueSmellID</th>\n",
              "      <th>version</th>\n",
              "      <th>versionIndex</th>\n",
              "      <th>versionDate.x</th>\n",
              "      <th>smellIdInVersion</th>\n",
              "      <th>...</th>\n",
              "      <th>shape</th>\n",
              "      <th>size</th>\n",
              "      <th>strength</th>\n",
              "      <th>affectedElements</th>\n",
              "      <th>firstAppearedIndex</th>\n",
              "      <th>lastDetectedIndex</th>\n",
              "      <th>versionDate.y</th>\n",
              "      <th>nPackages</th>\n",
              "      <th>nClasses</th>\n",
              "      <th>pageRankWeighted</th>\n",
              "    </tr>\n",
              "  </thead>\n",
              "  <tbody>\n",
              "    <tr>\n",
              "      <th>0</th>\n",
              "      <td>accumulo</td>\n",
              "      <td>100</td>\n",
              "      <td>1-4558b9a25d11c5ac8a03c3c671472786a49e8e98</td>\n",
              "      <td>101-2e8144ec89e74d37c7ff97d301051fea747e05c7</td>\n",
              "      <td>unstableDep</td>\n",
              "      <td>1</td>\n",
              "      <td>5-917399157ace8ae691164d44db8eec3953b205f7</td>\n",
              "      <td>5</td>\n",
              "      <td>19-2-2012</td>\n",
              "      <td>135496</td>\n",
              "      <td>...</td>\n",
              "      <td>NaN</td>\n",
              "      <td>4</td>\n",
              "      <td>0.05</td>\n",
              "      <td>[org.apache.accumulo.core.bloomfilter, org.apa...</td>\n",
              "      <td>NaN</td>\n",
              "      <td>NaN</td>\n",
              "      <td>19-2-2012</td>\n",
              "      <td>97</td>\n",
              "      <td>1937</td>\n",
              "      <td>0.084671</td>\n",
              "    </tr>\n",
              "    <tr>\n",
              "      <th>1</th>\n",
              "      <td>accumulo</td>\n",
              "      <td>100</td>\n",
              "      <td>1-4558b9a25d11c5ac8a03c3c671472786a49e8e98</td>\n",
              "      <td>101-2e8144ec89e74d37c7ff97d301051fea747e05c7</td>\n",
              "      <td>unstableDep</td>\n",
              "      <td>1</td>\n",
              "      <td>77-646b059eb0b2de3bffe329d744c47bd9890103c7</td>\n",
              "      <td>77</td>\n",
              "      <td>17-11-2017</td>\n",
              "      <td>1024721</td>\n",
              "      <td>...</td>\n",
              "      <td>NaN</td>\n",
              "      <td>5</td>\n",
              "      <td>0.00</td>\n",
              "      <td>[org.apache.accumulo.core.bloomfilter, org.apa...</td>\n",
              "      <td>NaN</td>\n",
              "      <td>NaN</td>\n",
              "      <td>17-11-2017</td>\n",
              "      <td>74</td>\n",
              "      <td>2812</td>\n",
              "      <td>0.039795</td>\n",
              "    </tr>\n",
              "    <tr>\n",
              "      <th>2</th>\n",
              "      <td>accumulo</td>\n",
              "      <td>100</td>\n",
              "      <td>1-4558b9a25d11c5ac8a03c3c671472786a49e8e98</td>\n",
              "      <td>101-2e8144ec89e74d37c7ff97d301051fea747e05c7</td>\n",
              "      <td>unstableDep</td>\n",
              "      <td>1</td>\n",
              "      <td>94-9aae33bbf39098c8aa601c040754cf36bfbdf1d4</td>\n",
              "      <td>94</td>\n",
              "      <td>9-4-2019</td>\n",
              "      <td>1508745</td>\n",
              "      <td>...</td>\n",
              "      <td>NaN</td>\n",
              "      <td>5</td>\n",
              "      <td>0.00</td>\n",
              "      <td>[org.apache.accumulo.core.bloomfilter, org.apa...</td>\n",
              "      <td>NaN</td>\n",
              "      <td>NaN</td>\n",
              "      <td>9-4-2019</td>\n",
              "      <td>76</td>\n",
              "      <td>2833</td>\n",
              "      <td>0.045560</td>\n",
              "    </tr>\n",
              "  </tbody>\n",
              "</table>\n",
              "<p>3 rows × 40 columns</p>\n",
              "</div>\n",
              "    <div class=\"colab-df-buttons\">\n",
              "\n",
              "  <div class=\"colab-df-container\">\n",
              "    <button class=\"colab-df-convert\" onclick=\"convertToInteractive('df-dd1dd16c-d383-4d4d-99f6-7dc2b477e763')\"\n",
              "            title=\"Convert this dataframe to an interactive table.\"\n",
              "            style=\"display:none;\">\n",
              "\n",
              "  <svg xmlns=\"http://www.w3.org/2000/svg\" height=\"24px\" viewBox=\"0 -960 960 960\">\n",
              "    <path d=\"M120-120v-720h720v720H120Zm60-500h600v-160H180v160Zm220 220h160v-160H400v160Zm0 220h160v-160H400v160ZM180-400h160v-160H180v160Zm440 0h160v-160H620v160ZM180-180h160v-160H180v160Zm440 0h160v-160H620v160Z\"/>\n",
              "  </svg>\n",
              "    </button>\n",
              "\n",
              "  <style>\n",
              "    .colab-df-container {\n",
              "      display:flex;\n",
              "      gap: 12px;\n",
              "    }\n",
              "\n",
              "    .colab-df-convert {\n",
              "      background-color: #E8F0FE;\n",
              "      border: none;\n",
              "      border-radius: 50%;\n",
              "      cursor: pointer;\n",
              "      display: none;\n",
              "      fill: #1967D2;\n",
              "      height: 32px;\n",
              "      padding: 0 0 0 0;\n",
              "      width: 32px;\n",
              "    }\n",
              "\n",
              "    .colab-df-convert:hover {\n",
              "      background-color: #E2EBFA;\n",
              "      box-shadow: 0px 1px 2px rgba(60, 64, 67, 0.3), 0px 1px 3px 1px rgba(60, 64, 67, 0.15);\n",
              "      fill: #174EA6;\n",
              "    }\n",
              "\n",
              "    .colab-df-buttons div {\n",
              "      margin-bottom: 4px;\n",
              "    }\n",
              "\n",
              "    [theme=dark] .colab-df-convert {\n",
              "      background-color: #3B4455;\n",
              "      fill: #D2E3FC;\n",
              "    }\n",
              "\n",
              "    [theme=dark] .colab-df-convert:hover {\n",
              "      background-color: #434B5C;\n",
              "      box-shadow: 0px 1px 3px 1px rgba(0, 0, 0, 0.15);\n",
              "      filter: drop-shadow(0px 1px 2px rgba(0, 0, 0, 0.3));\n",
              "      fill: #FFFFFF;\n",
              "    }\n",
              "  </style>\n",
              "\n",
              "    <script>\n",
              "      const buttonEl =\n",
              "        document.querySelector('#df-dd1dd16c-d383-4d4d-99f6-7dc2b477e763 button.colab-df-convert');\n",
              "      buttonEl.style.display =\n",
              "        google.colab.kernel.accessAllowed ? 'block' : 'none';\n",
              "\n",
              "      async function convertToInteractive(key) {\n",
              "        const element = document.querySelector('#df-dd1dd16c-d383-4d4d-99f6-7dc2b477e763');\n",
              "        const dataTable =\n",
              "          await google.colab.kernel.invokeFunction('convertToInteractive',\n",
              "                                                    [key], {});\n",
              "        if (!dataTable) return;\n",
              "\n",
              "        const docLinkHtml = 'Like what you see? Visit the ' +\n",
              "          '<a target=\"_blank\" href=https://colab.research.google.com/notebooks/data_table.ipynb>data table notebook</a>'\n",
              "          + ' to learn more about interactive tables.';\n",
              "        element.innerHTML = '';\n",
              "        dataTable['output_type'] = 'display_data';\n",
              "        await google.colab.output.renderOutput(dataTable, element);\n",
              "        const docLink = document.createElement('div');\n",
              "        docLink.innerHTML = docLinkHtml;\n",
              "        element.appendChild(docLink);\n",
              "      }\n",
              "    </script>\n",
              "  </div>\n",
              "\n",
              "\n",
              "<div id=\"df-a7fccce2-aec0-4843-a7ba-ccb5ad6d9ebb\">\n",
              "  <button class=\"colab-df-quickchart\" onclick=\"quickchart('df-a7fccce2-aec0-4843-a7ba-ccb5ad6d9ebb')\"\n",
              "            title=\"Suggest charts.\"\n",
              "            style=\"display:none;\">\n",
              "\n",
              "<svg xmlns=\"http://www.w3.org/2000/svg\" height=\"24px\"viewBox=\"0 0 24 24\"\n",
              "     width=\"24px\">\n",
              "    <g>\n",
              "        <path d=\"M19 3H5c-1.1 0-2 .9-2 2v14c0 1.1.9 2 2 2h14c1.1 0 2-.9 2-2V5c0-1.1-.9-2-2-2zM9 17H7v-7h2v7zm4 0h-2V7h2v10zm4 0h-2v-4h2v4z\"/>\n",
              "    </g>\n",
              "</svg>\n",
              "  </button>\n",
              "\n",
              "<style>\n",
              "  .colab-df-quickchart {\n",
              "    background-color: #E8F0FE;\n",
              "    border: none;\n",
              "    border-radius: 50%;\n",
              "    cursor: pointer;\n",
              "    display: none;\n",
              "    fill: #1967D2;\n",
              "    height: 32px;\n",
              "    padding: 0 0 0 0;\n",
              "    width: 32px;\n",
              "  }\n",
              "\n",
              "  .colab-df-quickchart:hover {\n",
              "    background-color: #E2EBFA;\n",
              "    box-shadow: 0px 1px 2px rgba(60, 64, 67, 0.3), 0px 1px 3px 1px rgba(60, 64, 67, 0.15);\n",
              "    fill: #174EA6;\n",
              "  }\n",
              "\n",
              "  [theme=dark] .colab-df-quickchart {\n",
              "    background-color: #3B4455;\n",
              "    fill: #D2E3FC;\n",
              "  }\n",
              "\n",
              "  [theme=dark] .colab-df-quickchart:hover {\n",
              "    background-color: #434B5C;\n",
              "    box-shadow: 0px 1px 3px 1px rgba(0, 0, 0, 0.15);\n",
              "    filter: drop-shadow(0px 1px 2px rgba(0, 0, 0, 0.3));\n",
              "    fill: #FFFFFF;\n",
              "  }\n",
              "</style>\n",
              "\n",
              "  <script>\n",
              "    async function quickchart(key) {\n",
              "      const charts = await google.colab.kernel.invokeFunction(\n",
              "          'suggestCharts', [key], {});\n",
              "    }\n",
              "    (() => {\n",
              "      let quickchartButtonEl =\n",
              "        document.querySelector('#df-a7fccce2-aec0-4843-a7ba-ccb5ad6d9ebb button');\n",
              "      quickchartButtonEl.style.display =\n",
              "        google.colab.kernel.accessAllowed ? 'block' : 'none';\n",
              "    })();\n",
              "  </script>\n",
              "</div>\n",
              "    </div>\n",
              "  </div>\n"
            ]
          },
          "metadata": {},
          "execution_count": 37
        }
      ]
    },
    {
      "cell_type": "code",
      "source": [
        "df_smells.info()"
      ],
      "metadata": {
        "colab": {
          "base_uri": "https://localhost:8080/"
        },
        "id": "QdWiRuSI6np0",
        "outputId": "9c4e6811-be67-4b6c-b8d2-80819935d812"
      },
      "execution_count": 32,
      "outputs": [
        {
          "output_type": "stream",
          "name": "stdout",
          "text": [
            "<class 'pandas.core.frame.DataFrame'>\n",
            "RangeIndex: 271739 entries, 0 to 271738\n",
            "Data columns (total 40 columns):\n",
            " #   Column                   Non-Null Count   Dtype  \n",
            "---  ------                   --------------   -----  \n",
            " 0   project                  271739 non-null  object \n",
            " 1   age                      271739 non-null  int64  \n",
            " 2   firstAppeared            271739 non-null  object \n",
            " 3   lastDetected             271739 non-null  object \n",
            " 4   smellType                271739 non-null  object \n",
            " 5   uniqueSmellID            271739 non-null  int64  \n",
            " 6   version                  271739 non-null  object \n",
            " 7   versionIndex             271739 non-null  int64  \n",
            " 8   versionDate.x            271739 non-null  object \n",
            " 9   smellIdInVersion         271739 non-null  int64  \n",
            " 10  affectedClassesRatio     8674 non-null    float64\n",
            " 11  affectedComponentType    271739 non-null  object \n",
            " 12  affectedDesignLevel      207182 non-null  object \n",
            " 13  afferentAffectedRatio    8674 non-null    float64\n",
            " 14  avrgEdgeWeight           207182 non-null  float64\n",
            " 15  avrgInternalPathLength   8674 non-null    float64\n",
            " 16  avrgNumOfChanges         271739 non-null  float64\n",
            " 17  efferentAffectedRatio    8674 non-null    float64\n",
            " 18  instabilityGap           53459 non-null   float64\n",
            " 19  numOfEdges               271739 non-null  int64  \n",
            " 20  numOfInheritanceEdges    207182 non-null  float64\n",
            " 21  numOfPrivateUseEdges     207182 non-null  float64\n",
            " 22  numOfPublicUseEdges      207182 non-null  float64\n",
            " 23  overlapRatio             271369 non-null  float64\n",
            " 24  overlapRatiocyclicDep    64557 non-null   float64\n",
            " 25  overlapRatiohubLikeDep   2424 non-null    float64\n",
            " 26  overlapRatiounstableDep  11098 non-null   float64\n",
            " 27  pageRankAvrg             271739 non-null  float64\n",
            " 28  pageRankMax              271739 non-null  float64\n",
            " 29  parentCentrality         207182 non-null  float64\n",
            " 30  shape                    207182 non-null  object \n",
            " 31  size                     271739 non-null  int64  \n",
            " 32  strength                 53459 non-null   float64\n",
            " 33  affectedElements         271739 non-null  object \n",
            " 34  firstAppearedIndex       95465 non-null   float64\n",
            " 35  lastDetectedIndex        95465 non-null   float64\n",
            " 36  versionDate.y            271739 non-null  object \n",
            " 37  nPackages                271739 non-null  int64  \n",
            " 38  nClasses                 271739 non-null  int64  \n",
            " 39  pageRankWeighted         271739 non-null  float64\n",
            "dtypes: float64(21), int64(8), object(11)\n",
            "memory usage: 82.9+ MB\n"
          ]
        }
      ]
    },
    {
      "cell_type": "code",
      "source": [
        "df_smells['project'].unique()"
      ],
      "metadata": {
        "colab": {
          "base_uri": "https://localhost:8080/"
        },
        "id": "zALtaYMX9y90",
        "outputId": "70109c14-0812-4582-f57f-253f0544b641"
      },
      "execution_count": 34,
      "outputs": [
        {
          "output_type": "execute_result",
          "data": {
            "text/plain": [
              "array(['accumulo', 'activemq', 'ant-ivy', 'cassandra', 'chukwa', 'druid',\n",
              "       'guava', 'httpcomponents-client', 'jackrabbit', 'jackson-databind',\n",
              "       'jena', 'jspwiki', 'lucene-solr', 'mina', 'pdfbox', 'pgjdbc',\n",
              "       'poi', 'struts', 'testng', 'tika', 'xerces2-j'], dtype=object)"
            ]
          },
          "metadata": {},
          "execution_count": 34
        }
      ]
    },
    {
      "cell_type": "code",
      "source": [
        "df_smells_4_repo_tese = df_smells.query(\"project=='cassandra' or project=='spring-boot' or project='elasticsearch'\")"
      ],
      "metadata": {
        "id": "ibSbTNue9c4a"
      },
      "execution_count": null,
      "outputs": []
    },
    {
      "cell_type": "markdown",
      "source": [
        "## projects"
      ],
      "metadata": {
        "id": "Dz9iiMxL_dbH"
      }
    },
    {
      "cell_type": "code",
      "source": [
        "df_projects.head(3)"
      ],
      "metadata": {
        "colab": {
          "base_uri": "https://localhost:8080/",
          "height": 143
        },
        "id": "Eu4aPke6_Mc9",
        "outputId": "094aa18b-b27b-44ce-de2b-8efb7fd5c44a"
      },
      "execution_count": 45,
      "outputs": [
        {
          "output_type": "execute_result",
          "data": {
            "text/plain": [
              "    project                                     version versionDate  \\\n",
              "0  accumulo  1-4558b9a25d11c5ac8a03c3c671472786a49e8e98  28-10-2011   \n",
              "1  accumulo  3-968ad7fe2efbdcf9bfcd77be1b8b47d340aee99e  23-12-2011   \n",
              "2  accumulo  4-6d8d0acc548a79ce1e6fbe15dc9c0dabd646c6ca   20-1-2012   \n",
              "\n",
              "   versionIndex  nPackages  nClasses  \n",
              "0             1         85      1596  \n",
              "1             3        109      2031  \n",
              "2             4         96      1931  "
            ],
            "text/html": [
              "\n",
              "  <div id=\"df-1fea90fb-ce03-4349-80ee-fe036b21ea6b\" class=\"colab-df-container\">\n",
              "    <div>\n",
              "<style scoped>\n",
              "    .dataframe tbody tr th:only-of-type {\n",
              "        vertical-align: middle;\n",
              "    }\n",
              "\n",
              "    .dataframe tbody tr th {\n",
              "        vertical-align: top;\n",
              "    }\n",
              "\n",
              "    .dataframe thead th {\n",
              "        text-align: right;\n",
              "    }\n",
              "</style>\n",
              "<table border=\"1\" class=\"dataframe\">\n",
              "  <thead>\n",
              "    <tr style=\"text-align: right;\">\n",
              "      <th></th>\n",
              "      <th>project</th>\n",
              "      <th>version</th>\n",
              "      <th>versionDate</th>\n",
              "      <th>versionIndex</th>\n",
              "      <th>nPackages</th>\n",
              "      <th>nClasses</th>\n",
              "    </tr>\n",
              "  </thead>\n",
              "  <tbody>\n",
              "    <tr>\n",
              "      <th>0</th>\n",
              "      <td>accumulo</td>\n",
              "      <td>1-4558b9a25d11c5ac8a03c3c671472786a49e8e98</td>\n",
              "      <td>28-10-2011</td>\n",
              "      <td>1</td>\n",
              "      <td>85</td>\n",
              "      <td>1596</td>\n",
              "    </tr>\n",
              "    <tr>\n",
              "      <th>1</th>\n",
              "      <td>accumulo</td>\n",
              "      <td>3-968ad7fe2efbdcf9bfcd77be1b8b47d340aee99e</td>\n",
              "      <td>23-12-2011</td>\n",
              "      <td>3</td>\n",
              "      <td>109</td>\n",
              "      <td>2031</td>\n",
              "    </tr>\n",
              "    <tr>\n",
              "      <th>2</th>\n",
              "      <td>accumulo</td>\n",
              "      <td>4-6d8d0acc548a79ce1e6fbe15dc9c0dabd646c6ca</td>\n",
              "      <td>20-1-2012</td>\n",
              "      <td>4</td>\n",
              "      <td>96</td>\n",
              "      <td>1931</td>\n",
              "    </tr>\n",
              "  </tbody>\n",
              "</table>\n",
              "</div>\n",
              "    <div class=\"colab-df-buttons\">\n",
              "\n",
              "  <div class=\"colab-df-container\">\n",
              "    <button class=\"colab-df-convert\" onclick=\"convertToInteractive('df-1fea90fb-ce03-4349-80ee-fe036b21ea6b')\"\n",
              "            title=\"Convert this dataframe to an interactive table.\"\n",
              "            style=\"display:none;\">\n",
              "\n",
              "  <svg xmlns=\"http://www.w3.org/2000/svg\" height=\"24px\" viewBox=\"0 -960 960 960\">\n",
              "    <path d=\"M120-120v-720h720v720H120Zm60-500h600v-160H180v160Zm220 220h160v-160H400v160Zm0 220h160v-160H400v160ZM180-400h160v-160H180v160Zm440 0h160v-160H620v160ZM180-180h160v-160H180v160Zm440 0h160v-160H620v160Z\"/>\n",
              "  </svg>\n",
              "    </button>\n",
              "\n",
              "  <style>\n",
              "    .colab-df-container {\n",
              "      display:flex;\n",
              "      gap: 12px;\n",
              "    }\n",
              "\n",
              "    .colab-df-convert {\n",
              "      background-color: #E8F0FE;\n",
              "      border: none;\n",
              "      border-radius: 50%;\n",
              "      cursor: pointer;\n",
              "      display: none;\n",
              "      fill: #1967D2;\n",
              "      height: 32px;\n",
              "      padding: 0 0 0 0;\n",
              "      width: 32px;\n",
              "    }\n",
              "\n",
              "    .colab-df-convert:hover {\n",
              "      background-color: #E2EBFA;\n",
              "      box-shadow: 0px 1px 2px rgba(60, 64, 67, 0.3), 0px 1px 3px 1px rgba(60, 64, 67, 0.15);\n",
              "      fill: #174EA6;\n",
              "    }\n",
              "\n",
              "    .colab-df-buttons div {\n",
              "      margin-bottom: 4px;\n",
              "    }\n",
              "\n",
              "    [theme=dark] .colab-df-convert {\n",
              "      background-color: #3B4455;\n",
              "      fill: #D2E3FC;\n",
              "    }\n",
              "\n",
              "    [theme=dark] .colab-df-convert:hover {\n",
              "      background-color: #434B5C;\n",
              "      box-shadow: 0px 1px 3px 1px rgba(0, 0, 0, 0.15);\n",
              "      filter: drop-shadow(0px 1px 2px rgba(0, 0, 0, 0.3));\n",
              "      fill: #FFFFFF;\n",
              "    }\n",
              "  </style>\n",
              "\n",
              "    <script>\n",
              "      const buttonEl =\n",
              "        document.querySelector('#df-1fea90fb-ce03-4349-80ee-fe036b21ea6b button.colab-df-convert');\n",
              "      buttonEl.style.display =\n",
              "        google.colab.kernel.accessAllowed ? 'block' : 'none';\n",
              "\n",
              "      async function convertToInteractive(key) {\n",
              "        const element = document.querySelector('#df-1fea90fb-ce03-4349-80ee-fe036b21ea6b');\n",
              "        const dataTable =\n",
              "          await google.colab.kernel.invokeFunction('convertToInteractive',\n",
              "                                                    [key], {});\n",
              "        if (!dataTable) return;\n",
              "\n",
              "        const docLinkHtml = 'Like what you see? Visit the ' +\n",
              "          '<a target=\"_blank\" href=https://colab.research.google.com/notebooks/data_table.ipynb>data table notebook</a>'\n",
              "          + ' to learn more about interactive tables.';\n",
              "        element.innerHTML = '';\n",
              "        dataTable['output_type'] = 'display_data';\n",
              "        await google.colab.output.renderOutput(dataTable, element);\n",
              "        const docLink = document.createElement('div');\n",
              "        docLink.innerHTML = docLinkHtml;\n",
              "        element.appendChild(docLink);\n",
              "      }\n",
              "    </script>\n",
              "  </div>\n",
              "\n",
              "\n",
              "<div id=\"df-6b3c66b9-b70b-49d7-8523-07017c64e9e2\">\n",
              "  <button class=\"colab-df-quickchart\" onclick=\"quickchart('df-6b3c66b9-b70b-49d7-8523-07017c64e9e2')\"\n",
              "            title=\"Suggest charts.\"\n",
              "            style=\"display:none;\">\n",
              "\n",
              "<svg xmlns=\"http://www.w3.org/2000/svg\" height=\"24px\"viewBox=\"0 0 24 24\"\n",
              "     width=\"24px\">\n",
              "    <g>\n",
              "        <path d=\"M19 3H5c-1.1 0-2 .9-2 2v14c0 1.1.9 2 2 2h14c1.1 0 2-.9 2-2V5c0-1.1-.9-2-2-2zM9 17H7v-7h2v7zm4 0h-2V7h2v10zm4 0h-2v-4h2v4z\"/>\n",
              "    </g>\n",
              "</svg>\n",
              "  </button>\n",
              "\n",
              "<style>\n",
              "  .colab-df-quickchart {\n",
              "    background-color: #E8F0FE;\n",
              "    border: none;\n",
              "    border-radius: 50%;\n",
              "    cursor: pointer;\n",
              "    display: none;\n",
              "    fill: #1967D2;\n",
              "    height: 32px;\n",
              "    padding: 0 0 0 0;\n",
              "    width: 32px;\n",
              "  }\n",
              "\n",
              "  .colab-df-quickchart:hover {\n",
              "    background-color: #E2EBFA;\n",
              "    box-shadow: 0px 1px 2px rgba(60, 64, 67, 0.3), 0px 1px 3px 1px rgba(60, 64, 67, 0.15);\n",
              "    fill: #174EA6;\n",
              "  }\n",
              "\n",
              "  [theme=dark] .colab-df-quickchart {\n",
              "    background-color: #3B4455;\n",
              "    fill: #D2E3FC;\n",
              "  }\n",
              "\n",
              "  [theme=dark] .colab-df-quickchart:hover {\n",
              "    background-color: #434B5C;\n",
              "    box-shadow: 0px 1px 3px 1px rgba(0, 0, 0, 0.15);\n",
              "    filter: drop-shadow(0px 1px 2px rgba(0, 0, 0, 0.3));\n",
              "    fill: #FFFFFF;\n",
              "  }\n",
              "</style>\n",
              "\n",
              "  <script>\n",
              "    async function quickchart(key) {\n",
              "      const charts = await google.colab.kernel.invokeFunction(\n",
              "          'suggestCharts', [key], {});\n",
              "    }\n",
              "    (() => {\n",
              "      let quickchartButtonEl =\n",
              "        document.querySelector('#df-6b3c66b9-b70b-49d7-8523-07017c64e9e2 button');\n",
              "      quickchartButtonEl.style.display =\n",
              "        google.colab.kernel.accessAllowed ? 'block' : 'none';\n",
              "    })();\n",
              "  </script>\n",
              "</div>\n",
              "    </div>\n",
              "  </div>\n"
            ]
          },
          "metadata": {},
          "execution_count": 45
        }
      ]
    },
    {
      "cell_type": "code",
      "source": [
        "df_projects.info()"
      ],
      "metadata": {
        "colab": {
          "base_uri": "https://localhost:8080/"
        },
        "id": "hfqHnEmd_U-O",
        "outputId": "bd178cff-dac2-4e08-fd5e-409acca38bd4"
      },
      "execution_count": 46,
      "outputs": [
        {
          "output_type": "stream",
          "name": "stdout",
          "text": [
            "<class 'pandas.core.frame.DataFrame'>\n",
            "RangeIndex: 3087 entries, 0 to 3086\n",
            "Data columns (total 6 columns):\n",
            " #   Column        Non-Null Count  Dtype \n",
            "---  ------        --------------  ----- \n",
            " 0   project       3087 non-null   object\n",
            " 1   version       3087 non-null   object\n",
            " 2   versionDate   3087 non-null   object\n",
            " 3   versionIndex  3087 non-null   int64 \n",
            " 4   nPackages     3087 non-null   int64 \n",
            " 5   nClasses      3087 non-null   int64 \n",
            "dtypes: int64(3), object(3)\n",
            "memory usage: 144.8+ KB\n"
          ]
        }
      ]
    },
    {
      "cell_type": "markdown",
      "source": [
        "## Components"
      ],
      "metadata": {
        "id": "krfgkI9L_luK"
      }
    },
    {
      "cell_type": "code",
      "source": [
        "df_components.head()"
      ],
      "metadata": {
        "colab": {
          "base_uri": "https://localhost:8080/",
          "height": 313
        },
        "id": "biOEWnvN7G2q",
        "outputId": "e7bd7f8c-8113-4a33-acc9-090b06fc2b9a"
      },
      "execution_count": 47,
      "outputs": [
        {
          "output_type": "execute_result",
          "data": {
            "text/plain": [
              "    project                                               name   type  \\\n",
              "0  accumulo  org.apache.accumulo.core.master.thrift.MasterC...  class   \n",
              "1  accumulo  org.apache.accumulo.core.file.BloomFilterLayer...  class   \n",
              "2  accumulo  org.apache.accumulo.core.client.impl.TabletLoc...  class   \n",
              "3  accumulo  org.apache.accumulo.server.constraints.Metadat...  class   \n",
              "4  accumulo  org.apache.accumulo.core.tabletserver.thrift.M...  class   \n",
              "\n",
              "                                      version  versionIndex  \\\n",
              "0  1-4558b9a25d11c5ac8a03c3c671472786a49e8e98             1   \n",
              "1  1-4558b9a25d11c5ac8a03c3c671472786a49e8e98             1   \n",
              "2  1-4558b9a25d11c5ac8a03c3c671472786a49e8e98             1   \n",
              "3  1-4558b9a25d11c5ac8a03c3c671472786a49e8e98             1   \n",
              "4  1-4558b9a25d11c5ac8a03c3c671472786a49e8e98             1   \n",
              "\n",
              "   numOfClassesInPackage  linesOfCode  freqOfChanges  percCommitsClassChanged  \\\n",
              "0                      0           47              0                      0.0   \n",
              "1                      0           94              0                      0.0   \n",
              "2                      0           36              0                      0.0   \n",
              "3                      0          196              0                      0.0   \n",
              "4                      0           41              0                      0.0   \n",
              "\n",
              "  changeHasOccurredMetric  percCommitsPackChanged  totalAmountOfChanges  \n",
              "0                       0                     0.0                     0  \n",
              "1                       0                     0.0                     0  \n",
              "2                       0                     0.0                     0  \n",
              "3                       0                     0.0                     0  \n",
              "4                       0                     0.0                     0  "
            ],
            "text/html": [
              "\n",
              "  <div id=\"df-2b326d59-89c9-4112-a291-6df91648fae4\" class=\"colab-df-container\">\n",
              "    <div>\n",
              "<style scoped>\n",
              "    .dataframe tbody tr th:only-of-type {\n",
              "        vertical-align: middle;\n",
              "    }\n",
              "\n",
              "    .dataframe tbody tr th {\n",
              "        vertical-align: top;\n",
              "    }\n",
              "\n",
              "    .dataframe thead th {\n",
              "        text-align: right;\n",
              "    }\n",
              "</style>\n",
              "<table border=\"1\" class=\"dataframe\">\n",
              "  <thead>\n",
              "    <tr style=\"text-align: right;\">\n",
              "      <th></th>\n",
              "      <th>project</th>\n",
              "      <th>name</th>\n",
              "      <th>type</th>\n",
              "      <th>version</th>\n",
              "      <th>versionIndex</th>\n",
              "      <th>numOfClassesInPackage</th>\n",
              "      <th>linesOfCode</th>\n",
              "      <th>freqOfChanges</th>\n",
              "      <th>percCommitsClassChanged</th>\n",
              "      <th>changeHasOccurredMetric</th>\n",
              "      <th>percCommitsPackChanged</th>\n",
              "      <th>totalAmountOfChanges</th>\n",
              "    </tr>\n",
              "  </thead>\n",
              "  <tbody>\n",
              "    <tr>\n",
              "      <th>0</th>\n",
              "      <td>accumulo</td>\n",
              "      <td>org.apache.accumulo.core.master.thrift.MasterC...</td>\n",
              "      <td>class</td>\n",
              "      <td>1-4558b9a25d11c5ac8a03c3c671472786a49e8e98</td>\n",
              "      <td>1</td>\n",
              "      <td>0</td>\n",
              "      <td>47</td>\n",
              "      <td>0</td>\n",
              "      <td>0.0</td>\n",
              "      <td>0</td>\n",
              "      <td>0.0</td>\n",
              "      <td>0</td>\n",
              "    </tr>\n",
              "    <tr>\n",
              "      <th>1</th>\n",
              "      <td>accumulo</td>\n",
              "      <td>org.apache.accumulo.core.file.BloomFilterLayer...</td>\n",
              "      <td>class</td>\n",
              "      <td>1-4558b9a25d11c5ac8a03c3c671472786a49e8e98</td>\n",
              "      <td>1</td>\n",
              "      <td>0</td>\n",
              "      <td>94</td>\n",
              "      <td>0</td>\n",
              "      <td>0.0</td>\n",
              "      <td>0</td>\n",
              "      <td>0.0</td>\n",
              "      <td>0</td>\n",
              "    </tr>\n",
              "    <tr>\n",
              "      <th>2</th>\n",
              "      <td>accumulo</td>\n",
              "      <td>org.apache.accumulo.core.client.impl.TabletLoc...</td>\n",
              "      <td>class</td>\n",
              "      <td>1-4558b9a25d11c5ac8a03c3c671472786a49e8e98</td>\n",
              "      <td>1</td>\n",
              "      <td>0</td>\n",
              "      <td>36</td>\n",
              "      <td>0</td>\n",
              "      <td>0.0</td>\n",
              "      <td>0</td>\n",
              "      <td>0.0</td>\n",
              "      <td>0</td>\n",
              "    </tr>\n",
              "    <tr>\n",
              "      <th>3</th>\n",
              "      <td>accumulo</td>\n",
              "      <td>org.apache.accumulo.server.constraints.Metadat...</td>\n",
              "      <td>class</td>\n",
              "      <td>1-4558b9a25d11c5ac8a03c3c671472786a49e8e98</td>\n",
              "      <td>1</td>\n",
              "      <td>0</td>\n",
              "      <td>196</td>\n",
              "      <td>0</td>\n",
              "      <td>0.0</td>\n",
              "      <td>0</td>\n",
              "      <td>0.0</td>\n",
              "      <td>0</td>\n",
              "    </tr>\n",
              "    <tr>\n",
              "      <th>4</th>\n",
              "      <td>accumulo</td>\n",
              "      <td>org.apache.accumulo.core.tabletserver.thrift.M...</td>\n",
              "      <td>class</td>\n",
              "      <td>1-4558b9a25d11c5ac8a03c3c671472786a49e8e98</td>\n",
              "      <td>1</td>\n",
              "      <td>0</td>\n",
              "      <td>41</td>\n",
              "      <td>0</td>\n",
              "      <td>0.0</td>\n",
              "      <td>0</td>\n",
              "      <td>0.0</td>\n",
              "      <td>0</td>\n",
              "    </tr>\n",
              "  </tbody>\n",
              "</table>\n",
              "</div>\n",
              "    <div class=\"colab-df-buttons\">\n",
              "\n",
              "  <div class=\"colab-df-container\">\n",
              "    <button class=\"colab-df-convert\" onclick=\"convertToInteractive('df-2b326d59-89c9-4112-a291-6df91648fae4')\"\n",
              "            title=\"Convert this dataframe to an interactive table.\"\n",
              "            style=\"display:none;\">\n",
              "\n",
              "  <svg xmlns=\"http://www.w3.org/2000/svg\" height=\"24px\" viewBox=\"0 -960 960 960\">\n",
              "    <path d=\"M120-120v-720h720v720H120Zm60-500h600v-160H180v160Zm220 220h160v-160H400v160Zm0 220h160v-160H400v160ZM180-400h160v-160H180v160Zm440 0h160v-160H620v160ZM180-180h160v-160H180v160Zm440 0h160v-160H620v160Z\"/>\n",
              "  </svg>\n",
              "    </button>\n",
              "\n",
              "  <style>\n",
              "    .colab-df-container {\n",
              "      display:flex;\n",
              "      gap: 12px;\n",
              "    }\n",
              "\n",
              "    .colab-df-convert {\n",
              "      background-color: #E8F0FE;\n",
              "      border: none;\n",
              "      border-radius: 50%;\n",
              "      cursor: pointer;\n",
              "      display: none;\n",
              "      fill: #1967D2;\n",
              "      height: 32px;\n",
              "      padding: 0 0 0 0;\n",
              "      width: 32px;\n",
              "    }\n",
              "\n",
              "    .colab-df-convert:hover {\n",
              "      background-color: #E2EBFA;\n",
              "      box-shadow: 0px 1px 2px rgba(60, 64, 67, 0.3), 0px 1px 3px 1px rgba(60, 64, 67, 0.15);\n",
              "      fill: #174EA6;\n",
              "    }\n",
              "\n",
              "    .colab-df-buttons div {\n",
              "      margin-bottom: 4px;\n",
              "    }\n",
              "\n",
              "    [theme=dark] .colab-df-convert {\n",
              "      background-color: #3B4455;\n",
              "      fill: #D2E3FC;\n",
              "    }\n",
              "\n",
              "    [theme=dark] .colab-df-convert:hover {\n",
              "      background-color: #434B5C;\n",
              "      box-shadow: 0px 1px 3px 1px rgba(0, 0, 0, 0.15);\n",
              "      filter: drop-shadow(0px 1px 2px rgba(0, 0, 0, 0.3));\n",
              "      fill: #FFFFFF;\n",
              "    }\n",
              "  </style>\n",
              "\n",
              "    <script>\n",
              "      const buttonEl =\n",
              "        document.querySelector('#df-2b326d59-89c9-4112-a291-6df91648fae4 button.colab-df-convert');\n",
              "      buttonEl.style.display =\n",
              "        google.colab.kernel.accessAllowed ? 'block' : 'none';\n",
              "\n",
              "      async function convertToInteractive(key) {\n",
              "        const element = document.querySelector('#df-2b326d59-89c9-4112-a291-6df91648fae4');\n",
              "        const dataTable =\n",
              "          await google.colab.kernel.invokeFunction('convertToInteractive',\n",
              "                                                    [key], {});\n",
              "        if (!dataTable) return;\n",
              "\n",
              "        const docLinkHtml = 'Like what you see? Visit the ' +\n",
              "          '<a target=\"_blank\" href=https://colab.research.google.com/notebooks/data_table.ipynb>data table notebook</a>'\n",
              "          + ' to learn more about interactive tables.';\n",
              "        element.innerHTML = '';\n",
              "        dataTable['output_type'] = 'display_data';\n",
              "        await google.colab.output.renderOutput(dataTable, element);\n",
              "        const docLink = document.createElement('div');\n",
              "        docLink.innerHTML = docLinkHtml;\n",
              "        element.appendChild(docLink);\n",
              "      }\n",
              "    </script>\n",
              "  </div>\n",
              "\n",
              "\n",
              "<div id=\"df-3864db58-98c1-48e1-b344-0f5f99b5bbcd\">\n",
              "  <button class=\"colab-df-quickchart\" onclick=\"quickchart('df-3864db58-98c1-48e1-b344-0f5f99b5bbcd')\"\n",
              "            title=\"Suggest charts.\"\n",
              "            style=\"display:none;\">\n",
              "\n",
              "<svg xmlns=\"http://www.w3.org/2000/svg\" height=\"24px\"viewBox=\"0 0 24 24\"\n",
              "     width=\"24px\">\n",
              "    <g>\n",
              "        <path d=\"M19 3H5c-1.1 0-2 .9-2 2v14c0 1.1.9 2 2 2h14c1.1 0 2-.9 2-2V5c0-1.1-.9-2-2-2zM9 17H7v-7h2v7zm4 0h-2V7h2v10zm4 0h-2v-4h2v4z\"/>\n",
              "    </g>\n",
              "</svg>\n",
              "  </button>\n",
              "\n",
              "<style>\n",
              "  .colab-df-quickchart {\n",
              "    background-color: #E8F0FE;\n",
              "    border: none;\n",
              "    border-radius: 50%;\n",
              "    cursor: pointer;\n",
              "    display: none;\n",
              "    fill: #1967D2;\n",
              "    height: 32px;\n",
              "    padding: 0 0 0 0;\n",
              "    width: 32px;\n",
              "  }\n",
              "\n",
              "  .colab-df-quickchart:hover {\n",
              "    background-color: #E2EBFA;\n",
              "    box-shadow: 0px 1px 2px rgba(60, 64, 67, 0.3), 0px 1px 3px 1px rgba(60, 64, 67, 0.15);\n",
              "    fill: #174EA6;\n",
              "  }\n",
              "\n",
              "  [theme=dark] .colab-df-quickchart {\n",
              "    background-color: #3B4455;\n",
              "    fill: #D2E3FC;\n",
              "  }\n",
              "\n",
              "  [theme=dark] .colab-df-quickchart:hover {\n",
              "    background-color: #434B5C;\n",
              "    box-shadow: 0px 1px 3px 1px rgba(0, 0, 0, 0.15);\n",
              "    filter: drop-shadow(0px 1px 2px rgba(0, 0, 0, 0.3));\n",
              "    fill: #FFFFFF;\n",
              "  }\n",
              "</style>\n",
              "\n",
              "  <script>\n",
              "    async function quickchart(key) {\n",
              "      const charts = await google.colab.kernel.invokeFunction(\n",
              "          'suggestCharts', [key], {});\n",
              "    }\n",
              "    (() => {\n",
              "      let quickchartButtonEl =\n",
              "        document.querySelector('#df-3864db58-98c1-48e1-b344-0f5f99b5bbcd button');\n",
              "      quickchartButtonEl.style.display =\n",
              "        google.colab.kernel.accessAllowed ? 'block' : 'none';\n",
              "    })();\n",
              "  </script>\n",
              "</div>\n",
              "    </div>\n",
              "  </div>\n"
            ]
          },
          "metadata": {},
          "execution_count": 47
        }
      ]
    },
    {
      "cell_type": "code",
      "source": [
        "df_components.info()"
      ],
      "metadata": {
        "colab": {
          "base_uri": "https://localhost:8080/"
        },
        "id": "EQaW4Ted_o8m",
        "outputId": "ae17a017-a08a-4b05-ced8-63dfa7042469"
      },
      "execution_count": 48,
      "outputs": [
        {
          "output_type": "stream",
          "name": "stdout",
          "text": [
            "<class 'pandas.core.frame.DataFrame'>\n",
            "RangeIndex: 3881915 entries, 0 to 3881914\n",
            "Data columns (total 12 columns):\n",
            " #   Column                   Dtype  \n",
            "---  ------                   -----  \n",
            " 0   project                  object \n",
            " 1   name                     object \n",
            " 2   type                     object \n",
            " 3   version                  object \n",
            " 4   versionIndex             int64  \n",
            " 5   numOfClassesInPackage    int64  \n",
            " 6   linesOfCode              int64  \n",
            " 7   freqOfChanges            int64  \n",
            " 8   percCommitsClassChanged  float64\n",
            " 9   changeHasOccurredMetric  object \n",
            " 10  percCommitsPackChanged   float64\n",
            " 11  totalAmountOfChanges     int64  \n",
            "dtypes: float64(2), int64(5), object(5)\n",
            "memory usage: 355.4+ MB\n"
          ]
        }
      ]
    },
    {
      "cell_type": "code",
      "source": [
        "df_components.project.unique()"
      ],
      "metadata": {
        "colab": {
          "base_uri": "https://localhost:8080/"
        },
        "id": "62EKV7lU_upp",
        "outputId": "0b637fac-3d26-47a9-ab56-753d2263d612"
      },
      "execution_count": 49,
      "outputs": [
        {
          "output_type": "execute_result",
          "data": {
            "text/plain": [
              "array(['accumulo', 'activemq', 'ant-ivy', 'cassandra', 'chukwa', 'druid',\n",
              "       'guava', 'httpcomponents-client', 'jackrabbit', 'jackson-databind',\n",
              "       'jena', 'jspwiki', 'lucene-solr', 'mina', 'pdfbox', 'pgjdbc',\n",
              "       'poi', 'struts', 'testng', 'tika', 'xerces2-j'], dtype=object)"
            ]
          },
          "metadata": {},
          "execution_count": 49
        }
      ]
    },
    {
      "cell_type": "markdown",
      "source": [
        "## affected"
      ],
      "metadata": {
        "id": "EQ7LynJ5ACG1"
      }
    },
    {
      "cell_type": "code",
      "source": [
        "df_affected.head()"
      ],
      "metadata": {
        "colab": {
          "base_uri": "https://localhost:8080/",
          "height": 206
        },
        "id": "aCj5spMv_q9v",
        "outputId": "71f4c515-59d2-4c5c-a79a-62c5b66a65f2"
      },
      "execution_count": 50,
      "outputs": [
        {
          "output_type": "execute_result",
          "data": {
            "text/plain": [
              "    project                           name     type  \\\n",
              "0  accumulo  org.apache.accumulo.core.file  package   \n",
              "1  accumulo  org.apache.accumulo.core.file  package   \n",
              "2  accumulo  org.apache.accumulo.core.file  package   \n",
              "3  accumulo  org.apache.accumulo.core.file  package   \n",
              "4  accumulo  org.apache.accumulo.core.file  package   \n",
              "\n",
              "                                       version  affectedByUniqueSmellId  \n",
              "0  40-58af0ce9f04cb1efa59f69c8abdeb87e3c73504c                        7  \n",
              "1  38-59875c298617221282825fb870dbe7abb86ea4c4                        1  \n",
              "2   8-1e1cc2484e61e1de17ecabc6d7fb46131eece2e8                        7  \n",
              "3  74-82a15686893cc2f1b26777664093fa1ac312248a                     1113  \n",
              "4  97-436f404e247114737eb6a499799cf90f1a201620                     1534  "
            ],
            "text/html": [
              "\n",
              "  <div id=\"df-e5ecf774-16c4-4f84-9191-f31c887bf93f\" class=\"colab-df-container\">\n",
              "    <div>\n",
              "<style scoped>\n",
              "    .dataframe tbody tr th:only-of-type {\n",
              "        vertical-align: middle;\n",
              "    }\n",
              "\n",
              "    .dataframe tbody tr th {\n",
              "        vertical-align: top;\n",
              "    }\n",
              "\n",
              "    .dataframe thead th {\n",
              "        text-align: right;\n",
              "    }\n",
              "</style>\n",
              "<table border=\"1\" class=\"dataframe\">\n",
              "  <thead>\n",
              "    <tr style=\"text-align: right;\">\n",
              "      <th></th>\n",
              "      <th>project</th>\n",
              "      <th>name</th>\n",
              "      <th>type</th>\n",
              "      <th>version</th>\n",
              "      <th>affectedByUniqueSmellId</th>\n",
              "    </tr>\n",
              "  </thead>\n",
              "  <tbody>\n",
              "    <tr>\n",
              "      <th>0</th>\n",
              "      <td>accumulo</td>\n",
              "      <td>org.apache.accumulo.core.file</td>\n",
              "      <td>package</td>\n",
              "      <td>40-58af0ce9f04cb1efa59f69c8abdeb87e3c73504c</td>\n",
              "      <td>7</td>\n",
              "    </tr>\n",
              "    <tr>\n",
              "      <th>1</th>\n",
              "      <td>accumulo</td>\n",
              "      <td>org.apache.accumulo.core.file</td>\n",
              "      <td>package</td>\n",
              "      <td>38-59875c298617221282825fb870dbe7abb86ea4c4</td>\n",
              "      <td>1</td>\n",
              "    </tr>\n",
              "    <tr>\n",
              "      <th>2</th>\n",
              "      <td>accumulo</td>\n",
              "      <td>org.apache.accumulo.core.file</td>\n",
              "      <td>package</td>\n",
              "      <td>8-1e1cc2484e61e1de17ecabc6d7fb46131eece2e8</td>\n",
              "      <td>7</td>\n",
              "    </tr>\n",
              "    <tr>\n",
              "      <th>3</th>\n",
              "      <td>accumulo</td>\n",
              "      <td>org.apache.accumulo.core.file</td>\n",
              "      <td>package</td>\n",
              "      <td>74-82a15686893cc2f1b26777664093fa1ac312248a</td>\n",
              "      <td>1113</td>\n",
              "    </tr>\n",
              "    <tr>\n",
              "      <th>4</th>\n",
              "      <td>accumulo</td>\n",
              "      <td>org.apache.accumulo.core.file</td>\n",
              "      <td>package</td>\n",
              "      <td>97-436f404e247114737eb6a499799cf90f1a201620</td>\n",
              "      <td>1534</td>\n",
              "    </tr>\n",
              "  </tbody>\n",
              "</table>\n",
              "</div>\n",
              "    <div class=\"colab-df-buttons\">\n",
              "\n",
              "  <div class=\"colab-df-container\">\n",
              "    <button class=\"colab-df-convert\" onclick=\"convertToInteractive('df-e5ecf774-16c4-4f84-9191-f31c887bf93f')\"\n",
              "            title=\"Convert this dataframe to an interactive table.\"\n",
              "            style=\"display:none;\">\n",
              "\n",
              "  <svg xmlns=\"http://www.w3.org/2000/svg\" height=\"24px\" viewBox=\"0 -960 960 960\">\n",
              "    <path d=\"M120-120v-720h720v720H120Zm60-500h600v-160H180v160Zm220 220h160v-160H400v160Zm0 220h160v-160H400v160ZM180-400h160v-160H180v160Zm440 0h160v-160H620v160ZM180-180h160v-160H180v160Zm440 0h160v-160H620v160Z\"/>\n",
              "  </svg>\n",
              "    </button>\n",
              "\n",
              "  <style>\n",
              "    .colab-df-container {\n",
              "      display:flex;\n",
              "      gap: 12px;\n",
              "    }\n",
              "\n",
              "    .colab-df-convert {\n",
              "      background-color: #E8F0FE;\n",
              "      border: none;\n",
              "      border-radius: 50%;\n",
              "      cursor: pointer;\n",
              "      display: none;\n",
              "      fill: #1967D2;\n",
              "      height: 32px;\n",
              "      padding: 0 0 0 0;\n",
              "      width: 32px;\n",
              "    }\n",
              "\n",
              "    .colab-df-convert:hover {\n",
              "      background-color: #E2EBFA;\n",
              "      box-shadow: 0px 1px 2px rgba(60, 64, 67, 0.3), 0px 1px 3px 1px rgba(60, 64, 67, 0.15);\n",
              "      fill: #174EA6;\n",
              "    }\n",
              "\n",
              "    .colab-df-buttons div {\n",
              "      margin-bottom: 4px;\n",
              "    }\n",
              "\n",
              "    [theme=dark] .colab-df-convert {\n",
              "      background-color: #3B4455;\n",
              "      fill: #D2E3FC;\n",
              "    }\n",
              "\n",
              "    [theme=dark] .colab-df-convert:hover {\n",
              "      background-color: #434B5C;\n",
              "      box-shadow: 0px 1px 3px 1px rgba(0, 0, 0, 0.15);\n",
              "      filter: drop-shadow(0px 1px 2px rgba(0, 0, 0, 0.3));\n",
              "      fill: #FFFFFF;\n",
              "    }\n",
              "  </style>\n",
              "\n",
              "    <script>\n",
              "      const buttonEl =\n",
              "        document.querySelector('#df-e5ecf774-16c4-4f84-9191-f31c887bf93f button.colab-df-convert');\n",
              "      buttonEl.style.display =\n",
              "        google.colab.kernel.accessAllowed ? 'block' : 'none';\n",
              "\n",
              "      async function convertToInteractive(key) {\n",
              "        const element = document.querySelector('#df-e5ecf774-16c4-4f84-9191-f31c887bf93f');\n",
              "        const dataTable =\n",
              "          await google.colab.kernel.invokeFunction('convertToInteractive',\n",
              "                                                    [key], {});\n",
              "        if (!dataTable) return;\n",
              "\n",
              "        const docLinkHtml = 'Like what you see? Visit the ' +\n",
              "          '<a target=\"_blank\" href=https://colab.research.google.com/notebooks/data_table.ipynb>data table notebook</a>'\n",
              "          + ' to learn more about interactive tables.';\n",
              "        element.innerHTML = '';\n",
              "        dataTable['output_type'] = 'display_data';\n",
              "        await google.colab.output.renderOutput(dataTable, element);\n",
              "        const docLink = document.createElement('div');\n",
              "        docLink.innerHTML = docLinkHtml;\n",
              "        element.appendChild(docLink);\n",
              "      }\n",
              "    </script>\n",
              "  </div>\n",
              "\n",
              "\n",
              "<div id=\"df-658be893-37bb-4369-8041-4719f7f69c27\">\n",
              "  <button class=\"colab-df-quickchart\" onclick=\"quickchart('df-658be893-37bb-4369-8041-4719f7f69c27')\"\n",
              "            title=\"Suggest charts.\"\n",
              "            style=\"display:none;\">\n",
              "\n",
              "<svg xmlns=\"http://www.w3.org/2000/svg\" height=\"24px\"viewBox=\"0 0 24 24\"\n",
              "     width=\"24px\">\n",
              "    <g>\n",
              "        <path d=\"M19 3H5c-1.1 0-2 .9-2 2v14c0 1.1.9 2 2 2h14c1.1 0 2-.9 2-2V5c0-1.1-.9-2-2-2zM9 17H7v-7h2v7zm4 0h-2V7h2v10zm4 0h-2v-4h2v4z\"/>\n",
              "    </g>\n",
              "</svg>\n",
              "  </button>\n",
              "\n",
              "<style>\n",
              "  .colab-df-quickchart {\n",
              "    background-color: #E8F0FE;\n",
              "    border: none;\n",
              "    border-radius: 50%;\n",
              "    cursor: pointer;\n",
              "    display: none;\n",
              "    fill: #1967D2;\n",
              "    height: 32px;\n",
              "    padding: 0 0 0 0;\n",
              "    width: 32px;\n",
              "  }\n",
              "\n",
              "  .colab-df-quickchart:hover {\n",
              "    background-color: #E2EBFA;\n",
              "    box-shadow: 0px 1px 2px rgba(60, 64, 67, 0.3), 0px 1px 3px 1px rgba(60, 64, 67, 0.15);\n",
              "    fill: #174EA6;\n",
              "  }\n",
              "\n",
              "  [theme=dark] .colab-df-quickchart {\n",
              "    background-color: #3B4455;\n",
              "    fill: #D2E3FC;\n",
              "  }\n",
              "\n",
              "  [theme=dark] .colab-df-quickchart:hover {\n",
              "    background-color: #434B5C;\n",
              "    box-shadow: 0px 1px 3px 1px rgba(0, 0, 0, 0.15);\n",
              "    filter: drop-shadow(0px 1px 2px rgba(0, 0, 0, 0.3));\n",
              "    fill: #FFFFFF;\n",
              "  }\n",
              "</style>\n",
              "\n",
              "  <script>\n",
              "    async function quickchart(key) {\n",
              "      const charts = await google.colab.kernel.invokeFunction(\n",
              "          'suggestCharts', [key], {});\n",
              "    }\n",
              "    (() => {\n",
              "      let quickchartButtonEl =\n",
              "        document.querySelector('#df-658be893-37bb-4369-8041-4719f7f69c27 button');\n",
              "      quickchartButtonEl.style.display =\n",
              "        google.colab.kernel.accessAllowed ? 'block' : 'none';\n",
              "    })();\n",
              "  </script>\n",
              "</div>\n",
              "    </div>\n",
              "  </div>\n"
            ]
          },
          "metadata": {},
          "execution_count": 50
        }
      ]
    },
    {
      "cell_type": "code",
      "source": [
        "df_affected.project.unique()"
      ],
      "metadata": {
        "colab": {
          "base_uri": "https://localhost:8080/"
        },
        "id": "QBmHC4u5AG3b",
        "outputId": "7f163457-96a7-4bda-939b-9bddcea63da5"
      },
      "execution_count": 51,
      "outputs": [
        {
          "output_type": "execute_result",
          "data": {
            "text/plain": [
              "array(['accumulo', 'activemq', 'ant-ivy', 'cassandra', 'chukwa', 'druid',\n",
              "       'guava', 'httpcomponents-client', 'jackrabbit', 'jackson-databind',\n",
              "       'jena', 'jspwiki', 'lucene-solr', 'mina', 'pdfbox', 'pgjdbc',\n",
              "       'poi', 'struts', 'testng', 'tika', 'xerces2-j'], dtype=object)"
            ]
          },
          "metadata": {},
          "execution_count": 51
        }
      ]
    },
    {
      "cell_type": "code",
      "source": [],
      "metadata": {
        "id": "QoMYdhjSAKAH"
      },
      "execution_count": null,
      "outputs": []
    }
  ]
}