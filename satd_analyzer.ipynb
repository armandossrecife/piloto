{
  "nbformat": 4,
  "nbformat_minor": 0,
  "metadata": {
    "colab": {
      "provenance": [],
      "authorship_tag": "ABX9TyMygXbW42T1MniXH09x428h",
      "include_colab_link": true
    },
    "kernelspec": {
      "name": "python3",
      "display_name": "Python 3"
    },
    "language_info": {
      "name": "python"
    }
  },
  "cells": [
    {
      "cell_type": "markdown",
      "metadata": {
        "id": "view-in-github",
        "colab_type": "text"
      },
      "source": [
        "<a href=\"https://colab.research.google.com/github/armandossrecife/piloto/blob/main/satd_analyzer.ipynb\" target=\"_parent\"><img src=\"https://colab.research.google.com/assets/colab-badge.svg\" alt=\"Open In Colab\"/></a>"
      ]
    },
    {
      "cell_type": "markdown",
      "source": [
        "# My SATD Analyzer"
      ],
      "metadata": {
        "id": "Q5jOG_Rg2Dao"
      }
    },
    {
      "cell_type": "markdown",
      "source": [
        "1. Identify Keywords for Self-Admitted Technical Debt (SATD):\n",
        "Start by identifying keywords or phrases that commonly indicate self-admitted technical debt. These keywords can be derived from literature or based on your understanding of common terms used in code comments, commit messages, and issue descriptions. For example, common keywords may include \"TODO,\" \"FIXME,\" \"refactor,\" \"technical debt,\" \"hack,\" \"workaround,\" etc.\n",
        "\n",
        "2. Create a Dictionary of SATD Keywords:\n",
        "Build a dictionary or a set of SATD keywords that will serve as the basis for content queries in commit messages, modified file comments, and issue descriptions. This dictionary should include the keywords identified in Step 1.\n",
        "\n",
        "3. Using PyDriller for Commit Analysis:\n",
        "You can use PyDriller to analyze commits from the repository. PyDriller is a Python library for analyzing Git repositories. Install it using pip.\n",
        "Create Python scripts that use PyDriller to iterate through the commits and identify those that contain SATD keywords in their messages. You can filter commits based on these keywords and store them in a Set.\n",
        "\n",
        "4. Analyze Modified Files in Commits:\n",
        "For each commit, extract the list of modified files. Open and analyze these files to check for SATD keywords in the code comments within the modified lines. Store the commits with modified files containing SATD in a separate Set.\n",
        "\n",
        "5. Retrieve Issues from the Issue Tracker:\n",
        "Utilize an API or libraries like JIRA's REST API to fetch issues from the issue tracker (JIRA in this case). For example, you can use Python's requests library to interact with the JIRA API. Query issues based on project (e.g., CASSANDRA) and extract the content of the Summary, Description, and Comments fields for each issue.\n",
        "\n",
        "6. Analyze Issue Descriptions and Comments:\n",
        "Analyze the content of the Summary, Description, and Comments fields for the presence of SATD keywords. Store the issues that contain these keywords in a Set.\n",
        "\n",
        "7. Combine Results:\n",
        "Combine the sets of commits and issues identified with SATD keywords from Steps 3, 4, and 6.\n",
        "\n",
        "8. Display or Save Results:\n",
        "You can choose to display the list of commits and issues with SATD keywords or save this information to a file or a database for further analysis.\n",
        "\n",
        "9. Additional Preprocessing:\n",
        "Depending on the quality of your results, you may need to perform additional preprocessing, such as removing false positives or refining the set of SATD keywords.\n",
        "\n"
      ],
      "metadata": {
        "id": "NiMZoPNJ2I2e"
      }
    },
    {
      "cell_type": "markdown",
      "source": [
        "# 1. Install the dependencies"
      ],
      "metadata": {
        "id": "LlaKI3FyrP8q"
      }
    },
    {
      "cell_type": "code",
      "source": [
        "print('Install Pydriller.')\n",
        "!pip install pydriller > install_pydriller.log\n",
        "print('Install gitpython.')\n",
        "!pip3 install gitpython > install_gitpython.log\n",
        "print('Install Jira Python lib.')\n",
        "!pip install jira > install_jira_python.log\n",
        "!sudo apt install -y sqlite3 > install_sqlite.log\n",
        "print('All depenpencies installed!')\n",
        "!cat *.log > install.log\n",
        "print('Details in install.log')"
      ],
      "metadata": {
        "colab": {
          "base_uri": "https://localhost:8080/"
        },
        "id": "Q2O-O5sEwXc9",
        "outputId": "6022ceb4-a778-4cb8-bfbf-9193f9bdf6f1"
      },
      "execution_count": 1,
      "outputs": [
        {
          "output_type": "stream",
          "name": "stdout",
          "text": [
            "Install Pydriller.\n",
            "Install gitpython.\n",
            "Install Jira Python lib.\n",
            "\n",
            "WARNING: apt does not have a stable CLI interface. Use with caution in scripts.\n",
            "\n",
            "debconf: unable to initialize frontend: Dialog\n",
            "debconf: (No usable dialog-like program is installed, so the dialog based frontend cannot be used. at /usr/share/perl5/Debconf/FrontEnd/Dialog.pm line 78, <> line 1.)\n",
            "debconf: falling back to frontend: Readline\n",
            "debconf: unable to initialize frontend: Readline\n",
            "debconf: (This frontend requires a controlling tty.)\n",
            "debconf: falling back to frontend: Teletype\n",
            "dpkg-preconfigure: unable to re-open stdin: \n",
            "All depenpencies installed!\n",
            "Details in install.log\n"
          ]
        }
      ]
    },
    {
      "cell_type": "markdown",
      "source": [
        "# 2. Import dependencies, configurations and supporting classes"
      ],
      "metadata": {
        "id": "9UV0xxfHrWKJ"
      }
    },
    {
      "cell_type": "code",
      "source": [
        "from pydriller import Repository\n",
        "from datetime import datetime\n",
        "import tqdm\n",
        "import os\n",
        "import re\n",
        "\n",
        "from jira import JIRA\n",
        "import os\n",
        "from datetime import datetime, timedelta\n",
        "import tqdm\n",
        "import sqlite3\n",
        "import subprocess\n",
        "import sqlite3"
      ],
      "metadata": {
        "id": "vxqEvye_vDU6"
      },
      "execution_count": 2,
      "outputs": []
    },
    {
      "cell_type": "code",
      "execution_count": 43,
      "metadata": {
        "id": "ZqY-xVDBu2EQ"
      },
      "outputs": [],
      "source": [
        "url_to_repository = 'https://github.com/apache/cassandra.git'\n",
        "path_to_repository = 'cassandra'\n",
        "os.environ['MY_REPOSITORY'] = url_to_repository\n",
        "\n",
        "JIRA_SERVER = 'https://issues.apache.org/jira'\n",
        "DATABASE_NAME = \"issues_db.db\"\n",
        "\n",
        "os.environ['DATABASE_NAME'] = DATABASE_NAME\n",
        "# Credentials\n",
        "os.environ['USERNAME'] = '?'\n",
        "os.environ['PASSWORD'] = '?'\n",
        "username = os.environ.get('USERNAME')\n",
        "password = os.environ.get('PASSWORD')"
      ]
    },
    {
      "cell_type": "code",
      "source": [
        "class SATDCommitAnalyzer:\n",
        "    def __init__(self, path_to_repository):\n",
        "        self.path_to_repository = path_to_repository\n",
        "\n",
        "    @staticmethod\n",
        "    def is_java_comment(line):\n",
        "        # Regular expression pattern to match Java comments\n",
        "        comment_pattern = r'^\\s*//|^\\s*/\\*|^\\s*\\*|^\\s*\\*/'\n",
        "\n",
        "        # Use the re.match function to check if the line matches the comment pattern\n",
        "        return bool(re.match(comment_pattern, line))\n",
        "\n",
        "    def analyze_commits_for_satd(self, start_date, end_date, satd_keywords):\n",
        "        # Initialize sets to store commits and their associated SATD keywords\n",
        "        commits_with_satd = set()\n",
        "        dict_commit_msg = {}\n",
        "\n",
        "        # Traverse commits within the specified date range\n",
        "        print('Aguarde...')\n",
        "        my_traverser_commits = Repository(self.path_to_repository, since=start_date, to=end_date).traverse_commits()\n",
        "        total_commits = len(list(my_traverser_commits))\n",
        "\n",
        "        for commit in tqdm.tqdm(Repository(self.path_to_repository, since=start_date, to=end_date).traverse_commits(), total=total_commits, desc=\"Progress commit analysis\"):\n",
        "            for keyword in satd_keywords:\n",
        "                if keyword in commit.msg:\n",
        "                    commits_with_satd.add(commit.hash)\n",
        "                    dict_commit_msg[commit.hash] = commit.msg\n",
        "\n",
        "        return commits_with_satd, dict_commit_msg\n",
        "\n",
        "    def analyze_commit_diffs_for_satd(self, start_date, end_date, satd_keywords):\n",
        "        # Initialize a dictionary to store commit hashes and their associated SATD keywords and diff content\n",
        "        dict_commit_diffs = {}\n",
        "\n",
        "        # Traverse commits within the specified date range\n",
        "        print('Aguarde...')\n",
        "        my_traverser_commits = Repository(self.path_to_repository, since=start_date, to=end_date).traverse_commits()\n",
        "        total_commits = len(list(my_traverser_commits))\n",
        "\n",
        "        for commit in tqdm.tqdm(Repository(self.path_to_repository, since=start_date, to=end_date).traverse_commits(), total=total_commits, desc=\"Progress commit analysis\"):\n",
        "            list_keywords_by_commit = []\n",
        "            list_diff_content_by_commit = []\n",
        "\n",
        "            for modification in commit.modified_files:\n",
        "                for line in modification.diff_parsed['added']:\n",
        "                    valor_linha = line[0]\n",
        "                    conteudo_linha = line[1]\n",
        "\n",
        "                    for keyword in satd_keywords:\n",
        "                        if SATDCommitAnalyzer.is_java_comment(conteudo_linha):\n",
        "                            if keyword in conteudo_linha:\n",
        "                                list_keywords_by_commit.append(keyword)\n",
        "                                list_diff_content_by_commit.append(conteudo_linha)\n",
        "\n",
        "            if list_keywords_by_commit:\n",
        "                elemento = list_keywords_by_commit, list_diff_content_by_commit\n",
        "                dict_commit_diffs[commit.hash] = elemento\n",
        "\n",
        "        return dict_commit_diffs"
      ],
      "metadata": {
        "id": "g7jdoS9llFjw"
      },
      "execution_count": 39,
      "outputs": []
    },
    {
      "cell_type": "code",
      "source": [
        "class JiraIssue:\n",
        "  def __init__(self, key, summary, issue_type, status, priority, description, comments):\n",
        "    self.key = key\n",
        "    self.summary = summary\n",
        "    self.issue_type = issue_type\n",
        "    self.status = status\n",
        "    self.priority = priority\n",
        "    self.description = description\n",
        "    self.comments = comments\n",
        "\n",
        "  def get_comments(self) -> dict:\n",
        "    return self.comments\n",
        "\n",
        "  def __str__(self):\n",
        "    return (f'Key: {self.key}, Summary: {self.summary}, Type: {self.issue_type}, Status: {self.status}')\n",
        "\n",
        "class JiraIssues:\n",
        "  def __init__(self,project, issues):\n",
        "    self.project = project\n",
        "    self.issues = issues\n",
        "\n",
        "  def add_issue(self, issue):\n",
        "    self.issues.append(issue)\n",
        "\n",
        "  def get_issues(self) -> list:\n",
        "    return self.issues\n",
        "\n",
        "  def update_issues(self, issues):\n",
        "    self.issues = issues\n",
        "\n",
        "  def __str__(self):\n",
        "    str_issues = \"\"\n",
        "    for issue in self.get_issues():\n",
        "      str_issues = str_issues + str(issue)\n",
        "      str_issues = str_issues + ', '\n",
        "    str_issues = '[' + str_issues + ']'\n",
        "    return (f'Project: {self.project}, Qdt of issues: {len(self.issues)}, Issues: {str_issues}')\n",
        "\n",
        "# Classe de utilidades para manipular o servidor Jira\n",
        "class JiraUtils:\n",
        "  def __init__(self, project, jira_instance):\n",
        "    self.project = project\n",
        "    self.jira_jira_instance = jira_instance\n",
        "\n",
        "  def generate_intervals_between_dates(self, date1: tuple, date2: tuple, distance=120) -> list:\n",
        "    start_date = datetime(date1[0], date1[1], date1[2])\n",
        "    end_date = datetime(date2[0], date2[1], date2[2])\n",
        "    interval_days = distance\n",
        "    # Initialize a list to store the intervals\n",
        "    intervals = []\n",
        "    # Initialize the current date as the start date\n",
        "    current_date = start_date\n",
        "    # Loop to generate intervals until the current date is less than or equal to the end date\n",
        "    while current_date < end_date:\n",
        "        interval = (current_date, current_date + timedelta(days=interval_days - 1))\n",
        "        intervals.append(interval)\n",
        "        current_date += timedelta(days=interval_days)\n",
        "    return intervals\n",
        "\n",
        "  def convert_interval_dates(self, dates: list) -> list:\n",
        "    list_interval_dates = []\n",
        "    for each in dates:\n",
        "      date1 = each[0]\n",
        "      # Convert the date to a string in the format \"YYYY/MM/DD\".\n",
        "      str_date1 = date1.strftime(\"%Y/%m/%d\")\n",
        "      date2 = each[1]\n",
        "      str_date2 = date2.strftime(\"%Y/%m/%d\")\n",
        "      elemento = str_date1, str_date2\n",
        "      list_interval_dates.append(elemento)\n",
        "    return list_interval_dates\n",
        "\n",
        "  def generate_list_of_sentences(self, dates: list) -> list:\n",
        "    lista_sentencas = []\n",
        "    for each in dates:\n",
        "      str_date1 = each[0].strftime(\"%Y/%m/%d\")\n",
        "      str_date2 = each[1].strftime(\"%Y/%m/%d\")\n",
        "      sentenca = f'project={self.project.upper()} and created>=\"{str_date1}\" and created<=\"{str_date2}\"'\n",
        "      lista_sentencas.append(sentenca)\n",
        "    return lista_sentencas\n",
        "\n",
        "  def get_list_of_block_issues_by_dates(self,date1, date2, distance=120) -> list:\n",
        "    print('Aguarde...')\n",
        "    t1 = datetime.now()\n",
        "    list_of_dates = self.generate_intervals_between_dates(date1,date2,distance)\n",
        "    lista_sentencas = self.generate_list_of_sentences(list_of_dates)\n",
        "    lista_bloco_issues_by_date = []\n",
        "    total_items = len(lista_sentencas)\n",
        "    i = 0\n",
        "    iterable_lista_sentencas = tqdm.tqdm(lista_sentencas, total=total_items)\n",
        "    for each in iterable_lista_sentencas:\n",
        "      issues_by_date_temp = self.jira_jira_instance.search_issues(each,maxResults=1000)\n",
        "      print(f'Range: {each}, qtd issues: {len(issues_by_date_temp)}')\n",
        "      lista_bloco_issues_by_date.append(issues_by_date_temp)\n",
        "      percentage = (i + 1) / total_items * 100\n",
        "      iterable_lista_sentencas.set_description(f\"Progress Message Analysis\")\n",
        "    i += 1\n",
        "    t2 = datetime.now()\n",
        "    print(t2)\n",
        "    print(f'Tempo da consulta: {t2-t1}')\n",
        "    return lista_bloco_issues_by_date\n",
        "\n",
        "  def concatenate_block_of_issues(self,block_of_issues):\n",
        "    concatenated_list = [item for sublist in block_of_issues for item in sublist]\n",
        "    print(f'Total de issues recuperados: {len(concatenated_list)}')\n",
        "    return concatenated_list\n",
        "\n",
        "class IssuesDatabase:\n",
        "    def __init__(self, database_name):\n",
        "        self.database_name = database_name\n",
        "        self.create_tables()\n",
        "\n",
        "    def create_tables(self):\n",
        "        self.conn = sqlite3.connect(self.database_name)\n",
        "        self.cursor = self.conn.cursor()\n",
        "\n",
        "        self.cursor.execute('''\n",
        "            CREATE TABLE IF NOT EXISTS Issues (\n",
        "                id INTEGER PRIMARY KEY,\n",
        "                project TEXT,\n",
        "                key TEXT,\n",
        "                summary TEXT,\n",
        "                issue_type TEXT,\n",
        "                status TEXT,\n",
        "                priority TEXT,\n",
        "                description TEXT\n",
        "            )\n",
        "        ''')\n",
        "\n",
        "        self.cursor.execute('''\n",
        "            CREATE TABLE IF NOT EXISTS Comments (\n",
        "                id INTEGER PRIMARY KEY,\n",
        "                key TEXT,\n",
        "                comment TEXT\n",
        "            )\n",
        "        ''')\n",
        "\n",
        "        self.conn.commit()\n",
        "\n",
        "    def insert_in_table_issues(self, project, key, summary, issue_type, status, priority, description):\n",
        "        values = (None, project, key, summary, issue_type, status, priority, description)\n",
        "        self.cursor.execute('''\n",
        "            INSERT INTO Issues\n",
        "            (id, project, key, summary, issue_type, status, priority, description)\n",
        "            VALUES (?, ?, ?, ?, ?, ?, ?, ?)\n",
        "        ''', values)\n",
        "\n",
        "        self.conn.commit()\n",
        "\n",
        "    def insert_in_table_comments(self, key, comment):\n",
        "        values = (None, key, comment)\n",
        "        self.cursor.execute('''\n",
        "            INSERT INTO Comments\n",
        "            (id, key, comment)\n",
        "            VALUES (?, ?, ?)\n",
        "        ''', values)\n",
        "\n",
        "        self.conn.commit()\n",
        "\n",
        "    def show_content(self, table):\n",
        "        query = f\"SELECT * FROM {table}\"\n",
        "        self.cursor.execute(query)\n",
        "\n",
        "        rows = self.cursor.fetchall()\n",
        "        for row in rows:\n",
        "            print(row)\n",
        "\n",
        "    def show_n_lines(self, table, n):\n",
        "        query = f\"SELECT * FROM {table}\"\n",
        "        self.cursor.execute(query)\n",
        "\n",
        "        rows = self.cursor.fetchall()\n",
        "\n",
        "        for i, row in enumerate(rows):\n",
        "            print(row)\n",
        "            if i == n:\n",
        "              break\n",
        "\n",
        "    def close_connection(self):\n",
        "        self.conn.close()\n",
        "\n",
        "def analyze_jira_issues_for_satd(project, satd_keywords, all_issues):\n",
        "    # Create an instance of JiraIssues to manage SATD issues\n",
        "    satd_issues = JiraIssues(project, [])\n",
        "\n",
        "    total_items = len(all_issues)\n",
        "\n",
        "    # Iterate through the fetched issues\n",
        "    for issue in tqdm.tqdm(all_issues, total=total_items, desc='Progress jira issues analysis'):\n",
        "        issue_key = issue.key\n",
        "        issue_summary = issue.fields.summary\n",
        "        issue_description = issue.fields.description\n",
        "        issue_comments = [comment.body for comment in issue.fields.comment.comments]\n",
        "\n",
        "        # Check for SATD keywords in the issue's summary, description, and comments\n",
        "        if issue_summary is None:\n",
        "            issue_summary = \"\"\n",
        "        if issue_description is None:\n",
        "            issue_description = \"\"\n",
        "        if issue_comments is None:\n",
        "            issue_comments = \"\"\n",
        "\n",
        "        is_satd = any(keyword in (issue_summary + issue_description + ' '.join(issue_comments)) for keyword in satd_keywords)\n",
        "\n",
        "        if is_satd:\n",
        "            issue_type = issue.fields.issuetype.name\n",
        "            issue_status = issue.fields.status.name\n",
        "            issue_priority = issue.fields.priority.name\n",
        "\n",
        "            # Create a JiraIssue instance for the SATD issue\n",
        "            satd_issue = JiraIssue(issue_key, issue_summary, issue_type, issue_status, issue_priority, issue_description, issue_comments)\n",
        "\n",
        "            # Add the SATD issue to the list of SATD issues\n",
        "            satd_issues.add_issue(satd_issue)\n",
        "\n",
        "    return satd_issues\n"
      ],
      "metadata": {
        "id": "JxL2IdbyndCC"
      },
      "execution_count": 34,
      "outputs": []
    },
    {
      "cell_type": "markdown",
      "source": [
        "# 3. Clones the local repository"
      ],
      "metadata": {
        "id": "52WF_6ujr9FT"
      }
    },
    {
      "cell_type": "code",
      "source": [
        "print(f'Clona o repositório : {url_to_repository}')\n",
        "!git clone $MY_REPOSITORY"
      ],
      "metadata": {
        "colab": {
          "base_uri": "https://localhost:8080/"
        },
        "id": "cN0D5vdJyPNR",
        "outputId": "46d879f9-e08a-4de4-e122-9b29f69a269b"
      },
      "execution_count": 6,
      "outputs": [
        {
          "output_type": "stream",
          "name": "stdout",
          "text": [
            "Clona o repositório : https://github.com/apache/cassandra.git\n",
            "Cloning into 'cassandra'...\n",
            "remote: Enumerating objects: 400963, done.\u001b[K\n",
            "remote: Counting objects: 100% (4054/4054), done.\u001b[K\n",
            "remote: Compressing objects: 100% (1567/1567), done.\u001b[K\n",
            "remote: Total 400963 (delta 1871), reused 3622 (delta 1757), pack-reused 396909\u001b[K\n",
            "Receiving objects: 100% (400963/400963), 398.31 MiB | 24.70 MiB/s, done.\n",
            "Resolving deltas: 100% (233498/233498), done.\n",
            "Updating files: 100% (6130/6130), done.\n"
          ]
        }
      ]
    },
    {
      "cell_type": "markdown",
      "source": [
        "# 4. Analyze commits"
      ],
      "metadata": {
        "id": "uYpPAl7RsCZA"
      }
    },
    {
      "cell_type": "code",
      "source": [
        "start_date = datetime(2021, 1, 1, 0, 0, 0)\n",
        "end_date = datetime(2021, 12, 30, 0, 0, 0)\n",
        "my_satd_keywords = {'TODO', 'FIXME', 'refactor', 'hack', 'workaround', 'technical debt', 'cleanup', 'clean', 'fix'}\n",
        "my_satd_commit_analyzer = SATDCommitAnalyzer(path_to_repository)\n",
        "commits_with_satd, dict_commit_msg = my_satd_commit_analyzer.analyze_commits_for_satd(start_date, end_date, my_satd_keywords)"
      ],
      "metadata": {
        "colab": {
          "base_uri": "https://localhost:8080/"
        },
        "id": "WdfW7WFDwOv9",
        "outputId": "fcb1ad7c-2d62-44b1-d89d-54c7af835524"
      },
      "execution_count": 40,
      "outputs": [
        {
          "output_type": "stream",
          "name": "stdout",
          "text": [
            "Aguarde...\n"
          ]
        },
        {
          "output_type": "stream",
          "name": "stderr",
          "text": [
            "Progress commit analysis: 100%|██████████| 1197/1197 [00:00<00:00, 3571.40it/s]\n"
          ]
        }
      ]
    },
    {
      "cell_type": "code",
      "source": [
        "print('Mostra um fragmento do dicionario de commits e msgs')\n",
        "cont = 0\n",
        "for k, v in dict_commit_msg.items():\n",
        "  print(f'k: {k}, v: {v}')\n",
        "  if cont == 10:\n",
        "    break\n",
        "  cont += 1"
      ],
      "metadata": {
        "colab": {
          "base_uri": "https://localhost:8080/"
        },
        "id": "-NQnLrYkmXc7",
        "outputId": "bae0c4f4-517d-4079-ba7d-a7d481adffec"
      },
      "execution_count": 23,
      "outputs": [
        {
          "output_type": "stream",
          "name": "stdout",
          "text": [
            "Mostra um fragmento do dicionario de commits e msgs\n",
            "k: 7214794e3f86b67d96371c78815c1ce03b3a5d6b, v: ninja fix CHANGES.txt\n",
            "k: 07167c95e3fc6616c313877ccd20eecbb42ef4c0, v: Ninja: fix fqltool tests (CASSANDRA-16384 follow up)\n",
            "k: 44ca3d322d8444d23d2bd1a5770b62f41de5f0f6, v: ninja fix: CASSANDRA-16261, NoSpamLogger substituted with normal logger at TRACE in MemtableAllocator\n",
            "k: b04429b57ca8e48f00d0e58e9c76887d4776cd9c, v: ninja-fix debian cassandra.yaml patch for CASSANDRA-14793\n",
            "k: a7b71eb63eecde97e8ecb70827b09a621040147d, v: ninja-fix CHANGES.txt (CASSANDRA-16477)\n",
            "k: 07babf3cb10bc11efad48cc7865c7425d7c27ce4, v: Ninja-fix: CASSANDRA-15897 broke one of the CompactStorageUpgrade tests; GOSSIP required\n",
            "k: eb68380866c9d96592580fefbc1b79a497a674bf, v: Throw IOE in AbstractType.writeValue if value has wrong fixed length\n",
            "authored by Alexandre Dutra; reviewed by Berenguer Blasi and Andres de la Pena for CASSANDRA-16500\n",
            "k: 866844743ec3cd23451b0158a7841a026e2e68d6, v: ninja fix CHANGES.txt entry for CASSANDRA-16500\n",
            "k: e031ed09a97393568b6ca112bbbd69ff2d5d2687, v: ninja-fix: update netbeans project dependencies after CASSANDRA-16249,CASSANDRA-13951,CASSANDRA-16136,CASSANDRA-16462\n",
            "k: cd4aa9f77cccea238f26eb324f7f2f980b4de07e, v: ninja-fix missing copyright headers\n",
            "k: 24013e5c5ae538442cab083f8644563ea149ed7b, v: ninja-fix: typo Update in LICENSE.txt\n"
          ]
        }
      ]
    },
    {
      "cell_type": "markdown",
      "source": [
        "## 4.1 Analyzes commit diffs"
      ],
      "metadata": {
        "id": "r8WPCQzBsg3A"
      }
    },
    {
      "cell_type": "code",
      "source": [
        "start_date = datetime(2021, 1, 1, 0, 0, 0)\n",
        "end_date = datetime(2021, 12, 30, 0, 0, 0)\n",
        "satd_keywords = {'TODO', 'FIXME', 'refactor', 'hack', 'workaround', 'technical debt', 'cleanup', 'clean', 'fix'}\n",
        "\n",
        "dict_commit_diffs = my_satd_commit_analyzer.analyze_commit_diffs_for_satd(start_date, end_date, satd_keywords)"
      ],
      "metadata": {
        "id": "v7xlt8Yuw1o6",
        "outputId": "7af88fc8-d71c-43dc-a8fe-1e7d6d43b4d6",
        "colab": {
          "base_uri": "https://localhost:8080/"
        }
      },
      "execution_count": 41,
      "outputs": [
        {
          "output_type": "stream",
          "name": "stdout",
          "text": [
            "Aguarde...\n"
          ]
        },
        {
          "output_type": "stream",
          "name": "stderr",
          "text": [
            "Progress commit analysis: 100%|██████████| 1197/1197 [00:16<00:00, 71.74it/s]\n"
          ]
        }
      ]
    },
    {
      "cell_type": "code",
      "source": [
        "cont = 0\n",
        "for k,v in dict_commit_diffs.items():\n",
        "  print(f'k: {k}, v: {v}')\n",
        "  if cont == 5:\n",
        "    break\n",
        "  cont += 1"
      ],
      "metadata": {
        "colab": {
          "base_uri": "https://localhost:8080/"
        },
        "id": "USWfzz3hme_P",
        "outputId": "d75cf8f1-d6c0-4ec1-a9a1-a1f7e7d8e2b1"
      },
      "execution_count": 42,
      "outputs": [
        {
          "output_type": "stream",
          "name": "stdout",
          "text": [
            "k: 0a1e900a0a042f78d7d5d6625bc98b84eb463e69, v: (['clean', 'clean', 'clean', 'clean', 'clean', 'clean', 'clean', 'clean', 'clean', 'clean', 'clean', 'clean', 'clean', 'clean', 'clean', 'clean', 'clean', 'clean', 'clean'], ['         * reclaiming too, and it could cause problems to the memtable cleaner algorithm if reclaiming', ' * The cleaner is used by {@link MemtableCleanerThread} in order to reclaim space from memtables, normally', '     * This is a function that schedules a cleaning task, normally flushing of the largest sstable.', '     * the cleaner was able to execute the cleaning operation or if another thread concurrently executed', '     * the same clean operation. If no operation was even attempted, for example because no memtable was', '     * The future will complete with an error if the cleaning operation encounters an error.', '        /** This is incremented when a cleaner is invoked and decremented when a cleaner has completed */', '            // if the cleaning job was scheduled (res == true) or had an error, trigger again after decrementing the tasks', '        // wait for a bit because the cleaner latch completes before the pending tasks are decremented', '        // start the thread with needsCleaning returning false, the cleaner should not be invoked', '        // now invoke the cleaner', '        // now complete the cleaning task', '        // start the thread with needsCleaning returning true, the cleaner should be invoked', '        // complete the cleaning task with an error, no other cleaning task should be invoked', '        // now trigger cleaning again and verify that a new task is invoked', '        //  complete the cleaning task with false (nothing should be scheduled)', '        // now trigger cleaning again and verify that a new task is invoked', '            // allocate normal, check accounted and not cleaned', '            // let the cleaner run, it will release 80 bytes'])\n",
            "k: 2d80e9904b46474b3a7cc135690c27511a234713, v: (['fix'], ['        // Second, try and alter the keyspace.  Before the bug was fixed, this would fail as the check includes'])\n",
            "k: 6665fc29b33abcc26aad4cecbfee88225b0a7225, v: (['clean'], [' * The {@link #update()} method will apply the changes, cleaning the previous token metadata info. It will also'])\n",
            "k: 5c84ed9ae8227e550630768a47fef7b2d1f1f1d7, v: (['clean', 'clean'], ['        // clean shutdown should fail session1 & notify coordinator', '        // clean shutdown above should make startup send no messages;'])\n",
            "k: c591978f4d265e42d0132418005ba63a99278c75, v: (['clean'], ['            // clean up the gossip states'])\n",
            "k: 866844743ec3cd23451b0158a7841a026e2e68d6, v: (['fix'], [' * Throw IOE in AbstractType.writeValue if value has wrong fixed length (CASSANDRA-16500)'])\n"
          ]
        }
      ]
    },
    {
      "cell_type": "markdown",
      "source": [
        "# 5. Analyzes Jira issues"
      ],
      "metadata": {
        "id": "Lh5UFJKus6HC"
      }
    },
    {
      "cell_type": "markdown",
      "source": [
        "## 5.1 Configures the instance, project and date range"
      ],
      "metadata": {
        "id": "hqknjfqes90o"
      }
    },
    {
      "cell_type": "code",
      "source": [
        "# Initialize the Jira connection\n",
        "print('Initialize the Jira connection')\n",
        "jira = JIRA(JIRA_SERVER, basic_auth=(username, password))\n",
        "\n",
        "# Create a JiraUtils instance\n",
        "print('Create a JiraUtils instance')\n",
        "jira_utils = JiraUtils('CASSANDRA', jira)\n",
        "\n",
        "# Define date intervals\n",
        "print('Define date intervals')\n",
        "date1 = (2023, 1, 1)\n",
        "date2 = (2023, 9, 1)\n",
        "distance = 120"
      ],
      "metadata": {
        "colab": {
          "base_uri": "https://localhost:8080/"
        },
        "id": "2-79eijynnYl",
        "outputId": "6c7ce458-6727-4963-d648-56839f645503"
      },
      "execution_count": 24,
      "outputs": [
        {
          "output_type": "stream",
          "name": "stdout",
          "text": [
            "Initialize the Jira connection\n",
            "Create a JiraUtils instance\n",
            "Define date intervals\n"
          ]
        }
      ]
    },
    {
      "cell_type": "markdown",
      "source": [
        "## 5.2 Retrieves all configuration issues"
      ],
      "metadata": {
        "id": "Kv7dJ49ytGSr"
      }
    },
    {
      "cell_type": "code",
      "source": [
        "# Fetch issues using date intervals\n",
        "print('Fetch issues using date intervals')\n",
        "block_of_issues = jira_utils.get_list_of_block_issues_by_dates(date1, date2, distance)"
      ],
      "metadata": {
        "colab": {
          "base_uri": "https://localhost:8080/"
        },
        "id": "pxepGnGcn9OS",
        "outputId": "21df6219-2a5c-499a-ad82-a9bb8f0aae24"
      },
      "execution_count": 25,
      "outputs": [
        {
          "output_type": "stream",
          "name": "stdout",
          "text": [
            "Fetch issues using date intervals\n",
            "Aguarde...\n"
          ]
        },
        {
          "output_type": "stream",
          "name": "stderr",
          "text": [
            "Progress Message Analysis:  33%|███▎      | 1/3 [00:04<00:08,  4.34s/it]"
          ]
        },
        {
          "output_type": "stream",
          "name": "stdout",
          "text": [
            "Range: project=CASSANDRA and created>=\"2023/01/01\" and created<=\"2023/04/30\", qtd issues: 360\n"
          ]
        },
        {
          "output_type": "stream",
          "name": "stderr",
          "text": [
            "Progress Message Analysis:  67%|██████▋   | 2/3 [00:07<00:03,  3.91s/it]"
          ]
        },
        {
          "output_type": "stream",
          "name": "stdout",
          "text": [
            "Range: project=CASSANDRA and created>=\"2023/05/01\" and created<=\"2023/08/28\", qtd issues: 309\n"
          ]
        },
        {
          "output_type": "stream",
          "name": "stderr",
          "text": [
            "Progress Message Analysis: 100%|██████████| 3/3 [00:09<00:00,  3.00s/it]"
          ]
        },
        {
          "output_type": "stream",
          "name": "stdout",
          "text": [
            "Range: project=CASSANDRA and created>=\"2023/08/29\" and created<=\"2023/12/26\", qtd issues: 96\n",
            "2023-10-01 19:45:03.609761\n",
            "Tempo da consulta: 0:00:09.012483\n"
          ]
        },
        {
          "output_type": "stream",
          "name": "stderr",
          "text": [
            "\n"
          ]
        }
      ]
    },
    {
      "cell_type": "code",
      "source": [
        "# Concatenate the block of issues into a single list\n",
        "print('Concatenate the block of issues into a single list')\n",
        "all_issues = jira_utils.concatenate_block_of_issues(block_of_issues)"
      ],
      "metadata": {
        "colab": {
          "base_uri": "https://localhost:8080/"
        },
        "id": "YVq-slncn_Kz",
        "outputId": "59c453f4-ca62-40d5-81f8-efe959238be1"
      },
      "execution_count": 27,
      "outputs": [
        {
          "output_type": "stream",
          "name": "stdout",
          "text": [
            "Concatenate the block of issues into a single list\n",
            "Total de issues recuperados: 765\n"
          ]
        }
      ]
    },
    {
      "cell_type": "markdown",
      "source": [
        "## 5.3 Filter SATD issues"
      ],
      "metadata": {
        "id": "-f3NxVlgtdij"
      }
    },
    {
      "cell_type": "code",
      "source": [
        "project = 'CASSANDRA'\n",
        "satd_keywords = {'TODO', 'FIXME', 'refactor', 'hack', 'workaround', 'technical debt', 'cleanup', 'clean', 'fix'}\n",
        "\n",
        "# Fetch 'all_issues' from your Jira server\n",
        "\n",
        "# Call the function to analyze Jira issues for SATD\n",
        "satd_issues = analyze_jira_issues_for_satd(project, satd_keywords, all_issues)"
      ],
      "metadata": {
        "id": "ITbZm0v7qOKi",
        "outputId": "244832a5-0c64-47bf-bf14-e8f3ba6026f8",
        "colab": {
          "base_uri": "https://localhost:8080/"
        }
      },
      "execution_count": 35,
      "outputs": [
        {
          "output_type": "stream",
          "name": "stderr",
          "text": [
            "Progress jira issues analysis: 100%|██████████| 765/765 [00:00<00:00, 22502.74it/s]\n"
          ]
        }
      ]
    },
    {
      "cell_type": "code",
      "source": [
        "for i,each in enumerate(satd_issues.get_issues()):\n",
        "  print(i+1, each)"
      ],
      "metadata": {
        "id": "zRhczSnEzXTD",
        "outputId": "0e132985-84bf-4964-e9b9-0b7fb356d5e7",
        "colab": {
          "base_uri": "https://localhost:8080/"
        }
      },
      "execution_count": 36,
      "outputs": [
        {
          "output_type": "stream",
          "name": "stdout",
          "text": [
            "1 Key: CASSANDRA-18487, Summary: MappedByteBufferIndexInputProvider can better throw UndeclaredThrowableException, Type: Bug, Status: Resolved\n",
            "2 Key: CASSANDRA-18486, Summary: LeveledCompactionStrategy does not check its constructor, Type: Bug, Status: Resolved\n",
            "3 Key: CASSANDRA-18485, Summary: CEP-15: (C*) Enhance in-memory FileSystem to work with mmap and support tests to add custom logic, Type: Improvement, Status: Resolved\n",
            "4 Key: CASSANDRA-18484, Summary: FunctionCall can throw more specific exceptions, Type: Bug, Status: Open\n",
            "5 Key: CASSANDRA-18482, Summary: Test Failure: HintsDisabledTest.testHintedHandoffDisabled, Type: Improvement, Status: Resolved\n",
            "6 Key: CASSANDRA-18479, Summary: Add basic text tokenisation and analysis, Type: Improvement, Status: Resolved\n",
            "7 Key: CASSANDRA-18476, Summary: NativeTransportEncryptionOptionsTest fails with ant testsome, passes in intellij, Type: Bug, Status: Resolved\n",
            "8 Key: CASSANDRA-18474, Summary: Incremental repairs fail on mixed IPv4/v6 addresses serializing SyncRequest, Type: Improvement, Status: Resolved\n",
            "9 Key: CASSANDRA-18472, Summary: Docker images can no longer be built due to virtualenv from pip, Type: Bug, Status: Resolved\n",
            "10 Key: CASSANDRA-18471, Summary: CEP-15 Accord: NotWitnessed commands can receive an invalidate promise but would return Zero instead, Type: Bug, Status: Resolved\n",
            "11 Key: CASSANDRA-18467, Summary: Update generate-idea-files for J17, Type: Task, Status: Resolved\n",
            "12 Key: CASSANDRA-18466, Summary: Paxos only repair is treated as an incremental repair, Type: Bug, Status: Resolved\n",
            "13 Key: CASSANDRA-18464, Summary: Enable Direct I/O For CommitLog Files, Type: New Feature, Status: Review In Progress\n",
            "14 Key: CASSANDRA-18455, Summary: Test failure: test_putget – dtest.putget_test.TestPutGet, Type: Bug, Status: Resolved\n",
            "15 Key: CASSANDRA-18453, Summary: Use WithProperties to ensure that system properties are handled, Type: Task, Status: Resolved\n",
            "16 Key: CASSANDRA-18449, Summary: Integer(int), Long(long), Float(double) were deprecated in JDK9, Type: Improvement, Status: Resolved\n",
            "17 Key: CASSANDRA-18448, Summary: Missing \"SSTable Count\" metric  when using nodetool with \"--format\" option, Type: Bug, Status: Resolved\n",
            "18 Key: CASSANDRA-18443, Summary: Deadlock updating sstable metadata if disk boundaries need reloading, Type: Improvement, Status: Resolved\n",
            "19 Key: CASSANDRA-18441, Summary: Improvements to SSTable format configuration, Type: Improvement, Status: Resolved\n",
            "20 Key: CASSANDRA-18439, Summary: Revert some accesses to internals after CASSANDRA-18329 lands, Type: Task, Status: Resolved\n",
            "21 Key: CASSANDRA-18438, Summary: Refactor cloud snitches to get rid of duplicate code, Type: Improvement, Status: Resolved\n",
            "22 Key: CASSANDRA-18436, Summary: Unit tests in org.apache.cassandra.cql3.EmptyValuesTest class occasionally failing with JDK17, Type: Bug, Status: Resolved\n",
            "23 Key: CASSANDRA-18431, Summary: Cassandra doesn't start on JDK17, Type: Bug, Status: Resolved\n",
            "24 Key: CASSANDRA-18430, Summary: When decommissioning should set Severity to limit traffic, Type: Improvement, Status: Resolved\n",
            "25 Key: CASSANDRA-18428, Summary: Implement/override equals and hashCode methods in the ServerEncryptionOptions class, Type: Improvement, Status: Resolved\n",
            "26 Key: CASSANDRA-18426, Summary: Test failure: pdtest: dtest-upgrade.upgrade_tests.cql_tests.TestCQLNodes2RF1_Upgrade_current_2_1_x_To_indev_3_11_x.test_clustering_order_and_functions, Type: Bug, Status: Open\n",
            "27 Key: CASSANDRA-18425, Summary: Test failure: utest: org.apache.cassandra.db.RepairedDataTombstonesTest.readTestPartitionTombstones-.jdk11, Type: Bug, Status: Resolved\n",
            "28 Key: CASSANDRA-18423, Summary: Test failure: org.apache.cassandra.io.sstable.indexsummary.IndexSummaryTest.testLargeIndexSummary, Type: Bug, Status: Resolved\n",
            "29 Key: CASSANDRA-18405, Summary: CEP-21 Various fixes to schema related in-jvm dtests, Type: Task, Status: Resolved\n",
            "30 Key: CASSANDRA-18401, Summary: Investigate preloading ccm repositories in the docker image, Type: Improvement, Status: Resolved\n",
            "31 Key: CASSANDRA-18400, Summary: Nodetool info should report on the new networking cache, Type: Improvement, Status: Resolved\n",
            "32 Key: CASSANDRA-18399, Summary: Add simple helper script for commiting a change to multiple branches, Type: Task, Status: Patch Available\n",
            "33 Key: CASSANDRA-18398, Summary: CEP-25: Trie-indexed SSTable format, Type: Improvement, Status: Resolved\n",
            "34 Key: CASSANDRA-18396, Summary: Dtests marked with @ported_to_in_jvm can be skipped since 4.1, Type: Improvement, Status: Resolved\n",
            "35 Key: CASSANDRA-18393, Summary: Flaky test: org.apache.cassandra.cql3.validation.operations.InsertUpdateIfConditionTest.testConditionalUpdate[1: clusterMinVersion=3.11]-compression.jdk1.8 on trunk, Type: Bug, Status: Resolved\n",
            "36 Key: CASSANDRA-18391, Summary: consistent timeout: dtest-upgrade.upgrade_tests.cql_tests.cls.test_cql3_non_compound_range_tombstones on trunk, Type: Bug, Status: Resolved\n",
            "37 Key: CASSANDRA-18389, Summary: jackson-core-2.13.2.jar vulnerability: CVE-2022-45688, Type: Bug, Status: Resolved\n",
            "38 Key: CASSANDRA-18388, Summary: Potential loop in RebufferingInputStream.read(), Type: Bug, Status: Triage Needed\n",
            "39 Key: CASSANDRA-18387, Summary: Fix build script for shaded jvm-dtest JAR, Type: Bug, Status: Review In Progress\n",
            "40 Key: CASSANDRA-18386, Summary: SelectStatement.asCQL fails with IndexOutOfBoundsException, Type: Bug, Status: In Progress\n",
            "41 Key: CASSANDRA-18378, Summary: CEP-15 (Accord) accord.messages.Defer rejects Recurrent retry of Commit, Type: Bug, Status: Resolved\n",
            "42 Key: CASSANDRA-18377, Summary: CEP-15 (Accord) AsyncOperation can not fail as it has already reached FINISHED, Type: Bug, Status: Resolved\n",
            "43 Key: CASSANDRA-18372, Summary: A link to the pull request can be attached to the JIRA issue as soon as the PR is raised, Type: Task, Status: Resolved\n",
            "44 Key: CASSANDRA-18370, Summary: BulkLoader tool initializes schema unnecessarily via streaming - 4.0, Type: Bug, Status: Resolved\n",
            "45 Key: CASSANDRA-18366, Summary: Test failure: org.apache.cassandra.distributed.test.FailingRepairTest - testFailingMessage[VALIDATION_REQ/parallel/true], Type: Bug, Status: Resolved\n",
            "46 Key: CASSANDRA-18364, Summary: CEP-15: (C*) Accord message processing should avoid being passed on to a Stage and run directly in the messageing handler, Type: Improvement, Status: Resolved\n",
            "47 Key: CASSANDRA-18361, Summary: Test Failure: secondary_indexes_test.py::TestSecondaryIndexes::test_failing_manual_rebuild_index, Type: Bug, Status: Review In Progress\n",
            "48 Key: CASSANDRA-18359, Summary: NullPointerException on SnapshotLoader.loadSnapshots, Type: Bug, Status: Resolved\n",
            "49 Key: CASSANDRA-18356, Summary: Cassandra Debian Repository is not available and will be redirected to landing.jfrog.com, Type: Task, Status: Resolved\n",
            "50 Key: CASSANDRA-18355, Summary: CEP-15: Transaction Result Serialization Efficiency, Type: Improvement, Status: In Progress\n",
            "51 Key: CASSANDRA-18353, Summary: Cqlsh command \"COPY … TO STDOUT\" fails with \"… object is not callable\", Type: Bug, Status: Resolved\n",
            "52 Key: CASSANDRA-18352, Summary: Add Option to Timebox write timestamps, Type: New Feature, Status: Resolved\n",
            "53 Key: CASSANDRA-18345, Summary: Enable streaming SAI components as part of repair, Type: Improvement, Status: Resolved\n",
            "54 Key: CASSANDRA-18343, Summary: JDK17 - fix nodetool_test.TestNodetool.test_sjk, Type: Bug, Status: Resolved\n",
            "55 Key: CASSANDRA-18339, Summary: Cassandra 3.11.2 windows remote share as data files directory , Type: Bug, Status: Open\n",
            "56 Key: CASSANDRA-18335, Summary: Push LocalSessions info logs to debug, Type: Improvement, Status: Open\n",
            "57 Key: CASSANDRA-18332, Summary: Backport CASSANDRA-17205 to 4.0 branch (strong ref leak), Type: Bug, Status: Resolved\n",
            "58 Key: CASSANDRA-18329, Summary: Upgrade jamm; fix eclipse problems, Type: Task, Status: Resolved\n",
            "59 Key: CASSANDRA-18328, Summary: Remove deprecated CQL functions dateof and unixtimestampof, Type: Task, Status: Resolved\n",
            "60 Key: CASSANDRA-18326, Summary: Debian package repository misconfiguration, Type: Bug, Status: Resolved\n",
            "61 Key: CASSANDRA-18325, Summary: Test failure: dtest.bootstrap_test.TestBootstrap.test_cleanup, Type: Bug, Status: Open\n",
            "62 Key: CASSANDRA-18323, Summary: Remove org.apache.cassandra.hadoop code, Type: Task, Status: Resolved\n",
            "63 Key: CASSANDRA-18322, Summary: Warn about unqualified prepared statement only if it is a select, update, delete, insert, Type: Bug, Status: Review In Progress\n",
            "64 Key: CASSANDRA-18320, Summary: Incompatible file system thrown while running Simulator, Type: Bug, Status: Resolved\n",
            "65 Key: CASSANDRA-18319, Summary: Cassandra in Kubernetes: IP switch decommission issue, Type: Bug, Status: Open\n",
            "66 Key: CASSANDRA-18317, Summary: Properly synchronize CQLSSTableWriter#build on the Schema.instance, Type: Bug, Status: Review In Progress\n",
            "67 Key: CASSANDRA-18314, Summary: Lift MessagingService.minimum_version to 40, Type: Task, Status: Resolved\n",
            "68 Key: CASSANDRA-18313, Summary: Remove legacy 3.x buffer pool metrics, Type: Task, Status: Resolved\n",
            "69 Key: CASSANDRA-18312, Summary: Drop support for sstable formats before `na`, Type: Task, Status: Triage Needed\n",
            "70 Key: CASSANDRA-18310, Summary: Cassandra start up with ERROR of sstable_formats, Type: Bug, Status: Resolved\n",
            "71 Key: CASSANDRA-18308, Summary: Fix broken sstableverify dtest, Type: Bug, Status: Resolved\n",
            "72 Key: CASSANDRA-18306, Summary: Post 4.x Clean up, Type: Epic, Status: Triage Needed\n",
            "73 Key: CASSANDRA-18305, Summary: Enhance nodetool compactionstats with existing MBean metrics, Type: Improvement, Status: Resolved\n",
            "74 Key: CASSANDRA-18304, Summary: hinted_handoff_enabled=false is not honored, Type: Bug, Status: Resolved\n",
            "75 Key: CASSANDRA-18302, Summary: Fix AIOOBE and improve validation messages for transaction statements, Type: Improvement, Status: Resolved\n",
            "76 Key: CASSANDRA-18298, Summary: Remove WaitingOnFreeMemtableSpace metric, Type: Task, Status: Resolved\n",
            "77 Key: CASSANDRA-18294, Summary: die disk failure policy will not kill jvm as documented, Type: Bug, Status: Resolved\n",
            "78 Key: CASSANDRA-18293, Summary: Remove JAVA8_HOME and JAVA11_HOME from circle configs, Type: Task, Status: Resolved\n",
            "79 Key: CASSANDRA-18292, Summary: Gossip stateMapOrdering does not have correct ordering when both EndpointState are in the bootstrapping set, Type: Bug, Status: Resolved\n",
            "80 Key: CASSANDRA-18291, Summary: Too early schema version change in system local table, Type: Bug, Status: Resolved\n",
            "81 Key: CASSANDRA-18290, Summary: Test Failure: SecondaryIndexTest.testUpdatesToMemtableData, Type: Bug, Status: Open\n",
            "82 Key: CASSANDRA-18289, Summary: Test Failure: sslnodetonode_test.TestNodeToNodeSSLEncryption.test_ssl_client_auth_required_fail, Type: Bug, Status: Resolved\n",
            "83 Key: CASSANDRA-18288, Summary: Test Failure: TopPartitionsTest.basicRegularTombstonesTest, Type: Bug, Status: Resolved\n",
            "84 Key: CASSANDRA-18287, Summary: Test Failure: InsertUpdateIfConditionTest.testMultiExistConditionOnSameRowClustering, Type: Bug, Status: Resolved\n",
            "85 Key: CASSANDRA-18286, Summary: Test Failure: TTLTest.testCapWarnExpirationOverflowPolicy negative deletion and expiry value, Type: Bug, Status: Open\n",
            "86 Key: CASSANDRA-18285, Summary: [CircleCI] Add JDK 11 Java and Python upgrade tests in trunk, Type: Task, Status: Resolved\n",
            "87 Key: CASSANDRA-18283, Summary: Enhance diagnostic nodetool tablestats output, Type: Improvement, Status: Resolved\n",
            "88 Key: CASSANDRA-18282, Summary: Exception message for RTBoundValidator, Type: Bug, Status: Open\n",
            "89 Key: CASSANDRA-18278, Summary: Add a tool to clean  redundant data for native secondary index , Type: Improvement, Status: Open\n",
            "90 Key: CASSANDRA-18277, Summary: Move the IntelliJ Idea code style and inspections configuration to the project's root .idea directory, Type: Task, Status: Open\n",
            "91 Key: CASSANDRA-18276, Summary: Paxos read throws TimeoutException instead of retrying when contending with writes when it could retry, Type: Bug, Status: Triage Needed\n",
            "92 Key: CASSANDRA-18270, Summary: ssl-factory demo in examples is broken, Type: Bug, Status: Resolved\n",
            "93 Key: CASSANDRA-18268, Summary: Add more logging around CompactionManager operations, Type: Improvement, Status: Resolved\n",
            "94 Key: CASSANDRA-18265, Summary: dtest.client_request_metrics_test.TestClientRequestMetrics.test_client_request_metrics , Type: Bug, Status: Resolved\n",
            "95 Key: CASSANDRA-18264, Summary: CustomClassLoader does not load jars rendering triggers from JARs broken, Type: Bug, Status: Resolved\n",
            "96 Key: CASSANDRA-18262, Summary: Switch checkstyle running only with JDK8 to be run with JDK11, Type: Task, Status: Resolved\n",
            "97 Key: CASSANDRA-18260, Summary: Add details to Error message: Not enough space for compaction , Type: Improvement, Status: Resolved\n",
            "98 Key: CASSANDRA-18258, Summary: Add test conf for JDK17, Type: Task, Status: Resolved\n",
            "99 Key: CASSANDRA-18255, Summary: Drop JDK8 Support, Type: Task, Status: Resolved\n",
            "100 Key: CASSANDRA-18254, Summary: sstabledump for secondary index sstable error, Type: Bug, Status: Open\n",
            "101 Key: CASSANDRA-18253, Summary: Test Failures: dtest repair_tests.repair_test.TestRepair.test_simple_sequential_repair , Type: Bug, Status: Resolved\n",
            "102 Key: CASSANDRA-18252, Summary: Remove Scripted UDFs from trunk to enable easier JDK17 testing on current trunk, Type: Task, Status: Resolved\n",
            "103 Key: CASSANDRA-18249, Summary: Docker image for releases, Type: Task, Status: Resolved\n",
            "104 Key: CASSANDRA-18248, Summary: Consider avoiding streams on query building, Type: Improvement, Status: Triage Needed\n",
            "105 Key: CASSANDRA-18247, Summary: Add CircleCI config files for J11+J17, Type: Task, Status: Resolved\n",
            "106 Key: CASSANDRA-18246, Summary: Test Failures: org.apache.cassandra.cql3.validation.operations.TTLTest.testCapNoWarnExpirationOverflowPolicy, Type: Bug, Status: Triage Needed\n",
            "107 Key: CASSANDRA-18245, Summary: Test Failures:  org.apache.cassandra.db.compaction.CompactionsTest.testDontPurgeAccidentally , Type: Bug, Status: Triage Needed\n",
            "108 Key: CASSANDRA-18244, Summary: Improve documentation about releases, Type: Task, Status: Resolved\n",
            "109 Key: CASSANDRA-18242, Summary: Split and order IDEA workspace template VM_PARAMETERS, Type: Improvement, Status: Resolved\n",
            "110 Key: CASSANDRA-18240, Summary: Using SELECT COUNT(*) FROM... LIMIT 1 in the returning section results in ClassCastException, Type: Bug, Status: Resolved\n",
            "111 Key: CASSANDRA-18239, Summary: Replace eclipse warnings based static code analysis with something better (CheckerFramework), Type: Task, Status: Review In Progress\n",
            "112 Key: CASSANDRA-18228, Summary: Reorganize Apache C* docs in trunk branch to match the IA, Type: New Feature, Status: Resolved\n",
            "113 Key: CASSANDRA-18225, Summary: CEP-15: (C*) Accord adds a accord.messages.Defer which isn't supported for persisting, causing the operation to fail, Type: Bug, Status: Resolved\n",
            "114 Key: CASSANDRA-18224, Summary: CEP-15 (C*) No commandsForKey in context for key PartitionKey, Type: Bug, Status: Resolved\n",
            "115 Key: CASSANDRA-18223, Summary: Byteman rule in stop_data_reads.btm cannot compile against accord.messages.ReplyContext, Type: Bug, Status: Resolved\n",
            "116 Key: CASSANDRA-18219, Summary: Warning message on aggregation queries doesn't specify table name or aggregate type, Type: Improvement, Status: Resolved\n",
            "117 Key: CASSANDRA-18217, Summary: Allow CQL queries on multiple indexes without ALLOW FILTERING, Type: Improvement, Status: Resolved\n",
            "118 Key: CASSANDRA-18215, Summary: Fix the output of FQL dump tool to properly separate entries, Type: Bug, Status: Resolved\n",
            "119 Key: CASSANDRA-18212, Summary: Reduce memory allocations of calls to ByteBufer.duplicate() made in org.apache.cassandra.transport.CBUtil#writeValue, Type: Improvement, Status: Resolved\n",
            "120 Key: CASSANDRA-18211, Summary:  NoSuchFileException when removing a snapshot, Type: Bug, Status: Resolved\n",
            "121 Key: CASSANDRA-18207, Summary: Nodetool documentation not working, Type: Bug, Status: Resolved\n",
            "122 Key: CASSANDRA-18204, Summary: CEP-15: (C*) Add git submodule for Accord, Type: Task, Status: Resolved\n",
            "123 Key: CASSANDRA-18202, Summary: MessagingService should be able deliver local messages (messages to self) without using a network interface., Type: Improvement, Status: Triage Needed\n",
            "124 Key: CASSANDRA-18200, Summary: Cassandra messaging to self changed behavior, Type: Bug, Status: Resolved\n",
            "125 Key: CASSANDRA-18198, Summary: \"AttributeError: module 'py' has no attribute 'io'\" reported in multiple tests, Type: Bug, Status: Resolved\n",
            "126 Key: CASSANDRA-18196, Summary: Initial Merge of Accord Feature Branch to Trunk, Type: Task, Status: In Progress\n",
            "127 Key: CASSANDRA-18194, Summary: PaxosPrepare may add instances to the Electorate that are not in gossip, Type: Bug, Status: Resolved\n",
            "128 Key: CASSANDRA-18192, Summary: Accord - refactor transaction state storage, Type: Improvement, Status: Resolved\n",
            "129 Key: CASSANDRA-18190, Summary: ECJ upgrade, Type: Task, Status: Resolved\n",
            "130 Key: CASSANDRA-18189, Summary: Test failure: cqlsh_tests.test_cqlsh_copy.TestCqlshCopy.test_bulk_round_trip_with_timeouts, Type: Bug, Status: Open\n",
            "131 Key: CASSANDRA-18184, Summary: 'Maximum memory usage reached' chunk cache log message doesn't specify which cache is exhausted, Type: Bug, Status: Resolved\n",
            "132 Key: CASSANDRA-18183, Summary: rat targets do not adhere to build.dir property, Type: Bug, Status: Resolved\n",
            "133 Key: CASSANDRA-18181, Summary: Fix tests post JDK-8210522 (rewrite reflection of \"modifiers\" field), Type: Bug, Status: Resolved\n",
            "134 Key: CASSANDRA-18180, Summary: bulkLoaderSuccessfullyStreamsOverSsl fails with ClassCastException on JDK17, Type: Bug, Status: Resolved\n",
            "135 Key: CASSANDRA-18179, Summary: Update build.xml for experimental JDK17 use, Type: Task, Status: Resolved\n",
            "136 Key: CASSANDRA-18178, Summary: BLOG - Summit 2023 Agenda Announced, Type: Task, Status: Resolved\n",
            "137 Key: CASSANDRA-18177, Summary: Support AbstractCompositeType with toJSONString method, Type: New Feature, Status: Open\n",
            "138 Key: CASSANDRA-18176, Summary: Merged SSTable files not reclaimed by OS, Type: Bug, Status: Resolved\n",
            "139 Key: CASSANDRA-18169, Summary: Warning at startup in 3.11.11 or above version of Cassandra, Type: Bug, Status: Resolved\n",
            "140 Key: CASSANDRA-18164, Summary: Test Failure: CASTest Message serializedSize(12) does not match what was written with serialize(out, 12) for verb PAXOS2_COMMIT_AND_PREPARE_RSP, Type: Bug, Status: Resolved\n",
            "141 Key: CASSANDRA-18155, Summary: Coordinator level metrics for read response and mutation row and column counts, Type: Improvement, Status: Resolved\n",
            "142 Key: CASSANDRA-18153, Summary: Memtable being flushed without hostId in version \"me\" and newer during CommitLogReplay, Type: Bug, Status: Resolved\n",
            "143 Key: CASSANDRA-18152, Summary: mockito-inline causes tests to fail beacause o.a.c.distributed.mock.nodetool.InternalNodeProbe spies on StorageServiceMBean, Type: Bug, Status: Resolved\n",
            "144 Key: CASSANDRA-18144, Summary: org.apache.cassandra.db.compaction.CompactionStrategyManagerBoundaryReloadTest.testReload fails when running with TrieMemtables, Type: Bug, Status: Resolved\n",
            "145 Key: CASSANDRA-18141, Summary: Cqlsh incorrectly formats duration, Type: Bug, Status: Resolved\n",
            "146 Key: CASSANDRA-18137, Summary: Repeatable ci-cassandra.a.o , Type: Epic, Status: Open\n",
            "147 Key: CASSANDRA-18136, Summary: Upgrade maven-shade-plugin to fix shaded dtest JAR build, Type: Bug, Status: Resolved\n",
            "148 Key: CASSANDRA-18134, Summary: Improve handling of min/max clustering in sstable, Type: Improvement, Status: Resolved\n",
            "149 Key: CASSANDRA-18133, Summary: In-tree build scripts, Type: Task, Status: Resolved\n",
            "150 Key: CASSANDRA-18131, Summary: LongBTreeTest times out after btree improvements from CASSANDRA-15510, Type: Bug, Status: Resolved\n",
            "151 Key: CASSANDRA-18795, Summary: Compaction purger doesn't handle seeing random slices of state correctly, Type: Bug, Status: Triage Needed\n",
            "152 Key: CASSANDRA-18793, Summary: Fix or remove nodetool compaction completion time estimate, Type: Bug, Status: Open\n",
            "153 Key: CASSANDRA-18792, Summary: Test failure: transient_replication_ring_test.py::TestTransientReplicationRing::test_move_forwards_between_and_cleanup, Type: Bug, Status: Resolved\n",
            "154 Key: CASSANDRA-18791, Summary: CEP-21 - Multiple TCM fixes for issues discovered by unit, integration and simulation testing, Type: Improvement, Status: Resolved\n",
            "155 Key: CASSANDRA-18790, Summary: Fix spelling errors in the documentation for DDM, Type: Bug, Status: Resolved\n",
            "156 Key: CASSANDRA-18789, Summary: Update commons-lang3 to 3.13.0, Type: Task, Status: Resolved\n",
            "157 Key: CASSANDRA-18788, Summary: BLOG - Town Hall Replay: Time Series Data Modeling for Massive Scale, Type: Task, Status: Resolved\n",
            "158 Key: CASSANDRA-18784, Summary: CEP-15: Accord - reduce command deps, Type: Improvement, Status: Patch Available\n",
            "159 Key: CASSANDRA-18781, Summary: Add the ability to disable bulk loading of SSTables on a node, Type: Improvement, Status: Resolved\n",
            "160 Key: CASSANDRA-18780, Summary: ConnectionBurnTest fails with NullPointerException, Type: Bug, Status: Patch Available\n",
            "161 Key: CASSANDRA-18778, Summary: Empty keystore_password no longer allowed on encryption_options, Type: Bug, Status: Resolved\n",
            "162 Key: CASSANDRA-18777, Summary: Revise unused project dependencies, Type: Task, Status: Triage Needed\n",
            "163 Key: CASSANDRA-18776, Summary: Restore accidentally deleted documentation for DDM, Type: Bug, Status: Resolved\n",
            "164 Key: CASSANDRA-18773, Summary: Compactions are slow, Type: Improvement, Status: Ready to Commit\n",
            "165 Key: CASSANDRA-18771, Summary: Cassandra 4.0.5 nodes fails to start when replacing dead node, Type: Bug, Status: Triage Needed\n",
            "166 Key: CASSANDRA-18767, Summary: tablestats should show speculative retries, Type: Bug, Status: Resolved\n",
            "167 Key: CASSANDRA-18763, Summary: BLOG - Town Hall Replay: Bad Partition Handling & Large Language Models, Type: Task, Status: Resolved\n",
            "168 Key: CASSANDRA-18760, Summary: Backport CASSANDRA-16905 to older branches, Type: Bug, Status: Resolved\n",
            "169 Key: CASSANDRA-18758, Summary: Detect token-ownership mismatch, Type: Improvement, Status: Triage Needed\n",
            "170 Key: CASSANDRA-18756, Summary: TimeWindowCompactionStrategy with unsafe_aggressive_sstable_expiration keeps overlaping SSTable references, Type: Bug, Status: Resolved\n",
            "171 Key: CASSANDRA-18752, Summary: Deal with commented assertion in UFTest#testSchemaChange, Type: Bug, Status: Resolved\n",
            "172 Key: CASSANDRA-18750, Summary: Make unit tests compatible with the tmp.dir property, Type: Improvement, Status: Resolved\n",
            "173 Key: CASSANDRA-18748, Summary: Transient disk failure could incur snapshot repair block forever, Type: Bug, Status: Open\n",
            "174 Key: CASSANDRA-18744, Summary: cassandra-stress in simplenative mode and prepared fails with exceptions, Type: Bug, Status: Open\n",
            "175 Key: CASSANDRA-18743, Summary: Remove dependency on archived project metrics-reporter-config, Type: Improvement, Status: Resolved\n",
            "176 Key: CASSANDRA-18742, Summary: Remove deprecated options in CompressionParams, Type: Task, Status: Resolved\n",
            "177 Key: CASSANDRA-18740, Summary: Fix compilation warning in RandomSchemaTest, Type: Bug, Status: Resolved\n",
            "178 Key: CASSANDRA-18739, Summary: UDF functions fail to load on rolling restart, Type: Bug, Status: Resolved\n",
            "179 Key: CASSANDRA-18738, Summary: Update the How to Commit page after CASSANDRA-18618, Type: Task, Status: Resolved\n",
            "180 Key: CASSANDRA-18737, Summary: Test failure: org.apache.cassandra.io.sstable.SSTableLoaderTest (testLoadingIncompleteSSTable-.jdk17), Type: Bug, Status: Resolved\n",
            "181 Key: CASSANDRA-18733, Summary: Waiting indefinitely on ReceivedMessage response in StreamSession#receive() can cause deadlock, Type: Bug, Status: Resolved\n",
            "182 Key: CASSANDRA-18728, Summary: [Transient Bug] Incorrect ByteBuffer representation of ColumnIdentifiers when 3.11.16 loading legacy data from 2.x, Type: Bug, Status: Open\n",
            "183 Key: CASSANDRA-18727, Summary: JMXUtil.getJmxConnector should retry connection attempts , Type: Improvement, Status: Resolved\n",
            "184 Key: CASSANDRA-18726, Summary: Simplify helptopics.py using associative array, Type: Task, Status: Resolved\n",
            "185 Key: CASSANDRA-18725, Summary: IsolatedJMX should not release all TCPEndpoints on instance shutdown, Type: Improvement, Status: Resolved\n",
            "186 Key: CASSANDRA-18722, Summary: Support Dynamic Port Allocation for in-jvm dtest framework, Type: Improvement, Status: Resolved\n",
            "187 Key: CASSANDRA-18720, Summary: BLOG - Town Hall Replay: Monitoring Apache Cassandra Without Implementation, Type: Task, Status: Resolved\n",
            "188 Key: CASSANDRA-18718, Summary: Fix gen-doc task, Type: Bug, Status: In Progress\n",
            "189 Key: CASSANDRA-18717, Summary: Fix errors or remove ant javadoc task, Type: Bug, Status: Changes Suggested\n",
            "190 Key: CASSANDRA-18715, Summary: Add support for vector search in SAI, Type: Improvement, Status: Patch Available\n",
            "191 Key: CASSANDRA-18713, Summary: Fix / align ConfigCompatabilityTest, Type: Task, Status: Resolved\n",
            "192 Key: CASSANDRA-18712, Summary: Update Chronicle bytes, Type: Task, Status: Open\n",
            "193 Key: CASSANDRA-18710, Summary: Test failure: org.apache.cassandra.io.DiskSpaceMetricsTest.testFlushSize-.jdk17 (from org.apache.cassandra.io.DiskSpaceMetricsTest-.jdk17), Type: Bug, Status: Open\n",
            "194 Key: CASSANDRA-18709, Summary: Test failure: dtest.jmx_test.TestJMX.test_compactionstats, Type: Bug, Status: Resolved\n",
            "195 Key: CASSANDRA-18708, Summary: Test failure: org.apache.cassandra.tools.StandaloneSplitterWithCQLTesterTest.testNoSnapshotOption-.jdk17, Type: Bug, Status: Resolved\n",
            "196 Key: CASSANDRA-18707, Summary: Test failure: junit.framework.TestSuite.org.apache.cassandra.distributed.test.CASMultiDCTest-.jdk11 , Type: Bug, Status: Review In Progress\n",
            "197 Key: CASSANDRA-18706, Summary: Test failure: org.apache.cassandra.cql3.ViewTest.testIgnoreUpdate-compression.jdk11 (from org.apache.cassandra.cql3.ViewTest-compression.jdk11), Type: Bug, Status: Resolved\n",
            "198 Key: CASSANDRA-18705, Summary: Create release branch cassandra-5.0, Type: Task, Status: Resolved\n",
            "199 Key: CASSANDRA-18704, Summary: Test Failure: HandshakeTest.testOutboundConnectionfFallbackDuringUpgrades ClassCastException: Established ->  Disconnected, Type: Bug, Status: Resolved\n",
            "200 Key: CASSANDRA-18703, Summary: Test failure: SSTablesSystemViewTest#testVirtualTableThroughIndexLifeCycle, Type: Bug, Status: Resolved\n",
            "201 Key: CASSANDRA-18697, Summary: Skip ColumnFamilyStore#topPartitions initialization when client or tool mode, Type: Bug, Status: Resolved\n",
            "202 Key: CASSANDRA-18696, Summary: Update JMH, Type: Task, Status: Resolved\n",
            "203 Key: CASSANDRA-18690, Summary: Fix the way we produce a DTest jar, Type: Bug, Status: Resolved\n",
            "204 Key: CASSANDRA-18688, Summary: Limit Java runtime in 5.0 to JDK 11 and 17 in scripts; add a flag to opt out of that, Type: Task, Status: Review In Progress\n",
            "205 Key: CASSANDRA-18686, Summary: Test failure: test_move_backwards_and_cleanup, Type: Bug, Status: Resolved\n",
            "206 Key: CASSANDRA-18684, Summary: [Analytics] Minor Refactoring to Improve Code Reusability, Type: Improvement, Status: Resolved\n",
            "207 Key: CASSANDRA-18682, Summary: Create TLA+ spec of Accord, Type: Task, Status: In Progress\n",
            "208 Key: CASSANDRA-18681, Summary: Internode legacy SSL storage port certificate is not hot reloaded on update, Type: Bug, Status: Resolved\n",
            "209 Key: CASSANDRA-18679, Summary: Attempted NTS creation logs even on failure, Type: Bug, Status: Resolved\n",
            "210 Key: CASSANDRA-18676, Summary: CorruptedSSTablesCompactionsTest is flaky, Type: Bug, Status: Resolved\n",
            "211 Key: CASSANDRA-18675, Summary: (Accord): C* stores keyspace in Range which will cause ranges to be removed from Accord when DROP KEYSPACE is performed, Type: Bug, Status: Open\n",
            "212 Key: CASSANDRA-18673, Summary: Reduce size of per-SSTable index components, Type: Improvement, Status: Resolved\n",
            "213 Key: CASSANDRA-18672, Summary: Bump snakeyaml from 1.26 to 2.0, Type: New Feature, Status: Resolved\n",
            "214 Key: CASSANDRA-18670, Summary: Importer should build SSTable indexes successfully before making new SSTables readable, Type: Bug, Status: Resolved\n",
            "215 Key: CASSANDRA-18665, Summary: Update jenkins groovy dsl to use in-tree scripts, Type: Task, Status: In Progress\n",
            "216 Key: CASSANDRA-18660, Summary: transient_replication_ring_test.py::TestTransientReplicationRing::test_bootstrap_and_cleanup, Type: Bug, Status: Resolved\n",
            "217 Key: CASSANDRA-18658, Summary: Microbench tests fail on JDK11, Type: Bug, Status: Resolved\n",
            "218 Key: CASSANDRA-18656, Summary: Secondary indexes either violate consistency or become unavailable when post-streaming index builds fail, Type: Bug, Status: Open\n",
            "219 Key: CASSANDRA-18655, Summary: Unfinalise AbstractVirtualTable.select(..) for downstream patches, Type: Improvement, Status: Patch Available\n",
            "220 Key: CASSANDRA-18654, Summary: Make publishing to https://pypi.org/project/cqlsh/ part of Cassandra core, Type: Improvement, Status: Triage Needed\n",
            "221 Key: CASSANDRA-18652, Summary: Improve vector value validation errors, Type: Improvement, Status: Resolved\n",
            "222 Key: CASSANDRA-18651, Summary: When starting up after a failed repair was detected Cassandra should clean up automatically, Type: Improvement, Status: Triage Needed\n",
            "223 Key: CASSANDRA-18650, Summary: Upgrade owasp to 8.3.1, Type: Bug, Status: Resolved\n",
            "224 Key: CASSANDRA-18648, Summary: Improved DeletionTime serialization, Type: Improvement, Status: Resolved\n",
            "225 Key: CASSANDRA-18647, Summary: CASTing a float to decimal adds wrong digits, Type: Bug, Status: Resolved\n",
            "226 Key: CASSANDRA-18645, Summary: Upgrade guava on trunk, Type: Task, Status: Resolved\n",
            "227 Key: CASSANDRA-18642, Summary: cqlsh on Cassandra 4.1.2 fails on Amazon Linux , Type: Bug, Status: Open\n",
            "228 Key: CASSANDRA-18639, Summary: Add duration to sstablemetadata utility, Type: Improvement, Status: Resolved\n",
            "229 Key: CASSANDRA-18636, Summary: AssertionError: Unknown keyspace after dropping a keyspace, Type: Bug, Status: Triage Needed\n",
            "230 Key: CASSANDRA-18629, Summary: BLOG - Clarify wording on 3.x EOL post, Type: Task, Status: Resolved\n",
            "231 Key: CASSANDRA-18627, Summary: Tidy up vestigial code left over after CASSANDRA-17931, Type: Bug, Status: In Progress\n",
            "232 Key: CASSANDRA-18626, Summary: compaction_tombstone_warning_threshold and compaction_large_partition_warning_threshold cause deprecation warnings, Type: Bug, Status: Resolved\n",
            "233 Key: CASSANDRA-18625, Summary: Testing required to test upgrade and downgrade completeness, Type: Improvement, Status: Triage Needed\n",
            "234 Key: CASSANDRA-18624, Summary: Make Corretto Crypto Provider the Default, Type: Improvement, Status: Resolved\n",
            "235 Key: CASSANDRA-18618, Summary: Update tasks configuration to run checks locally when requested, Type: Task, Status: Resolved\n",
            "236 Key: CASSANDRA-18617, Summary: Disable the deprecated keyspace/table thresholds and convert them to Guardrails, Type: Improvement, Status: Resolved\n",
            "237 Key: CASSANDRA-18616, Summary: Simulator Java 17 support, Type: Task, Status: Patch Available\n",
            "238 Key: CASSANDRA-18615, Summary: CREATE INDEX Modifications for Initial Release of SAI, Type: Improvement, Status: Resolved\n",
            "239 Key: CASSANDRA-18613, Summary: Add support for vectors on UDFs, Type: New Feature, Status: Resolved\n",
            "240 Key: CASSANDRA-18611, Summary: java-driver donation, Type: Task, Status: In Progress\n",
            "241 Key: CASSANDRA-18606, Summary: Fix cross-refs in trunk - incorrect syntax, no components, Type: Task, Status: Resolved\n",
            "242 Key: CASSANDRA-18603, Summary: Move checkstyle files into .build, Type: Task, Status: Resolved\n",
            "243 Key: CASSANDRA-18601, Summary: Repair vtable uses number of records rather than memory limits, which can cause more memory allocated than expected, Type: Improvement, Status: In Progress\n",
            "244 Key: CASSANDRA-18600, Summary: [Analytics] Add NOTICE.txt in Cassandra Analytics , Type: Task, Status: Resolved\n",
            "245 Key: CASSANDRA-18599, Summary: Cassandra Analytics - Upgrade to use JUnit 5, Type: Improvement, Status: Resolved\n",
            "246 Key: CASSANDRA-18596, Summary: Assertion error when describing mv as table, Type: Bug, Status: Resolved\n",
            "247 Key: CASSANDRA-18595, Summary: Dropped table causes node to get stuck in JOINING, Type: Improvement, Status: Triage Needed\n",
            "248 Key: CASSANDRA-18591, Summary: assertion failure when reading after writes and column drop are executed in parallel, Type: Bug, Status: Open\n",
            "249 Key: CASSANDRA-18590, Summary: Introduce IndexTermType to replace TypeUtils in SAI, Type: Improvement, Status: Triage Needed\n",
            "250 Key: CASSANDRA-18589, Summary: NPE during reads after complex column drop, Type: Bug, Status: Open\n",
            "251 Key: CASSANDRA-18588, Summary: Slow builds due to checkstyle, Type: Improvement, Status: Resolved\n",
            "252 Key: CASSANDRA-18587, Summary: Align all system property names used by the project to use the 'cassandra' prefix, Type: Task, Status: Triage Needed\n",
            "253 Key: CASSANDRA-18586, Summary: CQLSH formatting output is incorrect when querying the system properties virtual table, Type: Bug, Status: Triage Needed\n",
            "254 Key: CASSANDRA-18585, Summary: Alter Type does not validate changes like Create Type does, Type: Bug, Status: Resolved\n",
            "255 Key: CASSANDRA-18583, Summary: Fix shutting down IsolatedJmx , Type: Bug, Status: Resolved\n",
            "256 Key: CASSANDRA-18582, Summary: BulkLoader withCipherSuites option is ignored, Type: Bug, Status: Resolved\n",
            "257 Key: CASSANDRA-18579, Summary: No link to source packages, Type: Bug, Status: Resolved\n",
            "258 Key: CASSANDRA-18572, Summary: Instance.nodetoolResult should connect to JMX if there is such feature enabled in its config, Type: Improvement, Status: Patch Available\n",
            "259 Key: CASSANDRA-18565, Summary: Test pipeline does not always copy to nightlies, Type: Bug, Status: Open\n",
            "260 Key: CASSANDRA-18564, Summary: Test Failure: MixedModeAvailabilityV30AllOneTest.testAvailabilityCoordinatorUpgraded, Type: Bug, Status: Resolved\n",
            "261 Key: CASSANDRA-18563, Summary: Convert AccordStateCache cache from write-through to write-back, Type: Improvement, Status: Resolved\n",
            "262 Key: CASSANDRA-18562, Summary: guava vulnerability CVE-2023-2976, Type: Bug, Status: Resolved\n",
            "263 Key: CASSANDRA-18560, Summary: Incorrect IP used for gossip across DCs with prefer_local=true, Type: Bug, Status: Resolved\n",
            "264 Key: CASSANDRA-18559, Summary: Upgrade to 4.1.1 fails with NullPointerException, Type: Bug, Status: Open\n",
            "265 Key: CASSANDRA-18555, Summary: Expose decommission state to nodetool info, Type: Task, Status: Resolved\n",
            "266 Key: CASSANDRA-18550, Summary: Improve nodetool enable{audit,fullquery}log, CVE-2023-30601, Type: Improvement, Status: Resolved\n",
            "267 Key: CASSANDRA-18547, Summary: Refactor cqlsh On/Off switch implementation and make the output consistent, Type: Improvement, Status: Resolved\n",
            "268 Key: CASSANDRA-18546, Summary: Remove unnecessary shuffling of GossipDigests in Gossiper#makeRandomGossipDigest, Type: Improvement, Status: Resolved\n",
            "269 Key: CASSANDRA-18544, Summary: Make cassandra-stress able to read all credentials from a file, Type: Improvement, Status: Resolved\n",
            "270 Key: CASSANDRA-18543, Summary: Waiting for gossip to settle does not wait for live endpoints, Type: Bug, Status: Resolved\n",
            "271 Key: CASSANDRA-18541, Summary: AUTH requests use too much resources, Type: Bug, Status: Resolved\n",
            "272 Key: CASSANDRA-18540, Summary: negotiatedProtocolMustBeAcceptedProtocolTest tests fail with \"TLSv1.1 failed to negotiate\" on JDK17, Type: Bug, Status: Resolved\n",
            "273 Key: CASSANDRA-18539, Summary: Fix flaky dtest: transient_replication_test.TestTransientReplicationRepairStreamEntireSSTable, Type: Bug, Status: Open\n",
            "274 Key: CASSANDRA-18536, Summary: Enable encryption of primary indexes, Type: Improvement, Status: Triage Needed\n",
            "275 Key: CASSANDRA-18529, Summary: Remove legacy command line options from cassandra-stress, Type: Improvement, Status: Resolved\n",
            "276 Key: CASSANDRA-18521, Summary: Unify CQLTester#waitForIndex and SAITester#waitForIndexQueryable, Type: Improvement, Status: Resolved\n",
            "277 Key: CASSANDRA-18517, Summary: Make Cassandra more user-friendly (admin-friendly) by cleaning up logging, Type: Improvement, Status: Triage Needed\n",
            "278 Key: CASSANDRA-18515, Summary: Optimize Initial Concurrency Selection for Range Read Algorithm During SAI Queries, Type: Improvement, Status: Resolved\n",
            "279 Key: CASSANDRA-18512, Summary: nodetool describecluster command is not showing correct Down count.  , Type: Bug, Status: Resolved\n",
            "280 Key: CASSANDRA-18511, Summary: Add support for JMX in the in-jvm dtest framework, Type: Improvement, Status: Resolved\n",
            "281 Key: CASSANDRA-18508, Summary: Sensitive JMX SSL configuration options can be easily exposed, Type: Improvement, Status: Open\n",
            "282 Key: CASSANDRA-18507, Summary: Partial compaction can resurrect deleted data, Type: Bug, Status: Resolved\n",
            "283 Key: CASSANDRA-18506, Summary: Deduplicate the MixedModeAvailability upgrade jvm-dtests, Type: Task, Status: Resolved\n",
            "284 Key: CASSANDRA-18504, Summary: Added support for type VECTOR<type, dimension>, Type: Improvement, Status: Resolved\n",
            "285 Key: CASSANDRA-18503, Summary: CircleCI java distributed tests to run in Medium containers, Type: Task, Status: Resolved\n",
            "286 Key: CASSANDRA-18499, Summary: Test Failure: upgrade_through_versions_test.py::TestUpgrade::test_rolling_upgrade_with_internode_ssl, Type: Bug, Status: Resolved\n",
            "287 Key: CASSANDRA-18493, Summary: Add LIKE prefix/suffix support to SAI, Type: Improvement, Status: Triage Needed\n",
            "288 Key: CASSANDRA-18896, Summary: ClientRequestSize metrics should not treat CONTAINS restrictions as being equality-based, Type: Improvement, Status: Open\n",
            "289 Key: CASSANDRA-18893, Summary: Upgrade hdrhistogram, Type: Task, Status: Patch Available\n",
            "290 Key: CASSANDRA-18890, Summary: Test failure: org.apache.cassandra.repair.ConcurrentIrWithPreviewFuzzTest, Type: Bug, Status: In Progress\n",
            "291 Key: CASSANDRA-18889, Summary: DDM's mask_default function should support vectors, Type: Bug, Status: Patch Available\n",
            "292 Key: CASSANDRA-18887, Summary: CEP-21 - Implement missing features and various other fixes, Type: Improvement, Status: Open\n",
            "293 Key: CASSANDRA-18886, Summary: snappy-java-1.1.10.1 vulnerability: CVE-2023-43642, Type: Bug, Status: Resolved\n",
            "294 Key: CASSANDRA-18884, Summary: Test failure: org.apache.cassandra.db.compaction.LongCompactionsTest , Type: Bug, Status: Resolved\n",
            "295 Key: CASSANDRA-18881, Summary: Test failure: org.apache.cassandra.tools.nodetool.ForceCompactionTest.forceCompactMultipleRowsTombstoneTest-.jdk11 , Type: Bug, Status: Patch Available\n",
            "296 Key: CASSANDRA-18880, Summary: Test failure: dtest-novnode.transient_replication_test.TestTransientReplicationRepairStreamEntireSSTable.test_optimized_primary_range_repair_with_lcs, Type: Bug, Status: Resolved\n",
            "297 Key: CASSANDRA-18878, Summary: Upgrade snappy java library, Type: Task, Status: Resolved\n",
            "298 Key: CASSANDRA-18877, Summary: remove bytebuddy / byteman from production classpath and remove compress-lzf dependency from build deps, Type: Task, Status: In Progress\n",
            "299 Key: CASSANDRA-18875, Summary: Upgrade the snakeyaml library version, Type: Task, Status: Open\n",
            "300 Key: CASSANDRA-18873, Summary: Fix broken JMH benchmarks, Type: Bug, Status: Triage Needed\n",
            "301 Key: CASSANDRA-18871, Summary: JMH benchmark improvements, Type: Improvement, Status: Resolved\n",
            "302 Key: CASSANDRA-18866, Summary: Node sends multiple inflight echos, Type: Improvement, Status: Patch Available\n",
            "303 Key: CASSANDRA-18864, Summary: CIDR permission cache probably does not work, Type: Bug, Status: Resolved\n",
            "304 Key: CASSANDRA-18858, Summary: AssertionError: Unknown keyspace after dropping a keyspace combined with drain operation, Type: Bug, Status: Resolved\n",
            "305 Key: CASSANDRA-18856, Summary: Test failure: rebuild_test.TestRebuild.test_resumable_rebuild, Type: Bug, Status: Resolved\n",
            "306 Key: CASSANDRA-18854, Summary: Gossip never recovers from a single failed echo, Type: Bug, Status: Resolved\n",
            "307 Key: CASSANDRA-18849, Summary: Test failure: dtest.secondary_indexes_test.TestPreJoinCallback.test_resume, Type: Bug, Status: Open\n",
            "308 Key: CASSANDRA-18848, Summary: GCInspector \"Error accessing field of java.nio.Bits\" under java17, Type: Bug, Status: Resolved\n",
            "309 Key: CASSANDRA-18845, Summary: Waiting for gossip to settle on live endpoints, Type: Improvement, Status: Triage Needed\n",
            "310 Key: CASSANDRA-18844, Summary: Cassandra 5 Debian package only runs on OpenJDK, Type: Bug, Status: Resolved\n",
            "311 Key: CASSANDRA-18841, Summary: InstanceClassLoader leak in 5.0/trunk, Type: Bug, Status: Resolved\n",
            "312 Key: CASSANDRA-18840, Summary: Leakage of references to SSTable on unsuccessful operations, Type: Bug, Status: Resolved\n",
            "313 Key: CASSANDRA-18836, Summary: Replace CRC32 w/ CRC32C in IndexFileUtils.ChecksummingWriter, Type: Improvement, Status: Open\n",
            "314 Key: CASSANDRA-18832, Summary: Add 5.0-alpha1 to cassandra-dtest upgrade_manifest.py, Type: Task, Status: Resolved\n",
            "315 Key: CASSANDRA-18824, Summary: Backport CASSANDRA-16418: Cleanup behaviour during node decommission caused missing replica, Type: Bug, Status: Review In Progress\n",
            "316 Key: CASSANDRA-18823, Summary: Cleanup behaviour during node decommission caused missing replica, Type: Bug, Status: Resolved\n",
            "317 Key: CASSANDRA-18821, Summary: org.apache.cassandra.distributed.test.guardrails.GuardrailDiskUsageTest failed with Authentication error on host /127.0.0.1:9042: Provided username cassandra and/or password are incorrect, Type: Bug, Status: Resolved\n",
            "318 Key: CASSANDRA-18819, Summary: Re-organize ordering of configuration properties in cassandra.yaml, Type: Task, Status: Triage Needed\n",
            "319 Key: CASSANDRA-18817, Summary: RPM install does not work with jdk17, Type: Bug, Status: Resolved\n",
            "320 Key: CASSANDRA-18816, Summary: Add support for repair coordinator to retry messages that timeout, Type: Improvement, Status: Resolved\n",
            "321 Key: CASSANDRA-18815, Summary: Fix dtests: replace_address_test.TestReplaceAddress.test_restart_failed_replace and others, Type: Bug, Status: Resolved\n",
            "322 Key: CASSANDRA-18813, Summary: Simplify the bind marker and Term logic, Type: Improvement, Status: Review In Progress\n",
            "323 Key: CASSANDRA-18812, Summary: Investigate and fix CVE-2023-4586, Type: Improvement, Status: Resolved\n",
            "324 Key: CASSANDRA-18807, Summary: Missing license info and headers identified in 5.0-alpha1 candidate, Type: Bug, Status: Resolved\n",
            "325 Key: CASSANDRA-18805, Summary: Upgrade caffeine to 3.1.8, Type: Task, Status: Review In Progress\n",
            "326 Key: CASSANDRA-18804, Summary: (Accord): Bug fixes from CASSANDRA-18675 to better support adding keyspaces, Type: Bug, Status: Patch Available\n",
            "327 Key: CASSANDRA-18801, Summary: rename the java doc about FlushLargestColumnFamily to flushLargestMemtable, Type: Improvement, Status: Patch Available\n"
          ]
        }
      ]
    }
  ]
}