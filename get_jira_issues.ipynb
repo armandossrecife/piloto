{
  "nbformat": 4,
  "nbformat_minor": 0,
  "metadata": {
    "colab": {
      "provenance": [],
      "authorship_tag": "ABX9TyPIc8vyY1IaI0QYt3h+CwtC",
      "include_colab_link": true
    },
    "kernelspec": {
      "name": "python3",
      "display_name": "Python 3"
    },
    "language_info": {
      "name": "python"
    }
  },
  "cells": [
    {
      "cell_type": "markdown",
      "metadata": {
        "id": "view-in-github",
        "colab_type": "text"
      },
      "source": [
        "<a href=\"https://colab.research.google.com/github/armandossrecife/piloto/blob/main/get_jira_issues.ipynb\" target=\"_parent\"><img src=\"https://colab.research.google.com/assets/colab-badge.svg\" alt=\"Open In Colab\"/></a>"
      ]
    },
    {
      "cell_type": "code",
      "execution_count": null,
      "metadata": {
        "id": "2D3rVxzrCgja"
      },
      "outputs": [],
      "source": [
        "!pip install jira"
      ]
    },
    {
      "cell_type": "code",
      "source": [
        "from jira import JIRA\n",
        "import os"
      ],
      "metadata": {
        "id": "2BCMmBuVC3JM"
      },
      "execution_count": 21,
      "outputs": []
    },
    {
      "cell_type": "code",
      "source": [
        "os.environ['USERNAME'] = '?'\n",
        "os.environ['PASSWORD'] = '?'"
      ],
      "metadata": {
        "id": "BfN0sgtiF6KS"
      },
      "execution_count": 22,
      "outputs": []
    },
    {
      "cell_type": "code",
      "source": [
        "username = os.environ.get('USERNAME')\n",
        "password = os.environ.get('PASSWORD')\n",
        "# Create a JIRA client instance\n",
        "jira = JIRA(\n",
        "    server='https://issues.apache.org/jira',  # Replace with the Cassandra JIRA server URL\n",
        "    basic_auth=(username, password),  # Replace with your JIRA credentials\n",
        ")"
      ],
      "metadata": {
        "id": "EGlA9nElD-8x"
      },
      "execution_count": 23,
      "outputs": []
    },
    {
      "cell_type": "code",
      "source": [
        "# Search for open issues in the Cassandra project\n",
        "issues = jira.search_issues('project = CASSANDRA and status=resolved',maxResults=100)\n",
        "\n",
        "for issue in issues:\n",
        "    print(f'Key: {issue.key}, Summary: {issue.fields.summary}, Status: {issue.fields.status}')"
      ],
      "metadata": {
        "colab": {
          "base_uri": "https://localhost:8080/"
        },
        "id": "woUMKkhGEgiX",
        "outputId": "1c50efb8-6d54-41dc-9b3a-8e0d752af8b1"
      },
      "execution_count": 24,
      "outputs": [
        {
          "output_type": "stream",
          "name": "stdout",
          "text": [
            "Key: CASSANDRA-18834, Summary: Testing Pubsub/QBot, Status: Resolved\n",
            "Key: CASSANDRA-18833, Summary: Testing Pubsub/QBot, Status: Resolved\n",
            "Key: CASSANDRA-18829, Summary: Fix flaky test: org.apache.cassandra.index.sai.disk.SelectiveIntersectionTest.tracingIsCorrectlyReported, Status: Resolved\n",
            "Key: CASSANDRA-18826, Summary: BLOG - Cassandra Contributor July Meeting Replay, Status: Resolved\n",
            "Key: CASSANDRA-18823, Summary: Cleanup behaviour during node decommission caused missing replica, Status: Resolved\n",
            "Key: CASSANDRA-18821, Summary: org.apache.cassandra.distributed.test.guardrails.GuardrailDiskUsageTest failed with Authentication error on host /127.0.0.1:9042: Provided username cassandra and/or password are incorrect, Status: Resolved\n",
            "Key: CASSANDRA-18818, Summary: Add cqlshrc.sample and credentials.sample into Debian package, Status: Resolved\n",
            "Key: CASSANDRA-18817, Summary: RPM install does not work with jdk17, Status: Resolved\n",
            "Key: CASSANDRA-18815, Summary: Fix dtests: replace_address_test.TestReplaceAddress.test_restart_failed_replace and others, Status: Resolved\n",
            "Key: CASSANDRA-18814, Summary: Repair hangs on Cassandra 4.0.11, Status: Resolved\n",
            "Key: CASSANDRA-18812, Summary: Investigate and fix CVE-2023-4586, Status: Resolved\n",
            "Key: CASSANDRA-18809, Summary: Fix Depends and Build-Depends for Java for Debian packages, Status: Resolved\n",
            "Key: CASSANDRA-18807, Summary: Missing license info and headers identified in 5.0-alpha1 candidate, Status: Resolved\n",
            "Key: CASSANDRA-18803, Summary: Refactor validation logic in StorageService.rebuild, Status: Resolved\n",
            "Key: CASSANDRA-18797, Summary: CircleCI: Fix BASE_BRANCH in generate.sh for cassandra-5.0, Status: Resolved\n",
            "Key: CASSANDRA-18794, Summary: Add missing features to 5.0 new features page, Status: Resolved\n",
            "Key: CASSANDRA-18791, Summary: CEP-21 - Multiple TCM fixes for issues discovered by unit, integration and simulation testing, Status: Resolved\n",
            "Key: CASSANDRA-18790, Summary: Fix spelling errors in the documentation for DDM, Status: Resolved\n",
            "Key: CASSANDRA-18789, Summary: Update commons-lang3 to 3.13.0, Status: Resolved\n",
            "Key: CASSANDRA-18788, Summary: BLOG - Town Hall Replay: Time Series Data Modeling for Massive Scale, Status: Resolved\n",
            "Key: CASSANDRA-18787, Summary: Replace obsolete Python functions, Status: Resolved\n",
            "Key: CASSANDRA-18783, Summary: CEP-15 (C*): when loading commands that have empty waiting_on, make sure not to loose the partial deps, Status: Resolved\n",
            "Key: CASSANDRA-18782, Summary: Forbid analyzed SAI indexes on primary key columns, Status: Resolved\n",
            "Key: CASSANDRA-18778, Summary: Empty keystore_password no longer allowed on encryption_options, Status: Resolved\n",
            "Key: CASSANDRA-18776, Summary: Restore accidentally deleted documentation for DDM, Status: Resolved\n",
            "Key: CASSANDRA-18774, Summary: pre-commit check for submodule does not consider remotes other than \"origin\", Status: Resolved\n",
            "Key: CASSANDRA-18772, Summary: Remove dependency on commons-codec, Status: Resolved\n",
            "Key: CASSANDRA-18769, Summary: Fix flaky test: org.apache.cassandra.cql3.MemtableSizeTest.testTruncationReleasesLogSpace, Status: Resolved\n",
            "Key: CASSANDRA-18767, Summary: tablestats should show speculative retries, Status: Resolved\n",
            "Key: CASSANDRA-18765, Summary: Add CASSANDRA-14227 to 5.0 new features page, Status: Resolved\n",
            "Key: CASSANDRA-18764, Summary: CEP-15 (C*) When a host replacement happens don't loose the peer mapping right away, Status: Resolved\n",
            "Key: CASSANDRA-18763, Summary: BLOG - Town Hall Replay: Bad Partition Handling & Large Language Models, Status: Resolved\n",
            "Key: CASSANDRA-18761, Summary: Change the logging level from WARN to INFO when invoked from \"insights\" thread (Spinning trying to capture readers), Status: Resolved\n",
            "Key: CASSANDRA-18760, Summary: Backport CASSANDRA-16905 to older branches, Status: Resolved\n",
            "Key: CASSANDRA-18755, Summary: Optimized default configuration, Status: Resolved\n",
            "Key: CASSANDRA-18754, Summary: We should offer an option for optimized default configuration, Status: Resolved\n",
            "Key: CASSANDRA-18752, Summary: Deal with commented assertion in UFTest#testSchemaChange, Status: Resolved\n",
            "Key: CASSANDRA-18751, Summary: Fix Requires for Java for RPM packages, Status: Resolved\n",
            "Key: CASSANDRA-18750, Summary: Make unit tests compatible with the tmp.dir property, Status: Resolved\n",
            "Key: CASSANDRA-18749, Summary: Expose bootstrap failure state via JMX, Status: Resolved\n",
            "Key: CASSANDRA-18745, Summary: cqlsh should warn on server version mismatch, Status: Resolved\n",
            "Key: CASSANDRA-18741, Summary: Some unit tests create a heap dump each time, Status: Resolved\n",
            "Key: CASSANDRA-18740, Summary: Fix compilation warning in RandomSchemaTest, Status: Resolved\n",
            "Key: CASSANDRA-18739, Summary: UDF functions fail to load on rolling restart, Status: Resolved\n",
            "Key: CASSANDRA-18738, Summary: Update the How to Commit page after CASSANDRA-18618, Status: Resolved\n",
            "Key: CASSANDRA-18735, Summary: Test failure: Fix Python DTests post CASSANDRA-18676, Status: Resolved\n",
            "Key: CASSANDRA-18734, Summary: SAI result retriever is filtering too many rows, Status: Resolved\n",
            "Key: CASSANDRA-18733, Summary: Waiting indefinitely on ReceivedMessage response in StreamSession#receive() can cause deadlock, Status: Resolved\n",
            "Key: CASSANDRA-18730, Summary: Add guardrail for vector dimensions, Status: Resolved\n",
            "Key: CASSANDRA-18729, Summary: Remove unnecessary Netty dependencies after upgrade to 4.1.96, Status: Resolved\n",
            "Key: CASSANDRA-18727, Summary: JMXUtil.getJmxConnector should retry connection attempts , Status: Resolved\n",
            "Key: CASSANDRA-18726, Summary: Simplify helptopics.py using associative array, Status: Resolved\n",
            "Key: CASSANDRA-18725, Summary: IsolatedJMX should not release all TCPEndpoints on instance shutdown, Status: Resolved\n",
            "Key: CASSANDRA-18724, Summary: Investigate unmatched suppressions, Status: Resolved\n",
            "Key: CASSANDRA-18723, Summary: bcprov-jdk15on-1.70.jar vulnerability: CVE-2023-33201, Status: Resolved\n",
            "Key: CASSANDRA-18722, Summary: Support Dynamic Port Allocation for in-jvm dtest framework, Status: Resolved\n",
            "Key: CASSANDRA-18721, Summary: Wildcard rat checks for files named by version, Status: Resolved\n",
            "Key: CASSANDRA-18720, Summary: BLOG - Town Hall Replay: Monitoring Apache Cassandra Without Implementation, Status: Resolved\n",
            "Key: CASSANDRA-18716, Summary: In-Memory write support for a vector search index, Status: Resolved\n",
            "Key: CASSANDRA-18713, Summary: Fix / align ConfigCompatabilityTest, Status: Resolved\n",
            "Key: CASSANDRA-18709, Summary: Test failure: dtest.jmx_test.TestJMX.test_compactionstats, Status: Resolved\n",
            "Key: CASSANDRA-18708, Summary: Test failure: org.apache.cassandra.tools.StandaloneSplitterWithCQLTesterTest.testNoSnapshotOption-.jdk17, Status: Resolved\n",
            "Key: CASSANDRA-18706, Summary: Test failure: org.apache.cassandra.cql3.ViewTest.testIgnoreUpdate-compression.jdk11 (from org.apache.cassandra.cql3.ViewTest-compression.jdk11), Status: Resolved\n",
            "Key: CASSANDRA-18705, Summary: Create release branch cassandra-5.0, Status: Resolved\n",
            "Key: CASSANDRA-18704, Summary: Test Failure: HandshakeTest.testOutboundConnectionfFallbackDuringUpgrades ClassCastException: Established ->  Disconnected, Status: Resolved\n",
            "Key: CASSANDRA-18703, Summary: Test failure: SSTablesSystemViewTest#testVirtualTableThroughIndexLifeCycle, Status: Resolved\n",
            "Key: CASSANDRA-18702, Summary: Add jmh microbenchmarks to eclipse IDE, Status: Resolved\n",
            "Key: CASSANDRA-18701, Summary: Switch Jenkins dev on trunk from J8+J11 to J11+j17, Status: Resolved\n",
            "Key: CASSANDRA-18700, Summary: Remove AssertJ annotations from the production code, Status: Resolved\n",
            "Key: CASSANDRA-18699, Summary: Python dtests upgrade tests mixed SHA runs, Status: Resolved\n",
            "Key: CASSANDRA-18698, Summary: simulator/test is not included in IntelliJ workspace, Status: Resolved\n",
            "Key: CASSANDRA-18697, Summary: Skip ColumnFamilyStore#topPartitions initialization when client or tool mode, Status: Resolved\n",
            "Key: CASSANDRA-18696, Summary: Update JMH, Status: Resolved\n",
            "Key: CASSANDRA-18695, Summary: Remove 3.x from the versions checked for prepared statement behaviour, Status: Resolved\n",
            "Key: CASSANDRA-18692, Summary: [Cassandra Analytics] Fix bulk writes with Buffered RowBufferMode , Status: Resolved\n",
            "Key: CASSANDRA-18691, Summary: generate.sh no longer works for repeated tests correctly, Status: Resolved\n",
            "Key: CASSANDRA-18690, Summary: Fix the way we produce a DTest jar, Status: Resolved\n",
            "Key: CASSANDRA-18687, Summary: Add jvmargs for Netbeans and Eclipse for JDK11 and 17, Status: Resolved\n",
            "Key: CASSANDRA-18685, Summary: Test failure: StandaloneSplitterWithCQLTesterTest/testSplittingMultipleSSTables_cdc_jdk17, Status: Resolved\n",
            "Key: CASSANDRA-18684, Summary: [Analytics] Minor Refactoring to Improve Code Reusability, Status: Resolved\n",
            "Key: CASSANDRA-18683, Summary: Expose per partition on-disk usage through new DataFrame that utilizes the Index.db SSTable file components., Status: Resolved\n",
            "Key: CASSANDRA-18679, Summary: Attempted NTS creation logs even on failure, Status: Resolved\n",
            "Key: CASSANDRA-18678, Summary: CCM does not select Java version properly, Status: Resolved\n",
            "Key: CASSANDRA-18677, Summary: BTI format's decision to preload partition index is incorrect, Status: Resolved\n",
            "Key: CASSANDRA-18676, Summary: CorruptedSSTablesCompactionsTest is flaky, Status: Resolved\n",
            "Key: CASSANDRA-18673, Summary: Reduce size of per-SSTable index components, Status: Resolved\n",
            "Key: CASSANDRA-18672, Summary: Bump snakeyaml from 1.26 to 2.0, Status: Resolved\n",
            "Key: CASSANDRA-18670, Summary: Importer should build SSTable indexes successfully before making new SSTables readable, Status: Resolved\n",
            "Key: CASSANDRA-18669, Summary: Concurrency is broken in the block balanced tree for queries, Status: Resolved\n",
            "Key: CASSANDRA-18664, Summary: Move jflex from runtime to build dependencies, Status: Resolved\n",
            "Key: CASSANDRA-18662, Summary: [Cassandra Analytics] Fix cassandra-analytics-core-example, Status: Resolved\n",
            "Key: CASSANDRA-18660, Summary: transient_replication_ring_test.py::TestTransientReplicationRing::test_bootstrap_and_cleanup, Status: Resolved\n",
            "Key: CASSANDRA-18659, Summary: Upgrade Apache Commons CLI library to 1.5.0, Status: Resolved\n",
            "Key: CASSANDRA-18658, Summary: Microbench tests fail on JDK11, Status: Resolved\n",
            "Key: CASSANDRA-18653, Summary: Avoid unnecessary index builds and validations, Status: Resolved\n",
            "Key: CASSANDRA-18652, Summary: Improve vector value validation errors, Status: Resolved\n",
            "Key: CASSANDRA-18650, Summary: Upgrade owasp to 8.3.1, Status: Resolved\n",
            "Key: CASSANDRA-18649, Summary: netty-all vulnerability: CVE-2023-34462, Status: Resolved\n",
            "Key: CASSANDRA-18648, Summary: Improved DeletionTime serialization, Status: Resolved\n",
            "Key: CASSANDRA-18647, Summary: CASTing a float to decimal adds wrong digits, Status: Resolved\n"
          ]
        }
      ]
    }
  ]
}